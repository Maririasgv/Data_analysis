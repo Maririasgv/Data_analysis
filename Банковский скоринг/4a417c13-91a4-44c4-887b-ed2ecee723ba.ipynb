{
 "cells": [
  {
   "cell_type": "markdown",
   "id": "38a7037b",
   "metadata": {
    "toc": true
   },
   "source": [
    "<h1>Анализ влияния различных факторов на надежность заемщиков банка<span class=\"tocSkip\"></span></h1>\n",
    "<div class=\"toc\"><ul class=\"toc-item\"><li><span><a href=\"#Описание-проекта\" data-toc-modified-id=\"Описание-проекта-1\"><span class=\"toc-item-num\">1&nbsp;&nbsp;</span>Описание проекта</a></span></li><li><span><a href=\"#Обзор-данных\" data-toc-modified-id=\"Обзор-данных-2\"><span class=\"toc-item-num\">2&nbsp;&nbsp;</span>Обзор данных</a></span></li><li><span><a href=\"#Предобработка-данных\" data-toc-modified-id=\"Предобработка-данных-3\"><span class=\"toc-item-num\">3&nbsp;&nbsp;</span>Предобработка данных</a></span><ul class=\"toc-item\"><li><span><a href=\"#Удаление-пропусков\" data-toc-modified-id=\"Удаление-пропусков-3.1\"><span class=\"toc-item-num\">3.1&nbsp;&nbsp;</span>Удаление пропусков</a></span></li><li><span><a href=\"#Обработка-аномальных-значений\" data-toc-modified-id=\"Обработка-аномальных-значений-3.2\"><span class=\"toc-item-num\">3.2&nbsp;&nbsp;</span>Обработка аномальных значений</a></span></li><li><span><a href=\"#Изменение-типов-данных\" data-toc-modified-id=\"Изменение-типов-данных-3.3\"><span class=\"toc-item-num\">3.3&nbsp;&nbsp;</span>Изменение типов данных</a></span></li><li><span><a href=\"#Обработка-дубликатов\" data-toc-modified-id=\"Обработка-дубликатов-3.4\"><span class=\"toc-item-num\">3.4&nbsp;&nbsp;</span>Обработка дубликатов</a></span></li><li><span><a href=\"#Категоризация-данных\" data-toc-modified-id=\"Категоризация-данных-3.5\"><span class=\"toc-item-num\">3.5&nbsp;&nbsp;</span>Категоризация данных</a></span></li></ul></li><li><span><a href=\"#Анализ-факторов\" data-toc-modified-id=\"Анализ-факторов-4\"><span class=\"toc-item-num\">4&nbsp;&nbsp;</span>Анализ факторов</a></span><ul class=\"toc-item\"><li><span><a href=\"#Влияние-количества-детей-на-возврат-кредита-в-срок\" data-toc-modified-id=\"Влияние-количества-детей-на-возврат-кредита-в-срок-4.1\"><span class=\"toc-item-num\">4.1&nbsp;&nbsp;</span>Влияние количества детей на возврат кредита в срок</a></span></li><li><span><a href=\"#Влияние-семейного-положения-на-возврат-кредита-в-срок\" data-toc-modified-id=\"Влияние-семейного-положения-на-возврат-кредита-в-срок-4.2\"><span class=\"toc-item-num\">4.2&nbsp;&nbsp;</span>Влияние семейного положения на возврат кредита в срок</a></span></li><li><span><a href=\"#Влияние-уровня-дохода-на-возврат-кредита-в-срок\" data-toc-modified-id=\"Влияние-уровня-дохода-на-возврат-кредита-в-срок-4.3\"><span class=\"toc-item-num\">4.3&nbsp;&nbsp;</span>Влияние уровня дохода на возврат кредита в срок</a></span></li><li><span><a href=\"#Влияние-цели-кредита-на-его-возврат-в-срок\" data-toc-modified-id=\"Влияние-цели-кредита-на-его-возврат-в-срок-4.4\"><span class=\"toc-item-num\">4.4&nbsp;&nbsp;</span>Влияние цели кредита на его возврат в срок</a></span></li></ul></li><li><span><a href=\"#Модель-скоринга\" data-toc-modified-id=\"Модель-скоринга-5\"><span class=\"toc-item-num\">5&nbsp;&nbsp;</span>Модель скоринга</a></span></li><li><span><a href=\"#Итог-и-рекомендации\" data-toc-modified-id=\"Итог-и-рекомендации-6\"><span class=\"toc-item-num\">6&nbsp;&nbsp;</span>Итог и рекомендации</a></span></li></ul></div>"
   ]
  },
  {
   "cell_type": "markdown",
   "id": "c9b0f3dd",
   "metadata": {},
   "source": [
    "## Описание проекта"
   ]
  },
  {
   "cell_type": "markdown",
   "id": "d7f7c6c1",
   "metadata": {},
   "source": [
    "**Область исследования**:\\\n",
    "Статистика о платёжеспособности клиентов банка-заказчика."
   ]
  },
  {
   "cell_type": "markdown",
   "id": "22dddad0",
   "metadata": {},
   "source": [
    "**Задача**:\\\n",
    "Необходимо оценить влияние семейного положения и количества детей клиента на факт погашения им кредита в срок.\\\n",
    "Результаты исследования будут учтены при построении модели кредитного скоринга — системы, которая оценивает способность потенциального заёмщика вернуть кредит банку."
   ]
  },
  {
   "cell_type": "markdown",
   "id": "04324ba1",
   "metadata": {},
   "source": [
    "**Структура данных**:\n",
    "- children — количество детей в семье\n",
    "- days_employed — общий трудовой стаж в днях\n",
    "- dob_years — возраст клиента в годах\n",
    "- education — уровень образования клиента\n",
    "- education_id — идентификатор уровня образования\n",
    "- family_status — семейное положение\n",
    "- family_status_id — идентификатор семейного положения\n",
    "- gender — пол клиента\n",
    "- income_type — тип занятости\n",
    "- debt — имел ли задолженность по возврату кредитов\n",
    "- total_income — ежемесячный доход\n",
    "- purpose — цель получения кредита"
   ]
  },
  {
   "cell_type": "markdown",
   "id": "26613308",
   "metadata": {
    "deletable": false,
    "editable": false,
    "id": "26613308"
   },
   "source": [
    "## Обзор данных"
   ]
  },
  {
   "cell_type": "code",
   "execution_count": 1,
   "id": "77a68a90",
   "metadata": {
    "ExecuteTime": {
     "end_time": "2024-12-11T12:14:04.436483Z",
     "start_time": "2024-12-11T12:14:03.601257Z"
    },
    "deletable": false,
    "id": "77a68a90"
   },
   "outputs": [],
   "source": [
    "import pandas as pd\n",
    "import matplotlib.pyplot as plt\n",
    "import seaborn as sns"
   ]
  },
  {
   "cell_type": "code",
   "execution_count": 2,
   "id": "53c7b3dbfd19fd25",
   "metadata": {
    "ExecuteTime": {
     "end_time": "2024-12-11T12:14:04.472816Z",
     "start_time": "2024-12-11T12:14:04.439627Z"
    }
   },
   "outputs": [
    {
     "data": {
      "text/html": [
       "<div>\n",
       "<style scoped>\n",
       "    .dataframe tbody tr th:only-of-type {\n",
       "        vertical-align: middle;\n",
       "    }\n",
       "\n",
       "    .dataframe tbody tr th {\n",
       "        vertical-align: top;\n",
       "    }\n",
       "\n",
       "    .dataframe thead th {\n",
       "        text-align: right;\n",
       "    }\n",
       "</style>\n",
       "<table border=\"1\" class=\"dataframe\">\n",
       "  <thead>\n",
       "    <tr style=\"text-align: right;\">\n",
       "      <th></th>\n",
       "      <th>children</th>\n",
       "      <th>days_employed</th>\n",
       "      <th>dob_years</th>\n",
       "      <th>education</th>\n",
       "      <th>education_id</th>\n",
       "      <th>family_status</th>\n",
       "      <th>family_status_id</th>\n",
       "      <th>gender</th>\n",
       "      <th>income_type</th>\n",
       "      <th>debt</th>\n",
       "      <th>total_income</th>\n",
       "      <th>purpose</th>\n",
       "    </tr>\n",
       "  </thead>\n",
       "  <tbody>\n",
       "    <tr>\n",
       "      <th>0</th>\n",
       "      <td>1</td>\n",
       "      <td>-8437.673028</td>\n",
       "      <td>42</td>\n",
       "      <td>высшее</td>\n",
       "      <td>0</td>\n",
       "      <td>женат / замужем</td>\n",
       "      <td>0</td>\n",
       "      <td>F</td>\n",
       "      <td>сотрудник</td>\n",
       "      <td>0</td>\n",
       "      <td>253875.639453</td>\n",
       "      <td>покупка жилья</td>\n",
       "    </tr>\n",
       "    <tr>\n",
       "      <th>1</th>\n",
       "      <td>1</td>\n",
       "      <td>-4024.803754</td>\n",
       "      <td>36</td>\n",
       "      <td>среднее</td>\n",
       "      <td>1</td>\n",
       "      <td>женат / замужем</td>\n",
       "      <td>0</td>\n",
       "      <td>F</td>\n",
       "      <td>сотрудник</td>\n",
       "      <td>0</td>\n",
       "      <td>112080.014102</td>\n",
       "      <td>приобретение автомобиля</td>\n",
       "    </tr>\n",
       "    <tr>\n",
       "      <th>2</th>\n",
       "      <td>0</td>\n",
       "      <td>-5623.422610</td>\n",
       "      <td>33</td>\n",
       "      <td>Среднее</td>\n",
       "      <td>1</td>\n",
       "      <td>женат / замужем</td>\n",
       "      <td>0</td>\n",
       "      <td>M</td>\n",
       "      <td>сотрудник</td>\n",
       "      <td>0</td>\n",
       "      <td>145885.952297</td>\n",
       "      <td>покупка жилья</td>\n",
       "    </tr>\n",
       "    <tr>\n",
       "      <th>3</th>\n",
       "      <td>3</td>\n",
       "      <td>-4124.747207</td>\n",
       "      <td>32</td>\n",
       "      <td>среднее</td>\n",
       "      <td>1</td>\n",
       "      <td>женат / замужем</td>\n",
       "      <td>0</td>\n",
       "      <td>M</td>\n",
       "      <td>сотрудник</td>\n",
       "      <td>0</td>\n",
       "      <td>267628.550329</td>\n",
       "      <td>дополнительное образование</td>\n",
       "    </tr>\n",
       "    <tr>\n",
       "      <th>4</th>\n",
       "      <td>0</td>\n",
       "      <td>340266.072047</td>\n",
       "      <td>53</td>\n",
       "      <td>среднее</td>\n",
       "      <td>1</td>\n",
       "      <td>гражданский брак</td>\n",
       "      <td>1</td>\n",
       "      <td>F</td>\n",
       "      <td>пенсионер</td>\n",
       "      <td>0</td>\n",
       "      <td>158616.077870</td>\n",
       "      <td>сыграть свадьбу</td>\n",
       "    </tr>\n",
       "  </tbody>\n",
       "</table>\n",
       "</div>"
      ],
      "text/plain": [
       "   children  days_employed  dob_years education  education_id  \\\n",
       "0         1   -8437.673028         42    высшее             0   \n",
       "1         1   -4024.803754         36   среднее             1   \n",
       "2         0   -5623.422610         33   Среднее             1   \n",
       "3         3   -4124.747207         32   среднее             1   \n",
       "4         0  340266.072047         53   среднее             1   \n",
       "\n",
       "      family_status  family_status_id gender income_type  debt   total_income  \\\n",
       "0   женат / замужем                 0      F   сотрудник     0  253875.639453   \n",
       "1   женат / замужем                 0      F   сотрудник     0  112080.014102   \n",
       "2   женат / замужем                 0      M   сотрудник     0  145885.952297   \n",
       "3   женат / замужем                 0      M   сотрудник     0  267628.550329   \n",
       "4  гражданский брак                 1      F   пенсионер     0  158616.077870   \n",
       "\n",
       "                      purpose  \n",
       "0               покупка жилья  \n",
       "1     приобретение автомобиля  \n",
       "2               покупка жилья  \n",
       "3  дополнительное образование  \n",
       "4             сыграть свадьбу  "
      ]
     },
     "execution_count": 2,
     "metadata": {},
     "output_type": "execute_result"
    }
   ],
   "source": [
    "try:\n",
    "    data = pd.read_csv('/datasets/data.csv')\n",
    "except:\n",
    "    data = pd.read_csv('/Users/mariiasergeeva/Desktop/data.csv')\n",
    "data.head()"
   ]
  },
  {
   "cell_type": "code",
   "execution_count": 3,
   "id": "ab3f863b",
   "metadata": {
    "ExecuteTime": {
     "end_time": "2024-12-11T12:14:04.482395Z",
     "start_time": "2024-12-11T12:14:04.476106Z"
    },
    "deletable": false,
    "id": "ab3f863b",
    "outputId": "15376089-8dad-46c9-b520-c05248d43158",
    "scrolled": true
   },
   "outputs": [
    {
     "name": "stdout",
     "output_type": "stream",
     "text": [
      "<class 'pandas.core.frame.DataFrame'>\n",
      "RangeIndex: 21525 entries, 0 to 21524\n",
      "Data columns (total 12 columns):\n",
      " #   Column            Non-Null Count  Dtype  \n",
      "---  ------            --------------  -----  \n",
      " 0   children          21525 non-null  int64  \n",
      " 1   days_employed     19351 non-null  float64\n",
      " 2   dob_years         21525 non-null  int64  \n",
      " 3   education         21525 non-null  object \n",
      " 4   education_id      21525 non-null  int64  \n",
      " 5   family_status     21525 non-null  object \n",
      " 6   family_status_id  21525 non-null  int64  \n",
      " 7   gender            21525 non-null  object \n",
      " 8   income_type       21525 non-null  object \n",
      " 9   debt              21525 non-null  int64  \n",
      " 10  total_income      19351 non-null  float64\n",
      " 11  purpose           21525 non-null  object \n",
      "dtypes: float64(2), int64(5), object(5)\n",
      "memory usage: 2.0+ MB\n"
     ]
    }
   ],
   "source": [
    "data.info()"
   ]
  },
  {
   "cell_type": "markdown",
   "id": "5916baa74a2a8e82",
   "metadata": {},
   "source": [
    "Предварительно видим, что в некоторых столбцах количество значений отличается. Это может указывать на пропуски в датасете."
   ]
  },
  {
   "cell_type": "markdown",
   "id": "1205dcd32bdd8edf",
   "metadata": {},
   "source": [
    "Дополнительно оценим разброс данных на графиках:"
   ]
  },
  {
   "cell_type": "code",
   "execution_count": 4,
   "id": "9c3ca363f0866eff",
   "metadata": {
    "ExecuteTime": {
     "end_time": "2024-12-11T12:14:04.894878Z",
     "start_time": "2024-12-11T12:14:04.484507Z"
    }
   },
   "outputs": [
    {
     "data": {
      "image/png": "[encoded data removed]",
      "text/plain": [
       "<Figure size 1500x1000 with 9 Axes>"
      ]
     },
     "metadata": {},
     "output_type": "display_data"
    }
   ],
   "source": [
    "ax = data.hist(figsize=(15, 10), bins=30, color='#789DBC')\n",
    "for axis in ax.flatten():\n",
    "    axis.tick_params(axis='x', rotation=45)\n",
    "plt.show()"
   ]
  },
  {
   "cell_type": "markdown",
   "id": "60e3e22d",
   "metadata": {
    "deletable": false,
    "editable": false,
    "id": "60e3e22d"
   },
   "source": [
    "## Предобработка данных"
   ]
  },
  {
   "cell_type": "markdown",
   "id": "03dc170c",
   "metadata": {
    "deletable": false,
    "editable": false,
    "id": "03dc170c"
   },
   "source": [
    "### Удаление пропусков"
   ]
  },
  {
   "cell_type": "markdown",
   "id": "b5b23abd",
   "metadata": {},
   "source": [
    "<a id=\"section_1\"></a>"
   ]
  },
  {
   "cell_type": "markdown",
   "id": "d11dd09c099f646",
   "metadata": {},
   "source": [
    "Оценим количество пропусков в колонках:"
   ]
  },
  {
   "cell_type": "code",
   "execution_count": 5,
   "id": "2dc372b2",
   "metadata": {
    "ExecuteTime": {
     "end_time": "2024-12-11T12:14:04.906806Z",
     "start_time": "2024-12-11T12:14:04.901263Z"
    },
    "deletable": false,
    "id": "2dc372b2",
    "outputId": "81f4d817-781c-465c-ed15-91ce4446810d",
    "scrolled": true
   },
   "outputs": [
    {
     "data": {
      "text/plain": [
       "children               0\n",
       "days_employed       2174\n",
       "dob_years              0\n",
       "education              0\n",
       "education_id           0\n",
       "family_status          0\n",
       "family_status_id       0\n",
       "gender                 0\n",
       "income_type            0\n",
       "debt                   0\n",
       "total_income        2174\n",
       "purpose                0\n",
       "dtype: int64"
      ]
     },
     "execution_count": 5,
     "metadata": {},
     "output_type": "execute_result"
    }
   ],
   "source": [
    "data.isna().sum()"
   ]
  },
  {
   "cell_type": "markdown",
   "id": "14f011b1",
   "metadata": {
    "deletable": false,
    "editable": false,
    "id": "14f011b1"
   },
   "source": [
    "В двух столбцах есть пропущенные значения. Один из них — `days_employed` и `total_income` — хранит данные о доходах.\\\n",
    "В `total_income` заполним пропуски медианным значением по каждому типу из столбца `income_type`."
   ]
  },
  {
   "cell_type": "code",
   "execution_count": 6,
   "id": "bdabfb6e",
   "metadata": {
    "ExecuteTime": {
     "end_time": "2024-12-11T12:14:04.930829Z",
     "start_time": "2024-12-11T12:14:04.912135Z"
    },
    "deletable": false,
    "id": "bdabfb6e"
   },
   "outputs": [
    {
     "data": {
      "text/plain": [
       "children               0\n",
       "days_employed       2174\n",
       "dob_years              0\n",
       "education              0\n",
       "education_id           0\n",
       "family_status          0\n",
       "family_status_id       0\n",
       "gender                 0\n",
       "income_type            0\n",
       "debt                   0\n",
       "total_income           0\n",
       "purpose                0\n",
       "dtype: int64"
      ]
     },
     "execution_count": 6,
     "metadata": {},
     "output_type": "execute_result"
    }
   ],
   "source": [
    "for t in data['income_type'].unique():\n",
    "    data.loc[(data['income_type'] == t) & (data['total_income'].isna()), 'total_income'] = \\\n",
    "    data.loc[(data['income_type'] == t), 'total_income'].median()\n",
    "data.isna().sum()"
   ]
  },
  {
   "cell_type": "markdown",
   "id": "a700b0e4",
   "metadata": {
    "deletable": false,
    "editable": false,
    "id": "a700b0e4"
   },
   "source": [
    "Заполним пропуски в столбце `days_employed` медианными значениями по каждого типа занятости `income_type`:"
   ]
  },
  {
   "cell_type": "code",
   "execution_count": 7,
   "id": "61946b83",
   "metadata": {
    "ExecuteTime": {
     "end_time": "2024-12-11T12:14:04.950481Z",
     "start_time": "2024-12-11T12:14:04.931809Z"
    },
    "deletable": false,
    "id": "61946b83",
    "scrolled": true
   },
   "outputs": [
    {
     "data": {
      "text/plain": [
       "children            0\n",
       "days_employed       0\n",
       "dob_years           0\n",
       "education           0\n",
       "education_id        0\n",
       "family_status       0\n",
       "family_status_id    0\n",
       "gender              0\n",
       "income_type         0\n",
       "debt                0\n",
       "total_income        0\n",
       "purpose             0\n",
       "dtype: int64"
      ]
     },
     "execution_count": 7,
     "metadata": {},
     "output_type": "execute_result"
    }
   ],
   "source": [
    "for t in data['income_type'].unique():\n",
    "    data.loc[(data['income_type'] == t) & (data['days_employed'].isna()),\n",
    "             'days_employed'] = data.loc[(data['income_type'] == t),\n",
    "                                         'days_employed'].median()\n",
    "\n",
    "data.isna().sum()"
   ]
  },
  {
   "cell_type": "markdown",
   "id": "5be34059",
   "metadata": {
    "deletable": false,
    "editable": false,
    "id": "5be34059"
   },
   "source": [
    "### Обработка аномальных значений"
   ]
  },
  {
   "cell_type": "markdown",
   "id": "a87606cb",
   "metadata": {
    "deletable": false,
    "editable": false,
    "id": "a87606cb"
   },
   "source": [
    "Оценим данные на аномальность значений:"
   ]
  },
  {
   "cell_type": "code",
   "execution_count": 8,
   "id": "4ea2dfd8291e2213",
   "metadata": {
    "ExecuteTime": {
     "end_time": "2024-12-11T12:14:04.961738Z",
     "start_time": "2024-12-11T12:14:04.951329Z"
    }
   },
   "outputs": [
    {
     "data": {
      "text/html": [
       "<div>\n",
       "<style scoped>\n",
       "    .dataframe tbody tr th:only-of-type {\n",
       "        vertical-align: middle;\n",
       "    }\n",
       "\n",
       "    .dataframe tbody tr th {\n",
       "        vertical-align: top;\n",
       "    }\n",
       "\n",
       "    .dataframe thead th {\n",
       "        text-align: right;\n",
       "    }\n",
       "</style>\n",
       "<table border=\"1\" class=\"dataframe\">\n",
       "  <thead>\n",
       "    <tr style=\"text-align: right;\">\n",
       "      <th></th>\n",
       "      <th>children</th>\n",
       "      <th>days_employed</th>\n",
       "      <th>dob_years</th>\n",
       "      <th>education_id</th>\n",
       "      <th>family_status_id</th>\n",
       "      <th>debt</th>\n",
       "      <th>total_income</th>\n",
       "    </tr>\n",
       "  </thead>\n",
       "  <tbody>\n",
       "    <tr>\n",
       "      <th>count</th>\n",
       "      <td>21525.000000</td>\n",
       "      <td>21525.000000</td>\n",
       "      <td>21525.000000</td>\n",
       "      <td>21525.000000</td>\n",
       "      <td>21525.000000</td>\n",
       "      <td>21525.000000</td>\n",
       "      <td>2.152500e+04</td>\n",
       "    </tr>\n",
       "    <tr>\n",
       "      <th>mean</th>\n",
       "      <td>0.538908</td>\n",
       "      <td>63550.497071</td>\n",
       "      <td>43.293380</td>\n",
       "      <td>0.817236</td>\n",
       "      <td>0.972544</td>\n",
       "      <td>0.080883</td>\n",
       "      <td>1.652253e+05</td>\n",
       "    </tr>\n",
       "    <tr>\n",
       "      <th>std</th>\n",
       "      <td>1.381587</td>\n",
       "      <td>141150.420058</td>\n",
       "      <td>12.574584</td>\n",
       "      <td>0.548138</td>\n",
       "      <td>1.420324</td>\n",
       "      <td>0.272661</td>\n",
       "      <td>9.804367e+04</td>\n",
       "    </tr>\n",
       "    <tr>\n",
       "      <th>min</th>\n",
       "      <td>-1.000000</td>\n",
       "      <td>-18388.949901</td>\n",
       "      <td>0.000000</td>\n",
       "      <td>0.000000</td>\n",
       "      <td>0.000000</td>\n",
       "      <td>0.000000</td>\n",
       "      <td>2.066726e+04</td>\n",
       "    </tr>\n",
       "    <tr>\n",
       "      <th>25%</th>\n",
       "      <td>0.000000</td>\n",
       "      <td>-2570.047544</td>\n",
       "      <td>33.000000</td>\n",
       "      <td>1.000000</td>\n",
       "      <td>0.000000</td>\n",
       "      <td>0.000000</td>\n",
       "      <td>1.077982e+05</td>\n",
       "    </tr>\n",
       "    <tr>\n",
       "      <th>50%</th>\n",
       "      <td>0.000000</td>\n",
       "      <td>-1355.683356</td>\n",
       "      <td>42.000000</td>\n",
       "      <td>1.000000</td>\n",
       "      <td>0.000000</td>\n",
       "      <td>0.000000</td>\n",
       "      <td>1.425944e+05</td>\n",
       "    </tr>\n",
       "    <tr>\n",
       "      <th>75%</th>\n",
       "      <td>1.000000</td>\n",
       "      <td>-316.240646</td>\n",
       "      <td>53.000000</td>\n",
       "      <td>1.000000</td>\n",
       "      <td>1.000000</td>\n",
       "      <td>0.000000</td>\n",
       "      <td>1.955499e+05</td>\n",
       "    </tr>\n",
       "    <tr>\n",
       "      <th>max</th>\n",
       "      <td>20.000000</td>\n",
       "      <td>401755.400475</td>\n",
       "      <td>75.000000</td>\n",
       "      <td>4.000000</td>\n",
       "      <td>4.000000</td>\n",
       "      <td>1.000000</td>\n",
       "      <td>2.265604e+06</td>\n",
       "    </tr>\n",
       "  </tbody>\n",
       "</table>\n",
       "</div>"
      ],
      "text/plain": [
       "           children  days_employed     dob_years  education_id  \\\n",
       "count  21525.000000   21525.000000  21525.000000  21525.000000   \n",
       "mean       0.538908   63550.497071     43.293380      0.817236   \n",
       "std        1.381587  141150.420058     12.574584      0.548138   \n",
       "min       -1.000000  -18388.949901      0.000000      0.000000   \n",
       "25%        0.000000   -2570.047544     33.000000      1.000000   \n",
       "50%        0.000000   -1355.683356     42.000000      1.000000   \n",
       "75%        1.000000    -316.240646     53.000000      1.000000   \n",
       "max       20.000000  401755.400475     75.000000      4.000000   \n",
       "\n",
       "       family_status_id          debt  total_income  \n",
       "count      21525.000000  21525.000000  2.152500e+04  \n",
       "mean           0.972544      0.080883  1.652253e+05  \n",
       "std            1.420324      0.272661  9.804367e+04  \n",
       "min            0.000000      0.000000  2.066726e+04  \n",
       "25%            0.000000      0.000000  1.077982e+05  \n",
       "50%            0.000000      0.000000  1.425944e+05  \n",
       "75%            1.000000      0.000000  1.955499e+05  \n",
       "max            4.000000      1.000000  2.265604e+06  "
      ]
     },
     "execution_count": 8,
     "metadata": {},
     "output_type": "execute_result"
    }
   ],
   "source": [
    "data.describe()"
   ]
  },
  {
   "cell_type": "markdown",
   "id": "62635cbd1f10b8cb",
   "metadata": {},
   "source": [
    "Видим, что в 'days_employed' есть отрицательные значения. Нормализуем их:"
   ]
  },
  {
   "cell_type": "code",
   "execution_count": 9,
   "id": "020c46cc",
   "metadata": {
    "ExecuteTime": {
     "end_time": "2024-12-11T12:14:04.973040Z",
     "start_time": "2024-12-11T12:14:04.962436Z"
    },
    "deletable": false,
    "id": "020c46cc"
   },
   "outputs": [
    {
     "data": {
      "text/html": [
       "<div>\n",
       "<style scoped>\n",
       "    .dataframe tbody tr th:only-of-type {\n",
       "        vertical-align: middle;\n",
       "    }\n",
       "\n",
       "    .dataframe tbody tr th {\n",
       "        vertical-align: top;\n",
       "    }\n",
       "\n",
       "    .dataframe thead th {\n",
       "        text-align: right;\n",
       "    }\n",
       "</style>\n",
       "<table border=\"1\" class=\"dataframe\">\n",
       "  <thead>\n",
       "    <tr style=\"text-align: right;\">\n",
       "      <th></th>\n",
       "      <th>children</th>\n",
       "      <th>days_employed</th>\n",
       "      <th>dob_years</th>\n",
       "      <th>education_id</th>\n",
       "      <th>family_status_id</th>\n",
       "      <th>debt</th>\n",
       "      <th>total_income</th>\n",
       "    </tr>\n",
       "  </thead>\n",
       "  <tbody>\n",
       "    <tr>\n",
       "      <th>count</th>\n",
       "      <td>21525.000000</td>\n",
       "      <td>21525.000000</td>\n",
       "      <td>21525.000000</td>\n",
       "      <td>21525.000000</td>\n",
       "      <td>21525.000000</td>\n",
       "      <td>21525.000000</td>\n",
       "      <td>2.152500e+04</td>\n",
       "    </tr>\n",
       "    <tr>\n",
       "      <th>mean</th>\n",
       "      <td>0.538908</td>\n",
       "      <td>67299.486032</td>\n",
       "      <td>43.293380</td>\n",
       "      <td>0.817236</td>\n",
       "      <td>0.972544</td>\n",
       "      <td>0.080883</td>\n",
       "      <td>1.652253e+05</td>\n",
       "    </tr>\n",
       "    <tr>\n",
       "      <th>std</th>\n",
       "      <td>1.381587</td>\n",
       "      <td>139401.804684</td>\n",
       "      <td>12.574584</td>\n",
       "      <td>0.548138</td>\n",
       "      <td>1.420324</td>\n",
       "      <td>0.272661</td>\n",
       "      <td>9.804367e+04</td>\n",
       "    </tr>\n",
       "    <tr>\n",
       "      <th>min</th>\n",
       "      <td>-1.000000</td>\n",
       "      <td>24.141633</td>\n",
       "      <td>0.000000</td>\n",
       "      <td>0.000000</td>\n",
       "      <td>0.000000</td>\n",
       "      <td>0.000000</td>\n",
       "      <td>2.066726e+04</td>\n",
       "    </tr>\n",
       "    <tr>\n",
       "      <th>25%</th>\n",
       "      <td>0.000000</td>\n",
       "      <td>1025.549623</td>\n",
       "      <td>33.000000</td>\n",
       "      <td>1.000000</td>\n",
       "      <td>0.000000</td>\n",
       "      <td>0.000000</td>\n",
       "      <td>1.077982e+05</td>\n",
       "    </tr>\n",
       "    <tr>\n",
       "      <th>50%</th>\n",
       "      <td>0.000000</td>\n",
       "      <td>1993.522017</td>\n",
       "      <td>42.000000</td>\n",
       "      <td>1.000000</td>\n",
       "      <td>0.000000</td>\n",
       "      <td>0.000000</td>\n",
       "      <td>1.425944e+05</td>\n",
       "    </tr>\n",
       "    <tr>\n",
       "      <th>75%</th>\n",
       "      <td>1.000000</td>\n",
       "      <td>5347.024506</td>\n",
       "      <td>53.000000</td>\n",
       "      <td>1.000000</td>\n",
       "      <td>1.000000</td>\n",
       "      <td>0.000000</td>\n",
       "      <td>1.955499e+05</td>\n",
       "    </tr>\n",
       "    <tr>\n",
       "      <th>max</th>\n",
       "      <td>20.000000</td>\n",
       "      <td>401755.400475</td>\n",
       "      <td>75.000000</td>\n",
       "      <td>4.000000</td>\n",
       "      <td>4.000000</td>\n",
       "      <td>1.000000</td>\n",
       "      <td>2.265604e+06</td>\n",
       "    </tr>\n",
       "  </tbody>\n",
       "</table>\n",
       "</div>"
      ],
      "text/plain": [
       "           children  days_employed     dob_years  education_id  \\\n",
       "count  21525.000000   21525.000000  21525.000000  21525.000000   \n",
       "mean       0.538908   67299.486032     43.293380      0.817236   \n",
       "std        1.381587  139401.804684     12.574584      0.548138   \n",
       "min       -1.000000      24.141633      0.000000      0.000000   \n",
       "25%        0.000000    1025.549623     33.000000      1.000000   \n",
       "50%        0.000000    1993.522017     42.000000      1.000000   \n",
       "75%        1.000000    5347.024506     53.000000      1.000000   \n",
       "max       20.000000  401755.400475     75.000000      4.000000   \n",
       "\n",
       "       family_status_id          debt  total_income  \n",
       "count      21525.000000  21525.000000  2.152500e+04  \n",
       "mean           0.972544      0.080883  1.652253e+05  \n",
       "std            1.420324      0.272661  9.804367e+04  \n",
       "min            0.000000      0.000000  2.066726e+04  \n",
       "25%            0.000000      0.000000  1.077982e+05  \n",
       "50%            0.000000      0.000000  1.425944e+05  \n",
       "75%            1.000000      0.000000  1.955499e+05  \n",
       "max            4.000000      1.000000  2.265604e+06  "
      ]
     },
     "execution_count": 9,
     "metadata": {},
     "output_type": "execute_result"
    }
   ],
   "source": [
    "data['days_employed'] = data['days_employed'].abs()\n",
    "data.describe()"
   ]
  },
  {
   "cell_type": "markdown",
   "id": "45538a3a",
   "metadata": {
    "deletable": false,
    "editable": false,
    "id": "45538a3a"
   },
   "source": [
    "Для каждого типа занятости выведем медианное значение трудового стажа `days_employed` в днях:"
   ]
  },
  {
   "cell_type": "code",
   "execution_count": 10,
   "id": "cd3e6328",
   "metadata": {
    "ExecuteTime": {
     "end_time": "2024-12-11T12:14:04.979485Z",
     "start_time": "2024-12-11T12:14:04.975203Z"
    },
    "deletable": false,
    "id": "cd3e6328",
    "outputId": "801ef80e-522b-4668-f34e-565af7432bcf",
    "scrolled": true
   },
   "outputs": [
    {
     "data": {
      "text/plain": [
       "income_type\n",
       "безработный        366413.652744\n",
       "в декрете            3296.759962\n",
       "госслужащий          2689.368353\n",
       "компаньон            1547.382223\n",
       "пенсионер          365213.306266\n",
       "предприниматель       520.848083\n",
       "сотрудник            1574.202821\n",
       "студент               578.751554\n",
       "Name: days_employed, dtype: float64"
      ]
     },
     "execution_count": 10,
     "metadata": {},
     "output_type": "execute_result"
    }
   ],
   "source": [
    "data.groupby('income_type')['days_employed'].agg('median')"
   ]
  },
  {
   "cell_type": "markdown",
   "id": "90c5f058",
   "metadata": {
    "deletable": false,
    "editable": false,
    "id": "90c5f058"
   },
   "source": [
    "У двух типов (безработные и пенсионеры) видим аномально большие значения. На данном этапе исправить такие значения сложно, поэтому пока оставим их как есть."
   ]
  },
  {
   "cell_type": "markdown",
   "id": "9652e50d",
   "metadata": {
    "deletable": false,
    "editable": false,
    "id": "9652e50d"
   },
   "source": [
    "Выведем перечень уникальных значений столбца `children`:"
   ]
  },
  {
   "cell_type": "code",
   "execution_count": 11,
   "id": "dbb37b8e",
   "metadata": {
    "ExecuteTime": {
     "end_time": "2024-12-11T12:14:04.982632Z",
     "start_time": "2024-12-11T12:14:04.980284Z"
    },
    "deletable": false,
    "id": "dbb37b8e",
    "outputId": "6975b15c-7f95-4697-d16d-a0c79b657b03"
   },
   "outputs": [
    {
     "data": {
      "text/plain": [
       "array([ 1,  0,  3,  2, -1,  4, 20,  5])"
      ]
     },
     "execution_count": 11,
     "metadata": {},
     "output_type": "execute_result"
    }
   ],
   "source": [
    "data['children'].unique()"
   ]
  },
  {
   "cell_type": "markdown",
   "id": "b32f17c02fb55f92",
   "metadata": {},
   "source": [
    "Видим аномальные значения: -1 и 20. Удалим строки, где встречаются эти значения:"
   ]
  },
  {
   "cell_type": "code",
   "execution_count": 12,
   "id": "20009df8",
   "metadata": {
    "ExecuteTime": {
     "end_time": "2024-12-11T12:14:04.987211Z",
     "start_time": "2024-12-11T12:14:04.983530Z"
    },
    "deletable": false,
    "id": "20009df8"
   },
   "outputs": [
    {
     "data": {
      "text/plain": [
       "array([1, 0, 3, 2, 4, 5])"
      ]
     },
     "execution_count": 12,
     "metadata": {},
     "output_type": "execute_result"
    }
   ],
   "source": [
    "data = data[(data['children'] != -1) & (data['children'] != 20)]\n",
    "data['children'].unique()"
   ]
  },
  {
   "cell_type": "markdown",
   "id": "d522e295",
   "metadata": {
    "deletable": false,
    "editable": false,
    "id": "d522e295"
   },
   "source": [
    "### Изменение типов данных"
   ]
  },
  {
   "cell_type": "markdown",
   "id": "c229c581",
   "metadata": {
    "deletable": false,
    "editable": false,
    "id": "c229c581"
   },
   "source": [
    "Заменим вещественный тип данных в столбце `total_income` на целочисленный с помощью метода `astype()`:"
   ]
  },
  {
   "cell_type": "code",
   "execution_count": 13,
   "id": "31036462",
   "metadata": {
    "ExecuteTime": {
     "end_time": "2024-12-11T12:14:04.994208Z",
     "start_time": "2024-12-11T12:14:04.987908Z"
    },
    "deletable": false,
    "id": "31036462"
   },
   "outputs": [
    {
     "name": "stdout",
     "output_type": "stream",
     "text": [
      "<class 'pandas.core.frame.DataFrame'>\n",
      "Index: 21402 entries, 0 to 21524\n",
      "Data columns (total 12 columns):\n",
      " #   Column            Non-Null Count  Dtype  \n",
      "---  ------            --------------  -----  \n",
      " 0   children          21402 non-null  int64  \n",
      " 1   days_employed     21402 non-null  float64\n",
      " 2   dob_years         21402 non-null  int64  \n",
      " 3   education         21402 non-null  object \n",
      " 4   education_id      21402 non-null  int64  \n",
      " 5   family_status     21402 non-null  object \n",
      " 6   family_status_id  21402 non-null  int64  \n",
      " 7   gender            21402 non-null  object \n",
      " 8   income_type       21402 non-null  object \n",
      " 9   debt              21402 non-null  int64  \n",
      " 10  total_income      21402 non-null  int64  \n",
      " 11  purpose           21402 non-null  object \n",
      "dtypes: float64(1), int64(6), object(5)\n",
      "memory usage: 2.1+ MB\n"
     ]
    }
   ],
   "source": [
    "data['total_income'] = data['total_income'].astype(int)\n",
    "data.info()"
   ]
  },
  {
   "cell_type": "markdown",
   "id": "b8e3d1d9",
   "metadata": {
    "deletable": false,
    "editable": false,
    "id": "b8e3d1d9"
   },
   "source": [
    "### Обработка дубликатов"
   ]
  },
  {
   "cell_type": "markdown",
   "id": "01d4500e",
   "metadata": {
    "deletable": false,
    "editable": false,
    "id": "01d4500e"
   },
   "source": [
    "Оценим количество строк-дубликатов:"
   ]
  },
  {
   "cell_type": "code",
   "execution_count": 14,
   "id": "e10efb23",
   "metadata": {
    "ExecuteTime": {
     "end_time": "2024-12-11T12:14:05.002704Z",
     "start_time": "2024-12-11T12:14:04.994939Z"
    },
    "deletable": false,
    "id": "e10efb23",
    "outputId": "9684deba-1934-42d1-99e1-cda61740f822"
   },
   "outputs": [
    {
     "data": {
      "text/plain": [
       "54"
      ]
     },
     "execution_count": 14,
     "metadata": {},
     "output_type": "execute_result"
    }
   ],
   "source": [
    "data.duplicated().sum()"
   ]
  },
  {
   "cell_type": "markdown",
   "id": "f2b37d5b4c216b31",
   "metadata": {},
   "source": [
    "Удалим и проверим снова:"
   ]
  },
  {
   "cell_type": "code",
   "execution_count": 15,
   "id": "df853f20",
   "metadata": {
    "ExecuteTime": {
     "end_time": "2024-12-11T12:14:05.018346Z",
     "start_time": "2024-12-11T12:14:05.003321Z"
    },
    "deletable": false,
    "id": "df853f20"
   },
   "outputs": [
    {
     "data": {
      "text/plain": [
       "0"
      ]
     },
     "execution_count": 15,
     "metadata": {},
     "output_type": "execute_result"
    }
   ],
   "source": [
    "data = data.drop_duplicates()\n",
    "data.duplicated().sum()"
   ]
  },
  {
   "cell_type": "markdown",
   "id": "2748e1c952cb4d06",
   "metadata": {},
   "source": [
    "Оценим значения в столбце 'education':"
   ]
  },
  {
   "cell_type": "code",
   "execution_count": 16,
   "id": "4c726cda9c865b81",
   "metadata": {
    "ExecuteTime": {
     "end_time": "2024-12-11T12:14:05.021861Z",
     "start_time": "2024-12-11T12:14:05.019245Z"
    }
   },
   "outputs": [
    {
     "data": {
      "text/plain": [
       "array(['высшее', 'среднее', 'Среднее', 'СРЕДНЕЕ', 'ВЫСШЕЕ',\n",
       "       'неоконченное высшее', 'начальное', 'Высшее',\n",
       "       'НЕОКОНЧЕННОЕ ВЫСШЕЕ', 'Неоконченное высшее', 'НАЧАЛЬНОЕ',\n",
       "       'Начальное', 'Ученая степень', 'УЧЕНАЯ СТЕПЕНЬ', 'ученая степень'],\n",
       "      dtype=object)"
      ]
     },
     "execution_count": 16,
     "metadata": {},
     "output_type": "execute_result"
    }
   ],
   "source": [
    "data['education'].unique()"
   ]
  },
  {
   "cell_type": "markdown",
   "id": "9be53c49",
   "metadata": {
    "deletable": false,
    "editable": false,
    "id": "9be53c49"
   },
   "source": [
    "Видим дубликаты с использованием заглавных и строчных букв. Приведите их к нижнему регистру:"
   ]
  },
  {
   "cell_type": "code",
   "execution_count": 17,
   "id": "d89e73e1",
   "metadata": {
    "ExecuteTime": {
     "end_time": "2024-12-11T12:14:05.031885Z",
     "start_time": "2024-12-11T12:14:05.026349Z"
    },
    "deletable": false,
    "id": "d89e73e1"
   },
   "outputs": [
    {
     "data": {
      "text/plain": [
       "array(['высшее', 'среднее', 'неоконченное высшее', 'начальное',\n",
       "       'ученая степень'], dtype=object)"
      ]
     },
     "execution_count": 17,
     "metadata": {},
     "output_type": "execute_result"
    }
   ],
   "source": [
    "data['education'] = data['education'].str.lower()\n",
    "data['education'].unique()"
   ]
  },
  {
   "cell_type": "markdown",
   "id": "627be38f",
   "metadata": {
    "deletable": false,
    "editable": false,
    "id": "627be38f"
   },
   "source": [
    "### Категоризация данных"
   ]
  },
  {
   "cell_type": "markdown",
   "id": "4684c3e0",
   "metadata": {
    "deletable": false,
    "editable": false,
    "id": "4684c3e0"
   },
   "source": [
    "Для будущей оценки и моделирования скоринга, необходимо укрупнить выборки. На основании диапазонов, указанных ниже, создадим в нашем датафрейме столбец `total_income_category` с категориями по доходу клиентов:\n",
    "\n",
    "- 0–30000 — `'E'`;\n",
    "- 30001–50000 — `'D'`;\n",
    "- 50001–200000 — `'C'`;\n",
    "- 200001–1000000 — `'B'`;\n",
    "- 1000001 и выше — `'A'`."
   ]
  },
  {
   "cell_type": "code",
   "execution_count": 18,
   "id": "78965238",
   "metadata": {
    "ExecuteTime": {
     "end_time": "2024-12-11T12:14:05.038945Z",
     "start_time": "2024-12-11T12:14:05.032529Z"
    },
    "deletable": false,
    "id": "78965238"
   },
   "outputs": [],
   "source": [
    "def categorize_income(income):\n",
    "    try:\n",
    "        if 0 <= income <= 30000:\n",
    "            return 'E', '<= 30000'\n",
    "        elif 30001 <= income <= 50000:\n",
    "            return 'D', '30001-50000'\n",
    "        elif 50001 <= income <= 200000:\n",
    "            return 'C', '20001-50000'\n",
    "        elif 200001 <= income <= 1000000:\n",
    "            return 'B', '50001-1000000'\n",
    "        elif income >= 1000001:\n",
    "            return 'A', '>= 1000001'\n",
    "    except:\n",
    "        pass\n",
    "\n",
    "\n",
    "data['total_income_category'] = data['total_income'].apply(categorize_income)"
   ]
  },
  {
   "cell_type": "code",
   "execution_count": 19,
   "id": "6b3e46451752def1",
   "metadata": {
    "ExecuteTime": {
     "end_time": "2024-12-11T12:14:05.055619Z",
     "start_time": "2024-12-11T12:14:05.043370Z"
    }
   },
   "outputs": [
    {
     "data": {
      "text/html": [
       "<div>\n",
       "<style scoped>\n",
       "    .dataframe tbody tr th:only-of-type {\n",
       "        vertical-align: middle;\n",
       "    }\n",
       "\n",
       "    .dataframe tbody tr th {\n",
       "        vertical-align: top;\n",
       "    }\n",
       "\n",
       "    .dataframe thead th {\n",
       "        text-align: right;\n",
       "    }\n",
       "</style>\n",
       "<table border=\"1\" class=\"dataframe\">\n",
       "  <thead>\n",
       "    <tr style=\"text-align: right;\">\n",
       "      <th></th>\n",
       "      <th>children</th>\n",
       "      <th>days_employed</th>\n",
       "      <th>dob_years</th>\n",
       "      <th>education</th>\n",
       "      <th>education_id</th>\n",
       "      <th>family_status</th>\n",
       "      <th>family_status_id</th>\n",
       "      <th>gender</th>\n",
       "      <th>income_type</th>\n",
       "      <th>debt</th>\n",
       "      <th>total_income</th>\n",
       "      <th>purpose</th>\n",
       "      <th>total_income_category</th>\n",
       "    </tr>\n",
       "  </thead>\n",
       "  <tbody>\n",
       "    <tr>\n",
       "      <th>0</th>\n",
       "      <td>1</td>\n",
       "      <td>8437.673028</td>\n",
       "      <td>42</td>\n",
       "      <td>высшее</td>\n",
       "      <td>0</td>\n",
       "      <td>женат / замужем</td>\n",
       "      <td>0</td>\n",
       "      <td>F</td>\n",
       "      <td>сотрудник</td>\n",
       "      <td>0</td>\n",
       "      <td>253875</td>\n",
       "      <td>покупка жилья</td>\n",
       "      <td>(B, 50001-1000000)</td>\n",
       "    </tr>\n",
       "    <tr>\n",
       "      <th>1</th>\n",
       "      <td>1</td>\n",
       "      <td>4024.803754</td>\n",
       "      <td>36</td>\n",
       "      <td>среднее</td>\n",
       "      <td>1</td>\n",
       "      <td>женат / замужем</td>\n",
       "      <td>0</td>\n",
       "      <td>F</td>\n",
       "      <td>сотрудник</td>\n",
       "      <td>0</td>\n",
       "      <td>112080</td>\n",
       "      <td>приобретение автомобиля</td>\n",
       "      <td>(C, 20001-50000)</td>\n",
       "    </tr>\n",
       "    <tr>\n",
       "      <th>2</th>\n",
       "      <td>0</td>\n",
       "      <td>5623.422610</td>\n",
       "      <td>33</td>\n",
       "      <td>среднее</td>\n",
       "      <td>1</td>\n",
       "      <td>женат / замужем</td>\n",
       "      <td>0</td>\n",
       "      <td>M</td>\n",
       "      <td>сотрудник</td>\n",
       "      <td>0</td>\n",
       "      <td>145885</td>\n",
       "      <td>покупка жилья</td>\n",
       "      <td>(C, 20001-50000)</td>\n",
       "    </tr>\n",
       "  </tbody>\n",
       "</table>\n",
       "</div>"
      ],
      "text/plain": [
       "   children  days_employed  dob_years education  education_id  \\\n",
       "0         1    8437.673028         42    высшее             0   \n",
       "1         1    4024.803754         36   среднее             1   \n",
       "2         0    5623.422610         33   среднее             1   \n",
       "\n",
       "     family_status  family_status_id gender income_type  debt  total_income  \\\n",
       "0  женат / замужем                 0      F   сотрудник     0        253875   \n",
       "1  женат / замужем                 0      F   сотрудник     0        112080   \n",
       "2  женат / замужем                 0      M   сотрудник     0        145885   \n",
       "\n",
       "                   purpose total_income_category  \n",
       "0            покупка жилья    (B, 50001-1000000)  \n",
       "1  приобретение автомобиля      (C, 20001-50000)  \n",
       "2            покупка жилья      (C, 20001-50000)  "
      ]
     },
     "execution_count": 19,
     "metadata": {},
     "output_type": "execute_result"
    }
   ],
   "source": [
    "data.head(3)"
   ]
  },
  {
   "cell_type": "markdown",
   "id": "9917bba0",
   "metadata": {
    "deletable": false,
    "editable": false,
    "id": "9917bba0"
   },
   "source": [
    "Оценим список уникальных целей взятия кредита из столбца `purpose`:"
   ]
  },
  {
   "cell_type": "code",
   "execution_count": 20,
   "id": "ee07b65e",
   "metadata": {
    "ExecuteTime": {
     "end_time": "2024-12-11T12:14:05.060094Z",
     "start_time": "2024-12-11T12:14:05.056703Z"
    },
    "deletable": false,
    "id": "ee07b65e",
    "outputId": "673c12d9-7d7e-4ae0-9812-c622c89dd244"
   },
   "outputs": [
    {
     "data": {
      "text/plain": [
       "array(['покупка жилья', 'приобретение автомобиля',\n",
       "       'дополнительное образование', 'сыграть свадьбу',\n",
       "       'операции с жильем', 'образование', 'на проведение свадьбы',\n",
       "       'покупка жилья для семьи', 'покупка недвижимости',\n",
       "       'покупка коммерческой недвижимости', 'покупка жилой недвижимости',\n",
       "       'строительство собственной недвижимости', 'недвижимость',\n",
       "       'строительство недвижимости', 'на покупку подержанного автомобиля',\n",
       "       'на покупку своего автомобиля',\n",
       "       'операции с коммерческой недвижимостью',\n",
       "       'строительство жилой недвижимости', 'жилье',\n",
       "       'операции со своей недвижимостью', 'автомобили',\n",
       "       'заняться образованием', 'сделка с подержанным автомобилем',\n",
       "       'получение образования', 'автомобиль', 'свадьба',\n",
       "       'получение дополнительного образования', 'покупка своего жилья',\n",
       "       'операции с недвижимостью', 'получение высшего образования',\n",
       "       'свой автомобиль', 'сделка с автомобилем',\n",
       "       'профильное образование', 'высшее образование',\n",
       "       'покупка жилья для сдачи', 'на покупку автомобиля', 'ремонт жилью',\n",
       "       'заняться высшим образованием'], dtype=object)"
      ]
     },
     "execution_count": 20,
     "metadata": {},
     "output_type": "execute_result"
    }
   ],
   "source": [
    "data['purpose'].unique()"
   ]
  },
  {
   "cell_type": "markdown",
   "id": "52b79d56",
   "metadata": {
    "deletable": false,
    "editable": false,
    "id": "52b79d56"
   },
   "source": [
    "Так же укрупним их и создадим новый столбец `purpose_category`, в который войдут следующие категории:\n",
    "- `'операции с автомобилем'`,\n",
    "- `'операции с недвижимостью'`,\n",
    "- `'проведение свадьбы'`,\n",
    "- `'получение образования'`."
   ]
  },
  {
   "cell_type": "code",
   "execution_count": 21,
   "id": "be41da5d",
   "metadata": {
    "ExecuteTime": {
     "end_time": "2024-12-11T12:14:05.066449Z",
     "start_time": "2024-12-11T12:14:05.061021Z"
    },
    "deletable": false,
    "id": "be41da5d"
   },
   "outputs": [],
   "source": [
    "def categorize_purpose(row):\n",
    "    try:\n",
    "        if 'автом' in row:\n",
    "            return 'операции с автомобилем'\n",
    "        elif 'жил' in row or 'недвиж' in row:\n",
    "            return 'операции с недвижимостью'\n",
    "        elif 'свад' in row:\n",
    "            return 'проведение свадьбы'\n",
    "        elif 'образов' in row:\n",
    "            return 'получение образования'\n",
    "    except:\n",
    "        return 'нет категории'\n",
    "\n",
    "\n",
    "data['purpose_category'] = data['purpose'].apply(categorize_purpose)"
   ]
  },
  {
   "cell_type": "code",
   "execution_count": 22,
   "id": "94c4a19a",
   "metadata": {
    "ExecuteTime": {
     "end_time": "2024-12-11T12:14:05.071788Z",
     "start_time": "2024-12-11T12:14:05.067052Z"
    },
    "deletable": false,
    "id": "94c4a19a"
   },
   "outputs": [
    {
     "data": {
      "text/html": [
       "<div>\n",
       "<style scoped>\n",
       "    .dataframe tbody tr th:only-of-type {\n",
       "        vertical-align: middle;\n",
       "    }\n",
       "\n",
       "    .dataframe tbody tr th {\n",
       "        vertical-align: top;\n",
       "    }\n",
       "\n",
       "    .dataframe thead th {\n",
       "        text-align: right;\n",
       "    }\n",
       "</style>\n",
       "<table border=\"1\" class=\"dataframe\">\n",
       "  <thead>\n",
       "    <tr style=\"text-align: right;\">\n",
       "      <th></th>\n",
       "      <th>children</th>\n",
       "      <th>days_employed</th>\n",
       "      <th>dob_years</th>\n",
       "      <th>education</th>\n",
       "      <th>education_id</th>\n",
       "      <th>family_status</th>\n",
       "      <th>family_status_id</th>\n",
       "      <th>gender</th>\n",
       "      <th>income_type</th>\n",
       "      <th>debt</th>\n",
       "      <th>total_income</th>\n",
       "      <th>purpose</th>\n",
       "      <th>total_income_category</th>\n",
       "      <th>purpose_category</th>\n",
       "    </tr>\n",
       "  </thead>\n",
       "  <tbody>\n",
       "    <tr>\n",
       "      <th>0</th>\n",
       "      <td>1</td>\n",
       "      <td>8437.673028</td>\n",
       "      <td>42</td>\n",
       "      <td>высшее</td>\n",
       "      <td>0</td>\n",
       "      <td>женат / замужем</td>\n",
       "      <td>0</td>\n",
       "      <td>F</td>\n",
       "      <td>сотрудник</td>\n",
       "      <td>0</td>\n",
       "      <td>253875</td>\n",
       "      <td>покупка жилья</td>\n",
       "      <td>(B, 50001-1000000)</td>\n",
       "      <td>операции с недвижимостью</td>\n",
       "    </tr>\n",
       "    <tr>\n",
       "      <th>1</th>\n",
       "      <td>1</td>\n",
       "      <td>4024.803754</td>\n",
       "      <td>36</td>\n",
       "      <td>среднее</td>\n",
       "      <td>1</td>\n",
       "      <td>женат / замужем</td>\n",
       "      <td>0</td>\n",
       "      <td>F</td>\n",
       "      <td>сотрудник</td>\n",
       "      <td>0</td>\n",
       "      <td>112080</td>\n",
       "      <td>приобретение автомобиля</td>\n",
       "      <td>(C, 20001-50000)</td>\n",
       "      <td>операции с автомобилем</td>\n",
       "    </tr>\n",
       "    <tr>\n",
       "      <th>2</th>\n",
       "      <td>0</td>\n",
       "      <td>5623.422610</td>\n",
       "      <td>33</td>\n",
       "      <td>среднее</td>\n",
       "      <td>1</td>\n",
       "      <td>женат / замужем</td>\n",
       "      <td>0</td>\n",
       "      <td>M</td>\n",
       "      <td>сотрудник</td>\n",
       "      <td>0</td>\n",
       "      <td>145885</td>\n",
       "      <td>покупка жилья</td>\n",
       "      <td>(C, 20001-50000)</td>\n",
       "      <td>операции с недвижимостью</td>\n",
       "    </tr>\n",
       "  </tbody>\n",
       "</table>\n",
       "</div>"
      ],
      "text/plain": [
       "   children  days_employed  dob_years education  education_id  \\\n",
       "0         1    8437.673028         42    высшее             0   \n",
       "1         1    4024.803754         36   среднее             1   \n",
       "2         0    5623.422610         33   среднее             1   \n",
       "\n",
       "     family_status  family_status_id gender income_type  debt  total_income  \\\n",
       "0  женат / замужем                 0      F   сотрудник     0        253875   \n",
       "1  женат / замужем                 0      F   сотрудник     0        112080   \n",
       "2  женат / замужем                 0      M   сотрудник     0        145885   \n",
       "\n",
       "                   purpose total_income_category          purpose_category  \n",
       "0            покупка жилья    (B, 50001-1000000)  операции с недвижимостью  \n",
       "1  приобретение автомобиля      (C, 20001-50000)    операции с автомобилем  \n",
       "2            покупка жилья      (C, 20001-50000)  операции с недвижимостью  "
      ]
     },
     "execution_count": 22,
     "metadata": {},
     "output_type": "execute_result"
    }
   ],
   "source": [
    "data.head(3)"
   ]
  },
  {
   "cell_type": "markdown",
   "id": "3d596c34",
   "metadata": {
    "deletable": false,
    "editable": false,
    "id": "3d596c34"
   },
   "source": [
    "## Анализ факторов"
   ]
  },
  {
   "cell_type": "markdown",
   "id": "43217bcd3b514d7a",
   "metadata": {},
   "source": [
    "Подстрахуемся и сделаем копию нашего датафрейма:"
   ]
  },
  {
   "cell_type": "code",
   "execution_count": 23,
   "id": "7fcff25e",
   "metadata": {
    "ExecuteTime": {
     "end_time": "2024-12-11T12:14:05.076932Z",
     "start_time": "2024-12-11T12:14:05.072777Z"
    },
    "deletable": false,
    "id": "7fcff25e"
   },
   "outputs": [],
   "source": [
    "datas = data.copy()"
   ]
  },
  {
   "cell_type": "markdown",
   "id": "78f7b8e7c052529c",
   "metadata": {},
   "source": [
    "Соберем общую функцию, которую будем переиспользовать для анализа разных факторов:"
   ]
  },
  {
   "cell_type": "code",
   "execution_count": 24,
   "id": "44e430f80814a402",
   "metadata": {
    "ExecuteTime": {
     "end_time": "2024-12-11T12:14:05.079716Z",
     "start_time": "2024-12-11T12:14:05.077595Z"
    }
   },
   "outputs": [],
   "source": [
    "def analyze_debt(dataframe, group_by_column):\n",
    "    #сгруппируем данные\n",
    "    group = dataframe.groupby([group_by_column,\n",
    "                               'debt']).size().unstack(fill_value=0)\n",
    "    group.columns = ['no_debt', 'has_debt']\n",
    "    #вычислим проценты\n",
    "    group['no_debt %'] = (group['no_debt'] /\n",
    "                          (group['no_debt'] + group['has_debt'])) * 100\n",
    "    group['has_debt %'] = (group['has_debt'] /\n",
    "                           (group['no_debt'] + group['has_debt'])) * 100\n",
    "    #отсортируем по проценту отсутствия задолженности\n",
    "    group.sort_values('no_debt %', ascending=False, inplace=True)\n",
    "    #округлим значения для читабельности\n",
    "    group = round(group, 2)\n",
    "\n",
    "    return group"
   ]
  },
  {
   "cell_type": "markdown",
   "id": "648db036",
   "metadata": {
    "deletable": false,
    "editable": false,
    "id": "648db036"
   },
   "source": [
    "### Влияние количества детей на возврат кредита в срок"
   ]
  },
  {
   "cell_type": "markdown",
   "id": "ce8d2572",
   "metadata": {},
   "source": [
    "<a id=\"section_2\"></a>"
   ]
  },
  {
   "cell_type": "code",
   "execution_count": 25,
   "id": "733ea8911c450bdd",
   "metadata": {
    "ExecuteTime": {
     "end_time": "2024-12-11T12:14:05.086314Z",
     "start_time": "2024-12-11T12:14:05.080467Z"
    }
   },
   "outputs": [
    {
     "data": {
      "text/html": [
       "<div>\n",
       "<style scoped>\n",
       "    .dataframe tbody tr th:only-of-type {\n",
       "        vertical-align: middle;\n",
       "    }\n",
       "\n",
       "    .dataframe tbody tr th {\n",
       "        vertical-align: top;\n",
       "    }\n",
       "\n",
       "    .dataframe thead th {\n",
       "        text-align: right;\n",
       "    }\n",
       "</style>\n",
       "<table border=\"1\" class=\"dataframe\">\n",
       "  <thead>\n",
       "    <tr style=\"text-align: right;\">\n",
       "      <th></th>\n",
       "      <th>no_debt</th>\n",
       "      <th>has_debt</th>\n",
       "      <th>no_debt %</th>\n",
       "      <th>has_debt %</th>\n",
       "    </tr>\n",
       "    <tr>\n",
       "      <th>children</th>\n",
       "      <th></th>\n",
       "      <th></th>\n",
       "      <th></th>\n",
       "      <th></th>\n",
       "    </tr>\n",
       "  </thead>\n",
       "  <tbody>\n",
       "    <tr>\n",
       "      <th>5</th>\n",
       "      <td>9</td>\n",
       "      <td>0</td>\n",
       "      <td>100.00</td>\n",
       "      <td>0.00</td>\n",
       "    </tr>\n",
       "    <tr>\n",
       "      <th>0</th>\n",
       "      <td>13044</td>\n",
       "      <td>1063</td>\n",
       "      <td>92.46</td>\n",
       "      <td>7.54</td>\n",
       "    </tr>\n",
       "    <tr>\n",
       "      <th>3</th>\n",
       "      <td>303</td>\n",
       "      <td>27</td>\n",
       "      <td>91.82</td>\n",
       "      <td>8.18</td>\n",
       "    </tr>\n",
       "    <tr>\n",
       "      <th>1</th>\n",
       "      <td>4365</td>\n",
       "      <td>444</td>\n",
       "      <td>90.77</td>\n",
       "      <td>9.23</td>\n",
       "    </tr>\n",
       "    <tr>\n",
       "      <th>2</th>\n",
       "      <td>1858</td>\n",
       "      <td>194</td>\n",
       "      <td>90.55</td>\n",
       "      <td>9.45</td>\n",
       "    </tr>\n",
       "    <tr>\n",
       "      <th>4</th>\n",
       "      <td>37</td>\n",
       "      <td>4</td>\n",
       "      <td>90.24</td>\n",
       "      <td>9.76</td>\n",
       "    </tr>\n",
       "  </tbody>\n",
       "</table>\n",
       "</div>"
      ],
      "text/plain": [
       "          no_debt  has_debt  no_debt %  has_debt %\n",
       "children                                          \n",
       "5               9         0     100.00        0.00\n",
       "0           13044      1063      92.46        7.54\n",
       "3             303        27      91.82        8.18\n",
       "1            4365       444      90.77        9.23\n",
       "2            1858       194      90.55        9.45\n",
       "4              37         4      90.24        9.76"
      ]
     },
     "metadata": {},
     "output_type": "display_data"
    }
   ],
   "source": [
    "display(analyze_debt(datas, 'children'))"
   ]
  },
  {
   "cell_type": "code",
   "execution_count": 26,
   "id": "5527a362165d3073",
   "metadata": {
    "ExecuteTime": {
     "end_time": "2024-12-11T12:14:05.179574Z",
     "start_time": "2024-12-11T12:14:05.087584Z"
    }
   },
   "outputs": [
    {
     "data": {
      "image/png": "[encoded data removed]",
      "text/plain": [
       "<Figure size 1000x400 with 1 Axes>"
      ]
     },
     "metadata": {},
     "output_type": "display_data"
    }
   ],
   "source": [
    "# готовим данные для подсчёта кредитов в зависимости от количества детей\n",
    "data_ch = datas.groupby('children')[['children']].count()\n",
    "# применяем стиль whitegrid из библиотеки seaborn\n",
    "sns.set_style('whitegrid')\n",
    "# назначаем размер графика\n",
    "plt.figure(figsize=(10, 4))\n",
    "# строим линейный график средствами seaborn\n",
    "sns.lineplot(\n",
    "    x=data_ch.index,\n",
    "    y='children',\n",
    "    data=data_ch,\n",
    "    marker='D',\n",
    "    color='#789DBC',  # Цвет линии и маркера\n",
    "    linewidth=2       # Толщина линии\n",
    ")\n",
    "# формируем заголовок графика и подписи осей средствами matplotlib\n",
    "plt.title('Зависимость количества кредитов от количества детей')\n",
    "plt.xlabel('Количество детей')\n",
    "plt.ylabel('Количество кредитов')\n",
    "\n",
    "# отображаем график на экране\n",
    "plt.show()"
   ]
  },
  {
   "cell_type": "markdown",
   "id": "2eb9088e",
   "metadata": {
    "deletable": false,
    "id": "2eb9088e"
   },
   "source": [
    "**Вывод:**\n",
    "\n",
    "<u>Существует 2 наиболее платежеспособные группы:</u>\n",
    "- **5 детей**: самые приоритетные кандидаты на выдачу кредита. Они **всегда платят в срок**, хоть и занимают реже остальных групп.\n",
    "- **0 детей**: хоть и 7% имеют долги, но кредитов они **берут больше остальных**. А значит, банк может иметь на них **максимальную маржинальность** даже с учетом потерь.\n",
    "\n",
    "\n",
    "<u>Наименее платежеспособная группа:</u>\n",
    "- **4 детей**: кредиты **берут редко** - на больших объемах заемщиков прибыль с них не получить. **Долги отдают хуже остальных** групп. "
   ]
  },
  {
   "cell_type": "markdown",
   "id": "74c9b3a7",
   "metadata": {
    "deletable": false,
    "editable": false,
    "id": "74c9b3a7"
   },
   "source": [
    "### Влияние семейного положения на возврат кредита в срок"
   ]
  },
  {
   "cell_type": "markdown",
   "id": "dc727f84",
   "metadata": {},
   "source": [
    "<a id=\"section_3\"></a>"
   ]
  },
  {
   "cell_type": "code",
   "execution_count": 27,
   "id": "19bfcedc0a132e1d",
   "metadata": {
    "ExecuteTime": {
     "end_time": "2024-12-11T12:14:05.187730Z",
     "start_time": "2024-12-11T12:14:05.181093Z"
    }
   },
   "outputs": [
    {
     "data": {
      "text/html": [
       "<div>\n",
       "<style scoped>\n",
       "    .dataframe tbody tr th:only-of-type {\n",
       "        vertical-align: middle;\n",
       "    }\n",
       "\n",
       "    .dataframe tbody tr th {\n",
       "        vertical-align: top;\n",
       "    }\n",
       "\n",
       "    .dataframe thead th {\n",
       "        text-align: right;\n",
       "    }\n",
       "</style>\n",
       "<table border=\"1\" class=\"dataframe\">\n",
       "  <thead>\n",
       "    <tr style=\"text-align: right;\">\n",
       "      <th></th>\n",
       "      <th>no_debt</th>\n",
       "      <th>has_debt</th>\n",
       "      <th>no_debt %</th>\n",
       "      <th>has_debt %</th>\n",
       "    </tr>\n",
       "    <tr>\n",
       "      <th>family_status</th>\n",
       "      <th></th>\n",
       "      <th></th>\n",
       "      <th></th>\n",
       "      <th></th>\n",
       "    </tr>\n",
       "  </thead>\n",
       "  <tbody>\n",
       "    <tr>\n",
       "      <th>вдовец / вдова</th>\n",
       "      <td>888</td>\n",
       "      <td>63</td>\n",
       "      <td>93.38</td>\n",
       "      <td>6.62</td>\n",
       "    </tr>\n",
       "    <tr>\n",
       "      <th>в разводе</th>\n",
       "      <td>1105</td>\n",
       "      <td>84</td>\n",
       "      <td>92.94</td>\n",
       "      <td>7.06</td>\n",
       "    </tr>\n",
       "    <tr>\n",
       "      <th>женат / замужем</th>\n",
       "      <td>11339</td>\n",
       "      <td>927</td>\n",
       "      <td>92.44</td>\n",
       "      <td>7.56</td>\n",
       "    </tr>\n",
       "    <tr>\n",
       "      <th>гражданский брак</th>\n",
       "      <td>3761</td>\n",
       "      <td>385</td>\n",
       "      <td>90.71</td>\n",
       "      <td>9.29</td>\n",
       "    </tr>\n",
       "    <tr>\n",
       "      <th>Не женат / не замужем</th>\n",
       "      <td>2523</td>\n",
       "      <td>273</td>\n",
       "      <td>90.24</td>\n",
       "      <td>9.76</td>\n",
       "    </tr>\n",
       "  </tbody>\n",
       "</table>\n",
       "</div>"
      ],
      "text/plain": [
       "                       no_debt  has_debt  no_debt %  has_debt %\n",
       "family_status                                                  \n",
       "вдовец / вдова             888        63      93.38        6.62\n",
       "в разводе                 1105        84      92.94        7.06\n",
       "женат / замужем          11339       927      92.44        7.56\n",
       "гражданский брак          3761       385      90.71        9.29\n",
       "Не женат / не замужем     2523       273      90.24        9.76"
      ]
     },
     "metadata": {},
     "output_type": "display_data"
    }
   ],
   "source": [
    "display(analyze_debt(datas, 'family_status'))"
   ]
  },
  {
   "cell_type": "markdown",
   "id": "c389ca63",
   "metadata": {
    "deletable": false,
    "id": "c389ca63"
   },
   "source": [
    "**Вывод:** \n",
    "\n",
    "<u>Наиболее платежеспособная группа:</u>\n",
    "- **женат/замужем**: хоть и 7,5% имеют долги, но кредитов они **берут больше остальных**. А значит, банк может иметь на них **максимальную маржинальность** даже с учетом потерь.\n",
    "\n",
    "<u>Наименее платежеспособная группа:</u>\n",
    "- **Не женат/не замужем**: один из десяти заемщиков не возвращает деньги - это **самый высокий процент задолженностей** при среднем объёме заемщиков. \n",
    "\n",
    "Остальные группы заемщиков имеют средний приоритет при соотношении задолженность/объем кредитов. Ключевым фактором является - был/есть ли у заемщика супруг."
   ]
  },
  {
   "cell_type": "markdown",
   "id": "9529de68",
   "metadata": {
    "deletable": false,
    "editable": false,
    "id": "9529de68"
   },
   "source": [
    "### Влияние уровня дохода на возврат кредита в срок"
   ]
  },
  {
   "cell_type": "markdown",
   "id": "7a9744cb",
   "metadata": {},
   "source": [
    "<a id=\"section_5\"></a>"
   ]
  },
  {
   "cell_type": "markdown",
   "id": "3db27459",
   "metadata": {},
   "source": [
    "Оценим разброс данных, прежде, чем работать с группами:"
   ]
  },
  {
   "cell_type": "code",
   "execution_count": 28,
   "id": "d3632c035811a4ae",
   "metadata": {
    "ExecuteTime": {
     "end_time": "2024-12-11T12:14:05.472691Z",
     "start_time": "2024-12-11T12:14:05.189282Z"
    }
   },
   "outputs": [
    {
     "data": {
      "image/png": "[encoded data removed]",
      "text/plain": [
       "<Figure size 1000x400 with 1 Axes>"
      ]
     },
     "metadata": {},
     "output_type": "display_data"
    }
   ],
   "source": [
    "sns.set_style('whitegrid')\n",
    "plt.figure(figsize=(10, 4))\n",
    "\n",
    "sns.histplot(x='total_income',\n",
    "             data=datas,\n",
    "             kde=True,\n",
    "             color='#789DBC',\n",
    "             line_kws={\n",
    "                 'linewidth': 2,\n",
    "                 'color': '#789DBC'\n",
    "             })\n",
    "\n",
    "plt.xlim(0, 500000)\n",
    "\n",
    "plt.title('Распределение дохода', fontsize=14)\n",
    "plt.xlabel('Значение', fontsize=12)\n",
    "plt.ylabel('Частота', fontsize=12)\n",
    "\n",
    "plt.show()"
   ]
  },
  {
   "cell_type": "code",
   "execution_count": 29,
   "id": "e48a74af1185c40a",
   "metadata": {
    "ExecuteTime": {
     "end_time": "2024-12-11T12:14:05.480215Z",
     "start_time": "2024-12-11T12:14:05.473576Z"
    }
   },
   "outputs": [
    {
     "data": {
      "text/html": [
       "<div>\n",
       "<style scoped>\n",
       "    .dataframe tbody tr th:only-of-type {\n",
       "        vertical-align: middle;\n",
       "    }\n",
       "\n",
       "    .dataframe tbody tr th {\n",
       "        vertical-align: top;\n",
       "    }\n",
       "\n",
       "    .dataframe thead th {\n",
       "        text-align: right;\n",
       "    }\n",
       "</style>\n",
       "<table border=\"1\" class=\"dataframe\">\n",
       "  <thead>\n",
       "    <tr style=\"text-align: right;\">\n",
       "      <th></th>\n",
       "      <th>no_debt</th>\n",
       "      <th>has_debt</th>\n",
       "      <th>no_debt %</th>\n",
       "      <th>has_debt %</th>\n",
       "    </tr>\n",
       "    <tr>\n",
       "      <th>total_income_category</th>\n",
       "      <th></th>\n",
       "      <th></th>\n",
       "      <th></th>\n",
       "      <th></th>\n",
       "    </tr>\n",
       "  </thead>\n",
       "  <tbody>\n",
       "    <tr>\n",
       "      <th>(D, 30001-50000)</th>\n",
       "      <td>328</td>\n",
       "      <td>21</td>\n",
       "      <td>93.98</td>\n",
       "      <td>6.02</td>\n",
       "    </tr>\n",
       "    <tr>\n",
       "      <th>(B, 50001-1000000)</th>\n",
       "      <td>4660</td>\n",
       "      <td>354</td>\n",
       "      <td>92.94</td>\n",
       "      <td>7.06</td>\n",
       "    </tr>\n",
       "    <tr>\n",
       "      <th>(A, &gt;= 1000001)</th>\n",
       "      <td>23</td>\n",
       "      <td>2</td>\n",
       "      <td>92.00</td>\n",
       "      <td>8.00</td>\n",
       "    </tr>\n",
       "    <tr>\n",
       "      <th>(C, 20001-50000)</th>\n",
       "      <td>14585</td>\n",
       "      <td>1353</td>\n",
       "      <td>91.51</td>\n",
       "      <td>8.49</td>\n",
       "    </tr>\n",
       "    <tr>\n",
       "      <th>(E, &lt;= 30000)</th>\n",
       "      <td>20</td>\n",
       "      <td>2</td>\n",
       "      <td>90.91</td>\n",
       "      <td>9.09</td>\n",
       "    </tr>\n",
       "  </tbody>\n",
       "</table>\n",
       "</div>"
      ],
      "text/plain": [
       "                       no_debt  has_debt  no_debt %  has_debt %\n",
       "total_income_category                                          \n",
       "(D, 30001-50000)           328        21      93.98        6.02\n",
       "(B, 50001-1000000)        4660       354      92.94        7.06\n",
       "(A, >= 1000001)             23         2      92.00        8.00\n",
       "(C, 20001-50000)         14585      1353      91.51        8.49\n",
       "(E, <= 30000)               20         2      90.91        9.09"
      ]
     },
     "metadata": {},
     "output_type": "display_data"
    }
   ],
   "source": [
    "display(analyze_debt(datas, 'total_income_category'))"
   ]
  },
  {
   "cell_type": "markdown",
   "id": "6dd14b57",
   "metadata": {
    "deletable": false,
    "id": "6dd14b57"
   },
   "source": [
    "**Вывод:** \n",
    "\n",
    "<u>Наиболее платежеспособные группы:</u>\n",
    "- **B, 50001-1000000**: клиенты с оптимальным соотношением дохода/объема кредитом/процентом задолженности. Есть гипотеза, что такие клиенты **будут брать большие суммы/чаще/отдавать охотнее остальных**\n",
    "- **A, >= 1000001**: хоть они берут почти меньше всех. Но гипотетически, суммы их займа достаточно высокие, чтобы банк имел один из наибольших итоговых доходностей на процентах\n",
    "\n",
    "<u>Наименее платежеспособная группа:</u>\n",
    "- **E, <= 30000**: минимальный доход и спрос на кредиты, максимальная задолженность по возвратам.\n",
    "\n",
    "Остальные группы заемщиков имеют средний приоритет."
   ]
  },
  {
   "cell_type": "markdown",
   "id": "1dcc9b12",
   "metadata": {
    "deletable": false,
    "editable": false,
    "id": "1dcc9b12"
   },
   "source": [
    "### Влияние цели кредита на его возврат в срок"
   ]
  },
  {
   "cell_type": "markdown",
   "id": "afd24a4a",
   "metadata": {},
   "source": [
    "<a id=\"section_4\"></a>"
   ]
  },
  {
   "cell_type": "code",
   "execution_count": 30,
   "id": "5a73aec053760751",
   "metadata": {
    "ExecuteTime": {
     "end_time": "2024-12-11T12:14:05.486293Z",
     "start_time": "2024-12-11T12:14:05.480801Z"
    }
   },
   "outputs": [
    {
     "data": {
      "text/html": [
       "<div>\n",
       "<style scoped>\n",
       "    .dataframe tbody tr th:only-of-type {\n",
       "        vertical-align: middle;\n",
       "    }\n",
       "\n",
       "    .dataframe tbody tr th {\n",
       "        vertical-align: top;\n",
       "    }\n",
       "\n",
       "    .dataframe thead th {\n",
       "        text-align: right;\n",
       "    }\n",
       "</style>\n",
       "<table border=\"1\" class=\"dataframe\">\n",
       "  <thead>\n",
       "    <tr style=\"text-align: right;\">\n",
       "      <th></th>\n",
       "      <th>no_debt</th>\n",
       "      <th>has_debt</th>\n",
       "      <th>no_debt %</th>\n",
       "      <th>has_debt %</th>\n",
       "    </tr>\n",
       "    <tr>\n",
       "      <th>purpose_category</th>\n",
       "      <th></th>\n",
       "      <th></th>\n",
       "      <th></th>\n",
       "      <th></th>\n",
       "    </tr>\n",
       "  </thead>\n",
       "  <tbody>\n",
       "    <tr>\n",
       "      <th>операции с недвижимостью</th>\n",
       "      <td>9974</td>\n",
       "      <td>780</td>\n",
       "      <td>92.75</td>\n",
       "      <td>7.25</td>\n",
       "    </tr>\n",
       "    <tr>\n",
       "      <th>проведение свадьбы</th>\n",
       "      <td>2141</td>\n",
       "      <td>183</td>\n",
       "      <td>92.13</td>\n",
       "      <td>7.87</td>\n",
       "    </tr>\n",
       "    <tr>\n",
       "      <th>получение образования</th>\n",
       "      <td>3620</td>\n",
       "      <td>369</td>\n",
       "      <td>90.75</td>\n",
       "      <td>9.25</td>\n",
       "    </tr>\n",
       "    <tr>\n",
       "      <th>операции с автомобилем</th>\n",
       "      <td>3881</td>\n",
       "      <td>400</td>\n",
       "      <td>90.66</td>\n",
       "      <td>9.34</td>\n",
       "    </tr>\n",
       "  </tbody>\n",
       "</table>\n",
       "</div>"
      ],
      "text/plain": [
       "                          no_debt  has_debt  no_debt %  has_debt %\n",
       "purpose_category                                                  \n",
       "операции с недвижимостью     9974       780      92.75        7.25\n",
       "проведение свадьбы           2141       183      92.13        7.87\n",
       "получение образования        3620       369      90.75        9.25\n",
       "операции с автомобилем       3881       400      90.66        9.34"
      ]
     },
     "metadata": {},
     "output_type": "display_data"
    }
   ],
   "source": [
    "display(analyze_debt(datas, 'purpose_category'))"
   ]
  },
  {
   "cell_type": "markdown",
   "id": "cf05ed63",
   "metadata": {
    "deletable": false,
    "id": "cf05ed63"
   },
   "source": [
    "**Вывод:** \n",
    "\n",
    "Первый приоритет: **операции с недвижимостью**. Максимальные спрос/суммы/процент возврата.\n",
    "\n",
    "Второй приоритет: **проведение свадьбы**. Явно суммы здесь гораздо меньшие, чем на покупку жилья, но зато высокий процент возврата.\n",
    "\n",
    "Остальные категории имеют средний приоритет.\\\n",
    "Тендеция схожа с результатами по семейному положению: кредиты охотнее возвращают те, у кого есть или планируется партнер (делаю допущение, что на недвижимость чаще берут с обретением/расширением семьи)."
   ]
  },
  {
   "cell_type": "markdown",
   "id": "17b1c4debdff0369",
   "metadata": {},
   "source": [
    "## Модель скоринга"
   ]
  },
  {
   "cell_type": "markdown",
   "id": "6019ef90",
   "metadata": {},
   "source": [
    "Помним, что итоговый результат бизнеса - модель кредитного скоринга. \n",
    "Оценкой сверху, можно сказать, что критерии, которые мы исследовали, стоит включить в эту модель.\n",
    "\n",
    "Для итогового решения, пробую собрать сводную таблицу с парметрами:"
   ]
  },
  {
   "cell_type": "markdown",
   "id": "71f4c719",
   "metadata": {
    "deletable": false,
    "id": "1ab75d1c"
   },
   "source": [
    "|Первый приоритет|Второй приоритет|Третий приоритет|Четвертый приоритет|Последний приоритет|\n",
    "|----------------|----------------|----------------|-------------------|-------------------|\n",
    "|5 детей|0 детей|3 детей|1 ребенок|2 или 4 ребенка|\n",
    "|женат/замужем|вдовец/вдова|в разводе|гражданский брак|Не женат/не замужем|\n",
    "|B, 50001-1000000|A, >= 1000001|C, 20001-50000|D, 30001-50000|E, <= 30000|\n",
    "|операции с недвижимостью|проведение свадьбы|получение образования|получение образования|операции с автомобилем|\n",
    "\n"
   ]
  },
  {
   "cell_type": "markdown",
   "id": "7aadf7b3",
   "metadata": {},
   "source": [
    "Кажется, что да, логика оценки становится более явной. Но клиенты не такие одномерные, как указано в столбцах, поэтому пробую собрать прототип скоринга:"
   ]
  },
  {
   "cell_type": "code",
   "execution_count": 31,
   "id": "457083f4",
   "metadata": {
    "ExecuteTime": {
     "end_time": "2024-12-11T12:14:05.490420Z",
     "start_time": "2024-12-11T12:14:05.487204Z"
    }
   },
   "outputs": [],
   "source": [
    "#собираем в словарь все критерии и распределяем по ним веса\n",
    "credit_score = {\n",
    "    '5 детей': 5,\n",
    "    'женат/замужем': 5,\n",
    "    'B, 50001-1000000': 5,\n",
    "    'операции с недвижимостью': 5,\n",
    "    '0 детей': 4,\n",
    "    'вдовец/вдова': 4,\n",
    "    'A, >= 1000001': 4,\n",
    "    'проведение свадьбы': 4,\n",
    "    '3 детей': 3,\n",
    "    'в разводе': 3,\n",
    "    'C, 20001-50000': 3,\n",
    "    'получение образования': 3,\n",
    "    '2 ребенка': 2,\n",
    "    '1 ребенок': 2,\n",
    "    'гражданский брак': 2,\n",
    "    'D, 30001-50000': 2,\n",
    "    '4 ребенка': 1,\n",
    "    'Не женат/не замужем': 1,\n",
    "    'E, <= 30000': 1,\n",
    "    'операции с автомобилем': 1,\n",
    "\n",
    "    #чтобы модель не заваливалась от неприоритетных параметров, приоритезируем недостающую информацию отрицательными весами\n",
    "    'доход не определен': -5,\n",
    "    'количество детей не определено': -2,\n",
    "    'цель кредита не определена': -3,\n",
    "    'семейное положение не определено': -1\n",
    "}\n",
    "\n",
    "\n",
    "#функция проходится по словарю, на основании входящих параметров\n",
    "def calculate_score_and_decision(criteria):\n",
    "    total_score = 0\n",
    "    for criterion in criteria:\n",
    "        if criterion in credit_score:\n",
    "            total_score += credit_score[criterion]\n",
    "\n",
    "\n",
    "#задаем вывод итогового решения, на основе итоговой оценки\n",
    "    if 0 <= total_score <= 7:\n",
    "        return total_score, \"кредит не одобрен, запросите дополнительные документы\"\n",
    "    elif 8 <= total_score <= 12:\n",
    "        return total_score, \"высокорисковый кредит, запросите дополнительные документы\"\n",
    "    elif 13 <= total_score <= 20:\n",
    "        return total_score, \"кредит одобрен\"\n",
    "    else:\n",
    "        return total_score, \"решение по кредиту не определено\""
   ]
  },
  {
   "cell_type": "code",
   "execution_count": 32,
   "id": "dc6384fc",
   "metadata": {
    "ExecuteTime": {
     "end_time": "2024-12-11T12:14:05.494118Z",
     "start_time": "2024-12-11T12:14:05.491653Z"
    }
   },
   "outputs": [
    {
     "name": "stdout",
     "output_type": "stream",
     "text": [
      "Очки: 9, Решение: высокорисковый кредит, запросите дополнительные документы\n"
     ]
    }
   ],
   "source": [
    "#пример использования\n",
    "criteria_list = ['0 детей', 'женат/замужем', 'операции с недвижимостью', 'доход не определен']\n",
    "score, decision = calculate_score_and_decision(criteria_list)\n",
    "print(f\"Очки: {score}, Решение: {decision}\")"
   ]
  },
  {
   "cell_type": "markdown",
   "id": "23ac9567",
   "metadata": {},
   "source": [
    "## Итог и рекомендации"
   ]
  },
  {
   "cell_type": "markdown",
   "id": "5962c0c8",
   "metadata": {},
   "source": [
    "\n",
    "# В ходе проекта были проанализировано влияние на факт погашения кредита в срок нескольких факторов: # \n",
    "- [количество детей: чем меньше детей, тем лучше отдаются займы](#section_2)\n",
    "- [семейное положение: если у заемщика был/есть супруг, то кредит отдается лучше](#section_3)\n",
    "- [цель кредита: если цель перекликается с семейными целями (расширение площади жилья, свадьба), то кредит возвращается охотнее](#section_4)\n",
    "\n",
    "    \n",
    "**Промежуточные выводы:**\n",
    "\n",
    "Да, корреляция между этими факторами и погашением кредита существует.\n",
    "\n"
   ]
  },
  {
   "cell_type": "markdown",
   "id": "e4ce72a0",
   "metadata": {},
   "source": [
    "Так же, в анализ [планироавлось включить параметр влияния уровня дохода на возвратность кредита](#section_5). \n",
    "    \n",
    "На текущем этапе однозначные выводы сделать сложно, т.к. в ходе обработки данных, было выявлено, что 10% данных отсутствовало (ежемесячный доход и общий трудовой стаж в днях).\n",
    "\n",
    "<br>\n",
    "  \n",
    "**Потенциальные причины:**\n",
    "1. человеческий фактор: \n",
    "    - отсутствие дохода и стажа впринципе\n",
    "    - несистемный заработок и стаж, которые сложно подсчитать\n",
    "    - получение дохода и стажа \"в серую\" (= потенциальное нежелание афишировать)   \n",
    "2. технический фактор: \n",
    "    - формат хранения данных не учтен при выгрузке и они были утеряны. \n",
    "Эта причина наиболее вероятна: данных одинаково не хватает в двух столбцах.\n",
    "    \n",
    "   "
   ]
  },
  {
   "cell_type": "markdown",
   "id": "f40710f6",
   "metadata": {},
   "source": [
    "\n",
    "# Итог и рекомендации: # \n",
    "1. в итоговую модель скоринга стоит включить факторы: количество детей, семейное положение, цель кредита\n",
    "2. при анализе других параметров (в т.ч. уровнь дохода), необходимо исключить фактор некорректной выгрузки данных.\n",
    "\n",
    "В случае, если причина недостачи в человеческом факторе, необходимо проработать увеличение активации клиента в заполнение недостающих данных (предзаданные диапазоны и т.п)\n"
   ]
  },
  {
   "metadata": {},
   "cell_type": "code",
   "outputs": [],
   "execution_count": null,
   "source": "",
   "id": "8e939ba58df1b77"
  }
 ],
 "metadata": {
  "ExecuteTimeLog": [
   {
    "duration": 43,
    "start_time": "2024-06-27T12:13:30.548Z"
   },
   {
    "duration": 6,
    "start_time": "2024-06-27T12:13:49.696Z"
   },
   {
    "duration": 5,
    "start_time": "2024-06-27T12:14:09.942Z"
   },
   {
    "duration": 490,
    "start_time": "2024-06-27T12:14:28.446Z"
   },
   {
    "duration": 29,
    "start_time": "2024-06-27T12:14:28.939Z"
   },
   {
    "duration": 19,
    "start_time": "2024-06-27T12:14:28.970Z"
   },
   {
    "duration": 12,
    "start_time": "2024-06-27T12:14:28.992Z"
   },
   {
    "duration": 63,
    "start_time": "2024-06-27T12:14:29.005Z"
   },
   {
    "duration": 5,
    "start_time": "2024-06-27T12:14:29.070Z"
   },
   {
    "duration": 13,
    "start_time": "2024-06-27T12:14:29.077Z"
   },
   {
    "duration": 6,
    "start_time": "2024-06-27T12:14:29.092Z"
   },
   {
    "duration": 7,
    "start_time": "2024-06-27T12:14:29.100Z"
   },
   {
    "duration": 6,
    "start_time": "2024-06-27T12:14:29.112Z"
   },
   {
    "duration": 73,
    "start_time": "2024-06-27T12:14:29.120Z"
   },
   {
    "duration": 10,
    "start_time": "2024-06-27T12:14:29.195Z"
   },
   {
    "duration": 4,
    "start_time": "2024-06-27T12:14:29.206Z"
   },
   {
    "duration": 13,
    "start_time": "2024-06-27T12:14:29.211Z"
   },
   {
    "duration": 40,
    "start_time": "2024-06-27T12:14:29.225Z"
   },
   {
    "duration": 16,
    "start_time": "2024-06-27T12:14:29.267Z"
   },
   {
    "duration": 3,
    "start_time": "2024-06-27T12:14:29.285Z"
   },
   {
    "duration": 12,
    "start_time": "2024-06-27T12:14:29.290Z"
   },
   {
    "duration": 6,
    "start_time": "2024-06-27T12:14:29.303Z"
   },
   {
    "duration": 3,
    "start_time": "2024-06-27T12:14:29.311Z"
   },
   {
    "duration": 12,
    "start_time": "2024-06-27T12:14:29.315Z"
   },
   {
    "duration": 47,
    "start_time": "2024-06-27T12:14:29.328Z"
   },
   {
    "duration": 19,
    "start_time": "2024-06-27T12:14:29.377Z"
   },
   {
    "duration": 6,
    "start_time": "2024-06-27T12:14:29.397Z"
   },
   {
    "duration": 24,
    "start_time": "2024-06-27T12:14:29.404Z"
   },
   {
    "duration": 4,
    "start_time": "2024-06-27T12:14:29.430Z"
   },
   {
    "duration": 63,
    "start_time": "2024-06-27T12:23:32.706Z"
   },
   {
    "duration": 7,
    "start_time": "2024-06-27T12:25:03.109Z"
   },
   {
    "duration": 18,
    "start_time": "2024-06-27T12:25:08.063Z"
   },
   {
    "duration": 5,
    "start_time": "2024-06-27T12:25:16.454Z"
   },
   {
    "duration": 10,
    "start_time": "2024-06-27T12:26:57.885Z"
   },
   {
    "duration": 12,
    "start_time": "2024-06-27T12:27:24.349Z"
   },
   {
    "duration": 8,
    "start_time": "2024-06-27T12:41:25.077Z"
   },
   {
    "duration": 11,
    "start_time": "2024-06-27T12:42:41.894Z"
   },
   {
    "duration": 8,
    "start_time": "2024-06-27T12:42:49.727Z"
   },
   {
    "duration": 13,
    "start_time": "2024-06-27T12:44:42.815Z"
   },
   {
    "duration": 14,
    "start_time": "2024-06-27T12:52:00.523Z"
   },
   {
    "duration": 12,
    "start_time": "2024-06-27T12:52:18.512Z"
   },
   {
    "duration": 12,
    "start_time": "2024-06-27T12:53:39.133Z"
   },
   {
    "duration": 12,
    "start_time": "2024-06-27T12:53:57.910Z"
   },
   {
    "duration": 11,
    "start_time": "2024-06-27T12:54:21.000Z"
   },
   {
    "duration": 11,
    "start_time": "2024-06-27T12:54:34.466Z"
   },
   {
    "duration": 17,
    "start_time": "2024-06-27T13:05:55.617Z"
   },
   {
    "duration": 12,
    "start_time": "2024-06-27T13:06:24.951Z"
   },
   {
    "duration": 17,
    "start_time": "2024-06-27T13:24:04.094Z"
   },
   {
    "duration": 14,
    "start_time": "2024-06-27T13:27:38.242Z"
   },
   {
    "duration": 13,
    "start_time": "2024-06-27T13:28:12.055Z"
   },
   {
    "duration": 13,
    "start_time": "2024-06-27T13:28:40.863Z"
   },
   {
    "duration": 15,
    "start_time": "2024-06-27T13:29:04.608Z"
   },
   {
    "duration": 15,
    "start_time": "2024-06-27T13:29:14.835Z"
   },
   {
    "duration": 17,
    "start_time": "2024-06-27T13:56:35.408Z"
   },
   {
    "duration": 12,
    "start_time": "2024-06-27T13:56:54.331Z"
   },
   {
    "duration": 17,
    "start_time": "2024-06-27T13:59:13.576Z"
   },
   {
    "duration": 4,
    "start_time": "2024-06-27T14:15:15.483Z"
   },
   {
    "duration": 11,
    "start_time": "2024-06-27T14:15:15.796Z"
   },
   {
    "duration": 6,
    "start_time": "2024-06-27T14:15:16.270Z"
   },
   {
    "duration": 4,
    "start_time": "2024-06-27T14:15:16.594Z"
   },
   {
    "duration": 9,
    "start_time": "2024-06-27T14:15:16.748Z"
   },
   {
    "duration": 6,
    "start_time": "2024-06-27T14:15:17.269Z"
   },
   {
    "duration": 16,
    "start_time": "2024-06-27T14:15:17.407Z"
   },
   {
    "duration": 16,
    "start_time": "2024-06-27T14:15:18.451Z"
   },
   {
    "duration": 73,
    "start_time": "2024-06-27T14:15:19.975Z"
   },
   {
    "duration": 24,
    "start_time": "2024-06-27T14:15:20.635Z"
   },
   {
    "duration": 77,
    "start_time": "2024-06-27T14:17:21.755Z"
   },
   {
    "duration": 14,
    "start_time": "2024-06-27T14:17:21.926Z"
   },
   {
    "duration": 6,
    "start_time": "2024-06-27T14:17:22.226Z"
   },
   {
    "duration": 4,
    "start_time": "2024-06-27T14:17:22.510Z"
   },
   {
    "duration": 8,
    "start_time": "2024-06-27T14:17:22.645Z"
   },
   {
    "duration": 7,
    "start_time": "2024-06-27T14:17:23.111Z"
   },
   {
    "duration": 18,
    "start_time": "2024-06-27T14:17:23.259Z"
   },
   {
    "duration": 27,
    "start_time": "2024-06-27T14:17:24.072Z"
   },
   {
    "duration": 62,
    "start_time": "2024-06-27T14:17:25.124Z"
   },
   {
    "duration": 17,
    "start_time": "2024-06-27T14:17:25.981Z"
   },
   {
    "duration": 17,
    "start_time": "2024-06-27T14:17:29.391Z"
   },
   {
    "duration": 60,
    "start_time": "2024-06-27T14:17:39.344Z"
   },
   {
    "duration": 4,
    "start_time": "2024-06-27T14:18:00.540Z"
   },
   {
    "duration": 11,
    "start_time": "2024-06-27T14:18:01.337Z"
   },
   {
    "duration": 7,
    "start_time": "2024-06-27T14:18:01.850Z"
   },
   {
    "duration": 3,
    "start_time": "2024-06-27T14:18:02.117Z"
   },
   {
    "duration": 9,
    "start_time": "2024-06-27T14:18:02.254Z"
   },
   {
    "duration": 4,
    "start_time": "2024-06-27T14:18:02.726Z"
   },
   {
    "duration": 29,
    "start_time": "2024-06-27T14:18:02.864Z"
   },
   {
    "duration": 30,
    "start_time": "2024-06-27T14:18:03.584Z"
   },
   {
    "duration": 62,
    "start_time": "2024-06-27T14:18:04.764Z"
   },
   {
    "duration": 22,
    "start_time": "2024-06-27T14:18:05.101Z"
   },
   {
    "duration": 23,
    "start_time": "2024-06-27T14:20:35.662Z"
   },
   {
    "duration": 17,
    "start_time": "2024-06-27T14:32:56.534Z"
   },
   {
    "duration": 16,
    "start_time": "2024-06-27T14:33:06.383Z"
   },
   {
    "duration": 123,
    "start_time": "2024-06-27T15:09:40.178Z"
   },
   {
    "duration": 59,
    "start_time": "2024-06-27T15:09:53.499Z"
   },
   {
    "duration": 63,
    "start_time": "2024-06-27T15:10:15.077Z"
   },
   {
    "duration": 115,
    "start_time": "2024-06-27T15:10:27.349Z"
   },
   {
    "duration": 24,
    "start_time": "2024-06-27T15:11:17.226Z"
   },
   {
    "duration": 13,
    "start_time": "2024-06-27T15:12:51.173Z"
   },
   {
    "duration": 20,
    "start_time": "2024-06-27T15:12:59.692Z"
   },
   {
    "duration": 19,
    "start_time": "2024-06-27T15:13:03.194Z"
   },
   {
    "duration": 12,
    "start_time": "2024-06-27T15:13:07.561Z"
   },
   {
    "duration": 14,
    "start_time": "2024-06-27T15:13:48.859Z"
   },
   {
    "duration": 555,
    "start_time": "2024-06-27T15:14:14.539Z"
   },
   {
    "duration": 23,
    "start_time": "2024-06-27T15:14:15.096Z"
   },
   {
    "duration": 30,
    "start_time": "2024-06-27T15:14:15.121Z"
   },
   {
    "duration": 20,
    "start_time": "2024-06-27T15:14:15.153Z"
   },
   {
    "duration": 36,
    "start_time": "2024-06-27T15:14:15.174Z"
   },
   {
    "duration": 3,
    "start_time": "2024-06-27T15:14:15.212Z"
   },
   {
    "duration": 39,
    "start_time": "2024-06-27T15:14:15.217Z"
   },
   {
    "duration": 5,
    "start_time": "2024-06-27T15:14:15.258Z"
   },
   {
    "duration": 36,
    "start_time": "2024-06-27T15:14:15.265Z"
   },
   {
    "duration": 6,
    "start_time": "2024-06-27T15:14:15.304Z"
   },
   {
    "duration": 55,
    "start_time": "2024-06-27T15:14:15.312Z"
   },
   {
    "duration": 10,
    "start_time": "2024-06-27T15:14:15.369Z"
   },
   {
    "duration": 15,
    "start_time": "2024-06-27T15:14:15.381Z"
   },
   {
    "duration": 18,
    "start_time": "2024-06-27T15:14:15.398Z"
   },
   {
    "duration": 26,
    "start_time": "2024-06-27T15:14:15.418Z"
   },
   {
    "duration": 33,
    "start_time": "2024-06-27T15:14:15.446Z"
   },
   {
    "duration": 3,
    "start_time": "2024-06-27T15:14:15.481Z"
   },
   {
    "duration": 13,
    "start_time": "2024-06-27T15:14:15.486Z"
   },
   {
    "duration": 6,
    "start_time": "2024-06-27T15:14:15.501Z"
   },
   {
    "duration": 3,
    "start_time": "2024-06-27T15:14:15.509Z"
   },
   {
    "duration": 15,
    "start_time": "2024-06-27T15:14:15.514Z"
   },
   {
    "duration": 10,
    "start_time": "2024-06-27T15:14:15.530Z"
   },
   {
    "duration": 41,
    "start_time": "2024-06-27T15:14:15.541Z"
   },
   {
    "duration": 18,
    "start_time": "2024-06-27T15:14:15.584Z"
   },
   {
    "duration": 21,
    "start_time": "2024-06-27T15:14:15.604Z"
   },
   {
    "duration": 57,
    "start_time": "2024-06-27T15:14:15.627Z"
   },
   {
    "duration": 27,
    "start_time": "2024-06-27T15:14:15.686Z"
   },
   {
    "duration": 61,
    "start_time": "2024-06-27T15:24:46.018Z"
   },
   {
    "duration": 7,
    "start_time": "2024-06-27T15:25:00.855Z"
   },
   {
    "duration": 7,
    "start_time": "2024-06-27T15:26:57.479Z"
   },
   {
    "duration": 21,
    "start_time": "2024-06-27T15:44:10.377Z"
   },
   {
    "duration": 18,
    "start_time": "2024-06-27T15:44:58.882Z"
   },
   {
    "duration": 19,
    "start_time": "2024-06-27T15:45:43.740Z"
   },
   {
    "duration": 16,
    "start_time": "2024-06-27T15:51:29.066Z"
   },
   {
    "duration": 17,
    "start_time": "2024-06-27T15:51:36.381Z"
   },
   {
    "duration": 8,
    "start_time": "2024-06-27T15:52:27.998Z"
   },
   {
    "duration": 11,
    "start_time": "2024-06-27T15:52:59.815Z"
   },
   {
    "duration": 59,
    "start_time": "2024-06-27T15:54:35.658Z"
   },
   {
    "duration": 74,
    "start_time": "2024-06-27T15:54:43.223Z"
   },
   {
    "duration": 58,
    "start_time": "2024-06-27T15:58:35.809Z"
   },
   {
    "duration": 66,
    "start_time": "2024-06-27T15:58:50.439Z"
   },
   {
    "duration": 11,
    "start_time": "2024-06-27T15:59:11.222Z"
   },
   {
    "duration": 10,
    "start_time": "2024-06-27T16:02:34.971Z"
   },
   {
    "duration": 68,
    "start_time": "2024-06-27T16:31:21.680Z"
   },
   {
    "duration": 60,
    "start_time": "2024-06-27T16:31:26.120Z"
   },
   {
    "duration": 66,
    "start_time": "2024-06-27T16:31:53.693Z"
   },
   {
    "duration": 60,
    "start_time": "2024-06-27T16:32:02.350Z"
   },
   {
    "duration": 77,
    "start_time": "2024-06-27T16:32:08.866Z"
   },
   {
    "duration": 74,
    "start_time": "2024-06-27T16:32:22.694Z"
   },
   {
    "duration": 58,
    "start_time": "2024-06-27T16:32:38.874Z"
   },
   {
    "duration": 66,
    "start_time": "2024-06-27T16:33:01.488Z"
   },
   {
    "duration": 88,
    "start_time": "2024-06-27T16:33:52.510Z"
   },
   {
    "duration": 13,
    "start_time": "2024-06-27T16:39:51.848Z"
   },
   {
    "duration": 8,
    "start_time": "2024-06-27T16:40:14.063Z"
   },
   {
    "duration": 75,
    "start_time": "2024-06-28T09:05:23.345Z"
   },
   {
    "duration": 13,
    "start_time": "2024-06-28T09:06:55.457Z"
   },
   {
    "duration": 8,
    "start_time": "2024-06-28T09:07:11.768Z"
   },
   {
    "duration": 62,
    "start_time": "2024-06-28T09:07:24.074Z"
   },
   {
    "duration": 9,
    "start_time": "2024-06-28T09:09:24.716Z"
   },
   {
    "duration": 77,
    "start_time": "2024-06-28T09:09:39.982Z"
   },
   {
    "duration": 57,
    "start_time": "2024-06-28T09:09:44.678Z"
   },
   {
    "duration": 5,
    "start_time": "2024-06-28T09:16:46.115Z"
   },
   {
    "duration": 14,
    "start_time": "2024-06-28T09:25:12.003Z"
   },
   {
    "duration": 12,
    "start_time": "2024-06-28T09:26:28.169Z"
   },
   {
    "duration": 9,
    "start_time": "2024-06-28T09:27:03.249Z"
   },
   {
    "duration": 9,
    "start_time": "2024-06-28T09:27:41.925Z"
   },
   {
    "duration": 9,
    "start_time": "2024-06-28T09:30:35.099Z"
   },
   {
    "duration": 10,
    "start_time": "2024-06-28T09:30:59.603Z"
   },
   {
    "duration": 9,
    "start_time": "2024-06-28T09:33:02.610Z"
   },
   {
    "duration": 6,
    "start_time": "2024-06-28T09:33:21.957Z"
   },
   {
    "duration": 78,
    "start_time": "2024-06-28T09:35:18.512Z"
   },
   {
    "duration": 74,
    "start_time": "2024-06-28T09:35:24.981Z"
   },
   {
    "duration": 6,
    "start_time": "2024-06-28T09:35:30.235Z"
   },
   {
    "duration": 6,
    "start_time": "2024-06-28T09:38:01.964Z"
   },
   {
    "duration": 68,
    "start_time": "2024-06-28T09:41:05.068Z"
   },
   {
    "duration": 6,
    "start_time": "2024-06-28T09:41:40.735Z"
   },
   {
    "duration": 6,
    "start_time": "2024-06-28T09:41:54.556Z"
   },
   {
    "duration": 82,
    "start_time": "2024-06-28T09:49:18.507Z"
   },
   {
    "duration": 6,
    "start_time": "2024-06-28T09:51:52.411Z"
   },
   {
    "duration": 484,
    "start_time": "2024-06-28T10:00:29.365Z"
   },
   {
    "duration": 21,
    "start_time": "2024-06-28T10:00:29.851Z"
   },
   {
    "duration": 22,
    "start_time": "2024-06-28T10:00:29.873Z"
   },
   {
    "duration": 18,
    "start_time": "2024-06-28T10:00:29.896Z"
   },
   {
    "duration": 43,
    "start_time": "2024-06-28T10:00:29.915Z"
   },
   {
    "duration": 4,
    "start_time": "2024-06-28T10:00:29.960Z"
   },
   {
    "duration": 26,
    "start_time": "2024-06-28T10:00:29.965Z"
   },
   {
    "duration": 5,
    "start_time": "2024-06-28T10:00:29.993Z"
   },
   {
    "duration": 43,
    "start_time": "2024-06-28T10:00:30.000Z"
   },
   {
    "duration": 63,
    "start_time": "2024-06-28T10:00:30.045Z"
   },
   {
    "duration": 95,
    "start_time": "2024-06-28T10:00:30.110Z"
   },
   {
    "duration": 33,
    "start_time": "2024-06-28T10:00:30.207Z"
   },
   {
    "duration": 153,
    "start_time": "2024-06-28T10:00:30.242Z"
   },
   {
    "duration": 39,
    "start_time": "2024-06-28T10:00:30.397Z"
   },
   {
    "duration": 186,
    "start_time": "2024-06-28T10:00:30.437Z"
   },
   {
    "duration": 74,
    "start_time": "2024-06-28T10:00:30.624Z"
   },
   {
    "duration": 20,
    "start_time": "2024-06-28T10:00:30.700Z"
   },
   {
    "duration": 71,
    "start_time": "2024-06-28T10:00:30.722Z"
   },
   {
    "duration": 80,
    "start_time": "2024-06-28T10:00:30.795Z"
   },
   {
    "duration": 121,
    "start_time": "2024-06-28T10:00:30.877Z"
   },
   {
    "duration": 53,
    "start_time": "2024-06-28T10:00:30.999Z"
   },
   {
    "duration": 169,
    "start_time": "2024-06-28T10:00:31.054Z"
   },
   {
    "duration": 72,
    "start_time": "2024-06-28T10:00:31.224Z"
   },
   {
    "duration": 96,
    "start_time": "2024-06-28T10:00:31.297Z"
   },
   {
    "duration": 66,
    "start_time": "2024-06-28T10:00:31.395Z"
   },
   {
    "duration": 370,
    "start_time": "2024-06-28T10:00:31.463Z"
   },
   {
    "duration": 156,
    "start_time": "2024-06-28T10:00:31.835Z"
   },
   {
    "duration": 74,
    "start_time": "2024-06-28T17:31:37.465Z"
   },
   {
    "duration": 51,
    "start_time": "2024-07-01T07:19:43.779Z"
   },
   {
    "duration": 586,
    "start_time": "2024-07-01T07:19:57.699Z"
   },
   {
    "duration": 21,
    "start_time": "2024-07-01T07:19:58.286Z"
   },
   {
    "duration": 13,
    "start_time": "2024-07-01T07:19:58.309Z"
   },
   {
    "duration": 16,
    "start_time": "2024-07-01T07:19:58.324Z"
   },
   {
    "duration": 35,
    "start_time": "2024-07-01T07:19:58.341Z"
   },
   {
    "duration": 3,
    "start_time": "2024-07-01T07:19:58.378Z"
   },
   {
    "duration": 9,
    "start_time": "2024-07-01T07:19:58.383Z"
   },
   {
    "duration": 23,
    "start_time": "2024-07-01T07:19:58.394Z"
   },
   {
    "duration": 17,
    "start_time": "2024-07-01T07:19:58.419Z"
   },
   {
    "duration": 4,
    "start_time": "2024-07-01T07:19:58.438Z"
   },
   {
    "duration": 35,
    "start_time": "2024-07-01T07:19:58.443Z"
   },
   {
    "duration": 9,
    "start_time": "2024-07-01T07:19:58.480Z"
   },
   {
    "duration": 28,
    "start_time": "2024-07-01T07:19:58.491Z"
   },
   {
    "duration": 77,
    "start_time": "2024-07-01T07:19:58.520Z"
   },
   {
    "duration": 24,
    "start_time": "2024-07-01T07:19:58.599Z"
   },
   {
    "duration": 15,
    "start_time": "2024-07-01T07:19:58.624Z"
   },
   {
    "duration": 18,
    "start_time": "2024-07-01T07:19:58.641Z"
   },
   {
    "duration": 20,
    "start_time": "2024-07-01T07:19:58.660Z"
   },
   {
    "duration": 5,
    "start_time": "2024-07-01T07:19:58.682Z"
   },
   {
    "duration": 17,
    "start_time": "2024-07-01T07:19:58.689Z"
   },
   {
    "duration": 23,
    "start_time": "2024-07-01T07:19:58.708Z"
   },
   {
    "duration": 27,
    "start_time": "2024-07-01T07:19:58.733Z"
   },
   {
    "duration": 67,
    "start_time": "2024-07-01T07:19:58.762Z"
   },
   {
    "duration": 0,
    "start_time": "2024-07-01T07:19:58.831Z"
   },
   {
    "duration": 0,
    "start_time": "2024-07-01T07:19:58.832Z"
   },
   {
    "duration": 0,
    "start_time": "2024-07-01T07:19:58.834Z"
   },
   {
    "duration": 0,
    "start_time": "2024-07-01T07:19:58.835Z"
   },
   {
    "duration": 15,
    "start_time": "2024-07-01T07:20:28.726Z"
   },
   {
    "duration": 11,
    "start_time": "2024-07-01T07:21:23.907Z"
   },
   {
    "duration": 10,
    "start_time": "2024-07-01T07:21:27.413Z"
   },
   {
    "duration": 16,
    "start_time": "2024-07-01T07:21:35.505Z"
   },
   {
    "duration": 18,
    "start_time": "2024-07-01T07:23:51.425Z"
   },
   {
    "duration": 17,
    "start_time": "2024-07-01T07:24:10.756Z"
   },
   {
    "duration": 19,
    "start_time": "2024-07-01T07:24:28.885Z"
   },
   {
    "duration": 17,
    "start_time": "2024-07-01T07:24:44.373Z"
   },
   {
    "duration": 16,
    "start_time": "2024-07-01T07:25:16.579Z"
   },
   {
    "duration": 73,
    "start_time": "2024-07-01T07:46:32.742Z"
   },
   {
    "duration": 57,
    "start_time": "2024-07-01T08:49:37.813Z"
   },
   {
    "duration": 18,
    "start_time": "2024-07-01T09:02:54.435Z"
   },
   {
    "duration": 61,
    "start_time": "2024-07-01T09:03:10.643Z"
   },
   {
    "duration": 70,
    "start_time": "2024-07-01T09:04:29.911Z"
   },
   {
    "duration": 63,
    "start_time": "2024-07-02T07:40:38.147Z"
   }
  ],
  "colab": {
   "provenance": []
  },
  "hide_input": false,
  "kernelspec": {
   "display_name": "Python 3 (ipykernel)",
   "language": "python",
   "name": "python3"
  },
  "language_info": {
   "codemirror_mode": {
    "name": "ipython",
    "version": 3
   },
   "file_extension": ".py",
   "mimetype": "text/x-python",
   "name": "python",
   "nbconvert_exporter": "python",
   "pygments_lexer": "ipython3",
   "version": "3.11.8"
  },
  "toc": {
   "base_numbering": 1,
   "nav_menu": {},
   "number_sections": true,
   "sideBar": true,
   "skip_h1_title": true,
   "title_cell": "Анализ влияния различных факторов на надежность заемщиков банка",
   "title_sidebar": "Содержание",
   "toc_cell": true,
   "toc_position": {
    "height": "calc(100% - 180px)",
    "left": "10px",
    "top": "150px",
    "width": "426.441px"
   },
   "toc_section_display": true,
   "toc_window_display": true
  },
  "varInspector": {
   "cols": {
    "lenName": 16,
    "lenType": 16,
    "lenVar": 40
   },
   "kernels_config": {
    "python": {
     "delete_cmd_postfix": "",
     "delete_cmd_prefix": "del ",
     "library": "var_list.py",
     "varRefreshCmd": "print(var_dic_list())"
    },
    "r": {
     "delete_cmd_postfix": ") ",
     "delete_cmd_prefix": "rm(",
     "library": "var_list.r",
     "varRefreshCmd": "cat(var_dic_list()) "
    }
   },
   "types_to_exclude": [
    "module",
    "function",
    "builtin_function_or_method",
    "instance",
    "_Feature"
   ],
   "window_display": false
  }
 },
 "nbformat": 4,
 "nbformat_minor": 5
}
