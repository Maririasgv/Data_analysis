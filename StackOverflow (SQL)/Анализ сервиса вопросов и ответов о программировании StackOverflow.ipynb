{
 "cells": [
  {
   "cell_type": "markdown",
   "id": "d267532a",
   "metadata": {},
   "source": [
    "<div style=\"border:solid green 2px; padding: 20px\">\n",
    "Данный проект нацелен исключительно на демонстрацию навыков автора в SQL."
   ]
  },
  {
   "cell_type": "markdown",
   "id": "98d0c052",
   "metadata": {
    "toc": true
   },
   "source": [
    "<h1>Анализ сервиса вопросов и ответов о программировании StackOverflow <span class=\"tocSkip\"></span></h1>\n",
    "<div class=\"toc\"><ul class=\"toc-item\"><li><span><a href=\"#Описание-проекта\" data-toc-modified-id=\"Описание-проекта-1\"><span class=\"toc-item-num\">1&nbsp;&nbsp;</span>Описание проекта</a></span></li><li><span><a href=\"#Исследование\" data-toc-modified-id=\"Исследование-2\"><span class=\"toc-item-num\">2&nbsp;&nbsp;</span>Исследование</a></span><ul class=\"toc-item\"><li><span><a href=\"#Базовый-анализ\" data-toc-modified-id=\"Базовый-анализ-2.1\"><span class=\"toc-item-num\">2.1&nbsp;&nbsp;</span>Базовый анализ</a></span></li><li><span><a href=\"#Углубленный-анализ\" data-toc-modified-id=\"Углубленный-анализ-2.2\"><span class=\"toc-item-num\">2.2&nbsp;&nbsp;</span>Углубленный анализ</a></span></li></ul></li></ul></div>"
   ]
  },
  {
   "cell_type": "markdown",
   "id": "396e10d3",
   "metadata": {},
   "source": [
    "## Описание проекта"
   ]
  },
  {
   "cell_type": "markdown",
   "id": "9d7f8f36",
   "metadata": {},
   "source": [
    "**Область исследования**:\\\n",
    "База, где хранятся данные о постах за 2008 год, а так же информация о более поздних оценках, которые эти посты получили. "
   ]
  },
  {
   "cell_type": "markdown",
   "id": "247aaa37",
   "metadata": {},
   "source": [
    "**Задача**:\\\n",
    "Необходимо, делая запросы к базе, проанализировать тенденции и паттерны в контенте на платформе."
   ]
  },
  {
   "cell_type": "markdown",
   "id": "1e2f44df",
   "metadata": {},
   "source": [
    "**Структура данных:**\n",
    "![Схема БД](https://pictures.s3.yandex.net/resources/Frame_353_1_1664969703.png)"
   ]
  },
  {
   "cell_type": "markdown",
   "id": "cd21c0f6",
   "metadata": {},
   "source": [
    "**Таблица `stackoverflow.badges`**\n",
    "\n",
    "Хранит информацию о значках, которые присуждаются за достижения пользователей.\n",
    "| Поле           | Описание                                           |\n",
    "|----------------|----------------------------------------------------|\n",
    "| `id`           | Идентификатор значка, первичный ключ              |\n",
    "| `name`         | Название значка                                    |\n",
    "| `user_id`      | Идентификатор пользователя, внешний ключ к `users` |\n",
    "| `creation_date`| Дата присвоения значка                             |\n",
    "\n",
    "**Таблица `stackoverflow.post_types`**\n",
    "\n",
    "Содержит информацию о типе постов.\n",
    "| Поле | Описание                  |\n",
    "|------|---------------------------|\n",
    "| `id` | Идентификатор типа поста  |\n",
    "| `type` | Тип поста (Question/Answer) |\n",
    "\n",
    "**Таблица `stackoverflow.posts`**\n",
    "\n",
    "Содержит информацию о постах.\n",
    "| Поле                | Описание                                           |\n",
    "|---------------------|----------------------------------------------------|\n",
    "| `id`                | Идентификатор поста, первичный ключ               |\n",
    "| `title`             | Заголовок поста                                    |\n",
    "| `creation_date`     | Дата создания поста                                |\n",
    "| `favorites_count`   | Число добавлений в «Закладки»                      |\n",
    "| `last_activity_date`| Дата последнего действия в посте                  |\n",
    "| `last_edit_date`    | Дата последнего изменения поста                   |\n",
    "| `user_id`           | Идентификатор пользователя, внешний ключ к `users`|\n",
    "| `parent_id`         | Идентификатор поста-вопроса (если это ответ)      |\n",
    "| `post_type_id`      | Идентификатор типа поста, внешний ключ к `post_types`|\n",
    "| `score`             | Количество очков, набранных постом                |\n",
    "| `views_count`       | Количество просмотров                              |\n",
    "\n",
    "**Таблица `stackoverflow.users`**\n",
    "\n",
    "Содержит информацию о пользователях.\n",
    "| Поле              | Описание                                |\n",
    "|-------------------|-----------------------------------------|\n",
    "| `id`              | Идентификатор пользователя, первичный ключ |\n",
    "| `creation_date`   | Дата регистрации пользователя           |\n",
    "| `display_name`    | Имя пользователя                        |\n",
    "| `last_access_date`| Дата последнего входа                   |\n",
    "| `location`        | Местоположение                          |\n",
    "| `reputation`      | Очки репутации                          |\n",
    "| `views`           | Число просмотров профиля                |\n",
    "\n",
    "**Таблица `stackoverflow.vote_types`**\n",
    "\n",
    "Содержит информацию о типах голосов.\n",
    "| Поле | Описание                                   |\n",
    "|------|--------------------------------------------|\n",
    "| `id` | Идентификатор типа голоса, первичный ключ  |\n",
    "| `name` | Название метки (UpMod, DownMod, Close и т.д.) |\n",
    "\n",
    "**Таблица `stackoverflow.votes`**\n",
    "\n",
    "Содержит информацию о голосах за посты.\n",
    "| Поле           | Описание                                           |\n",
    "|----------------|----------------------------------------------------|\n",
    "| `id`           | Идентификатор голоса, первичный ключ              |\n",
    "| `post_id`      | Идентификатор поста, внешний ключ к `posts`        |\n",
    "| `user_id`      | Идентификатор пользователя, внешний ключ к `users` |\n",
    "| `bounty_amount`| Сумма вознаграждения                               |\n",
    "| `vote_type_id` | Идентификатор типа голоса, внешний ключ к `vote_types` |\n",
    "| `creation_date`| Дата назначения голоса                             |"
   ]
  },
  {
   "cell_type": "markdown",
   "id": "25cf7a5d",
   "metadata": {},
   "source": [
    "## Исследование"
   ]
  },
  {
   "cell_type": "markdown",
   "id": "3aa47f4b",
   "metadata": {},
   "source": [
    "### Базовый анализ"
   ]
  },
  {
   "cell_type": "markdown",
   "id": "f5497529",
   "metadata": {},
   "source": [
    "1. Найдите количество вопросов, которые набрали больше 300 очков или как минимум 100 раз были добавлены в «Закладки»."
   ]
  },
  {
   "cell_type": "code",
   "execution_count": null,
   "id": "283f8cd3",
   "metadata": {},
   "outputs": [],
   "source": [
    "SELECT COUNT(*)\n",
    "FROM stackoverflow.posts\n",
    "WHERE post_type_id = (\n",
    "    SELECT id\n",
    "    FROM stackoverflow.post_types\n",
    "    WHERE type = 'Question'\n",
    ")\n",
    "AND (score > 300 OR favorites_count >= 100);"
   ]
  },
  {
   "cell_type": "markdown",
   "id": "876aa7db",
   "metadata": {},
   "source": [
    "2. Сколько в среднем в день задавали вопросов с 1 по 18 ноября 2008 включительно? Результат округлите до целого числа."
   ]
  },
  {
   "cell_type": "code",
   "execution_count": null,
   "id": "0015cfba",
   "metadata": {
    "ExecuteTime": {
     "end_time": "2024-10-07T12:07:11.673241Z",
     "start_time": "2024-10-07T12:07:11.666051Z"
    }
   },
   "outputs": [],
   "source": [
    "WITH daily_question_counts AS (\n",
    "    SELECT \n",
    "        DATE(creation_date) AS date,\n",
    "        COUNT(*) AS question_count\n",
    "    FROM stackoverflow.posts\n",
    "    WHERE post_type_id = (\n",
    "        SELECT id\n",
    "        FROM stackoverflow.post_types\n",
    "        WHERE type = 'Question'\n",
    "    )\n",
    "    AND creation_date >= '2008-11-01' \n",
    "    AND creation_date < '2008-11-19'\n",
    "    GROUP BY DATE(creation_date)\n",
    "    ORDER BY DATE(creation_date)\n",
    ")\n",
    "SELECT ROUND(AVG(question_count)) AS average_questions_per_day\n",
    "FROM daily_question_counts;"
   ]
  },
  {
   "cell_type": "markdown",
   "id": "2e970a00",
   "metadata": {},
   "source": [
    "3. Сколько пользователей получили значки сразу в день регистрации? Выведите количество уникальных пользователей."
   ]
  },
  {
   "cell_type": "code",
   "execution_count": null,
   "id": "f7a294c5",
   "metadata": {},
   "outputs": [],
   "source": [
    "SELECT COUNT(DISTINCT u.id) AS unique_users_with_badges_on_registration_day\n",
    "FROM stackoverflow.users u\n",
    "JOIN stackoverflow.badges b ON u.id = b.user_id\n",
    "WHERE DATE(u.creation_date) = DATE(b.creation_date);"
   ]
  },
  {
   "cell_type": "markdown",
   "id": "cf3e9c66",
   "metadata": {},
   "source": [
    "4. Сколько уникальных постов пользователя с именем Joel Coehoorn получили хотя бы один голос?"
   ]
  },
  {
   "cell_type": "code",
   "execution_count": null,
   "id": "0803aa84",
   "metadata": {},
   "outputs": [],
   "source": [
    "SELECT COUNT(DISTINCT p.id) AS unique_posts_with_votes\n",
    "FROM stackoverflow.users u\n",
    "JOIN stackoverflow.posts p ON u.id = p.user_id\n",
    "JOIN stackoverflow.votes v ON p.id = v.post_id\n",
    "WHERE u.display_name = 'Joel Coehoorn';"
   ]
  },
  {
   "cell_type": "markdown",
   "id": "d579abd8",
   "metadata": {},
   "source": [
    "5. Выгрузите все поля таблицы vote_types. Добавьте к таблице поле rank, в которое войдут номера записей в обратном порядке. Таблица должна быть отсортирована по полю id."
   ]
  },
  {
   "cell_type": "code",
   "execution_count": null,
   "id": "5a4ff9f3",
   "metadata": {},
   "outputs": [],
   "source": [
    "SELECT \n",
    "    id,\n",
    "    name,\n",
    "    RANK() OVER (ORDER BY id DESC) AS rank\n",
    "FROM stackoverflow.vote_types\n",
    "ORDER BY id;"
   ]
  },
  {
   "cell_type": "markdown",
   "id": "1af105cb",
   "metadata": {},
   "source": [
    "6. Отберите 10 пользователей, которые поставили больше всего голосов типа Close. Отобразите таблицу из двух полей: идентификатором пользователя и количеством голосов. Отсортируйте данные сначала по убыванию количества голосов, потом по убыванию значения идентификатора пользователя."
   ]
  },
  {
   "cell_type": "code",
   "execution_count": null,
   "id": "2637c1fa",
   "metadata": {},
   "outputs": [],
   "source": [
    "SELECT \n",
    "    v.user_id,\n",
    "    COUNT(*) AS close_votes_count\n",
    "FROM stackoverflow.votes v\n",
    "JOIN stackoverflow.vote_types vt ON v.vote_type_id = vt.id\n",
    "WHERE vt.name = 'Close'\n",
    "GROUP BY v.user_id\n",
    "ORDER BY close_votes_count DESC, v.user_id DESC\n",
    "LIMIT 10;"
   ]
  },
  {
   "cell_type": "markdown",
   "id": "fad3bcba",
   "metadata": {},
   "source": [
    "7. Отберите 10 пользователей по количеству значков, полученных в период с 15 ноября по 15 декабря 2008 года включительно.\n",
    "Отобразите несколько полей:\n",
    "\n",
    "- идентификатор пользователя;\n",
    "- число значков;\n",
    "- место в рейтинге — чем больше значков, тем выше рейтинг.\n",
    "\n",
    "Пользователям, которые набрали одинаковое количество значков, присвойте одно и то же место в рейтинге.\n",
    "\n",
    "Отсортируйте записи по количеству значков по убыванию, а затем по возрастанию значения идентификатора пользователя."
   ]
  },
  {
   "cell_type": "code",
   "execution_count": null,
   "id": "4faa7780",
   "metadata": {},
   "outputs": [],
   "source": [
    "WITH badge_counts AS (\n",
    "    SELECT \n",
    "        user_id,\n",
    "        COUNT(*) AS badge_count\n",
    "    FROM stackoverflow.badges\n",
    "    WHERE creation_date >= '2008-11-15' AND creation_date < '2008-12-16'\n",
    "    GROUP BY user_id\n",
    "),\n",
    "ranked_badge_counts AS (\n",
    "    SELECT \n",
    "        user_id,\n",
    "        badge_count,\n",
    "        DENSE_RANK() OVER (ORDER BY badge_count DESC) AS rank\n",
    "    FROM badge_counts\n",
    ")\n",
    "SELECT \n",
    "    user_id,\n",
    "    badge_count,\n",
    "    rank\n",
    "FROM ranked_badge_counts\n",
    "ORDER BY rank ASC, user_id ASC\n",
    "LIMIT 10; "
   ]
  },
  {
   "cell_type": "markdown",
   "id": "c038783e",
   "metadata": {},
   "source": [
    "8. Сколько в среднем очков получает пост каждого пользователя?\n",
    "\n",
    "Сформируйте таблицу из следующих полей:\n",
    "\n",
    "- заголовок поста;\n",
    "- идентификатор пользователя;\n",
    "- число очков поста;\n",
    "- среднее число очков пользователя за пост, округлённое до целого числа.\n",
    "\n",
    "Не учитывайте посты без заголовка, а также те, что набрали ноль очков."
   ]
  },
  {
   "cell_type": "code",
   "execution_count": null,
   "id": "63fe20ec",
   "metadata": {},
   "outputs": [],
   "source": [
    "SELECT \n",
    "    title,\n",
    "    user_id,\n",
    "    score,\n",
    "    ROUND(AVG(score) OVER (PARTITION BY user_id)) AS avg_score_per_user\n",
    "FROM stackoverflow.posts\n",
    "WHERE title IS NOT NULL\n",
    "AND score != 0\n",
    "ORDER BY score ASC"
   ]
  },
  {
   "cell_type": "markdown",
   "id": "994d7e07",
   "metadata": {},
   "source": [
    "9. Отобразите заголовки постов, которые были написаны пользователями, получившими более 1000 значков. Посты без заголовков не должны попасть в список."
   ]
  },
  {
   "cell_type": "code",
   "execution_count": null,
   "id": "751f6f43",
   "metadata": {},
   "outputs": [],
   "source": [
    "WITH user_badge_counts AS (\n",
    "    SELECT \n",
    "        user_id,\n",
    "        COUNT(*) AS badge_count\n",
    "    FROM stackoverflow.badges\n",
    "    GROUP BY user_id\n",
    "    HAVING COUNT(*) > 1000\n",
    ")\n",
    "SELECT \n",
    "    p.title\n",
    "FROM stackoverflow.posts p\n",
    "JOIN user_badge_counts ubc ON p.user_id = ubc.user_id\n",
    "WHERE p.title IS NOT NULL;"
   ]
  },
  {
   "cell_type": "markdown",
   "id": "bb20e933",
   "metadata": {},
   "source": [
    "10. Напишите запрос, который выгрузит данные о пользователях из Канады (англ. Canada). Разделите пользователей на три группы в зависимости от количества просмотров их профилей:\n",
    "\n",
    "- пользователям с числом просмотров больше либо равным 350 присвойте группу `1`;\n",
    "- пользователям с числом просмотров меньше 350, но больше либо равно 100 — группу `2`;\n",
    "- пользователям с числом просмотров меньше 100 — группу `3`.\n",
    "\n",
    "Отобразите в итоговой таблице идентификатор пользователя, количество просмотров профиля и группу. Пользователи с количеством просмотров меньше либо равным нулю не должны войти в итоговую таблицу."
   ]
  },
  {
   "cell_type": "code",
   "execution_count": null,
   "id": "6c1751e4",
   "metadata": {},
   "outputs": [],
   "source": [
    "SELECT \n",
    "    id AS user_id,\n",
    "    views AS profile_views,\n",
    "    CASE\n",
    "        WHEN views >= 350 THEN 1\n",
    "        WHEN views >= 100 THEN 2\n",
    "        ELSE 3\n",
    "    END AS user_group\n",
    "FROM stackoverflow.users\n",
    "WHERE TRIM(location) LIKE '%Canada%'\n",
    "  AND views > 0;"
   ]
  },
  {
   "cell_type": "markdown",
   "id": "70b1ae49",
   "metadata": {},
   "source": [
    "11. Дополните предыдущий запрос. Отобразите лидеров каждой группы — пользователей, которые набрали максимальное число просмотров в своей группе. Выведите поля с идентификатором пользователя, группой и количеством просмотров. Отсортируйте таблицу по убыванию просмотров, а затем по возрастанию значения идентификатора."
   ]
  },
  {
   "cell_type": "code",
   "execution_count": null,
   "id": "6c15bade",
   "metadata": {},
   "outputs": [],
   "source": [
    "WITH user_groups AS (\n",
    "    SELECT \n",
    "        id AS user_id,\n",
    "        views AS profile_views,\n",
    "        CASE\n",
    "            WHEN views >= 350 THEN 1\n",
    "            WHEN views >= 100 THEN 2\n",
    "            ELSE 3\n",
    "        END AS user_group\n",
    "    FROM stackoverflow.users\n",
    "    WHERE TRIM(location) LIKE '%Canada%'\n",
    "      AND views > 0\n",
    "),\n",
    "max_views_per_group AS (\n",
    "    SELECT \n",
    "        user_group,\n",
    "        MAX(profile_views) AS max_views\n",
    "    FROM user_groups\n",
    "    GROUP BY user_group\n",
    ")\n",
    "SELECT \n",
    "    ug.user_id,\n",
    "    ug.user_group,\n",
    "    ug.profile_views\n",
    "FROM user_groups ug\n",
    "JOIN max_views_per_group mvpg ON ug.user_group = mvpg.user_group AND ug.profile_views = mvpg.max_views\n",
    "ORDER BY ug.profile_views DESC, ug.user_id ASC;"
   ]
  },
  {
   "cell_type": "markdown",
   "id": "c3f379df",
   "metadata": {},
   "source": [
    "12. Посчитайте ежедневный прирост новых пользователей в ноябре 2008 года. Сформируйте таблицу с полями:\n",
    "\n",
    "- номер дня;\n",
    "- число пользователей, зарегистрированных в этот день;\n",
    "- сумму пользователей с накоплением."
   ]
  },
  {
   "cell_type": "code",
   "execution_count": null,
   "id": "4bdc41ac",
   "metadata": {},
   "outputs": [],
   "source": [
    "WITH daily_registrations AS (\n",
    "    SELECT \n",
    "        EXTRACT(DAY FROM creation_date) AS day,\n",
    "        COUNT(*) AS daily_user_count\n",
    "    FROM stackoverflow.users\n",
    "    WHERE EXTRACT(MONTH FROM creation_date) = 11\n",
    "      AND EXTRACT(YEAR FROM creation_date) = 2008\n",
    "    GROUP BY EXTRACT(DAY FROM creation_date)\n",
    "),\n",
    "cumulative_registrations AS (\n",
    "    SELECT \n",
    "        day,\n",
    "        daily_user_count,\n",
    "        SUM(daily_user_count) OVER (ORDER BY day) AS cumulative_user_count\n",
    "    FROM daily_registrations\n",
    ")\n",
    "SELECT \n",
    "    day AS day_number,\n",
    "    daily_user_count,\n",
    "    cumulative_user_count\n",
    "FROM cumulative_registrations\n",
    "ORDER BY day_number;"
   ]
  },
  {
   "cell_type": "markdown",
   "id": "030edf03",
   "metadata": {},
   "source": [
    "13. Для каждого пользователя, который написал хотя бы один пост, найдите интервал между регистрацией и временем создания первого поста. Отобразите:\n",
    "\n",
    "- идентификатор пользователя;\n",
    "- разницу во времени между регистрацией и первым постом."
   ]
  },
  {
   "cell_type": "code",
   "execution_count": null,
   "id": "e8e9cbab",
   "metadata": {},
   "outputs": [],
   "source": [
    "WITH first_post_times AS (\n",
    "    SELECT \n",
    "        user_id,\n",
    "        MIN(creation_date) AS first_post_time\n",
    "    FROM stackoverflow.posts\n",
    "    GROUP BY user_id\n",
    "),\n",
    "user_registration AS (\n",
    "    SELECT \n",
    "        u.id AS user_id,\n",
    "        u.creation_date AS registration_date,\n",
    "        fp.first_post_time\n",
    "    FROM stackoverflow.users u\n",
    "    JOIN first_post_times fp ON u.id = fp.user_id\n",
    ")\n",
    "SELECT \n",
    "    user_id,\n",
    "    first_post_time - registration_date AS interval_between_registration_and_first_post\n",
    "FROM user_registration;"
   ]
  },
  {
   "cell_type": "markdown",
   "id": "ce2881cb",
   "metadata": {},
   "source": [
    "### Углубленный анализ"
   ]
  },
  {
   "cell_type": "markdown",
   "id": "8adde446",
   "metadata": {},
   "source": [
    "1. Выведите общую сумму просмотров у постов, опубликованных в каждый месяц 2008 года. Если данных за какой-либо месяц в базе нет, такой месяц можно пропустить. Результат отсортируйте по убыванию общего количества просмотров."
   ]
  },
  {
   "cell_type": "code",
   "execution_count": null,
   "id": "7b1a68b7",
   "metadata": {},
   "outputs": [],
   "source": [
    "SELECT \n",
    "    CAST(DATE_TRUNC('month', creation_date) AS date) AS month,\n",
    "    SUM(views_count) AS total_views\n",
    "FROM stackoverflow.posts\n",
    "WHERE EXTRACT(YEAR FROM creation_date) = 2008\n",
    "GROUP BY DATE_TRUNC('month', creation_date)\n",
    "ORDER BY total_views DESC;"
   ]
  },
  {
   "cell_type": "markdown",
   "id": "0ca92a89",
   "metadata": {},
   "source": [
    "2. Выведите имена самых активных пользователей, которые в первый месяц после регистрации (включая день регистрации) дали больше 100 ответов. Вопросы, которые задавали пользователи, не учитывайте. Для каждого имени пользователя выведите количество уникальных значений user_id. Отсортируйте результат по полю с именами в лексикографическом порядке."
   ]
  },
  {
   "cell_type": "code",
   "execution_count": null,
   "id": "cd8d01ff",
   "metadata": {},
   "outputs": [],
   "source": [
    "SELECT \n",
    "    u.display_name,\n",
    "    COUNT(DISTINCT u.id)\n",
    "FROM stackoverflow.users u\n",
    "JOIN stackoverflow.posts p ON u.id = p.user_id\n",
    "JOIN stackoverflow.post_types pt ON p.post_type_id = pt.id\n",
    "WHERE pt.type = 'Answer'\n",
    "AND p.creation_date BETWEEN u.creation_date AND u.creation_date + INTERVAL '1 month'\n",
    "GROUP BY u.display_name\n",
    "ORDER BY display_name;"
   ]
  },
  {
   "cell_type": "markdown",
   "id": "e72834fb",
   "metadata": {},
   "source": [
    "3. Выведите количество постов за 2008 год по месяцам. Отберите посты от пользователей, которые зарегистрировались в сентябре 2008 года и сделали хотя бы один пост в декабре того же года. Отсортируйте таблицу по значению месяца по убыванию."
   ]
  },
  {
   "cell_type": "code",
   "execution_count": null,
   "id": "a2223fde",
   "metadata": {},
   "outputs": [],
   "source": [
    "WITH active_users AS (\n",
    "    SELECT u.id AS user_id\n",
    "    FROM stackoverflow.users u\n",
    "    JOIN stackoverflow.posts p ON u.id = p.user_id\n",
    "    WHERE DATE_TRUNC('month', u.creation_date) = '2008-09-01'\n",
    "      AND DATE_TRUNC('month', p.creation_date) = '2008-12-01'\n",
    "    GROUP BY u.id\n",
    "    HAVING COUNT(p.id) > 0\n",
    ")\n",
    "SELECT \n",
    "    DATE_TRUNC('month', p.creation_date) AS month,\n",
    "    COUNT(p.id) AS post_count\n",
    "FROM stackoverflow.posts p\n",
    "WHERE p.user_id IN (SELECT user_id FROM active_users)\n",
    "  AND DATE_TRUNC('year', p.creation_date) = '2008-01-01'\n",
    "GROUP BY DATE_TRUNC('month', p.creation_date)\n",
    "ORDER BY DATE_TRUNC('month', p.creation_date) DESC;"
   ]
  },
  {
   "cell_type": "markdown",
   "id": "8d90f564",
   "metadata": {},
   "source": [
    "4. Используя данные о постах, выведите несколько полей:\n",
    "\n",
    "- идентификатор пользователя, который написал пост;\n",
    "- дата создания поста;\n",
    "- количество просмотров у текущего поста;\n",
    "- сумма просмотров постов автора с накоплением.\n",
    "\n",
    "Данные в таблице должны быть отсортированы по возрастанию идентификаторов пользователей, а данные об одном и том же пользователе — по возрастанию даты создания поста."
   ]
  },
  {
   "cell_type": "code",
   "execution_count": null,
   "id": "f7e4b55e",
   "metadata": {},
   "outputs": [],
   "source": [
    "SELECT \n",
    "    user_id,\n",
    "    creation_date,\n",
    "    views_count,\n",
    "    SUM(views_count) OVER (PARTITION BY user_id ORDER BY creation_date) AS cumulative_views\n",
    "FROM stackoverflow.posts;"
   ]
  },
  {
   "cell_type": "markdown",
   "id": "5ecb1812",
   "metadata": {},
   "source": [
    "5. Сколько в среднем дней в период с 1 по 7 декабря 2008 года включительно пользователи взаимодействовали с платформой? Для каждого пользователя отберите дни, в которые он или она опубликовали хотя бы один пост. Нужно получить одно целое число — не забудьте округлить результат."
   ]
  },
  {
   "cell_type": "code",
   "execution_count": null,
   "id": "6f61ae50",
   "metadata": {},
   "outputs": [],
   "source": [
    "SELECT ROUND(AVG(daily_post_count))\n",
    "FROM (\n",
    "    SELECT \n",
    "        user_id,\n",
    "        COUNT(DISTINCT DATE(creation_date)) AS daily_post_count\n",
    "    FROM stackoverflow.posts\n",
    "    WHERE DATE(creation_date) BETWEEN '2008-12-01' AND '2008-12-07'\n",
    "    GROUP BY user_id\n",
    ") AS subquery;"
   ]
  },
  {
   "cell_type": "markdown",
   "id": "14a13730",
   "metadata": {},
   "source": [
    "6. На сколько процентов менялось количество постов ежемесячно с 1 сентября по 31 декабря 2008 года? Отобразите таблицу со следующими полями:\n",
    "\n",
    "- Номер месяца.\n",
    "- Количество постов за месяц.\n",
    "- Процент, который показывает, насколько изменилось количество постов в текущем месяце по сравнению с предыдущим.\n",
    "\n",
    "Если постов стало меньше, значение процента должно быть отрицательным, если больше — положительным. Округлите значение процента до двух знаков после запятой.\n",
    "\n",
    "Напомним, что при делении одного целого числа на другое в PostgreSQL в результате получится целое число, округлённое до ближайшего целого вниз. Чтобы этого избежать, переведите делимое в тип `numeric`."
   ]
  },
  {
   "cell_type": "code",
   "execution_count": null,
   "id": "9caa91d4",
   "metadata": {},
   "outputs": [],
   "source": [
    "WITH monthly_post_counts AS (\n",
    "    SELECT \n",
    "        EXTRACT(MONTH FROM creation_date::date) AS month,\n",
    "        COUNT(DISTINCT id) AS post_count\n",
    "    FROM stackoverflow.posts\n",
    "    WHERE creation_date::date BETWEEN '2008-09-01' AND '2008-12-31'\n",
    "    GROUP BY EXTRACT(MONTH FROM creation_date::date)\n",
    ")\n",
    "SELECT \n",
    "    month,\n",
    "    post_count,\n",
    "    ROUND(((post_count::numeric / LAG(post_count) OVER (ORDER BY month)) - 1) * 100, 2) AS post_growth\n",
    "FROM monthly_post_counts;"
   ]
  },
  {
   "cell_type": "markdown",
   "id": "bce87dc2",
   "metadata": {},
   "source": [
    "7. Найдите пользователя, который опубликовал больше всего постов за всё время с момента регистрации. Выведите данные его активности за октябрь 2008 года в таком виде:\n",
    "\n",
    "- номер недели;\n",
    "- дата и время последнего поста, опубликованного на этой неделе."
   ]
  },
  {
   "cell_type": "code",
   "execution_count": null,
   "id": "d36b14f1",
   "metadata": {},
   "outputs": [],
   "source": [
    "WITH top_user AS (\n",
    "    SELECT \n",
    "        user_id,\n",
    "        COUNT(DISTINCT id) AS post_count\n",
    "    FROM stackoverflow.posts\n",
    "    GROUP BY user_id\n",
    "    ORDER BY post_count DESC\n",
    "    LIMIT 1\n",
    "),\n",
    "user_posts_in_october AS (\n",
    "    SELECT \n",
    "        p.user_id,\n",
    "        p.creation_date,\n",
    "        EXTRACT(WEEK FROM p.creation_date) AS week_number\n",
    "    FROM stackoverflow.posts p\n",
    "    JOIN top_user tu ON p.user_id = tu.user_id\n",
    "    WHERE DATE_TRUNC('month', p.creation_date)::date = '2008-10-01'\n",
    ")\n",
    "SELECT \n",
    "    DISTINCT week_number::numeric,\n",
    "    MAX(creation_date) OVER (PARTITION BY week_number) AS max_creation_date\n",
    "FROM user_posts_in_october\n",
    "ORDER BY week_number;"
   ]
  }
 ],
 "metadata": {
  "hide_input": false,
  "kernelspec": {
   "display_name": "Python 3 (ipykernel)",
   "language": "python",
   "name": "python3"
  },
  "language_info": {
   "codemirror_mode": {
    "name": "ipython",
    "version": 3
   },
   "file_extension": ".py",
   "mimetype": "text/x-python",
   "name": "python",
   "nbconvert_exporter": "python",
   "pygments_lexer": "ipython3",
   "version": "3.11.8"
  },
  "toc": {
   "base_numbering": 1,
   "nav_menu": {},
   "number_sections": true,
   "sideBar": true,
   "skip_h1_title": false,
   "title_cell": "Анализ сервиса вопросов и ответов о программировании StackOverflow ",
   "title_sidebar": "Содержание",
   "toc_cell": true,
   "toc_position": {
    "height": "calc(100% - 180px)",
    "left": "10px",
    "top": "150px",
    "width": "383.797px"
   },
   "toc_section_display": true,
   "toc_window_display": true
  },
  "varInspector": {
   "cols": {
    "lenName": 16,
    "lenType": 16,
    "lenVar": 40
   },
   "kernels_config": {
    "python": {
     "delete_cmd_postfix": "",
     "delete_cmd_prefix": "del ",
     "library": "var_list.py",
     "varRefreshCmd": "print(var_dic_list())"
    },
    "r": {
     "delete_cmd_postfix": ") ",
     "delete_cmd_prefix": "rm(",
     "library": "var_list.r",
     "varRefreshCmd": "cat(var_dic_list()) "
    }
   },
   "types_to_exclude": [
    "module",
    "function",
    "builtin_function_or_method",
    "instance",
    "_Feature"
   ],
   "window_display": false
  }
 },
 "nbformat": 4,
 "nbformat_minor": 5
}
