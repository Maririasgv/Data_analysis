{
 "cells": [
  {
   "cell_type": "markdown",
   "id": "6c68f642",
   "metadata": {
    "toc": true
   },
   "source": [
    "<h1>Исследование и проверка гипотез в сервисе аренды самокатов GoFast<span class=\"tocSkip\"></span></h1>\n",
    "<div class=\"toc\"><ul class=\"toc-item\"><li><span><a href=\"#Описание-проекта\" data-toc-modified-id=\"Описание-проекта-1\">Описание проекта</a></span></li><li><span><a href=\"#Обзор-данных\" data-toc-modified-id=\"Обзор-данных-2\">Обзор данных</a></span><ul class=\"toc-item\"><li><span><a href=\"#Поездки-(rides)\" data-toc-modified-id=\"Поездки-(rides)-2.1\">Поездки (rides)</a></span></li><li><span><a href=\"#Пользователи-(users)\" data-toc-modified-id=\"Пользователи-(users)-2.2\">Пользователи (users)</a></span></li><li><span><a href=\"#Подписки-(subs)\" data-toc-modified-id=\"Подписки-(subs)-2.3\">Подписки (subs)</a></span></li></ul></li><li><span><a href=\"#Предобработка-данных\" data-toc-modified-id=\"Предобработка-данных-3\">Предобработка данных</a></span><ul class=\"toc-item\"><li><span><a href=\"#Обработка-столбца-date\" data-toc-modified-id=\"Обработка-столбца-date-3.1\">Обработка столбца date</a></span></li><li><span><a href=\"#Создание-столбца-с-номером-месяца\" data-toc-modified-id=\"Создание-столбца-с-номером-месяца-3.2\">Создание столбца с номером месяца</a></span></li><li><span><a href=\"#Дубликаты\" data-toc-modified-id=\"Дубликаты-3.3\">Дубликаты</a></span></li><li><span><a href=\"#Пропуски\" data-toc-modified-id=\"Пропуски-3.4\">Пропуски</a></span></li></ul></li><li><span><a href=\"#Исследовательский-анализ\" data-toc-modified-id=\"Исследовательский-анализ-4\">Исследовательский анализ</a></span><ul class=\"toc-item\"><li><span><a href=\"#Частотность-по-городам\" data-toc-modified-id=\"Частотность-по-городам-4.1\">Частотность по городам</a></span></li><li><span><a href=\"#Соотношение-пользователей-с-подпиской-и-без-подписки\" data-toc-modified-id=\"Соотношение-пользователей-с-подпиской-и-без-подписки-4.2\">Соотношение пользователей с подпиской и без подписки</a></span></li><li><span><a href=\"#Возраст-пользователей\" data-toc-modified-id=\"Возраст-пользователей-4.3\">Возраст пользователей</a></span></li><li><span><a href=\"#Расстояние,-которое-пользователь-преодолел-за-одну-поездку\" data-toc-modified-id=\"Расстояние,-которое-пользователь-преодолел-за-одну-поездку-4.4\">Расстояние, которое пользователь преодолел за одну поездку</a></span></li><li><span><a href=\"#Продолжительность-поездок\" data-toc-modified-id=\"Продолжительность-поездок-4.5\">Продолжительность поездок</a></span></li><li><span><a href=\"#Анализ-расстояния-и-времени-поездок-для-пользователей-с-подпиской-и-без\" data-toc-modified-id=\"Анализ-расстояния-и-времени-поездок-для-пользователей-с-подпиской-и-без-4.6\">Анализ расстояния и времени поездок для пользователей с подпиской и без</a></span><ul class=\"toc-item\"><li><span><a href=\"#Подготовка-данных-к-анализу\" data-toc-modified-id=\"Подготовка-данных-к-анализу-4.6.1\">Подготовка данных к анализу</a></span></li><li><span><a href=\"#Распределение-пользователей-по-расстоянию-поездки\" data-toc-modified-id=\"Распределение-пользователей-по-расстоянию-поездки-4.6.2\">Распределение пользователей по расстоянию поездки</a></span></li><li><span><a href=\"#Распределение-пользователей-по-времени-поездки\" data-toc-modified-id=\"Распределение-пользователей-по-времени-поездки-4.6.3\">Распределение пользователей по времени поездки</a></span></li><li><span><a href=\"#Подсчёт-выручки\" data-toc-modified-id=\"Подсчёт-выручки-4.6.4\">Подсчёт выручки</a></span></li></ul></li></ul></li><li><span><a href=\"#Проверка-гипотез\" data-toc-modified-id=\"Проверка-гипотез-5\">Проверка гипотез</a></span><ul class=\"toc-item\"><li><ul class=\"toc-item\"><li><span><a href=\"#Гипотеза-1\" data-toc-modified-id=\"Гипотеза-1-5.0.1\">Гипотеза 1</a></span></li><li><span><a href=\"#Гипотеза-2\" data-toc-modified-id=\"Гипотеза-2-5.0.2\">Гипотеза 2</a></span></li><li><span><a href=\"#Гипотеза-3\" data-toc-modified-id=\"Гипотеза-3-5.0.3\">Гипотеза 3</a></span></li></ul></li></ul></li><li><span><a href=\"#Итог-и-рекомендации\" data-toc-modified-id=\"Итог-и-рекомендации-6\">Итог и рекомендации</a></span><ul class=\"toc-item\"><li><span><a href=\"#В-ходе-анализа:\" data-toc-modified-id=\"В-ходе-анализа:-6.1\">В ходе анализа:</a></span></li><li><span><a href=\"#Итог-и-рекомендации\" data-toc-modified-id=\"Итог-и-рекомендации-6.2\">Итог и рекомендации</a></span></li></ul></li></ul></div>"
   ]
  },
  {
   "cell_type": "markdown",
   "id": "3b12f4d1",
   "metadata": {},
   "source": [
    "## Описание проекта"
   ]
  },
  {
   "cell_type": "markdown",
   "id": "dffc6139",
   "metadata": {},
   "source": [
    "**Область исследования**:\\\n",
    "Информация о пользователях сервиса из нескольких городов, их поездках и подписках."
   ]
  },
  {
   "cell_type": "markdown",
   "id": "38117ca5",
   "metadata": {},
   "source": [
    "**Задача**:\\\n",
    "Анализ данных и проверка гипотез, которые могут помочь бизнесу вырасти."
   ]
  },
  {
   "cell_type": "markdown",
   "id": "1335a850",
   "metadata": {},
   "source": [
    "**Структура данных**:\n",
    "\n",
    "1) Пользователи (users_go.csv):\n",
    "- user_id - уникальный идентификатор пользователя\n",
    "- name - имя пользователя\n",
    "- age - возраст\n",
    "- city - город\n",
    "- subscription_type - тип подписки (free, ultra)\n",
    "\n",
    "2) Поездки (rides_go.csv):\n",
    "- user_id - уникальный идентификатор пользователя\n",
    "- distance - расстояние, которое пользователь проехал в текущей сессии (в метрах)\n",
    "- duration - продолжительность сессии (в минутах) — время с того момента, как пользователь нажал кнопку «Начать поездку» до момента, как он нажал кнопку «Завершить поездку»\n",
    "- date - дата совершения поездки\n",
    "\n",
    "3) Подписки(subscriptions_go.csv):\n",
    "- subscription_type - тип подписки\n",
    "- minute_price - стоимость одной минуты поездки по данной подписке\n",
    "- start_ride_price - стоимость начала поездки\n",
    "- subscription_fee - стоимость ежемесячного платежа"
   ]
  },
  {
   "cell_type": "markdown",
   "id": "0f35910f",
   "metadata": {},
   "source": [
    "**Дополнительно:**\n",
    "\n",
    "Чтобы совершать поездки по городу, пользователи сервиса GoFast пользуются мобильным приложением с двумя тарифами:\n",
    "\n",
    "||без подписки|с подпиской Ultra|\n",
    "|:------|:----------------|:----------------|\n",
    "|абонентская плата|отсутствует|199 рублей в месяц|\n",
    "|стоимость одной минуты поездки|8 рублей|6 рублей|\n",
    "|стоимость старта (начала поездки)|50 рублей|бесплатно|\n"
   ]
  },
  {
   "cell_type": "markdown",
   "id": "7c5b4d3e",
   "metadata": {},
   "source": [
    "## Обзор данных"
   ]
  },
  {
   "cell_type": "code",
   "execution_count": 1,
   "id": "72576667",
   "metadata": {
    "ExecuteTime": {
     "end_time": "2024-12-12T08:47:51.561632Z",
     "start_time": "2024-12-12T08:47:50.605194Z"
    }
   },
   "outputs": [],
   "source": [
    "import pandas as pd\n",
    "from scipy import stats as st\n",
    "import numpy as np\n",
    "import matplotlib.pyplot as plt\n",
    "import seaborn as sns"
   ]
  },
  {
   "cell_type": "markdown",
   "id": "44f929a1",
   "metadata": {},
   "source": [
    "### Поездки (rides)"
   ]
  },
  {
   "cell_type": "code",
   "execution_count": 2,
   "id": "cf84ab39",
   "metadata": {
    "ExecuteTime": {
     "end_time": "2024-12-12T08:47:51.575995Z",
     "start_time": "2024-12-12T08:47:51.562478Z"
    },
    "scrolled": true
   },
   "outputs": [
    {
     "data": {
      "text/html": [
       "<div>\n",
       "<style scoped>\n",
       "    .dataframe tbody tr th:only-of-type {\n",
       "        vertical-align: middle;\n",
       "    }\n",
       "\n",
       "    .dataframe tbody tr th {\n",
       "        vertical-align: top;\n",
       "    }\n",
       "\n",
       "    .dataframe thead th {\n",
       "        text-align: right;\n",
       "    }\n",
       "</style>\n",
       "<table border=\"1\" class=\"dataframe\">\n",
       "  <thead>\n",
       "    <tr style=\"text-align: right;\">\n",
       "      <th></th>\n",
       "      <th>user_id</th>\n",
       "      <th>distance</th>\n",
       "      <th>duration</th>\n",
       "      <th>date</th>\n",
       "    </tr>\n",
       "  </thead>\n",
       "  <tbody>\n",
       "    <tr>\n",
       "      <th>9351</th>\n",
       "      <td>912</td>\n",
       "      <td>332.617535</td>\n",
       "      <td>13.688174</td>\n",
       "      <td>2021-06-07</td>\n",
       "    </tr>\n",
       "    <tr>\n",
       "      <th>14651</th>\n",
       "      <td>1290</td>\n",
       "      <td>3259.142692</td>\n",
       "      <td>25.036571</td>\n",
       "      <td>2021-09-16</td>\n",
       "    </tr>\n",
       "    <tr>\n",
       "      <th>5982</th>\n",
       "      <td>640</td>\n",
       "      <td>3249.894965</td>\n",
       "      <td>17.285414</td>\n",
       "      <td>2021-02-07</td>\n",
       "    </tr>\n",
       "    <tr>\n",
       "      <th>3359</th>\n",
       "      <td>362</td>\n",
       "      <td>3063.762877</td>\n",
       "      <td>17.130412</td>\n",
       "      <td>2021-07-26</td>\n",
       "    </tr>\n",
       "    <tr>\n",
       "      <th>13564</th>\n",
       "      <td>1215</td>\n",
       "      <td>2629.871975</td>\n",
       "      <td>17.574680</td>\n",
       "      <td>2021-03-27</td>\n",
       "    </tr>\n",
       "  </tbody>\n",
       "</table>\n",
       "</div>"
      ],
      "text/plain": [
       "       user_id     distance   duration        date\n",
       "9351       912   332.617535  13.688174  2021-06-07\n",
       "14651     1290  3259.142692  25.036571  2021-09-16\n",
       "5982       640  3249.894965  17.285414  2021-02-07\n",
       "3359       362  3063.762877  17.130412  2021-07-26\n",
       "13564     1215  2629.871975  17.574680  2021-03-27"
      ]
     },
     "execution_count": 2,
     "metadata": {},
     "output_type": "execute_result"
    }
   ],
   "source": [
    "try:\n",
    "    rides = pd.read_csv('/datasets/rides_go.csv', sep=',')\n",
    "except:\n",
    "    rides = pd.read_csv('/Users/mariiasergeeva/Desktop/rides_go.csv', sep=',')\n",
    "\n",
    "rides.sample(5)"
   ]
  },
  {
   "cell_type": "code",
   "execution_count": 3,
   "id": "be2de55b",
   "metadata": {
    "ExecuteTime": {
     "end_time": "2024-12-12T08:47:51.580621Z",
     "start_time": "2024-12-12T08:47:51.576986Z"
    }
   },
   "outputs": [
    {
     "name": "stdout",
     "output_type": "stream",
     "text": [
      "<class 'pandas.core.frame.DataFrame'>\n",
      "RangeIndex: 18068 entries, 0 to 18067\n",
      "Data columns (total 4 columns):\n",
      " #   Column    Non-Null Count  Dtype  \n",
      "---  ------    --------------  -----  \n",
      " 0   user_id   18068 non-null  int64  \n",
      " 1   distance  18068 non-null  float64\n",
      " 2   duration  18068 non-null  float64\n",
      " 3   date      18068 non-null  object \n",
      "dtypes: float64(2), int64(1), object(1)\n",
      "memory usage: 564.8+ KB\n"
     ]
    }
   ],
   "source": [
    "rides.info()"
   ]
  },
  {
   "cell_type": "markdown",
   "id": "a91744d0",
   "metadata": {},
   "source": [
    "### Пользователи (users)"
   ]
  },
  {
   "cell_type": "code",
   "execution_count": 4,
   "id": "af6d202c",
   "metadata": {
    "ExecuteTime": {
     "end_time": "2024-12-12T08:47:51.586237Z",
     "start_time": "2024-12-12T08:47:51.581434Z"
    },
    "scrolled": false
   },
   "outputs": [
    {
     "data": {
      "text/html": [
       "<div>\n",
       "<style scoped>\n",
       "    .dataframe tbody tr th:only-of-type {\n",
       "        vertical-align: middle;\n",
       "    }\n",
       "\n",
       "    .dataframe tbody tr th {\n",
       "        vertical-align: top;\n",
       "    }\n",
       "\n",
       "    .dataframe thead th {\n",
       "        text-align: right;\n",
       "    }\n",
       "</style>\n",
       "<table border=\"1\" class=\"dataframe\">\n",
       "  <thead>\n",
       "    <tr style=\"text-align: right;\">\n",
       "      <th></th>\n",
       "      <th>user_id</th>\n",
       "      <th>name</th>\n",
       "      <th>age</th>\n",
       "      <th>city</th>\n",
       "      <th>subscription_type</th>\n",
       "    </tr>\n",
       "  </thead>\n",
       "  <tbody>\n",
       "    <tr>\n",
       "      <th>171</th>\n",
       "      <td>172</td>\n",
       "      <td>Валерий</td>\n",
       "      <td>25</td>\n",
       "      <td>Сочи</td>\n",
       "      <td>ultra</td>\n",
       "    </tr>\n",
       "    <tr>\n",
       "      <th>173</th>\n",
       "      <td>174</td>\n",
       "      <td>Инна</td>\n",
       "      <td>28</td>\n",
       "      <td>Краснодар</td>\n",
       "      <td>ultra</td>\n",
       "    </tr>\n",
       "    <tr>\n",
       "      <th>1437</th>\n",
       "      <td>1438</td>\n",
       "      <td>Тамара</td>\n",
       "      <td>30</td>\n",
       "      <td>Пятигорск</td>\n",
       "      <td>free</td>\n",
       "    </tr>\n",
       "    <tr>\n",
       "      <th>1191</th>\n",
       "      <td>1192</td>\n",
       "      <td>Глеб</td>\n",
       "      <td>26</td>\n",
       "      <td>Москва</td>\n",
       "      <td>free</td>\n",
       "    </tr>\n",
       "    <tr>\n",
       "      <th>106</th>\n",
       "      <td>107</td>\n",
       "      <td>Данила</td>\n",
       "      <td>26</td>\n",
       "      <td>Екатеринбург</td>\n",
       "      <td>ultra</td>\n",
       "    </tr>\n",
       "  </tbody>\n",
       "</table>\n",
       "</div>"
      ],
      "text/plain": [
       "      user_id     name  age          city subscription_type\n",
       "171       172  Валерий   25          Сочи             ultra\n",
       "173       174     Инна   28     Краснодар             ultra\n",
       "1437     1438   Тамара   30     Пятигорск              free\n",
       "1191     1192     Глеб   26        Москва              free\n",
       "106       107   Данила   26  Екатеринбург             ultra"
      ]
     },
     "execution_count": 4,
     "metadata": {},
     "output_type": "execute_result"
    }
   ],
   "source": [
    "try:\n",
    "    users = pd.read_csv('/datasets/users_go.csv', sep=',')\n",
    "except:\n",
    "    users = pd.read_csv('/Users/mariiasergeeva/Desktop/users_go.csv', sep=',')\n",
    "\n",
    "users.sample(5)"
   ]
  },
  {
   "cell_type": "code",
   "execution_count": 5,
   "id": "f6204e37",
   "metadata": {
    "ExecuteTime": {
     "end_time": "2024-12-12T08:47:51.589780Z",
     "start_time": "2024-12-12T08:47:51.586975Z"
    },
    "scrolled": true
   },
   "outputs": [
    {
     "name": "stdout",
     "output_type": "stream",
     "text": [
      "<class 'pandas.core.frame.DataFrame'>\n",
      "RangeIndex: 1565 entries, 0 to 1564\n",
      "Data columns (total 5 columns):\n",
      " #   Column             Non-Null Count  Dtype \n",
      "---  ------             --------------  ----- \n",
      " 0   user_id            1565 non-null   int64 \n",
      " 1   name               1565 non-null   object\n",
      " 2   age                1565 non-null   int64 \n",
      " 3   city               1565 non-null   object\n",
      " 4   subscription_type  1565 non-null   object\n",
      "dtypes: int64(2), object(3)\n",
      "memory usage: 61.3+ KB\n"
     ]
    }
   ],
   "source": [
    "users.info()"
   ]
  },
  {
   "cell_type": "markdown",
   "id": "8fe16635",
   "metadata": {},
   "source": [
    "### Подписки (subs)"
   ]
  },
  {
   "cell_type": "code",
   "execution_count": 6,
   "id": "471ac71a",
   "metadata": {
    "ExecuteTime": {
     "end_time": "2024-12-12T08:47:51.594263Z",
     "start_time": "2024-12-12T08:47:51.590377Z"
    }
   },
   "outputs": [
    {
     "data": {
      "text/html": [
       "<div>\n",
       "<style scoped>\n",
       "    .dataframe tbody tr th:only-of-type {\n",
       "        vertical-align: middle;\n",
       "    }\n",
       "\n",
       "    .dataframe tbody tr th {\n",
       "        vertical-align: top;\n",
       "    }\n",
       "\n",
       "    .dataframe thead th {\n",
       "        text-align: right;\n",
       "    }\n",
       "</style>\n",
       "<table border=\"1\" class=\"dataframe\">\n",
       "  <thead>\n",
       "    <tr style=\"text-align: right;\">\n",
       "      <th></th>\n",
       "      <th>subscription_type</th>\n",
       "      <th>minute_price</th>\n",
       "      <th>start_ride_price</th>\n",
       "      <th>subscription_fee</th>\n",
       "    </tr>\n",
       "  </thead>\n",
       "  <tbody>\n",
       "    <tr>\n",
       "      <th>0</th>\n",
       "      <td>free</td>\n",
       "      <td>8</td>\n",
       "      <td>50</td>\n",
       "      <td>0</td>\n",
       "    </tr>\n",
       "    <tr>\n",
       "      <th>1</th>\n",
       "      <td>ultra</td>\n",
       "      <td>6</td>\n",
       "      <td>0</td>\n",
       "      <td>199</td>\n",
       "    </tr>\n",
       "  </tbody>\n",
       "</table>\n",
       "</div>"
      ],
      "text/plain": [
       "  subscription_type  minute_price  start_ride_price  subscription_fee\n",
       "0              free             8                50                 0\n",
       "1             ultra             6                 0               199"
      ]
     },
     "execution_count": 6,
     "metadata": {},
     "output_type": "execute_result"
    }
   ],
   "source": [
    "try:\n",
    "    subs = pd.read_csv('/datasets/subscriptions_go.csv', sep=',')\n",
    "except:\n",
    "    subs = pd.read_csv('/Users/mariiasergeeva/Desktop/subscriptions_go.csv', sep=',')\n",
    "\n",
    "subs"
   ]
  },
  {
   "cell_type": "code",
   "execution_count": 7,
   "id": "a6757065",
   "metadata": {
    "ExecuteTime": {
     "end_time": "2024-12-12T08:47:51.598702Z",
     "start_time": "2024-12-12T08:47:51.595159Z"
    },
    "scrolled": true
   },
   "outputs": [
    {
     "name": "stdout",
     "output_type": "stream",
     "text": [
      "<class 'pandas.core.frame.DataFrame'>\n",
      "RangeIndex: 2 entries, 0 to 1\n",
      "Data columns (total 4 columns):\n",
      " #   Column             Non-Null Count  Dtype \n",
      "---  ------             --------------  ----- \n",
      " 0   subscription_type  2 non-null      object\n",
      " 1   minute_price       2 non-null      int64 \n",
      " 2   start_ride_price   2 non-null      int64 \n",
      " 3   subscription_fee   2 non-null      int64 \n",
      "dtypes: int64(3), object(1)\n",
      "memory usage: 196.0+ bytes\n"
     ]
    }
   ],
   "source": [
    "subs.info()"
   ]
  },
  {
   "cell_type": "markdown",
   "id": "e95ebca7",
   "metadata": {},
   "source": [
    "## Предобработка данных"
   ]
  },
  {
   "cell_type": "markdown",
   "id": "4bf70569",
   "metadata": {},
   "source": [
    "### Обработка столбца date"
   ]
  },
  {
   "cell_type": "code",
   "execution_count": 8,
   "id": "d26287a1",
   "metadata": {
    "ExecuteTime": {
     "end_time": "2024-12-12T08:47:51.604228Z",
     "start_time": "2024-12-12T08:47:51.600653Z"
    },
    "scrolled": true
   },
   "outputs": [],
   "source": [
    "rides['date'] = pd.to_datetime(rides['date'],format='%Y-%m-%d')"
   ]
  },
  {
   "cell_type": "code",
   "execution_count": 9,
   "id": "e5b173d5",
   "metadata": {
    "ExecuteTime": {
     "end_time": "2024-12-12T08:47:51.607741Z",
     "start_time": "2024-12-12T08:47:51.604862Z"
    }
   },
   "outputs": [
    {
     "name": "stdout",
     "output_type": "stream",
     "text": [
      "<class 'pandas.core.frame.DataFrame'>\n",
      "RangeIndex: 18068 entries, 0 to 18067\n",
      "Data columns (total 4 columns):\n",
      " #   Column    Non-Null Count  Dtype         \n",
      "---  ------    --------------  -----         \n",
      " 0   user_id   18068 non-null  int64         \n",
      " 1   distance  18068 non-null  float64       \n",
      " 2   duration  18068 non-null  float64       \n",
      " 3   date      18068 non-null  datetime64[ns]\n",
      "dtypes: datetime64[ns](1), float64(2), int64(1)\n",
      "memory usage: 564.8 KB\n"
     ]
    }
   ],
   "source": [
    "rides.info()"
   ]
  },
  {
   "cell_type": "markdown",
   "id": "5034bbcb",
   "metadata": {},
   "source": [
    "### Создание столбца с номером месяца"
   ]
  },
  {
   "cell_type": "code",
   "execution_count": 10,
   "id": "82b18011",
   "metadata": {
    "ExecuteTime": {
     "end_time": "2024-12-12T08:47:51.610641Z",
     "start_time": "2024-12-12T08:47:51.608386Z"
    }
   },
   "outputs": [],
   "source": [
    "rides['ride_month'] = rides['date'].dt.month"
   ]
  },
  {
   "cell_type": "code",
   "execution_count": 11,
   "id": "68d04ec8",
   "metadata": {
    "ExecuteTime": {
     "end_time": "2024-12-12T08:47:51.614543Z",
     "start_time": "2024-12-12T08:47:51.611323Z"
    },
    "run_control": {
     "marked": false
    }
   },
   "outputs": [
    {
     "data": {
      "text/html": [
       "<div>\n",
       "<style scoped>\n",
       "    .dataframe tbody tr th:only-of-type {\n",
       "        vertical-align: middle;\n",
       "    }\n",
       "\n",
       "    .dataframe tbody tr th {\n",
       "        vertical-align: top;\n",
       "    }\n",
       "\n",
       "    .dataframe thead th {\n",
       "        text-align: right;\n",
       "    }\n",
       "</style>\n",
       "<table border=\"1\" class=\"dataframe\">\n",
       "  <thead>\n",
       "    <tr style=\"text-align: right;\">\n",
       "      <th></th>\n",
       "      <th>user_id</th>\n",
       "      <th>distance</th>\n",
       "      <th>duration</th>\n",
       "      <th>date</th>\n",
       "      <th>ride_month</th>\n",
       "    </tr>\n",
       "  </thead>\n",
       "  <tbody>\n",
       "    <tr>\n",
       "      <th>0</th>\n",
       "      <td>1</td>\n",
       "      <td>4409.919140</td>\n",
       "      <td>25.599769</td>\n",
       "      <td>2021-01-01</td>\n",
       "      <td>1</td>\n",
       "    </tr>\n",
       "    <tr>\n",
       "      <th>1</th>\n",
       "      <td>1</td>\n",
       "      <td>2617.592153</td>\n",
       "      <td>15.816871</td>\n",
       "      <td>2021-01-18</td>\n",
       "      <td>1</td>\n",
       "    </tr>\n",
       "    <tr>\n",
       "      <th>2</th>\n",
       "      <td>1</td>\n",
       "      <td>754.159807</td>\n",
       "      <td>6.232113</td>\n",
       "      <td>2021-04-20</td>\n",
       "      <td>4</td>\n",
       "    </tr>\n",
       "    <tr>\n",
       "      <th>3</th>\n",
       "      <td>1</td>\n",
       "      <td>2694.783254</td>\n",
       "      <td>18.511000</td>\n",
       "      <td>2021-08-11</td>\n",
       "      <td>8</td>\n",
       "    </tr>\n",
       "    <tr>\n",
       "      <th>4</th>\n",
       "      <td>1</td>\n",
       "      <td>4028.687306</td>\n",
       "      <td>26.265803</td>\n",
       "      <td>2021-08-28</td>\n",
       "      <td>8</td>\n",
       "    </tr>\n",
       "  </tbody>\n",
       "</table>\n",
       "</div>"
      ],
      "text/plain": [
       "   user_id     distance   duration       date  ride_month\n",
       "0        1  4409.919140  25.599769 2021-01-01           1\n",
       "1        1  2617.592153  15.816871 2021-01-18           1\n",
       "2        1   754.159807   6.232113 2021-04-20           4\n",
       "3        1  2694.783254  18.511000 2021-08-11           8\n",
       "4        1  4028.687306  26.265803 2021-08-28           8"
      ]
     },
     "execution_count": 11,
     "metadata": {},
     "output_type": "execute_result"
    }
   ],
   "source": [
    "rides.head()"
   ]
  },
  {
   "cell_type": "markdown",
   "id": "cb7fe888",
   "metadata": {},
   "source": [
    "### Дубликаты"
   ]
  },
  {
   "cell_type": "code",
   "execution_count": 12,
   "id": "bd1cbe0d",
   "metadata": {
    "ExecuteTime": {
     "end_time": "2024-12-12T08:47:51.618843Z",
     "start_time": "2024-12-12T08:47:51.615136Z"
    }
   },
   "outputs": [
    {
     "name": "stdout",
     "output_type": "stream",
     "text": [
      "0\n",
      "0\n",
      "31\n"
     ]
    }
   ],
   "source": [
    "def count_duplicates(df):\n",
    "    return df.duplicated().sum()\n",
    "print(count_duplicates(subs))\n",
    "print(count_duplicates(rides))\n",
    "print(count_duplicates(users))"
   ]
  },
  {
   "cell_type": "markdown",
   "id": "772fed46",
   "metadata": {},
   "source": [
    "Удаляем дубликаты из датафрейма users:"
   ]
  },
  {
   "cell_type": "code",
   "execution_count": 13,
   "id": "34e20097",
   "metadata": {
    "ExecuteTime": {
     "end_time": "2024-12-12T08:47:51.622298Z",
     "start_time": "2024-12-12T08:47:51.619553Z"
    }
   },
   "outputs": [
    {
     "data": {
      "text/plain": [
       "0"
      ]
     },
     "execution_count": 13,
     "metadata": {},
     "output_type": "execute_result"
    }
   ],
   "source": [
    "users = users.drop_duplicates()\n",
    "count_duplicates(users)"
   ]
  },
  {
   "cell_type": "markdown",
   "id": "2a4515ee",
   "metadata": {},
   "source": [
    "### Пропуски"
   ]
  },
  {
   "cell_type": "code",
   "execution_count": 14,
   "id": "cbc9aff0",
   "metadata": {
    "ExecuteTime": {
     "end_time": "2024-12-12T08:47:51.625554Z",
     "start_time": "2024-12-12T08:47:51.622908Z"
    },
    "scrolled": false
   },
   "outputs": [
    {
     "name": "stdout",
     "output_type": "stream",
     "text": [
      "user_id       0\n",
      "distance      0\n",
      "duration      0\n",
      "date          0\n",
      "ride_month    0\n",
      "dtype: int64\n",
      "user_id              0\n",
      "name                 0\n",
      "age                  0\n",
      "city                 0\n",
      "subscription_type    0\n",
      "dtype: int64\n",
      "subscription_type    0\n",
      "minute_price         0\n",
      "start_ride_price     0\n",
      "subscription_fee     0\n",
      "dtype: int64\n"
     ]
    }
   ],
   "source": [
    "print(rides.isnull().sum())\n",
    "print(users.isnull().sum())\n",
    "print(subs.isnull().sum())"
   ]
  },
  {
   "cell_type": "markdown",
   "id": "212593c7",
   "metadata": {},
   "source": [
    "## Исследовательский анализ"
   ]
  },
  {
   "cell_type": "markdown",
   "id": "ffe161d5",
   "metadata": {},
   "source": [
    "<a id=\"section_3\"></a>"
   ]
  },
  {
   "cell_type": "markdown",
   "id": "3eada2e9",
   "metadata": {},
   "source": [
    "### Частотность по городам"
   ]
  },
  {
   "cell_type": "code",
   "execution_count": 15,
   "id": "ac4e8335",
   "metadata": {
    "ExecuteTime": {
     "end_time": "2024-12-12T08:47:51.739526Z",
     "start_time": "2024-12-12T08:47:51.626751Z"
    },
    "scrolled": false
   },
   "outputs": [
    {
     "data": {
      "image/png": "[encoded data removed]",
      "text/plain": [
       "<Figure size 1000x600 with 1 Axes>"
      ]
     },
     "metadata": {},
     "output_type": "display_data"
    }
   ],
   "source": [
    "city_counts = users['city'].value_counts().sort_values(ascending=False)\n",
    "plt.figure(figsize=(10, 6))\n",
    "plt.bar(city_counts.index, city_counts.values, color='#789DBC')\n",
    "plt.grid(color='lightgray', linestyle='--', linewidth=0.5, axis='y')\n",
    "plt.xticks(rotation=45)\n",
    "plt.xlabel('Города')\n",
    "plt.ylabel('Количество пользователей')\n",
    "plt.title('Количество пользователей по городам')\n",
    "plt.show()"
   ]
  },
  {
   "cell_type": "code",
   "execution_count": 16,
   "id": "f4ce037d",
   "metadata": {
    "ExecuteTime": {
     "end_time": "2024-12-12T08:47:51.756635Z",
     "start_time": "2024-12-12T08:47:51.745576Z"
    },
    "scrolled": true
   },
   "outputs": [
    {
     "data": {
      "text/html": [
       "<div>\n",
       "<style scoped>\n",
       "    .dataframe tbody tr th:only-of-type {\n",
       "        vertical-align: middle;\n",
       "    }\n",
       "\n",
       "    .dataframe tbody tr th {\n",
       "        vertical-align: top;\n",
       "    }\n",
       "\n",
       "    .dataframe thead th {\n",
       "        text-align: right;\n",
       "    }\n",
       "</style>\n",
       "<table border=\"1\" class=\"dataframe\">\n",
       "  <thead>\n",
       "    <tr style=\"text-align: right;\">\n",
       "      <th></th>\n",
       "      <th>city</th>\n",
       "      <th>count</th>\n",
       "    </tr>\n",
       "  </thead>\n",
       "  <tbody>\n",
       "    <tr>\n",
       "      <th>0</th>\n",
       "      <td>Пятигорск</td>\n",
       "      <td>219</td>\n",
       "    </tr>\n",
       "    <tr>\n",
       "      <th>1</th>\n",
       "      <td>Екатеринбург</td>\n",
       "      <td>204</td>\n",
       "    </tr>\n",
       "    <tr>\n",
       "      <th>2</th>\n",
       "      <td>Ростов-на-Дону</td>\n",
       "      <td>198</td>\n",
       "    </tr>\n",
       "    <tr>\n",
       "      <th>3</th>\n",
       "      <td>Краснодар</td>\n",
       "      <td>193</td>\n",
       "    </tr>\n",
       "    <tr>\n",
       "      <th>4</th>\n",
       "      <td>Сочи</td>\n",
       "      <td>189</td>\n",
       "    </tr>\n",
       "    <tr>\n",
       "      <th>5</th>\n",
       "      <td>Омск</td>\n",
       "      <td>183</td>\n",
       "    </tr>\n",
       "    <tr>\n",
       "      <th>6</th>\n",
       "      <td>Тюмень</td>\n",
       "      <td>180</td>\n",
       "    </tr>\n",
       "    <tr>\n",
       "      <th>7</th>\n",
       "      <td>Москва</td>\n",
       "      <td>168</td>\n",
       "    </tr>\n",
       "  </tbody>\n",
       "</table>\n",
       "</div>"
      ],
      "text/plain": [
       "             city  count\n",
       "0       Пятигорск    219\n",
       "1    Екатеринбург    204\n",
       "2  Ростов-на-Дону    198\n",
       "3       Краснодар    193\n",
       "4            Сочи    189\n",
       "5            Омск    183\n",
       "6          Тюмень    180\n",
       "7          Москва    168"
      ]
     },
     "execution_count": 16,
     "metadata": {},
     "output_type": "execute_result"
    }
   ],
   "source": [
    "city_counts = users['city'].value_counts().reset_index()\n",
    "city_counts.columns = ['city', 'count']\n",
    "city_counts"
   ]
  },
  {
   "cell_type": "markdown",
   "id": "7d6dfc50",
   "metadata": {},
   "source": [
    "В данной выборке представлены пользователи по 8 городам.\\\n",
    "Наибольшее их число находится в Пятигорске(219), наименьшее в Москве(168).\\\n",
    "Так же видно, что наибольшее количество пользователей территориально находится на юге РФ."
   ]
  },
  {
   "cell_type": "markdown",
   "id": "2ae8f582",
   "metadata": {},
   "source": [
    "<a id=\"section_4\"></a>"
   ]
  },
  {
   "cell_type": "markdown",
   "id": "938eeb19",
   "metadata": {},
   "source": [
    "### Соотношение пользователей с подпиской и без подписки"
   ]
  },
  {
   "cell_type": "code",
   "execution_count": 17,
   "id": "dd5177dc",
   "metadata": {
    "ExecuteTime": {
     "end_time": "2024-12-12T08:47:51.822636Z",
     "start_time": "2024-12-12T08:47:51.757915Z"
    },
    "scrolled": false
   },
   "outputs": [
    {
     "data": {
      "image/png": "[encoded data removed]",
      "text/plain": [
       "<Figure size 800x800 with 1 Axes>"
      ]
     },
     "metadata": {},
     "output_type": "display_data"
    }
   ],
   "source": [
    "counts = users['subscription_type'].value_counts()\n",
    "counts.plot(\n",
    "    kind='pie',\n",
    "    figsize=(8, 8),\n",
    "    colors=['#789DBC', '#FFDDAE'],\n",
    "    labels=['Без подписки', 'С подпиской Ultra'],\n",
    "    autopct='%1.1f%%',\n",
    "    ylabel=''\n",
    ")\n",
    "plt.title('Распределение типов подписок')\n",
    "plt.show()"
   ]
  },
  {
   "cell_type": "code",
   "execution_count": 18,
   "id": "3687fdab",
   "metadata": {
    "ExecuteTime": {
     "end_time": "2024-12-12T08:47:51.839466Z",
     "start_time": "2024-12-12T08:47:51.823952Z"
    }
   },
   "outputs": [
    {
     "data": {
      "text/html": [
       "<div>\n",
       "<style scoped>\n",
       "    .dataframe tbody tr th:only-of-type {\n",
       "        vertical-align: middle;\n",
       "    }\n",
       "\n",
       "    .dataframe tbody tr th {\n",
       "        vertical-align: top;\n",
       "    }\n",
       "\n",
       "    .dataframe thead th {\n",
       "        text-align: right;\n",
       "    }\n",
       "</style>\n",
       "<table border=\"1\" class=\"dataframe\">\n",
       "  <thead>\n",
       "    <tr style=\"text-align: right;\">\n",
       "      <th></th>\n",
       "      <th>subscription_type</th>\n",
       "      <th>count</th>\n",
       "    </tr>\n",
       "  </thead>\n",
       "  <tbody>\n",
       "    <tr>\n",
       "      <th>0</th>\n",
       "      <td>free</td>\n",
       "      <td>835</td>\n",
       "    </tr>\n",
       "    <tr>\n",
       "      <th>1</th>\n",
       "      <td>ultra</td>\n",
       "      <td>699</td>\n",
       "    </tr>\n",
       "  </tbody>\n",
       "</table>\n",
       "</div>"
      ],
      "text/plain": [
       "  subscription_type  count\n",
       "0              free    835\n",
       "1             ultra    699"
      ]
     },
     "execution_count": 18,
     "metadata": {},
     "output_type": "execute_result"
    }
   ],
   "source": [
    "subscription_counts = users['subscription_type'].value_counts().reset_index()\n",
    "subscription_counts.columns = ['subscription_type', 'count']\n",
    "subscription_counts"
   ]
  },
  {
   "cell_type": "markdown",
   "id": "fc38e82e",
   "metadata": {},
   "source": [
    "Пользователей без подписки на ~9% больше, чем тех, у кого подписка имеется."
   ]
  },
  {
   "cell_type": "markdown",
   "id": "0cacffea",
   "metadata": {},
   "source": [
    "<a id=\"section_5\"></a>"
   ]
  },
  {
   "cell_type": "markdown",
   "id": "4a8c0afa",
   "metadata": {},
   "source": [
    "### Возраст пользователей"
   ]
  },
  {
   "cell_type": "code",
   "execution_count": 19,
   "id": "a4742913",
   "metadata": {
    "ExecuteTime": {
     "end_time": "2024-12-12T08:47:51.929269Z",
     "start_time": "2024-12-12T08:47:51.840848Z"
    },
    "scrolled": false
   },
   "outputs": [
    {
     "data": {
      "image/png": "[encoded data removed]",
      "text/plain": [
       "<Figure size 1000x600 with 1 Axes>"
      ]
     },
     "metadata": {},
     "output_type": "display_data"
    },
    {
     "data": {
      "text/plain": [
       "count    1534.000000\n",
       "mean       24.903520\n",
       "std         4.572367\n",
       "min        12.000000\n",
       "25%        22.000000\n",
       "50%        25.000000\n",
       "75%        28.000000\n",
       "max        43.000000\n",
       "Name: age, dtype: float64"
      ]
     },
     "execution_count": 19,
     "metadata": {},
     "output_type": "execute_result"
    }
   ],
   "source": [
    "age = users['age'].value_counts().sort_values(ascending=False)\n",
    "plt.figure(figsize=(10, 6))\n",
    "plt.bar(age.index, age.values, color='#789DBC')\n",
    "plt.grid(color='lightgray', linestyle='--', linewidth=0.5, axis='y')\n",
    "plt.xlabel('Возраст')\n",
    "plt.ylabel('Количество пользователей')\n",
    "plt.title('Распределение пользователей по возрасту')\n",
    "plt.show()\n",
    "\n",
    "users['age'].describe()"
   ]
  },
  {
   "cell_type": "markdown",
   "id": "5bb5ca1c",
   "metadata": {},
   "source": [
    "Распределение по возрасту близко к нормальному.\\\n",
    "Средний возраст пользователя - 25 лет.\\\n",
    "Самому младшему - 12 лет, самому старшему - 43 года.\\\n",
    "Половина всех пользователей находится в сравнительно небольшом возрастном сегменте - 22-28 лет."
   ]
  },
  {
   "cell_type": "markdown",
   "id": "a3d28f7a",
   "metadata": {},
   "source": [
    "<a id=\"section_6\"></a>"
   ]
  },
  {
   "cell_type": "markdown",
   "id": "60194d8e",
   "metadata": {},
   "source": [
    "### Расстояние, которое пользователь преодолел за одну поездку"
   ]
  },
  {
   "cell_type": "code",
   "execution_count": 20,
   "id": "964be086",
   "metadata": {
    "ExecuteTime": {
     "end_time": "2024-12-12T08:47:52.004124Z",
     "start_time": "2024-12-12T08:47:51.930345Z"
    },
    "scrolled": false
   },
   "outputs": [
    {
     "data": {
      "image/png": "[encoded data removed]",
      "text/plain": [
       "<Figure size 640x480 with 1 Axes>"
      ]
     },
     "metadata": {},
     "output_type": "display_data"
    },
    {
     "data": {
      "text/plain": [
       "count    18068.000000\n",
       "mean      3070.659976\n",
       "std       1116.831209\n",
       "min          0.855683\n",
       "25%       2543.226360\n",
       "50%       3133.609994\n",
       "75%       3776.222735\n",
       "max       7211.007745\n",
       "Name: distance, dtype: float64"
      ]
     },
     "execution_count": 20,
     "metadata": {},
     "output_type": "execute_result"
    }
   ],
   "source": [
    "rides['distance'].hist(bins=50, color='#789DBC')\n",
    "plt.grid(color='lightgray', linestyle='--', linewidth=0.5, axis='y')\n",
    "plt.title('Распределение пользователей по расстоянию поездки')\n",
    "plt.xlabel('Расстояние')\n",
    "plt.ylabel('Количество пользователей')\n",
    "plt.show()\n",
    "\n",
    "rides['distance'].describe()"
   ]
  },
  {
   "cell_type": "markdown",
   "id": "91984eea",
   "metadata": {},
   "source": [
    "<a id=\"section_1\"></a>"
   ]
  },
  {
   "cell_type": "markdown",
   "id": "7f2bb3cd",
   "metadata": {},
   "source": [
    "Данные стремятся к нормальному распределению, за исключением выброса слева (0-1500). Возможно, в тарификации есть нюанс, н-р есть бесплатный пул минут или метров от старта, которые не тарифицируются. Именно в этот сценарий могут попадать эти пользователи.\n",
    "\n",
    "Если же такого нюанса нет, то возможно в этот выброс попадают люди, которым нужно попасть из пункта А в Б и они опаздывают. В таком случае они принимают решение успеть быть вовремя на самокате.\\\n",
    "А еще, здесь могут находиться те, кто просто решил попробовать сервис и ему было достаточно небольшой поездки.\n",
    "\n",
    "После 1500 метров пользователи переходят в категорию долгой поездки/прогулки и пропорционально распределяются.\n",
    "\n",
    "Среднее время поездки - 3133 метров. 50% всех поездок находятся в диапазоне 2543-3776 метров."
   ]
  },
  {
   "cell_type": "markdown",
   "id": "03b407e0",
   "metadata": {},
   "source": [
    "<a id=\"section_7\"></a>"
   ]
  },
  {
   "cell_type": "markdown",
   "id": "c84f1c8c",
   "metadata": {},
   "source": [
    "### Продолжительность поездок"
   ]
  },
  {
   "cell_type": "code",
   "execution_count": 21,
   "id": "7f36b56c",
   "metadata": {
    "ExecuteTime": {
     "end_time": "2024-12-12T08:47:52.074613Z",
     "start_time": "2024-12-12T08:47:52.004814Z"
    }
   },
   "outputs": [
    {
     "data": {
      "image/png": "[encoded data removed]",
      "text/plain": [
       "<Figure size 640x480 with 1 Axes>"
      ]
     },
     "metadata": {},
     "output_type": "display_data"
    },
    {
     "data": {
      "text/plain": [
       "count    18068.000000\n",
       "mean        17.805011\n",
       "std          6.091051\n",
       "min          0.500000\n",
       "25%         13.597563\n",
       "50%         17.678395\n",
       "75%         21.724800\n",
       "max         40.823963\n",
       "Name: duration, dtype: float64"
      ]
     },
     "execution_count": 21,
     "metadata": {},
     "output_type": "execute_result"
    }
   ],
   "source": [
    "rides['duration'].hist(bins=50, color='#789DBC')\n",
    "plt.grid(color='lightgray', linestyle='--', linewidth=0.5, axis='y')\n",
    "plt.title('Распределение пользователей по времени поездки')\n",
    "plt.xlabel('Время поездки')\n",
    "plt.ylabel('Количество пользователей')\n",
    "plt.show()\n",
    "\n",
    "rides['duration'].describe()"
   ]
  },
  {
   "cell_type": "markdown",
   "id": "22953af0",
   "metadata": {},
   "source": [
    "Пользователи распределены по времени так же, как и по расстоянию. Здесь так же присутствует небольшой выброс слева - 0-2 минуты. Скорее всего, сюда входят те же категории, про которые я предположила выше, в [анализе расстояния поездки](#section_1).\n",
    "\n",
    "Среднее время поездки ~18 минут. Минимальное ~ 30 секунд, максимальное ~ 41 минута.\\\n",
    "50% всех поездок приходятся на диапазон 14-22 минуты.\n"
   ]
  },
  {
   "cell_type": "markdown",
   "id": "4ef51331",
   "metadata": {},
   "source": []
  },
  {
   "cell_type": "markdown",
   "id": "092026b2",
   "metadata": {},
   "source": [
    "### Анализ расстояния и времени поездок для пользователей с подпиской и без"
   ]
  },
  {
   "cell_type": "markdown",
   "id": "24f814fd",
   "metadata": {
    "heading_collapsed": true
   },
   "source": [
    "#### Подготовка данных к анализу"
   ]
  },
  {
   "cell_type": "markdown",
   "id": "1d03f9a9",
   "metadata": {
    "hidden": true
   },
   "source": [
    "Последовательно объединяем users с rides, а после с subs:"
   ]
  },
  {
   "cell_type": "code",
   "execution_count": 22,
   "id": "6bf288b5",
   "metadata": {
    "ExecuteTime": {
     "end_time": "2024-12-12T08:47:52.080951Z",
     "start_time": "2024-12-12T08:47:52.075307Z"
    },
    "hidden": true
   },
   "outputs": [],
   "source": [
    "users_rides = users.merge(rides, on='user_id', how='left')\n",
    "users_rides_subs = users_rides.merge(subs, on='subscription_type', how='left')"
   ]
  },
  {
   "cell_type": "markdown",
   "id": "0bdcf01b",
   "metadata": {
    "hidden": true
   },
   "source": [
    "Проверим на пропуски:"
   ]
  },
  {
   "cell_type": "code",
   "execution_count": 23,
   "id": "4d8af58e",
   "metadata": {
    "ExecuteTime": {
     "end_time": "2024-12-12T08:47:52.088830Z",
     "start_time": "2024-12-12T08:47:52.085285Z"
    },
    "hidden": true,
    "scrolled": true
   },
   "outputs": [
    {
     "data": {
      "text/plain": [
       "user_id              0\n",
       "name                 0\n",
       "age                  0\n",
       "city                 0\n",
       "subscription_type    0\n",
       "distance             0\n",
       "duration             0\n",
       "date                 0\n",
       "ride_month           0\n",
       "minute_price         0\n",
       "start_ride_price     0\n",
       "subscription_fee     0\n",
       "dtype: int64"
      ]
     },
     "execution_count": 23,
     "metadata": {},
     "output_type": "execute_result"
    }
   ],
   "source": [
    "users_rides_subs.isnull().sum()"
   ]
  },
  {
   "cell_type": "markdown",
   "id": "d097cb97",
   "metadata": {
    "hidden": true
   },
   "source": [
    "Проверим, что все столбцы есть после объединения:"
   ]
  },
  {
   "cell_type": "code",
   "execution_count": 24,
   "id": "4365fb9a",
   "metadata": {
    "ExecuteTime": {
     "end_time": "2024-12-12T08:47:52.091607Z",
     "start_time": "2024-12-12T08:47:52.089438Z"
    },
    "hidden": true,
    "scrolled": true
   },
   "outputs": [
    {
     "data": {
      "text/plain": [
       "Index(['user_id', 'name', 'age', 'city', 'subscription_type', 'distance',\n",
       "       'duration', 'date', 'ride_month', 'minute_price', 'start_ride_price',\n",
       "       'subscription_fee'],\n",
       "      dtype='object')"
      ]
     },
     "execution_count": 24,
     "metadata": {},
     "output_type": "execute_result"
    }
   ],
   "source": [
    "users_rides_subs.columns"
   ]
  },
  {
   "cell_type": "markdown",
   "id": "56c5e3c1",
   "metadata": {
    "hidden": true
   },
   "source": [
    "<a id=\"section_2\"></a>"
   ]
  },
  {
   "cell_type": "markdown",
   "id": "012ab14d",
   "metadata": {
    "hidden": true
   },
   "source": [
    "Округляем продолжительность поездки до целого числа:"
   ]
  },
  {
   "cell_type": "code",
   "execution_count": 25,
   "id": "cfff581f",
   "metadata": {
    "ExecuteTime": {
     "end_time": "2024-12-12T08:47:52.094641Z",
     "start_time": "2024-12-12T08:47:52.092825Z"
    },
    "hidden": true
   },
   "outputs": [],
   "source": [
    "users_rides_subs['duration'] = np.ceil(users_rides_subs['duration'])"
   ]
  },
  {
   "cell_type": "code",
   "execution_count": 26,
   "id": "76655c08",
   "metadata": {
    "ExecuteTime": {
     "end_time": "2024-12-12T08:47:52.099526Z",
     "start_time": "2024-12-12T08:47:52.095511Z"
    },
    "hidden": true
   },
   "outputs": [
    {
     "data": {
      "text/html": [
       "<div>\n",
       "<style scoped>\n",
       "    .dataframe tbody tr th:only-of-type {\n",
       "        vertical-align: middle;\n",
       "    }\n",
       "\n",
       "    .dataframe tbody tr th {\n",
       "        vertical-align: top;\n",
       "    }\n",
       "\n",
       "    .dataframe thead th {\n",
       "        text-align: right;\n",
       "    }\n",
       "</style>\n",
       "<table border=\"1\" class=\"dataframe\">\n",
       "  <thead>\n",
       "    <tr style=\"text-align: right;\">\n",
       "      <th></th>\n",
       "      <th>user_id</th>\n",
       "      <th>name</th>\n",
       "      <th>age</th>\n",
       "      <th>city</th>\n",
       "      <th>subscription_type</th>\n",
       "      <th>distance</th>\n",
       "      <th>duration</th>\n",
       "      <th>date</th>\n",
       "      <th>ride_month</th>\n",
       "      <th>minute_price</th>\n",
       "      <th>start_ride_price</th>\n",
       "      <th>subscription_fee</th>\n",
       "    </tr>\n",
       "  </thead>\n",
       "  <tbody>\n",
       "    <tr>\n",
       "      <th>18065</th>\n",
       "      <td>1534</td>\n",
       "      <td>Альберт</td>\n",
       "      <td>25</td>\n",
       "      <td>Краснодар</td>\n",
       "      <td>free</td>\n",
       "      <td>3826.185507</td>\n",
       "      <td>19.0</td>\n",
       "      <td>2021-11-18</td>\n",
       "      <td>11</td>\n",
       "      <td>8</td>\n",
       "      <td>50</td>\n",
       "      <td>0</td>\n",
       "    </tr>\n",
       "    <tr>\n",
       "      <th>18066</th>\n",
       "      <td>1534</td>\n",
       "      <td>Альберт</td>\n",
       "      <td>25</td>\n",
       "      <td>Краснодар</td>\n",
       "      <td>free</td>\n",
       "      <td>2902.308661</td>\n",
       "      <td>17.0</td>\n",
       "      <td>2021-11-27</td>\n",
       "      <td>11</td>\n",
       "      <td>8</td>\n",
       "      <td>50</td>\n",
       "      <td>0</td>\n",
       "    </tr>\n",
       "    <tr>\n",
       "      <th>18067</th>\n",
       "      <td>1534</td>\n",
       "      <td>Альберт</td>\n",
       "      <td>25</td>\n",
       "      <td>Краснодар</td>\n",
       "      <td>free</td>\n",
       "      <td>2371.711192</td>\n",
       "      <td>16.0</td>\n",
       "      <td>2021-12-29</td>\n",
       "      <td>12</td>\n",
       "      <td>8</td>\n",
       "      <td>50</td>\n",
       "      <td>0</td>\n",
       "    </tr>\n",
       "  </tbody>\n",
       "</table>\n",
       "</div>"
      ],
      "text/plain": [
       "       user_id     name  age       city subscription_type     distance  \\\n",
       "18065     1534  Альберт   25  Краснодар              free  3826.185507   \n",
       "18066     1534  Альберт   25  Краснодар              free  2902.308661   \n",
       "18067     1534  Альберт   25  Краснодар              free  2371.711192   \n",
       "\n",
       "       duration       date  ride_month  minute_price  start_ride_price  \\\n",
       "18065      19.0 2021-11-18          11             8                50   \n",
       "18066      17.0 2021-11-27          11             8                50   \n",
       "18067      16.0 2021-12-29          12             8                50   \n",
       "\n",
       "       subscription_fee  \n",
       "18065                 0  \n",
       "18066                 0  \n",
       "18067                 0  "
      ]
     },
     "execution_count": 26,
     "metadata": {},
     "output_type": "execute_result"
    }
   ],
   "source": [
    "users_rides_subs.tail(3)"
   ]
  },
  {
   "cell_type": "markdown",
   "id": "47793c24",
   "metadata": {
    "hidden": true
   },
   "source": [
    "Разделим пользователей по типу подписки:"
   ]
  },
  {
   "cell_type": "code",
   "execution_count": 27,
   "id": "3d40a5b0",
   "metadata": {
    "ExecuteTime": {
     "end_time": "2024-12-12T08:47:52.105885Z",
     "start_time": "2024-12-12T08:47:52.100788Z"
    },
    "hidden": true
   },
   "outputs": [],
   "source": [
    "#с подпиской (ultra)\n",
    "subscribed_users = users_rides_subs.loc[users_rides_subs['subscription_type']\n",
    "                                        == 'ultra']\n",
    "#без подписки (free)\n",
    "non_subscribed_users = users_rides_subs.loc[\n",
    "    users_rides_subs['subscription_type'] == 'free']"
   ]
  },
  {
   "cell_type": "markdown",
   "id": "9f6ec686",
   "metadata": {
    "hidden": true
   },
   "source": [
    "Проверим, что таблицы рассортировались корректно:"
   ]
  },
  {
   "cell_type": "code",
   "execution_count": 28,
   "id": "2bfb33fd",
   "metadata": {
    "ExecuteTime": {
     "end_time": "2024-12-12T08:47:52.110593Z",
     "start_time": "2024-12-12T08:47:52.106409Z"
    },
    "hidden": true
   },
   "outputs": [
    {
     "data": {
      "text/plain": [
       "array(['ultra'], dtype=object)"
      ]
     },
     "metadata": {},
     "output_type": "display_data"
    },
    {
     "data": {
      "text/plain": [
       "array(['free'], dtype=object)"
      ]
     },
     "execution_count": 28,
     "metadata": {},
     "output_type": "execute_result"
    }
   ],
   "source": [
    "display(subscribed_users['subscription_type'].unique())\n",
    "non_subscribed_users['subscription_type'].unique()"
   ]
  },
  {
   "cell_type": "markdown",
   "id": "690dcaf8",
   "metadata": {
    "hidden": true
   },
   "source": [
    "<a id=\"section_11\"></a>"
   ]
  },
  {
   "cell_type": "markdown",
   "id": "7fe4c1ee",
   "metadata": {
    "heading_collapsed": true
   },
   "source": [
    "#### Распределение пользователей по расстоянию поездки"
   ]
  },
  {
   "cell_type": "code",
   "execution_count": 29,
   "id": "bee5c0d3",
   "metadata": {
    "ExecuteTime": {
     "end_time": "2024-12-12T08:47:52.225114Z",
     "start_time": "2024-12-12T08:47:52.111238Z"
    },
    "hidden": true,
    "scrolled": false
   },
   "outputs": [
    {
     "data": {
      "image/png": "[encoded data removed]",
      "text/plain": [
       "<Figure size 1000x600 with 1 Axes>"
      ]
     },
     "metadata": {},
     "output_type": "display_data"
    }
   ],
   "source": [
    "plt.figure(figsize=(10, 6))\n",
    "plt.hist(subscribed_users['distance'],\n",
    "         bins=50,\n",
    "         alpha=1,\n",
    "         label='С подпиской Ultra',\n",
    "         color='#789DBC')\n",
    "plt.hist(non_subscribed_users['distance'],\n",
    "         bins=50,\n",
    "         alpha=0.7,\n",
    "         label='Без подписки',\n",
    "         color='#FFDDAE')\n",
    "plt.title('Распределение пользователей по расстоянию поездки')\n",
    "plt.xlabel('Расстояние')\n",
    "plt.ylabel('Количество пользователей')\n",
    "\n",
    "median_subscribed = subscribed_users['distance'].median()\n",
    "median_non_subscribed = non_subscribed_users['distance'].median()\n",
    "plt.axvline(median_subscribed,\n",
    "            color='green',\n",
    "            linestyle='dashed',\n",
    "            linewidth=2,\n",
    "            label='Медиана (с подпиской Ultra)')\n",
    "plt.axvline(median_non_subscribed,\n",
    "            color='orange',\n",
    "            linestyle='dashed',\n",
    "            linewidth=2,\n",
    "            label='Медиана (без подписки)')\n",
    "\n",
    "plt.legend()\n",
    "plt.show()"
   ]
  },
  {
   "cell_type": "code",
   "execution_count": 30,
   "id": "efc3608f",
   "metadata": {
    "ExecuteTime": {
     "end_time": "2024-12-12T08:47:52.230495Z",
     "start_time": "2024-12-12T08:47:52.226166Z"
    },
    "hidden": true,
    "scrolled": true
   },
   "outputs": [
    {
     "name": "stdout",
     "output_type": "stream",
     "text": [
      "count    6500.000000\n",
      "mean     3115.445388\n",
      "std       836.895330\n",
      "min       244.210438\n",
      "25%      2785.444017\n",
      "50%      3148.637229\n",
      "75%      3560.574425\n",
      "max      5699.769662\n",
      "Name: distance, dtype: float64\n",
      "count    11568.000000\n",
      "mean      3045.495282\n",
      "std       1246.173806\n",
      "min          0.855683\n",
      "25%       2366.562689\n",
      "50%       3114.648465\n",
      "75%       3905.697894\n",
      "max       7211.007745\n",
      "Name: distance, dtype: float64\n"
     ]
    }
   ],
   "source": [
    "print(subscribed_users['distance'].describe())\n",
    "print(non_subscribed_users['distance'].describe())"
   ]
  },
  {
   "cell_type": "markdown",
   "id": "b2f66d0f",
   "metadata": {
    "hidden": true
   },
   "source": [
    "<a id=\"section_12\"></a>"
   ]
  },
  {
   "cell_type": "markdown",
   "id": "09a866f5",
   "metadata": {
    "heading_collapsed": true
   },
   "source": [
    "#### Распределение пользователей по времени поездки"
   ]
  },
  {
   "cell_type": "code",
   "execution_count": 31,
   "id": "cf9f63a5",
   "metadata": {
    "ExecuteTime": {
     "end_time": "2024-12-12T08:47:52.334813Z",
     "start_time": "2024-12-12T08:47:52.231156Z"
    },
    "hidden": true,
    "scrolled": false
   },
   "outputs": [
    {
     "data": {
      "image/png": "[encoded data removed]",
      "text/plain": [
       "<Figure size 1000x600 with 1 Axes>"
      ]
     },
     "metadata": {},
     "output_type": "display_data"
    }
   ],
   "source": [
    "plt.figure(figsize=(10, 6))\n",
    "plt.hist(subscribed_users['duration'],\n",
    "         bins=40,\n",
    "         alpha=0.8,\n",
    "         label='С подпиской Ultra',\n",
    "         color='#789DBC')\n",
    "plt.hist(non_subscribed_users['duration'],\n",
    "         bins=40,\n",
    "         alpha=0.7,\n",
    "         label='Без подписки',\n",
    "         color='#FFDDAE')\n",
    "plt.title('Распределение пользователей по времени поездки')\n",
    "plt.xlabel('Время поездки')\n",
    "plt.ylabel('Количество пользователей')\n",
    "\n",
    "median_subscribed = subscribed_users['duration'].median()\n",
    "median_non_subscribed = non_subscribed_users['duration'].median()\n",
    "plt.axvline(median_subscribed,\n",
    "            color='green',\n",
    "            linestyle='dashed',\n",
    "            linewidth=2,\n",
    "            label='Медиана (с подпиской Ultra)')\n",
    "plt.axvline(median_non_subscribed,\n",
    "            color='orange',\n",
    "            linestyle='dashed',\n",
    "            linewidth=2,\n",
    "            label='Медиана (без подписки)')\n",
    "\n",
    "plt.legend()\n",
    "plt.show()"
   ]
  },
  {
   "cell_type": "code",
   "execution_count": 32,
   "id": "17d15d07",
   "metadata": {
    "ExecuteTime": {
     "end_time": "2024-12-12T08:47:52.339292Z",
     "start_time": "2024-12-12T08:47:52.335454Z"
    },
    "hidden": true
   },
   "outputs": [
    {
     "name": "stdout",
     "output_type": "stream",
     "text": [
      "count    6500.000000\n",
      "mean       19.037692\n",
      "std         5.577439\n",
      "min         4.000000\n",
      "25%        15.000000\n",
      "50%        19.000000\n",
      "75%        22.000000\n",
      "max        41.000000\n",
      "Name: duration, dtype: float64\n",
      "count    11568.000000\n",
      "mean        17.890992\n",
      "std          6.330250\n",
      "min          1.000000\n",
      "25%         13.000000\n",
      "50%         18.000000\n",
      "75%         22.000000\n",
      "max         35.000000\n",
      "Name: duration, dtype: float64\n"
     ]
    }
   ],
   "source": [
    "print(subscribed_users['duration'].describe())\n",
    "print(non_subscribed_users['duration'].describe())"
   ]
  },
  {
   "cell_type": "markdown",
   "id": "402d620f",
   "metadata": {
    "heading_collapsed": true
   },
   "source": [
    "#### Подсчёт выручки"
   ]
  },
  {
   "cell_type": "code",
   "execution_count": 33,
   "id": "29d3a9dc",
   "metadata": {
    "ExecuteTime": {
     "end_time": "2024-12-12T08:47:52.347552Z",
     "start_time": "2024-12-12T08:47:52.339879Z"
    },
    "hidden": true,
    "run_control": {
     "marked": false
    },
    "scrolled": true
   },
   "outputs": [
    {
     "data": {
      "text/html": [
       "<div>\n",
       "<style scoped>\n",
       "    .dataframe tbody tr th:only-of-type {\n",
       "        vertical-align: middle;\n",
       "    }\n",
       "\n",
       "    .dataframe tbody tr th {\n",
       "        vertical-align: top;\n",
       "    }\n",
       "\n",
       "    .dataframe thead th {\n",
       "        text-align: right;\n",
       "    }\n",
       "</style>\n",
       "<table border=\"1\" class=\"dataframe\">\n",
       "  <thead>\n",
       "    <tr style=\"text-align: right;\">\n",
       "      <th></th>\n",
       "      <th>user_id</th>\n",
       "      <th>ride_month</th>\n",
       "      <th>total_distance</th>\n",
       "      <th>total_rides</th>\n",
       "      <th>total_duration</th>\n",
       "    </tr>\n",
       "  </thead>\n",
       "  <tbody>\n",
       "    <tr>\n",
       "      <th>0</th>\n",
       "      <td>1</td>\n",
       "      <td>1</td>\n",
       "      <td>7027.511294</td>\n",
       "      <td>2</td>\n",
       "      <td>42.0</td>\n",
       "    </tr>\n",
       "    <tr>\n",
       "      <th>1</th>\n",
       "      <td>1</td>\n",
       "      <td>4</td>\n",
       "      <td>754.159807</td>\n",
       "      <td>1</td>\n",
       "      <td>7.0</td>\n",
       "    </tr>\n",
       "    <tr>\n",
       "      <th>2</th>\n",
       "      <td>1</td>\n",
       "      <td>8</td>\n",
       "      <td>6723.470560</td>\n",
       "      <td>2</td>\n",
       "      <td>46.0</td>\n",
       "    </tr>\n",
       "    <tr>\n",
       "      <th>3</th>\n",
       "      <td>1</td>\n",
       "      <td>10</td>\n",
       "      <td>5809.911100</td>\n",
       "      <td>2</td>\n",
       "      <td>32.0</td>\n",
       "    </tr>\n",
       "    <tr>\n",
       "      <th>4</th>\n",
       "      <td>1</td>\n",
       "      <td>11</td>\n",
       "      <td>7003.499363</td>\n",
       "      <td>3</td>\n",
       "      <td>56.0</td>\n",
       "    </tr>\n",
       "  </tbody>\n",
       "</table>\n",
       "</div>"
      ],
      "text/plain": [
       "   user_id  ride_month  total_distance  total_rides  total_duration\n",
       "0        1           1     7027.511294            2            42.0\n",
       "1        1           4      754.159807            1             7.0\n",
       "2        1           8     6723.470560            2            46.0\n",
       "3        1          10     5809.911100            2            32.0\n",
       "4        1          11     7003.499363            3            56.0"
      ]
     },
     "execution_count": 33,
     "metadata": {},
     "output_type": "execute_result"
    }
   ],
   "source": [
    "#группируем данные по 'user_id' и 'ride_month' и агрегируем данные\n",
    "aggregated_data = users_rides_subs.groupby(['user_id', 'ride_month']).agg(\n",
    "    total_distance=pd.NamedAgg(column='distance', aggfunc='sum'),\n",
    "    total_rides=pd.NamedAgg(column='user_id', aggfunc='count'),\n",
    "    total_duration=pd.NamedAgg(column='duration',\n",
    "                               aggfunc='sum')).reset_index()\n",
    "aggregated_data.head()"
   ]
  },
  {
   "cell_type": "code",
   "execution_count": 34,
   "id": "b1232638",
   "metadata": {
    "ExecuteTime": {
     "end_time": "2024-12-12T08:47:52.357493Z",
     "start_time": "2024-12-12T08:47:52.348856Z"
    },
    "hidden": true,
    "run_control": {
     "marked": false
    }
   },
   "outputs": [
    {
     "data": {
      "text/html": [
       "<div>\n",
       "<style scoped>\n",
       "    .dataframe tbody tr th:only-of-type {\n",
       "        vertical-align: middle;\n",
       "    }\n",
       "\n",
       "    .dataframe tbody tr th {\n",
       "        vertical-align: top;\n",
       "    }\n",
       "\n",
       "    .dataframe thead th {\n",
       "        text-align: right;\n",
       "    }\n",
       "</style>\n",
       "<table border=\"1\" class=\"dataframe\">\n",
       "  <thead>\n",
       "    <tr style=\"text-align: right;\">\n",
       "      <th></th>\n",
       "      <th>user_id</th>\n",
       "      <th>ride_month</th>\n",
       "      <th>total_distance</th>\n",
       "      <th>total_rides</th>\n",
       "      <th>total_duration</th>\n",
       "      <th>subscription_type</th>\n",
       "      <th>minute_price</th>\n",
       "      <th>start_ride_price</th>\n",
       "      <th>subscription_fee</th>\n",
       "      <th>monthly_revenue</th>\n",
       "    </tr>\n",
       "  </thead>\n",
       "  <tbody>\n",
       "    <tr>\n",
       "      <th>11326</th>\n",
       "      <td>1534</td>\n",
       "      <td>6</td>\n",
       "      <td>3409.468534</td>\n",
       "      <td>2</td>\n",
       "      <td>26.0</td>\n",
       "      <td>free</td>\n",
       "      <td>8</td>\n",
       "      <td>50</td>\n",
       "      <td>0</td>\n",
       "      <td>308.0</td>\n",
       "    </tr>\n",
       "    <tr>\n",
       "      <th>11327</th>\n",
       "      <td>1534</td>\n",
       "      <td>8</td>\n",
       "      <td>7622.453034</td>\n",
       "      <td>2</td>\n",
       "      <td>48.0</td>\n",
       "      <td>free</td>\n",
       "      <td>8</td>\n",
       "      <td>50</td>\n",
       "      <td>0</td>\n",
       "      <td>484.0</td>\n",
       "    </tr>\n",
       "    <tr>\n",
       "      <th>11328</th>\n",
       "      <td>1534</td>\n",
       "      <td>9</td>\n",
       "      <td>4928.173852</td>\n",
       "      <td>1</td>\n",
       "      <td>23.0</td>\n",
       "      <td>free</td>\n",
       "      <td>8</td>\n",
       "      <td>50</td>\n",
       "      <td>0</td>\n",
       "      <td>234.0</td>\n",
       "    </tr>\n",
       "    <tr>\n",
       "      <th>11329</th>\n",
       "      <td>1534</td>\n",
       "      <td>11</td>\n",
       "      <td>13350.015305</td>\n",
       "      <td>4</td>\n",
       "      <td>78.0</td>\n",
       "      <td>free</td>\n",
       "      <td>8</td>\n",
       "      <td>50</td>\n",
       "      <td>0</td>\n",
       "      <td>824.0</td>\n",
       "    </tr>\n",
       "    <tr>\n",
       "      <th>11330</th>\n",
       "      <td>1534</td>\n",
       "      <td>12</td>\n",
       "      <td>2371.711192</td>\n",
       "      <td>1</td>\n",
       "      <td>16.0</td>\n",
       "      <td>free</td>\n",
       "      <td>8</td>\n",
       "      <td>50</td>\n",
       "      <td>0</td>\n",
       "      <td>178.0</td>\n",
       "    </tr>\n",
       "  </tbody>\n",
       "</table>\n",
       "</div>"
      ],
      "text/plain": [
       "       user_id  ride_month  total_distance  total_rides  total_duration  \\\n",
       "11326     1534           6     3409.468534            2            26.0   \n",
       "11327     1534           8     7622.453034            2            48.0   \n",
       "11328     1534           9     4928.173852            1            23.0   \n",
       "11329     1534          11    13350.015305            4            78.0   \n",
       "11330     1534          12     2371.711192            1            16.0   \n",
       "\n",
       "      subscription_type  minute_price  start_ride_price  subscription_fee  \\\n",
       "11326              free             8                50                 0   \n",
       "11327              free             8                50                 0   \n",
       "11328              free             8                50                 0   \n",
       "11329              free             8                50                 0   \n",
       "11330              free             8                50                 0   \n",
       "\n",
       "       monthly_revenue  \n",
       "11326            308.0  \n",
       "11327            484.0  \n",
       "11328            234.0  \n",
       "11329            824.0  \n",
       "11330            178.0  "
      ]
     },
     "execution_count": 34,
     "metadata": {},
     "output_type": "execute_result"
    }
   ],
   "source": [
    "#добавляем столбец с помесячной выручкой\n",
    "aggregated_data = aggregated_data.merge(users_rides_subs[[\n",
    "    'user_id', 'ride_month', 'subscription_type', 'minute_price',\n",
    "    'start_ride_price', 'subscription_fee'\n",
    "]].drop_duplicates(),on=['user_id', 'ride_month'])\n",
    "\n",
    "#рассчитываем помесячную выручку\n",
    "aggregated_data['monthly_revenue'] = (\n",
    "    aggregated_data['start_ride_price'] * aggregated_data['total_rides'] +\n",
    "    aggregated_data['minute_price'] * aggregated_data['total_duration'] +\n",
    "    aggregated_data['subscription_fee'])\n",
    "aggregated_data.tail()"
   ]
  },
  {
   "cell_type": "markdown",
   "id": "4ba65056",
   "metadata": {
    "heading_collapsed": true
   },
   "source": [
    "## Проверка гипотез"
   ]
  },
  {
   "cell_type": "markdown",
   "id": "d9ea1b64",
   "metadata": {
    "hidden": true
   },
   "source": [
    "<a id=\"section_8\"></a>"
   ]
  },
  {
   "cell_type": "markdown",
   "id": "17f907af",
   "metadata": {
    "hidden": true
   },
   "source": [
    "#### Гипотеза 1\n",
    "Тратят ли пользователи с подпиской больше времени на поездки."
   ]
  },
  {
   "cell_type": "markdown",
   "id": "e6805d45",
   "metadata": {
    "hidden": true
   },
   "source": [
    "H0: Среднее время поездки у пользователей с подпиской меньше, чем у пользователей без подписки\\\n",
    "H1: Среднее время поездки у пользователей с подпиской больше, чем у пользователей без подписки"
   ]
  },
  {
   "cell_type": "code",
   "execution_count": 35,
   "id": "b7291083",
   "metadata": {
    "ExecuteTime": {
     "end_time": "2024-12-12T08:47:52.363560Z",
     "start_time": "2024-12-12T08:47:52.358747Z"
    },
    "hidden": true
   },
   "outputs": [
    {
     "name": "stdout",
     "output_type": "stream",
     "text": [
      "p-значение: 2.4959453720736625e-34\n",
      "Отвергаем нулевую гипотезу\n",
      "Среднее время пользователей с подпиской: 19.037692307692307\n",
      "Среднее время пользователей с без подписки: 17.890992392807746\n"
     ]
    }
   ],
   "source": [
    "alpha = 0.05  # наш уровень стат. значимости\n",
    "\n",
    "# стат. тест о разности времени поездки у обеих групп\n",
    "results = st.ttest_ind(subscribed_users['duration'],\n",
    "                       non_subscribed_users['duration'],\n",
    "                       alternative='greater')\n",
    "\n",
    "# выводим p-значение\n",
    "print('p-значение:', results.pvalue)\n",
    "\n",
    "# сравниваем p-значение с alpha\n",
    "if results.pvalue < alpha:\n",
    "    print('Отвергаем нулевую гипотезу')\n",
    "else:\n",
    "    print('Не получилось отвергнуть нулевую гипотезу')\n",
    "\n",
    "#кросс-чекаем наше решение по гипотезе\n",
    "print(\"Среднее время пользователей с подпиской:\",\n",
    "      subscribed_users['duration'].mean())\n",
    "print(\"Среднее время пользователей с без подписки:\",\n",
    "      non_subscribed_users['duration'].mean())"
   ]
  },
  {
   "cell_type": "markdown",
   "id": "dbdd2ac3",
   "metadata": {
    "hidden": true
   },
   "source": [
    "<a id=\"section_9\"></a>"
   ]
  },
  {
   "cell_type": "markdown",
   "id": "e2459138",
   "metadata": {
    "hidden": true
   },
   "source": [
    "#### Гипотеза 2\n",
    "Среднее расстояние, которое проезжают пользователи с подпиской за одну поездку, не превышает 3130 метров."
   ]
  },
  {
   "cell_type": "markdown",
   "id": "2273b1b5",
   "metadata": {
    "hidden": true
   },
   "source": [
    "H0: Среднее расстояние, которое проезжают пользователи с подпиской за одну поездку, не превышает 3130 метров\\\n",
    "H1: Среднее расстояние, которое проезжают пользователи с подпиской за одну поездку, превышает 3130 метров"
   ]
  },
  {
   "cell_type": "code",
   "execution_count": 36,
   "id": "92d4d9b5",
   "metadata": {
    "ExecuteTime": {
     "end_time": "2024-12-12T08:47:52.367526Z",
     "start_time": "2024-12-12T08:47:52.364111Z"
    },
    "hidden": true
   },
   "outputs": [
    {
     "name": "stdout",
     "output_type": "stream",
     "text": [
      "p-значение: 0.9195368847849785\n",
      "Не получилось отвергнуть нулевую гипотезу\n",
      "Среднее расстояние пользователей с подпиской: 3115.4453880370247\n"
     ]
    }
   ],
   "source": [
    "# наш уровень стат. значимости\n",
    "alpha = 0.05\n",
    "\n",
    "# среднее значение для проверки\n",
    "mean_distance = 3130\n",
    "\n",
    "# стат. тест о превышении среднего расстояния 3130 метров\n",
    "results = st.ttest_1samp(subscribed_users['distance'],\n",
    "                         mean_distance,\n",
    "                         alternative='greater')\n",
    "\n",
    "print('p-значение:', results.pvalue)\n",
    "\n",
    "if results.pvalue < alpha:\n",
    "    print('Отвергаем нулевую гипотезу')\n",
    "else:\n",
    "    print('Не получилось отвергнуть нулевую гипотезу')\n",
    "\n",
    "#кросс-чекаем наше решение по гипотезе\n",
    "print(\"Среднее расстояние пользователей с подпиской:\",\n",
    "      subscribed_users['distance'].mean())"
   ]
  },
  {
   "cell_type": "markdown",
   "id": "54f7d73f",
   "metadata": {
    "hidden": true
   },
   "source": [
    "<a id=\"section_10\"></a>"
   ]
  },
  {
   "cell_type": "markdown",
   "id": "b601e7e3",
   "metadata": {
    "hidden": true
   },
   "source": [
    "#### Гипотеза 3\n",
    "Помесячная выручка от пользователей с подпиской по месяцам выше, чем выручка от пользователей без подписки."
   ]
  },
  {
   "cell_type": "markdown",
   "id": "2523f209",
   "metadata": {
    "hidden": true
   },
   "source": [
    "H0: Средняя помесячная выручка от пользователей с подпиской не выше, чем выручка от пользователей без подписки\\\n",
    "H1: Средняя помесячная выручка от пользователей с подпиской выше, чем выручка от пользователей без подписки"
   ]
  },
  {
   "cell_type": "code",
   "execution_count": 37,
   "id": "7d99e62e",
   "metadata": {
    "ExecuteTime": {
     "end_time": "2024-12-12T08:47:52.373462Z",
     "start_time": "2024-12-12T08:47:52.368085Z"
    },
    "hidden": true,
    "scrolled": true
   },
   "outputs": [
    {
     "name": "stdout",
     "output_type": "stream",
     "text": [
      "p-значение: 1.8850394384715216e-31\n",
      "Отвергаем нулевую гипотезу\n",
      "Средняя помесячная выручка пользователей с подпиской: 362.7921906022502\n",
      "Средняя помесячная выручка пользователей без подписки: 328.6413651073845\n"
     ]
    }
   ],
   "source": [
    "#разделяем данные со столбцом выручки на две группы: пользователи с подпиской и без\n",
    "subscribed_revenue = aggregated_data[aggregated_data['subscription_type'] ==\n",
    "                                     'ultra']['monthly_revenue']\n",
    "non_subscribed_revenue = aggregated_data[aggregated_data['subscription_type']\n",
    "                                         == 'free']['monthly_revenue']\n",
    "\n",
    "alpha = 0.05  # наш уровень стат. значимости\n",
    "\n",
    "# стат. тест о разности времени поездки у обеих групп\n",
    "results = st.ttest_ind(subscribed_revenue,\n",
    "                       non_subscribed_revenue,\n",
    "                       alternative='greater')\n",
    "\n",
    "# выводим p-значение\n",
    "print('p-значение:', results.pvalue)\n",
    "\n",
    "# сравниваем p-значение с alpha\n",
    "if results.pvalue < alpha:\n",
    "    print('Отвергаем нулевую гипотезу')\n",
    "else:\n",
    "    print('Не получилось отвергнуть нулевую гипотезу')\n",
    "\n",
    "#кросс-чекаем наше решение по гипотезе\n",
    "print(\"Средняя помесячная выручка пользователей с подпиской:\",\n",
    "      subscribed_revenue.mean())\n",
    "print(\"Средняя помесячная выручка пользователей без подписки:\",\n",
    "      non_subscribed_revenue.mean())"
   ]
  },
  {
   "cell_type": "markdown",
   "id": "252e5a02",
   "metadata": {},
   "source": [
    "## Итог и рекомендации"
   ]
  },
  {
   "cell_type": "markdown",
   "id": "f1945b58",
   "metadata": {
    "heading_collapsed": true
   },
   "source": [
    "### В ходе анализа:"
   ]
  },
  {
   "cell_type": "markdown",
   "id": "825dc752",
   "metadata": {
    "hidden": true
   },
   "source": [
    "**изучены данные о пользователях и их поездках:** \n",
    "- [распределение пользователей по городам](#section_3): представлены пользователи по 8 городам:  наибольшее их число находится в Пятигорске(219), наименьшее в Москве(168). Так же видно, что наибольшее количество пользователей территориально находится на юге РФ.\n",
    "- [соотношение пользователей с подпиской и без](#section_4): пользователей без подписки на ~9% больше, чем тех, у кого подписка имеется.\n",
    "- [возраст пользователей](#section_5): cредний возраст пользователя - 25 лет. Самому младшему - 12 лет, самому старшему - 43 года. Половина всех пользователей находится в сравнительно небольшом возрастном сегменте - 22-28 лет.\n",
    "- [расстояние, которое пользователь преодолел за одну поездку](#section_6): среднее время поездки - 3133 метров. 50% всех поездок находятся в диапазоне 2543-3776 метров.\n",
    "- [продолжительность поездок](#section_7): среднее время поездки ~18 минут. Минимальное ~ 30 секунд, максимальное ~ 41 минута. 50% всех поездок приходятся на диапазон 14-22 минуты.\n",
    "\n",
    "**проанализировано соотношение пользователей с подпиской и без по параметрам:**\n",
    "- [расстояние, которое пользователь преодолевает за одну поездку с подпиской и без](#section_11)\n",
    "- [продолжительность поездок с подпиской и без](#section_12)\n",
    "\n",
    "**сформулировано и проверено несколько гипотез по потенциальным точкам роста:**\n",
    "- [Тратят ли пользователи с подпиской больше времени на поездки](#section_8).\\\n",
    "Гипотеза подтвердилась: среднее время пользователей с подпиской ~19мин, без подписки ~ 18мин\n",
    "\n",
    "- [Среднее расстояние, которое проезжают пользователи с подпиской за одну поездку, не превышает 3130 метров?](#section_9)\\\n",
    "Гипотеза подтвердилась: среднее расстояние пользователей с подпиской ~ 3115м, что входит в оптимальную дистанцию для износа самоката.\n",
    "\n",
    "- [Помесячная выручка от пользователей с подпиской по месяцам выше, чем выручка от пользователей без подписки](#section_10)\\\n",
    "Гипотеза подтвердилась:средняя помесячная выручка пользователей с подпиской ~ 363р, без подписки ~ 329р.\n",
    "\n",
    "\n",
    "**выявлено несколько аномалий:**\n",
    "- [в исследовании расстояния поездок](#section_6) на графике обнаружен выброс слева. Существует гипотеза, что пользователи на графике распределяются не равномерно из-за различных сценариев использования аренды самокатов\n",
    "- [в исследовании времени поездок](#section_7) на графике так же обнаружен выброс слева, что так же может указывать на различные сценарии использования аренды."
   ]
  },
  {
   "cell_type": "markdown",
   "id": "e8b713dd",
   "metadata": {},
   "source": [
    "### Итог и рекомендации"
   ]
  },
  {
   "cell_type": "markdown",
   "id": "cdb3436c",
   "metadata": {},
   "source": [
    "Сегмент пользователей с подпиской имеет высокий потенциал с точки зрения роста бизнеса.\\\n",
    "Необходимо увеличивать долю пользователй с подпиской. Для этого необходимо более детальное исследование сценариев пользвателей с подпиской и без и поск точек увеличения конверсии из одного сегмента в другой.\n",
    "\n",
    "Возможно именно этот потенциал можно более отчетливо проследить после выявления причин аномалий на графиках расстояния и времени поездок.\\\n",
    "Необходимо дополнительно сегментировать пользователей по типу сценариев."
   ]
  }
 ],
 "metadata": {
  "ExecuteTimeLog": [
   {
    "duration": 905,
    "start_time": "2024-07-26T16:52:01.472Z"
   },
   {
    "duration": 220,
    "start_time": "2024-07-26T16:52:02.379Z"
   },
   {
    "duration": 16,
    "start_time": "2024-07-26T16:52:02.600Z"
   },
   {
    "duration": 124,
    "start_time": "2024-07-26T16:52:02.618Z"
   },
   {
    "duration": 11,
    "start_time": "2024-07-26T16:52:02.744Z"
   },
   {
    "duration": 90,
    "start_time": "2024-07-26T16:52:02.757Z"
   },
   {
    "duration": 10,
    "start_time": "2024-07-26T16:52:02.848Z"
   },
   {
    "duration": 16,
    "start_time": "2024-07-26T16:52:02.859Z"
   },
   {
    "duration": 12,
    "start_time": "2024-07-26T16:52:02.876Z"
   },
   {
    "duration": 4,
    "start_time": "2024-07-26T16:52:02.891Z"
   },
   {
    "duration": 15,
    "start_time": "2024-07-26T16:52:02.896Z"
   },
   {
    "duration": 12,
    "start_time": "2024-07-26T16:52:02.913Z"
   },
   {
    "duration": 5,
    "start_time": "2024-07-26T16:52:02.927Z"
   },
   {
    "duration": 14,
    "start_time": "2024-07-26T16:52:02.933Z"
   },
   {
    "duration": 5,
    "start_time": "2024-07-26T16:52:02.949Z"
   },
   {
    "duration": 7,
    "start_time": "2024-07-26T16:52:02.956Z"
   },
   {
    "duration": 528,
    "start_time": "2024-07-26T16:52:02.964Z"
   },
   {
    "duration": 185,
    "start_time": "2024-07-26T16:52:03.495Z"
   },
   {
    "duration": 8,
    "start_time": "2024-07-26T16:52:03.682Z"
   },
   {
    "duration": 140,
    "start_time": "2024-07-26T16:52:03.695Z"
   },
   {
    "duration": 11,
    "start_time": "2024-07-26T16:52:03.837Z"
   },
   {
    "duration": 212,
    "start_time": "2024-07-26T16:52:03.849Z"
   },
   {
    "duration": 222,
    "start_time": "2024-07-26T16:52:04.062Z"
   },
   {
    "duration": 232,
    "start_time": "2024-07-26T16:52:04.285Z"
   },
   {
    "duration": 15,
    "start_time": "2024-07-26T16:52:04.518Z"
   },
   {
    "duration": 61,
    "start_time": "2024-07-26T16:52:04.535Z"
   },
   {
    "duration": 15,
    "start_time": "2024-07-26T16:52:04.598Z"
   },
   {
    "duration": 8,
    "start_time": "2024-07-26T16:52:04.620Z"
   },
   {
    "duration": 226,
    "start_time": "2024-07-26T16:52:04.629Z"
   },
   {
    "duration": 309,
    "start_time": "2024-07-26T16:52:04.857Z"
   },
   {
    "duration": 261,
    "start_time": "2024-07-26T16:52:05.168Z"
   },
   {
    "duration": 232,
    "start_time": "2024-07-26T16:52:05.434Z"
   },
   {
    "duration": 32,
    "start_time": "2024-07-26T16:52:05.667Z"
   },
   {
    "duration": 36,
    "start_time": "2024-07-26T16:52:05.701Z"
   },
   {
    "duration": 71,
    "start_time": "2024-07-26T16:52:05.739Z"
   },
   {
    "duration": 21,
    "start_time": "2024-07-26T16:52:05.814Z"
   },
   {
    "duration": 9,
    "start_time": "2024-07-26T16:52:05.837Z"
   },
   {
    "duration": 11,
    "start_time": "2024-07-26T16:52:05.848Z"
   },
   {
    "duration": 12,
    "start_time": "2024-07-26T16:52:05.861Z"
   },
   {
    "duration": 46,
    "start_time": "2024-07-27T09:01:34.645Z"
   },
   {
    "duration": 64,
    "start_time": "2024-07-27T09:05:04.393Z"
   },
   {
    "duration": 58,
    "start_time": "2024-07-27T09:05:26.390Z"
   },
   {
    "duration": 49,
    "start_time": "2024-07-27T09:05:50.735Z"
   },
   {
    "duration": 61,
    "start_time": "2024-07-27T09:06:01.686Z"
   },
   {
    "duration": 6,
    "start_time": "2024-07-27T09:07:43.781Z"
   },
   {
    "duration": 8,
    "start_time": "2024-07-27T09:08:13.835Z"
   },
   {
    "duration": 829,
    "start_time": "2024-07-27T09:08:36.888Z"
   },
   {
    "duration": 197,
    "start_time": "2024-07-27T09:08:37.718Z"
   },
   {
    "duration": 11,
    "start_time": "2024-07-27T09:08:37.916Z"
   },
   {
    "duration": 105,
    "start_time": "2024-07-27T09:08:37.929Z"
   },
   {
    "duration": 9,
    "start_time": "2024-07-27T09:08:38.035Z"
   },
   {
    "duration": 81,
    "start_time": "2024-07-27T09:08:38.046Z"
   },
   {
    "duration": 10,
    "start_time": "2024-07-27T09:08:38.128Z"
   },
   {
    "duration": 7,
    "start_time": "2024-07-27T09:08:38.139Z"
   },
   {
    "duration": 84,
    "start_time": "2024-07-27T09:08:38.148Z"
   },
   {
    "duration": 4,
    "start_time": "2024-07-27T09:08:38.235Z"
   },
   {
    "duration": 8,
    "start_time": "2024-07-27T09:08:38.241Z"
   },
   {
    "duration": 17,
    "start_time": "2024-07-27T09:08:38.250Z"
   },
   {
    "duration": 6,
    "start_time": "2024-07-27T09:08:38.269Z"
   },
   {
    "duration": 4,
    "start_time": "2024-07-27T09:08:38.276Z"
   },
   {
    "duration": 5,
    "start_time": "2024-07-27T09:08:38.281Z"
   },
   {
    "duration": 4,
    "start_time": "2024-07-27T09:08:38.287Z"
   },
   {
    "duration": 7,
    "start_time": "2024-07-27T09:08:38.292Z"
   },
   {
    "duration": 479,
    "start_time": "2024-07-27T09:08:38.300Z"
   },
   {
    "duration": 169,
    "start_time": "2024-07-27T09:08:38.780Z"
   },
   {
    "duration": 9,
    "start_time": "2024-07-27T09:08:38.950Z"
   },
   {
    "duration": 129,
    "start_time": "2024-07-27T09:08:38.960Z"
   },
   {
    "duration": 9,
    "start_time": "2024-07-27T09:08:39.090Z"
   },
   {
    "duration": 213,
    "start_time": "2024-07-27T09:08:39.100Z"
   },
   {
    "duration": 209,
    "start_time": "2024-07-27T09:08:39.315Z"
   },
   {
    "duration": 191,
    "start_time": "2024-07-27T09:08:39.526Z"
   },
   {
    "duration": 15,
    "start_time": "2024-07-27T09:08:39.718Z"
   },
   {
    "duration": 10,
    "start_time": "2024-07-27T09:08:39.735Z"
   },
   {
    "duration": 34,
    "start_time": "2024-07-27T09:08:39.750Z"
   },
   {
    "duration": 5,
    "start_time": "2024-07-27T09:08:39.785Z"
   },
   {
    "duration": 192,
    "start_time": "2024-07-27T09:08:39.792Z"
   },
   {
    "duration": 263,
    "start_time": "2024-07-27T09:08:39.986Z"
   },
   {
    "duration": 213,
    "start_time": "2024-07-27T09:08:40.251Z"
   },
   {
    "duration": 193,
    "start_time": "2024-07-27T09:08:40.465Z"
   },
   {
    "duration": 30,
    "start_time": "2024-07-27T09:08:40.660Z"
   },
   {
    "duration": 3,
    "start_time": "2024-07-27T09:08:40.691Z"
   },
   {
    "duration": 22,
    "start_time": "2024-07-27T09:08:40.695Z"
   },
   {
    "duration": 17,
    "start_time": "2024-07-27T09:08:40.719Z"
   },
   {
    "duration": 13,
    "start_time": "2024-07-27T09:08:40.737Z"
   },
   {
    "duration": 26,
    "start_time": "2024-07-27T09:08:40.751Z"
   },
   {
    "duration": 62,
    "start_time": "2024-07-27T09:08:40.778Z"
   },
   {
    "duration": 39,
    "start_time": "2024-07-27T09:08:40.841Z"
   },
   {
    "duration": 11,
    "start_time": "2024-07-27T09:09:33.277Z"
   },
   {
    "duration": 854,
    "start_time": "2024-07-27T09:09:40.170Z"
   },
   {
    "duration": 50,
    "start_time": "2024-07-27T09:09:41.026Z"
   },
   {
    "duration": 11,
    "start_time": "2024-07-27T09:09:41.077Z"
   },
   {
    "duration": 22,
    "start_time": "2024-07-27T09:09:41.090Z"
   },
   {
    "duration": 12,
    "start_time": "2024-07-27T09:09:41.114Z"
   },
   {
    "duration": 34,
    "start_time": "2024-07-27T09:09:41.128Z"
   },
   {
    "duration": 13,
    "start_time": "2024-07-27T09:09:41.164Z"
   },
   {
    "duration": 8,
    "start_time": "2024-07-27T09:09:41.179Z"
   },
   {
    "duration": 31,
    "start_time": "2024-07-27T09:09:41.189Z"
   },
   {
    "duration": 37,
    "start_time": "2024-07-27T09:09:41.222Z"
   },
   {
    "duration": 9,
    "start_time": "2024-07-27T09:09:41.260Z"
   },
   {
    "duration": 14,
    "start_time": "2024-07-27T09:09:41.270Z"
   },
   {
    "duration": 7,
    "start_time": "2024-07-27T09:09:41.285Z"
   },
   {
    "duration": 5,
    "start_time": "2024-07-27T09:09:41.294Z"
   },
   {
    "duration": 10,
    "start_time": "2024-07-27T09:09:41.300Z"
   },
   {
    "duration": 4,
    "start_time": "2024-07-27T09:09:41.312Z"
   },
   {
    "duration": 9,
    "start_time": "2024-07-27T09:09:41.317Z"
   },
   {
    "duration": 314,
    "start_time": "2024-07-27T09:09:41.328Z"
   },
   {
    "duration": 164,
    "start_time": "2024-07-27T09:09:41.644Z"
   },
   {
    "duration": 10,
    "start_time": "2024-07-27T09:09:41.809Z"
   },
   {
    "duration": 157,
    "start_time": "2024-07-27T09:09:41.821Z"
   },
   {
    "duration": 8,
    "start_time": "2024-07-27T09:09:41.983Z"
   },
   {
    "duration": 202,
    "start_time": "2024-07-27T09:09:41.993Z"
   },
   {
    "duration": 225,
    "start_time": "2024-07-27T09:09:42.197Z"
   },
   {
    "duration": 201,
    "start_time": "2024-07-27T09:09:42.424Z"
   },
   {
    "duration": 16,
    "start_time": "2024-07-27T09:09:42.627Z"
   },
   {
    "duration": 11,
    "start_time": "2024-07-27T09:09:42.644Z"
   },
   {
    "duration": 32,
    "start_time": "2024-07-27T09:09:42.658Z"
   },
   {
    "duration": 5,
    "start_time": "2024-07-27T09:09:42.692Z"
   },
   {
    "duration": 204,
    "start_time": "2024-07-27T09:09:42.699Z"
   },
   {
    "duration": 215,
    "start_time": "2024-07-27T09:09:42.905Z"
   },
   {
    "duration": 295,
    "start_time": "2024-07-27T09:09:43.122Z"
   },
   {
    "duration": 199,
    "start_time": "2024-07-27T09:09:43.419Z"
   },
   {
    "duration": 25,
    "start_time": "2024-07-27T09:09:43.620Z"
   },
   {
    "duration": 4,
    "start_time": "2024-07-27T09:09:43.646Z"
   },
   {
    "duration": 41,
    "start_time": "2024-07-27T09:09:43.652Z"
   },
   {
    "duration": 12,
    "start_time": "2024-07-27T09:09:43.695Z"
   },
   {
    "duration": 6,
    "start_time": "2024-07-27T09:09:43.709Z"
   },
   {
    "duration": 5,
    "start_time": "2024-07-27T09:09:43.716Z"
   },
   {
    "duration": 11,
    "start_time": "2024-07-27T09:09:43.722Z"
   },
   {
    "duration": 5,
    "start_time": "2024-07-27T09:09:43.734Z"
   },
   {
    "duration": 826,
    "start_time": "2024-07-27T09:10:23.689Z"
   },
   {
    "duration": 49,
    "start_time": "2024-07-27T09:10:24.517Z"
   },
   {
    "duration": 11,
    "start_time": "2024-07-27T09:10:24.568Z"
   },
   {
    "duration": 30,
    "start_time": "2024-07-27T09:10:24.580Z"
   },
   {
    "duration": 9,
    "start_time": "2024-07-27T09:10:24.612Z"
   },
   {
    "duration": 36,
    "start_time": "2024-07-27T09:10:24.622Z"
   },
   {
    "duration": 10,
    "start_time": "2024-07-27T09:10:24.660Z"
   },
   {
    "duration": 9,
    "start_time": "2024-07-27T09:10:24.671Z"
   },
   {
    "duration": 12,
    "start_time": "2024-07-27T09:10:24.682Z"
   },
   {
    "duration": 15,
    "start_time": "2024-07-27T09:10:24.695Z"
   },
   {
    "duration": 11,
    "start_time": "2024-07-27T09:10:24.711Z"
   },
   {
    "duration": 20,
    "start_time": "2024-07-27T09:10:24.724Z"
   },
   {
    "duration": 14,
    "start_time": "2024-07-27T09:10:24.745Z"
   },
   {
    "duration": 4,
    "start_time": "2024-07-27T09:10:24.762Z"
   },
   {
    "duration": 7,
    "start_time": "2024-07-27T09:10:24.767Z"
   },
   {
    "duration": 18,
    "start_time": "2024-07-27T09:10:24.775Z"
   },
   {
    "duration": 19,
    "start_time": "2024-07-27T09:10:24.794Z"
   },
   {
    "duration": 301,
    "start_time": "2024-07-27T09:10:24.815Z"
   },
   {
    "duration": 163,
    "start_time": "2024-07-27T09:10:25.117Z"
   },
   {
    "duration": 10,
    "start_time": "2024-07-27T09:10:25.283Z"
   },
   {
    "duration": 139,
    "start_time": "2024-07-27T09:10:25.294Z"
   },
   {
    "duration": 8,
    "start_time": "2024-07-27T09:10:25.434Z"
   },
   {
    "duration": 276,
    "start_time": "2024-07-27T09:10:25.444Z"
   },
   {
    "duration": 216,
    "start_time": "2024-07-27T09:10:25.721Z"
   },
   {
    "duration": 250,
    "start_time": "2024-07-27T09:10:25.939Z"
   },
   {
    "duration": 16,
    "start_time": "2024-07-27T09:10:26.191Z"
   },
   {
    "duration": 14,
    "start_time": "2024-07-27T09:10:26.208Z"
   },
   {
    "duration": 20,
    "start_time": "2024-07-27T09:10:26.223Z"
   },
   {
    "duration": 16,
    "start_time": "2024-07-27T09:10:26.246Z"
   },
   {
    "duration": 234,
    "start_time": "2024-07-27T09:10:26.263Z"
   },
   {
    "duration": 219,
    "start_time": "2024-07-27T09:10:26.499Z"
   },
   {
    "duration": 284,
    "start_time": "2024-07-27T09:10:26.720Z"
   },
   {
    "duration": 214,
    "start_time": "2024-07-27T09:10:27.006Z"
   },
   {
    "duration": 24,
    "start_time": "2024-07-27T09:10:27.221Z"
   },
   {
    "duration": 4,
    "start_time": "2024-07-27T09:10:27.246Z"
   },
   {
    "duration": 37,
    "start_time": "2024-07-27T09:10:27.251Z"
   },
   {
    "duration": 14,
    "start_time": "2024-07-27T09:10:27.289Z"
   },
   {
    "duration": 7,
    "start_time": "2024-07-27T09:10:27.304Z"
   },
   {
    "duration": 27,
    "start_time": "2024-07-27T09:10:27.313Z"
   },
   {
    "duration": 20,
    "start_time": "2024-07-27T09:10:27.341Z"
   },
   {
    "duration": 7,
    "start_time": "2024-07-27T09:10:27.366Z"
   },
   {
    "duration": 106,
    "start_time": "2024-07-27T09:13:13.724Z"
   },
   {
    "duration": 86,
    "start_time": "2024-07-27T09:13:40.297Z"
   },
   {
    "duration": 104,
    "start_time": "2024-07-27T09:13:59.281Z"
   },
   {
    "duration": 86,
    "start_time": "2024-07-27T09:14:30.249Z"
   },
   {
    "duration": 93,
    "start_time": "2024-07-27T09:16:11.178Z"
   },
   {
    "duration": 102,
    "start_time": "2024-07-27T09:16:38.143Z"
   },
   {
    "duration": 96,
    "start_time": "2024-07-27T09:17:34.588Z"
   },
   {
    "duration": 54,
    "start_time": "2024-07-27T09:25:49.665Z"
   },
   {
    "duration": 12,
    "start_time": "2024-07-27T09:34:23.297Z"
   },
   {
    "duration": 9,
    "start_time": "2024-07-27T09:35:15.000Z"
   },
   {
    "duration": 15,
    "start_time": "2024-07-27T09:35:56.205Z"
   },
   {
    "duration": 5,
    "start_time": "2024-07-27T09:36:03.145Z"
   },
   {
    "duration": 8,
    "start_time": "2024-07-27T09:36:28.124Z"
   },
   {
    "duration": 4,
    "start_time": "2024-07-27T09:37:13.668Z"
   },
   {
    "duration": 6,
    "start_time": "2024-07-27T09:37:51.811Z"
   },
   {
    "duration": 5,
    "start_time": "2024-07-27T09:38:42.806Z"
   },
   {
    "duration": 57,
    "start_time": "2024-07-27T09:45:34.376Z"
   },
   {
    "duration": 329,
    "start_time": "2024-07-27T09:47:45.586Z"
   },
   {
    "duration": 413,
    "start_time": "2024-07-27T09:48:31.395Z"
   },
   {
    "duration": 346,
    "start_time": "2024-07-27T09:48:36.547Z"
   },
   {
    "duration": 310,
    "start_time": "2024-07-27T09:49:50.235Z"
   },
   {
    "duration": 329,
    "start_time": "2024-07-27T09:50:31.019Z"
   },
   {
    "duration": 310,
    "start_time": "2024-07-27T09:50:39.244Z"
   },
   {
    "duration": 313,
    "start_time": "2024-07-27T09:50:53.265Z"
   },
   {
    "duration": 416,
    "start_time": "2024-07-27T09:51:06.360Z"
   },
   {
    "duration": 296,
    "start_time": "2024-07-27T09:51:34.004Z"
   },
   {
    "duration": 307,
    "start_time": "2024-07-27T09:51:50.287Z"
   },
   {
    "duration": 330,
    "start_time": "2024-07-27T09:53:50.456Z"
   },
   {
    "duration": 420,
    "start_time": "2024-07-27T09:54:17.869Z"
   },
   {
    "duration": 528,
    "start_time": "2024-07-27T09:54:57.412Z"
   },
   {
    "duration": 441,
    "start_time": "2024-07-27T09:55:14.841Z"
   },
   {
    "duration": 459,
    "start_time": "2024-07-27T09:55:34.674Z"
   },
   {
    "duration": 12,
    "start_time": "2024-07-27T09:56:19.319Z"
   },
   {
    "duration": 448,
    "start_time": "2024-07-27T09:58:00.490Z"
   },
   {
    "duration": 15,
    "start_time": "2024-07-27T09:58:39.190Z"
   },
   {
    "duration": 12,
    "start_time": "2024-07-27T09:59:04.600Z"
   },
   {
    "duration": 434,
    "start_time": "2024-07-27T09:59:23.398Z"
   },
   {
    "duration": 57,
    "start_time": "2024-07-27T10:00:14.788Z"
   },
   {
    "duration": 4,
    "start_time": "2024-07-27T10:01:25.527Z"
   },
   {
    "duration": 13,
    "start_time": "2024-07-27T10:01:26.234Z"
   },
   {
    "duration": 57,
    "start_time": "2024-07-27T10:03:05.206Z"
   },
   {
    "duration": 60,
    "start_time": "2024-07-27T10:08:35.508Z"
   },
   {
    "duration": 904,
    "start_time": "2024-07-27T10:19:27.564Z"
   },
   {
    "duration": 51,
    "start_time": "2024-07-27T10:19:28.470Z"
   },
   {
    "duration": 12,
    "start_time": "2024-07-27T10:19:28.523Z"
   },
   {
    "duration": 24,
    "start_time": "2024-07-27T10:19:28.537Z"
   },
   {
    "duration": 10,
    "start_time": "2024-07-27T10:19:28.562Z"
   },
   {
    "duration": 38,
    "start_time": "2024-07-27T10:19:28.574Z"
   },
   {
    "duration": 9,
    "start_time": "2024-07-27T10:19:28.613Z"
   },
   {
    "duration": 19,
    "start_time": "2024-07-27T10:19:28.624Z"
   },
   {
    "duration": 17,
    "start_time": "2024-07-27T10:19:28.644Z"
   },
   {
    "duration": 15,
    "start_time": "2024-07-27T10:19:28.663Z"
   },
   {
    "duration": 40,
    "start_time": "2024-07-27T10:19:28.679Z"
   },
   {
    "duration": 34,
    "start_time": "2024-07-27T10:19:28.720Z"
   },
   {
    "duration": 31,
    "start_time": "2024-07-27T10:19:28.755Z"
   },
   {
    "duration": 28,
    "start_time": "2024-07-27T10:19:28.788Z"
   },
   {
    "duration": 310,
    "start_time": "2024-07-27T10:19:28.818Z"
   },
   {
    "duration": 184,
    "start_time": "2024-07-27T10:19:29.131Z"
   },
   {
    "duration": 9,
    "start_time": "2024-07-27T10:19:29.316Z"
   },
   {
    "duration": 130,
    "start_time": "2024-07-27T10:19:29.327Z"
   },
   {
    "duration": 8,
    "start_time": "2024-07-27T10:19:29.458Z"
   },
   {
    "duration": 191,
    "start_time": "2024-07-27T10:19:29.468Z"
   },
   {
    "duration": 203,
    "start_time": "2024-07-27T10:19:29.661Z"
   },
   {
    "duration": 219,
    "start_time": "2024-07-27T10:19:29.866Z"
   },
   {
    "duration": 15,
    "start_time": "2024-07-27T10:19:30.086Z"
   },
   {
    "duration": 62,
    "start_time": "2024-07-27T10:19:30.103Z"
   },
   {
    "duration": 124,
    "start_time": "2024-07-27T10:19:30.166Z"
   },
   {
    "duration": 66,
    "start_time": "2024-07-27T10:19:30.292Z"
   },
   {
    "duration": 174,
    "start_time": "2024-07-27T10:19:30.360Z"
   },
   {
    "duration": 41,
    "start_time": "2024-07-27T10:19:30.537Z"
   },
   {
    "duration": 52,
    "start_time": "2024-07-27T10:19:30.579Z"
   },
   {
    "duration": 509,
    "start_time": "2024-07-27T10:19:30.633Z"
   },
   {
    "duration": 10,
    "start_time": "2024-07-27T10:19:31.143Z"
   },
   {
    "duration": 560,
    "start_time": "2024-07-27T10:19:31.155Z"
   },
   {
    "duration": 12,
    "start_time": "2024-07-27T10:19:31.717Z"
   },
   {
    "duration": 35,
    "start_time": "2024-07-27T10:19:31.731Z"
   },
   {
    "duration": 27,
    "start_time": "2024-07-27T10:19:31.767Z"
   },
   {
    "duration": 15,
    "start_time": "2024-07-27T10:19:31.796Z"
   },
   {
    "duration": 7,
    "start_time": "2024-07-27T10:19:31.812Z"
   },
   {
    "duration": 70,
    "start_time": "2024-07-27T10:19:31.820Z"
   },
   {
    "duration": 11,
    "start_time": "2024-07-27T10:19:31.892Z"
   },
   {
    "duration": 8,
    "start_time": "2024-07-27T10:19:31.905Z"
   },
   {
    "duration": 61,
    "start_time": "2024-07-27T10:42:28.427Z"
   },
   {
    "duration": 867,
    "start_time": "2024-07-27T10:59:45.969Z"
   },
   {
    "duration": 56,
    "start_time": "2024-07-27T10:59:46.837Z"
   },
   {
    "duration": 13,
    "start_time": "2024-07-27T10:59:46.896Z"
   },
   {
    "duration": 23,
    "start_time": "2024-07-27T10:59:46.911Z"
   },
   {
    "duration": 10,
    "start_time": "2024-07-27T10:59:46.936Z"
   },
   {
    "duration": 30,
    "start_time": "2024-07-27T10:59:46.947Z"
   },
   {
    "duration": 14,
    "start_time": "2024-07-27T10:59:46.979Z"
   },
   {
    "duration": 31,
    "start_time": "2024-07-27T10:59:46.995Z"
   },
   {
    "duration": 13,
    "start_time": "2024-07-27T10:59:47.028Z"
   },
   {
    "duration": 5,
    "start_time": "2024-07-27T10:59:47.045Z"
   },
   {
    "duration": 33,
    "start_time": "2024-07-27T10:59:47.052Z"
   },
   {
    "duration": 15,
    "start_time": "2024-07-27T10:59:47.087Z"
   },
   {
    "duration": 7,
    "start_time": "2024-07-27T10:59:47.104Z"
   },
   {
    "duration": 19,
    "start_time": "2024-07-27T10:59:47.114Z"
   },
   {
    "duration": 349,
    "start_time": "2024-07-27T10:59:47.135Z"
   },
   {
    "duration": 179,
    "start_time": "2024-07-27T10:59:47.486Z"
   },
   {
    "duration": 21,
    "start_time": "2024-07-27T10:59:47.667Z"
   },
   {
    "duration": 127,
    "start_time": "2024-07-27T10:59:47.689Z"
   },
   {
    "duration": 10,
    "start_time": "2024-07-27T10:59:47.818Z"
   },
   {
    "duration": 197,
    "start_time": "2024-07-27T10:59:47.830Z"
   },
   {
    "duration": 221,
    "start_time": "2024-07-27T10:59:48.029Z"
   },
   {
    "duration": 244,
    "start_time": "2024-07-27T10:59:48.252Z"
   },
   {
    "duration": 18,
    "start_time": "2024-07-27T10:59:48.498Z"
   },
   {
    "duration": 10,
    "start_time": "2024-07-27T10:59:48.518Z"
   },
   {
    "duration": 4,
    "start_time": "2024-07-27T10:59:48.530Z"
   },
   {
    "duration": 8,
    "start_time": "2024-07-27T10:59:48.535Z"
   },
   {
    "duration": 46,
    "start_time": "2024-07-27T10:59:48.544Z"
   },
   {
    "duration": 41,
    "start_time": "2024-07-27T10:59:48.593Z"
   },
   {
    "duration": 5,
    "start_time": "2024-07-27T10:59:48.636Z"
   },
   {
    "duration": 460,
    "start_time": "2024-07-27T10:59:48.642Z"
   },
   {
    "duration": 11,
    "start_time": "2024-07-27T10:59:49.103Z"
   },
   {
    "duration": 576,
    "start_time": "2024-07-27T10:59:49.116Z"
   },
   {
    "duration": 10,
    "start_time": "2024-07-27T10:59:49.693Z"
   },
   {
    "duration": 23,
    "start_time": "2024-07-27T10:59:49.704Z"
   },
   {
    "duration": 12,
    "start_time": "2024-07-27T10:59:49.729Z"
   },
   {
    "duration": 42,
    "start_time": "2024-07-27T10:59:49.743Z"
   },
   {
    "duration": 42,
    "start_time": "2024-07-27T10:59:49.787Z"
   },
   {
    "duration": 16,
    "start_time": "2024-07-27T10:59:49.830Z"
   },
   {
    "duration": 10,
    "start_time": "2024-07-27T10:59:49.848Z"
   },
   {
    "duration": 5,
    "start_time": "2024-07-27T10:59:49.860Z"
   },
   {
    "duration": 478,
    "start_time": "2024-07-27T11:00:19.082Z"
   },
   {
    "duration": 464,
    "start_time": "2024-07-27T11:00:36.820Z"
   },
   {
    "duration": 13,
    "start_time": "2024-07-27T11:33:17.525Z"
   },
   {
    "duration": 60,
    "start_time": "2024-07-27T11:42:39.978Z"
   },
   {
    "duration": 828,
    "start_time": "2024-07-27T11:48:50.310Z"
   },
   {
    "duration": 54,
    "start_time": "2024-07-27T11:48:51.140Z"
   },
   {
    "duration": 11,
    "start_time": "2024-07-27T11:48:51.196Z"
   },
   {
    "duration": 24,
    "start_time": "2024-07-27T11:48:51.209Z"
   },
   {
    "duration": 11,
    "start_time": "2024-07-27T11:48:51.235Z"
   },
   {
    "duration": 23,
    "start_time": "2024-07-27T11:48:51.248Z"
   },
   {
    "duration": 14,
    "start_time": "2024-07-27T11:48:51.273Z"
   },
   {
    "duration": 18,
    "start_time": "2024-07-27T11:48:51.288Z"
   },
   {
    "duration": 12,
    "start_time": "2024-07-27T11:48:51.307Z"
   },
   {
    "duration": 6,
    "start_time": "2024-07-27T11:48:51.323Z"
   },
   {
    "duration": 18,
    "start_time": "2024-07-27T11:48:51.331Z"
   },
   {
    "duration": 33,
    "start_time": "2024-07-27T11:48:51.351Z"
   },
   {
    "duration": 7,
    "start_time": "2024-07-27T11:48:51.386Z"
   },
   {
    "duration": 36,
    "start_time": "2024-07-27T11:48:51.394Z"
   },
   {
    "duration": 325,
    "start_time": "2024-07-27T11:48:51.431Z"
   },
   {
    "duration": 183,
    "start_time": "2024-07-27T11:48:51.758Z"
   },
   {
    "duration": 10,
    "start_time": "2024-07-27T11:48:51.943Z"
   },
   {
    "duration": 107,
    "start_time": "2024-07-27T11:48:51.954Z"
   },
   {
    "duration": 8,
    "start_time": "2024-07-27T11:48:52.063Z"
   },
   {
    "duration": 189,
    "start_time": "2024-07-27T11:48:52.084Z"
   },
   {
    "duration": 233,
    "start_time": "2024-07-27T11:48:52.275Z"
   },
   {
    "duration": 239,
    "start_time": "2024-07-27T11:48:52.510Z"
   },
   {
    "duration": 17,
    "start_time": "2024-07-27T11:48:52.750Z"
   },
   {
    "duration": 48,
    "start_time": "2024-07-27T11:48:52.769Z"
   },
   {
    "duration": 4,
    "start_time": "2024-07-27T11:48:52.819Z"
   },
   {
    "duration": 7,
    "start_time": "2024-07-27T11:48:52.824Z"
   },
   {
    "duration": 18,
    "start_time": "2024-07-27T11:48:52.832Z"
   },
   {
    "duration": 11,
    "start_time": "2024-07-27T11:48:52.854Z"
   },
   {
    "duration": 5,
    "start_time": "2024-07-27T11:48:52.867Z"
   },
   {
    "duration": 463,
    "start_time": "2024-07-27T11:48:52.873Z"
   },
   {
    "duration": 10,
    "start_time": "2024-07-27T11:48:53.338Z"
   },
   {
    "duration": 532,
    "start_time": "2024-07-27T11:48:53.350Z"
   },
   {
    "duration": 12,
    "start_time": "2024-07-27T11:48:53.883Z"
   },
   {
    "duration": 30,
    "start_time": "2024-07-27T11:48:53.896Z"
   },
   {
    "duration": 13,
    "start_time": "2024-07-27T11:48:53.928Z"
   },
   {
    "duration": 47,
    "start_time": "2024-07-27T11:48:53.942Z"
   },
   {
    "duration": 8,
    "start_time": "2024-07-27T11:48:53.990Z"
   },
   {
    "duration": 8,
    "start_time": "2024-07-27T11:48:54.000Z"
   },
   {
    "duration": 22,
    "start_time": "2024-07-27T11:48:54.010Z"
   },
   {
    "duration": 6,
    "start_time": "2024-07-27T11:48:54.034Z"
   }
  ],
  "hide_input": false,
  "kernelspec": {
   "display_name": "Python 3 (ipykernel)",
   "language": "python",
   "name": "python3"
  },
  "language_info": {
   "codemirror_mode": {
    "name": "ipython",
    "version": 3
   },
   "file_extension": ".py",
   "mimetype": "text/x-python",
   "name": "python",
   "nbconvert_exporter": "python",
   "pygments_lexer": "ipython3",
   "version": "3.11.8"
  },
  "toc": {
   "base_numbering": 1,
   "nav_menu": {},
   "number_sections": false,
   "sideBar": true,
   "skip_h1_title": false,
   "title_cell": "Исследование и проверка гипотез в сервисе аренды самокатов GoFast",
   "title_sidebar": "Содержание",
   "toc_cell": true,
   "toc_position": {
    "height": "calc(100% - 180px)",
    "left": "10px",
    "top": "150px",
    "width": "292.344px"
   },
   "toc_section_display": true,
   "toc_window_display": true
  },
  "varInspector": {
   "cols": {
    "lenName": 16,
    "lenType": 16,
    "lenVar": 40
   },
   "kernels_config": {
    "python": {
     "delete_cmd_postfix": "",
     "delete_cmd_prefix": "del ",
     "library": "var_list.py",
     "varRefreshCmd": "print(var_dic_list())"
    },
    "r": {
     "delete_cmd_postfix": ") ",
     "delete_cmd_prefix": "rm(",
     "library": "var_list.r",
     "varRefreshCmd": "cat(var_dic_list()) "
    }
   },
   "types_to_exclude": [
    "module",
    "function",
    "builtin_function_or_method",
    "instance",
    "_Feature"
   ],
   "window_display": false
  }
 },
 "nbformat": 4,
 "nbformat_minor": 5
}
