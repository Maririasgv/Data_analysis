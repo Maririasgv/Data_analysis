{
 "cells": [
  {
   "cell_type": "markdown",
   "metadata": {
    "toc": true
   },
   "source": [
    "<h1>Анализ поведения пользователей и проверка гипотез в стриминговом музыкальном приложении <span class=\"tocSkip\"></span></h1>\n",
    "<div class=\"toc\"><ul class=\"toc-item\"><li><span><a href=\"#Обзор-данных\" data-toc-modified-id=\"Обзор-данных-1\"><span class=\"toc-item-num\">1&nbsp;&nbsp;</span>Обзор данных</a></span></li><li><span><a href=\"#Предобработка-данных\" data-toc-modified-id=\"Предобработка-данных-2\"><span class=\"toc-item-num\">2&nbsp;&nbsp;</span>Предобработка данных</a></span><ul class=\"toc-item\"><li><span><a href=\"#Переименование-столбцов\" data-toc-modified-id=\"Переименование-столбцов-2.1\"><span class=\"toc-item-num\">2.1&nbsp;&nbsp;</span>Переименование столбцов</a></span></li><li><span><a href=\"#Обработка-пропущенных-значений\" data-toc-modified-id=\"Обработка-пропущенных-значений-2.2\"><span class=\"toc-item-num\">2.2&nbsp;&nbsp;</span>Обработка пропущенных значений</a></span></li><li><span><a href=\"#Обработка-дубликатов\" data-toc-modified-id=\"Обработка-дубликатов-2.3\"><span class=\"toc-item-num\">2.3&nbsp;&nbsp;</span>Обработка дубликатов</a></span></li></ul></li><li><span><a href=\"#Проверка-гипотез\" data-toc-modified-id=\"Проверка-гипотез-3\"><span class=\"toc-item-num\">3&nbsp;&nbsp;</span>Проверка гипотез</a></span><ul class=\"toc-item\"><li><span><a href=\"#Сравнение-поведения-пользователей-двух-столиц\" data-toc-modified-id=\"Сравнение-поведения-пользователей-двух-столиц-3.1\"><span class=\"toc-item-num\">3.1&nbsp;&nbsp;</span>Сравнение поведения пользователей двух столиц</a></span></li><li><span><a href=\"#Музыка-в-начале-и-в-конце-недели\" data-toc-modified-id=\"Музыка-в-начале-и-в-конце-недели-3.2\"><span class=\"toc-item-num\">3.2&nbsp;&nbsp;</span>Музыка в начале и в конце недели</a></span></li><li><span><a href=\"#Жанровые-предпочтения-в-Москве-и-Петербурге\" data-toc-modified-id=\"Жанровые-предпочтения-в-Москве-и-Петербурге-3.3\"><span class=\"toc-item-num\">3.3&nbsp;&nbsp;</span>Жанровые предпочтения в Москве и Петербурге</a></span></li></ul></li><li><span><a href=\"#Итоги-исследования\" data-toc-modified-id=\"Итоги-исследования-4\"><span class=\"toc-item-num\">4&nbsp;&nbsp;</span>Итоги исследования</a></span></li></ul></div>"
   ]
  },
  {
   "cell_type": "markdown",
   "metadata": {},
   "source": [
    "# Описание проекта"
   ]
  },
  {
   "cell_type": "markdown",
   "metadata": {},
   "source": [
    "**Область исследования**:\\\n",
    "Датасет с логами прослушиваний пользователями музыки."
   ]
  },
  {
   "cell_type": "markdown",
   "metadata": {},
   "source": [
    "**Задача**:\\\n",
    "Сравнить поведение пользователей в Санкт-Петербурге и Москве и проверить гипотезы:\n",
    "- активность пользователей зависит от дня недели. Причём в Москве и Петербурге это проявляется по-разному;\n",
    "- утром в понедельник в Москве преобладают одни жанры музыки, а в Петербурге — другие. Это верно и для вечера пятницы;\n",
    "- Москва и Петербург предпочитают разные жанры музыки. В Москве чаще слушают поп-музыку, в Петербурге — русский рэп."
   ]
  },
  {
   "cell_type": "markdown",
   "metadata": {},
   "source": [
    "**Структура данных**:\n",
    "- userID — идентификатор пользователя\n",
    "- Track — название трека\n",
    "- artist — имя исполнителя\n",
    "- genre — название жанра\n",
    "- City — город пользователя\n",
    "- time — время начала прослушивания\n",
    "- Day — день недели"
   ]
  },
  {
   "cell_type": "markdown",
   "metadata": {
    "deletable": false,
    "editable": false,
    "id": "Ml1hmfXC_Zcs"
   },
   "source": [
    "## Обзор данных"
   ]
  },
  {
   "cell_type": "code",
   "execution_count": 1,
   "metadata": {
    "ExecuteTime": {
     "end_time": "2024-12-11T08:58:07.737457Z",
     "start_time": "2024-12-11T08:58:07.410329Z"
    },
    "deletable": false,
    "id": "AXN7PHPN_Zcs"
   },
   "outputs": [],
   "source": [
    "import pandas as pd"
   ]
  },
  {
   "cell_type": "code",
   "execution_count": 2,
   "metadata": {
    "ExecuteTime": {
     "end_time": "2024-12-11T08:58:07.804440Z",
     "start_time": "2024-12-11T08:58:07.738169Z"
    }
   },
   "outputs": [
    {
     "data": {
      "text/html": [
       "<div>\n",
       "<style scoped>\n",
       "    .dataframe tbody tr th:only-of-type {\n",
       "        vertical-align: middle;\n",
       "    }\n",
       "\n",
       "    .dataframe tbody tr th {\n",
       "        vertical-align: top;\n",
       "    }\n",
       "\n",
       "    .dataframe thead th {\n",
       "        text-align: right;\n",
       "    }\n",
       "</style>\n",
       "<table border=\"1\" class=\"dataframe\">\n",
       "  <thead>\n",
       "    <tr style=\"text-align: right;\">\n",
       "      <th></th>\n",
       "      <th>userID</th>\n",
       "      <th>Track</th>\n",
       "      <th>artist</th>\n",
       "      <th>genre</th>\n",
       "      <th>City</th>\n",
       "      <th>time</th>\n",
       "      <th>Day</th>\n",
       "    </tr>\n",
       "  </thead>\n",
       "  <tbody>\n",
       "    <tr>\n",
       "      <th>1806</th>\n",
       "      <td>2AD12DCC</td>\n",
       "      <td>Простая девчонка</td>\n",
       "      <td>NaN</td>\n",
       "      <td>ruspop</td>\n",
       "      <td>Saint-Petersburg</td>\n",
       "      <td>14:07:51</td>\n",
       "      <td>Monday</td>\n",
       "    </tr>\n",
       "    <tr>\n",
       "      <th>48647</th>\n",
       "      <td>93CA5A1F</td>\n",
       "      <td>Amber Skies</td>\n",
       "      <td>Rudy Adrian</td>\n",
       "      <td>electronic</td>\n",
       "      <td>Saint-Petersburg</td>\n",
       "      <td>21:44:33</td>\n",
       "      <td>Monday</td>\n",
       "    </tr>\n",
       "    <tr>\n",
       "      <th>5047</th>\n",
       "      <td>A092E6C6</td>\n",
       "      <td>Соната №9 ми мажор ор.14 №1. II. Allegretto</td>\n",
       "      <td>Валерий Вишневский</td>\n",
       "      <td>classical</td>\n",
       "      <td>Saint-Petersburg</td>\n",
       "      <td>13:54:52</td>\n",
       "      <td>Friday</td>\n",
       "    </tr>\n",
       "    <tr>\n",
       "      <th>61766</th>\n",
       "      <td>401A827A</td>\n",
       "      <td>Pасслабляющая музыка для детей</td>\n",
       "      <td>Настя Крутой</td>\n",
       "      <td>meditative</td>\n",
       "      <td>Moscow</td>\n",
       "      <td>20:04:02</td>\n",
       "      <td>Friday</td>\n",
       "    </tr>\n",
       "    <tr>\n",
       "      <th>24291</th>\n",
       "      <td>51A8F218</td>\n",
       "      <td>J'ai Plongé Dans Le Bruit</td>\n",
       "      <td>Baden Baden</td>\n",
       "      <td>rock</td>\n",
       "      <td>Moscow</td>\n",
       "      <td>14:35:26</td>\n",
       "      <td>Friday</td>\n",
       "    </tr>\n",
       "  </tbody>\n",
       "</table>\n",
       "</div>"
      ],
      "text/plain": [
       "         userID                                        Track  \\\n",
       "1806   2AD12DCC                             Простая девчонка   \n",
       "48647  93CA5A1F                                  Amber Skies   \n",
       "5047   A092E6C6  Соната №9 ми мажор ор.14 №1. II. Allegretto   \n",
       "61766  401A827A               Pасслабляющая музыка для детей   \n",
       "24291  51A8F218                    J'ai Plongé Dans Le Bruit   \n",
       "\n",
       "                   artist       genre            City        time     Day  \n",
       "1806                  NaN      ruspop  Saint-Petersburg  14:07:51  Monday  \n",
       "48647         Rudy Adrian  electronic  Saint-Petersburg  21:44:33  Monday  \n",
       "5047   Валерий Вишневский   classical  Saint-Petersburg  13:54:52  Friday  \n",
       "61766        Настя Крутой  meditative            Moscow  20:04:02  Friday  \n",
       "24291         Baden Baden        rock            Moscow  14:35:26  Friday  "
      ]
     },
     "execution_count": 2,
     "metadata": {},
     "output_type": "execute_result"
    }
   ],
   "source": [
    "try:\n",
    "    df = pd.read_csv('/datasets/yandex_music_project.csv')\n",
    "except:\n",
    "    df = pd.read_csv('/Users/mariiasergeeva/Desktop/yandex_music_project.csv')\n",
    "\n",
    "df.sample(5)"
   ]
  },
  {
   "cell_type": "code",
   "execution_count": 3,
   "metadata": {
    "ExecuteTime": {
     "end_time": "2024-12-11T08:58:07.808840Z",
     "start_time": "2024-12-11T08:58:07.805768Z"
    },
    "deletable": false,
    "id": "oWTVX3gW_Zct"
   },
   "outputs": [
    {
     "data": {
      "text/html": [
       "<div>\n",
       "<style scoped>\n",
       "    .dataframe tbody tr th:only-of-type {\n",
       "        vertical-align: middle;\n",
       "    }\n",
       "\n",
       "    .dataframe tbody tr th {\n",
       "        vertical-align: top;\n",
       "    }\n",
       "\n",
       "    .dataframe thead th {\n",
       "        text-align: right;\n",
       "    }\n",
       "</style>\n",
       "<table border=\"1\" class=\"dataframe\">\n",
       "  <thead>\n",
       "    <tr style=\"text-align: right;\">\n",
       "      <th></th>\n",
       "      <th>userID</th>\n",
       "      <th>Track</th>\n",
       "      <th>artist</th>\n",
       "      <th>genre</th>\n",
       "      <th>City</th>\n",
       "      <th>time</th>\n",
       "      <th>Day</th>\n",
       "    </tr>\n",
       "  </thead>\n",
       "  <tbody>\n",
       "    <tr>\n",
       "      <th>0</th>\n",
       "      <td>FFB692EC</td>\n",
       "      <td>Kamigata To Boots</td>\n",
       "      <td>The Mass Missile</td>\n",
       "      <td>rock</td>\n",
       "      <td>Saint-Petersburg</td>\n",
       "      <td>20:28:33</td>\n",
       "      <td>Wednesday</td>\n",
       "    </tr>\n",
       "    <tr>\n",
       "      <th>1</th>\n",
       "      <td>55204538</td>\n",
       "      <td>Delayed Because of Accident</td>\n",
       "      <td>Andreas Rönnberg</td>\n",
       "      <td>rock</td>\n",
       "      <td>Moscow</td>\n",
       "      <td>14:07:09</td>\n",
       "      <td>Friday</td>\n",
       "    </tr>\n",
       "    <tr>\n",
       "      <th>2</th>\n",
       "      <td>20EC38</td>\n",
       "      <td>Funiculì funiculà</td>\n",
       "      <td>Mario Lanza</td>\n",
       "      <td>pop</td>\n",
       "      <td>Saint-Petersburg</td>\n",
       "      <td>20:58:07</td>\n",
       "      <td>Wednesday</td>\n",
       "    </tr>\n",
       "    <tr>\n",
       "      <th>3</th>\n",
       "      <td>A3DD03C9</td>\n",
       "      <td>Dragons in the Sunset</td>\n",
       "      <td>Fire + Ice</td>\n",
       "      <td>folk</td>\n",
       "      <td>Saint-Petersburg</td>\n",
       "      <td>08:37:09</td>\n",
       "      <td>Monday</td>\n",
       "    </tr>\n",
       "    <tr>\n",
       "      <th>4</th>\n",
       "      <td>E2DC1FAE</td>\n",
       "      <td>Soul People</td>\n",
       "      <td>Space Echo</td>\n",
       "      <td>dance</td>\n",
       "      <td>Moscow</td>\n",
       "      <td>08:34:34</td>\n",
       "      <td>Monday</td>\n",
       "    </tr>\n",
       "    <tr>\n",
       "      <th>5</th>\n",
       "      <td>842029A1</td>\n",
       "      <td>Преданная</td>\n",
       "      <td>IMPERVTOR</td>\n",
       "      <td>rusrap</td>\n",
       "      <td>Saint-Petersburg</td>\n",
       "      <td>13:09:41</td>\n",
       "      <td>Friday</td>\n",
       "    </tr>\n",
       "    <tr>\n",
       "      <th>6</th>\n",
       "      <td>4CB90AA5</td>\n",
       "      <td>True</td>\n",
       "      <td>Roman Messer</td>\n",
       "      <td>dance</td>\n",
       "      <td>Moscow</td>\n",
       "      <td>13:00:07</td>\n",
       "      <td>Wednesday</td>\n",
       "    </tr>\n",
       "    <tr>\n",
       "      <th>7</th>\n",
       "      <td>F03E1C1F</td>\n",
       "      <td>Feeling This Way</td>\n",
       "      <td>Polina Griffith</td>\n",
       "      <td>dance</td>\n",
       "      <td>Moscow</td>\n",
       "      <td>20:47:49</td>\n",
       "      <td>Wednesday</td>\n",
       "    </tr>\n",
       "    <tr>\n",
       "      <th>8</th>\n",
       "      <td>8FA1D3BE</td>\n",
       "      <td>И вновь продолжается бой</td>\n",
       "      <td>NaN</td>\n",
       "      <td>ruspop</td>\n",
       "      <td>Moscow</td>\n",
       "      <td>09:17:40</td>\n",
       "      <td>Friday</td>\n",
       "    </tr>\n",
       "    <tr>\n",
       "      <th>9</th>\n",
       "      <td>E772D5C0</td>\n",
       "      <td>Pessimist</td>\n",
       "      <td>NaN</td>\n",
       "      <td>dance</td>\n",
       "      <td>Saint-Petersburg</td>\n",
       "      <td>21:20:49</td>\n",
       "      <td>Wednesday</td>\n",
       "    </tr>\n",
       "  </tbody>\n",
       "</table>\n",
       "</div>"
      ],
      "text/plain": [
       "     userID                        Track            artist   genre  \\\n",
       "0  FFB692EC            Kamigata To Boots  The Mass Missile    rock   \n",
       "1  55204538  Delayed Because of Accident  Andreas Rönnberg    rock   \n",
       "2    20EC38            Funiculì funiculà       Mario Lanza     pop   \n",
       "3  A3DD03C9        Dragons in the Sunset        Fire + Ice    folk   \n",
       "4  E2DC1FAE                  Soul People        Space Echo   dance   \n",
       "5  842029A1                    Преданная         IMPERVTOR  rusrap   \n",
       "6  4CB90AA5                         True      Roman Messer   dance   \n",
       "7  F03E1C1F             Feeling This Way   Polina Griffith   dance   \n",
       "8  8FA1D3BE     И вновь продолжается бой               NaN  ruspop   \n",
       "9  E772D5C0                    Pessimist               NaN   dance   \n",
       "\n",
       "             City        time        Day  \n",
       "0  Saint-Petersburg  20:28:33  Wednesday  \n",
       "1            Moscow  14:07:09     Friday  \n",
       "2  Saint-Petersburg  20:58:07  Wednesday  \n",
       "3  Saint-Petersburg  08:37:09     Monday  \n",
       "4            Moscow  08:34:34     Monday  \n",
       "5  Saint-Petersburg  13:09:41     Friday  \n",
       "6            Moscow  13:00:07  Wednesday  \n",
       "7            Moscow  20:47:49  Wednesday  \n",
       "8            Moscow  09:17:40     Friday  \n",
       "9  Saint-Petersburg  21:20:49  Wednesday  "
      ]
     },
     "execution_count": 3,
     "metadata": {},
     "output_type": "execute_result"
    }
   ],
   "source": [
    "df.head(10)"
   ]
  },
  {
   "cell_type": "code",
   "execution_count": 4,
   "metadata": {
    "ExecuteTime": {
     "end_time": "2024-12-11T08:58:07.821371Z",
     "start_time": "2024-12-11T08:58:07.809451Z"
    },
    "deletable": false,
    "id": "DSf2kIb-_Zct"
   },
   "outputs": [
    {
     "name": "stdout",
     "output_type": "stream",
     "text": [
      "<class 'pandas.core.frame.DataFrame'>\n",
      "RangeIndex: 65079 entries, 0 to 65078\n",
      "Data columns (total 7 columns):\n",
      " #   Column    Non-Null Count  Dtype \n",
      "---  ------    --------------  ----- \n",
      " 0     userID  65079 non-null  object\n",
      " 1   Track     63848 non-null  object\n",
      " 2   artist    57876 non-null  object\n",
      " 3   genre     63881 non-null  object\n",
      " 4     City    65079 non-null  object\n",
      " 5   time      65079 non-null  object\n",
      " 6   Day       65079 non-null  object\n",
      "dtypes: object(7)\n",
      "memory usage: 3.5+ MB\n"
     ]
    }
   ],
   "source": [
    "df.info()"
   ]
  },
  {
   "cell_type": "markdown",
   "metadata": {
    "deletable": false,
    "editable": false,
    "id": "TaQ2Iwbr_Zct"
   },
   "source": [
    "Количество значений в столбцах различается. Значит, в данных есть пропущенные значения."
   ]
  },
  {
   "cell_type": "markdown",
   "metadata": {
    "deletable": false,
    "editable": false,
    "id": "MCB6-dXG_Zct"
   },
   "source": [
    "**Выводы**\n",
    "\n",
    "В каждой строке таблицы — данные о прослушанном треке. Часть колонок описывает саму композицию: название, исполнителя и жанр. Остальные данные рассказывают о пользователе: из какого он города, когда он слушал музыку.\n",
    "\n",
    "Предварительно можно утверждать, что данных достаточно для проверки гипотез. Но встречаются пропуски в данных, а названия колонок не консистентны.\n",
    "\n",
    "Чтобы двигаться дальше, необходимо предобработать данные."
   ]
  },
  {
   "cell_type": "markdown",
   "metadata": {
    "deletable": false,
    "editable": false,
    "id": "SjYF6Ub9_Zct"
   },
   "source": [
    "## Предобработка данных"
   ]
  },
  {
   "cell_type": "markdown",
   "metadata": {
    "deletable": false,
    "editable": false,
    "id": "dIaKXr29_Zct",
    "tags": [
     "start_task"
    ]
   },
   "source": [
    "### Переименование столбцов"
   ]
  },
  {
   "cell_type": "markdown",
   "metadata": {},
   "source": [
    "Еще раз оценим названия колонок:"
   ]
  },
  {
   "cell_type": "code",
   "execution_count": 5,
   "metadata": {
    "ExecuteTime": {
     "end_time": "2024-12-11T08:58:07.823984Z",
     "start_time": "2024-12-11T08:58:07.822003Z"
    },
    "deletable": false,
    "id": "oKOTdF_Q_Zct"
   },
   "outputs": [
    {
     "data": {
      "text/plain": [
       "Index(['  userID', 'Track', 'artist', 'genre', '  City  ', 'time', 'Day'], dtype='object')"
      ]
     },
     "execution_count": 5,
     "metadata": {},
     "output_type": "execute_result"
    }
   ],
   "source": [
    "df.columns"
   ]
  },
  {
   "cell_type": "markdown",
   "metadata": {},
   "source": [
    "Стилистически они разные, приведем все названия к нижнему регистру и уберем лишние пропуски:"
   ]
  },
  {
   "cell_type": "code",
   "execution_count": 6,
   "metadata": {
    "ExecuteTime": {
     "end_time": "2024-12-11T08:58:07.839894Z",
     "start_time": "2024-12-11T08:58:07.824561Z"
    },
    "deletable": false,
    "id": "ISlFqs5y_Zct"
   },
   "outputs": [
    {
     "data": {
      "text/plain": [
       "Index(['user_id', 'track', 'artist', 'genre', 'city', 'time', 'day'], dtype='object')"
      ]
     },
     "execution_count": 6,
     "metadata": {},
     "output_type": "execute_result"
    }
   ],
   "source": [
    "df = df.rename(columns={'  userID':'user_id', 'Track':'track', '  City  ':'city', 'Day':'day'})\n",
    "df.columns"
   ]
  },
  {
   "cell_type": "markdown",
   "metadata": {
    "deletable": false,
    "editable": false,
    "id": "5ISfbcfY_Zct",
    "tags": [
     "start_task"
    ]
   },
   "source": [
    "### Обработка пропущенных значений"
   ]
  },
  {
   "cell_type": "markdown",
   "metadata": {},
   "source": [
    "Оценим кол-во пропусков в колонках:"
   ]
  },
  {
   "cell_type": "code",
   "execution_count": 7,
   "metadata": {
    "ExecuteTime": {
     "end_time": "2024-12-11T08:58:07.852951Z",
     "start_time": "2024-12-11T08:58:07.841531Z"
    },
    "deletable": false,
    "id": "RskX29qr_Zct"
   },
   "outputs": [
    {
     "data": {
      "text/plain": [
       "user_id       0\n",
       "track      1231\n",
       "artist     7203\n",
       "genre      1198\n",
       "city          0\n",
       "time          0\n",
       "day           0\n",
       "dtype: int64"
      ]
     },
     "execution_count": 7,
     "metadata": {},
     "output_type": "execute_result"
    }
   ],
   "source": [
    "df.isna().sum()"
   ]
  },
  {
   "cell_type": "markdown",
   "metadata": {},
   "source": [
    "Заменим пропущенные значений на 'unknown':"
   ]
  },
  {
   "cell_type": "code",
   "execution_count": 8,
   "metadata": {
    "ExecuteTime": {
     "end_time": "2024-12-11T08:58:07.870856Z",
     "start_time": "2024-12-11T08:58:07.853809Z"
    },
    "deletable": false,
    "id": "KplB5qWs_Zct"
   },
   "outputs": [
    {
     "data": {
      "text/plain": [
       "user_id    0\n",
       "track      0\n",
       "artist     0\n",
       "genre      0\n",
       "city       0\n",
       "time       0\n",
       "day        0\n",
       "dtype: int64"
      ]
     },
     "execution_count": 8,
     "metadata": {},
     "output_type": "execute_result"
    }
   ],
   "source": [
    "columns_to_replace = ['track', 'artist', 'genre']\n",
    "for column in columns_to_replace:\n",
    "    df[column] = df[column].fillna('unknown')\n",
    "\n",
    "df.isna().sum()"
   ]
  },
  {
   "cell_type": "markdown",
   "metadata": {
    "deletable": false,
    "editable": false,
    "id": "BWKRtBJ3_Zct",
    "tags": [
     "start_task"
    ]
   },
   "source": [
    "### Обработка дубликатов"
   ]
  },
  {
   "cell_type": "markdown",
   "metadata": {},
   "source": [
    "Подсчитаем явные дубликаты:"
   ]
  },
  {
   "cell_type": "code",
   "execution_count": 9,
   "metadata": {
    "ExecuteTime": {
     "end_time": "2024-12-11T08:58:07.895136Z",
     "start_time": "2024-12-11T08:58:07.871714Z"
    },
    "deletable": false,
    "id": "36eES_S0_Zct",
    "scrolled": false
   },
   "outputs": [
    {
     "data": {
      "text/plain": [
       "3826"
      ]
     },
     "execution_count": 9,
     "metadata": {},
     "output_type": "execute_result"
    }
   ],
   "source": [
    "df.duplicated().sum()"
   ]
  },
  {
   "cell_type": "markdown",
   "metadata": {},
   "source": [
    "Удалим их и проверим снова наш датафрейм на дубли:"
   ]
  },
  {
   "cell_type": "code",
   "execution_count": 10,
   "metadata": {
    "ExecuteTime": {
     "end_time": "2024-12-11T08:58:07.946739Z",
     "start_time": "2024-12-11T08:58:07.895876Z"
    },
    "deletable": false,
    "id": "exFHq6tt_Zct"
   },
   "outputs": [
    {
     "data": {
      "text/plain": [
       "0"
      ]
     },
     "execution_count": 10,
     "metadata": {},
     "output_type": "execute_result"
    }
   ],
   "source": [
    "df = df.drop_duplicates().reset_index(drop=True)\n",
    "df.duplicated().sum()"
   ]
  },
  {
   "cell_type": "markdown",
   "metadata": {},
   "source": [
    "Оценим уникальные названия жанров, чтобы исключить некорректные данные:"
   ]
  },
  {
   "cell_type": "code",
   "execution_count": 11,
   "metadata": {
    "ExecuteTime": {
     "end_time": "2024-12-11T08:58:07.971062Z",
     "start_time": "2024-12-11T08:58:07.949247Z"
    },
    "deletable": false,
    "id": "JIUcqzZN_Zct",
    "scrolled": true
   },
   "outputs": [
    {
     "data": {
      "text/plain": [
       "['acid',\n",
       " 'acoustic',\n",
       " 'action',\n",
       " 'adult',\n",
       " 'africa',\n",
       " 'afrikaans',\n",
       " 'alternative',\n",
       " 'alternativepunk',\n",
       " 'ambient',\n",
       " 'americana',\n",
       " 'animated',\n",
       " 'anime',\n",
       " 'arabesk',\n",
       " 'arabic',\n",
       " 'arena',\n",
       " 'argentinetango',\n",
       " 'art',\n",
       " 'audiobook',\n",
       " 'author',\n",
       " 'avantgarde',\n",
       " 'axé',\n",
       " 'baile',\n",
       " 'balkan',\n",
       " 'beats',\n",
       " 'bigroom',\n",
       " 'black',\n",
       " 'bluegrass',\n",
       " 'blues',\n",
       " 'bollywood',\n",
       " 'bossa',\n",
       " 'brazilian',\n",
       " 'breakbeat',\n",
       " 'breaks',\n",
       " 'broadway',\n",
       " 'cantautori',\n",
       " 'cantopop',\n",
       " 'canzone',\n",
       " 'caribbean',\n",
       " 'caucasian',\n",
       " 'celtic',\n",
       " 'chamber',\n",
       " 'chanson',\n",
       " 'children',\n",
       " 'chill',\n",
       " 'chinese',\n",
       " 'choral',\n",
       " 'christian',\n",
       " 'christmas',\n",
       " 'classical',\n",
       " 'classicmetal',\n",
       " 'club',\n",
       " 'colombian',\n",
       " 'comedy',\n",
       " 'conjazz',\n",
       " 'contemporary',\n",
       " 'country',\n",
       " 'cuban',\n",
       " 'dance',\n",
       " 'dancehall',\n",
       " 'dancepop',\n",
       " 'dark',\n",
       " 'death',\n",
       " 'deep',\n",
       " 'deutschrock',\n",
       " 'deutschspr',\n",
       " 'dirty',\n",
       " 'disco',\n",
       " 'dnb',\n",
       " 'documentary',\n",
       " 'downbeat',\n",
       " 'downtempo',\n",
       " 'drum',\n",
       " 'dub',\n",
       " 'dubstep',\n",
       " 'eastern',\n",
       " 'easy',\n",
       " 'electronic',\n",
       " 'electropop',\n",
       " 'emo',\n",
       " 'entehno',\n",
       " 'epicmetal',\n",
       " 'estrada',\n",
       " 'ethnic',\n",
       " 'eurofolk',\n",
       " 'european',\n",
       " 'experimental',\n",
       " 'extrememetal',\n",
       " 'fado',\n",
       " 'fairytail',\n",
       " 'film',\n",
       " 'fitness',\n",
       " 'flamenco',\n",
       " 'folk',\n",
       " 'folklore',\n",
       " 'folkmetal',\n",
       " 'folkrock',\n",
       " 'folktronica',\n",
       " 'forró',\n",
       " 'frankreich',\n",
       " 'französisch',\n",
       " 'french',\n",
       " 'funk',\n",
       " 'future',\n",
       " 'gangsta',\n",
       " 'garage',\n",
       " 'german',\n",
       " 'ghazal',\n",
       " 'gitarre',\n",
       " 'glitch',\n",
       " 'gospel',\n",
       " 'gothic',\n",
       " 'grime',\n",
       " 'grunge',\n",
       " 'gypsy',\n",
       " 'handsup',\n",
       " \"hard'n'heavy\",\n",
       " 'hardcore',\n",
       " 'hardstyle',\n",
       " 'hardtechno',\n",
       " 'hip',\n",
       " 'hip-hop',\n",
       " 'hiphop',\n",
       " 'historisch',\n",
       " 'holiday',\n",
       " 'hop',\n",
       " 'horror',\n",
       " 'house',\n",
       " 'hymn',\n",
       " 'idm',\n",
       " 'independent',\n",
       " 'indian',\n",
       " 'indie',\n",
       " 'indipop',\n",
       " 'industrial',\n",
       " 'inspirational',\n",
       " 'instrumental',\n",
       " 'international',\n",
       " 'irish',\n",
       " 'jam',\n",
       " 'japanese',\n",
       " 'jazz',\n",
       " 'jewish',\n",
       " 'jpop',\n",
       " 'jungle',\n",
       " 'k-pop',\n",
       " 'karadeniz',\n",
       " 'karaoke',\n",
       " 'kayokyoku',\n",
       " 'korean',\n",
       " 'laiko',\n",
       " 'latin',\n",
       " 'latino',\n",
       " 'leftfield',\n",
       " 'local',\n",
       " 'lounge',\n",
       " 'loungeelectronic',\n",
       " 'lovers',\n",
       " 'malaysian',\n",
       " 'mandopop',\n",
       " 'marschmusik',\n",
       " 'meditative',\n",
       " 'mediterranean',\n",
       " 'melodic',\n",
       " 'metal',\n",
       " 'metalcore',\n",
       " 'mexican',\n",
       " 'middle',\n",
       " 'minimal',\n",
       " 'miscellaneous',\n",
       " 'modern',\n",
       " 'mood',\n",
       " 'mpb',\n",
       " 'muslim',\n",
       " 'native',\n",
       " 'neoklassik',\n",
       " 'neue',\n",
       " 'new',\n",
       " 'newage',\n",
       " 'newwave',\n",
       " 'nu',\n",
       " 'nujazz',\n",
       " 'numetal',\n",
       " 'oceania',\n",
       " 'old',\n",
       " 'opera',\n",
       " 'orchestral',\n",
       " 'other',\n",
       " 'piano',\n",
       " 'podcasts',\n",
       " 'pop',\n",
       " 'popdance',\n",
       " 'popelectronic',\n",
       " 'popeurodance',\n",
       " 'poprussian',\n",
       " 'post',\n",
       " 'posthardcore',\n",
       " 'postrock',\n",
       " 'power',\n",
       " 'progmetal',\n",
       " 'progressive',\n",
       " 'psychedelic',\n",
       " 'punjabi',\n",
       " 'punk',\n",
       " 'quebecois',\n",
       " 'ragga',\n",
       " 'ram',\n",
       " 'rancheras',\n",
       " 'rap',\n",
       " 'rave',\n",
       " 'reggae',\n",
       " 'reggaeton',\n",
       " 'regional',\n",
       " 'relax',\n",
       " 'religious',\n",
       " 'retro',\n",
       " 'rhythm',\n",
       " 'rnb',\n",
       " 'rnr',\n",
       " 'rock',\n",
       " 'rockabilly',\n",
       " 'rockalternative',\n",
       " 'rockindie',\n",
       " 'rockother',\n",
       " 'romance',\n",
       " 'roots',\n",
       " 'ruspop',\n",
       " 'rusrap',\n",
       " 'rusrock',\n",
       " 'russian',\n",
       " 'salsa',\n",
       " 'samba',\n",
       " 'scenic',\n",
       " 'schlager',\n",
       " 'self',\n",
       " 'sertanejo',\n",
       " 'shanson',\n",
       " 'shoegazing',\n",
       " 'showtunes',\n",
       " 'singer',\n",
       " 'ska',\n",
       " 'skarock',\n",
       " 'slow',\n",
       " 'smooth',\n",
       " 'soft',\n",
       " 'soul',\n",
       " 'soulful',\n",
       " 'sound',\n",
       " 'soundtrack',\n",
       " 'southern',\n",
       " 'specialty',\n",
       " 'speech',\n",
       " 'spiritual',\n",
       " 'sport',\n",
       " 'stonerrock',\n",
       " 'surf',\n",
       " 'swing',\n",
       " 'synthpop',\n",
       " 'synthrock',\n",
       " 'sängerportrait',\n",
       " 'tango',\n",
       " 'tanzorchester',\n",
       " 'taraftar',\n",
       " 'tatar',\n",
       " 'tech',\n",
       " 'techno',\n",
       " 'teen',\n",
       " 'thrash',\n",
       " 'top',\n",
       " 'traditional',\n",
       " 'tradjazz',\n",
       " 'trance',\n",
       " 'tribal',\n",
       " 'trip',\n",
       " 'triphop',\n",
       " 'tropical',\n",
       " 'türk',\n",
       " 'türkçe',\n",
       " 'ukrrock',\n",
       " 'unknown',\n",
       " 'urban',\n",
       " 'uzbek',\n",
       " 'variété',\n",
       " 'vi',\n",
       " 'videogame',\n",
       " 'vocal',\n",
       " 'western',\n",
       " 'world',\n",
       " 'worldbeat',\n",
       " 'ïîï',\n",
       " 'электроника']"
      ]
     },
     "execution_count": 11,
     "metadata": {},
     "output_type": "execute_result"
    }
   ],
   "source": [
    "genre_sort = df.groupby('genre')['genre'].count()\n",
    "genre_sort = sorted(df['genre'].unique())\n",
    "genre_sort"
   ]
  },
  {
   "cell_type": "markdown",
   "metadata": {},
   "source": [
    "Поправим дубликаты в названиях жанров:"
   ]
  },
  {
   "cell_type": "code",
   "execution_count": 12,
   "metadata": {
    "ExecuteTime": {
     "end_time": "2024-12-11T08:58:07.980323Z",
     "start_time": "2024-12-11T08:58:07.971848Z"
    }
   },
   "outputs": [
    {
     "data": {
      "text/plain": [
       "['acid',\n",
       " 'acoustic',\n",
       " 'action',\n",
       " 'adult',\n",
       " 'africa',\n",
       " 'afrikaans',\n",
       " 'alternative',\n",
       " 'alternativepunk',\n",
       " 'ambient',\n",
       " 'americana',\n",
       " 'animated',\n",
       " 'anime',\n",
       " 'arabesk',\n",
       " 'arabic',\n",
       " 'arena',\n",
       " 'argentinetango',\n",
       " 'art',\n",
       " 'audiobook',\n",
       " 'author',\n",
       " 'avantgarde',\n",
       " 'axé',\n",
       " 'baile',\n",
       " 'balkan',\n",
       " 'beats',\n",
       " 'bigroom',\n",
       " 'black',\n",
       " 'bluegrass',\n",
       " 'blues',\n",
       " 'bollywood',\n",
       " 'bossa',\n",
       " 'brazilian',\n",
       " 'breakbeat',\n",
       " 'breaks',\n",
       " 'broadway',\n",
       " 'cantautori',\n",
       " 'cantopop',\n",
       " 'canzone',\n",
       " 'caribbean',\n",
       " 'caucasian',\n",
       " 'celtic',\n",
       " 'chamber',\n",
       " 'chanson',\n",
       " 'children',\n",
       " 'chill',\n",
       " 'chinese',\n",
       " 'choral',\n",
       " 'christian',\n",
       " 'christmas',\n",
       " 'classical',\n",
       " 'classicmetal',\n",
       " 'club',\n",
       " 'colombian',\n",
       " 'comedy',\n",
       " 'conjazz',\n",
       " 'contemporary',\n",
       " 'country',\n",
       " 'cuban',\n",
       " 'dance',\n",
       " 'dancehall',\n",
       " 'dancepop',\n",
       " 'dark',\n",
       " 'death',\n",
       " 'deep',\n",
       " 'deutschrock',\n",
       " 'deutschspr',\n",
       " 'dirty',\n",
       " 'disco',\n",
       " 'dnb',\n",
       " 'documentary',\n",
       " 'downbeat',\n",
       " 'downtempo',\n",
       " 'drum',\n",
       " 'dub',\n",
       " 'dubstep',\n",
       " 'eastern',\n",
       " 'easy',\n",
       " 'electronic',\n",
       " 'electropop',\n",
       " 'emo',\n",
       " 'entehno',\n",
       " 'epicmetal',\n",
       " 'estrada',\n",
       " 'ethnic',\n",
       " 'eurofolk',\n",
       " 'european',\n",
       " 'experimental',\n",
       " 'extrememetal',\n",
       " 'fado',\n",
       " 'fairytail',\n",
       " 'film',\n",
       " 'fitness',\n",
       " 'flamenco',\n",
       " 'folk',\n",
       " 'folklore',\n",
       " 'folkmetal',\n",
       " 'folkrock',\n",
       " 'folktronica',\n",
       " 'forró',\n",
       " 'frankreich',\n",
       " 'französisch',\n",
       " 'french',\n",
       " 'funk',\n",
       " 'future',\n",
       " 'gangsta',\n",
       " 'garage',\n",
       " 'german',\n",
       " 'ghazal',\n",
       " 'gitarre',\n",
       " 'glitch',\n",
       " 'gospel',\n",
       " 'gothic',\n",
       " 'grime',\n",
       " 'grunge',\n",
       " 'gypsy',\n",
       " 'handsup',\n",
       " \"hard'n'heavy\",\n",
       " 'hardcore',\n",
       " 'hardstyle',\n",
       " 'hardtechno',\n",
       " 'hip',\n",
       " 'hip-hop',\n",
       " 'hiphop',\n",
       " 'historisch',\n",
       " 'holiday',\n",
       " 'hop',\n",
       " 'horror',\n",
       " 'house',\n",
       " 'hymn',\n",
       " 'idm',\n",
       " 'independent',\n",
       " 'indian',\n",
       " 'indie',\n",
       " 'indipop',\n",
       " 'industrial',\n",
       " 'inspirational',\n",
       " 'instrumental',\n",
       " 'international',\n",
       " 'irish',\n",
       " 'jam',\n",
       " 'japanese',\n",
       " 'jazz',\n",
       " 'jewish',\n",
       " 'jpop',\n",
       " 'jungle',\n",
       " 'k-pop',\n",
       " 'karadeniz',\n",
       " 'karaoke',\n",
       " 'kayokyoku',\n",
       " 'korean',\n",
       " 'laiko',\n",
       " 'latin',\n",
       " 'latino',\n",
       " 'leftfield',\n",
       " 'local',\n",
       " 'lounge',\n",
       " 'loungeelectronic',\n",
       " 'lovers',\n",
       " 'malaysian',\n",
       " 'mandopop',\n",
       " 'marschmusik',\n",
       " 'meditative',\n",
       " 'mediterranean',\n",
       " 'melodic',\n",
       " 'metal',\n",
       " 'metalcore',\n",
       " 'mexican',\n",
       " 'middle',\n",
       " 'minimal',\n",
       " 'miscellaneous',\n",
       " 'modern',\n",
       " 'mood',\n",
       " 'mpb',\n",
       " 'muslim',\n",
       " 'native',\n",
       " 'neoklassik',\n",
       " 'neue',\n",
       " 'new',\n",
       " 'newage',\n",
       " 'newwave',\n",
       " 'nu',\n",
       " 'nujazz',\n",
       " 'numetal',\n",
       " 'oceania',\n",
       " 'old',\n",
       " 'opera',\n",
       " 'orchestral',\n",
       " 'other',\n",
       " 'piano',\n",
       " 'podcasts',\n",
       " 'pop',\n",
       " 'popdance',\n",
       " 'popelectronic',\n",
       " 'popeurodance',\n",
       " 'poprussian',\n",
       " 'post',\n",
       " 'posthardcore',\n",
       " 'postrock',\n",
       " 'power',\n",
       " 'progmetal',\n",
       " 'progressive',\n",
       " 'psychedelic',\n",
       " 'punjabi',\n",
       " 'punk',\n",
       " 'quebecois',\n",
       " 'ragga',\n",
       " 'ram',\n",
       " 'rancheras',\n",
       " 'rap',\n",
       " 'rave',\n",
       " 'reggae',\n",
       " 'reggaeton',\n",
       " 'regional',\n",
       " 'relax',\n",
       " 'religious',\n",
       " 'retro',\n",
       " 'rhythm',\n",
       " 'rnb',\n",
       " 'rnr',\n",
       " 'rock',\n",
       " 'rockabilly',\n",
       " 'rockalternative',\n",
       " 'rockindie',\n",
       " 'rockother',\n",
       " 'romance',\n",
       " 'roots',\n",
       " 'ruspop',\n",
       " 'rusrap',\n",
       " 'rusrock',\n",
       " 'russian',\n",
       " 'salsa',\n",
       " 'samba',\n",
       " 'scenic',\n",
       " 'schlager',\n",
       " 'self',\n",
       " 'sertanejo',\n",
       " 'shanson',\n",
       " 'shoegazing',\n",
       " 'showtunes',\n",
       " 'singer',\n",
       " 'ska',\n",
       " 'skarock',\n",
       " 'slow',\n",
       " 'smooth',\n",
       " 'soft',\n",
       " 'soul',\n",
       " 'soulful',\n",
       " 'sound',\n",
       " 'soundtrack',\n",
       " 'southern',\n",
       " 'specialty',\n",
       " 'speech',\n",
       " 'spiritual',\n",
       " 'sport',\n",
       " 'stonerrock',\n",
       " 'surf',\n",
       " 'swing',\n",
       " 'synthpop',\n",
       " 'synthrock',\n",
       " 'sängerportrait',\n",
       " 'tango',\n",
       " 'tanzorchester',\n",
       " 'taraftar',\n",
       " 'tatar',\n",
       " 'tech',\n",
       " 'techno',\n",
       " 'teen',\n",
       " 'thrash',\n",
       " 'top',\n",
       " 'traditional',\n",
       " 'tradjazz',\n",
       " 'trance',\n",
       " 'tribal',\n",
       " 'trip',\n",
       " 'triphop',\n",
       " 'tropical',\n",
       " 'türk',\n",
       " 'türkçe',\n",
       " 'ukrrock',\n",
       " 'unknown',\n",
       " 'urban',\n",
       " 'uzbek',\n",
       " 'variété',\n",
       " 'vi',\n",
       " 'videogame',\n",
       " 'vocal',\n",
       " 'western',\n",
       " 'world',\n",
       " 'worldbeat',\n",
       " 'ïîï',\n",
       " 'электроника']"
      ]
     },
     "execution_count": 12,
     "metadata": {},
     "output_type": "execute_result"
    }
   ],
   "source": [
    "duplicates = ['hip', 'hop', 'hip-hop']\n",
    "name = 'hiphop'\n",
    "df['genre'] = df['genre'].replace(duplicates, name)\n",
    "genre_sort"
   ]
  },
  {
   "cell_type": "markdown",
   "metadata": {
    "deletable": false,
    "editable": false,
    "id": "jz6a9-7HQUDd"
   },
   "source": [
    "**Выводы**\n",
    "\n",
    "Предобработка обнаружила три проблемы в данных:\n",
    "\n",
    "- нарушения в стиле заголовков,\n",
    "- пропущенные значения,\n",
    "- дубликаты — явные и неявные.\n",
    "\n",
    "Вы исправили заголовки, чтобы упростить работу с таблицей. Без дубликатов исследование станет более точным.\n",
    "\n",
    "Пропущенные значения вы заменили на `'unknown'`. Ещё предстоит увидеть, не повредят ли исследованию пропуски в колонке `genre`.\n",
    "\n",
    "Теперь можно перейти к проверке гипотез."
   ]
  },
  {
   "cell_type": "markdown",
   "metadata": {
    "deletable": false,
    "editable": false,
    "id": "WttZHXH0SqKk"
   },
   "source": [
    "## Проверка гипотез"
   ]
  },
  {
   "cell_type": "markdown",
   "metadata": {
    "deletable": false,
    "editable": false,
    "id": "Im936VVi_Zcu"
   },
   "source": [
    "### Сравнение поведения пользователей двух столиц"
   ]
  },
  {
   "cell_type": "markdown",
   "metadata": {
    "deletable": false,
    "editable": false,
    "id": "nwt_MuaL_Zcu"
   },
   "source": [
    "Первая гипотеза утверждает, что пользователи по-разному слушают музыку в Москве и Санкт-Петербурге. Проверим это предположение по данным о трёх днях недели — понедельнике, среде и пятнице. \\\n",
    "Для этого:\n",
    "\n",
    "* Разделим пользователей Москвы и Санкт-Петербурга.\n",
    "* Сравним, сколько треков послушала каждая группа пользователей в понедельник, среду и пятницу.\n"
   ]
  },
  {
   "cell_type": "markdown",
   "metadata": {},
   "source": [
    "Подсчитаем прослушивания в каждом городе:"
   ]
  },
  {
   "cell_type": "code",
   "execution_count": 13,
   "metadata": {
    "ExecuteTime": {
     "end_time": "2024-12-11T08:58:07.986709Z",
     "start_time": "2024-12-11T08:58:07.980993Z"
    },
    "deletable": false,
    "id": "0_Qs96oh_Zcu",
    "scrolled": true
   },
   "outputs": [
    {
     "data": {
      "text/plain": [
       "city\n",
       "Moscow              42741\n",
       "Saint-Petersburg    18512\n",
       "Name: track, dtype: int64"
      ]
     },
     "execution_count": 13,
     "metadata": {},
     "output_type": "execute_result"
    }
   ],
   "source": [
    "city = df.groupby('city')['track'].count()\n",
    "city"
   ]
  },
  {
   "cell_type": "markdown",
   "metadata": {},
   "source": [
    "Посчитаем прослушивания в каждый из трёх дней:"
   ]
  },
  {
   "cell_type": "code",
   "execution_count": 14,
   "metadata": {
    "ExecuteTime": {
     "end_time": "2024-12-11T08:58:07.992100Z",
     "start_time": "2024-12-11T08:58:07.987405Z"
    },
    "deletable": false,
    "id": "uZMKjiJz_Zcu"
   },
   "outputs": [
    {
     "data": {
      "text/plain": [
       "day\n",
       "Friday       21840\n",
       "Monday       21354\n",
       "Wednesday    18059\n",
       "Name: city, dtype: int64"
      ]
     },
     "execution_count": 14,
     "metadata": {},
     "output_type": "execute_result"
    }
   ],
   "source": [
    "day = df.groupby('day')['city'].count()\n",
    "day "
   ]
  },
  {
   "cell_type": "markdown",
   "metadata": {},
   "source": [
    "Посчитаем количество прослушиваний в Санкт-Петербурге и Москве в понедельник, среду и пятницу:"
   ]
  },
  {
   "cell_type": "code",
   "execution_count": 15,
   "metadata": {
    "ExecuteTime": {
     "end_time": "2024-12-11T08:58:07.994509Z",
     "start_time": "2024-12-11T08:58:07.992758Z"
    },
    "deletable": false,
    "id": "Nz3GdQB1_Zcu"
   },
   "outputs": [],
   "source": [
    "#зададим общую функцию для расчета\n",
    "def number_tracks(day, city):\n",
    "    track_list = df[\n",
    "        df['day'] ==\n",
    "        day]  #берем только строки df со значением переменной day в столбце day\n",
    "    track_list = track_list[\n",
    "        track_list['city'] ==\n",
    "        city]  #берем только строки track_list со значением переменной city в столбце city\n",
    "    track_list_count = track_list['user_id'].count(\n",
    "    )  #вызываем метод подсчета строк для track_list и выберите столбец user_id\n",
    "\n",
    "    return track_list_count  #возвращаем значение track_list_count из функции"
   ]
  },
  {
   "cell_type": "code",
   "execution_count": 16,
   "metadata": {
    "ExecuteTime": {
     "end_time": "2024-12-11T08:58:08.031397Z",
     "start_time": "2024-12-11T08:58:07.995212Z"
    }
   },
   "outputs": [
    {
     "name": "stdout",
     "output_type": "stream",
     "text": [
      "Количество прослушиваний в Санкт-Петербурге по понедельникам: 5614\n",
      "Количество прослушиваний в Москве по понедельникам: 15740\n",
      "Количество прослушиваний в Санкт-Петербурге по средам: 7003\n",
      "Количество прослушиваний в Москве по средам: 11056\n",
      "Количество прослушиваний в Санкт-Петербурге по пятницам: 5895\n",
      "Количество прослушиваний в Москве по пятницам: 15945\n"
     ]
    }
   ],
   "source": [
    "print('Количество прослушиваний в Санкт-Петербурге по понедельникам:',\n",
    "      number_tracks('Monday', 'Saint-Petersburg'))\n",
    "print('Количество прослушиваний в Москве по понедельникам:',\n",
    "      number_tracks('Monday', 'Moscow'))\n",
    "print('Количество прослушиваний в Санкт-Петербурге по средам:',\n",
    "      number_tracks('Wednesday', 'Saint-Petersburg'))\n",
    "print('Количество прослушиваний в Москве по средам:',\n",
    "      number_tracks('Wednesday', 'Moscow'))\n",
    "print('Количество прослушиваний в Санкт-Петербурге по пятницам:',\n",
    "      number_tracks('Friday', 'Saint-Petersburg'))\n",
    "print('Количество прослушиваний в Москве по пятницам:',\n",
    "      number_tracks('Friday', 'Moscow'))"
   ]
  },
  {
   "cell_type": "markdown",
   "metadata": {},
   "source": [
    "Соберем данные в таблицу:"
   ]
  },
  {
   "cell_type": "code",
   "execution_count": 17,
   "metadata": {
    "ExecuteTime": {
     "end_time": "2024-12-11T08:58:08.036445Z",
     "start_time": "2024-12-11T08:58:08.032313Z"
    },
    "deletable": false,
    "id": "APAcLpOr_Zcu",
    "scrolled": true
   },
   "outputs": [
    {
     "data": {
      "text/html": [
       "<div>\n",
       "<style scoped>\n",
       "    .dataframe tbody tr th:only-of-type {\n",
       "        vertical-align: middle;\n",
       "    }\n",
       "\n",
       "    .dataframe tbody tr th {\n",
       "        vertical-align: top;\n",
       "    }\n",
       "\n",
       "    .dataframe thead tr th {\n",
       "        text-align: left;\n",
       "    }\n",
       "</style>\n",
       "<table border=\"1\" class=\"dataframe\">\n",
       "  <thead>\n",
       "    <tr>\n",
       "      <th></th>\n",
       "      <th>city</th>\n",
       "      <th>monday</th>\n",
       "      <th>wednesday</th>\n",
       "      <th>friday</th>\n",
       "    </tr>\n",
       "  </thead>\n",
       "  <tbody>\n",
       "    <tr>\n",
       "      <th>0</th>\n",
       "      <td>Москва</td>\n",
       "      <td>15740</td>\n",
       "      <td>11056</td>\n",
       "      <td>15945</td>\n",
       "    </tr>\n",
       "    <tr>\n",
       "      <th>1</th>\n",
       "      <td>Санкт-Петербург</td>\n",
       "      <td>5614</td>\n",
       "      <td>7003</td>\n",
       "      <td>5895</td>\n",
       "    </tr>\n",
       "  </tbody>\n",
       "</table>\n",
       "</div>"
      ],
      "text/plain": [
       "              city monday wednesday friday\n",
       "0           Москва  15740     11056  15945\n",
       "1  Санкт-Петербург   5614      7003   5895"
      ]
     },
     "execution_count": 17,
     "metadata": {},
     "output_type": "execute_result"
    }
   ],
   "source": [
    "number_tracks = [['Москва', 15740, 11056, 15945],\n",
    "                 ['Санкт-Петербург', 5614, 7003, 5895]]\n",
    "\n",
    "city = [['city', 'monday', 'wednesday', 'friday']]\n",
    "\n",
    "info = pd.DataFrame(data=number_tracks, columns=city)\n",
    "\n",
    "info"
   ]
  },
  {
   "cell_type": "markdown",
   "metadata": {
    "deletable": false,
    "editable": false,
    "id": "-EgPIHYu_Zcu"
   },
   "source": [
    "**Выводы**\n",
    "\n",
    "Данные показывают разницу поведения пользователей:\n",
    "\n",
    "- В Москве пик прослушиваний приходится на понедельник и пятницу, а в среду заметен спад.\n",
    "- В Петербурге, наоборот, больше слушают музыку по средам. Активность в понедельник и пятницу здесь почти в равной мере уступает среде.\n",
    "\n",
    "Гипотеза подтвердилась: пользователи по-разному слушают музыку в Москве и Санкт-Петербурге."
   ]
  },
  {
   "cell_type": "markdown",
   "metadata": {
    "deletable": false,
    "editable": false,
    "id": "atZAxtq4_Zcu"
   },
   "source": [
    "### Музыка в начале и в конце недели"
   ]
  },
  {
   "cell_type": "markdown",
   "metadata": {
    "deletable": false,
    "editable": false,
    "id": "eXrQqXFH_Zcu"
   },
   "source": [
    "Согласно второй гипотезе, утром в понедельник в Москве преобладают одни жанры, а в Петербурге — другие. Так же и вечером пятницы преобладают разные жанры — в зависимости от города."
   ]
  },
  {
   "cell_type": "markdown",
   "metadata": {},
   "source": [
    "Отдельно соберем логи по каждому городу:"
   ]
  },
  {
   "cell_type": "code",
   "execution_count": 18,
   "metadata": {
    "ExecuteTime": {
     "end_time": "2024-12-11T08:58:08.045782Z",
     "start_time": "2024-12-11T08:58:08.037072Z"
    },
    "deletable": false,
    "id": "qeaFfM_P_Zcu"
   },
   "outputs": [],
   "source": [
    "moscow_general = df[df['city'] == 'Moscow']  #Москва\n",
    "spb_general = df[df['city'] == 'Saint-Petersburg']  #Санкт-Петербург"
   ]
  },
  {
   "cell_type": "markdown",
   "metadata": {},
   "source": [
    "Зададим общую функцию для подсчета прослушиваний по городам и временным интервалам:"
   ]
  },
  {
   "cell_type": "code",
   "execution_count": 19,
   "metadata": {
    "ExecuteTime": {
     "end_time": "2024-12-11T08:58:08.048332Z",
     "start_time": "2024-12-11T08:58:08.046368Z"
    },
    "deletable": false,
    "id": "laJT9BYl_Zcu"
   },
   "outputs": [],
   "source": [
    "def genre_weekday(df, day, time1, time2):\n",
    "    genre_df = df[df['day'] == day]\n",
    "    # оставляем в genre_df только те строки genre_df, у которых время меньше time2\n",
    "    genre_df = genre_df[genre_df['time'] < time2]\n",
    "    # оставляем в genre_df только те строки genre_df, у которых время больше time1\n",
    "    genre_df = genre_df[genre_df['time'] > time1]\n",
    "    # сгруппируем отфильтрованный датафрейм по столбцу с названиями жанров, возьмём столбец genre и посчитаем кол-во строк для каждого жанра методом count()\n",
    "    genre_df_grouped = genre_df.groupby('genre')['genre'].count()\n",
    "    # отсортируем результат по убыванию (чтобы в начале Series оказались самые популярные жанры)\n",
    "    genre_df_sorted = genre_df_grouped.sort_values(ascending=False)\n",
    "    # вернём Series с 10 самыми популярными жанрами в указанный отрезок времени заданного дня\n",
    "    return genre_df_sorted[:10]"
   ]
  },
  {
   "cell_type": "code",
   "execution_count": 20,
   "metadata": {
    "ExecuteTime": {
     "end_time": "2024-12-11T08:58:08.056596Z",
     "start_time": "2024-12-11T08:58:08.049050Z"
    },
    "deletable": false,
    "id": "yz7itPUQ_Zcu",
    "scrolled": false
   },
   "outputs": [
    {
     "name": "stdout",
     "output_type": "stream",
     "text": [
      "Прослушивания в Москве утром понедельника: genre\n",
      "pop            781\n",
      "dance          549\n",
      "electronic     480\n",
      "rock           474\n",
      "hiphop         286\n",
      "ruspop         186\n",
      "world          181\n",
      "rusrap         175\n",
      "alternative    164\n",
      "unknown        161\n",
      "Name: genre, dtype: int64\n"
     ]
    }
   ],
   "source": [
    "print('Прослушивания в Москве утром понедельника:',\n",
    "      genre_weekday(moscow_general, 'Monday', '07:00', '11:00'))"
   ]
  },
  {
   "cell_type": "code",
   "execution_count": 21,
   "metadata": {
    "ExecuteTime": {
     "end_time": "2024-12-11T08:58:08.061542Z",
     "start_time": "2024-12-11T08:58:08.057250Z"
    },
    "deletable": false,
    "id": "kwUcHPdy_Zcu",
    "scrolled": true
   },
   "outputs": [
    {
     "name": "stdout",
     "output_type": "stream",
     "text": [
      "Прослушивания в Санкт-Петербурге утром понедельника: genre\n",
      "pop            218\n",
      "dance          182\n",
      "rock           162\n",
      "electronic     147\n",
      "hiphop          80\n",
      "ruspop          64\n",
      "alternative     58\n",
      "rusrap          55\n",
      "jazz            44\n",
      "classical       40\n",
      "Name: genre, dtype: int64\n"
     ]
    }
   ],
   "source": [
    "print('Прослушивания в Санкт-Петербурге утром понедельника:',\n",
    "      genre_weekday(spb_general, 'Monday', '07:00', '11:00'))"
   ]
  },
  {
   "cell_type": "code",
   "execution_count": 22,
   "metadata": {
    "ExecuteTime": {
     "end_time": "2024-12-11T08:58:08.071231Z",
     "start_time": "2024-12-11T08:58:08.062150Z"
    },
    "deletable": false,
    "id": "EzXVRE1o_Zcu",
    "scrolled": true
   },
   "outputs": [
    {
     "name": "stdout",
     "output_type": "stream",
     "text": [
      "Прослушивания в Москве вечером пятницы: genre\n",
      "pop            713\n",
      "rock           517\n",
      "dance          495\n",
      "electronic     482\n",
      "hiphop         273\n",
      "world          208\n",
      "ruspop         170\n",
      "alternative    163\n",
      "classical      163\n",
      "rusrap         142\n",
      "Name: genre, dtype: int64\n"
     ]
    }
   ],
   "source": [
    "print('Прослушивания в Москве вечером пятницы:',\n",
    "      genre_weekday(moscow_general, 'Friday', '17:00', '23:00'))"
   ]
  },
  {
   "cell_type": "code",
   "execution_count": 23,
   "metadata": {
    "ExecuteTime": {
     "end_time": "2024-12-11T08:58:08.076864Z",
     "start_time": "2024-12-11T08:58:08.072041Z"
    },
    "deletable": false,
    "id": "JZaEKu5v_Zcu",
    "scrolled": true
   },
   "outputs": [
    {
     "name": "stdout",
     "output_type": "stream",
     "text": [
      "Прослушивания в Санкт-Петербурге вечером пятницы: genre\n",
      "pop            256\n",
      "electronic     216\n",
      "rock           216\n",
      "dance          210\n",
      "hiphop          97\n",
      "alternative     63\n",
      "jazz            61\n",
      "classical       60\n",
      "rusrap          59\n",
      "world           54\n",
      "Name: genre, dtype: int64\n"
     ]
    }
   ],
   "source": [
    "print('Прослушивания в Санкт-Петербурге вечером пятницы:',\n",
    "      genre_weekday(spb_general, 'Friday', '17:00', '23:00'))"
   ]
  },
  {
   "cell_type": "markdown",
   "metadata": {
    "deletable": false,
    "editable": false,
    "id": "wrCe4MNX_Zcu"
   },
   "source": [
    "**Выводы**\n",
    "\n",
    "Если сравнить топ-10 жанров в понедельник утром, можно сделать такие выводы:\n",
    "\n",
    "1. В Москве и Петербурге слушают похожую музыку. Единственное различие — в московский рейтинг вошёл жанр “world”, а в петербургский — джаз и классика.\n",
    "\n",
    "2. В Москве пропущенных значений оказалось так много, что значение `'unknown'` заняло десятое место среди самых популярных жанров. Значит, пропущенные значения занимают существенную долю в данных и угрожают достоверности исследования.\n",
    "\n",
    "Вечер пятницы не меняет эту картину. Некоторые жанры поднимаются немного выше, другие спускаются, но в целом топ-10 остаётся тем же самым.\n",
    "\n",
    "**Таким образом, вторая гипотеза подтвердилась лишь частично:**\n",
    "* Пользователи слушают похожую музыку в начале недели и в конце.\n",
    "* Разница между Москвой и Петербургом не слишком выражена. В Москве чаще слушают русскую популярную музыку, в Петербурге — джаз.\n",
    "\n",
    "Однако пропуски в данных ставят под сомнение этот результат. В Москве их так много, что рейтинг топ-10 мог бы выглядеть иначе, если бы не утерянные  данные о жанрах."
   ]
  },
  {
   "cell_type": "markdown",
   "metadata": {
    "deletable": false,
    "editable": false,
    "id": "JolODAqr_Zcu"
   },
   "source": [
    "### Жанровые предпочтения в Москве и Петербурге\n",
    "\n",
    "Гипотеза: в Петербурге, чаще, чем в Москве, слушают рэп. В Москве же преобладает поп-музыка."
   ]
  },
  {
   "cell_type": "markdown",
   "metadata": {},
   "source": [
    "Сгруппируем данные для каждого города по жанрам:"
   ]
  },
  {
   "cell_type": "code",
   "execution_count": 24,
   "metadata": {
    "ExecuteTime": {
     "end_time": "2024-12-11T08:58:08.082331Z",
     "start_time": "2024-12-11T08:58:08.077443Z"
    },
    "deletable": false,
    "id": "r19lIPke_Zcu"
   },
   "outputs": [
    {
     "data": {
      "text/plain": [
       "genre\n",
       "pop            5892\n",
       "dance          4435\n",
       "rock           3965\n",
       "electronic     3786\n",
       "hiphop         2096\n",
       "classical      1616\n",
       "world          1432\n",
       "alternative    1379\n",
       "ruspop         1372\n",
       "rusrap         1161\n",
       "Name: genre, dtype: int64"
      ]
     },
     "execution_count": 24,
     "metadata": {},
     "output_type": "execute_result"
    }
   ],
   "source": [
    "#Москва\n",
    "moscow_genres = moscow_general.groupby('genre')['genre'].count()\n",
    "moscow_genres = moscow_genres.sort_values(ascending=False)\n",
    "moscow_genres.head(10)"
   ]
  },
  {
   "cell_type": "code",
   "execution_count": 25,
   "metadata": {
    "ExecuteTime": {
     "end_time": "2024-12-11T08:58:08.086538Z",
     "start_time": "2024-12-11T08:58:08.083035Z"
    },
    "deletable": false,
    "id": "gluLIpE7_Zcv"
   },
   "outputs": [
    {
     "data": {
      "text/plain": [
       "genre\n",
       "pop            2431\n",
       "dance          1932\n",
       "rock           1879\n",
       "electronic     1736\n",
       "hiphop          960\n",
       "alternative     649\n",
       "classical       646\n",
       "rusrap          564\n",
       "ruspop          538\n",
       "world           515\n",
       "Name: genre, dtype: int64"
      ]
     },
     "execution_count": 25,
     "metadata": {},
     "output_type": "execute_result"
    }
   ],
   "source": [
    "#Санкт-Петербург\n",
    "spb_genres = spb_general.groupby('genre')['genre'].count()\n",
    "spb_genres = spb_genres.sort_values(ascending=False)\n",
    "spb_genres.head(10)"
   ]
  },
  {
   "cell_type": "markdown",
   "metadata": {
    "deletable": false,
    "editable": false,
    "id": "RY51YJYu_Zcv"
   },
   "source": [
    "**Выводы**"
   ]
  },
  {
   "cell_type": "markdown",
   "metadata": {
    "deletable": false,
    "editable": false,
    "id": "nVhnJEm__Zcv"
   },
   "source": [
    "Гипотеза частично подтвердилась:\n",
    "* Поп-музыка — самый популярный жанр в Москве, как и предполагала гипотеза. Более того, в топ-10 жанров встречается близкий жанр — русская популярная музыка.\n",
    "* Вопреки ожиданиям, рэп одинаково популярен в Москве и Петербурге.\n"
   ]
  },
  {
   "cell_type": "markdown",
   "metadata": {
    "deletable": false,
    "editable": false,
    "id": "ykKQ0N65_Zcv"
   },
   "source": [
    "## Итоги исследования"
   ]
  },
  {
   "cell_type": "markdown",
   "metadata": {
    "deletable": false,
    "editable": false,
    "id": "tjUwbHb3_Zcv"
   },
   "source": [
    "Мы проверили три гипотезы и предварительно установили:\n",
    "\n",
    "1. День недели по-разному влияет на активность пользователей в Москве и Петербурге:\n",
    "- В Москве пик прослушиваний приходится на понедельник и пятницу, а в среду заметен спад.\n",
    "- В Петербурге, наоборот, больше слушают музыку по средам. Активность в понедельник и пятницу здесь почти в равной мере уступает среде.\n",
    "\n",
    "2. Музыкальные предпочтения не сильно меняются в течение недели — будь то Москва или Петербург. Небольшие различия заметны в начале недели, по понедельникам:\n",
    "- в Москве слушают музыку жанра “world”,\n",
    "- в Петербурге — джаз и классику.\n",
    "\n",
    "3. Во вкусах пользователей Москвы и Петербурга больше общего, чем различий. Вопреки ожиданиям, предпочтения жанров в Петербурге напоминают московские.\n",
    "- Поп-музыка — самый популярный жанр в Москве,\n",
    "- Вопреки ожиданиям, рэп одинаково популярен в Москве и Петербурге.\n",
    "\n",
    "Безусловно, для более уверенного подтверждения данных гипотез требуется использование статистических методов, но это не входило в задачу данного исследования."
   ]
  }
 ],
 "metadata": {
  "ExecuteTimeLog": [
   {
    "duration": 2,
    "start_time": "2024-06-12T06:28:12.015Z"
   },
   {
    "duration": 347,
    "start_time": "2024-06-12T06:28:52.647Z"
   },
   {
    "duration": 327,
    "start_time": "2024-06-12T06:29:05.026Z"
   },
   {
    "duration": 197,
    "start_time": "2024-06-12T06:30:36.030Z"
   },
   {
    "duration": 20,
    "start_time": "2024-06-12T06:32:05.199Z"
   },
   {
    "duration": 20,
    "start_time": "2024-06-12T06:47:07.647Z"
   },
   {
    "duration": 3,
    "start_time": "2024-06-12T06:55:11.199Z"
   },
   {
    "duration": 3,
    "start_time": "2024-06-12T06:56:27.443Z"
   },
   {
    "duration": 8,
    "start_time": "2024-06-12T07:01:19.813Z"
   },
   {
    "duration": 63,
    "start_time": "2024-06-12T07:02:13.480Z"
   },
   {
    "duration": 9,
    "start_time": "2024-06-12T07:02:39.565Z"
   },
   {
    "duration": 3,
    "start_time": "2024-06-12T07:03:05.288Z"
   },
   {
    "duration": 17,
    "start_time": "2024-06-12T07:04:24.542Z"
   },
   {
    "duration": 12,
    "start_time": "2024-06-12T07:07:34.494Z"
   },
   {
    "duration": 52,
    "start_time": "2024-06-12T07:08:35.005Z"
   },
   {
    "duration": 19,
    "start_time": "2024-06-12T07:08:44.126Z"
   },
   {
    "duration": 51,
    "start_time": "2024-06-12T07:10:21.372Z"
   },
   {
    "duration": 58,
    "start_time": "2024-06-12T07:11:48.667Z"
   },
   {
    "duration": 48,
    "start_time": "2024-06-12T07:12:13.022Z"
   },
   {
    "duration": 6,
    "start_time": "2024-06-12T07:19:50.979Z"
   },
   {
    "duration": 9,
    "start_time": "2024-06-12T07:21:22.222Z"
   },
   {
    "duration": 8,
    "start_time": "2024-06-12T07:21:25.900Z"
   },
   {
    "duration": 10,
    "start_time": "2024-06-12T07:22:51.455Z"
   },
   {
    "duration": 9,
    "start_time": "2024-06-12T07:23:55.385Z"
   },
   {
    "duration": 856,
    "start_time": "2024-06-12T07:27:23.149Z"
   },
   {
    "duration": 9,
    "start_time": "2024-06-12T07:28:11.136Z"
   },
   {
    "duration": 775,
    "start_time": "2024-06-12T07:29:25.385Z"
   },
   {
    "duration": 797,
    "start_time": "2024-06-12T07:29:43.008Z"
   },
   {
    "duration": 8,
    "start_time": "2024-06-12T07:29:53.061Z"
   },
   {
    "duration": 10,
    "start_time": "2024-06-12T07:30:26.371Z"
   },
   {
    "duration": 13,
    "start_time": "2024-06-12T07:31:55.775Z"
   },
   {
    "duration": 15,
    "start_time": "2024-06-12T07:32:40.958Z"
   },
   {
    "duration": 12,
    "start_time": "2024-06-12T07:33:08.706Z"
   },
   {
    "duration": 9,
    "start_time": "2024-06-12T07:36:39.679Z"
   },
   {
    "duration": 15,
    "start_time": "2024-06-12T07:37:20.200Z"
   },
   {
    "duration": 23,
    "start_time": "2024-06-12T07:41:00.175Z"
   },
   {
    "duration": 21,
    "start_time": "2024-06-12T07:41:28.311Z"
   },
   {
    "duration": 50,
    "start_time": "2024-06-12T07:42:09.318Z"
   },
   {
    "duration": 9,
    "start_time": "2024-06-12T07:42:19.825Z"
   },
   {
    "duration": 8,
    "start_time": "2024-06-12T07:43:40.146Z"
   },
   {
    "duration": 7,
    "start_time": "2024-06-12T07:43:57.398Z"
   },
   {
    "duration": 19,
    "start_time": "2024-06-12T07:44:38.233Z"
   },
   {
    "duration": 7,
    "start_time": "2024-06-12T07:44:52.046Z"
   },
   {
    "duration": 7,
    "start_time": "2024-06-12T07:45:43.032Z"
   },
   {
    "duration": 8,
    "start_time": "2024-06-12T07:45:57.086Z"
   },
   {
    "duration": 19,
    "start_time": "2024-06-12T07:46:40.250Z"
   },
   {
    "duration": 21,
    "start_time": "2024-06-12T07:47:38.770Z"
   },
   {
    "duration": 8,
    "start_time": "2024-06-12T07:48:22.788Z"
   },
   {
    "duration": 9,
    "start_time": "2024-06-12T07:49:00.495Z"
   },
   {
    "duration": 2,
    "start_time": "2024-06-12T08:01:52.953Z"
   },
   {
    "duration": 3,
    "start_time": "2024-06-12T08:02:41.518Z"
   },
   {
    "duration": 3,
    "start_time": "2024-06-12T08:03:24.436Z"
   },
   {
    "duration": 3,
    "start_time": "2024-06-12T08:09:38.346Z"
   },
   {
    "duration": 54,
    "start_time": "2024-06-12T08:16:40.893Z"
   },
   {
    "duration": 57,
    "start_time": "2024-06-12T08:16:50.304Z"
   },
   {
    "duration": 2,
    "start_time": "2024-06-12T08:17:09.826Z"
   },
   {
    "duration": 3,
    "start_time": "2024-06-12T08:17:14.373Z"
   },
   {
    "duration": 2,
    "start_time": "2024-06-12T08:17:36.391Z"
   },
   {
    "duration": 2,
    "start_time": "2024-06-12T08:18:54.284Z"
   },
   {
    "duration": 3,
    "start_time": "2024-06-12T08:19:33.569Z"
   },
   {
    "duration": 2,
    "start_time": "2024-06-12T08:19:58.891Z"
   },
   {
    "duration": 3,
    "start_time": "2024-06-12T08:28:29.774Z"
   },
   {
    "duration": 4,
    "start_time": "2024-06-12T08:30:00.628Z"
   },
   {
    "duration": 2,
    "start_time": "2024-06-12T08:30:23.816Z"
   },
   {
    "duration": 3,
    "start_time": "2024-06-12T08:40:46.154Z"
   },
   {
    "duration": 16,
    "start_time": "2024-06-12T08:42:19.272Z"
   },
   {
    "duration": 12,
    "start_time": "2024-06-12T08:43:31.703Z"
   },
   {
    "duration": 2,
    "start_time": "2024-06-12T08:49:26.521Z"
   },
   {
    "duration": 6,
    "start_time": "2024-06-12T08:49:54.238Z"
   },
   {
    "duration": 3,
    "start_time": "2024-06-12T08:50:08.143Z"
   },
   {
    "duration": 12,
    "start_time": "2024-06-12T08:50:38.513Z"
   },
   {
    "duration": 2,
    "start_time": "2024-06-12T08:51:26.828Z"
   },
   {
    "duration": 2,
    "start_time": "2024-06-12T08:51:27.000Z"
   },
   {
    "duration": 2,
    "start_time": "2024-06-12T08:51:27.148Z"
   },
   {
    "duration": 11,
    "start_time": "2024-06-12T08:52:04.892Z"
   },
   {
    "duration": 11,
    "start_time": "2024-06-12T08:52:47.614Z"
   },
   {
    "duration": 10,
    "start_time": "2024-06-12T08:53:10.479Z"
   },
   {
    "duration": 12,
    "start_time": "2024-06-12T08:53:40.316Z"
   },
   {
    "duration": 10,
    "start_time": "2024-06-12T08:54:03.736Z"
   },
   {
    "duration": 5,
    "start_time": "2024-06-12T08:58:16.090Z"
   },
   {
    "duration": 8,
    "start_time": "2024-06-12T08:59:58.612Z"
   },
   {
    "duration": 13,
    "start_time": "2024-06-12T09:01:52.651Z"
   },
   {
    "duration": 8,
    "start_time": "2024-06-12T09:07:03.015Z"
   },
   {
    "duration": 8,
    "start_time": "2024-06-12T09:10:10.011Z"
   },
   {
    "duration": 7,
    "start_time": "2024-06-12T09:10:34.743Z"
   },
   {
    "duration": 9,
    "start_time": "2024-06-12T09:11:02.147Z"
   },
   {
    "duration": 7,
    "start_time": "2024-06-12T09:11:03.369Z"
   },
   {
    "duration": 11,
    "start_time": "2024-06-12T09:11:31.648Z"
   },
   {
    "duration": 8,
    "start_time": "2024-06-12T09:11:42.292Z"
   },
   {
    "duration": 7,
    "start_time": "2024-06-12T09:12:51.230Z"
   },
   {
    "duration": 52,
    "start_time": "2024-06-12T09:21:07.610Z"
   },
   {
    "duration": 48,
    "start_time": "2024-06-12T09:22:39.839Z"
   },
   {
    "duration": 51,
    "start_time": "2024-06-12T09:24:42.187Z"
   },
   {
    "duration": 75,
    "start_time": "2024-06-12T09:25:53.102Z"
   },
   {
    "duration": 54,
    "start_time": "2024-06-12T09:27:00.853Z"
   },
   {
    "duration": 4,
    "start_time": "2024-06-12T09:28:00.012Z"
   },
   {
    "duration": 7,
    "start_time": "2024-06-12T09:31:33.284Z"
   },
   {
    "duration": 7,
    "start_time": "2024-06-12T09:31:57.844Z"
   },
   {
    "duration": 8,
    "start_time": "2024-06-12T09:32:02.059Z"
   },
   {
    "duration": 7,
    "start_time": "2024-06-12T09:32:34.662Z"
   },
   {
    "duration": 4,
    "start_time": "2024-06-12T09:32:44.853Z"
   },
   {
    "duration": 126,
    "start_time": "2024-06-12T09:35:07.482Z"
   },
   {
    "duration": 47,
    "start_time": "2024-06-12T09:36:20.087Z"
   },
   {
    "duration": 50,
    "start_time": "2024-06-12T09:36:44.435Z"
   },
   {
    "duration": 57,
    "start_time": "2024-06-12T09:37:12.068Z"
   },
   {
    "duration": 194,
    "start_time": "2024-06-12T09:37:22.531Z"
   },
   {
    "duration": 53,
    "start_time": "2024-06-12T09:40:08.100Z"
   },
   {
    "duration": 52,
    "start_time": "2024-06-12T09:41:33.183Z"
   },
   {
    "duration": 58,
    "start_time": "2024-06-12T09:42:13.147Z"
   },
   {
    "duration": 58,
    "start_time": "2024-06-12T09:43:05.916Z"
   },
   {
    "duration": 56,
    "start_time": "2024-06-12T09:43:21.430Z"
   },
   {
    "duration": 14,
    "start_time": "2024-06-12T09:45:10.927Z"
   },
   {
    "duration": 11,
    "start_time": "2024-06-12T09:45:52.503Z"
   },
   {
    "duration": 56,
    "start_time": "2024-06-12T09:46:26.631Z"
   },
   {
    "duration": 48,
    "start_time": "2024-06-12T09:46:43.702Z"
   },
   {
    "duration": 9,
    "start_time": "2024-06-12T09:46:49.427Z"
   },
   {
    "duration": 13,
    "start_time": "2024-06-12T09:47:12.718Z"
   },
   {
    "duration": 9,
    "start_time": "2024-06-12T09:47:33.964Z"
   },
   {
    "duration": 9,
    "start_time": "2024-06-12T11:41:54.664Z"
   },
   {
    "duration": 7,
    "start_time": "2024-06-12T11:42:31.454Z"
   },
   {
    "duration": 2,
    "start_time": "2024-06-12T11:43:52.955Z"
   },
   {
    "duration": 5,
    "start_time": "2024-06-12T11:43:57.130Z"
   },
   {
    "duration": 5,
    "start_time": "2024-06-12T11:44:11.226Z"
   },
   {
    "duration": 3,
    "start_time": "2024-06-12T11:45:53.326Z"
   },
   {
    "duration": 4,
    "start_time": "2024-06-12T11:47:31.206Z"
   },
   {
    "duration": 4,
    "start_time": "2024-06-12T11:48:02.895Z"
   },
   {
    "duration": 3,
    "start_time": "2024-06-12T11:50:30.472Z"
   },
   {
    "duration": 3,
    "start_time": "2024-06-12T11:50:40.747Z"
   },
   {
    "duration": 16,
    "start_time": "2024-06-12T11:50:52.790Z"
   },
   {
    "duration": 16,
    "start_time": "2024-06-12T11:51:02.617Z"
   },
   {
    "duration": 53,
    "start_time": "2024-06-12T11:51:11.237Z"
   },
   {
    "duration": 62,
    "start_time": "2024-06-12T11:51:19.872Z"
   },
   {
    "duration": 14,
    "start_time": "2024-06-12T11:51:25.657Z"
   },
   {
    "duration": 12,
    "start_time": "2024-06-12T11:51:37.540Z"
   },
   {
    "duration": 14,
    "start_time": "2024-06-12T11:51:51.543Z"
   },
   {
    "duration": 15,
    "start_time": "2024-06-12T11:52:20.268Z"
   },
   {
    "duration": 10,
    "start_time": "2024-06-12T11:52:31.378Z"
   },
   {
    "duration": 8,
    "start_time": "2024-06-12T11:52:36.818Z"
   },
   {
    "duration": 17,
    "start_time": "2024-06-12T11:52:46.756Z"
   },
   {
    "duration": 14,
    "start_time": "2024-06-12T11:52:54.074Z"
   },
   {
    "duration": 13,
    "start_time": "2024-06-12T11:53:16.668Z"
   },
   {
    "duration": 11,
    "start_time": "2024-06-12T11:53:27.590Z"
   },
   {
    "duration": 11,
    "start_time": "2024-06-12T11:53:38.644Z"
   },
   {
    "duration": 13,
    "start_time": "2024-06-12T11:53:48.424Z"
   },
   {
    "duration": 12,
    "start_time": "2024-06-12T11:53:54.748Z"
   },
   {
    "duration": 7,
    "start_time": "2024-06-12T11:54:22.451Z"
   },
   {
    "duration": 17,
    "start_time": "2024-06-12T11:54:53.336Z"
   },
   {
    "duration": 19,
    "start_time": "2024-06-12T11:55:02.623Z"
   },
   {
    "duration": 10,
    "start_time": "2024-06-12T11:55:13.127Z"
   },
   {
    "duration": 14,
    "start_time": "2024-06-12T11:55:19.878Z"
   },
   {
    "duration": 12,
    "start_time": "2024-06-12T11:55:25.758Z"
   },
   {
    "duration": 4,
    "start_time": "2024-06-12T11:55:38.295Z"
   },
   {
    "duration": 3,
    "start_time": "2024-06-12T11:55:52.742Z"
   }
  ],
  "celltoolbar": "Отсутствует",
  "colab": {
   "collapsed_sections": [
    "E0vqbgi9ay0H",
    "VUC88oWjTJw2"
   ],
   "provenance": []
  },
  "hide_input": false,
  "kernelspec": {
   "display_name": "Python 3 (ipykernel)",
   "language": "python",
   "name": "python3"
  },
  "language_info": {
   "codemirror_mode": {
    "name": "ipython",
    "version": 3
   },
   "file_extension": ".py",
   "mimetype": "text/x-python",
   "name": "python",
   "nbconvert_exporter": "python",
   "pygments_lexer": "ipython3",
   "version": "3.11.8"
  },
  "toc": {
   "base_numbering": 1,
   "nav_menu": {
    "height": "215px",
    "width": "403px"
   },
   "number_sections": true,
   "sideBar": true,
   "skip_h1_title": true,
   "title_cell": "Анализ поведения пользователей и проверка гипотез в стриминговом музыкальном приложении ",
   "title_sidebar": "Содержание",
   "toc_cell": true,
   "toc_position": {
    "height": "calc(100% - 180px)",
    "left": "10px",
    "top": "150px",
    "width": "285.816px"
   },
   "toc_section_display": true,
   "toc_window_display": true
  },
  "varInspector": {
   "cols": {
    "lenName": 16,
    "lenType": 16,
    "lenVar": 40
   },
   "kernels_config": {
    "python": {
     "delete_cmd_postfix": "",
     "delete_cmd_prefix": "del ",
     "library": "var_list.py",
     "varRefreshCmd": "print(var_dic_list())"
    },
    "r": {
     "delete_cmd_postfix": ") ",
     "delete_cmd_prefix": "rm(",
     "library": "var_list.r",
     "varRefreshCmd": "cat(var_dic_list()) "
    }
   },
   "types_to_exclude": [
    "module",
    "function",
    "builtin_function_or_method",
    "instance",
    "_Feature"
   ],
   "window_display": false
  },
  "widgets": {
   "application/vnd.jupyter.widget-state+json": {
    "state": {},
    "version_major": 2,
    "version_minor": 0
   }
  }
 },
 "nbformat": 4,
 "nbformat_minor": 1
}
