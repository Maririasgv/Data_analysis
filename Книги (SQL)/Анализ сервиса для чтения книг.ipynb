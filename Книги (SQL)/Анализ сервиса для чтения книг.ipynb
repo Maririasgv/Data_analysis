{
 "cells": [
  {
   "cell_type": "markdown",
   "id": "508e4711",
   "metadata": {
    "toc": true
   },
   "source": [
    "<h1>Анализ сервиса для чтения книг<span class=\"tocSkip\"></span></h1>\n",
    "<div class=\"toc\"><ul class=\"toc-item\"><li><span><a href=\"#Описание-проекта\" data-toc-modified-id=\"Описание-проекта-1\"><span class=\"toc-item-num\">1&nbsp;&nbsp;</span>Описание проекта</a></span></li><li><span><a href=\"#Загрузка-и-обзор-данных\" data-toc-modified-id=\"Загрузка-и-обзор-данных-2\"><span class=\"toc-item-num\">2&nbsp;&nbsp;</span>Загрузка и обзор данных</a></span></li><li><span><a href=\"#Исследование\" data-toc-modified-id=\"Исследование-3\"><span class=\"toc-item-num\">3&nbsp;&nbsp;</span>Исследование</a></span></li><li><span><a href=\"#Вывод-и-рекомендации\" data-toc-modified-id=\"Вывод-и-рекомендации-4\"><span class=\"toc-item-num\">4&nbsp;&nbsp;</span>Вывод и рекомендации</a></span><ul class=\"toc-item\"><li><span><a href=\"#В-ходе-исследования-было-обнаружено\" data-toc-modified-id=\"В-ходе-исследования-было-обнаружено-4.1\"><span class=\"toc-item-num\">4.1&nbsp;&nbsp;</span>В ходе исследования было обнаружено</a></span></li><li><span><a href=\"#Рекомендации\" data-toc-modified-id=\"Рекомендации-4.2\"><span class=\"toc-item-num\">4.2&nbsp;&nbsp;</span>Рекомендации</a></span></li></ul></li></ul></div>"
   ]
  },
  {
   "cell_type": "markdown",
   "id": "05b82e73",
   "metadata": {},
   "source": [
    "## Описание проекта"
   ]
  },
  {
   "cell_type": "markdown",
   "id": "451af433",
   "metadata": {},
   "source": [
    "**Область исследования**:\\\n",
    "База данных с информацией о книгах, издательствах, авторах, а также пользовательские обзоры книг. "
   ]
  },
  {
   "cell_type": "markdown",
   "id": "b3855c77",
   "metadata": {},
   "source": [
    "**Задача**:\\\n",
    "Проанализировать базу с целью формирования ценностного предложения для продукта, в основу которого она ляжет - приложение для тех, кто любит читать."
   ]
  },
  {
   "cell_type": "markdown",
   "id": "d8c64fa4",
   "metadata": {},
   "source": [
    "**Структура данных:**\n",
    "![Схема БД](https://pictures.s3.yandex.net/resources/scheme_1589269096.png)"
   ]
  },
  {
   "cell_type": "markdown",
   "id": "d7d889b7",
   "metadata": {},
   "source": [
    "**Таблица books**\\\n",
    "Содержит данные о книгах:\n",
    "- book_id — идентификатор книги;\n",
    "- author_id — идентификатор автора;\n",
    "- title — название книги;\n",
    "- num_pages — количество страниц;\n",
    "- publication_date — дата публикации книги;\n",
    "- publisher_id — идентификатор издателя.\n",
    "\n",
    "**Таблица authors**\\\n",
    "Содержит данные об авторах:\n",
    "- author_id — идентификатор автора;\n",
    "- author — имя автора.\n",
    "\n",
    "**Таблица publishers**\\\n",
    "Содержит данные об издательствах:\n",
    "- publisher_id — идентификатор издательства;\n",
    "- publisher — название издательства;\n",
    "\n",
    "\n",
    "**Таблица ratings**\\\n",
    "Содержит данные о пользовательских оценках книг:\n",
    "- rating_id — идентификатор оценки;\n",
    "- book_id — идентификатор книги;\n",
    "- username — имя пользователя, оставившего оценку;\n",
    "- rating — оценка книги.\n",
    "\n",
    "\n",
    "**Таблица reviews**\\\n",
    "Содержит данные о пользовательских обзорах:\n",
    "- review_id — идентификатор обзора;\n",
    "- book_id — идентификатор книги;\n",
    "- username — имя автора обзора;\n",
    "- text — текст обзора."
   ]
  },
  {
   "cell_type": "markdown",
   "id": "c1a6a5eb",
   "metadata": {},
   "source": [
    "## Загрузка и обзор данных"
   ]
  },
  {
   "cell_type": "code",
   "execution_count": 1,
   "id": "7f53cc32",
   "metadata": {
    "ExecuteTime": {
     "end_time": "2024-12-23T07:32:49.050804Z",
     "start_time": "2024-12-23T07:32:48.465527Z"
    }
   },
   "outputs": [],
   "source": [
    "import pandas as pd\n",
    "from sqlalchemy import text, create_engine"
   ]
  },
  {
   "cell_type": "markdown",
   "id": "86ada9fc",
   "metadata": {},
   "source": [
    "Подключимся к базе данных:"
   ]
  },
  {
   "cell_type": "code",
   "execution_count": 2,
   "id": "640a2468",
   "metadata": {
    "ExecuteTime": {
     "end_time": "2024-12-23T07:32:49.113924Z",
     "start_time": "2024-12-23T07:32:49.051769Z"
    }
   },
   "outputs": [],
   "source": [
    "#устанавливаем параметры\n",
    "db_config = {\n",
    "    'user': 'praktikum_student',  #имя пользователя\n",
    "    'pwd': 'Sdf4$2;d-d30pp',  #пароль\n",
    "    'host': 'rc1b-wcoijxj3yxfsf3fs.mdb.yandexcloud.net',\n",
    "    'port': 6432,  #порт подключения\n",
    "    'db': 'data-analyst-final-project-db'\n",
    "}  #название базы данных\n",
    "connection_string = 'postgresql://{user}:{pwd}@{host}:{port}/{db}'.format(\n",
    "    **db_config)\n",
    "\n",
    "#сохраняем коннектор\n",
    "engine = create_engine(connection_string, connect_args={'sslmode': 'require'})"
   ]
  },
  {
   "cell_type": "markdown",
   "id": "a362712d",
   "metadata": {},
   "source": [
    "Сделаем пробный запрос из таблицы 'books', чтобы проверить соединение:"
   ]
  },
  {
   "cell_type": "code",
   "execution_count": 3,
   "id": "dd73564f",
   "metadata": {
    "ExecuteTime": {
     "end_time": "2024-12-23T07:32:50.366871Z",
     "start_time": "2024-12-23T07:32:49.115282Z"
    },
    "scrolled": true
   },
   "outputs": [
    {
     "data": {
      "text/html": [
       "<div>\n",
       "<style scoped>\n",
       "    .dataframe tbody tr th:only-of-type {\n",
       "        vertical-align: middle;\n",
       "    }\n",
       "\n",
       "    .dataframe tbody tr th {\n",
       "        vertical-align: top;\n",
       "    }\n",
       "\n",
       "    .dataframe thead th {\n",
       "        text-align: right;\n",
       "    }\n",
       "</style>\n",
       "<table border=\"1\" class=\"dataframe\">\n",
       "  <thead>\n",
       "    <tr style=\"text-align: right;\">\n",
       "      <th></th>\n",
       "      <th>book_id</th>\n",
       "      <th>author_id</th>\n",
       "      <th>title</th>\n",
       "      <th>num_pages</th>\n",
       "      <th>publication_date</th>\n",
       "      <th>publisher_id</th>\n",
       "    </tr>\n",
       "  </thead>\n",
       "  <tbody>\n",
       "    <tr>\n",
       "      <th>0</th>\n",
       "      <td>1</td>\n",
       "      <td>546</td>\n",
       "      <td>'Salem's Lot</td>\n",
       "      <td>594</td>\n",
       "      <td>2005-11-01</td>\n",
       "      <td>93</td>\n",
       "    </tr>\n",
       "    <tr>\n",
       "      <th>1</th>\n",
       "      <td>2</td>\n",
       "      <td>465</td>\n",
       "      <td>1 000 Places to See Before You Die</td>\n",
       "      <td>992</td>\n",
       "      <td>2003-05-22</td>\n",
       "      <td>336</td>\n",
       "    </tr>\n",
       "    <tr>\n",
       "      <th>2</th>\n",
       "      <td>3</td>\n",
       "      <td>407</td>\n",
       "      <td>13 Little Blue Envelopes (Little Blue Envelope...</td>\n",
       "      <td>322</td>\n",
       "      <td>2010-12-21</td>\n",
       "      <td>135</td>\n",
       "    </tr>\n",
       "    <tr>\n",
       "      <th>3</th>\n",
       "      <td>4</td>\n",
       "      <td>82</td>\n",
       "      <td>1491: New Revelations of the Americas Before C...</td>\n",
       "      <td>541</td>\n",
       "      <td>2006-10-10</td>\n",
       "      <td>309</td>\n",
       "    </tr>\n",
       "    <tr>\n",
       "      <th>4</th>\n",
       "      <td>5</td>\n",
       "      <td>125</td>\n",
       "      <td>1776</td>\n",
       "      <td>386</td>\n",
       "      <td>2006-07-04</td>\n",
       "      <td>268</td>\n",
       "    </tr>\n",
       "  </tbody>\n",
       "</table>\n",
       "</div>"
      ],
      "text/plain": [
       "   book_id  author_id                                              title  \\\n",
       "0        1        546                                       'Salem's Lot   \n",
       "1        2        465                 1 000 Places to See Before You Die   \n",
       "2        3        407  13 Little Blue Envelopes (Little Blue Envelope...   \n",
       "3        4         82  1491: New Revelations of the Americas Before C...   \n",
       "4        5        125                                               1776   \n",
       "\n",
       "   num_pages publication_date  publisher_id  \n",
       "0        594       2005-11-01            93  \n",
       "1        992       2003-05-22           336  \n",
       "2        322       2010-12-21           135  \n",
       "3        541       2006-10-10           309  \n",
       "4        386       2006-07-04           268  "
      ]
     },
     "execution_count": 3,
     "metadata": {},
     "output_type": "execute_result"
    }
   ],
   "source": [
    "query = '''\n",
    "SELECT * \n",
    "FROM books \n",
    "LIMIT 5;\n",
    "'''\n",
    "con = engine.connect()\n",
    "pd.io.sql.read_sql(sql=text(query), con=con)"
   ]
  },
  {
   "cell_type": "markdown",
   "id": "8f7e928c",
   "metadata": {},
   "source": [
    "## Исследование"
   ]
  },
  {
   "cell_type": "markdown",
   "id": "a949d179",
   "metadata": {},
   "source": [
    "Поймем, сколько вообще книг  и отзывов на нах в нашей базе:"
   ]
  },
  {
   "cell_type": "code",
   "execution_count": 4,
   "id": "b880da60",
   "metadata": {
    "ExecuteTime": {
     "end_time": "2024-12-23T07:32:50.898222Z",
     "start_time": "2024-12-23T07:32:50.369059Z"
    }
   },
   "outputs": [
    {
     "data": {
      "text/html": [
       "<div>\n",
       "<style scoped>\n",
       "    .dataframe tbody tr th:only-of-type {\n",
       "        vertical-align: middle;\n",
       "    }\n",
       "\n",
       "    .dataframe tbody tr th {\n",
       "        vertical-align: top;\n",
       "    }\n",
       "\n",
       "    .dataframe thead th {\n",
       "        text-align: right;\n",
       "    }\n",
       "</style>\n",
       "<table border=\"1\" class=\"dataframe\">\n",
       "  <thead>\n",
       "    <tr style=\"text-align: right;\">\n",
       "      <th></th>\n",
       "      <th>count</th>\n",
       "    </tr>\n",
       "  </thead>\n",
       "  <tbody>\n",
       "    <tr>\n",
       "      <th>0</th>\n",
       "      <td>1000</td>\n",
       "    </tr>\n",
       "  </tbody>\n",
       "</table>\n",
       "</div>"
      ],
      "text/plain": [
       "   count\n",
       "0   1000"
      ]
     },
     "execution_count": 4,
     "metadata": {},
     "output_type": "execute_result"
    }
   ],
   "source": [
    "#книги\n",
    "query = '''\n",
    "SELECT COUNT (*)\n",
    "FROM books;\n",
    "'''\n",
    "con = engine.connect()\n",
    "pd.io.sql.read_sql(sql=text(query), con=con)"
   ]
  },
  {
   "cell_type": "code",
   "execution_count": 5,
   "id": "a7de5cb3",
   "metadata": {
    "ExecuteTime": {
     "end_time": "2024-12-23T07:32:51.407877Z",
     "start_time": "2024-12-23T07:32:50.902120Z"
    }
   },
   "outputs": [
    {
     "data": {
      "text/html": [
       "<div>\n",
       "<style scoped>\n",
       "    .dataframe tbody tr th:only-of-type {\n",
       "        vertical-align: middle;\n",
       "    }\n",
       "\n",
       "    .dataframe tbody tr th {\n",
       "        vertical-align: top;\n",
       "    }\n",
       "\n",
       "    .dataframe thead th {\n",
       "        text-align: right;\n",
       "    }\n",
       "</style>\n",
       "<table border=\"1\" class=\"dataframe\">\n",
       "  <thead>\n",
       "    <tr style=\"text-align: right;\">\n",
       "      <th></th>\n",
       "      <th>count</th>\n",
       "    </tr>\n",
       "  </thead>\n",
       "  <tbody>\n",
       "    <tr>\n",
       "      <th>0</th>\n",
       "      <td>2793</td>\n",
       "    </tr>\n",
       "  </tbody>\n",
       "</table>\n",
       "</div>"
      ],
      "text/plain": [
       "   count\n",
       "0   2793"
      ]
     },
     "execution_count": 5,
     "metadata": {},
     "output_type": "execute_result"
    }
   ],
   "source": [
    "#отзывы\n",
    "query = '''\n",
    "SELECT COUNT (*)\n",
    "FROM reviews;\n",
    "'''\n",
    "con = engine.connect()\n",
    "pd.io.sql.read_sql(sql=text(query), con=con)"
   ]
  },
  {
   "cell_type": "markdown",
   "id": "7b527168",
   "metadata": {},
   "source": [
    "Определим диапазон дат публикации книг:"
   ]
  },
  {
   "cell_type": "code",
   "execution_count": 6,
   "id": "1c72d3b6",
   "metadata": {
    "ExecuteTime": {
     "end_time": "2024-12-23T07:32:51.922466Z",
     "start_time": "2024-12-23T07:32:51.412519Z"
    }
   },
   "outputs": [
    {
     "data": {
      "text/html": [
       "<div>\n",
       "<style scoped>\n",
       "    .dataframe tbody tr th:only-of-type {\n",
       "        vertical-align: middle;\n",
       "    }\n",
       "\n",
       "    .dataframe tbody tr th {\n",
       "        vertical-align: top;\n",
       "    }\n",
       "\n",
       "    .dataframe thead th {\n",
       "        text-align: right;\n",
       "    }\n",
       "</style>\n",
       "<table border=\"1\" class=\"dataframe\">\n",
       "  <thead>\n",
       "    <tr style=\"text-align: right;\">\n",
       "      <th></th>\n",
       "      <th>earliest_year</th>\n",
       "      <th>latest_year</th>\n",
       "    </tr>\n",
       "  </thead>\n",
       "  <tbody>\n",
       "    <tr>\n",
       "      <th>0</th>\n",
       "      <td>1952.0</td>\n",
       "      <td>2020.0</td>\n",
       "    </tr>\n",
       "  </tbody>\n",
       "</table>\n",
       "</div>"
      ],
      "text/plain": [
       "   earliest_year  latest_year\n",
       "0         1952.0       2020.0"
      ]
     },
     "execution_count": 6,
     "metadata": {},
     "output_type": "execute_result"
    }
   ],
   "source": [
    "query = '''\n",
    "SELECT \n",
    "MIN(EXTRACT(YEAR FROM publication_date)) AS earliest_year,\n",
    "MAX(EXTRACT(YEAR FROM publication_date)) AS latest_year\n",
    "FROM books;\n",
    "'''\n",
    "con = engine.connect()\n",
    "pd.io.sql.read_sql(sql=text(query), con=con)"
   ]
  },
  {
   "cell_type": "markdown",
   "id": "c520e41f",
   "metadata": {},
   "source": [
    "Сколько книг вышло после 1 января 2000 года:"
   ]
  },
  {
   "cell_type": "code",
   "execution_count": 7,
   "id": "1e225dd1",
   "metadata": {
    "ExecuteTime": {
     "end_time": "2024-12-23T07:32:52.436281Z",
     "start_time": "2024-12-23T07:32:51.925197Z"
    }
   },
   "outputs": [
    {
     "data": {
      "text/html": [
       "<div>\n",
       "<style scoped>\n",
       "    .dataframe tbody tr th:only-of-type {\n",
       "        vertical-align: middle;\n",
       "    }\n",
       "\n",
       "    .dataframe tbody tr th {\n",
       "        vertical-align: top;\n",
       "    }\n",
       "\n",
       "    .dataframe thead th {\n",
       "        text-align: right;\n",
       "    }\n",
       "</style>\n",
       "<table border=\"1\" class=\"dataframe\">\n",
       "  <thead>\n",
       "    <tr style=\"text-align: right;\">\n",
       "      <th></th>\n",
       "      <th>books_after_2000</th>\n",
       "    </tr>\n",
       "  </thead>\n",
       "  <tbody>\n",
       "    <tr>\n",
       "      <th>0</th>\n",
       "      <td>819</td>\n",
       "    </tr>\n",
       "  </tbody>\n",
       "</table>\n",
       "</div>"
      ],
      "text/plain": [
       "   books_after_2000\n",
       "0               819"
      ]
     },
     "execution_count": 7,
     "metadata": {},
     "output_type": "execute_result"
    }
   ],
   "source": [
    "query = '''\n",
    "SELECT \n",
    "COUNT(*) AS books_after_2000\n",
    "FROM books\n",
    "WHERE publication_date > '2000-01-01';\n",
    "'''\n",
    "con = engine.connect()\n",
    "pd.io.sql.read_sql(sql=text(query), con=con)"
   ]
  },
  {
   "cell_type": "markdown",
   "id": "2488bc6b",
   "metadata": {},
   "source": [
    "Не смотря на разбег изданий с 1952 по 2020 год, почти 80% книг из базы вышли в последние 20 лет."
   ]
  },
  {
   "cell_type": "markdown",
   "id": "47ed9d36",
   "metadata": {},
   "source": [
    "Определим для каждой книги количество обзоров и среднюю оценку:"
   ]
  },
  {
   "cell_type": "code",
   "execution_count": 8,
   "id": "33c224ae",
   "metadata": {
    "ExecuteTime": {
     "end_time": "2024-12-23T07:32:53.257464Z",
     "start_time": "2024-12-23T07:32:52.440606Z"
    },
    "scrolled": false
   },
   "outputs": [
    {
     "data": {
      "text/html": [
       "<div>\n",
       "<style scoped>\n",
       "    .dataframe tbody tr th:only-of-type {\n",
       "        vertical-align: middle;\n",
       "    }\n",
       "\n",
       "    .dataframe tbody tr th {\n",
       "        vertical-align: top;\n",
       "    }\n",
       "\n",
       "    .dataframe thead th {\n",
       "        text-align: right;\n",
       "    }\n",
       "</style>\n",
       "<table border=\"1\" class=\"dataframe\">\n",
       "  <thead>\n",
       "    <tr style=\"text-align: right;\">\n",
       "      <th></th>\n",
       "      <th>book_id</th>\n",
       "      <th>title</th>\n",
       "      <th>review_count</th>\n",
       "      <th>avg_rating</th>\n",
       "    </tr>\n",
       "  </thead>\n",
       "  <tbody>\n",
       "    <tr>\n",
       "      <th>0</th>\n",
       "      <td>948</td>\n",
       "      <td>Twilight (Twilight  #1)</td>\n",
       "      <td>7</td>\n",
       "      <td>3.662500</td>\n",
       "    </tr>\n",
       "    <tr>\n",
       "      <th>1</th>\n",
       "      <td>963</td>\n",
       "      <td>Water for Elephants</td>\n",
       "      <td>6</td>\n",
       "      <td>3.977273</td>\n",
       "    </tr>\n",
       "    <tr>\n",
       "      <th>2</th>\n",
       "      <td>734</td>\n",
       "      <td>The Glass Castle</td>\n",
       "      <td>6</td>\n",
       "      <td>4.206897</td>\n",
       "    </tr>\n",
       "    <tr>\n",
       "      <th>3</th>\n",
       "      <td>302</td>\n",
       "      <td>Harry Potter and the Prisoner of Azkaban (Harr...</td>\n",
       "      <td>6</td>\n",
       "      <td>4.414634</td>\n",
       "    </tr>\n",
       "    <tr>\n",
       "      <th>4</th>\n",
       "      <td>695</td>\n",
       "      <td>The Curious Incident of the Dog in the Night-Time</td>\n",
       "      <td>6</td>\n",
       "      <td>4.081081</td>\n",
       "    </tr>\n",
       "    <tr>\n",
       "      <th>...</th>\n",
       "      <td>...</td>\n",
       "      <td>...</td>\n",
       "      <td>...</td>\n",
       "      <td>...</td>\n",
       "    </tr>\n",
       "    <tr>\n",
       "      <th>995</th>\n",
       "      <td>83</td>\n",
       "      <td>Anne Rice's The Vampire Lestat: A Graphic Novel</td>\n",
       "      <td>0</td>\n",
       "      <td>3.666667</td>\n",
       "    </tr>\n",
       "    <tr>\n",
       "      <th>996</th>\n",
       "      <td>808</td>\n",
       "      <td>The Natural Way to Draw</td>\n",
       "      <td>0</td>\n",
       "      <td>3.000000</td>\n",
       "    </tr>\n",
       "    <tr>\n",
       "      <th>997</th>\n",
       "      <td>672</td>\n",
       "      <td>The Cat in the Hat and Other Dr. Seuss Favorites</td>\n",
       "      <td>0</td>\n",
       "      <td>5.000000</td>\n",
       "    </tr>\n",
       "    <tr>\n",
       "      <th>998</th>\n",
       "      <td>221</td>\n",
       "      <td>Essential Tales and Poems</td>\n",
       "      <td>0</td>\n",
       "      <td>4.000000</td>\n",
       "    </tr>\n",
       "    <tr>\n",
       "      <th>999</th>\n",
       "      <td>191</td>\n",
       "      <td>Disney's Beauty and the Beast (A Little Golden...</td>\n",
       "      <td>0</td>\n",
       "      <td>4.000000</td>\n",
       "    </tr>\n",
       "  </tbody>\n",
       "</table>\n",
       "<p>1000 rows × 4 columns</p>\n",
       "</div>"
      ],
      "text/plain": [
       "     book_id                                              title  review_count  \\\n",
       "0        948                            Twilight (Twilight  #1)             7   \n",
       "1        963                                Water for Elephants             6   \n",
       "2        734                                   The Glass Castle             6   \n",
       "3        302  Harry Potter and the Prisoner of Azkaban (Harr...             6   \n",
       "4        695  The Curious Incident of the Dog in the Night-Time             6   \n",
       "..       ...                                                ...           ...   \n",
       "995       83    Anne Rice's The Vampire Lestat: A Graphic Novel             0   \n",
       "996      808                            The Natural Way to Draw             0   \n",
       "997      672   The Cat in the Hat and Other Dr. Seuss Favorites             0   \n",
       "998      221                          Essential Tales and Poems             0   \n",
       "999      191  Disney's Beauty and the Beast (A Little Golden...             0   \n",
       "\n",
       "     avg_rating  \n",
       "0      3.662500  \n",
       "1      3.977273  \n",
       "2      4.206897  \n",
       "3      4.414634  \n",
       "4      4.081081  \n",
       "..          ...  \n",
       "995    3.666667  \n",
       "996    3.000000  \n",
       "997    5.000000  \n",
       "998    4.000000  \n",
       "999    4.000000  \n",
       "\n",
       "[1000 rows x 4 columns]"
      ]
     },
     "execution_count": 8,
     "metadata": {},
     "output_type": "execute_result"
    }
   ],
   "source": [
    "query = '''\n",
    "SELECT \n",
    "    b.book_id,\n",
    "    b.title,\n",
    "    COUNT(DISTINCT r.review_id) AS review_count,\n",
    "    AVG(rt.rating) AS avg_rating\n",
    "FROM \n",
    "    books AS b\n",
    "LEFT JOIN \n",
    "    reviews AS r ON b.book_id = r.book_id\n",
    "LEFT JOIN \n",
    "    ratings AS rt ON b.book_id = rt.book_id\n",
    "GROUP BY \n",
    "    b.book_id, b.title\n",
    "ORDER BY \n",
    "    review_count DESC;\n",
    "'''\n",
    "con = engine.connect()\n",
    "pd.io.sql.read_sql(sql=text(query), con=con)"
   ]
  },
  {
   "cell_type": "markdown",
   "id": "e72ddc42",
   "metadata": {},
   "source": [
    "Ожидаемо, в ТОПе по обзорам оказались бестселлеры последних лет."
   ]
  },
  {
   "cell_type": "markdown",
   "id": "7e6021aa",
   "metadata": {},
   "source": [
    "Определим издательство, которое выпустило наибольшее число книг толще 50 страниц (исключаем из анализа брошюры):"
   ]
  },
  {
   "cell_type": "code",
   "execution_count": 9,
   "id": "3c614ec0",
   "metadata": {
    "ExecuteTime": {
     "end_time": "2024-12-23T07:32:53.410469Z",
     "start_time": "2024-12-23T07:32:53.259900Z"
    }
   },
   "outputs": [
    {
     "data": {
      "text/html": [
       "<div>\n",
       "<style scoped>\n",
       "    .dataframe tbody tr th:only-of-type {\n",
       "        vertical-align: middle;\n",
       "    }\n",
       "\n",
       "    .dataframe tbody tr th {\n",
       "        vertical-align: top;\n",
       "    }\n",
       "\n",
       "    .dataframe thead th {\n",
       "        text-align: right;\n",
       "    }\n",
       "</style>\n",
       "<table border=\"1\" class=\"dataframe\">\n",
       "  <thead>\n",
       "    <tr style=\"text-align: right;\">\n",
       "      <th></th>\n",
       "      <th>publisher_id</th>\n",
       "      <th>publisher</th>\n",
       "      <th>book_count</th>\n",
       "    </tr>\n",
       "  </thead>\n",
       "  <tbody>\n",
       "    <tr>\n",
       "      <th>0</th>\n",
       "      <td>212</td>\n",
       "      <td>Penguin Books</td>\n",
       "      <td>42</td>\n",
       "    </tr>\n",
       "  </tbody>\n",
       "</table>\n",
       "</div>"
      ],
      "text/plain": [
       "   publisher_id      publisher  book_count\n",
       "0           212  Penguin Books          42"
      ]
     },
     "execution_count": 9,
     "metadata": {},
     "output_type": "execute_result"
    }
   ],
   "source": [
    "query = '''\n",
    "SELECT \n",
    "    p.publisher_id,\n",
    "    p.publisher,\n",
    "    COUNT(b.book_id) AS book_count\n",
    "FROM \n",
    "    books AS b\n",
    "JOIN \n",
    "    publishers AS p ON b.publisher_id = p.publisher_id\n",
    "WHERE \n",
    "    b.num_pages > 50\n",
    "GROUP BY \n",
    "    p.publisher_id, p.publisher\n",
    "ORDER BY \n",
    "    book_count DESC\n",
    "LIMIT 1;\n",
    "'''\n",
    "con = engine.connect()\n",
    "pd.io.sql.read_sql(sql=text(query), con=con)"
   ]
  },
  {
   "cell_type": "markdown",
   "id": "f3737b07",
   "metadata": {},
   "source": [
    "Т.к. информации о продажах у нас нет, можем только косвенно определять критерий популярности.\\\n",
    "Оценим, какой процент всех отзывов было оставлено на это издательство:"
   ]
  },
  {
   "cell_type": "code",
   "execution_count": 10,
   "id": "29bc9ea6",
   "metadata": {
    "ExecuteTime": {
     "end_time": "2024-12-23T07:32:53.562562Z",
     "start_time": "2024-12-23T07:32:53.413051Z"
    }
   },
   "outputs": [
    {
     "data": {
      "text/html": [
       "<div>\n",
       "<style scoped>\n",
       "    .dataframe tbody tr th:only-of-type {\n",
       "        vertical-align: middle;\n",
       "    }\n",
       "\n",
       "    .dataframe tbody tr th {\n",
       "        vertical-align: top;\n",
       "    }\n",
       "\n",
       "    .dataframe thead th {\n",
       "        text-align: right;\n",
       "    }\n",
       "</style>\n",
       "<table border=\"1\" class=\"dataframe\">\n",
       "  <thead>\n",
       "    <tr style=\"text-align: right;\">\n",
       "      <th></th>\n",
       "      <th>percentage_reviews</th>\n",
       "    </tr>\n",
       "  </thead>\n",
       "  <tbody>\n",
       "    <tr>\n",
       "      <th>0</th>\n",
       "      <td>4.61869</td>\n",
       "    </tr>\n",
       "  </tbody>\n",
       "</table>\n",
       "</div>"
      ],
      "text/plain": [
       "   percentage_reviews\n",
       "0             4.61869"
      ]
     },
     "execution_count": 10,
     "metadata": {},
     "output_type": "execute_result"
    }
   ],
   "source": [
    "query = '''\n",
    "WITH penguin_reviews AS (\n",
    "    SELECT \n",
    "        r.review_id\n",
    "    FROM \n",
    "        reviews AS r\n",
    "    JOIN \n",
    "        books AS b ON r.book_id = b.book_id\n",
    "    JOIN \n",
    "        publishers AS p ON b.publisher_id = p.publisher_id\n",
    "    WHERE \n",
    "        p.publisher = 'Penguin Books'\n",
    "),\n",
    "total_reviews AS (\n",
    "    SELECT \n",
    "        COUNT(*) AS total_review_count\n",
    "    FROM \n",
    "        reviews\n",
    ")\n",
    "SELECT \n",
    "    (COUNT(pr.review_id)::FLOAT / (SELECT total_review_count FROM total_reviews)) * 100 AS percentage_reviews\n",
    "FROM \n",
    "    penguin_reviews AS pr;\n",
    "'''\n",
    "con = engine.connect()\n",
    "pd.io.sql.read_sql(sql=text(query), con=con)"
   ]
  },
  {
   "cell_type": "markdown",
   "id": "1eb58df9",
   "metadata": {},
   "source": [
    "Сравним с другими издательствами, чтобы понять, насколько объем книг коррелирует с числом отзывов:"
   ]
  },
  {
   "cell_type": "code",
   "execution_count": 11,
   "id": "f75d529d",
   "metadata": {
    "ExecuteTime": {
     "end_time": "2024-12-23T07:32:53.797119Z",
     "start_time": "2024-12-23T07:32:53.570769Z"
    },
    "scrolled": true
   },
   "outputs": [
    {
     "data": {
      "text/html": [
       "<div>\n",
       "<style scoped>\n",
       "    .dataframe tbody tr th:only-of-type {\n",
       "        vertical-align: middle;\n",
       "    }\n",
       "\n",
       "    .dataframe tbody tr th {\n",
       "        vertical-align: top;\n",
       "    }\n",
       "\n",
       "    .dataframe thead th {\n",
       "        text-align: right;\n",
       "    }\n",
       "</style>\n",
       "<table border=\"1\" class=\"dataframe\">\n",
       "  <thead>\n",
       "    <tr style=\"text-align: right;\">\n",
       "      <th></th>\n",
       "      <th>publisher_name</th>\n",
       "      <th>percentage_reviews</th>\n",
       "      <th>unique_books_count</th>\n",
       "    </tr>\n",
       "  </thead>\n",
       "  <tbody>\n",
       "    <tr>\n",
       "      <th>0</th>\n",
       "      <td>Penguin Books</td>\n",
       "      <td>4.618690</td>\n",
       "      <td>42</td>\n",
       "    </tr>\n",
       "    <tr>\n",
       "      <th>1</th>\n",
       "      <td>Vintage</td>\n",
       "      <td>3.293949</td>\n",
       "      <td>31</td>\n",
       "    </tr>\n",
       "    <tr>\n",
       "      <th>2</th>\n",
       "      <td>Grand Central Publishing</td>\n",
       "      <td>2.398854</td>\n",
       "      <td>25</td>\n",
       "    </tr>\n",
       "    <tr>\n",
       "      <th>3</th>\n",
       "      <td>Penguin Classics</td>\n",
       "      <td>2.291443</td>\n",
       "      <td>24</td>\n",
       "    </tr>\n",
       "    <tr>\n",
       "      <th>4</th>\n",
       "      <td>Bantam</td>\n",
       "      <td>2.076620</td>\n",
       "      <td>19</td>\n",
       "    </tr>\n",
       "    <tr>\n",
       "      <th>5</th>\n",
       "      <td>St. Martin's Press</td>\n",
       "      <td>1.646975</td>\n",
       "      <td>14</td>\n",
       "    </tr>\n",
       "    <tr>\n",
       "      <th>6</th>\n",
       "      <td>Ballantine Books</td>\n",
       "      <td>1.611171</td>\n",
       "      <td>18</td>\n",
       "    </tr>\n",
       "    <tr>\n",
       "      <th>7</th>\n",
       "      <td>Harper Perennial</td>\n",
       "      <td>1.467956</td>\n",
       "      <td>12</td>\n",
       "    </tr>\n",
       "    <tr>\n",
       "      <th>8</th>\n",
       "      <td>Delta</td>\n",
       "      <td>1.396348</td>\n",
       "      <td>13</td>\n",
       "    </tr>\n",
       "    <tr>\n",
       "      <th>9</th>\n",
       "      <td>Back Bay Books</td>\n",
       "      <td>1.324740</td>\n",
       "      <td>11</td>\n",
       "    </tr>\n",
       "  </tbody>\n",
       "</table>\n",
       "</div>"
      ],
      "text/plain": [
       "             publisher_name  percentage_reviews  unique_books_count\n",
       "0             Penguin Books            4.618690                  42\n",
       "1                   Vintage            3.293949                  31\n",
       "2  Grand Central Publishing            2.398854                  25\n",
       "3          Penguin Classics            2.291443                  24\n",
       "4                    Bantam            2.076620                  19\n",
       "5        St. Martin's Press            1.646975                  14\n",
       "6          Ballantine Books            1.611171                  18\n",
       "7          Harper Perennial            1.467956                  12\n",
       "8                     Delta            1.396348                  13\n",
       "9            Back Bay Books            1.324740                  11"
      ]
     },
     "execution_count": 11,
     "metadata": {},
     "output_type": "execute_result"
    }
   ],
   "source": [
    "query = '''\n",
    "WITH total_reviews AS (\n",
    "    SELECT \n",
    "        COUNT(*) AS total_review_count\n",
    "    FROM \n",
    "        reviews\n",
    ")\n",
    "SELECT \n",
    "    p.publisher AS publisher_name,\n",
    "    (COUNT(r.review_id)::FLOAT / (SELECT total_review_count FROM total_reviews)) * 100 AS percentage_reviews,\n",
    "    COUNT(DISTINCT b.book_id) AS unique_books_count\n",
    "FROM \n",
    "    reviews AS r\n",
    "JOIN \n",
    "    books AS b ON r.book_id = b.book_id\n",
    "JOIN \n",
    "    publishers AS p ON b.publisher_id = p.publisher_id\n",
    "GROUP BY \n",
    "    p.publisher\n",
    "ORDER BY \n",
    "    percentage_reviews DESC\n",
    "LIMIT 10;\n",
    "'''\n",
    "con = engine.connect()\n",
    "pd.io.sql.read_sql(sql=text(query), con=con)"
   ]
  },
  {
   "cell_type": "markdown",
   "id": "12f59674",
   "metadata": {},
   "source": [
    "Корреляция есть, но не такая прямая. Видим, что есть издательства с большим числом отзывов, но с меньшим количеством книг."
   ]
  },
  {
   "cell_type": "markdown",
   "id": "0aaca04b",
   "metadata": {},
   "source": [
    "Определим авторов с самой высокой средней оценкой книг (учитываем только книги с 50 и более оценками):"
   ]
  },
  {
   "cell_type": "code",
   "execution_count": 12,
   "id": "b177af8e",
   "metadata": {
    "ExecuteTime": {
     "end_time": "2024-12-23T07:32:54.322777Z",
     "start_time": "2024-12-23T07:32:53.800932Z"
    }
   },
   "outputs": [
    {
     "data": {
      "text/html": [
       "<div>\n",
       "<style scoped>\n",
       "    .dataframe tbody tr th:only-of-type {\n",
       "        vertical-align: middle;\n",
       "    }\n",
       "\n",
       "    .dataframe tbody tr th {\n",
       "        vertical-align: top;\n",
       "    }\n",
       "\n",
       "    .dataframe thead th {\n",
       "        text-align: right;\n",
       "    }\n",
       "</style>\n",
       "<table border=\"1\" class=\"dataframe\">\n",
       "  <thead>\n",
       "    <tr style=\"text-align: right;\">\n",
       "      <th></th>\n",
       "      <th>author</th>\n",
       "      <th>avg_rating</th>\n",
       "    </tr>\n",
       "  </thead>\n",
       "  <tbody>\n",
       "    <tr>\n",
       "      <th>0</th>\n",
       "      <td>J.K. Rowling/Mary GrandPré</td>\n",
       "      <td>4.283844</td>\n",
       "    </tr>\n",
       "    <tr>\n",
       "      <th>1</th>\n",
       "      <td>Markus Zusak/Cao Xuân Việt Khương</td>\n",
       "      <td>4.264151</td>\n",
       "    </tr>\n",
       "    <tr>\n",
       "      <th>2</th>\n",
       "      <td>J.R.R. Tolkien</td>\n",
       "      <td>4.258446</td>\n",
       "    </tr>\n",
       "    <tr>\n",
       "      <th>3</th>\n",
       "      <td>Louisa May Alcott</td>\n",
       "      <td>4.192308</td>\n",
       "    </tr>\n",
       "    <tr>\n",
       "      <th>4</th>\n",
       "      <td>Rick Riordan</td>\n",
       "      <td>4.080645</td>\n",
       "    </tr>\n",
       "    <tr>\n",
       "      <th>5</th>\n",
       "      <td>William Golding</td>\n",
       "      <td>3.901408</td>\n",
       "    </tr>\n",
       "    <tr>\n",
       "      <th>6</th>\n",
       "      <td>J.D. Salinger</td>\n",
       "      <td>3.825581</td>\n",
       "    </tr>\n",
       "    <tr>\n",
       "      <th>7</th>\n",
       "      <td>Paulo Coelho/Alan R. Clarke/Özdemir İnce</td>\n",
       "      <td>3.789474</td>\n",
       "    </tr>\n",
       "    <tr>\n",
       "      <th>8</th>\n",
       "      <td>William Shakespeare/Paul Werstine/Barbara A. M...</td>\n",
       "      <td>3.787879</td>\n",
       "    </tr>\n",
       "    <tr>\n",
       "      <th>9</th>\n",
       "      <td>Dan Brown</td>\n",
       "      <td>3.754540</td>\n",
       "    </tr>\n",
       "    <tr>\n",
       "      <th>10</th>\n",
       "      <td>Lois Lowry</td>\n",
       "      <td>3.750000</td>\n",
       "    </tr>\n",
       "    <tr>\n",
       "      <th>11</th>\n",
       "      <td>George Orwell/Boris Grabnar/Peter Škerl</td>\n",
       "      <td>3.729730</td>\n",
       "    </tr>\n",
       "    <tr>\n",
       "      <th>12</th>\n",
       "      <td>Stephenie Meyer</td>\n",
       "      <td>3.662500</td>\n",
       "    </tr>\n",
       "    <tr>\n",
       "      <th>13</th>\n",
       "      <td>John Steinbeck</td>\n",
       "      <td>3.622951</td>\n",
       "    </tr>\n",
       "  </tbody>\n",
       "</table>\n",
       "</div>"
      ],
      "text/plain": [
       "                                               author  avg_rating\n",
       "0                          J.K. Rowling/Mary GrandPré    4.283844\n",
       "1                   Markus Zusak/Cao Xuân Việt Khương    4.264151\n",
       "2                                      J.R.R. Tolkien    4.258446\n",
       "3                                   Louisa May Alcott    4.192308\n",
       "4                                        Rick Riordan    4.080645\n",
       "5                                     William Golding    3.901408\n",
       "6                                       J.D. Salinger    3.825581\n",
       "7            Paulo Coelho/Alan R. Clarke/Özdemir İnce    3.789474\n",
       "8   William Shakespeare/Paul Werstine/Barbara A. M...    3.787879\n",
       "9                                           Dan Brown    3.754540\n",
       "10                                         Lois Lowry    3.750000\n",
       "11            George Orwell/Boris Grabnar/Peter Škerl    3.729730\n",
       "12                                    Stephenie Meyer    3.662500\n",
       "13                                     John Steinbeck    3.622951"
      ]
     },
     "execution_count": 12,
     "metadata": {},
     "output_type": "execute_result"
    }
   ],
   "source": [
    "query = '''\n",
    "WITH author_book_ratings AS (\n",
    "    SELECT\n",
    "        authors.author AS author,\n",
    "        books.book_id AS book_id,\n",
    "        AVG(ratings.rating) AS avg_rating,\n",
    "        COUNT(ratings.rating) AS count_rating\n",
    "    FROM\n",
    "        authors\n",
    "    JOIN books ON books.author_id = authors.author_id\n",
    "    JOIN ratings ON ratings.book_id = books.book_id\n",
    "    GROUP BY\n",
    "        authors.author,\n",
    "        books.book_id\n",
    "    HAVING\n",
    "        COUNT(ratings.rating) >= 50)\n",
    "SELECT\n",
    "    author,\n",
    "    AVG(avg_rating) AS avg_rating\n",
    "FROM\n",
    "    author_book_ratings\n",
    "GROUP BY\n",
    "    author\n",
    "ORDER BY\n",
    "    avg_rating DESC;\n",
    "'''\n",
    "con = engine.connect()\n",
    "pd.io.sql.read_sql(sql=text(query), con=con)"
   ]
  },
  {
   "cell_type": "markdown",
   "id": "ff225f99",
   "metadata": {},
   "source": [
    "Узнаем, какие это книги данного автора и что за издательства их издавали:"
   ]
  },
  {
   "cell_type": "code",
   "execution_count": 13,
   "id": "3d99b150",
   "metadata": {
    "ExecuteTime": {
     "end_time": "2024-12-23T07:32:54.990170Z",
     "start_time": "2024-12-23T07:32:54.324796Z"
    }
   },
   "outputs": [
    {
     "data": {
      "text/html": [
       "<div>\n",
       "<style scoped>\n",
       "    .dataframe tbody tr th:only-of-type {\n",
       "        vertical-align: middle;\n",
       "    }\n",
       "\n",
       "    .dataframe tbody tr th {\n",
       "        vertical-align: top;\n",
       "    }\n",
       "\n",
       "    .dataframe thead th {\n",
       "        text-align: right;\n",
       "    }\n",
       "</style>\n",
       "<table border=\"1\" class=\"dataframe\">\n",
       "  <thead>\n",
       "    <tr style=\"text-align: right;\">\n",
       "      <th></th>\n",
       "      <th>title</th>\n",
       "      <th>publisher</th>\n",
       "    </tr>\n",
       "  </thead>\n",
       "  <tbody>\n",
       "    <tr>\n",
       "      <th>0</th>\n",
       "      <td>A Breath of Snow and Ashes (Outlander  #6)</td>\n",
       "      <td>Delta</td>\n",
       "    </tr>\n",
       "    <tr>\n",
       "      <th>1</th>\n",
       "      <td>Dragonfly in Amber (Outlander  #2)</td>\n",
       "      <td>Bantam</td>\n",
       "    </tr>\n",
       "    <tr>\n",
       "      <th>2</th>\n",
       "      <td>Drums of Autumn (Outlander  #4)</td>\n",
       "      <td>Delta</td>\n",
       "    </tr>\n",
       "    <tr>\n",
       "      <th>3</th>\n",
       "      <td>Lord John and the Private Matter (Lord John Gr...</td>\n",
       "      <td>Seal</td>\n",
       "    </tr>\n",
       "    <tr>\n",
       "      <th>4</th>\n",
       "      <td>Outlander (Outlander  #1)</td>\n",
       "      <td>Dell Publishing Company</td>\n",
       "    </tr>\n",
       "    <tr>\n",
       "      <th>5</th>\n",
       "      <td>Voyager (Outlander  #3)</td>\n",
       "      <td>Delta</td>\n",
       "    </tr>\n",
       "  </tbody>\n",
       "</table>\n",
       "</div>"
      ],
      "text/plain": [
       "                                               title                publisher\n",
       "0         A Breath of Snow and Ashes (Outlander  #6)                    Delta\n",
       "1                 Dragonfly in Amber (Outlander  #2)                   Bantam\n",
       "2                    Drums of Autumn (Outlander  #4)                    Delta\n",
       "3  Lord John and the Private Matter (Lord John Gr...                     Seal\n",
       "4                          Outlander (Outlander  #1)  Dell Publishing Company\n",
       "5                            Voyager (Outlander  #3)                    Delta"
      ]
     },
     "execution_count": 13,
     "metadata": {},
     "output_type": "execute_result"
    }
   ],
   "source": [
    "query = '''\n",
    "SELECT DISTINCT\n",
    "    b.title,\n",
    "    p.publisher\n",
    "FROM\n",
    "    books AS b\n",
    "JOIN\n",
    "    authors AS a ON b.author_id = a.author_id\n",
    "JOIN\n",
    "    publishers AS p ON b.publisher_id = p.publisher_id\n",
    "WHERE\n",
    "    a.author = 'Diana Gabaldon';\n",
    "'''\n",
    "con = engine.connect()\n",
    "pd.io.sql.read_sql(sql=text(query), con=con)"
   ]
  },
  {
   "cell_type": "markdown",
   "id": "e46a3091",
   "metadata": {},
   "source": [
    "Определим среднее количество обзоров от пользователей, которые поставили больше 48 оценок:"
   ]
  },
  {
   "cell_type": "code",
   "execution_count": 14,
   "id": "65a2b39a",
   "metadata": {
    "ExecuteTime": {
     "end_time": "2024-12-23T07:32:55.144629Z",
     "start_time": "2024-12-23T07:32:54.992564Z"
    }
   },
   "outputs": [
    {
     "data": {
      "text/html": [
       "<div>\n",
       "<style scoped>\n",
       "    .dataframe tbody tr th:only-of-type {\n",
       "        vertical-align: middle;\n",
       "    }\n",
       "\n",
       "    .dataframe tbody tr th {\n",
       "        vertical-align: top;\n",
       "    }\n",
       "\n",
       "    .dataframe thead th {\n",
       "        text-align: right;\n",
       "    }\n",
       "</style>\n",
       "<table border=\"1\" class=\"dataframe\">\n",
       "  <thead>\n",
       "    <tr style=\"text-align: right;\">\n",
       "      <th></th>\n",
       "      <th>avg_reviews</th>\n",
       "    </tr>\n",
       "  </thead>\n",
       "  <tbody>\n",
       "    <tr>\n",
       "      <th>0</th>\n",
       "      <td>24.0</td>\n",
       "    </tr>\n",
       "  </tbody>\n",
       "</table>\n",
       "</div>"
      ],
      "text/plain": [
       "   avg_reviews\n",
       "0         24.0"
      ]
     },
     "execution_count": 14,
     "metadata": {},
     "output_type": "execute_result"
    }
   ],
   "source": [
    "query = '''\n",
    "WITH active_users AS (\n",
    "    SELECT \n",
    "        username\n",
    "    FROM \n",
    "        ratings\n",
    "    GROUP BY \n",
    "        username\n",
    "    HAVING \n",
    "        COUNT(rating_id) > 48\n",
    ")\n",
    "SELECT \n",
    "    AVG(user_reviews.review_count) AS avg_reviews\n",
    "FROM (\n",
    "    SELECT \n",
    "        r.username,\n",
    "        COUNT(r.review_id) AS review_count\n",
    "    FROM \n",
    "        reviews AS r\n",
    "    WHERE \n",
    "        r.username IN (SELECT username FROM active_users)\n",
    "    GROUP BY \n",
    "        r.username\n",
    ") AS user_reviews;\n",
    "'''\n",
    "con = engine.connect()\n",
    "pd.io.sql.read_sql(sql=text(query), con=con)"
   ]
  },
  {
   "cell_type": "markdown",
   "id": "89c8c1e1",
   "metadata": {},
   "source": [
    "Посмотрим, на книги каких авторов эти ревьюеры оставляют свои отзывы:"
   ]
  },
  {
   "cell_type": "code",
   "execution_count": 15,
   "id": "afd69a5d",
   "metadata": {
    "ExecuteTime": {
     "end_time": "2024-12-23T07:32:55.310524Z",
     "start_time": "2024-12-23T07:32:55.146969Z"
    },
    "scrolled": false
   },
   "outputs": [
    {
     "data": {
      "text/html": [
       "<div>\n",
       "<style scoped>\n",
       "    .dataframe tbody tr th:only-of-type {\n",
       "        vertical-align: middle;\n",
       "    }\n",
       "\n",
       "    .dataframe tbody tr th {\n",
       "        vertical-align: top;\n",
       "    }\n",
       "\n",
       "    .dataframe thead th {\n",
       "        text-align: right;\n",
       "    }\n",
       "</style>\n",
       "<table border=\"1\" class=\"dataframe\">\n",
       "  <thead>\n",
       "    <tr style=\"text-align: right;\">\n",
       "      <th></th>\n",
       "      <th>author_name</th>\n",
       "      <th>book_title</th>\n",
       "      <th>reviewer</th>\n",
       "      <th>review_count</th>\n",
       "    </tr>\n",
       "  </thead>\n",
       "  <tbody>\n",
       "    <tr>\n",
       "      <th>0</th>\n",
       "      <td>A.S. Byatt</td>\n",
       "      <td>Possession</td>\n",
       "      <td>carriehale</td>\n",
       "      <td>16</td>\n",
       "    </tr>\n",
       "    <tr>\n",
       "      <th>1</th>\n",
       "      <td>A.S. Byatt</td>\n",
       "      <td>Possession</td>\n",
       "      <td>paul88</td>\n",
       "      <td>22</td>\n",
       "    </tr>\n",
       "    <tr>\n",
       "      <th>2</th>\n",
       "      <td>A.S. Byatt</td>\n",
       "      <td>Possession</td>\n",
       "      <td>alison92</td>\n",
       "      <td>14</td>\n",
       "    </tr>\n",
       "    <tr>\n",
       "      <th>3</th>\n",
       "      <td>Aesop/Laura Harris/Laura Gibbs</td>\n",
       "      <td>Aesop's Fables</td>\n",
       "      <td>ewerner</td>\n",
       "      <td>24</td>\n",
       "    </tr>\n",
       "    <tr>\n",
       "      <th>4</th>\n",
       "      <td>Aesop/Laura Harris/Laura Gibbs</td>\n",
       "      <td>Aesop's Fables</td>\n",
       "      <td>martinadam</td>\n",
       "      <td>27</td>\n",
       "    </tr>\n",
       "    <tr>\n",
       "      <th>5</th>\n",
       "      <td>Agatha Christie</td>\n",
       "      <td>The Body in the Library (Miss Marple  #3)</td>\n",
       "      <td>jessica49</td>\n",
       "      <td>16</td>\n",
       "    </tr>\n",
       "    <tr>\n",
       "      <th>6</th>\n",
       "      <td>Agatha Christie</td>\n",
       "      <td>The Mysterious Affair at Styles (Hercule Poiro...</td>\n",
       "      <td>jeromebowen</td>\n",
       "      <td>17</td>\n",
       "    </tr>\n",
       "    <tr>\n",
       "      <th>7</th>\n",
       "      <td>Agatha Christie</td>\n",
       "      <td>The Mysterious Affair at Styles (Hercule Poiro...</td>\n",
       "      <td>johnsonamanda</td>\n",
       "      <td>24</td>\n",
       "    </tr>\n",
       "    <tr>\n",
       "      <th>8</th>\n",
       "      <td>Agatha Christie</td>\n",
       "      <td>Murder at the Vicarage (Miss Marple  #1)</td>\n",
       "      <td>brandtandrea</td>\n",
       "      <td>19</td>\n",
       "    </tr>\n",
       "    <tr>\n",
       "      <th>9</th>\n",
       "      <td>Agatha Christie</td>\n",
       "      <td>The Murder of Roger Ackroyd (Hercule Poirot  #4)</td>\n",
       "      <td>laura42</td>\n",
       "      <td>17</td>\n",
       "    </tr>\n",
       "    <tr>\n",
       "      <th>10</th>\n",
       "      <td>Agatha Christie</td>\n",
       "      <td>Murder on the Orient Express (Hercule Poirot  ...</td>\n",
       "      <td>amymckenzie</td>\n",
       "      <td>17</td>\n",
       "    </tr>\n",
       "    <tr>\n",
       "      <th>11</th>\n",
       "      <td>Agatha Christie</td>\n",
       "      <td>Murder on the Orient Express (Hercule Poirot  ...</td>\n",
       "      <td>gmccann</td>\n",
       "      <td>14</td>\n",
       "    </tr>\n",
       "    <tr>\n",
       "      <th>12</th>\n",
       "      <td>Agatha Christie</td>\n",
       "      <td>And Then There Were None</td>\n",
       "      <td>erica20</td>\n",
       "      <td>12</td>\n",
       "    </tr>\n",
       "    <tr>\n",
       "      <th>13</th>\n",
       "      <td>Agatha Christie</td>\n",
       "      <td>Murder at the Vicarage (Miss Marple  #1)</td>\n",
       "      <td>markdunn</td>\n",
       "      <td>15</td>\n",
       "    </tr>\n",
       "    <tr>\n",
       "      <th>14</th>\n",
       "      <td>Agatha Christie</td>\n",
       "      <td>The Body in the Library (Miss Marple  #3)</td>\n",
       "      <td>danielchung</td>\n",
       "      <td>18</td>\n",
       "    </tr>\n",
       "    <tr>\n",
       "      <th>15</th>\n",
       "      <td>Agatha Christie</td>\n",
       "      <td>Murder on the Orient Express (Hercule Poirot  ...</td>\n",
       "      <td>anthonyanderson</td>\n",
       "      <td>13</td>\n",
       "    </tr>\n",
       "    <tr>\n",
       "      <th>16</th>\n",
       "      <td>Agatha Christie</td>\n",
       "      <td>Evil Under the Sun (Hercule Poirot  #24)</td>\n",
       "      <td>debra43</td>\n",
       "      <td>17</td>\n",
       "    </tr>\n",
       "    <tr>\n",
       "      <th>17</th>\n",
       "      <td>Agatha Christie</td>\n",
       "      <td>The A.B.C. Murders (Hercule Poirot  #13)</td>\n",
       "      <td>charlesraymond</td>\n",
       "      <td>16</td>\n",
       "    </tr>\n",
       "    <tr>\n",
       "      <th>18</th>\n",
       "      <td>Agatha Christie</td>\n",
       "      <td>The Murder of Roger Ackroyd (Hercule Poirot  #4)</td>\n",
       "      <td>edwardbrown</td>\n",
       "      <td>18</td>\n",
       "    </tr>\n",
       "    <tr>\n",
       "      <th>19</th>\n",
       "      <td>Agatha Christie</td>\n",
       "      <td>The Mysterious Affair at Styles (Hercule Poiro...</td>\n",
       "      <td>isaiahreyes</td>\n",
       "      <td>15</td>\n",
       "    </tr>\n",
       "  </tbody>\n",
       "</table>\n",
       "</div>"
      ],
      "text/plain": [
       "                       author_name  \\\n",
       "0                       A.S. Byatt   \n",
       "1                       A.S. Byatt   \n",
       "2                       A.S. Byatt   \n",
       "3   Aesop/Laura Harris/Laura Gibbs   \n",
       "4   Aesop/Laura Harris/Laura Gibbs   \n",
       "5                  Agatha Christie   \n",
       "6                  Agatha Christie   \n",
       "7                  Agatha Christie   \n",
       "8                  Agatha Christie   \n",
       "9                  Agatha Christie   \n",
       "10                 Agatha Christie   \n",
       "11                 Agatha Christie   \n",
       "12                 Agatha Christie   \n",
       "13                 Agatha Christie   \n",
       "14                 Agatha Christie   \n",
       "15                 Agatha Christie   \n",
       "16                 Agatha Christie   \n",
       "17                 Agatha Christie   \n",
       "18                 Agatha Christie   \n",
       "19                 Agatha Christie   \n",
       "\n",
       "                                           book_title         reviewer  \\\n",
       "0                                          Possession       carriehale   \n",
       "1                                          Possession           paul88   \n",
       "2                                          Possession         alison92   \n",
       "3                                      Aesop's Fables          ewerner   \n",
       "4                                      Aesop's Fables       martinadam   \n",
       "5           The Body in the Library (Miss Marple  #3)        jessica49   \n",
       "6   The Mysterious Affair at Styles (Hercule Poiro...      jeromebowen   \n",
       "7   The Mysterious Affair at Styles (Hercule Poiro...    johnsonamanda   \n",
       "8            Murder at the Vicarage (Miss Marple  #1)     brandtandrea   \n",
       "9    The Murder of Roger Ackroyd (Hercule Poirot  #4)          laura42   \n",
       "10  Murder on the Orient Express (Hercule Poirot  ...      amymckenzie   \n",
       "11  Murder on the Orient Express (Hercule Poirot  ...          gmccann   \n",
       "12                           And Then There Were None          erica20   \n",
       "13           Murder at the Vicarage (Miss Marple  #1)         markdunn   \n",
       "14          The Body in the Library (Miss Marple  #3)      danielchung   \n",
       "15  Murder on the Orient Express (Hercule Poirot  ...  anthonyanderson   \n",
       "16           Evil Under the Sun (Hercule Poirot  #24)          debra43   \n",
       "17           The A.B.C. Murders (Hercule Poirot  #13)   charlesraymond   \n",
       "18   The Murder of Roger Ackroyd (Hercule Poirot  #4)      edwardbrown   \n",
       "19  The Mysterious Affair at Styles (Hercule Poiro...      isaiahreyes   \n",
       "\n",
       "    review_count  \n",
       "0             16  \n",
       "1             22  \n",
       "2             14  \n",
       "3             24  \n",
       "4             27  \n",
       "5             16  \n",
       "6             17  \n",
       "7             24  \n",
       "8             19  \n",
       "9             17  \n",
       "10            17  \n",
       "11            14  \n",
       "12            12  \n",
       "13            15  \n",
       "14            18  \n",
       "15            13  \n",
       "16            17  \n",
       "17            16  \n",
       "18            18  \n",
       "19            15  "
      ]
     },
     "execution_count": 15,
     "metadata": {},
     "output_type": "execute_result"
    }
   ],
   "source": [
    "query = '''\n",
    "WITH active_users AS (\n",
    "    SELECT \n",
    "        username\n",
    "    FROM \n",
    "        ratings\n",
    "    GROUP BY \n",
    "        username\n",
    "    HAVING \n",
    "        COUNT(rating_id) > 48\n",
    ")\n",
    "SELECT \n",
    "    a.author AS author_name,\n",
    "    b.title AS book_title,\n",
    "    r.username AS reviewer,\n",
    "    COUNT(r.review_id) OVER (PARTITION BY r.username) AS review_count\n",
    "FROM \n",
    "    reviews AS r\n",
    "JOIN \n",
    "    books AS b ON r.book_id = b.book_id\n",
    "JOIN \n",
    "    authors AS a ON b.author_id = a.author_id\n",
    "ORDER BY \n",
    "    author_name\n",
    "LIMIT 20;\n",
    "'''\n",
    "con = engine.connect()\n",
    "pd.io.sql.read_sql(sql=text(query), con=con)"
   ]
  },
  {
   "cell_type": "markdown",
   "id": "97a52ddc",
   "metadata": {},
   "source": [
    "Активные ревьюеры предпочитают детективы и интеллектуальную литературу с уклоном в филологию."
   ]
  },
  {
   "cell_type": "markdown",
   "id": "df472387",
   "metadata": {},
   "source": [
    "Определим, есть ли зависимость между количеством страниц книги и средней оценкой или количеством обзоров:"
   ]
  },
  {
   "cell_type": "code",
   "execution_count": 16,
   "id": "79e90334",
   "metadata": {
    "ExecuteTime": {
     "end_time": "2024-12-23T07:32:55.982808Z",
     "start_time": "2024-12-23T07:32:55.312903Z"
    }
   },
   "outputs": [
    {
     "data": {
      "text/html": [
       "<div>\n",
       "<style scoped>\n",
       "    .dataframe tbody tr th:only-of-type {\n",
       "        vertical-align: middle;\n",
       "    }\n",
       "\n",
       "    .dataframe tbody tr th {\n",
       "        vertical-align: top;\n",
       "    }\n",
       "\n",
       "    .dataframe thead th {\n",
       "        text-align: right;\n",
       "    }\n",
       "</style>\n",
       "<table border=\"1\" class=\"dataframe\">\n",
       "  <thead>\n",
       "    <tr style=\"text-align: right;\">\n",
       "      <th></th>\n",
       "      <th>page_range</th>\n",
       "      <th>book_count</th>\n",
       "      <th>avg_rating</th>\n",
       "    </tr>\n",
       "  </thead>\n",
       "  <tbody>\n",
       "    <tr>\n",
       "      <th>0</th>\n",
       "      <td>0-50</td>\n",
       "      <td>8</td>\n",
       "      <td>4.033333</td>\n",
       "    </tr>\n",
       "    <tr>\n",
       "      <th>1</th>\n",
       "      <td>51-100</td>\n",
       "      <td>22</td>\n",
       "      <td>4.000000</td>\n",
       "    </tr>\n",
       "    <tr>\n",
       "      <th>2</th>\n",
       "      <td>201-300</td>\n",
       "      <td>212</td>\n",
       "      <td>3.948498</td>\n",
       "    </tr>\n",
       "    <tr>\n",
       "      <th>3</th>\n",
       "      <td>400+</td>\n",
       "      <td>358</td>\n",
       "      <td>3.938410</td>\n",
       "    </tr>\n",
       "    <tr>\n",
       "      <th>4</th>\n",
       "      <td>301-400</td>\n",
       "      <td>282</td>\n",
       "      <td>3.931530</td>\n",
       "    </tr>\n",
       "    <tr>\n",
       "      <th>5</th>\n",
       "      <td>101-200</td>\n",
       "      <td>118</td>\n",
       "      <td>3.839538</td>\n",
       "    </tr>\n",
       "  </tbody>\n",
       "</table>\n",
       "</div>"
      ],
      "text/plain": [
       "  page_range  book_count  avg_rating\n",
       "0       0-50           8    4.033333\n",
       "1     51-100          22    4.000000\n",
       "2    201-300         212    3.948498\n",
       "3       400+         358    3.938410\n",
       "4    301-400         282    3.931530\n",
       "5    101-200         118    3.839538"
      ]
     },
     "execution_count": 16,
     "metadata": {},
     "output_type": "execute_result"
    }
   ],
   "source": [
    "query = '''\n",
    "SELECT\n",
    "    CASE \n",
    "        WHEN num_pages <= 50 THEN '0-50'\n",
    "        WHEN num_pages <= 100 THEN '51-100'\n",
    "        WHEN num_pages <= 200 THEN '101-200'\n",
    "        WHEN num_pages <= 300 THEN '201-300'\n",
    "        WHEN num_pages <= 400 THEN '301-400'\n",
    "        ELSE '400+'\n",
    "    END AS page_range,\n",
    "    COUNT(DISTINCT b.book_id) AS book_count,\n",
    "    AVG(rt.rating) AS avg_rating\n",
    "FROM\n",
    "    books AS b\n",
    "JOIN\n",
    "    ratings AS rt ON b.book_id = rt.book_id\n",
    "GROUP BY\n",
    "    page_range\n",
    "ORDER BY\n",
    "    avg_rating DESC;\n",
    "'''\n",
    "con = engine.connect()\n",
    "pd.io.sql.read_sql(sql=text(query), con=con)"
   ]
  },
  {
   "cell_type": "markdown",
   "id": "4e594329",
   "metadata": {},
   "source": [
    "Удивительно, но высокие рейтинги у того сегмента, который мы изначально исключаем из нашего анализа - так называемые \"брошюры\".\\\n",
    "А что если это не они, а, например, детские книги."
   ]
  },
  {
   "cell_type": "code",
   "execution_count": 17,
   "id": "c7cb6801",
   "metadata": {
    "ExecuteTime": {
     "end_time": "2024-12-23T07:32:56.141244Z",
     "start_time": "2024-12-23T07:32:55.985800Z"
    }
   },
   "outputs": [
    {
     "data": {
      "text/html": [
       "<div>\n",
       "<style scoped>\n",
       "    .dataframe tbody tr th:only-of-type {\n",
       "        vertical-align: middle;\n",
       "    }\n",
       "\n",
       "    .dataframe tbody tr th {\n",
       "        vertical-align: top;\n",
       "    }\n",
       "\n",
       "    .dataframe thead th {\n",
       "        text-align: right;\n",
       "    }\n",
       "</style>\n",
       "<table border=\"1\" class=\"dataframe\">\n",
       "  <thead>\n",
       "    <tr style=\"text-align: right;\">\n",
       "      <th></th>\n",
       "      <th>book_id</th>\n",
       "      <th>title</th>\n",
       "      <th>num_pages</th>\n",
       "      <th>author_name</th>\n",
       "      <th>avg_rating</th>\n",
       "    </tr>\n",
       "  </thead>\n",
       "  <tbody>\n",
       "    <tr>\n",
       "      <th>0</th>\n",
       "      <td>801</td>\n",
       "      <td>The Monster at the End of this Book</td>\n",
       "      <td>32</td>\n",
       "      <td>Jon Stone/Michael J. Smollin</td>\n",
       "      <td>4.750000</td>\n",
       "    </tr>\n",
       "    <tr>\n",
       "      <th>1</th>\n",
       "      <td>988</td>\n",
       "      <td>Without Fail (Jack Reacher  #6)</td>\n",
       "      <td>14</td>\n",
       "      <td>Lee Child/Dick Hill</td>\n",
       "      <td>4.333333</td>\n",
       "    </tr>\n",
       "    <tr>\n",
       "      <th>2</th>\n",
       "      <td>286</td>\n",
       "      <td>Goodnight Moon</td>\n",
       "      <td>32</td>\n",
       "      <td>Margaret Wise Brown/Clement Hurd</td>\n",
       "      <td>4.300000</td>\n",
       "    </tr>\n",
       "    <tr>\n",
       "      <th>3</th>\n",
       "      <td>771</td>\n",
       "      <td>The Kissing Hand</td>\n",
       "      <td>32</td>\n",
       "      <td>Audrey Penn/Ruth E. Harper/Nancy M. Leak</td>\n",
       "      <td>4.000000</td>\n",
       "    </tr>\n",
       "    <tr>\n",
       "      <th>4</th>\n",
       "      <td>191</td>\n",
       "      <td>Disney's Beauty and the Beast (A Little Golden...</td>\n",
       "      <td>24</td>\n",
       "      <td>Teddy Slater/Ron Dias/Ric González</td>\n",
       "      <td>4.000000</td>\n",
       "    </tr>\n",
       "    <tr>\n",
       "      <th>5</th>\n",
       "      <td>855</td>\n",
       "      <td>The Road Not Taken and Other Poems</td>\n",
       "      <td>49</td>\n",
       "      <td>Robert Frost</td>\n",
       "      <td>3.500000</td>\n",
       "    </tr>\n",
       "    <tr>\n",
       "      <th>6</th>\n",
       "      <td>153</td>\n",
       "      <td>Cloudy With a Chance of Meatballs (Cloudy with...</td>\n",
       "      <td>32</td>\n",
       "      <td>Judi Barrett/Ron Barrett</td>\n",
       "      <td>3.400000</td>\n",
       "    </tr>\n",
       "    <tr>\n",
       "      <th>7</th>\n",
       "      <td>446</td>\n",
       "      <td>Moo  Baa  La La La!</td>\n",
       "      <td>14</td>\n",
       "      <td>Sandra Boynton</td>\n",
       "      <td>3.000000</td>\n",
       "    </tr>\n",
       "  </tbody>\n",
       "</table>\n",
       "</div>"
      ],
      "text/plain": [
       "   book_id                                              title  num_pages  \\\n",
       "0      801                The Monster at the End of this Book         32   \n",
       "1      988                    Without Fail (Jack Reacher  #6)         14   \n",
       "2      286                                     Goodnight Moon         32   \n",
       "3      771                                   The Kissing Hand         32   \n",
       "4      191  Disney's Beauty and the Beast (A Little Golden...         24   \n",
       "5      855                 The Road Not Taken and Other Poems         49   \n",
       "6      153  Cloudy With a Chance of Meatballs (Cloudy with...         32   \n",
       "7      446                                Moo  Baa  La La La!         14   \n",
       "\n",
       "                                author_name  avg_rating  \n",
       "0              Jon Stone/Michael J. Smollin    4.750000  \n",
       "1                       Lee Child/Dick Hill    4.333333  \n",
       "2          Margaret Wise Brown/Clement Hurd    4.300000  \n",
       "3  Audrey Penn/Ruth E. Harper/Nancy M. Leak    4.000000  \n",
       "4        Teddy Slater/Ron Dias/Ric González    4.000000  \n",
       "5                              Robert Frost    3.500000  \n",
       "6                  Judi Barrett/Ron Barrett    3.400000  \n",
       "7                            Sandra Boynton    3.000000  "
      ]
     },
     "execution_count": 17,
     "metadata": {},
     "output_type": "execute_result"
    }
   ],
   "source": [
    "query = '''\n",
    "SELECT\n",
    "    b.book_id,\n",
    "    b.title,\n",
    "    b.num_pages,\n",
    "    a.author AS author_name,\n",
    "    AVG(rt.rating) AS avg_rating\n",
    "FROM\n",
    "    books AS b\n",
    "JOIN\n",
    "    ratings AS rt ON b.book_id = rt.book_id\n",
    "JOIN\n",
    "    authors AS a ON b.author_id = a.author_id\n",
    "WHERE\n",
    "    b.num_pages <= 50\n",
    "GROUP BY\n",
    "    b.book_id, b.title, b.num_pages, a.author\n",
    "ORDER BY\n",
    "    avg_rating DESC;\n",
    "'''\n",
    "con = engine.connect()\n",
    "pd.io.sql.read_sql(sql=text(query), con=con)"
   ]
  },
  {
   "cell_type": "markdown",
   "id": "479abff4",
   "metadata": {},
   "source": [
    "Да, кажется стоит обратить более пристальное внимание на эсегмент детских книг, как минимум учитывать в анализе продаж."
   ]
  },
  {
   "cell_type": "markdown",
   "id": "897c394e",
   "metadata": {},
   "source": [
    "Определим, есть ли зависимость между временем, прошедшим с публикации книги, и её средней оценкой:"
   ]
  },
  {
   "cell_type": "code",
   "execution_count": 18,
   "id": "a0fad739",
   "metadata": {
    "ExecuteTime": {
     "end_time": "2024-12-23T07:32:56.305171Z",
     "start_time": "2024-12-23T07:32:56.143670Z"
    }
   },
   "outputs": [
    {
     "data": {
      "text/html": [
       "<div>\n",
       "<style scoped>\n",
       "    .dataframe tbody tr th:only-of-type {\n",
       "        vertical-align: middle;\n",
       "    }\n",
       "\n",
       "    .dataframe tbody tr th {\n",
       "        vertical-align: top;\n",
       "    }\n",
       "\n",
       "    .dataframe thead th {\n",
       "        text-align: right;\n",
       "    }\n",
       "</style>\n",
       "<table border=\"1\" class=\"dataframe\">\n",
       "  <thead>\n",
       "    <tr style=\"text-align: right;\">\n",
       "      <th></th>\n",
       "      <th>publication_range</th>\n",
       "      <th>book_count</th>\n",
       "      <th>avg_rating</th>\n",
       "    </tr>\n",
       "  </thead>\n",
       "  <tbody>\n",
       "    <tr>\n",
       "      <th>0</th>\n",
       "      <td>Before 2000</td>\n",
       "      <td>217</td>\n",
       "      <td>3.956556</td>\n",
       "    </tr>\n",
       "    <tr>\n",
       "      <th>1</th>\n",
       "      <td>2001-2014</td>\n",
       "      <td>780</td>\n",
       "      <td>3.921489</td>\n",
       "    </tr>\n",
       "    <tr>\n",
       "      <th>2</th>\n",
       "      <td>2015-2020</td>\n",
       "      <td>3</td>\n",
       "      <td>3.833333</td>\n",
       "    </tr>\n",
       "  </tbody>\n",
       "</table>\n",
       "</div>"
      ],
      "text/plain": [
       "  publication_range  book_count  avg_rating\n",
       "0       Before 2000         217    3.956556\n",
       "1         2001-2014         780    3.921489\n",
       "2         2015-2020           3    3.833333"
      ]
     },
     "execution_count": 18,
     "metadata": {},
     "output_type": "execute_result"
    }
   ],
   "source": [
    "query = '''\n",
    "SELECT\n",
    "    publication_range,\n",
    "    COUNT(DISTINCT book_publication.book_id) AS book_count,\n",
    "    AVG(r.rating) AS avg_rating\n",
    "FROM (\n",
    "    SELECT\n",
    "        book_id,\n",
    "        title,\n",
    "        CASE \n",
    "            WHEN publication_date <= '2000-12-31' THEN 'Before 2000'\n",
    "            WHEN publication_date BETWEEN '2001-01-01' AND '2015-12-31' THEN '2001-2014'\n",
    "            WHEN publication_date BETWEEN '2015-01-01' AND '2020-12-31' THEN '2015-2020'\n",
    "            ELSE 'Other'\n",
    "        END AS publication_range\n",
    "    FROM\n",
    "        books\n",
    ") AS book_publication\n",
    "JOIN\n",
    "    ratings AS r ON book_publication.book_id = r.book_id\n",
    "GROUP BY\n",
    "    publication_range\n",
    "ORDER BY\n",
    "    avg_rating DESC;\n",
    "'''\n",
    "con = engine.connect()\n",
    "pd.io.sql.read_sql(sql=text(query), con=con)"
   ]
  },
  {
   "cell_type": "markdown",
   "id": "d95b6fb9",
   "metadata": {},
   "source": [
    "Интересно отметить, что, в нашей выборке, более старые книги имеют более высокий рейтинг. Возможно это пропорционально количесву времени, прошедшему с релиза.\\\n",
    "Но что примечательнее, три книги, которые вышли в последние 5 лет, имеют не слишком отличающийся рейтинг от тех книг, которым уже 68 лет."
   ]
  },
  {
   "cell_type": "markdown",
   "id": "e1797f3d",
   "metadata": {},
   "source": [
    "Нужно понять, на каких бестсеелерах стоит концентрироваться.\\\n",
    "Выведем ТОП-10 книг самым большим количеством оценок выше 4.5 (учитываем только книги с 10+ оценкок):"
   ]
  },
  {
   "cell_type": "code",
   "execution_count": 19,
   "id": "91e459b8",
   "metadata": {
    "ExecuteTime": {
     "end_time": "2024-12-23T07:32:57.480211Z",
     "start_time": "2024-12-23T07:32:56.308507Z"
    }
   },
   "outputs": [
    {
     "data": {
      "text/html": [
       "<div>\n",
       "<style scoped>\n",
       "    .dataframe tbody tr th:only-of-type {\n",
       "        vertical-align: middle;\n",
       "    }\n",
       "\n",
       "    .dataframe tbody tr th {\n",
       "        vertical-align: top;\n",
       "    }\n",
       "\n",
       "    .dataframe thead th {\n",
       "        text-align: right;\n",
       "    }\n",
       "</style>\n",
       "<table border=\"1\" class=\"dataframe\">\n",
       "  <thead>\n",
       "    <tr style=\"text-align: right;\">\n",
       "      <th></th>\n",
       "      <th>book_id</th>\n",
       "      <th>title</th>\n",
       "      <th>high_rating_count</th>\n",
       "    </tr>\n",
       "  </thead>\n",
       "  <tbody>\n",
       "    <tr>\n",
       "      <th>0</th>\n",
       "      <td>302</td>\n",
       "      <td>Harry Potter and the Prisoner of Azkaban (Harr...</td>\n",
       "      <td>48</td>\n",
       "    </tr>\n",
       "    <tr>\n",
       "      <th>1</th>\n",
       "      <td>299</td>\n",
       "      <td>Harry Potter and the Chamber of Secrets (Harry...</td>\n",
       "      <td>41</td>\n",
       "    </tr>\n",
       "    <tr>\n",
       "      <th>2</th>\n",
       "      <td>300</td>\n",
       "      <td>Harry Potter and the Half-Blood Prince (Harry ...</td>\n",
       "      <td>38</td>\n",
       "    </tr>\n",
       "    <tr>\n",
       "      <th>3</th>\n",
       "      <td>722</td>\n",
       "      <td>The Fellowship of the Ring (The Lord of the Ri...</td>\n",
       "      <td>37</td>\n",
       "    </tr>\n",
       "    <tr>\n",
       "      <th>4</th>\n",
       "      <td>301</td>\n",
       "      <td>Harry Potter and the Order of the Phoenix (Har...</td>\n",
       "      <td>32</td>\n",
       "    </tr>\n",
       "    <tr>\n",
       "      <th>5</th>\n",
       "      <td>948</td>\n",
       "      <td>Twilight (Twilight  #1)</td>\n",
       "      <td>32</td>\n",
       "    </tr>\n",
       "    <tr>\n",
       "      <th>6</th>\n",
       "      <td>750</td>\n",
       "      <td>The Hobbit  or There and Back Again</td>\n",
       "      <td>32</td>\n",
       "    </tr>\n",
       "    <tr>\n",
       "      <th>7</th>\n",
       "      <td>656</td>\n",
       "      <td>The Book Thief</td>\n",
       "      <td>26</td>\n",
       "    </tr>\n",
       "    <tr>\n",
       "      <th>8</th>\n",
       "      <td>779</td>\n",
       "      <td>The Lightning Thief (Percy Jackson and the Oly...</td>\n",
       "      <td>24</td>\n",
       "    </tr>\n",
       "    <tr>\n",
       "      <th>9</th>\n",
       "      <td>399</td>\n",
       "      <td>Little Women</td>\n",
       "      <td>24</td>\n",
       "    </tr>\n",
       "  </tbody>\n",
       "</table>\n",
       "</div>"
      ],
      "text/plain": [
       "   book_id                                              title  \\\n",
       "0      302  Harry Potter and the Prisoner of Azkaban (Harr...   \n",
       "1      299  Harry Potter and the Chamber of Secrets (Harry...   \n",
       "2      300  Harry Potter and the Half-Blood Prince (Harry ...   \n",
       "3      722  The Fellowship of the Ring (The Lord of the Ri...   \n",
       "4      301  Harry Potter and the Order of the Phoenix (Har...   \n",
       "5      948                            Twilight (Twilight  #1)   \n",
       "6      750                The Hobbit  or There and Back Again   \n",
       "7      656                                     The Book Thief   \n",
       "8      779  The Lightning Thief (Percy Jackson and the Oly...   \n",
       "9      399                                       Little Women   \n",
       "\n",
       "   high_rating_count  \n",
       "0                 48  \n",
       "1                 41  \n",
       "2                 38  \n",
       "3                 37  \n",
       "4                 32  \n",
       "5                 32  \n",
       "6                 32  \n",
       "7                 26  \n",
       "8                 24  \n",
       "9                 24  "
      ]
     },
     "execution_count": 19,
     "metadata": {},
     "output_type": "execute_result"
    }
   ],
   "source": [
    "query = '''\n",
    "SELECT\n",
    "    b.book_id,\n",
    "    b.title,\n",
    "    COUNT(r.rating) AS high_rating_count\n",
    "FROM\n",
    "    books AS b\n",
    "JOIN\n",
    "    ratings AS r ON b.book_id = r.book_id\n",
    "WHERE\n",
    "    r.rating > 4.5\n",
    "GROUP BY\n",
    "    b.book_id, b.title\n",
    "HAVING\n",
    "    COUNT(r.rating) >= 10\n",
    "ORDER BY\n",
    "    high_rating_count DESC\n",
    "    LIMIT 10;\n",
    "'''\n",
    "con = engine.connect()\n",
    "pd.io.sql.read_sql(sql=text(query), con=con)"
   ]
  },
  {
   "cell_type": "markdown",
   "id": "f482720e",
   "metadata": {},
   "source": [
    "Всё так же бестселлеры последних лет и классик фэнтези."
   ]
  },
  {
   "cell_type": "markdown",
   "id": "2f4988ee",
   "metadata": {},
   "source": [
    "Эти книги стоит промоутировать не так активно: ТОП книг с самыми большим количеством оценок ниже 3 (учитываем только книги с 8+ оценкок):"
   ]
  },
  {
   "cell_type": "code",
   "execution_count": 20,
   "id": "42564870",
   "metadata": {
    "ExecuteTime": {
     "end_time": "2024-12-23T07:32:57.632561Z",
     "start_time": "2024-12-23T07:32:57.483068Z"
    }
   },
   "outputs": [
    {
     "data": {
      "text/html": [
       "<div>\n",
       "<style scoped>\n",
       "    .dataframe tbody tr th:only-of-type {\n",
       "        vertical-align: middle;\n",
       "    }\n",
       "\n",
       "    .dataframe tbody tr th {\n",
       "        vertical-align: top;\n",
       "    }\n",
       "\n",
       "    .dataframe thead th {\n",
       "        text-align: right;\n",
       "    }\n",
       "</style>\n",
       "<table border=\"1\" class=\"dataframe\">\n",
       "  <thead>\n",
       "    <tr style=\"text-align: right;\">\n",
       "      <th></th>\n",
       "      <th>book_id</th>\n",
       "      <th>title</th>\n",
       "      <th>low_rating_count</th>\n",
       "    </tr>\n",
       "  </thead>\n",
       "  <tbody>\n",
       "    <tr>\n",
       "      <th>0</th>\n",
       "      <td>948</td>\n",
       "      <td>Twilight (Twilight  #1)</td>\n",
       "      <td>14</td>\n",
       "    </tr>\n",
       "    <tr>\n",
       "      <th>1</th>\n",
       "      <td>75</td>\n",
       "      <td>Angels &amp; Demons (Robert Langdon  #1)</td>\n",
       "      <td>13</td>\n",
       "    </tr>\n",
       "    <tr>\n",
       "      <th>2</th>\n",
       "      <td>488</td>\n",
       "      <td>Of Mice and Men</td>\n",
       "      <td>12</td>\n",
       "    </tr>\n",
       "    <tr>\n",
       "      <th>3</th>\n",
       "      <td>207</td>\n",
       "      <td>Eat  Pray  Love</td>\n",
       "      <td>12</td>\n",
       "    </tr>\n",
       "    <tr>\n",
       "      <th>4</th>\n",
       "      <td>673</td>\n",
       "      <td>The Catcher in the Rye</td>\n",
       "      <td>8</td>\n",
       "    </tr>\n",
       "    <tr>\n",
       "      <th>5</th>\n",
       "      <td>696</td>\n",
       "      <td>The Da Vinci Code (Robert Langdon  #2)</td>\n",
       "      <td>8</td>\n",
       "    </tr>\n",
       "  </tbody>\n",
       "</table>\n",
       "</div>"
      ],
      "text/plain": [
       "   book_id                                   title  low_rating_count\n",
       "0      948                 Twilight (Twilight  #1)                14\n",
       "1       75    Angels & Demons (Robert Langdon  #1)                13\n",
       "2      488                         Of Mice and Men                12\n",
       "3      207                         Eat  Pray  Love                12\n",
       "4      673                  The Catcher in the Rye                 8\n",
       "5      696  The Da Vinci Code (Robert Langdon  #2)                 8"
      ]
     },
     "execution_count": 20,
     "metadata": {},
     "output_type": "execute_result"
    }
   ],
   "source": [
    "query = '''\n",
    "SELECT\n",
    "    b.book_id,\n",
    "    b.title,\n",
    "    COUNT(r.rating) AS low_rating_count\n",
    "FROM\n",
    "    books AS b\n",
    "JOIN\n",
    "    ratings AS r ON b.book_id = r.book_id\n",
    "WHERE\n",
    "    r.rating < 3\n",
    "GROUP BY\n",
    "    b.book_id, b.title\n",
    "HAVING\n",
    "    COUNT(r.rating) >= 8\n",
    "ORDER BY\n",
    "    low_rating_count DESC\n",
    "LIMIT 10;\n",
    "'''\n",
    "con = engine.connect()\n",
    "pd.io.sql.read_sql(sql=text(query), con=con)"
   ]
  },
  {
   "cell_type": "markdown",
   "id": "6121429a",
   "metadata": {},
   "source": [
    "Похоже, Сумерки вызывают весь спектр эмоций, от любви до ненависти. Скорее всего, их нужно промоутировать, но на определенный сегмент."
   ]
  },
  {
   "cell_type": "markdown",
   "id": "303d37f4",
   "metadata": {},
   "source": [
    "## Вывод и рекомендации"
   ]
  },
  {
   "cell_type": "markdown",
   "id": "debd40e2",
   "metadata": {},
   "source": [
    "### В ходе исследования было обнаружено"
   ]
  },
  {
   "cell_type": "markdown",
   "id": "19741a64",
   "metadata": {},
   "source": [
    "- Большинство книг из базы данных были изданы в последние 20 лет, что отражает активность издателей за этот период;\n",
    "- Популярные бестселлеры последних лет (например, Twilight, Harry Potter) получают наибольшее количество отзывов.\n",
    "- Penguin Books — лидирует по числу книг и отзывов, но зависимость между объемом книг и количеством отзывов не всегда прямая;\n",
    "- J.K. Rowling имеет высокую среднюю оценку своих книг, что подтверждает её популярность среди читателей. Это же подтверждает ТОП-10 книг самым большим количеством оценок - всюду Гарри Поттер;\n",
    "- Активные ревьюеры предпочитают детективы и интеллектуальную литературу, особенно произведения Агаты Кристи;\n",
    "- Книги с меньшим количеством страниц (до 50) показывают высокие рейтинги, что может свидетельствовать о популярности детских книг;\n",
    "- Более старые книги (до 2000 года) имеют более высокие рейтинги, несмотря на наличие новых популярных релизов;\n",
    "- Книги с низкими оценками, например, Twilight, вызывают широкий спектр эмоций и могут быть эффективны для целевых сегментов."
   ]
  },
  {
   "cell_type": "markdown",
   "id": "7c2930f4",
   "metadata": {},
   "source": [
    "### Рекомендации"
   ]
  },
  {
   "cell_type": "markdown",
   "id": "5eb7efdb",
   "metadata": {},
   "source": [
    "**Рекомендательная система:**\n",
    "- Сегментировать пользователей по активности и жанрам, чтобы предложить персонализированные рекомендации (например, детективы, интеллектуальная литература и фэнтези для активных ревьюеров);\n",
    "- Мотивировать активных пользователей оставлять больше отзывов через бонусы и персонализированные рекомендации;\n",
    "- Таргетировать книги с высоким рейтингом (например, Penguin Books с рейтингом 4.6 и книги Diana Gabaldon с рейтингом 4.3).\n",
    "\n",
    "**Стратегия наполнения базы:**\n",
    "- Активно добавлять книги от Penguin Books, так как они получают высокие оценки и отзывы;\n",
    "- Сосредоточиться на авторах с высокими рейтингами, такими как J.K. Rowling, чьи книги получают рейтинг 4.4;\n",
    "- Разнообразить базу, включая больше детских книг, которые показывают высокие оценки (например, \"The Monster at the End of this Book\" с рейтингом 4.75);\n",
    "- Включать как новые книги, так и классические произведения до 2000 года, так как они имеют высокие оценки (средний рейтинг 3.96 для книг до 2000 года)."
   ]
  }
 ],
 "metadata": {
  "ExecuteTimeLog": [
   {
    "duration": 475,
    "start_time": "2024-12-20T20:28:54.150Z"
   },
   {
    "duration": 9057,
    "start_time": "2024-12-20T20:28:54.627Z"
   },
   {
    "duration": 230,
    "start_time": "2024-12-20T20:29:03.686Z"
   },
   {
    "duration": 125,
    "start_time": "2024-12-20T20:29:03.918Z"
   },
   {
    "duration": 52,
    "start_time": "2024-12-20T20:29:04.044Z"
   },
   {
    "duration": 51,
    "start_time": "2024-12-20T20:29:04.098Z"
   },
   {
    "duration": 62,
    "start_time": "2024-12-20T20:29:04.151Z"
   },
   {
    "duration": 52,
    "start_time": "2024-12-20T20:29:04.214Z"
   },
   {
    "duration": 82,
    "start_time": "2024-12-20T20:29:04.268Z"
   },
   {
    "duration": 57,
    "start_time": "2024-12-20T20:29:04.351Z"
   },
   {
    "duration": 56,
    "start_time": "2024-12-20T20:29:04.409Z"
   },
   {
    "duration": 50,
    "start_time": "2024-12-20T20:29:04.466Z"
   },
   {
    "duration": 53,
    "start_time": "2024-12-20T20:29:04.518Z"
   },
   {
    "duration": 57,
    "start_time": "2024-12-20T20:29:04.574Z"
   },
   {
    "duration": 57,
    "start_time": "2024-12-20T20:29:04.633Z"
   },
   {
    "duration": 53,
    "start_time": "2024-12-20T20:29:04.691Z"
   },
   {
    "duration": 56,
    "start_time": "2024-12-20T20:29:04.746Z"
   },
   {
    "duration": 53,
    "start_time": "2024-12-20T20:29:04.804Z"
   },
   {
    "duration": 52,
    "start_time": "2024-12-20T20:29:04.858Z"
   },
   {
    "duration": 86,
    "start_time": "2024-12-20T20:30:03.986Z"
   },
   {
    "duration": 473,
    "start_time": "2024-12-21T06:50:18.164Z"
   },
   {
    "duration": 6374,
    "start_time": "2024-12-21T06:50:18.639Z"
   },
   {
    "duration": 66,
    "start_time": "2024-12-21T06:50:25.015Z"
   },
   {
    "duration": 41,
    "start_time": "2024-12-21T06:50:25.084Z"
   },
   {
    "duration": 9,
    "start_time": "2024-12-21T06:50:25.126Z"
   },
   {
    "duration": 8,
    "start_time": "2024-12-21T06:50:25.137Z"
   },
   {
    "duration": 28,
    "start_time": "2024-12-21T06:50:25.146Z"
   },
   {
    "duration": 10,
    "start_time": "2024-12-21T06:50:25.175Z"
   },
   {
    "duration": 11,
    "start_time": "2024-12-21T06:50:25.186Z"
   },
   {
    "duration": 16,
    "start_time": "2024-12-21T06:50:25.200Z"
   },
   {
    "duration": 14,
    "start_time": "2024-12-21T06:50:25.217Z"
   },
   {
    "duration": 10,
    "start_time": "2024-12-21T06:50:25.233Z"
   },
   {
    "duration": 13,
    "start_time": "2024-12-21T06:50:25.245Z"
   },
   {
    "duration": 16,
    "start_time": "2024-12-21T06:50:25.259Z"
   },
   {
    "duration": 14,
    "start_time": "2024-12-21T06:50:25.276Z"
   },
   {
    "duration": 13,
    "start_time": "2024-12-21T06:50:25.292Z"
   },
   {
    "duration": 16,
    "start_time": "2024-12-21T06:50:25.306Z"
   },
   {
    "duration": 13,
    "start_time": "2024-12-21T06:50:25.323Z"
   },
   {
    "duration": 10,
    "start_time": "2024-12-21T06:50:25.337Z"
   },
   {
    "duration": 10,
    "start_time": "2024-12-21T06:50:55.548Z"
   },
   {
    "duration": 27,
    "start_time": "2024-12-21T06:51:12.924Z"
   },
   {
    "duration": 22,
    "start_time": "2024-12-21T06:52:21.023Z"
   },
   {
    "duration": 18,
    "start_time": "2024-12-21T07:00:26.181Z"
   },
   {
    "duration": 17,
    "start_time": "2024-12-21T07:07:22.084Z"
   },
   {
    "duration": 15,
    "start_time": "2024-12-21T07:07:28.676Z"
   },
   {
    "duration": 87,
    "start_time": "2024-12-21T07:08:36.255Z"
   },
   {
    "duration": 15,
    "start_time": "2024-12-21T07:08:50.440Z"
   },
   {
    "duration": 45,
    "start_time": "2024-12-21T07:09:42.841Z"
   },
   {
    "duration": 20,
    "start_time": "2024-12-21T07:09:55.997Z"
   },
   {
    "duration": 49,
    "start_time": "2024-12-21T07:10:09.076Z"
   },
   {
    "duration": 46,
    "start_time": "2024-12-21T07:10:31.568Z"
   },
   {
    "duration": 70,
    "start_time": "2024-12-21T07:11:06.768Z"
   },
   {
    "duration": 17,
    "start_time": "2024-12-21T07:11:43.122Z"
   },
   {
    "duration": 505,
    "start_time": "2024-12-21T10:49:47.867Z"
   },
   {
    "duration": 8824,
    "start_time": "2024-12-21T10:49:48.374Z"
   },
   {
    "duration": 234,
    "start_time": "2024-12-21T10:49:57.199Z"
   },
   {
    "duration": 121,
    "start_time": "2024-12-21T10:49:57.435Z"
   },
   {
    "duration": 52,
    "start_time": "2024-12-21T10:49:57.558Z"
   },
   {
    "duration": 53,
    "start_time": "2024-12-21T10:49:57.612Z"
   },
   {
    "duration": 52,
    "start_time": "2024-12-21T10:49:57.666Z"
   },
   {
    "duration": 66,
    "start_time": "2024-12-21T10:49:57.720Z"
   },
   {
    "duration": 55,
    "start_time": "2024-12-21T10:49:57.788Z"
   },
   {
    "duration": 71,
    "start_time": "2024-12-21T10:49:57.845Z"
   },
   {
    "duration": 58,
    "start_time": "2024-12-21T10:49:57.918Z"
   },
   {
    "duration": 59,
    "start_time": "2024-12-21T10:49:57.978Z"
   },
   {
    "duration": 54,
    "start_time": "2024-12-21T10:49:58.039Z"
   },
   {
    "duration": 54,
    "start_time": "2024-12-21T10:49:58.096Z"
   },
   {
    "duration": 61,
    "start_time": "2024-12-21T10:49:58.151Z"
   },
   {
    "duration": 57,
    "start_time": "2024-12-21T10:49:58.213Z"
   },
   {
    "duration": 58,
    "start_time": "2024-12-21T10:49:58.272Z"
   },
   {
    "duration": 58,
    "start_time": "2024-12-21T10:49:58.331Z"
   },
   {
    "duration": 55,
    "start_time": "2024-12-21T10:49:58.391Z"
   },
   {
    "duration": 55,
    "start_time": "2024-12-21T10:49:58.448Z"
   },
   {
    "duration": 92,
    "start_time": "2024-12-21T10:50:02.354Z"
   },
   {
    "duration": 51,
    "start_time": "2024-12-21T11:09:51.862Z"
   },
   {
    "duration": 6,
    "start_time": "2024-12-21T11:10:04.957Z"
   },
   {
    "duration": 538,
    "start_time": "2024-12-21T11:10:13.478Z"
   },
   {
    "duration": 8566,
    "start_time": "2024-12-21T11:10:14.019Z"
   },
   {
    "duration": 214,
    "start_time": "2024-12-21T11:10:22.586Z"
   },
   {
    "duration": 125,
    "start_time": "2024-12-21T11:10:22.801Z"
   },
   {
    "duration": 50,
    "start_time": "2024-12-21T11:10:22.929Z"
   },
   {
    "duration": 53,
    "start_time": "2024-12-21T11:10:22.981Z"
   },
   {
    "duration": 50,
    "start_time": "2024-12-21T11:10:23.036Z"
   },
   {
    "duration": 93,
    "start_time": "2024-12-21T11:10:23.088Z"
   },
   {
    "duration": 52,
    "start_time": "2024-12-21T11:10:23.183Z"
   },
   {
    "duration": 54,
    "start_time": "2024-12-21T11:10:23.238Z"
   },
   {
    "duration": 56,
    "start_time": "2024-12-21T11:10:23.294Z"
   },
   {
    "duration": 59,
    "start_time": "2024-12-21T11:10:23.352Z"
   },
   {
    "duration": 51,
    "start_time": "2024-12-21T11:10:23.413Z"
   },
   {
    "duration": 53,
    "start_time": "2024-12-21T11:10:23.468Z"
   },
   {
    "duration": 58,
    "start_time": "2024-12-21T11:10:23.523Z"
   },
   {
    "duration": 58,
    "start_time": "2024-12-21T11:10:23.583Z"
   },
   {
    "duration": 82,
    "start_time": "2024-12-21T11:10:23.643Z"
   },
   {
    "duration": 59,
    "start_time": "2024-12-21T11:10:23.726Z"
   },
   {
    "duration": 54,
    "start_time": "2024-12-21T11:10:23.786Z"
   },
   {
    "duration": 53,
    "start_time": "2024-12-21T11:10:23.841Z"
   },
   {
    "duration": 59,
    "start_time": "2024-12-21T11:10:34.809Z"
   },
   {
    "duration": 58,
    "start_time": "2024-12-21T11:17:24.165Z"
   },
   {
    "duration": 56,
    "start_time": "2024-12-21T11:19:03.340Z"
   },
   {
    "duration": 58,
    "start_time": "2024-12-21T11:19:08.225Z"
   },
   {
    "duration": 58,
    "start_time": "2024-12-21T11:19:45.902Z"
   },
   {
    "duration": 507,
    "start_time": "2024-12-21T11:20:53.003Z"
   },
   {
    "duration": 8434,
    "start_time": "2024-12-21T11:20:53.512Z"
   },
   {
    "duration": 234,
    "start_time": "2024-12-21T11:21:01.947Z"
   },
   {
    "duration": 110,
    "start_time": "2024-12-21T11:21:02.183Z"
   },
   {
    "duration": 49,
    "start_time": "2024-12-21T11:21:02.295Z"
   },
   {
    "duration": 49,
    "start_time": "2024-12-21T11:21:02.346Z"
   },
   {
    "duration": 49,
    "start_time": "2024-12-21T11:21:02.397Z"
   },
   {
    "duration": 86,
    "start_time": "2024-12-21T11:21:02.447Z"
   },
   {
    "duration": 50,
    "start_time": "2024-12-21T11:21:02.535Z"
   },
   {
    "duration": 51,
    "start_time": "2024-12-21T11:21:02.586Z"
   },
   {
    "duration": 64,
    "start_time": "2024-12-21T11:21:02.638Z"
   },
   {
    "duration": 58,
    "start_time": "2024-12-21T11:21:02.704Z"
   },
   {
    "duration": 56,
    "start_time": "2024-12-21T11:21:02.763Z"
   },
   {
    "duration": 50,
    "start_time": "2024-12-21T11:21:02.822Z"
   },
   {
    "duration": 52,
    "start_time": "2024-12-21T11:21:02.873Z"
   },
   {
    "duration": 58,
    "start_time": "2024-12-21T11:21:02.926Z"
   },
   {
    "duration": 56,
    "start_time": "2024-12-21T11:21:02.985Z"
   },
   {
    "duration": 53,
    "start_time": "2024-12-21T11:21:03.042Z"
   },
   {
    "duration": 57,
    "start_time": "2024-12-21T11:21:03.097Z"
   },
   {
    "duration": 53,
    "start_time": "2024-12-21T11:21:03.155Z"
   },
   {
    "duration": 52,
    "start_time": "2024-12-21T11:21:03.210Z"
   },
   {
    "duration": 494,
    "start_time": "2024-12-21T11:21:45.915Z"
   },
   {
    "duration": 8643,
    "start_time": "2024-12-21T11:21:46.411Z"
   },
   {
    "duration": 220,
    "start_time": "2024-12-21T11:21:55.055Z"
   },
   {
    "duration": 126,
    "start_time": "2024-12-21T11:21:55.276Z"
   },
   {
    "duration": 50,
    "start_time": "2024-12-21T11:21:55.404Z"
   },
   {
    "duration": 53,
    "start_time": "2024-12-21T11:21:55.456Z"
   },
   {
    "duration": 51,
    "start_time": "2024-12-21T11:21:55.510Z"
   },
   {
    "duration": 90,
    "start_time": "2024-12-21T11:21:55.563Z"
   },
   {
    "duration": 52,
    "start_time": "2024-12-21T11:21:55.655Z"
   },
   {
    "duration": 56,
    "start_time": "2024-12-21T11:21:55.709Z"
   },
   {
    "duration": 58,
    "start_time": "2024-12-21T11:21:55.768Z"
   },
   {
    "duration": 58,
    "start_time": "2024-12-21T11:21:55.828Z"
   },
   {
    "duration": 52,
    "start_time": "2024-12-21T11:21:55.888Z"
   },
   {
    "duration": 54,
    "start_time": "2024-12-21T11:21:55.942Z"
   },
   {
    "duration": 58,
    "start_time": "2024-12-21T11:21:55.997Z"
   },
   {
    "duration": 57,
    "start_time": "2024-12-21T11:21:56.056Z"
   },
   {
    "duration": 56,
    "start_time": "2024-12-21T11:21:56.114Z"
   },
   {
    "duration": 57,
    "start_time": "2024-12-21T11:21:56.172Z"
   },
   {
    "duration": 54,
    "start_time": "2024-12-21T11:21:56.231Z"
   },
   {
    "duration": 53,
    "start_time": "2024-12-21T11:21:56.287Z"
   }
  ],
  "hide_input": false,
  "kernelspec": {
   "display_name": "Python 3 (ipykernel)",
   "language": "python",
   "name": "python3"
  },
  "language_info": {
   "codemirror_mode": {
    "name": "ipython",
    "version": 3
   },
   "file_extension": ".py",
   "mimetype": "text/x-python",
   "name": "python",
   "nbconvert_exporter": "python",
   "pygments_lexer": "ipython3",
   "version": "3.11.8"
  },
  "toc": {
   "base_numbering": 1,
   "nav_menu": {},
   "number_sections": true,
   "sideBar": true,
   "skip_h1_title": false,
   "title_cell": "Анализ сервиса для чтения книг",
   "title_sidebar": "Содержание",
   "toc_cell": true,
   "toc_position": {
    "height": "calc(100% - 180px)",
    "left": "10px",
    "top": "150px",
    "width": "384.797px"
   },
   "toc_section_display": true,
   "toc_window_display": true
  },
  "varInspector": {
   "cols": {
    "lenName": 16,
    "lenType": 16,
    "lenVar": 40
   },
   "kernels_config": {
    "python": {
     "delete_cmd_postfix": "",
     "delete_cmd_prefix": "del ",
     "library": "var_list.py",
     "varRefreshCmd": "print(var_dic_list())"
    },
    "r": {
     "delete_cmd_postfix": ") ",
     "delete_cmd_prefix": "rm(",
     "library": "var_list.r",
     "varRefreshCmd": "cat(var_dic_list()) "
    }
   },
   "types_to_exclude": [
    "module",
    "function",
    "builtin_function_or_method",
    "instance",
    "_Feature"
   ],
   "window_display": false
  }
 },
 "nbformat": 4,
 "nbformat_minor": 5
}
