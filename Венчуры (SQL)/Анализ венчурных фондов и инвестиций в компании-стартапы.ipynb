{
 "cells": [
  {
   "cell_type": "markdown",
   "id": "284c66e8",
   "metadata": {
    "toc": true
   },
   "source": [
    "<h1>Анализ венчурных фондов и инвестиций в компании-стартапы<span class=\"tocSkip\"></span></h1>\n",
    "<div class=\"toc\"><ul class=\"toc-item\"><li><span><a href=\"#Описание-проекта\" data-toc-modified-id=\"Описание-проекта-1\"><span class=\"toc-item-num\">1&nbsp;&nbsp;</span>Описание проекта</a></span></li><li><span><a href=\"#Исследование\" data-toc-modified-id=\"Исследование-2\"><span class=\"toc-item-num\">2&nbsp;&nbsp;</span>Исследование</a></span></li></ul></div>"
   ]
  },
  {
   "cell_type": "markdown",
   "id": "d6075183",
   "metadata": {},
   "source": [
    "## Описание проекта"
   ]
  },
  {
   "cell_type": "markdown",
   "id": "98720fff",
   "metadata": {},
   "source": [
    "**Область исследования**:\\\n",
    "База данных, которая хранит информацию о венчурных фондах и инвестициях в компании-стартапы.\\\n",
    "Она основана на датасете [Startup Investments](https://www.kaggle.com/datasets/justinas/startup-investments), опубликованном на платформе Kaggle."
   ]
  },
  {
   "cell_type": "markdown",
   "id": "e5fb02e8",
   "metadata": {},
   "source": [
    "**Задача**:\\\n",
    "Необходимо, делая запросы к базе, проанализировать рынок фондов и инвестиций."
   ]
  },
  {
   "cell_type": "markdown",
   "id": "c3c7b6be",
   "metadata": {},
   "source": [
    "**Структура данных:**"
   ]
  },
  {
   "cell_type": "markdown",
   "id": "5173ed00",
   "metadata": {
    "ExecuteTime": {
     "end_time": "2024-12-12T10:10:01.685467Z",
     "start_time": "2024-12-12T10:10:01.680185Z"
    }
   },
   "source": [
    "![Схема БД](https://code.s3.yandex.net/SQL%20for%20data%20and%20analytics/ER/basic_sql_project_ERD.png)"
   ]
  },
  {
   "cell_type": "markdown",
   "id": "f2fd26a3",
   "metadata": {},
   "source": [
    "**Таблица `acquisition`**\n",
    "\n",
    "Содержит информацию о покупках одних компаний другими.\n",
    "| Поле                      | Описание                                                                 |\n",
    "|---------------------------|--------------------------------------------------------------------------|\n",
    "| `id`                       | Идентификатор или уникальный номер покупки                              |\n",
    "| `acquiring_company_id`     | Идентификатор компании-покупателя (внешний ключ, ссылается на таблицу `company`) |\n",
    "| `acquired_company_id`      | Идентификатор компании, которую покупают (внешний ключ, ссылается на таблицу `company`) |\n",
    "| `term_code`                | Способ оплаты сделки (cash, stock, cash_and_stock)                       |\n",
    "| `price_amount`             | Сумма покупки в долларах                                                |\n",
    "| `acquired_at`              | Дата совершения сделки                                                  |\n",
    "| `created_at`               | Дата и время создания записи в таблице                                  |\n",
    "| `updated_at`               | Дата и время обновления записи в таблице                                |\n",
    "\n",
    "**Таблица `company`**\n",
    "\n",
    "Содержит информацию о компаниях-стартапах.\n",
    "| Поле                      | Описание                                                                 |\n",
    "|---------------------------|--------------------------------------------------------------------------|\n",
    "| `id`                       | Идентификатор или уникальный номер компании                             |\n",
    "| `name`                     | Название компании                                                        |\n",
    "| `category_code`            | Категория деятельности компании (например: news, social)               |\n",
    "| `status`                   | Статус компании (acquired, operating, ipo, closed)                       |\n",
    "| `founded_at`               | Дата основания компании                                                 |\n",
    "| `closed_at`                | Дата закрытия компании (если больше не существует)                      |\n",
    "| `domain`                   | Домен сайта компании                                                     |\n",
    "| `network_username`         | Профиль фонда в корпоративной сети биржи                                |\n",
    "| `country_code`             | Код страны (например: USA для США, GBR для Великобритании)             |\n",
    "| `investment_rounds`        | Число раундов, в которых компания участвовала как инвестор             |\n",
    "| `funding_rounds`           | Число раундов, в которых компания привлекала инвестиции                 |\n",
    "| `funding_total`            | Сумма привлечённых инвестиций в долларах                                |\n",
    "| `milestones`               | Количество важных этапов в истории компании                             |\n",
    "| `created_at`               | Дата и время создания записи в таблице                                  |\n",
    "| `updated_at`               | Дата и время обновления записи в таблице                                |\n",
    "\n",
    "**Таблица `education`**\n",
    "\n",
    "Хранит информацию об уровне образования сотрудников компаний.\n",
    "| Поле                      | Описание                                                                 |\n",
    "|---------------------------|--------------------------------------------------------------------------|\n",
    "| `id`                       | Уникальный номер записи с информацией об образовании                    |\n",
    "| `person_id`                | Идентификатор человека (внешний ключ, ссылается на таблицу `people`)    |\n",
    "| `degree_type`              | Учебная степень (например: BA — бакалавр гуманитарных наук, MS — магистр естественных наук) |\n",
    "| `instituition`             | Учебное заведение (название университета)                               |\n",
    "| `graduated_at`             | Дата завершения обучения (выпуска)                                      |\n",
    "| `created_at`               | Дата и время создания записи в таблице                                  |\n",
    "| `updated_at`               | Дата и время обновления записи в таблице                                |\n",
    "\n",
    "**Таблица `fund`**\n",
    "\n",
    "Хранит информацию о венчурных фондах. \n",
    "| Поле                      | Описание                                                                 |\n",
    "|---------------------------|--------------------------------------------------------------------------|\n",
    "| `id`                       | Уникальный номер венчурного фонда                                        |\n",
    "| `name`                     | Название венчурного фонда                                                |\n",
    "| `founded_at`               | Дата основания фонда                                                    |\n",
    "| `domain`                   | Домен сайта фонда                                                        |\n",
    "| `network_username`         | Профиль фонда в корпоративной сети биржи                                |\n",
    "| `country_code`             | Код страны фонда                                                        |\n",
    "| `investment_rounds`        | Число инвестиционных раундов, в которых фонд принимал участие          |\n",
    "| `invested_companies`       | Число компаний, в которые инвестировал фонд                             |\n",
    "| `milestones`               | Количество важных этапов в истории фонда                                 |\n",
    "| `created_at`               | Дата и время создания записи в таблице                                  |\n",
    "| `updated_at`               | Дата и время обновления записи в таблице                                |\n",
    "\n",
    "**Таблица `funding_round`**\n",
    "\n",
    "Содержит информацию о раундах инвестиций. \n",
    "| Поле                      | Описание                                                                 |\n",
    "|---------------------------|--------------------------------------------------------------------------|\n",
    "| `id`                       | Уникальный номер инвестиционного раунда                                 |\n",
    "| `company_id`               | Уникальный номер компании, участвовавшей в инвестиционном раунде (внешний ключ, ссылается на таблицу `company`) |\n",
    "| `funded_at`                | Дата проведения раунда                                                  |\n",
    "| `funding_round_type`       | Тип инвестиционного раунда (venture, angel, series_a)                   |\n",
    "| `raised_amount`            | Сумма инвестиций, которую привлекла компания в этом раунде в долларах   |\n",
    "| `pre_money_valuation`      | Предварительная оценка стоимости компании до инвестиций в долларах      |\n",
    "| `participants`             | Количество участников инвестиционного раунда                            |\n",
    "| `is_first_round`           | Является ли этот раунд первым для компании                              |\n",
    "| `is_last_round`            | Является ли этот раунд последним для компании                           |\n",
    "| `created_at`               | Дата и время создания записи в таблице                                  |\n",
    "| `updated_at`               | Дата и время обновления записи в таблице                                |\n",
    "\n",
    "**Таблица `investment`**\n",
    "\n",
    "Содержит информацию об инвестициях венчурных фондов в компании-стартапы.\n",
    "| Поле                      | Описание                                                                 |\n",
    "|---------------------------|--------------------------------------------------------------------------|\n",
    "| `id`                       | Уникальный номер инвестиции                                             |\n",
    "| `funding_round_id`         | Уникальный номер раунда инвестиции (внешний ключ, ссылается на таблицу `funding_round`) |\n",
    "| `company_id`               | Уникальный номер компании-стартапа, в которую инвестируют (внешний ключ, ссылается на таблицу `company`) |\n",
    "| `fund_id`                  | Уникальный номер фонда, инвестирующего в компанию-стартап (внешний ключ, ссылается на таблицу `fund`) |\n",
    "| `created_at`               | Дата и время создания записи в таблице                                  |\n",
    "| `updated_at`               | Дата и время обновления записи в таблице                                |\n",
    "\n",
    "**Таблица `people`**\n",
    "\n",
    "Содержит информацию о сотрудниках компаний-стартапов.\n",
    "| Поле                      | Описание                                                                 |\n",
    "|---------------------------|--------------------------------------------------------------------------|\n",
    "| `id`                       | Уникальный номер сотрудника                                             |\n",
    "| `first_name`               | Имя сотрудника                                                           |\n",
    "| `last_name`                | Фамилия сотрудника                                                        |\n",
    "| `company_id`               | Уникальный номер компании-стартапа (внешний ключ, ссылается на таблицу `company`) |\n",
    "| `network_username`         | Профиль фонда в корпоративной сети биржи                                |\n",
    "| `created_at`               | Дата и время создания записи в таблице                                  |\n",
    "| `updated_at`               | Дата и время обновления записи в таблице                                |\n"
   ]
  },
  {
   "cell_type": "markdown",
   "id": "6f0a4fbc",
   "metadata": {},
   "source": [
    "## Исследование"
   ]
  },
  {
   "cell_type": "markdown",
   "id": "5839d254",
   "metadata": {},
   "source": [
    "1. Отобразите все записи из таблицы company по компаниям, которые закрылись."
   ]
  },
  {
   "cell_type": "code",
   "execution_count": 3,
   "id": "74f785f0",
   "metadata": {
    "ExecuteTime": {
     "end_time": "2024-12-12T11:09:34.399589Z",
     "start_time": "2024-12-12T11:09:34.393306Z"
    }
   },
   "outputs": [
    {
     "ename": "SyntaxError",
     "evalue": "invalid syntax (615646814.py, line 1)",
     "output_type": "error",
     "traceback": [
      "\u001b[0;36m  Cell \u001b[0;32mIn[3], line 1\u001b[0;36m\u001b[0m\n\u001b[0;31m    SELECT *\u001b[0m\n\u001b[0m            ^\u001b[0m\n\u001b[0;31mSyntaxError\u001b[0m\u001b[0;31m:\u001b[0m invalid syntax\n"
     ]
    }
   ],
   "source": [
    "SELECT *\n",
    "FROM company\n",
    "WHERE status LIKE 'closed';"
   ]
  },
  {
   "cell_type": "markdown",
   "id": "3e78937f",
   "metadata": {},
   "source": [
    "2. Отобразите количество привлечённых средств для новостных компаний США. Используйте данные из таблицы company. Отсортируйте таблицу по убыванию значений в поле funding_total."
   ]
  },
  {
   "cell_type": "code",
   "execution_count": null,
   "id": "9bb8ccb3",
   "metadata": {},
   "outputs": [],
   "source": [
    "SELECT\n",
    "funding_total\n",
    "FROM company\n",
    "WHERE category_code LIKE 'news'\n",
    "AND country_code LIKE 'USA'\n",
    "ORDER BY funding_total DESC;"
   ]
  },
  {
   "cell_type": "markdown",
   "id": "e2999e83",
   "metadata": {},
   "source": [
    "3. Найдите общую сумму сделок по покупке одних компаний другими в долларах. Отберите сделки, которые осуществлялись только за наличные с 2011 по 2013 год включительно."
   ]
  },
  {
   "cell_type": "code",
   "execution_count": null,
   "id": "f490498e",
   "metadata": {},
   "outputs": [],
   "source": [
    "SELECT\n",
    "SUM(price_amount)\n",
    "FROM acquisition\n",
    "WHERE term_code LIKE 'cash'\n",
    "AND EXTRACT(YEAR FROM acquired_at) IN (2011, 2012, 2013);"
   ]
  },
  {
   "cell_type": "markdown",
   "id": "5846295b",
   "metadata": {},
   "source": [
    "4. Отобразите имя, фамилию и названия аккаунтов людей в поле network_username, у которых названия аккаунтов начинаются на 'Silver'."
   ]
  },
  {
   "cell_type": "code",
   "execution_count": null,
   "id": "fc369d19",
   "metadata": {},
   "outputs": [],
   "source": [
    "SELECT\n",
    "first_name, \n",
    "last_name,\n",
    "network_username\n",
    "FROM people\n",
    "WHERE network_username LIKE 'Silver%';"
   ]
  },
  {
   "cell_type": "markdown",
   "id": "1d343d98",
   "metadata": {},
   "source": [
    "5. Выведите на экран всю информацию о людях, у которых названия аккаунтов в поле network_username содержат подстроку 'money', а фамилия начинается на 'K'."
   ]
  },
  {
   "cell_type": "code",
   "execution_count": null,
   "id": "231855a0",
   "metadata": {},
   "outputs": [],
   "source": [
    "SELECT *\n",
    "FROM people\n",
    "WHERE network_username LIKE '%money%'\n",
    "AND last_name LIKE '%K%';"
   ]
  },
  {
   "cell_type": "markdown",
   "id": "f577883d",
   "metadata": {},
   "source": [
    "6. Для каждой страны отобразите общую сумму привлечённых инвестиций, которые получили компании, зарегистрированные в этой стране. Страну, в которой зарегистрирована компания, можно определить по коду страны. Отсортируйте данные по убыванию суммы."
   ]
  },
  {
   "cell_type": "code",
   "execution_count": null,
   "id": "ae8aa9d7",
   "metadata": {},
   "outputs": [],
   "source": [
    "SELECT\n",
    "    c.country_code,\n",
    "    SUM(c.funding_total) AS total_funding\n",
    "FROM company AS c\n",
    "GROUP BY c.country_code\n",
    "ORDER BY total_funding DESC;"
   ]
  },
  {
   "cell_type": "markdown",
   "id": "41ef5f58",
   "metadata": {},
   "source": [
    "7. Составьте таблицу, в которую войдёт дата проведения раунда, а также минимальное и максимальное значения суммы инвестиций, привлечённых в эту дату.\n",
    "Оставьте в итоговой таблице только те записи, в которых минимальное значение суммы инвестиций не равно нулю и не равно максимальному значению."
   ]
  },
  {
   "cell_type": "code",
   "execution_count": null,
   "id": "1057e4cf",
   "metadata": {},
   "outputs": [],
   "source": [
    "SELECT\n",
    "funded_at, \n",
    "MIN(raised_amount) AS min,\n",
    "MAX(raised_amount) AS max\n",
    "FROM funding_round\n",
    "GROUP BY funded_at\n",
    "HAVING MIN(raised_amount) != 0\n",
    "AND MIN(raised_amount) != MAX(raised_amount);"
   ]
  },
  {
   "cell_type": "markdown",
   "id": "a96e2afc",
   "metadata": {},
   "source": [
    "8. Создайте поле с категориями:\n",
    "- Для фондов, которые инвестируют в 100 и более компаний, назначьте категорию high_activity.\n",
    "- Для фондов, которые инвестируют в 20 и более компаний до 100, назначьте категорию middle_activity.\n",
    "\n",
    "Если количество инвестируемых компаний фонда не достигает 20, назначьте категорию low_activity.\n",
    "Отобразите все поля таблицы fund и новое поле с категориями."
   ]
  },
  {
   "cell_type": "code",
   "execution_count": null,
   "id": "2bbd6757",
   "metadata": {},
   "outputs": [],
   "source": [
    "SELECT *,\n",
    "    CASE\n",
    "        WHEN invested_companies < 20 THEN 'low_activity'\n",
    "        WHEN invested_companies >= 20 AND invested_companies < 100 THEN 'middle_activity'\n",
    "        ELSE 'high_activity'\n",
    "    END AS activity\n",
    "FROM fund"
   ]
  },
  {
   "cell_type": "markdown",
   "id": "f9cd328f",
   "metadata": {},
   "source": [
    "9. Для каждой из категорий, назначенных в предыдущем задании, посчитайте округлённое до ближайшего целого числа среднее количество инвестиционных раундов, в которых фонд принимал участие. Выведите на экран категории и среднее число инвестиционных раундов. Отсортируйте таблицу по возрастанию среднего."
   ]
  },
  {
   "cell_type": "code",
   "execution_count": null,
   "id": "4d40b5aa",
   "metadata": {},
   "outputs": [],
   "source": [
    "WITH\n",
    "a AS (\n",
    "    SELECT *,\n",
    "       CASE\n",
    "           WHEN invested_companies>=100 THEN 'high_activity'\n",
    "           WHEN invested_companies>=20 THEN 'middle_activity'\n",
    "           ELSE 'low_activity'\n",
    "       END AS activity\n",
    "FROM fund)\n",
    "\n",
    "SELECT\n",
    "activity,\n",
    "ROUND(AVG(investment_rounds)) AS investment_rounds\n",
    "FROM a\n",
    "GROUP BY activity\n",
    "ORDER BY investment_rounds;"
   ]
  },
  {
   "cell_type": "markdown",
   "id": "bb7fcbd9",
   "metadata": {},
   "source": [
    "10. Проанализируйте, в каких странах находятся фонды, которые чаще всего инвестируют в стартапы. \n",
    "\n",
    "Для каждой страны посчитайте минимальное, максимальное и среднее число компаний, в которые инвестировали фонды этой страны, основанные с 2010 по 2012 год включительно. Исключите страны с фондами, у которых минимальное число компаний, получивших инвестиции, равно нулю. \n",
    "\n",
    "Выгрузите десять самых активных стран-инвесторов: отсортируйте таблицу по среднему количеству компаний от большего к меньшему. Затем добавьте сортировку по коду страны в лексикографическом порядке."
   ]
  },
  {
   "cell_type": "code",
   "execution_count": null,
   "id": "f1a8a4b9",
   "metadata": {},
   "outputs": [],
   "source": [
    "SELECT\n",
    "country_code,\n",
    "MIN(invested_companies),\n",
    "MAX(invested_companies),\n",
    "AVG(invested_companies)\n",
    "\n",
    "FROM fund\n",
    "WHERE EXTRACT(YEAR FROM founded_at) IN (2010, 2011, 2012)\n",
    "\n",
    "GROUP BY country_code\n",
    "HAVING MIN(invested_companies) > 0\n",
    "ORDER BY AVG(invested_companies) DESC, country_code\n",
    "LIMIT 10;"
   ]
  },
  {
   "cell_type": "markdown",
   "id": "133221e2",
   "metadata": {},
   "source": [
    "11. Отобразите имя и фамилию всех сотрудников стартапов. Добавьте поле с названием учебного заведения, которое окончил сотрудник, если эта информация известна."
   ]
  },
  {
   "cell_type": "code",
   "execution_count": null,
   "id": "b7a6156c",
   "metadata": {},
   "outputs": [],
   "source": [
    "SELECT\n",
    "p.first_name AS first_name,\n",
    "p.last_name AS last_name,\n",
    "e.instituition\n",
    "FROM people AS p\n",
    "LEFT JOIN education AS e ON p.id=e.person_id;"
   ]
  },
  {
   "cell_type": "markdown",
   "id": "5eeceb57",
   "metadata": {},
   "source": [
    "12. Для каждой компании найдите количество учебных заведений, которые окончили её сотрудники. Выведите название компании и число уникальных названий учебных заведений. Составьте топ-5 компаний по количеству университетов."
   ]
  },
  {
   "cell_type": "code",
   "execution_count": null,
   "id": "5d5335bc",
   "metadata": {},
   "outputs": [],
   "source": [
    "SELECT\n",
    "    c.name AS company_name,\n",
    "    COALESCE(e.unique_instituition_count, 0) AS unique_instituition_count\n",
    "FROM company AS c\n",
    "LEFT JOIN (\n",
    "    SELECT\n",
    "        p.company_id,\n",
    "        COUNT(DISTINCT e.instituition) AS unique_instituition_count\n",
    "    FROM people AS p\n",
    "    JOIN education AS e ON p.id = e.person_id\n",
    "    GROUP BY p.company_id\n",
    ") AS e ON c.id = e.company_id\n",
    "ORDER BY unique_instituition_count DESC\n",
    "LIMIT 5;"
   ]
  },
  {
   "cell_type": "markdown",
   "id": "4232b7cf",
   "metadata": {},
   "source": [
    "13. Составьте список с уникальными названиями закрытых компаний, для которых первый раунд финансирования оказался последним."
   ]
  },
  {
   "cell_type": "code",
   "execution_count": null,
   "id": "3e9068a8",
   "metadata": {},
   "outputs": [],
   "source": [
    "SELECT \n",
    "DISTINCT(c.name)\n",
    "FROM company AS c\n",
    "JOIN funding_round AS fr ON c.id = fr.company_id\n",
    "WHERE c.status = 'closed'\n",
    "AND fr.is_first_round = 1 AND fr.is_last_round = 1;"
   ]
  },
  {
   "cell_type": "markdown",
   "id": "f1d3c6f2",
   "metadata": {},
   "source": [
    "14. Составьте список уникальных номеров сотрудников, которые работают в компаниях, отобранных в предыдущем задании."
   ]
  },
  {
   "cell_type": "code",
   "execution_count": null,
   "id": "851f04d9",
   "metadata": {},
   "outputs": [],
   "source": [
    "SELECT\n",
    "DISTINCT(p.id)\n",
    "FROM (SELECT \n",
    "    DISTINCT(c.id)\n",
    "    FROM company AS c\n",
    "    JOIN funding_round AS fr ON c.id = fr.company_id\n",
    "    WHERE c.status = 'closed'\n",
    "    AND fr.is_first_round = 1 AND fr.is_last_round = 1) AS com\n",
    "JOIN people AS p ON com.id=p.company_id;"
   ]
  },
  {
   "cell_type": "markdown",
   "id": "1afc308e",
   "metadata": {},
   "source": [
    "15. Составьте таблицу, куда войдут уникальные пары с номерами сотрудников из предыдущей задачи и учебным заведением, которое окончил сотрудник."
   ]
  },
  {
   "cell_type": "code",
   "execution_count": null,
   "id": "619dd2ee",
   "metadata": {},
   "outputs": [],
   "source": [
    "WITH\n",
    "s AS (SELECT\n",
    "DISTINCT(p.id)\n",
    "FROM (SELECT \n",
    "    DISTINCT(c.id)\n",
    "    FROM company AS c\n",
    "    JOIN funding_round AS fr ON c.id = fr.company_id\n",
    "    WHERE c.status = 'closed'\n",
    "    AND fr.is_first_round = 1 AND fr.is_last_round = 1) AS com\n",
    "JOIN people AS p ON com.id=p.company_id)\n",
    "\n",
    "\n",
    "\n",
    "SELECT\n",
    "DISTINCT(s.id) AS person_id,\n",
    "e.instituition AS instituition\n",
    "FROM s\n",
    "JOIN education AS e ON s.id=e.person_id\n",
    "GROUP BY s.id, instituition"
   ]
  },
  {
   "cell_type": "markdown",
   "id": "f057d000",
   "metadata": {},
   "source": [
    "16. Посчитайте количество учебных заведений для каждого сотрудника из предыдущего задания. При подсчёте учитывайте, что некоторые сотрудники могли окончить одно и то же заведение дважды."
   ]
  },
  {
   "cell_type": "code",
   "execution_count": null,
   "id": "5bcffa54",
   "metadata": {},
   "outputs": [],
   "source": [
    "WITH\n",
    "l AS (SELECT \n",
    "        c.id\n",
    "        FROM company AS c\n",
    "        JOIN funding_round AS fr ON c.id = fr.company_id\n",
    "        WHERE c.status = 'closed'\n",
    "        AND fr.is_first_round = 1 \n",
    "        AND fr.is_last_round = 1),\n",
    "\n",
    "s AS (SELECT\n",
    "      DISTINCT(p.id)\n",
    "      FROM l\n",
    "      JOIN people AS p ON l.id = p.company_id),\n",
    "\n",
    "b AS (SELECT\n",
    "      s.id AS person_id,\n",
    "      e.instituition AS instituition\n",
    "      FROM s\n",
    "      JOIN education AS e ON s.id = e.person_id)\n",
    "\n",
    "\n",
    "SELECT \n",
    "person_id,\n",
    "COUNT (instituition)\n",
    "FROM b\n",
    "GROUP BY person_id"
   ]
  },
  {
   "cell_type": "markdown",
   "id": "bf494849",
   "metadata": {},
   "source": [
    "17. Дополните предыдущий запрос и выведите среднее число учебных заведений (всех, не только уникальных), которые окончили сотрудники разных компаний. Нужно вывести только одну запись, группировка здесь не понадобится."
   ]
  },
  {
   "cell_type": "code",
   "execution_count": null,
   "id": "39f6cd99",
   "metadata": {},
   "outputs": [],
   "source": [
    "WITH\n",
    "l AS (SELECT \n",
    "        c.id\n",
    "        FROM company AS c\n",
    "        JOIN funding_round AS fr ON c.id = fr.company_id\n",
    "        WHERE c.status = 'closed'\n",
    "        AND fr.is_first_round = 1 \n",
    "        AND fr.is_last_round = 1),\n",
    "\n",
    "s AS (SELECT\n",
    "      DISTINCT(p.id)\n",
    "      FROM l\n",
    "      JOIN people AS p ON l.id = p.company_id),\n",
    "\n",
    "b AS (SELECT\n",
    "      s.id AS person_id,\n",
    "      e.instituition AS instituition\n",
    "      FROM s\n",
    "      JOIN education AS e ON s.id = e.person_id),\n",
    "\n",
    "\n",
    "d AS (SELECT \n",
    "      person_id,\n",
    "      COUNT(instituition) AS count\n",
    "      FROM b\n",
    "      GROUP BY person_id),\n",
    "      \n",
    "e AS (SELECT \n",
    "    SUM(count) AS total_count\n",
    "    FROM d\n",
    "    GROUP BY person_id)\n",
    "    \n",
    "SELECT\n",
    "AVG(total_count)\n",
    "FROM e"
   ]
  },
  {
   "cell_type": "markdown",
   "id": "229af732",
   "metadata": {},
   "source": [
    "18. Напишите похожий запрос: выведите среднее число учебных заведений (всех, не только уникальных), которые окончили сотрудники Socialnet."
   ]
  },
  {
   "cell_type": "code",
   "execution_count": null,
   "id": "36e48422",
   "metadata": {},
   "outputs": [],
   "source": [
    "WITH\n",
    "l AS (SELECT \n",
    "        c.id\n",
    "        FROM company AS c\n",
    "        JOIN funding_round AS fr ON c.id = fr.company_id\n",
    "        WHERE c.status = 'closed'\n",
    "        AND fr.is_first_round = 1 \n",
    "        AND fr.is_last_round = 1),\n",
    "\n",
    "s AS (SELECT\n",
    "      DISTINCT(p.id)\n",
    "      FROM l\n",
    "      JOIN people AS p ON l.id = p.company_id),\n",
    "\n",
    "b AS (SELECT\n",
    "      s.id AS person_id,\n",
    "      e.instituition AS instituition\n",
    "      FROM s\n",
    "      JOIN education AS e ON s.id = e.person_id),\n",
    "\n",
    "\n",
    "d AS (SELECT \n",
    "      person_id,\n",
    "      COUNT(instituition) AS count\n",
    "      FROM b\n",
    "      GROUP BY person_id),\n",
    "      \n",
    "e AS (SELECT \n",
    "    SUM(count) AS total_count\n",
    "    FROM d\n",
    "    GROUP BY person_id),\n",
    "    \n",
    "f AS (SELECT\n",
    "AVG(total_count)\n",
    "FROM e),\n",
    "\n",
    "    \n",
    "x AS (SELECT\n",
    "e.person_id,\n",
    "COUNT(e.instituition)\n",
    "FROM education e\n",
    "JOIN people p ON e.person_id = p.id\n",
    "JOIN company c ON p.company_id = c.id\n",
    "WHERE c.name LIKE 'Socialnet'\n",
    "GROUP BY e.person_id),\n",
    "\n",
    "w AS (SELECT \n",
    "    SUM(count) AS total_count\n",
    "    FROM x\n",
    "    GROUP BY person_id)\n",
    "    \n",
    "SELECT\n",
    "AVG(total_count)\n",
    "FROM w"
   ]
  },
  {
   "cell_type": "markdown",
   "id": "b15d33b3",
   "metadata": {},
   "source": [
    "19. Составьте таблицу из полей:\n",
    "- name_of_fund — название фонда;\n",
    "- name_of_company — название компании;\n",
    "- amount — сумма инвестиций, которую привлекла компания в раунде.\n",
    "\n",
    "В таблицу войдут данные о компаниях, в истории которых было больше шести важных этапов, а раунды финансирования проходили с 2012 по 2013 год включительно."
   ]
  },
  {
   "cell_type": "code",
   "execution_count": null,
   "id": "d82e5031",
   "metadata": {},
   "outputs": [],
   "source": [
    "SELECT\n",
    "f.name AS name_of_fund,\n",
    "c.name AS name_of_company,\n",
    "fr.raised_amount AS amount\n",
    "\n",
    "FROM fund f\n",
    "JOIN investment i ON f.id = i.fund_id\n",
    "JOIN funding_round fr ON i.funding_round_id = fr.id\n",
    "JOIN company c ON fr.company_id = c.id\n",
    "\n",
    "\n",
    "WHERE c.milestones > 6\n",
    "AND CAST(fr.funded_at AS date) BETWEEN '2012-01-01' AND '2013-12-31'\n",
    "GROUP BY name_of_fund, name_of_company, amount"
   ]
  },
  {
   "cell_type": "markdown",
   "id": "f0a9951a",
   "metadata": {},
   "source": [
    "20. Выгрузите таблицу, в которой будут такие поля:\n",
    "- название компании-покупателя;\n",
    "- сумма сделки;\n",
    "- название компании, которую купили;\n",
    "- сумма инвестиций, вложенных в купленную компанию;\n",
    "- доля, которая отображает, во сколько раз сумма покупки превысила сумму вложенных в компанию инвестиций, округлённая до ближайшего целого числа.\n",
    "\n",
    "Не учитывайте те сделки, в которых сумма покупки равна нулю. Если сумма инвестиций в компанию равна нулю, исключите такую компанию из таблицы. \n",
    "\n",
    "Отсортируйте таблицу по сумме сделки от большей к меньшей, а затем по названию купленной компании в лексикографическом порядке. Ограничьте таблицу первыми десятью записями."
   ]
  },
  {
   "cell_type": "code",
   "execution_count": null,
   "id": "fbe09882",
   "metadata": {},
   "outputs": [],
   "source": [
    "WITH acquisition_data AS (\n",
    "    SELECT\n",
    "        c1.name AS acquiring_company_name,\n",
    "        a.price_amount,\n",
    "        c2.name AS acquired_company_name,\n",
    "        c2.funding_total\n",
    "    FROM acquisition AS a\n",
    "    JOIN company AS c1 ON a.acquiring_company_id = c1.id\n",
    "    JOIN company AS c2 ON a.acquired_company_id = c2.id\n",
    "    WHERE a.price_amount > 0\n",
    "      AND c2.funding_total > 0\n",
    ")\n",
    "SELECT\n",
    "    acquiring_company_name,\n",
    "    price_amount,\n",
    "    acquired_company_name,\n",
    "    funding_total,\n",
    "    ROUND(price_amount / funding_total) AS investment_ratio\n",
    "FROM acquisition_data\n",
    "ORDER BY price_amount DESC, acquired_company_name\n",
    "LIMIT 10;"
   ]
  },
  {
   "cell_type": "markdown",
   "id": "f78fa8d2",
   "metadata": {},
   "source": [
    "21. Выгрузите таблицу, в которую войдут названия компаний из категории social, получившие финансирование с 2010 по 2013 год включительно. \n",
    "\n",
    "Проверьте, что сумма инвестиций не равна нулю. Выведите также номер месяца, в котором проходил раунд финансирования.\n"
   ]
  },
  {
   "cell_type": "code",
   "execution_count": null,
   "id": "12e07285",
   "metadata": {},
   "outputs": [],
   "source": [
    "SELECT\n",
    "c.name AS company_name,\n",
    "EXTRACT(MONTH FROM CAST(funded_at AS timestamp)) AS month\n",
    "FROM company c\n",
    "JOIN funding_round fr ON c.id = fr.company_id\n",
    "WHERE c.category_code LIKE 'social'\n",
    "AND fr.funded_at BETWEEN '2010-01-01' AND '2013-12-31'\n",
    "AND fr.raised_amount != 0;"
   ]
  },
  {
   "cell_type": "markdown",
   "id": "57b6e59f",
   "metadata": {},
   "source": [
    "22. Отберите данные по месяцам с 2010 по 2013 год, когда проходили инвестиционные раунды. Сгруппируйте данные по номеру месяца и получите таблицу, в которой будут поля:\n",
    "- номер месяца, в котором проходили раунды;\n",
    "- количество уникальных названий фондов из США, которые инвестировали в этом месяце;\n",
    "-  количество компаний, купленных за этот месяц;\n",
    "- общая сумма сделок по покупкам в этом месяце.\n"
   ]
  },
  {
   "cell_type": "code",
   "execution_count": null,
   "id": "3da3f2d8",
   "metadata": {},
   "outputs": [],
   "source": [
    "WITH \n",
    "funding_data AS (\n",
    "    SELECT \n",
    "        EXTRACT(MONTH FROM fr.funded_at) AS month,\n",
    "        COUNT(DISTINCT f.name) AS unique_fund_count\n",
    "    FROM funding_round fr\n",
    "    JOIN investment i ON fr.id = i.funding_round_id\n",
    "    JOIN fund f ON i.fund_id = f.id\n",
    "    WHERE fr.funded_at BETWEEN '2010-01-01' AND '2013-12-31'\n",
    "      AND f.country_code = 'USA'\n",
    "    GROUP BY EXTRACT(MONTH FROM fr.funded_at)\n",
    "),\n",
    "acquisition_data AS (\n",
    "    SELECT \n",
    "        EXTRACT(MONTH FROM a.acquired_at) AS month,\n",
    "        COUNT(a.acquired_company_id) AS purchased_companies,\n",
    "        SUM(a.price_amount) AS total_price\n",
    "    FROM acquisition a\n",
    "    WHERE a.acquired_at BETWEEN '2010-01-01' AND '2013-12-31'\n",
    "    GROUP BY EXTRACT(MONTH FROM a.acquired_at)\n",
    ")\n",
    "\n",
    "SELECT \n",
    "    gs.month,\n",
    "    COALESCE(fd.unique_fund_count, 0) AS unique_fund_count,\n",
    "    COALESCE(ad.purchased_companies, 0) AS purchased_companies,\n",
    "    COALESCE(ad.total_price, 0) AS total_price\n",
    "FROM generate_series(1, 12) AS gs (month)\n",
    "LEFT JOIN funding_data AS fd ON gs.month = fd.month\n",
    "LEFT JOIN acquisition_data AS ad ON gs.month = ad.month\n",
    "ORDER BY gs.month;"
   ]
  },
  {
   "cell_type": "markdown",
   "id": "2267acbd",
   "metadata": {},
   "source": [
    "23. Составьте сводную таблицу и выведите среднюю сумму инвестиций для стран, в которых есть стартапы, зарегистрированные в 2011, 2012 и 2013 годах. \n",
    "\n",
    "Данные за каждый год должны быть в отдельном поле. Отсортируйте таблицу по среднему значению инвестиций за 2011 год от большего к меньшему."
   ]
  },
  {
   "cell_type": "code",
   "execution_count": null,
   "id": "ef4ded28",
   "metadata": {},
   "outputs": [],
   "source": [
    "WITH\n",
    "\n",
    "inv_2011 AS (\n",
    "SELECT \n",
    "country_code,\n",
    "AVG(funding_total) AS avg_funding_2011\n",
    "FROM company\n",
    "WHERE EXTRACT (YEAR FROM founded_at) = 2011\n",
    "GROUP BY country_code),\n",
    "     \n",
    "inv_2012 AS (\n",
    "SELECT\n",
    "country_code,\n",
    "AVG(funding_total) AS avg_funding_2012\n",
    "FROM company\n",
    "WHERE EXTRACT (YEAR FROM founded_at) = 2012\n",
    "GROUP BY country_code),\n",
    "\n",
    "inv_2013 AS (\n",
    "SELECT\n",
    "country_code,\n",
    "AVG(funding_total) AS avg_funding_2013\n",
    "FROM company\n",
    "WHERE EXTRACT (YEAR FROM founded_at) = 2013\n",
    "GROUP BY country_code)\n",
    "\n",
    "\n",
    "SELECT\n",
    "i11.country_code, i11.avg_funding_2011, i12.avg_funding_2012, i13.avg_funding_2013\n",
    "FROM inv_2011 i11\n",
    "INNER JOIN inv_2012 i12 ON i11.country_code = i12.country_code\n",
    "INNER JOIN inv_2013 i13 ON i12.country_code = i13.country_code\n",
    "\n",
    "ORDER BY i11.avg_funding_2011 DESC;"
   ]
  }
 ],
 "metadata": {
  "hide_input": false,
  "kernelspec": {
   "display_name": "Python 3 (ipykernel)",
   "language": "python",
   "name": "python3"
  },
  "language_info": {
   "codemirror_mode": {
    "name": "ipython",
    "version": 3
   },
   "file_extension": ".py",
   "mimetype": "text/x-python",
   "name": "python",
   "nbconvert_exporter": "python",
   "pygments_lexer": "ipython3",
   "version": "3.11.8"
  },
  "toc": {
   "base_numbering": 1,
   "nav_menu": {},
   "number_sections": true,
   "sideBar": true,
   "skip_h1_title": false,
   "title_cell": "Анализ венчурных фондов и инвестиций в компании-стартапы",
   "title_sidebar": "Содержание",
   "toc_cell": true,
   "toc_position": {
    "height": "calc(100% - 180px)",
    "left": "10px",
    "top": "150px",
    "width": "383.797px"
   },
   "toc_section_display": true,
   "toc_window_display": true
  },
  "varInspector": {
   "cols": {
    "lenName": 16,
    "lenType": 16,
    "lenVar": 40
   },
   "kernels_config": {
    "python": {
     "delete_cmd_postfix": "",
     "delete_cmd_prefix": "del ",
     "library": "var_list.py",
     "varRefreshCmd": "print(var_dic_list())"
    },
    "r": {
     "delete_cmd_postfix": ") ",
     "delete_cmd_prefix": "rm(",
     "library": "var_list.r",
     "varRefreshCmd": "cat(var_dic_list()) "
    }
   },
   "types_to_exclude": [
    "module",
    "function",
    "builtin_function_or_method",
    "instance",
    "_Feature"
   ],
   "window_display": false
  }
 },
 "nbformat": 4,
 "nbformat_minor": 5
}
