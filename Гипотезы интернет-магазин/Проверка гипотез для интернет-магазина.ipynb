{
 "cells": [
  {
   "cell_type": "markdown",
   "id": "d6d6e5a2",
   "metadata": {
    "toc": true
   },
   "source": [
    "<h1>Проверка гипотез для интернет-магазина<span class=\"tocSkip\"></span></h1>\n",
    "<div class=\"toc\"><ul class=\"toc-item\"><li><span><a href=\"#Описание-проекта\" data-toc-modified-id=\"Описание-проекта-1\"><span class=\"toc-item-num\">1&nbsp;&nbsp;</span>Описание проекта</a></span></li><li><span><a href=\"#Гипотезы\" data-toc-modified-id=\"Гипотезы-2\"><span class=\"toc-item-num\">2&nbsp;&nbsp;</span>Гипотезы</a></span><ul class=\"toc-item\"><li><span><a href=\"#Обзор-данных\" data-toc-modified-id=\"Обзор-данных-2.1\"><span class=\"toc-item-num\">2.1&nbsp;&nbsp;</span>Обзор данных</a></span></li><li><span><a href=\"#Приоритизация\" data-toc-modified-id=\"Приоритизация-2.2\"><span class=\"toc-item-num\">2.2&nbsp;&nbsp;</span>Приоритизация</a></span><ul class=\"toc-item\"><li><span><a href=\"#Метод-ICE\" data-toc-modified-id=\"Метод-ICE-2.2.1\"><span class=\"toc-item-num\">2.2.1&nbsp;&nbsp;</span>Метод ICE</a></span></li><li><span><a href=\"#Метод-RICE\" data-toc-modified-id=\"Метод-RICE-2.2.2\"><span class=\"toc-item-num\">2.2.2&nbsp;&nbsp;</span>Метод RICE</a></span></li></ul></li><li><span><a href=\"#Вывод\" data-toc-modified-id=\"Вывод-2.3\"><span class=\"toc-item-num\">2.3&nbsp;&nbsp;</span>Вывод</a></span></li></ul></li><li><span><a href=\"#Анализ-A/B-теста\" data-toc-modified-id=\"Анализ-A/B-теста-3\"><span class=\"toc-item-num\">3&nbsp;&nbsp;</span>Анализ A/B-теста</a></span><ul class=\"toc-item\"><li><span><a href=\"#Обзор-данных\" data-toc-modified-id=\"Обзор-данных-3.1\"><span class=\"toc-item-num\">3.1&nbsp;&nbsp;</span>Обзор данных</a></span><ul class=\"toc-item\"><li><span><a href=\"#Заказы-(orders)\" data-toc-modified-id=\"Заказы-(orders)-3.1.1\"><span class=\"toc-item-num\">3.1.1&nbsp;&nbsp;</span>Заказы (orders)</a></span></li><li><span><a href=\"#Посетители-(visitors)\" data-toc-modified-id=\"Посетители-(visitors)-3.1.2\"><span class=\"toc-item-num\">3.1.2&nbsp;&nbsp;</span>Посетители (visitors)</a></span></li></ul></li><li><span><a href=\"#Предобработка-данных\" data-toc-modified-id=\"Предобработка-данных-3.2\"><span class=\"toc-item-num\">3.2&nbsp;&nbsp;</span>Предобработка данных</a></span><ul class=\"toc-item\"><li><span><a href=\"#Дубликаты\" data-toc-modified-id=\"Дубликаты-3.2.1\"><span class=\"toc-item-num\">3.2.1&nbsp;&nbsp;</span>Дубликаты</a></span></li><li><span><a href=\"#Распределение-пользователей-по-группам-тестирования\" data-toc-modified-id=\"Распределение-пользователей-по-группам-тестирования-3.2.2\"><span class=\"toc-item-num\">3.2.2&nbsp;&nbsp;</span>Распределение пользователей по группам тестирования</a></span></li><li><span><a href=\"#Вывод\" data-toc-modified-id=\"Вывод-3.2.3\"><span class=\"toc-item-num\">3.2.3&nbsp;&nbsp;</span>Вывод</a></span></li></ul></li><li><span><a href=\"#Анализ-результатов\" data-toc-modified-id=\"Анализ-результатов-3.3\"><span class=\"toc-item-num\">3.3&nbsp;&nbsp;</span>Анализ результатов</a></span><ul class=\"toc-item\"><li><span><a href=\"#Кумулятивная-выручка-по-группам\" data-toc-modified-id=\"Кумулятивная-выручка-по-группам-3.3.1\"><span class=\"toc-item-num\">3.3.1&nbsp;&nbsp;</span>Кумулятивная выручка по группам</a></span></li><li><span><a href=\"#Кумулятивный-средний-чек-по-группам\" data-toc-modified-id=\"Кумулятивный-средний-чек-по-группам-3.3.2\"><span class=\"toc-item-num\">3.3.2&nbsp;&nbsp;</span>Кумулятивный средний чек по группам</a></span></li><li><span><a href=\"#Относительное-изменение-кумулятивного-среднего-чека-группы-B-к-группе-A\" data-toc-modified-id=\"Относительное-изменение-кумулятивного-среднего-чека-группы-B-к-группе-A-3.3.3\"><span class=\"toc-item-num\">3.3.3&nbsp;&nbsp;</span>Относительное изменение кумулятивного среднего чека группы B к группе A</a></span></li><li><span><a href=\"#Кумулятивный-среднее-количество-заказов-на-посетителя-по-группам\" data-toc-modified-id=\"Кумулятивный-среднее-количество-заказов-на-посетителя-по-группам-3.3.4\"><span class=\"toc-item-num\">3.3.4&nbsp;&nbsp;</span>Кумулятивный среднее количество заказов на посетителя по группам</a></span></li><li><span><a href=\"#Относительное-изменение-кумулятивного-среднего-количества-заказов-на-посетителя-группы-B-к-группе-A\" data-toc-modified-id=\"Относительное-изменение-кумулятивного-среднего-количества-заказов-на-посетителя-группы-B-к-группе-A-3.3.5\"><span class=\"toc-item-num\">3.3.5&nbsp;&nbsp;</span>Относительное изменение кумулятивного среднего количества заказов на посетителя группы B к группе A</a></span></li><li><span><a href=\"#Количество-заказов-по-пользователям\" data-toc-modified-id=\"Количество-заказов-по-пользователям-3.3.6\"><span class=\"toc-item-num\">3.3.6&nbsp;&nbsp;</span>Количество заказов по пользователям</a></span></li><li><span><a href=\"#Углубленный-анализ-аномалий-среди-заказов-на-одного-пользователя\" data-toc-modified-id=\"Углубленный-анализ-аномалий-среди-заказов-на-одного-пользователя-3.3.7\"><span class=\"toc-item-num\">3.3.7&nbsp;&nbsp;</span>Углубленный анализ аномалий среди заказов на одного пользователя</a></span></li><li><span><a href=\"#Стоимость-заказов\" data-toc-modified-id=\"Стоимость-заказов-3.3.8\"><span class=\"toc-item-num\">3.3.8&nbsp;&nbsp;</span>Стоимость заказов</a></span></li><li><span><a href=\"#Углубленный-анализ-аномалий-среди-стоимости-заказов\" data-toc-modified-id=\"Углубленный-анализ-аномалий-среди-стоимости-заказов-3.3.9\"><span class=\"toc-item-num\">3.3.9&nbsp;&nbsp;</span>Углубленный анализ аномалий среди стоимости заказов</a></span></li><li><span><a href=\"#Гипотеза-1\" data-toc-modified-id=\"Гипотеза-1-3.3.10\"><span class=\"toc-item-num\">3.3.10&nbsp;&nbsp;</span>Гипотеза 1</a></span></li><li><span><a href=\"#Гипотеза-2\" data-toc-modified-id=\"Гипотеза-2-3.3.11\"><span class=\"toc-item-num\">3.3.11&nbsp;&nbsp;</span>Гипотеза 2</a></span></li><li><span><a href=\"#Гипотеза-3\" data-toc-modified-id=\"Гипотеза-3-3.3.12\"><span class=\"toc-item-num\">3.3.12&nbsp;&nbsp;</span>Гипотеза 3</a></span></li><li><span><a href=\"#Гипотеза-4\" data-toc-modified-id=\"Гипотеза-4-3.3.13\"><span class=\"toc-item-num\">3.3.13&nbsp;&nbsp;</span>Гипотеза 4</a></span></li></ul></li></ul></li><li><span><a href=\"#Итоги-и-рекомендации\" data-toc-modified-id=\"Итоги-и-рекомендации-4\"><span class=\"toc-item-num\">4&nbsp;&nbsp;</span>Итоги и рекомендации</a></span></li></ul></div>"
   ]
  },
  {
   "cell_type": "markdown",
   "id": "9297d6e7",
   "metadata": {},
   "source": [
    "# Описание проекта"
   ]
  },
  {
   "cell_type": "markdown",
   "id": "4e800b11",
   "metadata": {},
   "source": [
    "**Область исследования**:\n",
    "- список гипотез для увеличения выручки интернет-магазина (/datasets/hypothesis.csv)\n",
    "- список заказов, совершенных в рамках проведения А/В-тестирования (/datasets/orders.csv)\n",
    "- список пользователей, распределенных по группам А/В-тестирования (/datasets/visitors.csv)"
   ]
  },
  {
   "cell_type": "markdown",
   "id": "f77705ff",
   "metadata": {},
   "source": [
    "**Цель анализа**: \n",
    "- необходимо приоритизировать гипотезы; \n",
    "- проанализировать результаты A/B-тест;\n",
    "- сравнить средние чеки и количество заказов для каждой группы;\n",
    "- сделать итоговое завлючение и на основе него принять решение о продолжении теста."
   ]
  },
  {
   "cell_type": "markdown",
   "id": "863e1e3b",
   "metadata": {},
   "source": [
    "**Структура данных**:\n",
    "\n",
    "Файл /datasets/hypothesis.csv\n",
    "- Hypothesis — краткое описание гипотезы;\n",
    "- Reach — охват пользователей по 10-балльной шкале;\n",
    "- Impact — влияние на пользователей по 10-балльной шкале;\n",
    "- Confidence — уверенность в гипотезе по 10-балльной шкале;\n",
    "- Efforts — затраты ресурсов на проверку гипотезы по 10-балльной шкале. Чем больше значение Efforts, тем дороже проверка гипотезы.\n",
    "\n",
    "\n",
    "\n",
    "Файл /datasets/orders.csv\n",
    "- transactionId — идентификатор заказа;\n",
    "- visitorId — идентификатор пользователя, совершившего заказ;\n",
    "- date — дата, когда был совершён заказ;\n",
    "- revenue — выручка заказа;\n",
    "- group — группа A/B-теста, в которую попал заказ.\n",
    "\n",
    "\n",
    "Файл /datasets/visitors.csv\n",
    "- date — дата;\n",
    "- group — группа A/B-теста;\n",
    "- visitors — количество пользователей в указанную дату в указанной группе A/B-теста"
   ]
  },
  {
   "cell_type": "code",
   "execution_count": 1,
   "id": "e7e0141e",
   "metadata": {
    "ExecuteTime": {
     "end_time": "2024-12-14T08:59:13.299882Z",
     "start_time": "2024-12-14T08:59:12.502541Z"
    }
   },
   "outputs": [],
   "source": [
    "import pandas as pd\n",
    "import datetime as dt\n",
    "import numpy as np\n",
    "import matplotlib.pyplot as plt\n",
    "import matplotlib.dates as mdates\n",
    "import scipy.stats as stats\n",
    "pd.set_option('display.max_colwidth', None)"
   ]
  },
  {
   "cell_type": "markdown",
   "id": "d9eef94f",
   "metadata": {},
   "source": [
    "# Гипотезы"
   ]
  },
  {
   "cell_type": "markdown",
   "id": "2961c121",
   "metadata": {},
   "source": [
    "## Обзор данных"
   ]
  },
  {
   "cell_type": "code",
   "execution_count": 2,
   "id": "768ec70d",
   "metadata": {
    "ExecuteTime": {
     "end_time": "2024-12-14T08:59:13.307662Z",
     "start_time": "2024-12-14T08:59:13.300747Z"
    },
    "scrolled": true
   },
   "outputs": [
    {
     "data": {
      "text/html": [
       "<div>\n",
       "<style scoped>\n",
       "    .dataframe tbody tr th:only-of-type {\n",
       "        vertical-align: middle;\n",
       "    }\n",
       "\n",
       "    .dataframe tbody tr th {\n",
       "        vertical-align: top;\n",
       "    }\n",
       "\n",
       "    .dataframe thead th {\n",
       "        text-align: right;\n",
       "    }\n",
       "</style>\n",
       "<table border=\"1\" class=\"dataframe\">\n",
       "  <thead>\n",
       "    <tr style=\"text-align: right;\">\n",
       "      <th></th>\n",
       "      <th>Hypothesis</th>\n",
       "      <th>Reach</th>\n",
       "      <th>Impact</th>\n",
       "      <th>Confidence</th>\n",
       "      <th>Efforts</th>\n",
       "    </tr>\n",
       "  </thead>\n",
       "  <tbody>\n",
       "    <tr>\n",
       "      <th>0</th>\n",
       "      <td>Добавить два новых канала привлечения трафика, что позволит привлекать на 30% больше пользователей</td>\n",
       "      <td>3</td>\n",
       "      <td>10</td>\n",
       "      <td>8</td>\n",
       "      <td>6</td>\n",
       "    </tr>\n",
       "    <tr>\n",
       "      <th>1</th>\n",
       "      <td>Запустить собственную службу доставки, что сократит срок доставки заказов</td>\n",
       "      <td>2</td>\n",
       "      <td>5</td>\n",
       "      <td>4</td>\n",
       "      <td>10</td>\n",
       "    </tr>\n",
       "    <tr>\n",
       "      <th>2</th>\n",
       "      <td>Добавить блоки рекомендаций товаров на сайт интернет магазина, чтобы повысить конверсию и средний чек заказа</td>\n",
       "      <td>8</td>\n",
       "      <td>3</td>\n",
       "      <td>7</td>\n",
       "      <td>3</td>\n",
       "    </tr>\n",
       "    <tr>\n",
       "      <th>3</th>\n",
       "      <td>Изменить структура категорий, что увеличит конверсию, т.к. пользователи быстрее найдут нужный товар</td>\n",
       "      <td>8</td>\n",
       "      <td>3</td>\n",
       "      <td>3</td>\n",
       "      <td>8</td>\n",
       "    </tr>\n",
       "    <tr>\n",
       "      <th>4</th>\n",
       "      <td>Изменить цвет фона главной страницы, чтобы увеличить вовлеченность пользователей</td>\n",
       "      <td>3</td>\n",
       "      <td>1</td>\n",
       "      <td>1</td>\n",
       "      <td>1</td>\n",
       "    </tr>\n",
       "    <tr>\n",
       "      <th>5</th>\n",
       "      <td>Добавить страницу отзывов клиентов о магазине, что позволит увеличить количество заказов</td>\n",
       "      <td>3</td>\n",
       "      <td>2</td>\n",
       "      <td>2</td>\n",
       "      <td>3</td>\n",
       "    </tr>\n",
       "    <tr>\n",
       "      <th>6</th>\n",
       "      <td>Показать на главной странице баннеры с актуальными акциями и распродажами, чтобы увеличить конверсию</td>\n",
       "      <td>5</td>\n",
       "      <td>3</td>\n",
       "      <td>8</td>\n",
       "      <td>3</td>\n",
       "    </tr>\n",
       "    <tr>\n",
       "      <th>7</th>\n",
       "      <td>Добавить форму подписки на все основные страницы, чтобы собрать базу клиентов для email-рассылок</td>\n",
       "      <td>10</td>\n",
       "      <td>7</td>\n",
       "      <td>8</td>\n",
       "      <td>5</td>\n",
       "    </tr>\n",
       "    <tr>\n",
       "      <th>8</th>\n",
       "      <td>Запустить акцию, дающую скидку на товар в день рождения</td>\n",
       "      <td>1</td>\n",
       "      <td>9</td>\n",
       "      <td>9</td>\n",
       "      <td>5</td>\n",
       "    </tr>\n",
       "  </tbody>\n",
       "</table>\n",
       "</div>"
      ],
      "text/plain": [
       "                                                                                                     Hypothesis  \\\n",
       "0            Добавить два новых канала привлечения трафика, что позволит привлекать на 30% больше пользователей   \n",
       "1                                     Запустить собственную службу доставки, что сократит срок доставки заказов   \n",
       "2  Добавить блоки рекомендаций товаров на сайт интернет магазина, чтобы повысить конверсию и средний чек заказа   \n",
       "3           Изменить структура категорий, что увеличит конверсию, т.к. пользователи быстрее найдут нужный товар   \n",
       "4                              Изменить цвет фона главной страницы, чтобы увеличить вовлеченность пользователей   \n",
       "5                      Добавить страницу отзывов клиентов о магазине, что позволит увеличить количество заказов   \n",
       "6          Показать на главной странице баннеры с актуальными акциями и распродажами, чтобы увеличить конверсию   \n",
       "7              Добавить форму подписки на все основные страницы, чтобы собрать базу клиентов для email-рассылок   \n",
       "8                                                       Запустить акцию, дающую скидку на товар в день рождения   \n",
       "\n",
       "   Reach  Impact  Confidence  Efforts  \n",
       "0      3      10           8        6  \n",
       "1      2       5           4       10  \n",
       "2      8       3           7        3  \n",
       "3      8       3           3        8  \n",
       "4      3       1           1        1  \n",
       "5      3       2           2        3  \n",
       "6      5       3           8        3  \n",
       "7     10       7           8        5  \n",
       "8      1       9           9        5  "
      ]
     },
     "execution_count": 2,
     "metadata": {},
     "output_type": "execute_result"
    }
   ],
   "source": [
    "try:\n",
    "    hypothesis = pd.read_csv('/datasets/hypothesis.csv', sep=',')\n",
    "except:\n",
    "    hypothesis = pd.read_csv('/Users/mariiasergeeva/Desktop/hypothesis.csv',\n",
    "                             sep=',')\n",
    "hypothesis"
   ]
  },
  {
   "cell_type": "markdown",
   "id": "32c2e408",
   "metadata": {},
   "source": [
    "Оценим данные сверху:"
   ]
  },
  {
   "cell_type": "code",
   "execution_count": 3,
   "id": "900ab341",
   "metadata": {
    "ExecuteTime": {
     "end_time": "2024-12-14T08:59:13.311903Z",
     "start_time": "2024-12-14T08:59:13.308920Z"
    }
   },
   "outputs": [
    {
     "name": "stdout",
     "output_type": "stream",
     "text": [
      "<class 'pandas.core.frame.DataFrame'>\n",
      "RangeIndex: 9 entries, 0 to 8\n",
      "Data columns (total 5 columns):\n",
      " #   Column      Non-Null Count  Dtype \n",
      "---  ------      --------------  ----- \n",
      " 0   Hypothesis  9 non-null      object\n",
      " 1   Reach       9 non-null      int64 \n",
      " 2   Impact      9 non-null      int64 \n",
      " 3   Confidence  9 non-null      int64 \n",
      " 4   Efforts     9 non-null      int64 \n",
      "dtypes: int64(4), object(1)\n",
      "memory usage: 492.0+ bytes\n"
     ]
    }
   ],
   "source": [
    "hypothesis.info()"
   ]
  },
  {
   "cell_type": "markdown",
   "id": "4c6f1f93",
   "metadata": {},
   "source": [
    "## Приоритизация"
   ]
  },
  {
   "cell_type": "markdown",
   "id": "b2e1dc72",
   "metadata": {},
   "source": [
    "Приведем колонки к нижнему регистру для удобства:"
   ]
  },
  {
   "cell_type": "code",
   "execution_count": 4,
   "id": "e8b87ff7",
   "metadata": {
    "ExecuteTime": {
     "end_time": "2024-12-14T08:59:13.315299Z",
     "start_time": "2024-12-14T08:59:13.312560Z"
    }
   },
   "outputs": [
    {
     "data": {
      "text/html": [
       "<div>\n",
       "<style scoped>\n",
       "    .dataframe tbody tr th:only-of-type {\n",
       "        vertical-align: middle;\n",
       "    }\n",
       "\n",
       "    .dataframe tbody tr th {\n",
       "        vertical-align: top;\n",
       "    }\n",
       "\n",
       "    .dataframe thead th {\n",
       "        text-align: right;\n",
       "    }\n",
       "</style>\n",
       "<table border=\"1\" class=\"dataframe\">\n",
       "  <thead>\n",
       "    <tr style=\"text-align: right;\">\n",
       "      <th></th>\n",
       "      <th>hypothesis</th>\n",
       "      <th>reach</th>\n",
       "      <th>impact</th>\n",
       "      <th>confidence</th>\n",
       "      <th>efforts</th>\n",
       "    </tr>\n",
       "  </thead>\n",
       "  <tbody>\n",
       "    <tr>\n",
       "      <th>0</th>\n",
       "      <td>Добавить два новых канала привлечения трафика, что позволит привлекать на 30% больше пользователей</td>\n",
       "      <td>3</td>\n",
       "      <td>10</td>\n",
       "      <td>8</td>\n",
       "      <td>6</td>\n",
       "    </tr>\n",
       "    <tr>\n",
       "      <th>1</th>\n",
       "      <td>Запустить собственную службу доставки, что сократит срок доставки заказов</td>\n",
       "      <td>2</td>\n",
       "      <td>5</td>\n",
       "      <td>4</td>\n",
       "      <td>10</td>\n",
       "    </tr>\n",
       "    <tr>\n",
       "      <th>2</th>\n",
       "      <td>Добавить блоки рекомендаций товаров на сайт интернет магазина, чтобы повысить конверсию и средний чек заказа</td>\n",
       "      <td>8</td>\n",
       "      <td>3</td>\n",
       "      <td>7</td>\n",
       "      <td>3</td>\n",
       "    </tr>\n",
       "    <tr>\n",
       "      <th>3</th>\n",
       "      <td>Изменить структура категорий, что увеличит конверсию, т.к. пользователи быстрее найдут нужный товар</td>\n",
       "      <td>8</td>\n",
       "      <td>3</td>\n",
       "      <td>3</td>\n",
       "      <td>8</td>\n",
       "    </tr>\n",
       "    <tr>\n",
       "      <th>4</th>\n",
       "      <td>Изменить цвет фона главной страницы, чтобы увеличить вовлеченность пользователей</td>\n",
       "      <td>3</td>\n",
       "      <td>1</td>\n",
       "      <td>1</td>\n",
       "      <td>1</td>\n",
       "    </tr>\n",
       "    <tr>\n",
       "      <th>5</th>\n",
       "      <td>Добавить страницу отзывов клиентов о магазине, что позволит увеличить количество заказов</td>\n",
       "      <td>3</td>\n",
       "      <td>2</td>\n",
       "      <td>2</td>\n",
       "      <td>3</td>\n",
       "    </tr>\n",
       "    <tr>\n",
       "      <th>6</th>\n",
       "      <td>Показать на главной странице баннеры с актуальными акциями и распродажами, чтобы увеличить конверсию</td>\n",
       "      <td>5</td>\n",
       "      <td>3</td>\n",
       "      <td>8</td>\n",
       "      <td>3</td>\n",
       "    </tr>\n",
       "    <tr>\n",
       "      <th>7</th>\n",
       "      <td>Добавить форму подписки на все основные страницы, чтобы собрать базу клиентов для email-рассылок</td>\n",
       "      <td>10</td>\n",
       "      <td>7</td>\n",
       "      <td>8</td>\n",
       "      <td>5</td>\n",
       "    </tr>\n",
       "    <tr>\n",
       "      <th>8</th>\n",
       "      <td>Запустить акцию, дающую скидку на товар в день рождения</td>\n",
       "      <td>1</td>\n",
       "      <td>9</td>\n",
       "      <td>9</td>\n",
       "      <td>5</td>\n",
       "    </tr>\n",
       "  </tbody>\n",
       "</table>\n",
       "</div>"
      ],
      "text/plain": [
       "                                                                                                     hypothesis  \\\n",
       "0            Добавить два новых канала привлечения трафика, что позволит привлекать на 30% больше пользователей   \n",
       "1                                     Запустить собственную службу доставки, что сократит срок доставки заказов   \n",
       "2  Добавить блоки рекомендаций товаров на сайт интернет магазина, чтобы повысить конверсию и средний чек заказа   \n",
       "3           Изменить структура категорий, что увеличит конверсию, т.к. пользователи быстрее найдут нужный товар   \n",
       "4                              Изменить цвет фона главной страницы, чтобы увеличить вовлеченность пользователей   \n",
       "5                      Добавить страницу отзывов клиентов о магазине, что позволит увеличить количество заказов   \n",
       "6          Показать на главной странице баннеры с актуальными акциями и распродажами, чтобы увеличить конверсию   \n",
       "7              Добавить форму подписки на все основные страницы, чтобы собрать базу клиентов для email-рассылок   \n",
       "8                                                       Запустить акцию, дающую скидку на товар в день рождения   \n",
       "\n",
       "   reach  impact  confidence  efforts  \n",
       "0      3      10           8        6  \n",
       "1      2       5           4       10  \n",
       "2      8       3           7        3  \n",
       "3      8       3           3        8  \n",
       "4      3       1           1        1  \n",
       "5      3       2           2        3  \n",
       "6      5       3           8        3  \n",
       "7     10       7           8        5  \n",
       "8      1       9           9        5  "
      ]
     },
     "execution_count": 4,
     "metadata": {},
     "output_type": "execute_result"
    }
   ],
   "source": [
    "hypothesis = hypothesis.rename(columns=str.lower)\n",
    "hypothesis"
   ]
  },
  {
   "cell_type": "markdown",
   "id": "78945646",
   "metadata": {},
   "source": [
    "### Метод ICE"
   ]
  },
  {
   "cell_type": "markdown",
   "id": "260f6ed0",
   "metadata": {},
   "source": [
    "Метод ICE используется для приоритизации гипотез на основе их потенциального влияния и затрат на реализацию. \n",
    "\n",
    "**Включает три компонента:** \n",
    "- Impact (влияние) \n",
    "- Confidence (уверенность)\n",
    "- Effort (затраты)\n",
    "\n",
    "**Рассчитывается по формуле:**\n",
    "\n",
    "$$ \\text{ICE Score} = \\frac{\\text{Impact} \\times \\text{Confidence}}{\\text{Effort}} $$"
   ]
  },
  {
   "cell_type": "code",
   "execution_count": 5,
   "id": "b6e03a37",
   "metadata": {
    "ExecuteTime": {
     "end_time": "2024-12-14T08:59:13.319720Z",
     "start_time": "2024-12-14T08:59:13.315858Z"
    }
   },
   "outputs": [
    {
     "data": {
      "text/html": [
       "<div>\n",
       "<style scoped>\n",
       "    .dataframe tbody tr th:only-of-type {\n",
       "        vertical-align: middle;\n",
       "    }\n",
       "\n",
       "    .dataframe tbody tr th {\n",
       "        vertical-align: top;\n",
       "    }\n",
       "\n",
       "    .dataframe thead th {\n",
       "        text-align: right;\n",
       "    }\n",
       "</style>\n",
       "<table border=\"1\" class=\"dataframe\">\n",
       "  <thead>\n",
       "    <tr style=\"text-align: right;\">\n",
       "      <th></th>\n",
       "      <th>hypothesis</th>\n",
       "      <th>ice</th>\n",
       "    </tr>\n",
       "  </thead>\n",
       "  <tbody>\n",
       "    <tr>\n",
       "      <th>8</th>\n",
       "      <td>Запустить акцию, дающую скидку на товар в день рождения</td>\n",
       "      <td>16.0</td>\n",
       "    </tr>\n",
       "    <tr>\n",
       "      <th>0</th>\n",
       "      <td>Добавить два новых канала привлечения трафика, что позволит привлекать на 30% больше пользователей</td>\n",
       "      <td>13.0</td>\n",
       "    </tr>\n",
       "    <tr>\n",
       "      <th>7</th>\n",
       "      <td>Добавить форму подписки на все основные страницы, чтобы собрать базу клиентов для email-рассылок</td>\n",
       "      <td>11.0</td>\n",
       "    </tr>\n",
       "    <tr>\n",
       "      <th>6</th>\n",
       "      <td>Показать на главной странице баннеры с актуальными акциями и распродажами, чтобы увеличить конверсию</td>\n",
       "      <td>8.0</td>\n",
       "    </tr>\n",
       "    <tr>\n",
       "      <th>2</th>\n",
       "      <td>Добавить блоки рекомендаций товаров на сайт интернет магазина, чтобы повысить конверсию и средний чек заказа</td>\n",
       "      <td>7.0</td>\n",
       "    </tr>\n",
       "    <tr>\n",
       "      <th>1</th>\n",
       "      <td>Запустить собственную службу доставки, что сократит срок доставки заказов</td>\n",
       "      <td>2.0</td>\n",
       "    </tr>\n",
       "    <tr>\n",
       "      <th>5</th>\n",
       "      <td>Добавить страницу отзывов клиентов о магазине, что позволит увеличить количество заказов</td>\n",
       "      <td>1.0</td>\n",
       "    </tr>\n",
       "    <tr>\n",
       "      <th>3</th>\n",
       "      <td>Изменить структура категорий, что увеличит конверсию, т.к. пользователи быстрее найдут нужный товар</td>\n",
       "      <td>1.0</td>\n",
       "    </tr>\n",
       "    <tr>\n",
       "      <th>4</th>\n",
       "      <td>Изменить цвет фона главной страницы, чтобы увеличить вовлеченность пользователей</td>\n",
       "      <td>1.0</td>\n",
       "    </tr>\n",
       "  </tbody>\n",
       "</table>\n",
       "</div>"
      ],
      "text/plain": [
       "                                                                                                     hypothesis  \\\n",
       "8                                                       Запустить акцию, дающую скидку на товар в день рождения   \n",
       "0            Добавить два новых канала привлечения трафика, что позволит привлекать на 30% больше пользователей   \n",
       "7              Добавить форму подписки на все основные страницы, чтобы собрать базу клиентов для email-рассылок   \n",
       "6          Показать на главной странице баннеры с актуальными акциями и распродажами, чтобы увеличить конверсию   \n",
       "2  Добавить блоки рекомендаций товаров на сайт интернет магазина, чтобы повысить конверсию и средний чек заказа   \n",
       "1                                     Запустить собственную службу доставки, что сократит срок доставки заказов   \n",
       "5                      Добавить страницу отзывов клиентов о магазине, что позволит увеличить количество заказов   \n",
       "3           Изменить структура категорий, что увеличит конверсию, т.к. пользователи быстрее найдут нужный товар   \n",
       "4                              Изменить цвет фона главной страницы, чтобы увеличить вовлеченность пользователей   \n",
       "\n",
       "    ice  \n",
       "8  16.0  \n",
       "0  13.0  \n",
       "7  11.0  \n",
       "6   8.0  \n",
       "2   7.0  \n",
       "1   2.0  \n",
       "5   1.0  \n",
       "3   1.0  \n",
       "4   1.0  "
      ]
     },
     "execution_count": 5,
     "metadata": {},
     "output_type": "execute_result"
    }
   ],
   "source": [
    "hypothesis['ice'] = (hypothesis['impact'] *\n",
    "                     hypothesis['confidence']) / hypothesis['efforts']\n",
    "sorted_data_ice = hypothesis.sort_values(by='ice', ascending=False)\n",
    "sorted_data_ice = round(sorted_data_ice[['hypothesis', 'ice']], 0)\n",
    "sorted_data_ice"
   ]
  },
  {
   "cell_type": "markdown",
   "id": "caea85d5",
   "metadata": {},
   "source": [
    "### Метод RICE"
   ]
  },
  {
   "cell_type": "markdown",
   "id": "6b3ee68d",
   "metadata": {},
   "source": [
    "RICE Score является расширением метода ICE и добавляет еще один фактор — Reach (охват). Это позволяет более точно оценить, какое воздействие на бизнес окажет реализация той или иной гипотезы.\n",
    "\n",
    "**Включает четыре компонента:**\n",
    "- Reach (охват)\n",
    "- Impact (влияние) \n",
    "- Confidence (уверенность)\n",
    "- Effort (затраты)\n",
    "\n",
    "**Рассчитывается по формуле:**\n",
    "\n",
    "$$ \\text{RICE Score} = \\frac{\\text{Reach} \\times \\text{Impact} \\times \\text{Confidence}}{\\text{Effort}} $$"
   ]
  },
  {
   "cell_type": "code",
   "execution_count": 6,
   "id": "a0607376",
   "metadata": {
    "ExecuteTime": {
     "end_time": "2024-12-14T08:59:13.324225Z",
     "start_time": "2024-12-14T08:59:13.320497Z"
    }
   },
   "outputs": [
    {
     "data": {
      "text/html": [
       "<div>\n",
       "<style scoped>\n",
       "    .dataframe tbody tr th:only-of-type {\n",
       "        vertical-align: middle;\n",
       "    }\n",
       "\n",
       "    .dataframe tbody tr th {\n",
       "        vertical-align: top;\n",
       "    }\n",
       "\n",
       "    .dataframe thead th {\n",
       "        text-align: right;\n",
       "    }\n",
       "</style>\n",
       "<table border=\"1\" class=\"dataframe\">\n",
       "  <thead>\n",
       "    <tr style=\"text-align: right;\">\n",
       "      <th></th>\n",
       "      <th>hypothesis</th>\n",
       "      <th>rice</th>\n",
       "    </tr>\n",
       "  </thead>\n",
       "  <tbody>\n",
       "    <tr>\n",
       "      <th>7</th>\n",
       "      <td>Добавить форму подписки на все основные страницы, чтобы собрать базу клиентов для email-рассылок</td>\n",
       "      <td>112.0</td>\n",
       "    </tr>\n",
       "    <tr>\n",
       "      <th>2</th>\n",
       "      <td>Добавить блоки рекомендаций товаров на сайт интернет магазина, чтобы повысить конверсию и средний чек заказа</td>\n",
       "      <td>56.0</td>\n",
       "    </tr>\n",
       "    <tr>\n",
       "      <th>0</th>\n",
       "      <td>Добавить два новых канала привлечения трафика, что позволит привлекать на 30% больше пользователей</td>\n",
       "      <td>40.0</td>\n",
       "    </tr>\n",
       "    <tr>\n",
       "      <th>6</th>\n",
       "      <td>Показать на главной странице баннеры с актуальными акциями и распродажами, чтобы увеличить конверсию</td>\n",
       "      <td>40.0</td>\n",
       "    </tr>\n",
       "    <tr>\n",
       "      <th>8</th>\n",
       "      <td>Запустить акцию, дающую скидку на товар в день рождения</td>\n",
       "      <td>16.2</td>\n",
       "    </tr>\n",
       "    <tr>\n",
       "      <th>3</th>\n",
       "      <td>Изменить структура категорий, что увеличит конверсию, т.к. пользователи быстрее найдут нужный товар</td>\n",
       "      <td>9.0</td>\n",
       "    </tr>\n",
       "    <tr>\n",
       "      <th>1</th>\n",
       "      <td>Запустить собственную службу доставки, что сократит срок доставки заказов</td>\n",
       "      <td>4.0</td>\n",
       "    </tr>\n",
       "    <tr>\n",
       "      <th>5</th>\n",
       "      <td>Добавить страницу отзывов клиентов о магазине, что позволит увеличить количество заказов</td>\n",
       "      <td>4.0</td>\n",
       "    </tr>\n",
       "    <tr>\n",
       "      <th>4</th>\n",
       "      <td>Изменить цвет фона главной страницы, чтобы увеличить вовлеченность пользователей</td>\n",
       "      <td>3.0</td>\n",
       "    </tr>\n",
       "  </tbody>\n",
       "</table>\n",
       "</div>"
      ],
      "text/plain": [
       "                                                                                                     hypothesis  \\\n",
       "7              Добавить форму подписки на все основные страницы, чтобы собрать базу клиентов для email-рассылок   \n",
       "2  Добавить блоки рекомендаций товаров на сайт интернет магазина, чтобы повысить конверсию и средний чек заказа   \n",
       "0            Добавить два новых канала привлечения трафика, что позволит привлекать на 30% больше пользователей   \n",
       "6          Показать на главной странице баннеры с актуальными акциями и распродажами, чтобы увеличить конверсию   \n",
       "8                                                       Запустить акцию, дающую скидку на товар в день рождения   \n",
       "3           Изменить структура категорий, что увеличит конверсию, т.к. пользователи быстрее найдут нужный товар   \n",
       "1                                     Запустить собственную службу доставки, что сократит срок доставки заказов   \n",
       "5                      Добавить страницу отзывов клиентов о магазине, что позволит увеличить количество заказов   \n",
       "4                              Изменить цвет фона главной страницы, чтобы увеличить вовлеченность пользователей   \n",
       "\n",
       "    rice  \n",
       "7  112.0  \n",
       "2   56.0  \n",
       "0   40.0  \n",
       "6   40.0  \n",
       "8   16.2  \n",
       "3    9.0  \n",
       "1    4.0  \n",
       "5    4.0  \n",
       "4    3.0  "
      ]
     },
     "execution_count": 6,
     "metadata": {},
     "output_type": "execute_result"
    }
   ],
   "source": [
    "hypothesis['rice'] = (hypothesis['reach'] * hypothesis['impact'] *\n",
    "                      hypothesis['confidence']) / hypothesis['efforts']\n",
    "sorted_data_rice = hypothesis.sort_values(by='rice', ascending=False)\n",
    "sorted_data_rice = sorted_data_rice[['hypothesis', 'rice']]\n",
    "sorted_data_rice"
   ]
  },
  {
   "cell_type": "markdown",
   "id": "048f3186",
   "metadata": {},
   "source": [
    "Объединим результаты приоритезаций и определим ТОП-3 гипотез:"
   ]
  },
  {
   "cell_type": "code",
   "execution_count": 7,
   "id": "65ba30b2",
   "metadata": {
    "ExecuteTime": {
     "end_time": "2024-12-14T08:59:13.360523Z",
     "start_time": "2024-12-14T08:59:13.324815Z"
    },
    "scrolled": true
   },
   "outputs": [
    {
     "data": {
      "text/html": [
       "<style type=\"text/css\">\n",
       "#T_dfee3_row0_col1, #T_dfee3_row1_col1, #T_dfee3_row1_col2, #T_dfee3_row2_col1, #T_dfee3_row2_col2, #T_dfee3_row4_col2 {\n",
       "  background-color: lightyellow;\n",
       "}\n",
       "</style>\n",
       "<table id=\"T_dfee3\">\n",
       "  <thead>\n",
       "    <tr>\n",
       "      <th class=\"blank level0\" >&nbsp;</th>\n",
       "      <th id=\"T_dfee3_level0_col0\" class=\"col_heading level0 col0\" >hypothesis</th>\n",
       "      <th id=\"T_dfee3_level0_col1\" class=\"col_heading level0 col1\" >ice</th>\n",
       "      <th id=\"T_dfee3_level0_col2\" class=\"col_heading level0 col2\" >rice</th>\n",
       "    </tr>\n",
       "  </thead>\n",
       "  <tbody>\n",
       "    <tr>\n",
       "      <th id=\"T_dfee3_level0_row0\" class=\"row_heading level0 row0\" >0</th>\n",
       "      <td id=\"T_dfee3_row0_col0\" class=\"data row0 col0\" >Запустить акцию, дающую скидку на товар в день рождения</td>\n",
       "      <td id=\"T_dfee3_row0_col1\" class=\"data row0 col1\" >16.000000</td>\n",
       "      <td id=\"T_dfee3_row0_col2\" class=\"data row0 col2\" >16.200000</td>\n",
       "    </tr>\n",
       "    <tr>\n",
       "      <th id=\"T_dfee3_level0_row1\" class=\"row_heading level0 row1\" >1</th>\n",
       "      <td id=\"T_dfee3_row1_col0\" class=\"data row1 col0\" >Добавить два новых канала привлечения трафика, что позволит привлекать на 30% больше пользователей</td>\n",
       "      <td id=\"T_dfee3_row1_col1\" class=\"data row1 col1\" >13.000000</td>\n",
       "      <td id=\"T_dfee3_row1_col2\" class=\"data row1 col2\" >40.000000</td>\n",
       "    </tr>\n",
       "    <tr>\n",
       "      <th id=\"T_dfee3_level0_row2\" class=\"row_heading level0 row2\" >2</th>\n",
       "      <td id=\"T_dfee3_row2_col0\" class=\"data row2 col0\" >Добавить форму подписки на все основные страницы, чтобы собрать базу клиентов для email-рассылок</td>\n",
       "      <td id=\"T_dfee3_row2_col1\" class=\"data row2 col1\" >11.000000</td>\n",
       "      <td id=\"T_dfee3_row2_col2\" class=\"data row2 col2\" >112.000000</td>\n",
       "    </tr>\n",
       "    <tr>\n",
       "      <th id=\"T_dfee3_level0_row3\" class=\"row_heading level0 row3\" >3</th>\n",
       "      <td id=\"T_dfee3_row3_col0\" class=\"data row3 col0\" >Показать на главной странице баннеры с актуальными акциями и распродажами, чтобы увеличить конверсию</td>\n",
       "      <td id=\"T_dfee3_row3_col1\" class=\"data row3 col1\" >8.000000</td>\n",
       "      <td id=\"T_dfee3_row3_col2\" class=\"data row3 col2\" >40.000000</td>\n",
       "    </tr>\n",
       "    <tr>\n",
       "      <th id=\"T_dfee3_level0_row4\" class=\"row_heading level0 row4\" >4</th>\n",
       "      <td id=\"T_dfee3_row4_col0\" class=\"data row4 col0\" >Добавить блоки рекомендаций товаров на сайт интернет магазина, чтобы повысить конверсию и средний чек заказа</td>\n",
       "      <td id=\"T_dfee3_row4_col1\" class=\"data row4 col1\" >7.000000</td>\n",
       "      <td id=\"T_dfee3_row4_col2\" class=\"data row4 col2\" >56.000000</td>\n",
       "    </tr>\n",
       "    <tr>\n",
       "      <th id=\"T_dfee3_level0_row5\" class=\"row_heading level0 row5\" >5</th>\n",
       "      <td id=\"T_dfee3_row5_col0\" class=\"data row5 col0\" >Запустить собственную службу доставки, что сократит срок доставки заказов</td>\n",
       "      <td id=\"T_dfee3_row5_col1\" class=\"data row5 col1\" >2.000000</td>\n",
       "      <td id=\"T_dfee3_row5_col2\" class=\"data row5 col2\" >4.000000</td>\n",
       "    </tr>\n",
       "    <tr>\n",
       "      <th id=\"T_dfee3_level0_row6\" class=\"row_heading level0 row6\" >6</th>\n",
       "      <td id=\"T_dfee3_row6_col0\" class=\"data row6 col0\" >Добавить страницу отзывов клиентов о магазине, что позволит увеличить количество заказов</td>\n",
       "      <td id=\"T_dfee3_row6_col1\" class=\"data row6 col1\" >1.000000</td>\n",
       "      <td id=\"T_dfee3_row6_col2\" class=\"data row6 col2\" >4.000000</td>\n",
       "    </tr>\n",
       "    <tr>\n",
       "      <th id=\"T_dfee3_level0_row7\" class=\"row_heading level0 row7\" >7</th>\n",
       "      <td id=\"T_dfee3_row7_col0\" class=\"data row7 col0\" >Изменить структура категорий, что увеличит конверсию, т.к. пользователи быстрее найдут нужный товар</td>\n",
       "      <td id=\"T_dfee3_row7_col1\" class=\"data row7 col1\" >1.000000</td>\n",
       "      <td id=\"T_dfee3_row7_col2\" class=\"data row7 col2\" >9.000000</td>\n",
       "    </tr>\n",
       "    <tr>\n",
       "      <th id=\"T_dfee3_level0_row8\" class=\"row_heading level0 row8\" >8</th>\n",
       "      <td id=\"T_dfee3_row8_col0\" class=\"data row8 col0\" >Изменить цвет фона главной страницы, чтобы увеличить вовлеченность пользователей</td>\n",
       "      <td id=\"T_dfee3_row8_col1\" class=\"data row8 col1\" >1.000000</td>\n",
       "      <td id=\"T_dfee3_row8_col2\" class=\"data row8 col2\" >3.000000</td>\n",
       "    </tr>\n",
       "  </tbody>\n",
       "</table>\n"
      ],
      "text/plain": [
       "<pandas.io.formats.style.Styler at 0x1624b3fd0>"
      ]
     },
     "execution_count": 7,
     "metadata": {},
     "output_type": "execute_result"
    }
   ],
   "source": [
    "#объединим данных по гипотезам\n",
    "merged_data = pd.merge(sorted_data_ice, sorted_data_rice, on='hypothesis')\n",
    "\n",
    "\n",
    "#соберем функцию для выделения ТОП-3 гипотез\n",
    "def highlight_max(data, color='lightyellow'):\n",
    "    attr = f'background-color: {color}'\n",
    "    #ТОП-3 в каждом столбце\n",
    "    max_ice = data.nlargest(3, 'ice').index\n",
    "    max_rice = data.nlargest(3, 'rice').index\n",
    "    df1 = pd.DataFrame('', index=data.index, columns=data.columns)\n",
    "    df1.loc[max_ice, 'ice'] = attr\n",
    "    df1.loc[max_rice, 'rice'] = attr\n",
    "    return df1\n",
    "\n",
    "\n",
    "styled_data = merged_data.style.apply(highlight_max, axis=None)\n",
    "\n",
    "styled_data"
   ]
  },
  {
   "cell_type": "markdown",
   "id": "b8b5c8c8",
   "metadata": {},
   "source": [
    "## Вывод"
   ]
  },
  {
   "cell_type": "markdown",
   "id": "ce8d1191",
   "metadata": {},
   "source": [
    "**Результаты приоритезации по методикам различаются:** \n",
    "- по **ICE** лидируют гипотезы, которые принесут максимальный результат при минимальных затратах, не завимо, на какое количество пользователей окажет влияние изменение.\n",
    "- по **RICE** же на первое место вышли те гипотезы, которые, не смотря на возможно большие трудозатраты, окажут максимальное влияние на пользователей продукта.\n",
    "\n",
    "Интересно отметить, что гипотеза **\"Добавить форму подписки на все основные страницы, чтобы собрать базу клиентов для email-рассылок\"** вошла в ТОП-3 обоих проранжированных списков. Что может указывать на ее **максимальный потенциал и приоритет**."
   ]
  },
  {
   "cell_type": "markdown",
   "id": "e8a61946",
   "metadata": {},
   "source": [
    "# Анализ A/B-теста"
   ]
  },
  {
   "cell_type": "markdown",
   "id": "5065ac0a",
   "metadata": {},
   "source": [
    "##  Обзор данных"
   ]
  },
  {
   "cell_type": "markdown",
   "id": "4e74d54b",
   "metadata": {},
   "source": [
    "### Заказы (orders)"
   ]
  },
  {
   "cell_type": "code",
   "execution_count": 8,
   "id": "8ab3ea52",
   "metadata": {
    "ExecuteTime": {
     "end_time": "2024-12-14T08:59:13.370516Z",
     "start_time": "2024-12-14T08:59:13.361328Z"
    },
    "scrolled": true
   },
   "outputs": [
    {
     "data": {
      "text/html": [
       "<div>\n",
       "<style scoped>\n",
       "    .dataframe tbody tr th:only-of-type {\n",
       "        vertical-align: middle;\n",
       "    }\n",
       "\n",
       "    .dataframe tbody tr th {\n",
       "        vertical-align: top;\n",
       "    }\n",
       "\n",
       "    .dataframe thead th {\n",
       "        text-align: right;\n",
       "    }\n",
       "</style>\n",
       "<table border=\"1\" class=\"dataframe\">\n",
       "  <thead>\n",
       "    <tr style=\"text-align: right;\">\n",
       "      <th></th>\n",
       "      <th>transactionId</th>\n",
       "      <th>visitorId</th>\n",
       "      <th>date</th>\n",
       "      <th>revenue</th>\n",
       "      <th>group</th>\n",
       "    </tr>\n",
       "  </thead>\n",
       "  <tbody>\n",
       "    <tr>\n",
       "      <th>662</th>\n",
       "      <td>1811671147</td>\n",
       "      <td>4266935830</td>\n",
       "      <td>2019-08-29</td>\n",
       "      <td>78990</td>\n",
       "      <td>A</td>\n",
       "    </tr>\n",
       "    <tr>\n",
       "      <th>78</th>\n",
       "      <td>773663763</td>\n",
       "      <td>3288820196</td>\n",
       "      <td>2019-08-16</td>\n",
       "      <td>40740</td>\n",
       "      <td>B</td>\n",
       "    </tr>\n",
       "    <tr>\n",
       "      <th>638</th>\n",
       "      <td>2184241291</td>\n",
       "      <td>2399568665</td>\n",
       "      <td>2019-08-09</td>\n",
       "      <td>3040</td>\n",
       "      <td>B</td>\n",
       "    </tr>\n",
       "  </tbody>\n",
       "</table>\n",
       "</div>"
      ],
      "text/plain": [
       "     transactionId   visitorId       date  revenue group\n",
       "662     1811671147  4266935830 2019-08-29    78990     A\n",
       "78       773663763  3288820196 2019-08-16    40740     B\n",
       "638     2184241291  2399568665 2019-08-09     3040     B"
      ]
     },
     "execution_count": 8,
     "metadata": {},
     "output_type": "execute_result"
    }
   ],
   "source": [
    "try:\n",
    "    orders = pd.read_csv('/datasets/orders.csv', sep=',')\n",
    "except:\n",
    "    orders = pd.read_csv('/Users/mariiasergeeva/Desktop/orders.csv', sep=',')\n",
    "\n",
    "orders['date'] = orders['date'].map(\n",
    "    lambda x: dt.datetime.strptime(x, '%Y-%m-%d'))\n",
    "\n",
    "orders.sample(3)"
   ]
  },
  {
   "cell_type": "markdown",
   "id": "7fb1881d",
   "metadata": {},
   "source": [
    "Проверим, что тип данных у даты тот, что нам нужен, заодно оценим массив на другие аномалии:"
   ]
  },
  {
   "cell_type": "code",
   "execution_count": 9,
   "id": "49351230",
   "metadata": {
    "ExecuteTime": {
     "end_time": "2024-12-14T08:59:13.374406Z",
     "start_time": "2024-12-14T08:59:13.371354Z"
    },
    "scrolled": true
   },
   "outputs": [
    {
     "name": "stdout",
     "output_type": "stream",
     "text": [
      "<class 'pandas.core.frame.DataFrame'>\n",
      "RangeIndex: 1197 entries, 0 to 1196\n",
      "Data columns (total 5 columns):\n",
      " #   Column         Non-Null Count  Dtype         \n",
      "---  ------         --------------  -----         \n",
      " 0   transactionId  1197 non-null   int64         \n",
      " 1   visitorId      1197 non-null   int64         \n",
      " 2   date           1197 non-null   datetime64[ns]\n",
      " 3   revenue        1197 non-null   int64         \n",
      " 4   group          1197 non-null   object        \n",
      "dtypes: datetime64[ns](1), int64(3), object(1)\n",
      "memory usage: 46.9+ KB\n"
     ]
    }
   ],
   "source": [
    "orders.info()"
   ]
  },
  {
   "cell_type": "markdown",
   "id": "2cd216c1",
   "metadata": {},
   "source": [
    "### Посетители (visitors)"
   ]
  },
  {
   "cell_type": "code",
   "execution_count": 10,
   "id": "5a4a3992",
   "metadata": {
    "ExecuteTime": {
     "end_time": "2024-12-14T08:59:13.379581Z",
     "start_time": "2024-12-14T08:59:13.375090Z"
    },
    "scrolled": false
   },
   "outputs": [
    {
     "data": {
      "text/html": [
       "<div>\n",
       "<style scoped>\n",
       "    .dataframe tbody tr th:only-of-type {\n",
       "        vertical-align: middle;\n",
       "    }\n",
       "\n",
       "    .dataframe tbody tr th {\n",
       "        vertical-align: top;\n",
       "    }\n",
       "\n",
       "    .dataframe thead th {\n",
       "        text-align: right;\n",
       "    }\n",
       "</style>\n",
       "<table border=\"1\" class=\"dataframe\">\n",
       "  <thead>\n",
       "    <tr style=\"text-align: right;\">\n",
       "      <th></th>\n",
       "      <th>date</th>\n",
       "      <th>group</th>\n",
       "      <th>visitors</th>\n",
       "    </tr>\n",
       "  </thead>\n",
       "  <tbody>\n",
       "    <tr>\n",
       "      <th>50</th>\n",
       "      <td>2019-08-20</td>\n",
       "      <td>B</td>\n",
       "      <td>560</td>\n",
       "    </tr>\n",
       "    <tr>\n",
       "      <th>31</th>\n",
       "      <td>2019-08-01</td>\n",
       "      <td>B</td>\n",
       "      <td>713</td>\n",
       "    </tr>\n",
       "    <tr>\n",
       "      <th>0</th>\n",
       "      <td>2019-08-01</td>\n",
       "      <td>A</td>\n",
       "      <td>719</td>\n",
       "    </tr>\n",
       "  </tbody>\n",
       "</table>\n",
       "</div>"
      ],
      "text/plain": [
       "         date group  visitors\n",
       "50 2019-08-20     B       560\n",
       "31 2019-08-01     B       713\n",
       "0  2019-08-01     A       719"
      ]
     },
     "execution_count": 10,
     "metadata": {},
     "output_type": "execute_result"
    }
   ],
   "source": [
    "try:\n",
    "    visitors = pd.read_csv('/datasets/visitors.csv', sep=',')\n",
    "except:\n",
    "    visitors = pd.read_csv('/Users/mariiasergeeva/Desktop/visitors.csv',\n",
    "                           sep=',')\n",
    "\n",
    "visitors['date'] = visitors['date'].map(\n",
    "    lambda x: dt.datetime.strptime(x, '%Y-%m-%d'))\n",
    "\n",
    "visitors.sample(3)"
   ]
  },
  {
   "cell_type": "markdown",
   "id": "31be0c15",
   "metadata": {},
   "source": [
    "Так же проверим, что тип данных у даты тот, что нам нужен. Заодно оценим массив на другие аномалии:"
   ]
  },
  {
   "cell_type": "code",
   "execution_count": 11,
   "id": "44ee69f2",
   "metadata": {
    "ExecuteTime": {
     "end_time": "2024-12-14T08:59:13.382980Z",
     "start_time": "2024-12-14T08:59:13.380241Z"
    },
    "scrolled": true
   },
   "outputs": [
    {
     "name": "stdout",
     "output_type": "stream",
     "text": [
      "<class 'pandas.core.frame.DataFrame'>\n",
      "RangeIndex: 62 entries, 0 to 61\n",
      "Data columns (total 3 columns):\n",
      " #   Column    Non-Null Count  Dtype         \n",
      "---  ------    --------------  -----         \n",
      " 0   date      62 non-null     datetime64[ns]\n",
      " 1   group     62 non-null     object        \n",
      " 2   visitors  62 non-null     int64         \n",
      "dtypes: datetime64[ns](1), int64(1), object(1)\n",
      "memory usage: 1.6+ KB\n"
     ]
    }
   ],
   "source": [
    "visitors.info()"
   ]
  },
  {
   "cell_type": "markdown",
   "id": "aa39ee11",
   "metadata": {},
   "source": [
    "## Предобработка данных"
   ]
  },
  {
   "cell_type": "markdown",
   "id": "54826d3f",
   "metadata": {},
   "source": [
    "### Дубликаты"
   ]
  },
  {
   "cell_type": "code",
   "execution_count": 12,
   "id": "0db7cc9b",
   "metadata": {
    "ExecuteTime": {
     "end_time": "2024-12-14T08:59:13.387461Z",
     "start_time": "2024-12-14T08:59:13.385338Z"
    }
   },
   "outputs": [
    {
     "name": "stdout",
     "output_type": "stream",
     "text": [
      "Кол-во дубликатов в заказах = 0\n",
      "Кол-во дубликатов в визитах = 0\n"
     ]
    }
   ],
   "source": [
    "print(\"Кол-во дубликатов в заказах =\", orders.duplicated().sum())\n",
    "print(\"Кол-во дубликатов в визитах =\", visitors.duplicated().sum())"
   ]
  },
  {
   "cell_type": "markdown",
   "id": "ac038dea",
   "metadata": {},
   "source": [
    "### Распределение пользователей по группам тестирования"
   ]
  },
  {
   "cell_type": "markdown",
   "id": "15aaad3f",
   "metadata": {},
   "source": [
    "Посчитаем пользователей в каждой группе:"
   ]
  },
  {
   "cell_type": "code",
   "execution_count": 13,
   "id": "f30331e7",
   "metadata": {
    "ExecuteTime": {
     "end_time": "2024-12-14T08:59:13.390612Z",
     "start_time": "2024-12-14T08:59:13.388150Z"
    }
   },
   "outputs": [
    {
     "name": "stdout",
     "output_type": "stream",
     "text": [
      "group\n",
      "A    557\n",
      "B    640\n",
      "Name: visitorId, dtype: int64\n"
     ]
    }
   ],
   "source": [
    "print(orders.groupby('group')['visitorId'].count())"
   ]
  },
  {
   "cell_type": "markdown",
   "id": "d94a7ed1",
   "metadata": {},
   "source": [
    "Видим явный перекос в сторону группы В на 83 пользователя.\\\n",
    "Оценим, насколько много пользователей оказалось в обеих группах:"
   ]
  },
  {
   "cell_type": "code",
   "execution_count": 14,
   "id": "6c10964d",
   "metadata": {
    "ExecuteTime": {
     "end_time": "2024-12-14T08:59:13.394738Z",
     "start_time": "2024-12-14T08:59:13.391534Z"
    },
    "scrolled": true
   },
   "outputs": [
    {
     "name": "stdout",
     "output_type": "stream",
     "text": [
      "Пользователи, попавшие в обе группы: [8300375, 199603092, 232979603, 237748145, 276558944, 351125977, 393266494, 457167155, 471551937, 477780734, 818047933, 963407295, 1230306981, 1294878855, 1316129916, 1333886533, 1404934699, 1602967004, 1614305549, 1648269707, 1668030113, 1738359350, 1801183820, 1959144690, 2038680547, 2044997962, 2378935119, 2458001652, 2579882178, 2587333274, 2600415354, 2654030115, 2686716486, 2712142231, 2716752286, 2780786433, 2927087541, 2949041841, 2954449915, 3062433592, 3202540741, 3234906277, 3656415546, 3717692402, 3766097110, 3803269165, 3891541246, 3941795274, 3951559397, 3957174400, 3963646447, 3972127743, 3984495233, 4069496402, 4120364173, 4186807279, 4256040402, 4266935830]\n",
      "\n",
      "Количество пользователей, попавших в обе группы: 58\n"
     ]
    }
   ],
   "source": [
    "#находим пользователей, которые попали в обе группы\n",
    "users_in_both_groups = orders.groupby('visitorId')['group'].nunique()\n",
    "users_in_both_groups = users_in_both_groups[users_in_both_groups > 1].index\n",
    "\n",
    "if len(users_in_both_groups) > 0:\n",
    "    print(f'Пользователи, попавшие в обе группы: {list(users_in_both_groups)}')\n",
    "else:\n",
    "    print('Нет пользователей, попавших в обе группы')\n",
    "print()\n",
    "\n",
    "#почитаем пользователей, попавших в обе группы\n",
    "print(\n",
    "    f'Количество пользователей, попавших в обе группы: {len(users_in_both_groups)}'\n",
    ")"
   ]
  },
  {
   "cell_type": "markdown",
   "id": "1844afce",
   "metadata": {},
   "source": [
    "Узнаем, сколько вообще было пользователей:"
   ]
  },
  {
   "cell_type": "code",
   "execution_count": 15,
   "id": "45008229",
   "metadata": {
    "ExecuteTime": {
     "end_time": "2024-12-14T08:59:13.397512Z",
     "start_time": "2024-12-14T08:59:13.395324Z"
    }
   },
   "outputs": [
    {
     "data": {
      "text/plain": [
       "1031"
      ]
     },
     "execution_count": 15,
     "metadata": {},
     "output_type": "execute_result"
    }
   ],
   "source": [
    "len(orders['visitorId'].unique())"
   ]
  },
  {
   "cell_type": "markdown",
   "id": "8228eec0",
   "metadata": {},
   "source": [
    "Удаление 58 пользователей выглядит не критично для общего массива в 1031 пользователя.\\\n",
    "Но чтобы окончательно в этом убедиться, узнаем, насколько они повлияют на таблицу visitors:"
   ]
  },
  {
   "cell_type": "code",
   "execution_count": 16,
   "id": "61a70e60",
   "metadata": {
    "ExecuteTime": {
     "end_time": "2024-12-14T08:59:13.410244Z",
     "start_time": "2024-12-14T08:59:13.398051Z"
    },
    "scrolled": true
   },
   "outputs": [
    {
     "data": {
      "text/html": [
       "<div>\n",
       "<style scoped>\n",
       "    .dataframe tbody tr th:only-of-type {\n",
       "        vertical-align: middle;\n",
       "    }\n",
       "\n",
       "    .dataframe tbody tr th {\n",
       "        vertical-align: top;\n",
       "    }\n",
       "\n",
       "    .dataframe thead th {\n",
       "        text-align: right;\n",
       "    }\n",
       "</style>\n",
       "<table border=\"1\" class=\"dataframe\">\n",
       "  <thead>\n",
       "    <tr style=\"text-align: right;\">\n",
       "      <th></th>\n",
       "      <th>date</th>\n",
       "      <th>group</th>\n",
       "      <th>visitors_for_drop</th>\n",
       "      <th>drop_visitor_count</th>\n",
       "    </tr>\n",
       "  </thead>\n",
       "  <tbody>\n",
       "    <tr>\n",
       "      <th>0</th>\n",
       "      <td>2019-08-01</td>\n",
       "      <td>A</td>\n",
       "      <td>[4256040402]</td>\n",
       "      <td>1</td>\n",
       "    </tr>\n",
       "    <tr>\n",
       "      <th>1</th>\n",
       "      <td>2019-08-01</td>\n",
       "      <td>B</td>\n",
       "      <td>[8300375, 3062433592, 2716752286]</td>\n",
       "      <td>3</td>\n",
       "    </tr>\n",
       "    <tr>\n",
       "      <th>2</th>\n",
       "      <td>2019-08-02</td>\n",
       "      <td>A</td>\n",
       "      <td>[2716752286]</td>\n",
       "      <td>1</td>\n",
       "    </tr>\n",
       "    <tr>\n",
       "      <th>3</th>\n",
       "      <td>2019-08-02</td>\n",
       "      <td>B</td>\n",
       "      <td>[199603092]</td>\n",
       "      <td>1</td>\n",
       "    </tr>\n",
       "    <tr>\n",
       "      <th>4</th>\n",
       "      <td>2019-08-03</td>\n",
       "      <td>B</td>\n",
       "      <td>[3984495233, 1404934699]</td>\n",
       "      <td>2</td>\n",
       "    </tr>\n",
       "    <tr>\n",
       "      <th>5</th>\n",
       "      <td>2019-08-04</td>\n",
       "      <td>A</td>\n",
       "      <td>[3984495233, 2038680547, 3891541246, 2458001652]</td>\n",
       "      <td>4</td>\n",
       "    </tr>\n",
       "    <tr>\n",
       "      <th>6</th>\n",
       "      <td>2019-08-04</td>\n",
       "      <td>B</td>\n",
       "      <td>[3972127743, 2038680547, 3891541246]</td>\n",
       "      <td>3</td>\n",
       "    </tr>\n",
       "    <tr>\n",
       "      <th>7</th>\n",
       "      <td>2019-08-05</td>\n",
       "      <td>A</td>\n",
       "      <td>[3984495233, 471551937, 1801183820]</td>\n",
       "      <td>3</td>\n",
       "    </tr>\n",
       "    <tr>\n",
       "      <th>8</th>\n",
       "      <td>2019-08-05</td>\n",
       "      <td>B</td>\n",
       "      <td>[1801183820, 2458001652]</td>\n",
       "      <td>2</td>\n",
       "    </tr>\n",
       "    <tr>\n",
       "      <th>9</th>\n",
       "      <td>2019-08-06</td>\n",
       "      <td>A</td>\n",
       "      <td>[1333886533, 351125977, 2458001652]</td>\n",
       "      <td>3</td>\n",
       "    </tr>\n",
       "    <tr>\n",
       "      <th>10</th>\n",
       "      <td>2019-08-06</td>\n",
       "      <td>B</td>\n",
       "      <td>[2587333274, 2458001652, 2954449915, 2600415354]</td>\n",
       "      <td>4</td>\n",
       "    </tr>\n",
       "    <tr>\n",
       "      <th>11</th>\n",
       "      <td>2019-08-07</td>\n",
       "      <td>A</td>\n",
       "      <td>[8300375, 2458001652]</td>\n",
       "      <td>2</td>\n",
       "    </tr>\n",
       "    <tr>\n",
       "      <th>12</th>\n",
       "      <td>2019-08-07</td>\n",
       "      <td>B</td>\n",
       "      <td>[2587333274]</td>\n",
       "      <td>1</td>\n",
       "    </tr>\n",
       "    <tr>\n",
       "      <th>13</th>\n",
       "      <td>2019-08-08</td>\n",
       "      <td>A</td>\n",
       "      <td>[1602967004, 2587333274]</td>\n",
       "      <td>2</td>\n",
       "    </tr>\n",
       "    <tr>\n",
       "      <th>14</th>\n",
       "      <td>2019-08-08</td>\n",
       "      <td>B</td>\n",
       "      <td>[4256040402, 2458001652, 393266494, 3717692402, 2587333274]</td>\n",
       "      <td>5</td>\n",
       "    </tr>\n",
       "    <tr>\n",
       "      <th>15</th>\n",
       "      <td>2019-08-09</td>\n",
       "      <td>A</td>\n",
       "      <td>[1230306981, 1294878855, 3972127743]</td>\n",
       "      <td>3</td>\n",
       "    </tr>\n",
       "    <tr>\n",
       "      <th>16</th>\n",
       "      <td>2019-08-09</td>\n",
       "      <td>B</td>\n",
       "      <td>[1230306981, 2458001652, 3803269165, 2378935119, 1404934699]</td>\n",
       "      <td>5</td>\n",
       "    </tr>\n",
       "    <tr>\n",
       "      <th>17</th>\n",
       "      <td>2019-08-10</td>\n",
       "      <td>A</td>\n",
       "      <td>[2378935119]</td>\n",
       "      <td>1</td>\n",
       "    </tr>\n",
       "    <tr>\n",
       "      <th>18</th>\n",
       "      <td>2019-08-10</td>\n",
       "      <td>B</td>\n",
       "      <td>[2378935119]</td>\n",
       "      <td>1</td>\n",
       "    </tr>\n",
       "    <tr>\n",
       "      <th>19</th>\n",
       "      <td>2019-08-11</td>\n",
       "      <td>A</td>\n",
       "      <td>[1404934699, 2458001652]</td>\n",
       "      <td>2</td>\n",
       "    </tr>\n",
       "    <tr>\n",
       "      <th>20</th>\n",
       "      <td>2019-08-11</td>\n",
       "      <td>B</td>\n",
       "      <td>[3656415546]</td>\n",
       "      <td>1</td>\n",
       "    </tr>\n",
       "    <tr>\n",
       "      <th>21</th>\n",
       "      <td>2019-08-12</td>\n",
       "      <td>A</td>\n",
       "      <td>[4256040402, 276558944, 237748145, 3062433592, 199603092]</td>\n",
       "      <td>5</td>\n",
       "    </tr>\n",
       "    <tr>\n",
       "      <th>22</th>\n",
       "      <td>2019-08-12</td>\n",
       "      <td>B</td>\n",
       "      <td>[4069496402, 457167155, 3062433592]</td>\n",
       "      <td>3</td>\n",
       "    </tr>\n",
       "    <tr>\n",
       "      <th>23</th>\n",
       "      <td>2019-08-13</td>\n",
       "      <td>B</td>\n",
       "      <td>[2654030115]</td>\n",
       "      <td>1</td>\n",
       "    </tr>\n",
       "    <tr>\n",
       "      <th>24</th>\n",
       "      <td>2019-08-14</td>\n",
       "      <td>A</td>\n",
       "      <td>[2654030115, 3963646447, 4186807279, 2712142231, 2949041841, 963407295, 1614305549]</td>\n",
       "      <td>7</td>\n",
       "    </tr>\n",
       "    <tr>\n",
       "      <th>25</th>\n",
       "      <td>2019-08-14</td>\n",
       "      <td>B</td>\n",
       "      <td>[818047933, 3963646447, 471551937, 3803269165, 3717692402, 1668030113, 2949041841, 393266494]</td>\n",
       "      <td>8</td>\n",
       "    </tr>\n",
       "    <tr>\n",
       "      <th>26</th>\n",
       "      <td>2019-08-15</td>\n",
       "      <td>A</td>\n",
       "      <td>[4069496402, 199603092, 3803269165, 2378935119, 237748145]</td>\n",
       "      <td>5</td>\n",
       "    </tr>\n",
       "    <tr>\n",
       "      <th>27</th>\n",
       "      <td>2019-08-15</td>\n",
       "      <td>B</td>\n",
       "      <td>[963407295, 351125977, 3234906277, 237748145, 2038680547]</td>\n",
       "      <td>5</td>\n",
       "    </tr>\n",
       "    <tr>\n",
       "      <th>28</th>\n",
       "      <td>2019-08-16</td>\n",
       "      <td>B</td>\n",
       "      <td>[4256040402, 2712142231]</td>\n",
       "      <td>2</td>\n",
       "    </tr>\n",
       "    <tr>\n",
       "      <th>29</th>\n",
       "      <td>2019-08-17</td>\n",
       "      <td>A</td>\n",
       "      <td>[2378935119, 4256040402, 2954449915, 2038680547]</td>\n",
       "      <td>4</td>\n",
       "    </tr>\n",
       "    <tr>\n",
       "      <th>30</th>\n",
       "      <td>2019-08-17</td>\n",
       "      <td>B</td>\n",
       "      <td>[1648269707]</td>\n",
       "      <td>1</td>\n",
       "    </tr>\n",
       "    <tr>\n",
       "      <th>31</th>\n",
       "      <td>2019-08-18</td>\n",
       "      <td>A</td>\n",
       "      <td>[3234906277, 2579882178, 3957174400, 1648269707]</td>\n",
       "      <td>4</td>\n",
       "    </tr>\n",
       "    <tr>\n",
       "      <th>32</th>\n",
       "      <td>2019-08-18</td>\n",
       "      <td>B</td>\n",
       "      <td>[4256040402, 2579882178]</td>\n",
       "      <td>2</td>\n",
       "    </tr>\n",
       "    <tr>\n",
       "      <th>33</th>\n",
       "      <td>2019-08-19</td>\n",
       "      <td>A</td>\n",
       "      <td>[393266494]</td>\n",
       "      <td>1</td>\n",
       "    </tr>\n",
       "    <tr>\n",
       "      <th>34</th>\n",
       "      <td>2019-08-20</td>\n",
       "      <td>A</td>\n",
       "      <td>[4256040402, 237748145]</td>\n",
       "      <td>2</td>\n",
       "    </tr>\n",
       "    <tr>\n",
       "      <th>35</th>\n",
       "      <td>2019-08-21</td>\n",
       "      <td>A</td>\n",
       "      <td>[1614305549, 3717692402, 3941795274]</td>\n",
       "      <td>3</td>\n",
       "    </tr>\n",
       "    <tr>\n",
       "      <th>36</th>\n",
       "      <td>2019-08-21</td>\n",
       "      <td>B</td>\n",
       "      <td>[4186807279, 3717692402]</td>\n",
       "      <td>2</td>\n",
       "    </tr>\n",
       "    <tr>\n",
       "      <th>37</th>\n",
       "      <td>2019-08-22</td>\n",
       "      <td>A</td>\n",
       "      <td>[2038680547, 2378935119, 1738359350, 2458001652, 199603092, 3891541246]</td>\n",
       "      <td>6</td>\n",
       "    </tr>\n",
       "    <tr>\n",
       "      <th>38</th>\n",
       "      <td>2019-08-22</td>\n",
       "      <td>B</td>\n",
       "      <td>[276558944, 457167155, 3941795274]</td>\n",
       "      <td>3</td>\n",
       "    </tr>\n",
       "    <tr>\n",
       "      <th>39</th>\n",
       "      <td>2019-08-23</td>\n",
       "      <td>A</td>\n",
       "      <td>[3656415546, 2686716486, 2927087541, 4256040402, 457167155]</td>\n",
       "      <td>5</td>\n",
       "    </tr>\n",
       "    <tr>\n",
       "      <th>40</th>\n",
       "      <td>2019-08-23</td>\n",
       "      <td>B</td>\n",
       "      <td>[3803269165, 2686716486]</td>\n",
       "      <td>2</td>\n",
       "    </tr>\n",
       "    <tr>\n",
       "      <th>41</th>\n",
       "      <td>2019-08-24</td>\n",
       "      <td>A</td>\n",
       "      <td>[2044997962, 3202540741]</td>\n",
       "      <td>2</td>\n",
       "    </tr>\n",
       "    <tr>\n",
       "      <th>42</th>\n",
       "      <td>2019-08-24</td>\n",
       "      <td>B</td>\n",
       "      <td>[3202540741, 2927087541]</td>\n",
       "      <td>2</td>\n",
       "    </tr>\n",
       "    <tr>\n",
       "      <th>43</th>\n",
       "      <td>2019-08-25</td>\n",
       "      <td>A</td>\n",
       "      <td>[1959144690, 2038680547]</td>\n",
       "      <td>2</td>\n",
       "    </tr>\n",
       "    <tr>\n",
       "      <th>44</th>\n",
       "      <td>2019-08-25</td>\n",
       "      <td>B</td>\n",
       "      <td>[2458001652, 2378935119]</td>\n",
       "      <td>2</td>\n",
       "    </tr>\n",
       "    <tr>\n",
       "      <th>45</th>\n",
       "      <td>2019-08-26</td>\n",
       "      <td>B</td>\n",
       "      <td>[2044997962, 3957174400]</td>\n",
       "      <td>2</td>\n",
       "    </tr>\n",
       "    <tr>\n",
       "      <th>46</th>\n",
       "      <td>2019-08-27</td>\n",
       "      <td>A</td>\n",
       "      <td>[237748145, 1668030113, 199603092, 1316129916, 4256040402]</td>\n",
       "      <td>5</td>\n",
       "    </tr>\n",
       "    <tr>\n",
       "      <th>47</th>\n",
       "      <td>2019-08-27</td>\n",
       "      <td>B</td>\n",
       "      <td>[1602967004, 1959144690, 4186807279, 2780786433, 1316129916]</td>\n",
       "      <td>5</td>\n",
       "    </tr>\n",
       "    <tr>\n",
       "      <th>48</th>\n",
       "      <td>2019-08-28</td>\n",
       "      <td>A</td>\n",
       "      <td>[2780786433, 818047933]</td>\n",
       "      <td>2</td>\n",
       "    </tr>\n",
       "    <tr>\n",
       "      <th>49</th>\n",
       "      <td>2019-08-28</td>\n",
       "      <td>B</td>\n",
       "      <td>[1668030113, 1738359350, 3717692402, 1294878855, 2378935119]</td>\n",
       "      <td>5</td>\n",
       "    </tr>\n",
       "    <tr>\n",
       "      <th>50</th>\n",
       "      <td>2019-08-29</td>\n",
       "      <td>A</td>\n",
       "      <td>[3951559397, 2780786433, 4120364173, 4266935830, 1614305549]</td>\n",
       "      <td>5</td>\n",
       "    </tr>\n",
       "    <tr>\n",
       "      <th>51</th>\n",
       "      <td>2019-08-29</td>\n",
       "      <td>B</td>\n",
       "      <td>[3951559397, 2038680547, 4266935830, 1614305549, 1333886533]</td>\n",
       "      <td>5</td>\n",
       "    </tr>\n",
       "    <tr>\n",
       "      <th>52</th>\n",
       "      <td>2019-08-30</td>\n",
       "      <td>A</td>\n",
       "      <td>[477780734, 3766097110]</td>\n",
       "      <td>2</td>\n",
       "    </tr>\n",
       "    <tr>\n",
       "      <th>53</th>\n",
       "      <td>2019-08-30</td>\n",
       "      <td>B</td>\n",
       "      <td>[477780734, 3766097110, 1738359350]</td>\n",
       "      <td>3</td>\n",
       "    </tr>\n",
       "    <tr>\n",
       "      <th>54</th>\n",
       "      <td>2019-08-31</td>\n",
       "      <td>A</td>\n",
       "      <td>[2600415354, 232979603, 1294878855, 4256040402]</td>\n",
       "      <td>4</td>\n",
       "    </tr>\n",
       "    <tr>\n",
       "      <th>55</th>\n",
       "      <td>2019-08-31</td>\n",
       "      <td>B</td>\n",
       "      <td>[232979603, 4256040402, 4120364173]</td>\n",
       "      <td>3</td>\n",
       "    </tr>\n",
       "  </tbody>\n",
       "</table>\n",
       "</div>"
      ],
      "text/plain": [
       "         date group  \\\n",
       "0  2019-08-01     A   \n",
       "1  2019-08-01     B   \n",
       "2  2019-08-02     A   \n",
       "3  2019-08-02     B   \n",
       "4  2019-08-03     B   \n",
       "5  2019-08-04     A   \n",
       "6  2019-08-04     B   \n",
       "7  2019-08-05     A   \n",
       "8  2019-08-05     B   \n",
       "9  2019-08-06     A   \n",
       "10 2019-08-06     B   \n",
       "11 2019-08-07     A   \n",
       "12 2019-08-07     B   \n",
       "13 2019-08-08     A   \n",
       "14 2019-08-08     B   \n",
       "15 2019-08-09     A   \n",
       "16 2019-08-09     B   \n",
       "17 2019-08-10     A   \n",
       "18 2019-08-10     B   \n",
       "19 2019-08-11     A   \n",
       "20 2019-08-11     B   \n",
       "21 2019-08-12     A   \n",
       "22 2019-08-12     B   \n",
       "23 2019-08-13     B   \n",
       "24 2019-08-14     A   \n",
       "25 2019-08-14     B   \n",
       "26 2019-08-15     A   \n",
       "27 2019-08-15     B   \n",
       "28 2019-08-16     B   \n",
       "29 2019-08-17     A   \n",
       "30 2019-08-17     B   \n",
       "31 2019-08-18     A   \n",
       "32 2019-08-18     B   \n",
       "33 2019-08-19     A   \n",
       "34 2019-08-20     A   \n",
       "35 2019-08-21     A   \n",
       "36 2019-08-21     B   \n",
       "37 2019-08-22     A   \n",
       "38 2019-08-22     B   \n",
       "39 2019-08-23     A   \n",
       "40 2019-08-23     B   \n",
       "41 2019-08-24     A   \n",
       "42 2019-08-24     B   \n",
       "43 2019-08-25     A   \n",
       "44 2019-08-25     B   \n",
       "45 2019-08-26     B   \n",
       "46 2019-08-27     A   \n",
       "47 2019-08-27     B   \n",
       "48 2019-08-28     A   \n",
       "49 2019-08-28     B   \n",
       "50 2019-08-29     A   \n",
       "51 2019-08-29     B   \n",
       "52 2019-08-30     A   \n",
       "53 2019-08-30     B   \n",
       "54 2019-08-31     A   \n",
       "55 2019-08-31     B   \n",
       "\n",
       "                                                                                visitors_for_drop  \\\n",
       "0                                                                                    [4256040402]   \n",
       "1                                                               [8300375, 3062433592, 2716752286]   \n",
       "2                                                                                    [2716752286]   \n",
       "3                                                                                     [199603092]   \n",
       "4                                                                        [3984495233, 1404934699]   \n",
       "5                                                [3984495233, 2038680547, 3891541246, 2458001652]   \n",
       "6                                                            [3972127743, 2038680547, 3891541246]   \n",
       "7                                                             [3984495233, 471551937, 1801183820]   \n",
       "8                                                                        [1801183820, 2458001652]   \n",
       "9                                                             [1333886533, 351125977, 2458001652]   \n",
       "10                                               [2587333274, 2458001652, 2954449915, 2600415354]   \n",
       "11                                                                          [8300375, 2458001652]   \n",
       "12                                                                                   [2587333274]   \n",
       "13                                                                       [1602967004, 2587333274]   \n",
       "14                                    [4256040402, 2458001652, 393266494, 3717692402, 2587333274]   \n",
       "15                                                           [1230306981, 1294878855, 3972127743]   \n",
       "16                                   [1230306981, 2458001652, 3803269165, 2378935119, 1404934699]   \n",
       "17                                                                                   [2378935119]   \n",
       "18                                                                                   [2378935119]   \n",
       "19                                                                       [1404934699, 2458001652]   \n",
       "20                                                                                   [3656415546]   \n",
       "21                                      [4256040402, 276558944, 237748145, 3062433592, 199603092]   \n",
       "22                                                            [4069496402, 457167155, 3062433592]   \n",
       "23                                                                                   [2654030115]   \n",
       "24            [2654030115, 3963646447, 4186807279, 2712142231, 2949041841, 963407295, 1614305549]   \n",
       "25  [818047933, 3963646447, 471551937, 3803269165, 3717692402, 1668030113, 2949041841, 393266494]   \n",
       "26                                     [4069496402, 199603092, 3803269165, 2378935119, 237748145]   \n",
       "27                                      [963407295, 351125977, 3234906277, 237748145, 2038680547]   \n",
       "28                                                                       [4256040402, 2712142231]   \n",
       "29                                               [2378935119, 4256040402, 2954449915, 2038680547]   \n",
       "30                                                                                   [1648269707]   \n",
       "31                                               [3234906277, 2579882178, 3957174400, 1648269707]   \n",
       "32                                                                       [4256040402, 2579882178]   \n",
       "33                                                                                    [393266494]   \n",
       "34                                                                        [4256040402, 237748145]   \n",
       "35                                                           [1614305549, 3717692402, 3941795274]   \n",
       "36                                                                       [4186807279, 3717692402]   \n",
       "37                        [2038680547, 2378935119, 1738359350, 2458001652, 199603092, 3891541246]   \n",
       "38                                                             [276558944, 457167155, 3941795274]   \n",
       "39                                    [3656415546, 2686716486, 2927087541, 4256040402, 457167155]   \n",
       "40                                                                       [3803269165, 2686716486]   \n",
       "41                                                                       [2044997962, 3202540741]   \n",
       "42                                                                       [3202540741, 2927087541]   \n",
       "43                                                                       [1959144690, 2038680547]   \n",
       "44                                                                       [2458001652, 2378935119]   \n",
       "45                                                                       [2044997962, 3957174400]   \n",
       "46                                     [237748145, 1668030113, 199603092, 1316129916, 4256040402]   \n",
       "47                                   [1602967004, 1959144690, 4186807279, 2780786433, 1316129916]   \n",
       "48                                                                        [2780786433, 818047933]   \n",
       "49                                   [1668030113, 1738359350, 3717692402, 1294878855, 2378935119]   \n",
       "50                                   [3951559397, 2780786433, 4120364173, 4266935830, 1614305549]   \n",
       "51                                   [3951559397, 2038680547, 4266935830, 1614305549, 1333886533]   \n",
       "52                                                                        [477780734, 3766097110]   \n",
       "53                                                            [477780734, 3766097110, 1738359350]   \n",
       "54                                                [2600415354, 232979603, 1294878855, 4256040402]   \n",
       "55                                                            [232979603, 4256040402, 4120364173]   \n",
       "\n",
       "    drop_visitor_count  \n",
       "0                    1  \n",
       "1                    3  \n",
       "2                    1  \n",
       "3                    1  \n",
       "4                    2  \n",
       "5                    4  \n",
       "6                    3  \n",
       "7                    3  \n",
       "8                    2  \n",
       "9                    3  \n",
       "10                   4  \n",
       "11                   2  \n",
       "12                   1  \n",
       "13                   2  \n",
       "14                   5  \n",
       "15                   3  \n",
       "16                   5  \n",
       "17                   1  \n",
       "18                   1  \n",
       "19                   2  \n",
       "20                   1  \n",
       "21                   5  \n",
       "22                   3  \n",
       "23                   1  \n",
       "24                   7  \n",
       "25                   8  \n",
       "26                   5  \n",
       "27                   5  \n",
       "28                   2  \n",
       "29                   4  \n",
       "30                   1  \n",
       "31                   4  \n",
       "32                   2  \n",
       "33                   1  \n",
       "34                   2  \n",
       "35                   3  \n",
       "36                   2  \n",
       "37                   6  \n",
       "38                   3  \n",
       "39                   5  \n",
       "40                   2  \n",
       "41                   2  \n",
       "42                   2  \n",
       "43                   2  \n",
       "44                   2  \n",
       "45                   2  \n",
       "46                   5  \n",
       "47                   5  \n",
       "48                   2  \n",
       "49                   5  \n",
       "50                   5  \n",
       "51                   5  \n",
       "52                   2  \n",
       "53                   3  \n",
       "54                   4  \n",
       "55                   3  "
      ]
     },
     "execution_count": 16,
     "metadata": {},
     "output_type": "execute_result"
    }
   ],
   "source": [
    "#соберем фрейм только по users_in_both_groups\n",
    "df_both_groups = orders[orders['visitorId'].isin(users_in_both_groups)][[\n",
    "    'date', 'group', 'visitorId'\n",
    "]]\n",
    "\n",
    "#сгруппируем по дате и группе, и считаем количество уникальных пользователей\n",
    "grouped_by_date_group = df_both_groups.groupby(\n",
    "    ['date', 'group'])['visitorId'].unique().reset_index()\n",
    "\n",
    "#переименуем столбцы\n",
    "grouped_by_date_group.rename(columns={'visitorId': 'visitors_for_drop'},\n",
    "                             inplace=True)\n",
    "grouped_by_date_group['drop_visitor_count'] = grouped_by_date_group[\n",
    "    'visitors_for_drop'].apply(len)\n",
    "\n",
    "grouped_by_date_group"
   ]
  },
  {
   "cell_type": "code",
   "execution_count": 17,
   "id": "eac549da",
   "metadata": {
    "ExecuteTime": {
     "end_time": "2024-12-14T08:59:13.412559Z",
     "start_time": "2024-12-14T08:59:13.410975Z"
    },
    "scrolled": false
   },
   "outputs": [
    {
     "name": "stdout",
     "output_type": "stream",
     "text": [
      "Количество визитов всего: 37652\n",
      "Количество визитов у дублирующихся пользователей: 170\n"
     ]
    }
   ],
   "source": [
    "print('Количество визитов всего:', visitors['visitors'].sum())\n",
    "print('Количество визитов у дублирующихся пользователей:', grouped_by_date_group['drop_visitor_count'].sum())"
   ]
  },
  {
   "cell_type": "markdown",
   "id": "ac1e3d2c",
   "metadata": {},
   "source": [
    "170 визитов из 37652 выглядит так же маловлияющим.\\\n",
    "Можем уверенно очистить обе таблицы от пользователей, которые попали в обе группы:"
   ]
  },
  {
   "cell_type": "code",
   "execution_count": 18,
   "id": "bca47056",
   "metadata": {
    "ExecuteTime": {
     "end_time": "2024-12-14T08:59:13.417069Z",
     "start_time": "2024-12-14T08:59:13.413294Z"
    }
   },
   "outputs": [
    {
     "name": "stdout",
     "output_type": "stream",
     "text": [
      "Нет пользователей, попавших в обе группы\n"
     ]
    }
   ],
   "source": [
    "#удаляем строки с этими пользователями из orders\n",
    "orders = orders[~orders['visitorId'].isin(users_in_both_groups)]\n",
    "\n",
    "#проверяем, что таких пользователей не осталось\n",
    "users_in_both_groups = orders.groupby('visitorId')['group'].nunique()\n",
    "users_in_both_groups = users_in_both_groups[users_in_both_groups > 1].index\n",
    "\n",
    "if len(users_in_both_groups) > 0:\n",
    "    print(f'Пользователи, попавшие в обе группы: {list(users_in_both_groups)}')\n",
    "else:\n",
    "    print('Нет пользователей, попавших в обе группы')"
   ]
  },
  {
   "cell_type": "code",
   "execution_count": 19,
   "id": "b17f8629",
   "metadata": {
    "ExecuteTime": {
     "end_time": "2024-12-14T08:59:13.423159Z",
     "start_time": "2024-12-14T08:59:13.417690Z"
    },
    "scrolled": false
   },
   "outputs": [
    {
     "data": {
      "text/html": [
       "<div>\n",
       "<style scoped>\n",
       "    .dataframe tbody tr th:only-of-type {\n",
       "        vertical-align: middle;\n",
       "    }\n",
       "\n",
       "    .dataframe tbody tr th {\n",
       "        vertical-align: top;\n",
       "    }\n",
       "\n",
       "    .dataframe thead th {\n",
       "        text-align: right;\n",
       "    }\n",
       "</style>\n",
       "<table border=\"1\" class=\"dataframe\">\n",
       "  <thead>\n",
       "    <tr style=\"text-align: right;\">\n",
       "      <th></th>\n",
       "      <th>date</th>\n",
       "      <th>group</th>\n",
       "      <th>visitors</th>\n",
       "      <th>visitors_for_drop</th>\n",
       "      <th>drop_visitor_count</th>\n",
       "      <th>clean_visitors</th>\n",
       "    </tr>\n",
       "  </thead>\n",
       "  <tbody>\n",
       "    <tr>\n",
       "      <th>0</th>\n",
       "      <td>2019-08-01</td>\n",
       "      <td>A</td>\n",
       "      <td>719</td>\n",
       "      <td>[4256040402]</td>\n",
       "      <td>1</td>\n",
       "      <td>718</td>\n",
       "    </tr>\n",
       "    <tr>\n",
       "      <th>1</th>\n",
       "      <td>2019-08-02</td>\n",
       "      <td>A</td>\n",
       "      <td>619</td>\n",
       "      <td>[2716752286]</td>\n",
       "      <td>1</td>\n",
       "      <td>618</td>\n",
       "    </tr>\n",
       "    <tr>\n",
       "      <th>2</th>\n",
       "      <td>2019-08-03</td>\n",
       "      <td>A</td>\n",
       "      <td>507</td>\n",
       "      <td>NaN</td>\n",
       "      <td>0</td>\n",
       "      <td>507</td>\n",
       "    </tr>\n",
       "    <tr>\n",
       "      <th>3</th>\n",
       "      <td>2019-08-04</td>\n",
       "      <td>A</td>\n",
       "      <td>717</td>\n",
       "      <td>[3984495233, 2038680547, 3891541246, 2458001652]</td>\n",
       "      <td>4</td>\n",
       "      <td>713</td>\n",
       "    </tr>\n",
       "    <tr>\n",
       "      <th>4</th>\n",
       "      <td>2019-08-05</td>\n",
       "      <td>A</td>\n",
       "      <td>756</td>\n",
       "      <td>[3984495233, 471551937, 1801183820]</td>\n",
       "      <td>3</td>\n",
       "      <td>753</td>\n",
       "    </tr>\n",
       "  </tbody>\n",
       "</table>\n",
       "</div>"
      ],
      "text/plain": [
       "        date group  visitors  \\\n",
       "0 2019-08-01     A       719   \n",
       "1 2019-08-02     A       619   \n",
       "2 2019-08-03     A       507   \n",
       "3 2019-08-04     A       717   \n",
       "4 2019-08-05     A       756   \n",
       "\n",
       "                                  visitors_for_drop  drop_visitor_count  \\\n",
       "0                                      [4256040402]                   1   \n",
       "1                                      [2716752286]                   1   \n",
       "2                                               NaN                   0   \n",
       "3  [3984495233, 2038680547, 3891541246, 2458001652]                   4   \n",
       "4               [3984495233, 471551937, 1801183820]                   3   \n",
       "\n",
       "   clean_visitors  \n",
       "0             718  \n",
       "1             618  \n",
       "2             507  \n",
       "3             713  \n",
       "4             753  "
      ]
     },
     "execution_count": 19,
     "metadata": {},
     "output_type": "execute_result"
    }
   ],
   "source": [
    "#объединим таблицы\n",
    "visitors = pd.merge(visitors,\n",
    "                    grouped_by_date_group,\n",
    "                    on=['date', 'group'],\n",
    "                    how='left')\n",
    "\n",
    "#заполним NaN нулями\n",
    "visitors['drop_visitor_count'] = visitors['drop_visitor_count'].fillna(\n",
    "    0).astype(int)\n",
    "\n",
    "#посчитаем clean_visitors\n",
    "visitors[\n",
    "    'clean_visitors'] = visitors['visitors'] - visitors['drop_visitor_count']\n",
    "\n",
    "#проверяем, что таблица собралась\n",
    "visitors.head()"
   ]
  },
  {
   "cell_type": "markdown",
   "id": "46e521de",
   "metadata": {},
   "source": [
    "Приводим к финальному виду:"
   ]
  },
  {
   "cell_type": "code",
   "execution_count": 20,
   "id": "5f92d7f4",
   "metadata": {
    "ExecuteTime": {
     "end_time": "2024-12-14T08:59:13.427152Z",
     "start_time": "2024-12-14T08:59:13.423754Z"
    }
   },
   "outputs": [
    {
     "data": {
      "text/html": [
       "<div>\n",
       "<style scoped>\n",
       "    .dataframe tbody tr th:only-of-type {\n",
       "        vertical-align: middle;\n",
       "    }\n",
       "\n",
       "    .dataframe tbody tr th {\n",
       "        vertical-align: top;\n",
       "    }\n",
       "\n",
       "    .dataframe thead th {\n",
       "        text-align: right;\n",
       "    }\n",
       "</style>\n",
       "<table border=\"1\" class=\"dataframe\">\n",
       "  <thead>\n",
       "    <tr style=\"text-align: right;\">\n",
       "      <th></th>\n",
       "      <th>date</th>\n",
       "      <th>group</th>\n",
       "      <th>visitors</th>\n",
       "    </tr>\n",
       "  </thead>\n",
       "  <tbody>\n",
       "    <tr>\n",
       "      <th>1</th>\n",
       "      <td>2019-08-02</td>\n",
       "      <td>A</td>\n",
       "      <td>618</td>\n",
       "    </tr>\n",
       "    <tr>\n",
       "      <th>44</th>\n",
       "      <td>2019-08-14</td>\n",
       "      <td>B</td>\n",
       "      <td>738</td>\n",
       "    </tr>\n",
       "    <tr>\n",
       "      <th>47</th>\n",
       "      <td>2019-08-17</td>\n",
       "      <td>B</td>\n",
       "      <td>420</td>\n",
       "    </tr>\n",
       "    <tr>\n",
       "      <th>15</th>\n",
       "      <td>2019-08-16</td>\n",
       "      <td>A</td>\n",
       "      <td>361</td>\n",
       "    </tr>\n",
       "    <tr>\n",
       "      <th>46</th>\n",
       "      <td>2019-08-16</td>\n",
       "      <td>B</td>\n",
       "      <td>411</td>\n",
       "    </tr>\n",
       "  </tbody>\n",
       "</table>\n",
       "</div>"
      ],
      "text/plain": [
       "         date group  visitors\n",
       "1  2019-08-02     A       618\n",
       "44 2019-08-14     B       738\n",
       "47 2019-08-17     B       420\n",
       "15 2019-08-16     A       361\n",
       "46 2019-08-16     B       411"
      ]
     },
     "execution_count": 20,
     "metadata": {},
     "output_type": "execute_result"
    }
   ],
   "source": [
    "visitors = visitors[['date', 'group', 'clean_visitors']]\n",
    "visitors.rename(columns={'clean_visitors': 'visitors'}, inplace=True)\n",
    "visitors.sample(5)"
   ]
  },
  {
   "cell_type": "markdown",
   "id": "3f50fc7e",
   "metadata": {},
   "source": [
    "Посчитаем пользователей в каждой группе:"
   ]
  },
  {
   "cell_type": "code",
   "execution_count": 21,
   "id": "b2fa8722",
   "metadata": {
    "ExecuteTime": {
     "end_time": "2024-12-14T08:59:13.429767Z",
     "start_time": "2024-12-14T08:59:13.427759Z"
    },
    "scrolled": true
   },
   "outputs": [
    {
     "name": "stdout",
     "output_type": "stream",
     "text": [
      "group\n",
      "A    468\n",
      "B    548\n",
      "Name: visitorId, dtype: int64\n"
     ]
    }
   ],
   "source": [
    "print(orders.groupby('group')['visitorId'].count())"
   ]
  },
  {
   "cell_type": "markdown",
   "id": "80a379b0",
   "metadata": {},
   "source": [
    "Перекос остался, но сократился до 80 юзеров в пользу группы В."
   ]
  },
  {
   "cell_type": "markdown",
   "id": "eddd917b",
   "metadata": {},
   "source": [
    "### Вывод\n",
    "\n",
    "Нам удалось выявить и очистить датасеты от пользователей, которые попали в обе группы при тестировании. Это даст более точные результаты в итоговом анализе.\\\n",
    "Так же нам нужно помнить о перекосе в распределении пользователей в группе В и учитывать это в итоговых выводах."
   ]
  },
  {
   "cell_type": "markdown",
   "id": "21f31fbb",
   "metadata": {},
   "source": [
    "## Анализ результатов"
   ]
  },
  {
   "cell_type": "markdown",
   "id": "58c3d198",
   "metadata": {},
   "source": [
    "### Кумулятивная выручка по группам"
   ]
  },
  {
   "cell_type": "markdown",
   "id": "d13afce9",
   "metadata": {},
   "source": [
    "Объединим обе таблицы в одну, скоторой далее будем работать:"
   ]
  },
  {
   "cell_type": "code",
   "execution_count": 22,
   "id": "aa1c412f",
   "metadata": {
    "ExecuteTime": {
     "end_time": "2024-12-14T08:59:13.500097Z",
     "start_time": "2024-12-14T08:59:13.430530Z"
    }
   },
   "outputs": [
    {
     "data": {
      "text/html": [
       "<div>\n",
       "<style scoped>\n",
       "    .dataframe tbody tr th:only-of-type {\n",
       "        vertical-align: middle;\n",
       "    }\n",
       "\n",
       "    .dataframe tbody tr th {\n",
       "        vertical-align: top;\n",
       "    }\n",
       "\n",
       "    .dataframe thead th {\n",
       "        text-align: right;\n",
       "    }\n",
       "</style>\n",
       "<table border=\"1\" class=\"dataframe\">\n",
       "  <thead>\n",
       "    <tr style=\"text-align: right;\">\n",
       "      <th></th>\n",
       "      <th>date</th>\n",
       "      <th>group</th>\n",
       "      <th>orders</th>\n",
       "      <th>buyers</th>\n",
       "      <th>revenue</th>\n",
       "      <th>visitors</th>\n",
       "    </tr>\n",
       "  </thead>\n",
       "  <tbody>\n",
       "    <tr>\n",
       "      <th>36</th>\n",
       "      <td>2019-08-19</td>\n",
       "      <td>A</td>\n",
       "      <td>299</td>\n",
       "      <td>283</td>\n",
       "      <td>2044934</td>\n",
       "      <td>11581</td>\n",
       "    </tr>\n",
       "    <tr>\n",
       "      <th>45</th>\n",
       "      <td>2019-08-23</td>\n",
       "      <td>B</td>\n",
       "      <td>414</td>\n",
       "      <td>400</td>\n",
       "      <td>4127403</td>\n",
       "      <td>14013</td>\n",
       "    </tr>\n",
       "    <tr>\n",
       "      <th>57</th>\n",
       "      <td>2019-08-29</td>\n",
       "      <td>B</td>\n",
       "      <td>510</td>\n",
       "      <td>490</td>\n",
       "      <td>4746610</td>\n",
       "      <td>17630</td>\n",
       "    </tr>\n",
       "    <tr>\n",
       "      <th>30</th>\n",
       "      <td>2019-08-16</td>\n",
       "      <td>A</td>\n",
       "      <td>259</td>\n",
       "      <td>246</td>\n",
       "      <td>1782420</td>\n",
       "      <td>10008</td>\n",
       "    </tr>\n",
       "    <tr>\n",
       "      <th>26</th>\n",
       "      <td>2019-08-14</td>\n",
       "      <td>A</td>\n",
       "      <td>231</td>\n",
       "      <td>218</td>\n",
       "      <td>1601692</td>\n",
       "      <td>9024</td>\n",
       "    </tr>\n",
       "  </tbody>\n",
       "</table>\n",
       "</div>"
      ],
      "text/plain": [
       "         date group  orders  buyers  revenue  visitors\n",
       "36 2019-08-19     A     299     283  2044934     11581\n",
       "45 2019-08-23     B     414     400  4127403     14013\n",
       "57 2019-08-29     B     510     490  4746610     17630\n",
       "30 2019-08-16     A     259     246  1782420     10008\n",
       "26 2019-08-14     A     231     218  1601692      9024"
      ]
     },
     "execution_count": 22,
     "metadata": {},
     "output_type": "execute_result"
    }
   ],
   "source": [
    "#создаем массив уникальных пар значений дат и групп теста\n",
    "datesGroups = orders[['date', 'group']].drop_duplicates()\n",
    "\n",
    "#получаем агрегированные кумулятивные по дням данные о заказах\n",
    "ordersAggregated = datesGroups.apply(\n",
    "    lambda x: orders[np.logical_and(orders['date'] <= x['date'], orders[\n",
    "        'group'] == x['group'])].agg({\n",
    "            'date': 'max',\n",
    "            'group': 'max',\n",
    "            'transactionId': 'nunique',\n",
    "            'visitorId': 'nunique',\n",
    "            'revenue': 'sum'\n",
    "        }),\n",
    "    axis=1).sort_values(by=['date', 'group'])\n",
    "\n",
    "#получаем агрегированные кумулятивные по дням данные о посетителях интернет-магазина\n",
    "visitorsAggregated = datesGroups.apply(\n",
    "    lambda x: visitors[np.logical_and(visitors['date'] <= x['date'], visitors[\n",
    "        'group'] == x['group'])].agg({\n",
    "            'date': 'max',\n",
    "            'group': 'max',\n",
    "            'visitors': 'sum'\n",
    "        }),\n",
    "    axis=1).sort_values(by=['date', 'group'])\n",
    "\n",
    "#объединяем кумулятивные данные в одной таблице и присваиваем ее столбцам понятные названия\n",
    "cumulativeData = ordersAggregated.merge(visitorsAggregated,\n",
    "                                        left_on=['date', 'group'],\n",
    "                                        right_on=['date', 'group'])\n",
    "cumulativeData.columns = [\n",
    "    'date', 'group', 'orders', 'buyers', 'revenue', 'visitors'\n",
    "]\n",
    "\n",
    "cumulativeData.sample(5)"
   ]
  },
  {
   "cell_type": "markdown",
   "id": "b091f231",
   "metadata": {},
   "source": [
    "Cобираем датафреймы с кумулятивным количеством заказов и кумулятивной выручкой по дням:"
   ]
  },
  {
   "cell_type": "code",
   "execution_count": 23,
   "id": "8c5932db",
   "metadata": {
    "ExecuteTime": {
     "end_time": "2024-12-14T08:59:13.504011Z",
     "start_time": "2024-12-14T08:59:13.500862Z"
    },
    "scrolled": true
   },
   "outputs": [
    {
     "data": {
      "text/html": [
       "<div>\n",
       "<style scoped>\n",
       "    .dataframe tbody tr th:only-of-type {\n",
       "        vertical-align: middle;\n",
       "    }\n",
       "\n",
       "    .dataframe tbody tr th {\n",
       "        vertical-align: top;\n",
       "    }\n",
       "\n",
       "    .dataframe thead th {\n",
       "        text-align: right;\n",
       "    }\n",
       "</style>\n",
       "<table border=\"1\" class=\"dataframe\">\n",
       "  <thead>\n",
       "    <tr style=\"text-align: right;\">\n",
       "      <th></th>\n",
       "      <th>date</th>\n",
       "      <th>revenue</th>\n",
       "      <th>orders</th>\n",
       "    </tr>\n",
       "  </thead>\n",
       "  <tbody>\n",
       "    <tr>\n",
       "      <th>0</th>\n",
       "      <td>2019-08-01</td>\n",
       "      <td>142779</td>\n",
       "      <td>23</td>\n",
       "    </tr>\n",
       "    <tr>\n",
       "      <th>2</th>\n",
       "      <td>2019-08-02</td>\n",
       "      <td>234381</td>\n",
       "      <td>42</td>\n",
       "    </tr>\n",
       "    <tr>\n",
       "      <th>4</th>\n",
       "      <td>2019-08-03</td>\n",
       "      <td>346854</td>\n",
       "      <td>66</td>\n",
       "    </tr>\n",
       "    <tr>\n",
       "      <th>6</th>\n",
       "      <td>2019-08-04</td>\n",
       "      <td>388030</td>\n",
       "      <td>77</td>\n",
       "    </tr>\n",
       "    <tr>\n",
       "      <th>8</th>\n",
       "      <td>2019-08-05</td>\n",
       "      <td>474413</td>\n",
       "      <td>99</td>\n",
       "    </tr>\n",
       "  </tbody>\n",
       "</table>\n",
       "</div>"
      ],
      "text/plain": [
       "        date  revenue  orders\n",
       "0 2019-08-01   142779      23\n",
       "2 2019-08-02   234381      42\n",
       "4 2019-08-03   346854      66\n",
       "6 2019-08-04   388030      77\n",
       "8 2019-08-05   474413      99"
      ]
     },
     "execution_count": 23,
     "metadata": {},
     "output_type": "execute_result"
    }
   ],
   "source": [
    "#группа А\n",
    "cumulativeRevenueA = cumulativeData[cumulativeData['group'] == 'A'][[\n",
    "    'date', 'revenue', 'orders'\n",
    "]]\n",
    "cumulativeRevenueA.head()"
   ]
  },
  {
   "cell_type": "markdown",
   "id": "6d244d5c",
   "metadata": {},
   "source": [
    "Оценим сверху разброс выручки по группе А:"
   ]
  },
  {
   "cell_type": "code",
   "execution_count": 24,
   "id": "91fafbcd",
   "metadata": {
    "ExecuteTime": {
     "end_time": "2024-12-14T08:59:13.507591Z",
     "start_time": "2024-12-14T08:59:13.504735Z"
    }
   },
   "outputs": [
    {
     "data": {
      "text/plain": [
       "count    3.100000e+01\n",
       "mean     1.710620e+06\n",
       "std      1.002840e+06\n",
       "min      1.427790e+05\n",
       "25%      7.943375e+05\n",
       "50%      1.782420e+06\n",
       "75%      2.485016e+06\n",
       "max      3.364656e+06\n",
       "Name: revenue, dtype: float64"
      ]
     },
     "execution_count": 24,
     "metadata": {},
     "output_type": "execute_result"
    }
   ],
   "source": [
    "cumulativeRevenueA['revenue'].describe()"
   ]
  },
  {
   "cell_type": "code",
   "execution_count": 25,
   "id": "36769c7c",
   "metadata": {
    "ExecuteTime": {
     "end_time": "2024-12-14T08:59:13.511258Z",
     "start_time": "2024-12-14T08:59:13.508316Z"
    },
    "scrolled": true
   },
   "outputs": [
    {
     "data": {
      "text/html": [
       "<div>\n",
       "<style scoped>\n",
       "    .dataframe tbody tr th:only-of-type {\n",
       "        vertical-align: middle;\n",
       "    }\n",
       "\n",
       "    .dataframe tbody tr th {\n",
       "        vertical-align: top;\n",
       "    }\n",
       "\n",
       "    .dataframe thead th {\n",
       "        text-align: right;\n",
       "    }\n",
       "</style>\n",
       "<table border=\"1\" class=\"dataframe\">\n",
       "  <thead>\n",
       "    <tr style=\"text-align: right;\">\n",
       "      <th></th>\n",
       "      <th>date</th>\n",
       "      <th>revenue</th>\n",
       "      <th>orders</th>\n",
       "    </tr>\n",
       "  </thead>\n",
       "  <tbody>\n",
       "    <tr>\n",
       "      <th>1</th>\n",
       "      <td>2019-08-01</td>\n",
       "      <td>59758</td>\n",
       "      <td>17</td>\n",
       "    </tr>\n",
       "    <tr>\n",
       "      <th>3</th>\n",
       "      <td>2019-08-02</td>\n",
       "      <td>221801</td>\n",
       "      <td>40</td>\n",
       "    </tr>\n",
       "    <tr>\n",
       "      <th>5</th>\n",
       "      <td>2019-08-03</td>\n",
       "      <td>288850</td>\n",
       "      <td>54</td>\n",
       "    </tr>\n",
       "    <tr>\n",
       "      <th>7</th>\n",
       "      <td>2019-08-04</td>\n",
       "      <td>385740</td>\n",
       "      <td>68</td>\n",
       "    </tr>\n",
       "    <tr>\n",
       "      <th>9</th>\n",
       "      <td>2019-08-05</td>\n",
       "      <td>475648</td>\n",
       "      <td>89</td>\n",
       "    </tr>\n",
       "  </tbody>\n",
       "</table>\n",
       "</div>"
      ],
      "text/plain": [
       "        date  revenue  orders\n",
       "1 2019-08-01    59758      17\n",
       "3 2019-08-02   221801      40\n",
       "5 2019-08-03   288850      54\n",
       "7 2019-08-04   385740      68\n",
       "9 2019-08-05   475648      89"
      ]
     },
     "execution_count": 25,
     "metadata": {},
     "output_type": "execute_result"
    }
   ],
   "source": [
    "#группа B\n",
    "cumulativeRevenueB = cumulativeData[cumulativeData['group'] == 'B'][[\n",
    "    'date', 'revenue', 'orders'\n",
    "]]\n",
    "cumulativeRevenueB.head()"
   ]
  },
  {
   "cell_type": "markdown",
   "id": "0620c881",
   "metadata": {},
   "source": [
    "Оценим сверху разброс выручки по группе В:"
   ]
  },
  {
   "cell_type": "code",
   "execution_count": 26,
   "id": "f26baed1",
   "metadata": {
    "ExecuteTime": {
     "end_time": "2024-12-14T08:59:13.514337Z",
     "start_time": "2024-12-14T08:59:13.511861Z"
    }
   },
   "outputs": [
    {
     "data": {
      "text/plain": [
       "count    3.100000e+01\n",
       "mean     2.493153e+06\n",
       "std      1.704606e+06\n",
       "min      5.975800e+04\n",
       "25%      1.111378e+06\n",
       "50%      2.074677e+06\n",
       "75%      4.171336e+06\n",
       "max      5.068972e+06\n",
       "Name: revenue, dtype: float64"
      ]
     },
     "execution_count": 26,
     "metadata": {},
     "output_type": "execute_result"
    }
   ],
   "source": [
    "cumulativeRevenueB['revenue'].describe()"
   ]
  },
  {
   "cell_type": "markdown",
   "id": "5d8801bc",
   "metadata": {},
   "source": [
    "Выведем результаты на график:"
   ]
  },
  {
   "cell_type": "code",
   "execution_count": 27,
   "id": "7279f37e",
   "metadata": {
    "ExecuteTime": {
     "end_time": "2024-12-14T08:59:13.659961Z",
     "start_time": "2024-12-14T08:59:13.514915Z"
    }
   },
   "outputs": [
    {
     "data": {
      "image/png": "[encoded data removed]",
      "text/plain": [
       "<Figure size 1200x600 with 1 Axes>"
      ]
     },
     "metadata": {},
     "output_type": "display_data"
    }
   ],
   "source": [
    "#строим графики\n",
    "plt.figure(figsize=(12, 6))\n",
    "plt.plot(cumulativeRevenueA['date'], cumulativeRevenueA['revenue'], label='A', color='#789DBC')\n",
    "plt.plot(cumulativeRevenueB['date'], cumulativeRevenueB['revenue'], label='B', color='#C08497')\n",
    "plt.legend()\n",
    "plt.grid()\n",
    "\n",
    "#форматируем метки дат\n",
    "plt.gca().xaxis.set_major_locator(mdates.DayLocator(interval=3))\n",
    "plt.gcf().autofmt_xdate(rotation=45)\n",
    "\n",
    "#заголовки и метки осей\n",
    "plt.title('Кумулятивная выручка по группам A и B')\n",
    "plt.xlabel('Дата')\n",
    "plt.ylabel('Кумулятивная выручка')\n",
    "\n",
    "plt.show()"
   ]
  },
  {
   "cell_type": "markdown",
   "id": "450a97f7",
   "metadata": {},
   "source": [
    "**Вывод**:\\\n",
    "На графике видим 2 периода, где сначала происходит рост графика по группе А (2019-08-13), а через некоторое время есть еще более резкий скачок выручки по группе В (2019-08-19).\\\n",
    "Возможно, в эти периоды, происходил рост числа или стоимости заказов в каждой из выборок."
   ]
  },
  {
   "cell_type": "markdown",
   "id": "7290e94a",
   "metadata": {},
   "source": [
    "Попробуем проверить гипотезу с выбросами:"
   ]
  },
  {
   "cell_type": "code",
   "execution_count": 28,
   "id": "5e4e7652",
   "metadata": {
    "ExecuteTime": {
     "end_time": "2024-12-14T08:59:13.668603Z",
     "start_time": "2024-12-14T08:59:13.662693Z"
    },
    "scrolled": false
   },
   "outputs": [
    {
     "name": "stderr",
     "output_type": "stream",
     "text": [
      "/var/folders/yq/4kk1f65n4xx9ljs464yq0dvh0000gn/T/ipykernel_37244/533911892.py:1: FutureWarning: The behavior of 'isin' with dtype=datetime64[ns] and castable values (e.g. strings) is deprecated. In a future version, these will not be considered matching by isin. Explicitly cast to the appropriate dtype before calling isin instead.\n",
      "  orders.query('date == \"2019-08-13\"').sort_values(by='revenue',\n"
     ]
    },
    {
     "data": {
      "text/html": [
       "<div>\n",
       "<style scoped>\n",
       "    .dataframe tbody tr th:only-of-type {\n",
       "        vertical-align: middle;\n",
       "    }\n",
       "\n",
       "    .dataframe tbody tr th {\n",
       "        vertical-align: top;\n",
       "    }\n",
       "\n",
       "    .dataframe thead th {\n",
       "        text-align: right;\n",
       "    }\n",
       "</style>\n",
       "<table border=\"1\" class=\"dataframe\">\n",
       "  <thead>\n",
       "    <tr style=\"text-align: right;\">\n",
       "      <th></th>\n",
       "      <th>transactionId</th>\n",
       "      <th>visitorId</th>\n",
       "      <th>date</th>\n",
       "      <th>revenue</th>\n",
       "      <th>group</th>\n",
       "    </tr>\n",
       "  </thead>\n",
       "  <tbody>\n",
       "    <tr>\n",
       "      <th>1136</th>\n",
       "      <td>666610489</td>\n",
       "      <td>1307669133</td>\n",
       "      <td>2019-08-13</td>\n",
       "      <td>92550</td>\n",
       "      <td>A</td>\n",
       "    </tr>\n",
       "    <tr>\n",
       "      <th>1142</th>\n",
       "      <td>3815014015</td>\n",
       "      <td>2606908679</td>\n",
       "      <td>2019-08-13</td>\n",
       "      <td>52900</td>\n",
       "      <td>B</td>\n",
       "    </tr>\n",
       "    <tr>\n",
       "      <th>1137</th>\n",
       "      <td>2183069967</td>\n",
       "      <td>759473111</td>\n",
       "      <td>2019-08-13</td>\n",
       "      <td>52480</td>\n",
       "      <td>A</td>\n",
       "    </tr>\n",
       "    <tr>\n",
       "      <th>1121</th>\n",
       "      <td>2023943756</td>\n",
       "      <td>1604853044</td>\n",
       "      <td>2019-08-13</td>\n",
       "      <td>28060</td>\n",
       "      <td>A</td>\n",
       "    </tr>\n",
       "    <tr>\n",
       "      <th>1130</th>\n",
       "      <td>2312704236</td>\n",
       "      <td>3221887237</td>\n",
       "      <td>2019-08-13</td>\n",
       "      <td>24990</td>\n",
       "      <td>A</td>\n",
       "    </tr>\n",
       "  </tbody>\n",
       "</table>\n",
       "</div>"
      ],
      "text/plain": [
       "      transactionId   visitorId       date  revenue group\n",
       "1136      666610489  1307669133 2019-08-13    92550     A\n",
       "1142     3815014015  2606908679 2019-08-13    52900     B\n",
       "1137     2183069967   759473111 2019-08-13    52480     A\n",
       "1121     2023943756  1604853044 2019-08-13    28060     A\n",
       "1130     2312704236  3221887237 2019-08-13    24990     A"
      ]
     },
     "execution_count": 28,
     "metadata": {},
     "output_type": "execute_result"
    }
   ],
   "source": [
    "orders.query('date == \"2019-08-13\"').sort_values(by='revenue',\n",
    "                                                 ascending=False).head()"
   ]
  },
  {
   "cell_type": "markdown",
   "id": "50f19469",
   "metadata": {},
   "source": [
    "Да, действительно, есть заказаз 666610489 на 92550, что явно может выбиваться из общего списка стоимости."
   ]
  },
  {
   "cell_type": "code",
   "execution_count": 29,
   "id": "88ea41d6",
   "metadata": {
    "ExecuteTime": {
     "end_time": "2024-12-14T08:59:13.675314Z",
     "start_time": "2024-12-14T08:59:13.669878Z"
    },
    "scrolled": true
   },
   "outputs": [
    {
     "name": "stderr",
     "output_type": "stream",
     "text": [
      "/var/folders/yq/4kk1f65n4xx9ljs464yq0dvh0000gn/T/ipykernel_37244/518892159.py:1: FutureWarning: The behavior of 'isin' with dtype=datetime64[ns] and castable values (e.g. strings) is deprecated. In a future version, these will not be considered matching by isin. Explicitly cast to the appropriate dtype before calling isin instead.\n",
      "  orders.query(' date == \"2019-08-19\" ').sort_values(by='revenue',\n"
     ]
    },
    {
     "data": {
      "text/html": [
       "<div>\n",
       "<style scoped>\n",
       "    .dataframe tbody tr th:only-of-type {\n",
       "        vertical-align: middle;\n",
       "    }\n",
       "\n",
       "    .dataframe tbody tr th {\n",
       "        vertical-align: top;\n",
       "    }\n",
       "\n",
       "    .dataframe thead th {\n",
       "        text-align: right;\n",
       "    }\n",
       "</style>\n",
       "<table border=\"1\" class=\"dataframe\">\n",
       "  <thead>\n",
       "    <tr style=\"text-align: right;\">\n",
       "      <th></th>\n",
       "      <th>transactionId</th>\n",
       "      <th>visitorId</th>\n",
       "      <th>date</th>\n",
       "      <th>revenue</th>\n",
       "      <th>group</th>\n",
       "    </tr>\n",
       "  </thead>\n",
       "  <tbody>\n",
       "    <tr>\n",
       "      <th>425</th>\n",
       "      <td>590470918</td>\n",
       "      <td>1920142716</td>\n",
       "      <td>2019-08-19</td>\n",
       "      <td>1294500</td>\n",
       "      <td>B</td>\n",
       "    </tr>\n",
       "    <tr>\n",
       "      <th>530</th>\n",
       "      <td>3970235543</td>\n",
       "      <td>2912540959</td>\n",
       "      <td>2019-08-19</td>\n",
       "      <td>43990</td>\n",
       "      <td>A</td>\n",
       "    </tr>\n",
       "    <tr>\n",
       "      <th>527</th>\n",
       "      <td>1570513684</td>\n",
       "      <td>2837914161</td>\n",
       "      <td>2019-08-19</td>\n",
       "      <td>33405</td>\n",
       "      <td>B</td>\n",
       "    </tr>\n",
       "    <tr>\n",
       "      <th>421</th>\n",
       "      <td>3765974140</td>\n",
       "      <td>1357170471</td>\n",
       "      <td>2019-08-19</td>\n",
       "      <td>31680</td>\n",
       "      <td>A</td>\n",
       "    </tr>\n",
       "    <tr>\n",
       "      <th>461</th>\n",
       "      <td>2683113224</td>\n",
       "      <td>154576532</td>\n",
       "      <td>2019-08-19</td>\n",
       "      <td>26550</td>\n",
       "      <td>B</td>\n",
       "    </tr>\n",
       "  </tbody>\n",
       "</table>\n",
       "</div>"
      ],
      "text/plain": [
       "     transactionId   visitorId       date  revenue group\n",
       "425      590470918  1920142716 2019-08-19  1294500     B\n",
       "530     3970235543  2912540959 2019-08-19    43990     A\n",
       "527     1570513684  2837914161 2019-08-19    33405     B\n",
       "421     3765974140  1357170471 2019-08-19    31680     A\n",
       "461     2683113224   154576532 2019-08-19    26550     B"
      ]
     },
     "execution_count": 29,
     "metadata": {},
     "output_type": "execute_result"
    }
   ],
   "source": [
    "orders.query(' date == \"2019-08-19\" ').sort_values(by='revenue',\n",
    "                                                   ascending=False).head()"
   ]
  },
  {
   "cell_type": "markdown",
   "id": "553d4705",
   "metadata": {},
   "source": [
    "Здесь картина еще более явно выраженная: заказ 590470918 на 1294500 мог дать скачок на графике."
   ]
  },
  {
   "cell_type": "markdown",
   "id": "62f57a6a",
   "metadata": {},
   "source": [
    "**Вывод**:\\\n",
    "В течение всего теста выручка равномерно увеличивается по обеим группам.\\\n",
    "Однако есть 2 периода, где сначала происходит рост графика по группе А (2019-08-13), а через некоторое время есть еще более резкий скачок выручки по группе В (2019-08-19).\\\n",
    "Это происходит из-за выбросов в данных."
   ]
  },
  {
   "cell_type": "markdown",
   "id": "2c58a461",
   "metadata": {},
   "source": [
    "### Кумулятивный средний чек по группам"
   ]
  },
  {
   "cell_type": "code",
   "execution_count": 30,
   "id": "378f4b38",
   "metadata": {
    "ExecuteTime": {
     "end_time": "2024-12-14T08:59:13.772329Z",
     "start_time": "2024-12-14T08:59:13.676538Z"
    },
    "scrolled": false
   },
   "outputs": [
    {
     "data": {
      "image/png": "[encoded data removed]",
      "text/plain": [
       "<Figure size 1500x500 with 1 Axes>"
      ]
     },
     "metadata": {},
     "output_type": "display_data"
    }
   ],
   "source": [
    "#строим графики\n",
    "plt.figure(figsize=(15, 5))\n",
    "plt.grid()\n",
    "plt.plot(cumulativeRevenueA['date'],\n",
    "         cumulativeRevenueA['revenue'] / cumulativeRevenueA['orders'],\n",
    "         label='A', color='#789DBC')\n",
    "plt.plot(cumulativeRevenueB['date'],\n",
    "         cumulativeRevenueB['revenue'] / cumulativeRevenueB['orders'],\n",
    "         label='B', color='#C08497')\n",
    "plt.legend()\n",
    "\n",
    "#форматируем метки дат\n",
    "plt.gca().xaxis.set_major_locator(mdates.DayLocator(interval=3))\n",
    "plt.gcf().autofmt_xdate(rotation=45)\n",
    "\n",
    "#заголовки и метки осей\n",
    "plt.title('Средний кумулятивный чек по группам')\n",
    "plt.xlabel('Дата')\n",
    "plt.ylabel('Чек')\n",
    "\n",
    "plt.show()"
   ]
  },
  {
   "cell_type": "markdown",
   "id": "66c3709c",
   "metadata": {},
   "source": [
    "**Вывод**:\\\n",
    "Текущий график следует тенденции, которую мы определили выше: в группе В был выброс в за счет повышения выручки."
   ]
  },
  {
   "cell_type": "markdown",
   "id": "99b8dd09",
   "metadata": {},
   "source": [
    "### Относительное изменение кумулятивного среднего чека группы B к группе A"
   ]
  },
  {
   "cell_type": "markdown",
   "id": "621de4cd",
   "metadata": {},
   "source": [
    "Собираем данные в одном датафрейме:"
   ]
  },
  {
   "cell_type": "code",
   "execution_count": 31,
   "id": "3a43e9d6",
   "metadata": {
    "ExecuteTime": {
     "end_time": "2024-12-14T08:59:13.776961Z",
     "start_time": "2024-12-14T08:59:13.773404Z"
    }
   },
   "outputs": [],
   "source": [
    "mergedCumulativeRevenue = cumulativeRevenueA.merge(cumulativeRevenueB,\n",
    "                                                   left_on='date',\n",
    "                                                   right_on='date',\n",
    "                                                   how='left',\n",
    "                                                   suffixes=['A', 'B'])"
   ]
  },
  {
   "cell_type": "markdown",
   "id": "80146467",
   "metadata": {},
   "source": [
    "Отобразим результаты на графике:"
   ]
  },
  {
   "cell_type": "code",
   "execution_count": 32,
   "id": "e3e7c980",
   "metadata": {
    "ExecuteTime": {
     "end_time": "2024-12-14T08:59:13.864766Z",
     "start_time": "2024-12-14T08:59:13.777629Z"
    },
    "scrolled": false
   },
   "outputs": [
    {
     "data": {
      "image/png": "[encoded data removed]",
      "text/plain": [
       "<Figure size 1200x600 with 1 Axes>"
      ]
     },
     "metadata": {},
     "output_type": "display_data"
    }
   ],
   "source": [
    "#строим отношение средних чеков\n",
    "plt.figure(figsize=(12, 6))\n",
    "plt.plot(\n",
    "    mergedCumulativeRevenue['date'],\n",
    "    (mergedCumulativeRevenue['revenueB'] / mergedCumulativeRevenue['ordersB'])\n",
    "    /\n",
    "    (mergedCumulativeRevenue['revenueA'] / mergedCumulativeRevenue['ordersA'])\n",
    "    - 1,\n",
    "    color='#789DBC')\n",
    "\n",
    "#добавляем ось X\n",
    "plt.axhline(y=0, color='black', linestyle='--')\n",
    "\n",
    "#форматируем метки дат\n",
    "plt.gca().xaxis.set_major_locator(mdates.DayLocator(interval=3))\n",
    "plt.gcf().autofmt_xdate(rotation=45)\n",
    "\n",
    "#заголовки и метки осей\n",
    "plt.title('Отношение кумулятивных средних чеков группы В к группе A')\n",
    "plt.xlabel('Дата')\n",
    "plt.ylabel('Отношение средних чеков')\n",
    "plt.grid()\n",
    "\n",
    "plt.show()"
   ]
  },
  {
   "cell_type": "markdown",
   "id": "2c39d04a",
   "metadata": {},
   "source": [
    "**Вывод**:\\\n",
    "Данный график особенно хорошо показывает различия между сегментами, выглядит ломанно и резко \"скачет\".\\\n",
    "Видно, как средний чек группы В, относительно группы А, рос до 7 августа, далее снижался до 13 августа и после 15 начал снова расти. 19 августа \"прыгнул\" из-за выброса и постепенно пошел на спад."
   ]
  },
  {
   "cell_type": "markdown",
   "id": "5985b811",
   "metadata": {},
   "source": [
    "### Кумулятивный среднее количество заказов на посетителя по группам"
   ]
  },
  {
   "cell_type": "markdown",
   "id": "d924c70f",
   "metadata": {},
   "source": [
    "Считаем среднее количество заказов на посетителя и разделяем данные по группам:"
   ]
  },
  {
   "cell_type": "code",
   "execution_count": 33,
   "id": "1f8aed40",
   "metadata": {
    "ExecuteTime": {
     "end_time": "2024-12-14T08:59:13.869592Z",
     "start_time": "2024-12-14T08:59:13.866201Z"
    },
    "run_control": {
     "marked": true
    }
   },
   "outputs": [],
   "source": [
    "#среднее количество заказов\n",
    "cumulativeData[\n",
    "    'conversion'] = cumulativeData['orders'] / cumulativeData['visitors']\n",
    "\n",
    "#группа A\n",
    "cumulativeDataA = cumulativeData[cumulativeData['group'] == 'A']\n",
    "\n",
    "#группа B\n",
    "cumulativeDataB = cumulativeData[cumulativeData['group'] == 'B']"
   ]
  },
  {
   "cell_type": "markdown",
   "id": "63fb24a7",
   "metadata": {},
   "source": [
    "Отразим на графике:"
   ]
  },
  {
   "cell_type": "code",
   "execution_count": 34,
   "id": "6a5c570a",
   "metadata": {
    "ExecuteTime": {
     "end_time": "2024-12-14T08:59:13.949738Z",
     "start_time": "2024-12-14T08:59:13.870550Z"
    }
   },
   "outputs": [
    {
     "data": {
      "image/png": "[encoded data removed]",
      "text/plain": [
       "<Figure size 1200x600 with 1 Axes>"
      ]
     },
     "metadata": {},
     "output_type": "display_data"
    }
   ],
   "source": [
    "#строим графики\n",
    "plt.figure(figsize=(12, 6))\n",
    "plt.plot(cumulativeDataA['date'], cumulativeDataA['conversion'], label='A', color='#789DBC')\n",
    "plt.plot(cumulativeDataB['date'], cumulativeDataB['conversion'], label='B', color='#C08497')\n",
    "plt.legend()\n",
    "plt.grid()\n",
    "\n",
    "#форматируем метки дат\n",
    "plt.gca().xaxis.set_major_locator(mdates.DayLocator(interval=7))\n",
    "plt.gcf().autofmt_xdate(rotation=45)\n",
    "\n",
    "#заголовки и метки осей\n",
    "plt.title(\n",
    "    'Кумулятивное среднее количество заказов на посетителя по группам A и B')\n",
    "plt.xlabel('Дата')\n",
    "plt.ylabel('Заказы')\n",
    "\n",
    "plt.show()"
   ]
  },
  {
   "cell_type": "markdown",
   "id": "f16fec13",
   "metadata": {},
   "source": [
    "**Вывод**:\\\n",
    "**Заказы группы А** практически сразу начали проседать и делали это всю первую неделю. Далее они практически стабильно находились на одном уровне.\\\n",
    "**Заказы группы В** в первую неделю были более волотильны и то резко росли, то падали, то снова росли. И уже по окончанию первой недели показали стабилизировались в приросте. Далее зафиксировались на одном высоком уровне и медленно начали убывать с 19-08-2019."
   ]
  },
  {
   "cell_type": "markdown",
   "id": "c760b187",
   "metadata": {},
   "source": [
    "### Относительное изменение кумулятивного среднего количества заказов на посетителя группы B к группе A"
   ]
  },
  {
   "cell_type": "markdown",
   "id": "4852e8fd",
   "metadata": {},
   "source": [
    "Объединяем данные по конверсии для групп A и B:"
   ]
  },
  {
   "cell_type": "code",
   "execution_count": 35,
   "id": "b7728107",
   "metadata": {
    "ExecuteTime": {
     "end_time": "2024-12-14T08:59:13.954565Z",
     "start_time": "2024-12-14T08:59:13.950917Z"
    }
   },
   "outputs": [],
   "source": [
    "mergedCumulativeConversions = cumulativeDataA[['date', 'conversion']].merge(\n",
    "    cumulativeDataB[['date', 'conversion']],\n",
    "    left_on='date',\n",
    "    right_on='date',\n",
    "    how='left',\n",
    "    suffixes=['A', 'B'])"
   ]
  },
  {
   "cell_type": "markdown",
   "id": "3c276859",
   "metadata": {},
   "source": [
    "Отразим на графике относительный прирост кумулятивного среднего количества заказов на посетителя:"
   ]
  },
  {
   "cell_type": "code",
   "execution_count": 36,
   "id": "c4f35ec3",
   "metadata": {
    "ExecuteTime": {
     "end_time": "2024-12-14T08:59:14.034902Z",
     "start_time": "2024-12-14T08:59:13.955349Z"
    },
    "scrolled": false
   },
   "outputs": [
    {
     "data": {
      "image/png": "[encoded data removed]",
      "text/plain": [
       "<Figure size 1200x600 with 1 Axes>"
      ]
     },
     "metadata": {},
     "output_type": "display_data"
    }
   ],
   "source": [
    "#строим график \n",
    "plt.figure(figsize=(12, 6))\n",
    "plt.plot(\n",
    "    mergedCumulativeConversions['date'],\n",
    "    mergedCumulativeConversions['conversionB'] /\n",
    "    mergedCumulativeConversions['conversionA'] - 1,\n",
    "    color='#789DBC'\n",
    ")\n",
    "\n",
    "#добавляем оси\n",
    "plt.axhline(y=0, color='black', linestyle='--')\n",
    "plt.axhline(y=-0.07, color='grey', linestyle='--')\n",
    "plt.axhline(y=0.06, color='grey', linestyle='--')\n",
    "plt.axhline(y=0.19, color='grey', linestyle='--')\n",
    "plt.axhline(y=0.21, color='grey', linestyle='--')\n",
    "\n",
    "#форматируем метки дат\n",
    "plt.gca().xaxis.set_major_locator(mdates.DayLocator(interval=7))\n",
    "plt.gcf().autofmt_xdate(rotation=45)\n",
    "\n",
    "#заголовки и метки осей\n",
    "plt.title(\n",
    "    'Относительный прирост кумулятивного среднего количества заказов на посетителя группы B относительно группы A'\n",
    ")\n",
    "plt.xlabel('Дата')\n",
    "plt.ylabel('Относительный прирост конверсии')\n",
    "plt.grid()\n",
    "\n",
    "plt.show()"
   ]
  },
  {
   "cell_type": "markdown",
   "id": "646cd1c8",
   "metadata": {},
   "source": [
    "**Вывод**:\\\n",
    "Данный график коррелирует с предыдущим: не смотря на аномалии, явно виден тренд на увеличение конверсии в группе В, в сравнении с группой А."
   ]
  },
  {
   "cell_type": "markdown",
   "id": "d9af3d5d",
   "metadata": {},
   "source": [
    "### Количество заказов по пользователям"
   ]
  },
  {
   "cell_type": "markdown",
   "id": "08c9c11a",
   "metadata": {},
   "source": [
    "Группируем данные по пользователям и считаем количество заказов на каждого:"
   ]
  },
  {
   "cell_type": "code",
   "execution_count": 37,
   "id": "d53ceb6c",
   "metadata": {
    "ExecuteTime": {
     "end_time": "2024-12-14T08:59:14.041823Z",
     "start_time": "2024-12-14T08:59:14.036651Z"
    },
    "scrolled": true
   },
   "outputs": [
    {
     "data": {
      "text/html": [
       "<div>\n",
       "<style scoped>\n",
       "    .dataframe tbody tr th:only-of-type {\n",
       "        vertical-align: middle;\n",
       "    }\n",
       "\n",
       "    .dataframe tbody tr th {\n",
       "        vertical-align: top;\n",
       "    }\n",
       "\n",
       "    .dataframe thead th {\n",
       "        text-align: right;\n",
       "    }\n",
       "</style>\n",
       "<table border=\"1\" class=\"dataframe\">\n",
       "  <thead>\n",
       "    <tr style=\"text-align: right;\">\n",
       "      <th></th>\n",
       "      <th>visitorId</th>\n",
       "      <th>orders</th>\n",
       "    </tr>\n",
       "  </thead>\n",
       "  <tbody>\n",
       "    <tr>\n",
       "      <th>908</th>\n",
       "      <td>3967698036</td>\n",
       "      <td>3</td>\n",
       "    </tr>\n",
       "    <tr>\n",
       "      <th>55</th>\n",
       "      <td>249864742</td>\n",
       "      <td>3</td>\n",
       "    </tr>\n",
       "    <tr>\n",
       "      <th>478</th>\n",
       "      <td>2108163459</td>\n",
       "      <td>3</td>\n",
       "    </tr>\n",
       "    <tr>\n",
       "      <th>687</th>\n",
       "      <td>2988190573</td>\n",
       "      <td>3</td>\n",
       "    </tr>\n",
       "    <tr>\n",
       "      <th>890</th>\n",
       "      <td>3908431265</td>\n",
       "      <td>3</td>\n",
       "    </tr>\n",
       "  </tbody>\n",
       "</table>\n",
       "</div>"
      ],
      "text/plain": [
       "      visitorId  orders\n",
       "908  3967698036       3\n",
       "55    249864742       3\n",
       "478  2108163459       3\n",
       "687  2988190573       3\n",
       "890  3908431265       3"
      ]
     },
     "execution_count": 37,
     "metadata": {},
     "output_type": "execute_result"
    }
   ],
   "source": [
    "ordersByUsers = (orders.groupby('visitorId', as_index=False).agg(\n",
    "    {'transactionId': 'nunique'}))\n",
    "\n",
    "ordersByUsers.columns = ['visitorId', 'orders']\n",
    "orders_per_users = ordersByUsers.sort_values(by='orders', ascending=False)\n",
    "orders_per_users.head()"
   ]
  },
  {
   "cell_type": "markdown",
   "id": "da119458",
   "metadata": {},
   "source": [
    "Оценим сверху разбег по заказам:"
   ]
  },
  {
   "cell_type": "code",
   "execution_count": 38,
   "id": "2f564952",
   "metadata": {
    "ExecuteTime": {
     "end_time": "2024-12-14T08:59:14.046598Z",
     "start_time": "2024-12-14T08:59:14.042635Z"
    }
   },
   "outputs": [
    {
     "data": {
      "text/plain": [
       "count    973.000000\n",
       "mean       1.044193\n",
       "std        0.238090\n",
       "min        1.000000\n",
       "25%        1.000000\n",
       "50%        1.000000\n",
       "75%        1.000000\n",
       "max        3.000000\n",
       "Name: orders, dtype: float64"
      ]
     },
     "execution_count": 38,
     "metadata": {},
     "output_type": "execute_result"
    }
   ],
   "source": [
    "orders_per_users['orders'].describe()"
   ]
  },
  {
   "cell_type": "markdown",
   "id": "45dd3311",
   "metadata": {},
   "source": [
    "Строим точечный график распределения кол-ва заказов:"
   ]
  },
  {
   "cell_type": "code",
   "execution_count": 39,
   "id": "f9651534",
   "metadata": {
    "ExecuteTime": {
     "end_time": "2024-12-14T08:59:14.121367Z",
     "start_time": "2024-12-14T08:59:14.054127Z"
    },
    "scrolled": false
   },
   "outputs": [
    {
     "data": {
      "image/png": "[encoded data removed]",
      "text/plain": [
       "<Figure size 1000x600 with 1 Axes>"
      ]
     },
     "metadata": {},
     "output_type": "display_data"
    }
   ],
   "source": [
    "#индексируем пользователей\n",
    "x_values = pd.Series(range(0,len(ordersByUsers)))\n",
    "\n",
    "#строим график\n",
    "plt.figure(figsize=(10, 6))\n",
    "plt.scatter(x_values, ordersByUsers['orders'], alpha=0.5, color='#789DBC')\n",
    "plt.title('Количество заказов по пользователям')\n",
    "plt.xlabel('Пользователи')\n",
    "plt.ylabel('Количество заказов')\n",
    "plt.grid()\n",
    "\n",
    "plt.show()"
   ]
  },
  {
   "cell_type": "markdown",
   "id": "fdd8f3a0",
   "metadata": {},
   "source": [
    "**Вывод**:\\\n",
    "Большинство пользователей делает 1 заказ, но есть те, кто делает 2+ заказа. Пока их доля не до конца ясна и не понятно, стоит ли считать это выбросами."
   ]
  },
  {
   "cell_type": "markdown",
   "id": "ac0ec018",
   "metadata": {},
   "source": [
    "### Углубленный анализ аномалий среди заказов на одного пользователя"
   ]
  },
  {
   "cell_type": "markdown",
   "id": "e9211d1c",
   "metadata": {},
   "source": [
    "Посчитаем 95-й и 99-й перцентилей от количества заказов на пользователя:"
   ]
  },
  {
   "cell_type": "code",
   "execution_count": 40,
   "id": "baad201a",
   "metadata": {
    "ExecuteTime": {
     "end_time": "2024-12-14T08:59:14.125334Z",
     "start_time": "2024-12-14T08:59:14.122289Z"
    }
   },
   "outputs": [
    {
     "name": "stdout",
     "output_type": "stream",
     "text": [
      "[1. 2.]\n"
     ]
    }
   ],
   "source": [
    "print(np.percentile(ordersByUsers['orders'], [95, 99]))"
   ]
  },
  {
   "cell_type": "markdown",
   "id": "b6057a2c",
   "metadata": {},
   "source": [
    "Кажется, что всего 5% пользователей оформляли больше чем 1 заказ. И, кажется, 1% оформлял 2 заказа и более.\n",
    "\n",
    "Сделаем срез по процентам еще более детальным:"
   ]
  },
  {
   "cell_type": "code",
   "execution_count": 41,
   "id": "34163a42",
   "metadata": {
    "ExecuteTime": {
     "end_time": "2024-12-14T08:59:14.130445Z",
     "start_time": "2024-12-14T08:59:14.127216Z"
    },
    "scrolled": true
   },
   "outputs": [
    {
     "name": "stdout",
     "output_type": "stream",
     "text": [
      "[1. 1. 2. 2. 2.]\n"
     ]
    }
   ],
   "source": [
    "print( np.percentile(ordersByUsers['orders'], [95, 96, 97, 98, 99])) "
   ]
  },
  {
   "cell_type": "markdown",
   "id": "7dd90ea6",
   "metadata": {},
   "source": [
    "**Вывод**:\\\n",
    "96% пользователей делают 1 заказ.\\\n",
    "**Всё, что больше 1 заказа на пользователя, стоит отнести к аномалиям**."
   ]
  },
  {
   "cell_type": "markdown",
   "id": "3e17fbd3",
   "metadata": {},
   "source": [
    "### Стоимость заказов"
   ]
  },
  {
   "cell_type": "code",
   "execution_count": 42,
   "id": "6651b5b4",
   "metadata": {
    "ExecuteTime": {
     "end_time": "2024-12-14T08:59:14.137737Z",
     "start_time": "2024-12-14T08:59:14.131518Z"
    }
   },
   "outputs": [
    {
     "data": {
      "text/html": [
       "<div>\n",
       "<style scoped>\n",
       "    .dataframe tbody tr th:only-of-type {\n",
       "        vertical-align: middle;\n",
       "    }\n",
       "\n",
       "    .dataframe tbody tr th {\n",
       "        vertical-align: top;\n",
       "    }\n",
       "\n",
       "    .dataframe thead th {\n",
       "        text-align: right;\n",
       "    }\n",
       "</style>\n",
       "<table border=\"1\" class=\"dataframe\">\n",
       "  <thead>\n",
       "    <tr style=\"text-align: right;\">\n",
       "      <th></th>\n",
       "      <th>transactionId</th>\n",
       "      <th>visitorId</th>\n",
       "      <th>date</th>\n",
       "      <th>revenue</th>\n",
       "      <th>group</th>\n",
       "    </tr>\n",
       "  </thead>\n",
       "  <tbody>\n",
       "    <tr>\n",
       "      <th>425</th>\n",
       "      <td>590470918</td>\n",
       "      <td>1920142716</td>\n",
       "      <td>2019-08-19</td>\n",
       "      <td>1294500</td>\n",
       "      <td>B</td>\n",
       "    </tr>\n",
       "    <tr>\n",
       "      <th>1196</th>\n",
       "      <td>3936777065</td>\n",
       "      <td>2108080724</td>\n",
       "      <td>2019-08-15</td>\n",
       "      <td>202740</td>\n",
       "      <td>B</td>\n",
       "    </tr>\n",
       "    <tr>\n",
       "      <th>1136</th>\n",
       "      <td>666610489</td>\n",
       "      <td>1307669133</td>\n",
       "      <td>2019-08-13</td>\n",
       "      <td>92550</td>\n",
       "      <td>A</td>\n",
       "    </tr>\n",
       "    <tr>\n",
       "      <th>744</th>\n",
       "      <td>3668308183</td>\n",
       "      <td>888512513</td>\n",
       "      <td>2019-08-27</td>\n",
       "      <td>86620</td>\n",
       "      <td>B</td>\n",
       "    </tr>\n",
       "    <tr>\n",
       "      <th>743</th>\n",
       "      <td>3603576309</td>\n",
       "      <td>4133034833</td>\n",
       "      <td>2019-08-09</td>\n",
       "      <td>67990</td>\n",
       "      <td>A</td>\n",
       "    </tr>\n",
       "  </tbody>\n",
       "</table>\n",
       "</div>"
      ],
      "text/plain": [
       "      transactionId   visitorId       date  revenue group\n",
       "425       590470918  1920142716 2019-08-19  1294500     B\n",
       "1196     3936777065  2108080724 2019-08-15   202740     B\n",
       "1136      666610489  1307669133 2019-08-13    92550     A\n",
       "744      3668308183   888512513 2019-08-27    86620     B\n",
       "743      3603576309  4133034833 2019-08-09    67990     A"
      ]
     },
     "execution_count": 42,
     "metadata": {},
     "output_type": "execute_result"
    }
   ],
   "source": [
    "orders['date'] = pd.to_datetime(orders['date'])\n",
    "orders.sort_values(by='revenue', ascending=False).head()"
   ]
  },
  {
   "cell_type": "markdown",
   "id": "b89b3bc1",
   "metadata": {},
   "source": [
    "Оценим сверху разбег по выручке:"
   ]
  },
  {
   "cell_type": "code",
   "execution_count": 43,
   "id": "7dc2c425",
   "metadata": {
    "ExecuteTime": {
     "end_time": "2024-12-14T08:59:14.142707Z",
     "start_time": "2024-12-14T08:59:14.138516Z"
    }
   },
   "outputs": [
    {
     "data": {
      "text/plain": [
       "count    1.016000e+03\n",
       "mean     8.300815e+03\n",
       "std      4.212199e+04\n",
       "min      5.000000e+01\n",
       "25%      1.190000e+03\n",
       "50%      2.955000e+03\n",
       "75%      8.134250e+03\n",
       "max      1.294500e+06\n",
       "Name: revenue, dtype: float64"
      ]
     },
     "execution_count": 43,
     "metadata": {},
     "output_type": "execute_result"
    }
   ],
   "source": [
    "orders['revenue'].describe()"
   ]
  },
  {
   "cell_type": "markdown",
   "id": "da4064d8",
   "metadata": {},
   "source": [
    "Строим точечный график распределения кол-ва заказов:"
   ]
  },
  {
   "cell_type": "code",
   "execution_count": 44,
   "id": "38e5df56",
   "metadata": {
    "ExecuteTime": {
     "end_time": "2024-12-14T08:59:14.209908Z",
     "start_time": "2024-12-14T08:59:14.143597Z"
    },
    "scrolled": false
   },
   "outputs": [
    {
     "data": {
      "image/png": "[encoded data removed]",
      "text/plain": [
       "<Figure size 1000x600 with 1 Axes>"
      ]
     },
     "metadata": {},
     "output_type": "display_data"
    }
   ],
   "source": [
    "#индексируем заказы\n",
    "x_values = pd.Series(range(0, len(orders['revenue'])))\n",
    "\n",
    "#строим график\n",
    "plt.figure(figsize=(10, 6))\n",
    "plt.scatter(x_values, orders['revenue'], alpha=0.5, color='#789DBC')\n",
    "plt.title('Соотношение заказов и их стоимости')\n",
    "plt.xlabel('Заказы')\n",
    "plt.ylabel('Стоимость')\n",
    "plt.grid()\n",
    "\n",
    "plt.show()"
   ]
  },
  {
   "cell_type": "markdown",
   "id": "8aaeb393",
   "metadata": {},
   "source": [
    "Как мы и определили выше, заказа на 1294500 является выбросом и значительно искажает масштаб графика.\\\n",
    "Уберем его и заказ на 202740, который тоже входит в выбросы. \n",
    "\n",
    "Построим график по остальным значениям:"
   ]
  },
  {
   "cell_type": "code",
   "execution_count": 45,
   "id": "81e540a9",
   "metadata": {
    "ExecuteTime": {
     "end_time": "2024-12-14T08:59:14.277853Z",
     "start_time": "2024-12-14T08:59:14.210838Z"
    }
   },
   "outputs": [
    {
     "data": {
      "image/png": "[encoded data removed]",
      "text/plain": [
       "<Figure size 1000x600 with 1 Axes>"
      ]
     },
     "metadata": {},
     "output_type": "display_data"
    }
   ],
   "source": [
    "clean_orders = orders[orders['revenue'] <= 200000]['revenue']\n",
    "xn_values = pd.Series(range(0, len(clean_orders)))\n",
    "plt.figure(figsize=(10, 6))\n",
    "plt.scatter(xn_values, clean_orders, alpha=0.5, color='#789DBC')\n",
    "plt.title('Соотношение заказов и их стоимости за исключением выбросов')\n",
    "plt.xlabel('Заказы')\n",
    "plt.ylabel('Стоимость')\n",
    "plt.grid()\n",
    "\n",
    "plt.show()"
   ]
  },
  {
   "cell_type": "markdown",
   "id": "5bd77b07",
   "metadata": {},
   "source": [
    "**Вывод**:\\\n",
    "Практически все заказы находятся в диапазоне до 100000. Есть только 2 заказа, не попадающие в эту группу: на 202740\tи 1294500. "
   ]
  },
  {
   "cell_type": "markdown",
   "id": "b9a6bc75",
   "metadata": {},
   "source": [
    "### Углубленный анализ аномалий среди стоимости заказов"
   ]
  },
  {
   "cell_type": "code",
   "execution_count": 46,
   "id": "98bceb92",
   "metadata": {
    "ExecuteTime": {
     "end_time": "2024-12-14T08:59:14.282073Z",
     "start_time": "2024-12-14T08:59:14.278654Z"
    }
   },
   "outputs": [
    {
     "name": "stdout",
     "output_type": "stream",
     "text": [
      "[26785. 53904.]\n"
     ]
    }
   ],
   "source": [
    "print(np.percentile(orders['revenue'], [95, 99]))"
   ]
  },
  {
   "cell_type": "code",
   "execution_count": 47,
   "id": "ca458910",
   "metadata": {
    "ExecuteTime": {
     "end_time": "2024-12-14T08:59:14.285878Z",
     "start_time": "2024-12-14T08:59:14.283025Z"
    }
   },
   "outputs": [
    {
     "name": "stdout",
     "output_type": "stream",
     "text": [
      "[26785. 30649. 34792. 42353. 53904.]\n"
     ]
    }
   ],
   "source": [
    "print(np.percentile(orders['revenue'], [95, 96, 97, 98, 99])) "
   ]
  },
  {
   "cell_type": "markdown",
   "id": "580f134a",
   "metadata": {},
   "source": [
    "**Вывод**:\\\n",
    "Всего 5% заказов дороже 26785. Значения выше можем считать аномалиями."
   ]
  },
  {
   "cell_type": "markdown",
   "id": "8a1e5a4e",
   "metadata": {},
   "source": [
    "### Гипотеза 1\n",
    "Стат. значимость различий в среднем количестве заказов на посетителя между группами («очищенные» данные)"
   ]
  },
  {
   "cell_type": "markdown",
   "id": "2af4573b",
   "metadata": {},
   "source": [
    "Соберем все данные по заказам и визитам, включая кумулятивные показатели, в один фрейм.\n",
    "\n",
    "Сначала создадим несколько отдельных таблиц:"
   ]
  },
  {
   "cell_type": "code",
   "execution_count": 48,
   "id": "93eaf939",
   "metadata": {
    "ExecuteTime": {
     "end_time": "2024-12-14T08:59:14.341094Z",
     "start_time": "2024-12-14T08:59:14.286575Z"
    }
   },
   "outputs": [],
   "source": [
    "#ежедневные данные для группы A\n",
    "visitorsADaily = visitors[visitors['group'] == 'A'][['date', 'visitors']]\n",
    "visitorsADaily.columns = ['date', 'visitorsPerDateA']\n",
    "\n",
    "#накопительные данные для группы A\n",
    "visitorsACummulative = visitorsADaily.apply(\n",
    "    lambda x: visitorsADaily[visitorsADaily['date'] <= x['date']].agg(\n",
    "        {\n",
    "            'date': 'max',\n",
    "            'visitorsPerDateA': 'sum'\n",
    "        }),\n",
    "    axis=1,\n",
    ")\n",
    "visitorsACummulative.columns = ['date', 'visitorsCummulativeA']\n",
    "\n",
    "#ежедневные данные для группы В\n",
    "visitorsBDaily = visitors[visitors['group'] == 'B'][['date', 'visitors']]\n",
    "visitorsBDaily.columns = ['date', 'visitorsPerDateB']\n",
    "\n",
    "#накопительные данные для группы В\n",
    "visitorsBCummulative = visitorsBDaily.apply(\n",
    "    lambda x: visitorsBDaily[visitorsBDaily['date'] <= x['date']].agg(\n",
    "        {\n",
    "            'date': 'max',\n",
    "            'visitorsPerDateB': 'sum'\n",
    "        }),\n",
    "    axis=1,\n",
    ")\n",
    "visitorsBCummulative.columns = ['date', 'visitorsCummulativeB']\n",
    "\n",
    "#ежедневные данные о заказах для группы A\n",
    "ordersADaily = (orders[orders['group'] == 'A'][[\n",
    "    'date', 'transactionId', 'visitorId', 'revenue'\n",
    "]].groupby('date', as_index=False).agg({\n",
    "    'transactionId': pd.Series.nunique,\n",
    "    'revenue': 'sum'\n",
    "}))\n",
    "ordersADaily.columns = ['date', 'ordersPerDateA', 'revenuePerDateA']\n",
    "\n",
    "#накопительные данные о заказах для группы A\n",
    "ordersACummulative = ordersADaily.apply(\n",
    "    lambda x: ordersADaily[ordersADaily['date'] <= x['date']].agg(\n",
    "        {\n",
    "            'date': 'max',\n",
    "            'ordersPerDateA': 'sum',\n",
    "            'revenuePerDateA': 'sum'\n",
    "        }),\n",
    "    axis=1,\n",
    ").sort_values(by=['date'])\n",
    "ordersACummulative.columns = [\n",
    "    'date',\n",
    "    'ordersCummulativeA',\n",
    "    'revenueCummulativeA',\n",
    "]\n",
    "\n",
    "#ежедневные данные о заказах для группы B\n",
    "ordersBDaily = (orders[orders['group'] == 'B'][[\n",
    "    'date', 'transactionId', 'visitorId', 'revenue'\n",
    "]].groupby('date', as_index=False).agg({\n",
    "    'transactionId': pd.Series.nunique,\n",
    "    'revenue': 'sum'\n",
    "}))\n",
    "ordersBDaily.columns = ['date', 'ordersPerDateB', 'revenuePerDateB']\n",
    "\n",
    "#накопительные данные о заказах для группы В\n",
    "ordersBCummulative = ordersBDaily.apply(\n",
    "    lambda x: ordersBDaily[ordersBDaily['date'] <= x['date']].agg(\n",
    "        {\n",
    "            'date': 'max',\n",
    "            'ordersPerDateB': 'sum',\n",
    "            'revenuePerDateB': 'sum'\n",
    "        }),\n",
    "    axis=1,\n",
    ").sort_values(by=['date'])\n",
    "ordersBCummulative.columns = [\n",
    "    'date',\n",
    "    'ordersCummulativeB',\n",
    "    'revenueCummulativeB',\n",
    "]"
   ]
  },
  {
   "cell_type": "markdown",
   "id": "fce6bc1f",
   "metadata": {},
   "source": [
    "Объединим созданные таблицы:"
   ]
  },
  {
   "cell_type": "code",
   "execution_count": 49,
   "id": "2c25f10d",
   "metadata": {
    "ExecuteTime": {
     "end_time": "2024-12-14T08:59:14.350307Z",
     "start_time": "2024-12-14T08:59:14.342195Z"
    }
   },
   "outputs": [
    {
     "data": {
      "text/html": [
       "<div>\n",
       "<style scoped>\n",
       "    .dataframe tbody tr th:only-of-type {\n",
       "        vertical-align: middle;\n",
       "    }\n",
       "\n",
       "    .dataframe tbody tr th {\n",
       "        vertical-align: top;\n",
       "    }\n",
       "\n",
       "    .dataframe thead th {\n",
       "        text-align: right;\n",
       "    }\n",
       "</style>\n",
       "<table border=\"1\" class=\"dataframe\">\n",
       "  <thead>\n",
       "    <tr style=\"text-align: right;\">\n",
       "      <th></th>\n",
       "      <th>date</th>\n",
       "      <th>ordersPerDateA</th>\n",
       "      <th>revenuePerDateA</th>\n",
       "      <th>ordersPerDateB</th>\n",
       "      <th>revenuePerDateB</th>\n",
       "      <th>ordersCummulativeA</th>\n",
       "      <th>revenueCummulativeA</th>\n",
       "      <th>ordersCummulativeB</th>\n",
       "      <th>revenueCummulativeB</th>\n",
       "      <th>visitorsPerDateA</th>\n",
       "      <th>visitorsPerDateB</th>\n",
       "      <th>visitorsCummulativeA</th>\n",
       "      <th>visitorsCummulativeB</th>\n",
       "    </tr>\n",
       "  </thead>\n",
       "  <tbody>\n",
       "    <tr>\n",
       "      <th>0</th>\n",
       "      <td>2019-08-01</td>\n",
       "      <td>23</td>\n",
       "      <td>142779</td>\n",
       "      <td>17</td>\n",
       "      <td>59758</td>\n",
       "      <td>23</td>\n",
       "      <td>142779</td>\n",
       "      <td>17</td>\n",
       "      <td>59758</td>\n",
       "      <td>718</td>\n",
       "      <td>710</td>\n",
       "      <td>718</td>\n",
       "      <td>710</td>\n",
       "    </tr>\n",
       "    <tr>\n",
       "      <th>1</th>\n",
       "      <td>2019-08-02</td>\n",
       "      <td>19</td>\n",
       "      <td>91602</td>\n",
       "      <td>23</td>\n",
       "      <td>162043</td>\n",
       "      <td>42</td>\n",
       "      <td>234381</td>\n",
       "      <td>40</td>\n",
       "      <td>221801</td>\n",
       "      <td>618</td>\n",
       "      <td>580</td>\n",
       "      <td>1336</td>\n",
       "      <td>1290</td>\n",
       "    </tr>\n",
       "    <tr>\n",
       "      <th>2</th>\n",
       "      <td>2019-08-03</td>\n",
       "      <td>24</td>\n",
       "      <td>112473</td>\n",
       "      <td>14</td>\n",
       "      <td>67049</td>\n",
       "      <td>66</td>\n",
       "      <td>346854</td>\n",
       "      <td>54</td>\n",
       "      <td>288850</td>\n",
       "      <td>507</td>\n",
       "      <td>507</td>\n",
       "      <td>1843</td>\n",
       "      <td>1797</td>\n",
       "    </tr>\n",
       "    <tr>\n",
       "      <th>3</th>\n",
       "      <td>2019-08-04</td>\n",
       "      <td>11</td>\n",
       "      <td>41176</td>\n",
       "      <td>14</td>\n",
       "      <td>96890</td>\n",
       "      <td>77</td>\n",
       "      <td>388030</td>\n",
       "      <td>68</td>\n",
       "      <td>385740</td>\n",
       "      <td>713</td>\n",
       "      <td>767</td>\n",
       "      <td>2556</td>\n",
       "      <td>2564</td>\n",
       "    </tr>\n",
       "    <tr>\n",
       "      <th>4</th>\n",
       "      <td>2019-08-05</td>\n",
       "      <td>22</td>\n",
       "      <td>86383</td>\n",
       "      <td>21</td>\n",
       "      <td>89908</td>\n",
       "      <td>99</td>\n",
       "      <td>474413</td>\n",
       "      <td>89</td>\n",
       "      <td>475648</td>\n",
       "      <td>753</td>\n",
       "      <td>705</td>\n",
       "      <td>3309</td>\n",
       "      <td>3269</td>\n",
       "    </tr>\n",
       "  </tbody>\n",
       "</table>\n",
       "</div>"
      ],
      "text/plain": [
       "        date  ordersPerDateA  revenuePerDateA  ordersPerDateB  \\\n",
       "0 2019-08-01              23           142779              17   \n",
       "1 2019-08-02              19            91602              23   \n",
       "2 2019-08-03              24           112473              14   \n",
       "3 2019-08-04              11            41176              14   \n",
       "4 2019-08-05              22            86383              21   \n",
       "\n",
       "   revenuePerDateB  ordersCummulativeA  revenueCummulativeA  \\\n",
       "0            59758                  23               142779   \n",
       "1           162043                  42               234381   \n",
       "2            67049                  66               346854   \n",
       "3            96890                  77               388030   \n",
       "4            89908                  99               474413   \n",
       "\n",
       "   ordersCummulativeB  revenueCummulativeB  visitorsPerDateA  \\\n",
       "0                  17                59758               718   \n",
       "1                  40               221801               618   \n",
       "2                  54               288850               507   \n",
       "3                  68               385740               713   \n",
       "4                  89               475648               753   \n",
       "\n",
       "   visitorsPerDateB  visitorsCummulativeA  visitorsCummulativeB  \n",
       "0               710                   718                   710  \n",
       "1               580                  1336                  1290  \n",
       "2               507                  1843                  1797  \n",
       "3               767                  2556                  2564  \n",
       "4               705                  3309                  3269  "
      ]
     },
     "execution_count": 49,
     "metadata": {},
     "output_type": "execute_result"
    }
   ],
   "source": [
    "data = (\n",
    "    ordersADaily.merge(\n",
    "        ordersBDaily, left_on='date', right_on='date', how='left'\n",
    "    )\n",
    "    .merge(ordersACummulative, left_on='date', right_on='date', how='left')\n",
    "    .merge(ordersBCummulative, left_on='date', right_on='date', how='left')\n",
    "    .merge(visitorsADaily, left_on='date', right_on='date', how='left')\n",
    "    .merge(visitorsBDaily, left_on='date', right_on='date', how='left')\n",
    "    .merge(visitorsACummulative, left_on='date', right_on='date', how='left')\n",
    "    .merge(visitorsBCummulative, left_on='date', right_on='date', how='left')\n",
    ")\n",
    "\n",
    "data.head(5)"
   ]
  },
  {
   "cell_type": "markdown",
   "id": "31ee2cd8",
   "metadata": {},
   "source": [
    "Для каждой группы соберем таблицу заказов по пользователям:"
   ]
  },
  {
   "cell_type": "code",
   "execution_count": 50,
   "id": "83e3951f",
   "metadata": {
    "ExecuteTime": {
     "end_time": "2024-12-14T08:59:14.373249Z",
     "start_time": "2024-12-14T08:59:14.351463Z"
    }
   },
   "outputs": [],
   "source": [
    "ordersByUsersA = (orders[orders['group'] == 'A'].groupby(\n",
    "    'visitorId', as_index=False).agg({'transactionId': pd.Series.nunique}))\n",
    "ordersByUsersA.columns = ['userId', 'orders']\n",
    "\n",
    "ordersByUsersB = (orders[orders['group'] == 'B'].groupby(\n",
    "    'visitorId', as_index=False).agg({'transactionId': pd.Series.nunique}))\n",
    "ordersByUsersB.columns = ['visitorId', 'orders']"
   ]
  },
  {
   "cell_type": "markdown",
   "id": "d2864597",
   "metadata": {},
   "source": [
    "Выведем основные показатели по заказам:"
   ]
  },
  {
   "cell_type": "code",
   "execution_count": 51,
   "id": "609ec1fb",
   "metadata": {
    "ExecuteTime": {
     "end_time": "2024-12-14T08:59:14.378323Z",
     "start_time": "2024-12-14T08:59:14.373918Z"
    }
   },
   "outputs": [
    {
     "name": "stdout",
     "output_type": "stream",
     "text": [
      "Кол-во покупателей в группе A: 445\n",
      "Кол-во покупок в группе А: 468\n",
      "Кол-во посетителей в группе A: 18650\n",
      "\n",
      "Кол-во покупателей в группе B: 528\n",
      "Кол-во покупок в группе B: 548\n",
      "Кол-во посетителей в группе B: 18832\n"
     ]
    }
   ],
   "source": [
    "print('Кол-во покупателей в группе A: {}'.format(len(ordersByUsersA)))\n",
    "print('Кол-во покупок в группе А: {}'.format(ordersByUsersA['orders'].sum()))\n",
    "print('Кол-во посетителей в группе A: {}\\n'.format(visitors[visitors['group']=='A']['visitors'].sum()))\n",
    "print('Кол-во покупателей в группе B: {}'.format(len(ordersByUsersB)))\n",
    "print('Кол-во покупок в группе B: {}'.format(ordersByUsersB['orders'].sum()))\n",
    "print('Кол-во посетителей в группе B: {}'.format(visitors[visitors['group']=='B']['visitors'].sum()))"
   ]
  },
  {
   "cell_type": "markdown",
   "id": "820d5d0c",
   "metadata": {},
   "source": [
    "Далее, для каждой группы объединяем количество заказов для всех посетителей (включая нули для тех, кто заказов не делал):"
   ]
  },
  {
   "cell_type": "code",
   "execution_count": 52,
   "id": "e620a885",
   "metadata": {
    "ExecuteTime": {
     "end_time": "2024-12-14T08:59:14.382946Z",
     "start_time": "2024-12-14T08:59:14.379944Z"
    }
   },
   "outputs": [],
   "source": [
    "sampleA = pd.concat([\n",
    "    ordersByUsersA['orders'],\n",
    "    pd.Series(0,\n",
    "              index=np.arange(data['visitorsPerDateA'].sum() -\n",
    "                              len(ordersByUsersA['orders'])),\n",
    "              name='orders')\n",
    "],\n",
    "                    axis=0)\n",
    "sampleB = pd.concat([\n",
    "    ordersByUsersB['orders'],\n",
    "    pd.Series(0,\n",
    "              index=np.arange(data['visitorsPerDateB'].sum() -\n",
    "                              len(ordersByUsersB['orders'])),\n",
    "              name='orders')\n",
    "],\n",
    "                    axis=0)"
   ]
  },
  {
   "cell_type": "markdown",
   "id": "413ed13d",
   "metadata": {},
   "source": [
    "Проверим, что данные корректно объединились:"
   ]
  },
  {
   "cell_type": "code",
   "execution_count": 53,
   "id": "d792db23",
   "metadata": {
    "ExecuteTime": {
     "end_time": "2024-12-14T08:59:14.386560Z",
     "start_time": "2024-12-14T08:59:14.383702Z"
    }
   },
   "outputs": [
    {
     "name": "stdout",
     "output_type": "stream",
     "text": [
      "orders\n",
      "0    18205\n",
      "1      427\n",
      "2       13\n",
      "3        5\n",
      "Name: count, dtype: int64\n",
      "orders\n",
      "0    18304\n",
      "1      510\n",
      "2       16\n",
      "3        2\n",
      "Name: count, dtype: int64\n"
     ]
    }
   ],
   "source": [
    "print(sampleA.value_counts())\n",
    "print(sampleB.value_counts())"
   ]
  },
  {
   "cell_type": "markdown",
   "id": "880ab19a",
   "metadata": {},
   "source": [
    "**Данные подготовлены, проверяем гипотезы:**.\\\n",
    "**Н0**: в конверсиях групп нет статистически значимых различий\\\n",
    "**Н1**: статистически значимые различия в конверсиях групп есть"
   ]
  },
  {
   "cell_type": "code",
   "execution_count": 54,
   "id": "50ffe4fb",
   "metadata": {
    "ExecuteTime": {
     "end_time": "2024-12-14T08:59:14.392953Z",
     "start_time": "2024-12-14T08:59:14.387820Z"
    }
   },
   "outputs": [
    {
     "name": "stdout",
     "output_type": "stream",
     "text": [
      "Пороговое значение alpha = 0.05\n",
      "p-value = 0.011\n",
      "Отвергаем нулевую гипотезу\n",
      "Отношение конверсий группы B к группе A = 0.160\n"
     ]
    }
   ],
   "source": [
    "#пороговое значение для alpha\n",
    "alpha_level = 0.05\n",
    "print(f\"Пороговое значение alpha = {alpha_level}\")\n",
    "\n",
    "#проводим тест Манна-Уитни\n",
    "u_stat, p_val = stats.mannwhitneyu(sampleA, sampleB, alternative='two-sided')\n",
    "print(f\"p-value = {p_val:.3f}\")\n",
    "\n",
    "if p_val < alpha_level:\n",
    "    print('Отвергаем нулевую гипотезу')\n",
    "else:\n",
    "    print('Не получилось отвергнуть нулевую гипотезу')\n",
    "\n",
    "#отношение конверсий группы B к группе A\n",
    "conversion_ratio = sampleB.mean() / sampleA.mean() - 1\n",
    "print(f\"Отношение конверсий группы B к группе A = {conversion_ratio:.3f}\")"
   ]
  },
  {
   "cell_type": "markdown",
   "id": "2100d3ac",
   "metadata": {},
   "source": [
    "**Вывод**:\\\n",
    "p-value = 0.017, что меньше заданного 0.05: **отвергаем Н0 (в конверсиях групп нет статистически значимых различий)**.\\\n",
    "Это означает, что на \"сырых\" данных существуют различия в конверсии между группами A и B.\\\n",
    "Относительное преимущество группы \"B\" над группой \"A\" составляет 13.8%."
   ]
  },
  {
   "cell_type": "markdown",
   "id": "c029088a",
   "metadata": {},
   "source": [
    "### Гипотеза 2\n",
    "Стат. значимость различий в среднем чеке заказа между группами А и В («сырые» данные)"
   ]
  },
  {
   "cell_type": "markdown",
   "id": "30356fa5",
   "metadata": {},
   "source": [
    "**Н0**: между группами не статистически значимых различий в средних чеках\\\n",
    "**Н1**: статистически значимые различия есть"
   ]
  },
  {
   "cell_type": "code",
   "execution_count": 55,
   "id": "663beb45",
   "metadata": {
    "ExecuteTime": {
     "end_time": "2024-12-14T08:59:14.398849Z",
     "start_time": "2024-12-14T08:59:14.393973Z"
    }
   },
   "outputs": [
    {
     "name": "stdout",
     "output_type": "stream",
     "text": [
      "Пороговое значение alpha = 0.05\n",
      "p-value = 0.829\n",
      "Не получилось отвергнуть нулевую гипотезу\n",
      "Отношение среднего чека группы B к группе A = 0.287\n"
     ]
    }
   ],
   "source": [
    "print(f\"Пороговое значение alpha = 0.05\")\n",
    "\n",
    "#тест Манна-Уитни\n",
    "groupA_revenue = orders[orders['group'] == 'A']['revenue']\n",
    "groupB_revenue = orders[orders['group'] == 'B']['revenue']\n",
    "u_statistic, p_value = stats.mannwhitneyu(groupA_revenue,\n",
    "                                          groupB_revenue,\n",
    "                                          alternative='two-sided')\n",
    "print(f\"p-value = {p_value:.3f}\")\n",
    "\n",
    "if p_value < 0.05:\n",
    "    print('Отвергаем нулевую гипотезу')\n",
    "else:\n",
    "    print('Не получилось отвергнуть нулевую гипотезу')\n",
    "\n",
    "#отношение среднего чека группы B к группе A\n",
    "mean_revenue_A = groupA_revenue.mean()\n",
    "mean_revenue_B = groupB_revenue.mean()\n",
    "relative_difference = (mean_revenue_B / mean_revenue_A) - 1\n",
    "print(\n",
    "    f\"Отношение среднего чека группы B к группе A = {relative_difference:.3f}\")"
   ]
  },
  {
   "cell_type": "markdown",
   "id": "650e17b3",
   "metadata": {},
   "source": [
    "**Вывод**:\\\n",
    "P-value гораздо больше 0.05 - **отвергнуть Н0 (между группами не статистически значимых различий в средних чеках) не можем**. \\\n",
    "Средний чек группы B выше среднего чека группы A (на 26%), но это не стат.значимо."
   ]
  },
  {
   "cell_type": "markdown",
   "id": "c85c0feb",
   "metadata": {},
   "source": [
    "### Гипотеза 3\n",
    "Различие в конверсии между группами («очищенные» данные)"
   ]
  },
  {
   "cell_type": "markdown",
   "id": "0eae330d",
   "metadata": {},
   "source": [
    "Ранее мы определили, что аномалиями являются значения выше:\n",
    "- 3 и больше заказов\n",
    "- сумма заказа дороже 58233"
   ]
  },
  {
   "cell_type": "markdown",
   "id": "f9e76e04",
   "metadata": {},
   "source": [
    "На основании этого, подготовим очищенные данные.\\\n",
    "Зададим предельные кол-во заказов и сумму покупки:"
   ]
  },
  {
   "cell_type": "code",
   "execution_count": 56,
   "id": "3ecb5a64",
   "metadata": {
    "ExecuteTime": {
     "end_time": "2024-12-14T08:59:14.401696Z",
     "start_time": "2024-12-14T08:59:14.400048Z"
    }
   },
   "outputs": [],
   "source": [
    "limit_orders = 1\n",
    "limit_revenue = 26785"
   ]
  },
  {
   "cell_type": "code",
   "execution_count": 57,
   "id": "b1c2eafe",
   "metadata": {
    "ExecuteTime": {
     "end_time": "2024-12-14T08:59:14.408527Z",
     "start_time": "2024-12-14T08:59:14.403286Z"
    }
   },
   "outputs": [
    {
     "data": {
      "text/plain": [
       "568     113298937\n",
       "1099    148427295\n",
       "928     204675465\n",
       "33      249864742\n",
       "684     358944393\n",
       "dtype: int64"
      ]
     },
     "execution_count": 57,
     "metadata": {},
     "output_type": "execute_result"
    }
   ],
   "source": [
    "usersWithManyOrders = pd.concat([\n",
    "    ordersByUsersA[ordersByUsersA['orders'] > limit_orders]['userId'],\n",
    "    ordersByUsersB[ordersByUsersB['orders'] > limit_orders]['visitorId']\n",
    "],\n",
    "                                axis=0)\n",
    "usersWithExpensiveOrders = orders[orders['revenue'] > limit_revenue]['visitorId']\n",
    "abnormalUsers = pd.concat([usersWithManyOrders, usersWithExpensiveOrders],\n",
    "                          axis=0).drop_duplicates().sort_values()\n",
    "\n",
    "abnormalUsers.head(5)"
   ]
  },
  {
   "cell_type": "markdown",
   "id": "74f3a10e",
   "metadata": {
    "ExecuteTime": {
     "end_time": "2024-10-20T09:14:00.406602Z",
     "start_time": "2024-10-20T09:14:00.400157Z"
    }
   },
   "source": [
    "Далее подготовим выборки количества заказов по пользователям для каждой группы:"
   ]
  },
  {
   "cell_type": "code",
   "execution_count": 58,
   "id": "bdb852f8",
   "metadata": {
    "ExecuteTime": {
     "end_time": "2024-12-14T08:59:14.414444Z",
     "start_time": "2024-12-14T08:59:14.409564Z"
    }
   },
   "outputs": [
    {
     "name": "stdout",
     "output_type": "stream",
     "text": [
      "orders\n",
      "0    18205\n",
      "1      406\n",
      "Name: count, dtype: int64\n",
      "orders\n",
      "0    18304\n",
      "1      481\n",
      "Name: count, dtype: int64\n"
     ]
    }
   ],
   "source": [
    "sampleAFiltered = pd.concat([ordersByUsersA[np.logical_not(ordersByUsersA['userId'].isin(abnormalUsers))]['orders'], \\\n",
    "                             pd.Series(0, index=np.arange(data['visitorsPerDateA'].sum() - len(ordersByUsersA['orders'])), \\\n",
    "                                       name='orders')],axis=0)\n",
    "\n",
    "sampleBFiltered = pd.concat([ordersByUsersB[np.logical_not(ordersByUsersB['visitorId'].isin(abnormalUsers))]['orders'], \\\n",
    "                             pd.Series(0, index=np.arange(data['visitorsPerDateB'].sum() - len(ordersByUsersB['orders'])), \\\n",
    "                                       name='orders')],axis=0)\n",
    "\n",
    "print(sampleAFiltered.value_counts())\n",
    "print(sampleBFiltered.value_counts())"
   ]
  },
  {
   "cell_type": "markdown",
   "id": "c294b9d8",
   "metadata": {},
   "source": [
    "Для проверки гипотезы так же применяем критерий Манна-Уитни для сравнения выборок sampleAFiltered и sampleBFiltered:\n",
    "\n",
    "**Н0**: статистически значимых различий в конверсии между группами нет\\\n",
    "**Н1**: статистически значимые различия в конверсии между группами есть"
   ]
  },
  {
   "cell_type": "code",
   "execution_count": 59,
   "id": "2631f9f6",
   "metadata": {
    "ExecuteTime": {
     "end_time": "2024-12-14T08:59:14.420438Z",
     "start_time": "2024-12-14T08:59:14.416130Z"
    },
    "scrolled": true
   },
   "outputs": [
    {
     "name": "stdout",
     "output_type": "stream",
     "text": [
      "Пороговое значение alpha = 0.05\n",
      "p-value = 0.016\n",
      "Отвергаем нулевую гипотезу\n",
      "Отношение конверсий группы B к группе A = 0.174\n"
     ]
    }
   ],
   "source": [
    "alpha = 0.05\n",
    "print(f\"Пороговое значение alpha = {alpha}\")\n",
    "\n",
    "#тест Манна-Уитни\n",
    "u_statistic, p_value = stats.mannwhitneyu(sampleAFiltered,\n",
    "                                          sampleBFiltered,\n",
    "                                          alternative='two-sided')\n",
    "print(f\"p-value = {p_value:.3f}\")\n",
    "\n",
    "if p_value < alpha:\n",
    "    print('Отвергаем нулевую гипотезу')\n",
    "else:\n",
    "    print('Не получилось отвергнуть нулевую гипотезу')\n",
    "\n",
    "#отношение конверсий группы B к группе A\n",
    "conversion_ratio = sampleBFiltered.mean() / sampleAFiltered.mean() - 1\n",
    "print(f\"Отношение конверсий группы B к группе A = {conversion_ratio:.3f}\")"
   ]
  },
  {
   "cell_type": "markdown",
   "id": "f67106cf",
   "metadata": {},
   "source": [
    "**Вывод**:\\\n",
    "p-value = 0.01 меньше порогового значения в 0.05.\\\n",
    "**Н0 (статистически значимых различий в конверсии между группами нет) - отвергаем**. По «очищенным» данным различия в конверсии групп A и B есть.\\\n",
    "Конверсия группы B выигрывает конверсию группы A в 17,4% (на «сырых» данных - 13,8%)."
   ]
  },
  {
   "cell_type": "markdown",
   "id": "d53c7bb3",
   "metadata": {},
   "source": [
    "### Гипотеза 4\n",
    "Стат. значимость различий в среднем чеке заказа между группами («очищенные» данные)"
   ]
  },
  {
   "cell_type": "markdown",
   "id": "c7948ae0",
   "metadata": {},
   "source": [
    "Отфильтруем данные, исключая аномальных пользователей, и разделим их по группам:"
   ]
  },
  {
   "cell_type": "code",
   "execution_count": 60,
   "id": "c01cad0a",
   "metadata": {
    "ExecuteTime": {
     "end_time": "2024-12-14T08:59:14.425327Z",
     "start_time": "2024-12-14T08:59:14.421361Z"
    }
   },
   "outputs": [],
   "source": [
    "groupA_revenue = orders[(orders['group'] == 'A') &\n",
    "                        (~orders['visitorId'].isin(abnormalUsers))]['revenue']\n",
    "groupB_revenue = orders[(orders['group'] == 'B') &\n",
    "                        (~orders['visitorId'].isin(abnormalUsers))]['revenue']"
   ]
  },
  {
   "cell_type": "markdown",
   "id": "034caac7",
   "metadata": {},
   "source": [
    "И снова используем стат тест Манна-Уитни для сравнения выручки между группами A и B:\\\n",
    "**Н0**: статистически значимых различий в среднем чеке заказа между группами нет\\\n",
    "**Н1**: статистически значимые различия в среднем чеке заказа между группами есть"
   ]
  },
  {
   "cell_type": "code",
   "execution_count": 61,
   "id": "60353d09",
   "metadata": {
    "ExecuteTime": {
     "end_time": "2024-12-14T08:59:14.430365Z",
     "start_time": "2024-12-14T08:59:14.426345Z"
    },
    "scrolled": true
   },
   "outputs": [
    {
     "name": "stdout",
     "output_type": "stream",
     "text": [
      "Пороговое значение alpha = 0.05\n",
      "p-value = 0.727\n",
      "Не получилось отвергнуть нулевую гипотезу\n",
      "Отношение среднего чека группы B к среднему чеку группы A = -0.034\n"
     ]
    }
   ],
   "source": [
    "print(f\"Пороговое значение alpha = 0.05\")\n",
    "\n",
    "#тест Манна-Уитни\n",
    "u_statistic, p_value = stats.mannwhitneyu(groupA_revenue,\n",
    "                                          groupB_revenue,\n",
    "                                          alternative='two-sided')\n",
    "print(f\"p-value = {p_value:.3f}\")\n",
    "\n",
    "if p_value < alpha:\n",
    "    print('Отвергаем нулевую гипотезу')\n",
    "else:\n",
    "    print('Не получилось отвергнуть нулевую гипотезу')\n",
    "\n",
    "#относительное различие средней выручки между группами B и A\n",
    "mean_revenue_A = groupA_revenue.mean()\n",
    "mean_revenue_B = groupB_revenue.mean()\n",
    "relative_difference = (mean_revenue_B / mean_revenue_A) - 1\n",
    "print(\n",
    "    f\"Отношение среднего чека группы B к среднему чеку группы A = {relative_difference:.3f}\"\n",
    ")"
   ]
  },
  {
   "cell_type": "markdown",
   "id": "da490318",
   "metadata": {},
   "source": [
    "**Вывод**:\\\n",
    "P-value значительно выше 0.05. Значит, **причин отвергать Н0 (статистически значимых различий в среднем чеке заказа между группами нет) нет**.\\\n",
    "Интересно отметить, что средний чек группы B оказался незначительно ниже среднего чека группы A (2%).\n",
    "А по \"сырым\" данным он был в разы больше (26%). Такое влияние оказал тот самый заказ на 1,3 млн.\n",
    "**Но эти значения являются не стат.значимыми.**"
   ]
  },
  {
   "cell_type": "markdown",
   "id": "7e52089b",
   "metadata": {},
   "source": [
    "# Итоги и рекомендации"
   ]
  },
  {
   "cell_type": "markdown",
   "id": "8df55ee8",
   "metadata": {},
   "source": [
    "**По результатам тестирования было выявлено**:\n",
    "\n",
    "Конверсия:\n",
    "- Как по \"сырым\", так и по \"очищенным\" данным, существуют различия в конверсии между группами A и B.\n",
    "- Относительное преимущество группы \"B\" над группой \"A\" составляет 17,4% по \"очищенным\" данным и 13,8% по \"сырым\" данным.\n",
    "\n",
    "Средний чек:\n",
    "- Анализ показал, что средние чеки групп A и B не отличаются ни по \"сырым\", ни по \"очищенным\" данным.\n",
    "- Несмотря на это, средний чек группы B оказался немного (на 2%) ниже среднего чека группы A по \"очищенным\" данным, тогда как по \"сырым\" данным он был выше на 26%, но это не стат.значимо.\n",
    "- Это различие вызвано аномальным заказом на сумму 1,3 млн. После удаления этого выброса, средние чеки групп сравнялись.\n",
    "\n",
    "**Рекомендации**:\n",
    "- можно принять решение о завершить тестирование и признать успех группы B. Группа B показала значительно лучшие результаты по конверсии, хотя средние чеки обеих групп оказались примерно одинаковыми.\n",
    "- при дальнейшем проектировании и проведении A/B-тестирования, стоит обратить особое внимание на распредление групп."
   ]
  }
 ],
 "metadata": {
  "ExecuteTimeLog": [
   {
    "duration": 1242,
    "start_time": "2024-10-20T11:31:14.865Z"
   },
   {
    "duration": 83,
    "start_time": "2024-10-20T11:31:16.109Z"
   },
   {
    "duration": 10,
    "start_time": "2024-10-20T11:31:16.194Z"
   },
   {
    "duration": 32,
    "start_time": "2024-10-20T11:31:16.206Z"
   },
   {
    "duration": 31,
    "start_time": "2024-10-20T11:31:16.240Z"
   },
   {
    "duration": 10,
    "start_time": "2024-10-20T11:31:16.273Z"
   },
   {
    "duration": 112,
    "start_time": "2024-10-20T11:31:16.285Z"
   },
   {
    "duration": 10,
    "start_time": "2024-10-20T11:31:16.399Z"
   },
   {
    "duration": 23,
    "start_time": "2024-10-20T11:31:16.411Z"
   },
   {
    "duration": 97,
    "start_time": "2024-10-20T11:31:16.437Z"
   },
   {
    "duration": 13,
    "start_time": "2024-10-20T11:31:16.536Z"
   },
   {
    "duration": 67,
    "start_time": "2024-10-20T11:31:16.550Z"
   },
   {
    "duration": 293,
    "start_time": "2024-10-20T11:31:16.619Z"
   },
   {
    "duration": 10,
    "start_time": "2024-10-20T11:31:16.913Z"
   },
   {
    "duration": 21,
    "start_time": "2024-10-20T11:31:16.924Z"
   },
   {
    "duration": 19,
    "start_time": "2024-10-20T11:31:16.947Z"
   },
   {
    "duration": 21,
    "start_time": "2024-10-20T11:31:16.968Z"
   },
   {
    "duration": 255,
    "start_time": "2024-10-20T11:31:16.991Z"
   },
   {
    "duration": 11,
    "start_time": "2024-10-20T11:31:17.247Z"
   },
   {
    "duration": 15,
    "start_time": "2024-10-20T11:31:17.260Z"
   },
   {
    "duration": 213,
    "start_time": "2024-10-20T11:31:17.276Z"
   },
   {
    "duration": 5,
    "start_time": "2024-10-20T11:31:17.491Z"
   },
   {
    "duration": 373,
    "start_time": "2024-10-20T11:31:17.498Z"
   },
   {
    "duration": 6,
    "start_time": "2024-10-20T11:31:17.873Z"
   },
   {
    "duration": 219,
    "start_time": "2024-10-20T11:31:17.880Z"
   },
   {
    "duration": 8,
    "start_time": "2024-10-20T11:31:18.101Z"
   },
   {
    "duration": 353,
    "start_time": "2024-10-20T11:31:18.111Z"
   },
   {
    "duration": 10,
    "start_time": "2024-10-20T11:31:18.467Z"
   },
   {
    "duration": 7,
    "start_time": "2024-10-20T11:31:18.479Z"
   },
   {
    "duration": 157,
    "start_time": "2024-10-20T11:31:18.487Z"
   },
   {
    "duration": 3,
    "start_time": "2024-10-20T11:31:18.646Z"
   },
   {
    "duration": 4,
    "start_time": "2024-10-20T11:31:18.651Z"
   },
   {
    "duration": 13,
    "start_time": "2024-10-20T11:31:18.656Z"
   },
   {
    "duration": 7,
    "start_time": "2024-10-20T11:31:18.671Z"
   },
   {
    "duration": 173,
    "start_time": "2024-10-20T11:31:18.679Z"
   },
   {
    "duration": 162,
    "start_time": "2024-10-20T11:31:18.854Z"
   },
   {
    "duration": 4,
    "start_time": "2024-10-20T11:31:19.017Z"
   },
   {
    "duration": 289,
    "start_time": "2024-10-20T11:31:19.023Z"
   },
   {
    "duration": 34,
    "start_time": "2024-10-20T11:31:19.314Z"
   },
   {
    "duration": 163,
    "start_time": "2024-10-20T11:31:19.350Z"
   },
   {
    "duration": 6,
    "start_time": "2024-10-20T11:31:19.515Z"
   },
   {
    "duration": 69,
    "start_time": "2024-10-20T11:31:19.522Z"
   },
   {
    "duration": 27,
    "start_time": "2024-10-20T11:31:19.593Z"
   },
   {
    "duration": 10,
    "start_time": "2024-10-20T11:31:19.621Z"
   },
   {
    "duration": 12,
    "start_time": "2024-10-20T11:31:19.632Z"
   },
   {
    "duration": 10,
    "start_time": "2024-10-20T11:31:19.645Z"
   },
   {
    "duration": 32,
    "start_time": "2024-10-20T11:31:19.656Z"
   },
   {
    "duration": 6,
    "start_time": "2024-10-20T11:31:19.690Z"
   },
   {
    "duration": 15,
    "start_time": "2024-10-20T11:31:19.698Z"
   },
   {
    "duration": 54,
    "start_time": "2024-10-21T07:05:06.434Z"
   },
   {
    "duration": 1322,
    "start_time": "2024-10-21T07:05:30.756Z"
   },
   {
    "duration": 109,
    "start_time": "2024-10-21T07:05:32.080Z"
   },
   {
    "duration": 13,
    "start_time": "2024-10-21T07:05:32.191Z"
   },
   {
    "duration": 37,
    "start_time": "2024-10-21T07:05:32.207Z"
   },
   {
    "duration": 108,
    "start_time": "2024-10-21T07:05:32.245Z"
   },
   {
    "duration": 0,
    "start_time": "2024-10-21T07:05:32.355Z"
   },
   {
    "duration": 0,
    "start_time": "2024-10-21T07:05:32.357Z"
   },
   {
    "duration": 0,
    "start_time": "2024-10-21T07:05:32.358Z"
   },
   {
    "duration": 0,
    "start_time": "2024-10-21T07:05:32.359Z"
   },
   {
    "duration": 0,
    "start_time": "2024-10-21T07:05:32.361Z"
   },
   {
    "duration": 0,
    "start_time": "2024-10-21T07:05:32.362Z"
   },
   {
    "duration": 0,
    "start_time": "2024-10-21T07:05:32.363Z"
   },
   {
    "duration": 0,
    "start_time": "2024-10-21T07:05:32.364Z"
   },
   {
    "duration": 0,
    "start_time": "2024-10-21T07:05:32.365Z"
   },
   {
    "duration": 0,
    "start_time": "2024-10-21T07:05:32.366Z"
   },
   {
    "duration": 0,
    "start_time": "2024-10-21T07:05:32.367Z"
   },
   {
    "duration": 0,
    "start_time": "2024-10-21T07:05:32.368Z"
   },
   {
    "duration": 0,
    "start_time": "2024-10-21T07:05:32.370Z"
   },
   {
    "duration": 0,
    "start_time": "2024-10-21T07:05:32.371Z"
   },
   {
    "duration": 0,
    "start_time": "2024-10-21T07:05:32.372Z"
   },
   {
    "duration": 0,
    "start_time": "2024-10-21T07:05:32.373Z"
   },
   {
    "duration": 1,
    "start_time": "2024-10-21T07:05:32.398Z"
   },
   {
    "duration": 0,
    "start_time": "2024-10-21T07:05:32.401Z"
   },
   {
    "duration": 0,
    "start_time": "2024-10-21T07:05:32.403Z"
   },
   {
    "duration": 0,
    "start_time": "2024-10-21T07:05:32.406Z"
   },
   {
    "duration": 0,
    "start_time": "2024-10-21T07:05:32.407Z"
   },
   {
    "duration": 0,
    "start_time": "2024-10-21T07:05:32.408Z"
   },
   {
    "duration": 0,
    "start_time": "2024-10-21T07:05:32.410Z"
   },
   {
    "duration": 0,
    "start_time": "2024-10-21T07:05:32.411Z"
   },
   {
    "duration": 0,
    "start_time": "2024-10-21T07:05:32.413Z"
   },
   {
    "duration": 0,
    "start_time": "2024-10-21T07:05:32.415Z"
   },
   {
    "duration": 0,
    "start_time": "2024-10-21T07:05:32.417Z"
   },
   {
    "duration": 0,
    "start_time": "2024-10-21T07:05:32.418Z"
   },
   {
    "duration": 0,
    "start_time": "2024-10-21T07:05:32.420Z"
   },
   {
    "duration": 0,
    "start_time": "2024-10-21T07:05:32.422Z"
   },
   {
    "duration": 0,
    "start_time": "2024-10-21T07:05:32.424Z"
   },
   {
    "duration": 0,
    "start_time": "2024-10-21T07:05:32.425Z"
   },
   {
    "duration": 0,
    "start_time": "2024-10-21T07:05:32.428Z"
   },
   {
    "duration": 0,
    "start_time": "2024-10-21T07:05:32.430Z"
   },
   {
    "duration": 0,
    "start_time": "2024-10-21T07:05:32.432Z"
   },
   {
    "duration": 0,
    "start_time": "2024-10-21T07:05:32.433Z"
   },
   {
    "duration": 0,
    "start_time": "2024-10-21T07:05:32.434Z"
   },
   {
    "duration": 1,
    "start_time": "2024-10-21T07:05:32.435Z"
   },
   {
    "duration": 0,
    "start_time": "2024-10-21T07:05:32.437Z"
   },
   {
    "duration": 0,
    "start_time": "2024-10-21T07:05:32.438Z"
   },
   {
    "duration": 0,
    "start_time": "2024-10-21T07:05:32.440Z"
   },
   {
    "duration": 0,
    "start_time": "2024-10-21T07:05:32.498Z"
   },
   {
    "duration": 0,
    "start_time": "2024-10-21T07:05:32.499Z"
   },
   {
    "duration": 0,
    "start_time": "2024-10-21T07:05:32.500Z"
   },
   {
    "duration": 13,
    "start_time": "2024-10-21T07:08:20.339Z"
   },
   {
    "duration": 13,
    "start_time": "2024-10-21T07:10:31.393Z"
   },
   {
    "duration": 7,
    "start_time": "2024-10-21T07:11:39.547Z"
   },
   {
    "duration": 13,
    "start_time": "2024-10-21T07:11:44.377Z"
   },
   {
    "duration": 12,
    "start_time": "2024-10-21T07:13:30.251Z"
   },
   {
    "duration": 38,
    "start_time": "2024-10-21T07:14:01.272Z"
   },
   {
    "duration": 960,
    "start_time": "2024-10-21T07:15:16.362Z"
   },
   {
    "duration": 1171,
    "start_time": "2024-10-21T07:15:29.080Z"
   },
   {
    "duration": 43,
    "start_time": "2024-10-21T07:15:30.253Z"
   },
   {
    "duration": 11,
    "start_time": "2024-10-21T07:15:30.298Z"
   },
   {
    "duration": 1075,
    "start_time": "2024-10-21T07:15:30.310Z"
   },
   {
    "duration": 0,
    "start_time": "2024-10-21T07:15:31.388Z"
   },
   {
    "duration": 0,
    "start_time": "2024-10-21T07:15:31.389Z"
   },
   {
    "duration": 0,
    "start_time": "2024-10-21T07:15:31.391Z"
   },
   {
    "duration": 0,
    "start_time": "2024-10-21T07:15:31.392Z"
   },
   {
    "duration": 0,
    "start_time": "2024-10-21T07:15:31.393Z"
   },
   {
    "duration": 0,
    "start_time": "2024-10-21T07:15:31.394Z"
   },
   {
    "duration": 0,
    "start_time": "2024-10-21T07:15:31.395Z"
   },
   {
    "duration": 0,
    "start_time": "2024-10-21T07:15:31.396Z"
   },
   {
    "duration": 0,
    "start_time": "2024-10-21T07:15:31.397Z"
   },
   {
    "duration": 0,
    "start_time": "2024-10-21T07:15:31.398Z"
   },
   {
    "duration": 0,
    "start_time": "2024-10-21T07:15:31.399Z"
   },
   {
    "duration": 0,
    "start_time": "2024-10-21T07:15:31.400Z"
   },
   {
    "duration": 0,
    "start_time": "2024-10-21T07:15:31.401Z"
   },
   {
    "duration": 0,
    "start_time": "2024-10-21T07:15:31.403Z"
   },
   {
    "duration": 0,
    "start_time": "2024-10-21T07:15:31.404Z"
   },
   {
    "duration": 0,
    "start_time": "2024-10-21T07:15:31.405Z"
   },
   {
    "duration": 0,
    "start_time": "2024-10-21T07:15:31.406Z"
   },
   {
    "duration": 0,
    "start_time": "2024-10-21T07:15:31.407Z"
   },
   {
    "duration": 0,
    "start_time": "2024-10-21T07:15:31.408Z"
   },
   {
    "duration": 0,
    "start_time": "2024-10-21T07:15:31.409Z"
   },
   {
    "duration": 0,
    "start_time": "2024-10-21T07:15:31.410Z"
   },
   {
    "duration": 0,
    "start_time": "2024-10-21T07:15:31.411Z"
   },
   {
    "duration": 0,
    "start_time": "2024-10-21T07:15:31.412Z"
   },
   {
    "duration": 0,
    "start_time": "2024-10-21T07:15:31.413Z"
   },
   {
    "duration": 0,
    "start_time": "2024-10-21T07:15:31.414Z"
   },
   {
    "duration": 0,
    "start_time": "2024-10-21T07:15:31.416Z"
   },
   {
    "duration": 0,
    "start_time": "2024-10-21T07:15:31.417Z"
   },
   {
    "duration": 0,
    "start_time": "2024-10-21T07:15:31.418Z"
   },
   {
    "duration": 0,
    "start_time": "2024-10-21T07:15:31.419Z"
   },
   {
    "duration": 0,
    "start_time": "2024-10-21T07:15:31.420Z"
   },
   {
    "duration": 0,
    "start_time": "2024-10-21T07:15:31.421Z"
   },
   {
    "duration": 0,
    "start_time": "2024-10-21T07:15:31.422Z"
   },
   {
    "duration": 0,
    "start_time": "2024-10-21T07:15:31.423Z"
   },
   {
    "duration": 0,
    "start_time": "2024-10-21T07:15:31.424Z"
   },
   {
    "duration": 0,
    "start_time": "2024-10-21T07:15:31.425Z"
   },
   {
    "duration": 0,
    "start_time": "2024-10-21T07:15:31.426Z"
   },
   {
    "duration": 0,
    "start_time": "2024-10-21T07:15:31.427Z"
   },
   {
    "duration": 0,
    "start_time": "2024-10-21T07:15:31.429Z"
   },
   {
    "duration": 0,
    "start_time": "2024-10-21T07:15:31.430Z"
   },
   {
    "duration": 0,
    "start_time": "2024-10-21T07:15:31.430Z"
   },
   {
    "duration": 0,
    "start_time": "2024-10-21T07:15:31.431Z"
   },
   {
    "duration": 0,
    "start_time": "2024-10-21T07:15:31.432Z"
   },
   {
    "duration": 0,
    "start_time": "2024-10-21T07:15:31.433Z"
   },
   {
    "duration": 0,
    "start_time": "2024-10-21T07:15:31.434Z"
   },
   {
    "duration": 13,
    "start_time": "2024-10-21T07:17:58.418Z"
   },
   {
    "duration": 1148,
    "start_time": "2024-10-21T07:18:08.727Z"
   },
   {
    "duration": 43,
    "start_time": "2024-10-21T07:18:09.877Z"
   },
   {
    "duration": 11,
    "start_time": "2024-10-21T07:18:09.922Z"
   },
   {
    "duration": 14,
    "start_time": "2024-10-21T07:18:09.935Z"
   },
   {
    "duration": 26,
    "start_time": "2024-10-21T07:18:09.951Z"
   },
   {
    "duration": 12,
    "start_time": "2024-10-21T07:18:09.978Z"
   },
   {
    "duration": 116,
    "start_time": "2024-10-21T07:18:09.992Z"
   },
   {
    "duration": 11,
    "start_time": "2024-10-21T07:18:10.110Z"
   },
   {
    "duration": 24,
    "start_time": "2024-10-21T07:18:10.123Z"
   },
   {
    "duration": 103,
    "start_time": "2024-10-21T07:18:10.150Z"
   },
   {
    "duration": 10,
    "start_time": "2024-10-21T07:18:10.255Z"
   },
   {
    "duration": 15,
    "start_time": "2024-10-21T07:18:10.267Z"
   },
   {
    "duration": 313,
    "start_time": "2024-10-21T07:18:10.284Z"
   },
   {
    "duration": 10,
    "start_time": "2024-10-21T07:18:10.599Z"
   },
   {
    "duration": 8,
    "start_time": "2024-10-21T07:18:10.611Z"
   },
   {
    "duration": 14,
    "start_time": "2024-10-21T07:18:10.620Z"
   },
   {
    "duration": 7,
    "start_time": "2024-10-21T07:18:10.636Z"
   },
   {
    "duration": 301,
    "start_time": "2024-10-21T07:18:10.644Z"
   },
   {
    "duration": 11,
    "start_time": "2024-10-21T07:18:10.947Z"
   },
   {
    "duration": 20,
    "start_time": "2024-10-21T07:18:10.959Z"
   },
   {
    "duration": 236,
    "start_time": "2024-10-21T07:18:10.980Z"
   },
   {
    "duration": 6,
    "start_time": "2024-10-21T07:18:11.217Z"
   },
   {
    "duration": 300,
    "start_time": "2024-10-21T07:18:11.225Z"
   },
   {
    "duration": 6,
    "start_time": "2024-10-21T07:18:11.527Z"
   },
   {
    "duration": 220,
    "start_time": "2024-10-21T07:18:11.534Z"
   },
   {
    "duration": 8,
    "start_time": "2024-10-21T07:18:11.756Z"
   },
   {
    "duration": 339,
    "start_time": "2024-10-21T07:18:11.766Z"
   },
   {
    "duration": 12,
    "start_time": "2024-10-21T07:18:12.108Z"
   },
   {
    "duration": 8,
    "start_time": "2024-10-21T07:18:12.121Z"
   },
   {
    "duration": 170,
    "start_time": "2024-10-21T07:18:12.130Z"
   },
   {
    "duration": 4,
    "start_time": "2024-10-21T07:18:12.301Z"
   },
   {
    "duration": 27,
    "start_time": "2024-10-21T07:18:12.307Z"
   },
   {
    "duration": 28,
    "start_time": "2024-10-21T07:18:12.335Z"
   },
   {
    "duration": 8,
    "start_time": "2024-10-21T07:18:12.364Z"
   },
   {
    "duration": 168,
    "start_time": "2024-10-21T07:18:12.374Z"
   },
   {
    "duration": 193,
    "start_time": "2024-10-21T07:18:12.544Z"
   },
   {
    "duration": 5,
    "start_time": "2024-10-21T07:18:12.739Z"
   },
   {
    "duration": 298,
    "start_time": "2024-10-21T07:18:12.746Z"
   },
   {
    "duration": 29,
    "start_time": "2024-10-21T07:18:13.045Z"
   },
   {
    "duration": 155,
    "start_time": "2024-10-21T07:18:13.076Z"
   },
   {
    "duration": 7,
    "start_time": "2024-10-21T07:18:13.233Z"
   },
   {
    "duration": 11,
    "start_time": "2024-10-21T07:18:13.242Z"
   },
   {
    "duration": 44,
    "start_time": "2024-10-21T07:18:13.255Z"
   },
   {
    "duration": 11,
    "start_time": "2024-10-21T07:18:13.300Z"
   },
   {
    "duration": 9,
    "start_time": "2024-10-21T07:18:13.312Z"
   },
   {
    "duration": 11,
    "start_time": "2024-10-21T07:18:13.323Z"
   },
   {
    "duration": 30,
    "start_time": "2024-10-21T07:18:13.336Z"
   },
   {
    "duration": 31,
    "start_time": "2024-10-21T07:18:13.367Z"
   },
   {
    "duration": 11,
    "start_time": "2024-10-21T07:18:13.399Z"
   },
   {
    "duration": 12,
    "start_time": "2024-10-21T07:35:24.640Z"
   },
   {
    "duration": 12,
    "start_time": "2024-10-21T07:36:18.284Z"
   },
   {
    "duration": 15,
    "start_time": "2024-10-21T07:36:29.142Z"
   },
   {
    "duration": 44,
    "start_time": "2024-10-21T07:36:39.624Z"
   },
   {
    "duration": 1131,
    "start_time": "2024-10-21T07:36:51.242Z"
   },
   {
    "duration": 43,
    "start_time": "2024-10-21T07:36:52.375Z"
   },
   {
    "duration": 10,
    "start_time": "2024-10-21T07:36:52.420Z"
   },
   {
    "duration": 34,
    "start_time": "2024-10-21T07:36:52.432Z"
   },
   {
    "duration": 17,
    "start_time": "2024-10-21T07:36:52.468Z"
   },
   {
    "duration": 12,
    "start_time": "2024-10-21T07:36:52.486Z"
   },
   {
    "duration": 73,
    "start_time": "2024-10-21T07:36:52.499Z"
   },
   {
    "duration": 12,
    "start_time": "2024-10-21T07:36:52.574Z"
   },
   {
    "duration": 73,
    "start_time": "2024-10-21T07:36:52.587Z"
   },
   {
    "duration": 79,
    "start_time": "2024-10-21T07:36:52.663Z"
   },
   {
    "duration": 12,
    "start_time": "2024-10-21T07:36:52.744Z"
   },
   {
    "duration": 6,
    "start_time": "2024-10-21T07:36:52.758Z"
   },
   {
    "duration": 323,
    "start_time": "2024-10-21T07:36:52.766Z"
   },
   {
    "duration": 16,
    "start_time": "2024-10-21T07:36:53.091Z"
   },
   {
    "duration": 12,
    "start_time": "2024-10-21T07:36:53.109Z"
   },
   {
    "duration": 26,
    "start_time": "2024-10-21T07:36:53.123Z"
   },
   {
    "duration": 14,
    "start_time": "2024-10-21T07:36:53.151Z"
   },
   {
    "duration": 305,
    "start_time": "2024-10-21T07:36:53.167Z"
   },
   {
    "duration": 12,
    "start_time": "2024-10-21T07:36:53.474Z"
   },
   {
    "duration": 40,
    "start_time": "2024-10-21T07:36:53.489Z"
   },
   {
    "duration": 267,
    "start_time": "2024-10-21T07:36:53.532Z"
   },
   {
    "duration": 8,
    "start_time": "2024-10-21T07:36:53.801Z"
   },
   {
    "duration": 404,
    "start_time": "2024-10-21T07:36:53.810Z"
   },
   {
    "duration": 6,
    "start_time": "2024-10-21T07:36:54.216Z"
   },
   {
    "duration": 243,
    "start_time": "2024-10-21T07:36:54.224Z"
   },
   {
    "duration": 9,
    "start_time": "2024-10-21T07:36:54.469Z"
   },
   {
    "duration": 359,
    "start_time": "2024-10-21T07:36:54.480Z"
   },
   {
    "duration": 12,
    "start_time": "2024-10-21T07:36:54.845Z"
   },
   {
    "duration": 88,
    "start_time": "2024-10-21T07:36:54.859Z"
   },
   {
    "duration": 176,
    "start_time": "2024-10-21T07:36:54.949Z"
   },
   {
    "duration": 5,
    "start_time": "2024-10-21T07:36:55.128Z"
   },
   {
    "duration": 14,
    "start_time": "2024-10-21T07:36:55.135Z"
   },
   {
    "duration": 25,
    "start_time": "2024-10-21T07:36:55.151Z"
   },
   {
    "duration": 26,
    "start_time": "2024-10-21T07:36:55.177Z"
   },
   {
    "duration": 190,
    "start_time": "2024-10-21T07:36:55.205Z"
   },
   {
    "duration": 203,
    "start_time": "2024-10-21T07:36:55.397Z"
   },
   {
    "duration": 4,
    "start_time": "2024-10-21T07:36:55.602Z"
   },
   {
    "duration": 309,
    "start_time": "2024-10-21T07:36:55.609Z"
   },
   {
    "duration": 31,
    "start_time": "2024-10-21T07:36:55.920Z"
   },
   {
    "duration": 184,
    "start_time": "2024-10-21T07:36:55.953Z"
   },
   {
    "duration": 7,
    "start_time": "2024-10-21T07:36:56.138Z"
   },
   {
    "duration": 18,
    "start_time": "2024-10-21T07:36:56.147Z"
   },
   {
    "duration": 39,
    "start_time": "2024-10-21T07:36:56.167Z"
   },
   {
    "duration": 12,
    "start_time": "2024-10-21T07:36:56.207Z"
   },
   {
    "duration": 16,
    "start_time": "2024-10-21T07:36:56.221Z"
   },
   {
    "duration": 15,
    "start_time": "2024-10-21T07:36:56.239Z"
   },
   {
    "duration": 45,
    "start_time": "2024-10-21T07:36:56.256Z"
   },
   {
    "duration": 7,
    "start_time": "2024-10-21T07:36:56.303Z"
   },
   {
    "duration": 29,
    "start_time": "2024-10-21T07:36:56.311Z"
   },
   {
    "duration": 1162,
    "start_time": "2024-10-21T07:37:37.425Z"
   },
   {
    "duration": 42,
    "start_time": "2024-10-21T07:37:38.589Z"
   },
   {
    "duration": 11,
    "start_time": "2024-10-21T07:37:38.633Z"
   },
   {
    "duration": 62,
    "start_time": "2024-10-21T07:37:38.646Z"
   },
   {
    "duration": 26,
    "start_time": "2024-10-21T07:37:38.710Z"
   },
   {
    "duration": 11,
    "start_time": "2024-10-21T07:37:38.738Z"
   },
   {
    "duration": 74,
    "start_time": "2024-10-21T07:37:38.751Z"
   },
   {
    "duration": 11,
    "start_time": "2024-10-21T07:37:38.826Z"
   },
   {
    "duration": 87,
    "start_time": "2024-10-21T07:37:38.839Z"
   },
   {
    "duration": 31,
    "start_time": "2024-10-21T07:37:38.930Z"
   },
   {
    "duration": 10,
    "start_time": "2024-10-21T07:37:38.963Z"
   },
   {
    "duration": 17,
    "start_time": "2024-10-21T07:37:38.975Z"
   },
   {
    "duration": 310,
    "start_time": "2024-10-21T07:37:38.993Z"
   },
   {
    "duration": 9,
    "start_time": "2024-10-21T07:37:39.304Z"
   },
   {
    "duration": 26,
    "start_time": "2024-10-21T07:37:39.315Z"
   },
   {
    "duration": 16,
    "start_time": "2024-10-21T07:37:39.342Z"
   },
   {
    "duration": 11,
    "start_time": "2024-10-21T07:37:39.360Z"
   },
   {
    "duration": 469,
    "start_time": "2024-10-21T07:37:39.373Z"
   },
   {
    "duration": 63,
    "start_time": "2024-10-21T07:37:39.843Z"
   },
   {
    "duration": 25,
    "start_time": "2024-10-21T07:37:39.908Z"
   },
   {
    "duration": 475,
    "start_time": "2024-10-21T07:37:39.934Z"
   },
   {
    "duration": 5,
    "start_time": "2024-10-21T07:37:40.411Z"
   },
   {
    "duration": 488,
    "start_time": "2024-10-21T07:37:40.417Z"
   },
   {
    "duration": 6,
    "start_time": "2024-10-21T07:37:40.906Z"
   },
   {
    "duration": 277,
    "start_time": "2024-10-21T07:37:40.913Z"
   },
   {
    "duration": 8,
    "start_time": "2024-10-21T07:37:41.192Z"
   },
   {
    "duration": 312,
    "start_time": "2024-10-21T07:37:41.202Z"
   },
   {
    "duration": 12,
    "start_time": "2024-10-21T07:37:41.519Z"
   },
   {
    "duration": 8,
    "start_time": "2024-10-21T07:37:41.533Z"
   },
   {
    "duration": 171,
    "start_time": "2024-10-21T07:37:41.542Z"
   },
   {
    "duration": 4,
    "start_time": "2024-10-21T07:37:41.714Z"
   },
   {
    "duration": 7,
    "start_time": "2024-10-21T07:37:41.719Z"
   },
   {
    "duration": 14,
    "start_time": "2024-10-21T07:37:41.727Z"
   },
   {
    "duration": 7,
    "start_time": "2024-10-21T07:37:41.742Z"
   },
   {
    "duration": 193,
    "start_time": "2024-10-21T07:37:41.751Z"
   },
   {
    "duration": 183,
    "start_time": "2024-10-21T07:37:41.946Z"
   },
   {
    "duration": 4,
    "start_time": "2024-10-21T07:37:42.130Z"
   },
   {
    "duration": 297,
    "start_time": "2024-10-21T07:37:42.136Z"
   },
   {
    "duration": 28,
    "start_time": "2024-10-21T07:37:42.435Z"
   },
   {
    "duration": 142,
    "start_time": "2024-10-21T07:37:42.465Z"
   },
   {
    "duration": 6,
    "start_time": "2024-10-21T07:37:42.608Z"
   },
   {
    "duration": 102,
    "start_time": "2024-10-21T07:37:42.616Z"
   },
   {
    "duration": 36,
    "start_time": "2024-10-21T07:37:42.720Z"
   },
   {
    "duration": 10,
    "start_time": "2024-10-21T07:37:42.758Z"
   },
   {
    "duration": 10,
    "start_time": "2024-10-21T07:37:42.769Z"
   },
   {
    "duration": 9,
    "start_time": "2024-10-21T07:37:42.781Z"
   },
   {
    "duration": 34,
    "start_time": "2024-10-21T07:37:42.792Z"
   },
   {
    "duration": 6,
    "start_time": "2024-10-21T07:37:42.828Z"
   },
   {
    "duration": 13,
    "start_time": "2024-10-21T07:37:42.835Z"
   },
   {
    "duration": 12,
    "start_time": "2024-10-21T07:45:10.155Z"
   },
   {
    "duration": 12,
    "start_time": "2024-10-21T07:45:15.384Z"
   },
   {
    "duration": 12,
    "start_time": "2024-10-21T07:47:16.524Z"
   },
   {
    "duration": 11,
    "start_time": "2024-10-21T07:47:27.795Z"
   },
   {
    "duration": 915,
    "start_time": "2024-10-21T07:47:50.736Z"
   },
   {
    "duration": 1096,
    "start_time": "2024-10-21T07:48:19.177Z"
   },
   {
    "duration": 42,
    "start_time": "2024-10-21T07:48:20.275Z"
   },
   {
    "duration": 10,
    "start_time": "2024-10-21T07:48:20.318Z"
   },
   {
    "duration": 10,
    "start_time": "2024-10-21T07:48:20.330Z"
   },
   {
    "duration": 112,
    "start_time": "2024-10-21T07:48:20.342Z"
   },
   {
    "duration": 0,
    "start_time": "2024-10-21T07:48:20.457Z"
   },
   {
    "duration": 0,
    "start_time": "2024-10-21T07:48:20.459Z"
   },
   {
    "duration": 0,
    "start_time": "2024-10-21T07:48:20.460Z"
   },
   {
    "duration": 0,
    "start_time": "2024-10-21T07:48:20.461Z"
   },
   {
    "duration": 0,
    "start_time": "2024-10-21T07:48:20.462Z"
   },
   {
    "duration": 0,
    "start_time": "2024-10-21T07:48:20.464Z"
   },
   {
    "duration": 0,
    "start_time": "2024-10-21T07:48:20.465Z"
   },
   {
    "duration": 0,
    "start_time": "2024-10-21T07:48:20.466Z"
   },
   {
    "duration": 0,
    "start_time": "2024-10-21T07:48:20.467Z"
   },
   {
    "duration": 0,
    "start_time": "2024-10-21T07:48:20.468Z"
   },
   {
    "duration": 0,
    "start_time": "2024-10-21T07:48:20.469Z"
   },
   {
    "duration": 0,
    "start_time": "2024-10-21T07:48:20.471Z"
   },
   {
    "duration": 0,
    "start_time": "2024-10-21T07:48:20.472Z"
   },
   {
    "duration": 0,
    "start_time": "2024-10-21T07:48:20.473Z"
   },
   {
    "duration": 0,
    "start_time": "2024-10-21T07:48:20.475Z"
   },
   {
    "duration": 0,
    "start_time": "2024-10-21T07:48:20.498Z"
   },
   {
    "duration": 0,
    "start_time": "2024-10-21T07:48:20.499Z"
   },
   {
    "duration": 0,
    "start_time": "2024-10-21T07:48:20.500Z"
   },
   {
    "duration": 0,
    "start_time": "2024-10-21T07:48:20.501Z"
   },
   {
    "duration": 0,
    "start_time": "2024-10-21T07:48:20.502Z"
   },
   {
    "duration": 0,
    "start_time": "2024-10-21T07:48:20.503Z"
   },
   {
    "duration": 0,
    "start_time": "2024-10-21T07:48:20.504Z"
   },
   {
    "duration": 0,
    "start_time": "2024-10-21T07:48:20.505Z"
   },
   {
    "duration": 0,
    "start_time": "2024-10-21T07:48:20.506Z"
   },
   {
    "duration": 0,
    "start_time": "2024-10-21T07:48:20.507Z"
   },
   {
    "duration": 0,
    "start_time": "2024-10-21T07:48:20.508Z"
   },
   {
    "duration": 0,
    "start_time": "2024-10-21T07:48:20.509Z"
   },
   {
    "duration": 0,
    "start_time": "2024-10-21T07:48:20.510Z"
   },
   {
    "duration": 0,
    "start_time": "2024-10-21T07:48:20.512Z"
   },
   {
    "duration": 0,
    "start_time": "2024-10-21T07:48:20.512Z"
   },
   {
    "duration": 0,
    "start_time": "2024-10-21T07:48:20.513Z"
   },
   {
    "duration": 0,
    "start_time": "2024-10-21T07:48:20.515Z"
   },
   {
    "duration": 0,
    "start_time": "2024-10-21T07:48:20.516Z"
   },
   {
    "duration": 0,
    "start_time": "2024-10-21T07:48:20.517Z"
   },
   {
    "duration": 0,
    "start_time": "2024-10-21T07:48:20.518Z"
   },
   {
    "duration": 0,
    "start_time": "2024-10-21T07:48:20.519Z"
   },
   {
    "duration": 0,
    "start_time": "2024-10-21T07:48:20.519Z"
   },
   {
    "duration": 0,
    "start_time": "2024-10-21T07:48:20.521Z"
   },
   {
    "duration": 0,
    "start_time": "2024-10-21T07:48:20.522Z"
   },
   {
    "duration": 1,
    "start_time": "2024-10-21T07:48:20.522Z"
   },
   {
    "duration": 0,
    "start_time": "2024-10-21T07:48:20.523Z"
   },
   {
    "duration": 0,
    "start_time": "2024-10-21T07:48:20.524Z"
   },
   {
    "duration": 0,
    "start_time": "2024-10-21T07:48:20.525Z"
   },
   {
    "duration": 0,
    "start_time": "2024-10-21T07:48:20.526Z"
   },
   {
    "duration": 0,
    "start_time": "2024-10-21T07:48:20.527Z"
   },
   {
    "duration": 18,
    "start_time": "2024-10-21T07:48:49.174Z"
   },
   {
    "duration": 11,
    "start_time": "2024-10-21T07:48:52.207Z"
   },
   {
    "duration": 1148,
    "start_time": "2024-10-21T07:49:03.416Z"
   },
   {
    "duration": 43,
    "start_time": "2024-10-21T07:49:04.566Z"
   },
   {
    "duration": 13,
    "start_time": "2024-10-21T07:49:04.611Z"
   },
   {
    "duration": 10,
    "start_time": "2024-10-21T07:49:04.625Z"
   },
   {
    "duration": 24,
    "start_time": "2024-10-21T07:49:04.637Z"
   },
   {
    "duration": 11,
    "start_time": "2024-10-21T07:49:04.663Z"
   },
   {
    "duration": 1186,
    "start_time": "2024-10-21T07:49:04.675Z"
   },
   {
    "duration": 0,
    "start_time": "2024-10-21T07:49:05.863Z"
   },
   {
    "duration": 0,
    "start_time": "2024-10-21T07:49:05.864Z"
   },
   {
    "duration": 0,
    "start_time": "2024-10-21T07:49:05.865Z"
   },
   {
    "duration": 0,
    "start_time": "2024-10-21T07:49:05.867Z"
   },
   {
    "duration": 0,
    "start_time": "2024-10-21T07:49:05.868Z"
   },
   {
    "duration": 0,
    "start_time": "2024-10-21T07:49:05.869Z"
   },
   {
    "duration": 0,
    "start_time": "2024-10-21T07:49:05.870Z"
   },
   {
    "duration": 0,
    "start_time": "2024-10-21T07:49:05.871Z"
   },
   {
    "duration": 0,
    "start_time": "2024-10-21T07:49:05.872Z"
   },
   {
    "duration": 0,
    "start_time": "2024-10-21T07:49:05.873Z"
   },
   {
    "duration": 0,
    "start_time": "2024-10-21T07:49:05.874Z"
   },
   {
    "duration": 0,
    "start_time": "2024-10-21T07:49:05.875Z"
   },
   {
    "duration": 0,
    "start_time": "2024-10-21T07:49:05.876Z"
   },
   {
    "duration": 0,
    "start_time": "2024-10-21T07:49:05.877Z"
   },
   {
    "duration": 0,
    "start_time": "2024-10-21T07:49:05.878Z"
   },
   {
    "duration": 0,
    "start_time": "2024-10-21T07:49:05.879Z"
   },
   {
    "duration": 0,
    "start_time": "2024-10-21T07:49:05.880Z"
   },
   {
    "duration": 0,
    "start_time": "2024-10-21T07:49:05.881Z"
   },
   {
    "duration": 0,
    "start_time": "2024-10-21T07:49:05.882Z"
   },
   {
    "duration": 0,
    "start_time": "2024-10-21T07:49:05.883Z"
   },
   {
    "duration": 0,
    "start_time": "2024-10-21T07:49:05.884Z"
   },
   {
    "duration": 0,
    "start_time": "2024-10-21T07:49:05.885Z"
   },
   {
    "duration": 0,
    "start_time": "2024-10-21T07:49:05.886Z"
   },
   {
    "duration": 0,
    "start_time": "2024-10-21T07:49:05.887Z"
   },
   {
    "duration": 0,
    "start_time": "2024-10-21T07:49:05.888Z"
   },
   {
    "duration": 0,
    "start_time": "2024-10-21T07:49:05.889Z"
   },
   {
    "duration": 0,
    "start_time": "2024-10-21T07:49:05.890Z"
   },
   {
    "duration": 0,
    "start_time": "2024-10-21T07:49:05.891Z"
   },
   {
    "duration": 0,
    "start_time": "2024-10-21T07:49:05.893Z"
   },
   {
    "duration": 0,
    "start_time": "2024-10-21T07:49:05.894Z"
   },
   {
    "duration": 0,
    "start_time": "2024-10-21T07:49:05.895Z"
   },
   {
    "duration": 0,
    "start_time": "2024-10-21T07:49:05.896Z"
   },
   {
    "duration": 0,
    "start_time": "2024-10-21T07:49:05.897Z"
   },
   {
    "duration": 0,
    "start_time": "2024-10-21T07:49:05.898Z"
   },
   {
    "duration": 0,
    "start_time": "2024-10-21T07:49:05.899Z"
   },
   {
    "duration": 0,
    "start_time": "2024-10-21T07:49:05.900Z"
   },
   {
    "duration": 0,
    "start_time": "2024-10-21T07:49:05.902Z"
   },
   {
    "duration": 0,
    "start_time": "2024-10-21T07:49:05.903Z"
   },
   {
    "duration": 0,
    "start_time": "2024-10-21T07:49:05.904Z"
   },
   {
    "duration": 0,
    "start_time": "2024-10-21T07:49:05.905Z"
   },
   {
    "duration": 0,
    "start_time": "2024-10-21T07:49:05.906Z"
   },
   {
    "duration": 0,
    "start_time": "2024-10-21T07:49:05.906Z"
   },
   {
    "duration": 0,
    "start_time": "2024-10-21T07:49:05.907Z"
   },
   {
    "duration": 15,
    "start_time": "2024-10-21T07:49:48.596Z"
   },
   {
    "duration": 1106,
    "start_time": "2024-10-21T07:50:52.064Z"
   },
   {
    "duration": 42,
    "start_time": "2024-10-21T07:50:53.171Z"
   },
   {
    "duration": 10,
    "start_time": "2024-10-21T07:50:53.214Z"
   },
   {
    "duration": 12,
    "start_time": "2024-10-21T07:50:53.226Z"
   },
   {
    "duration": 18,
    "start_time": "2024-10-21T07:50:53.240Z"
   },
   {
    "duration": 11,
    "start_time": "2024-10-21T07:50:53.260Z"
   },
   {
    "duration": 34,
    "start_time": "2024-10-21T07:50:53.272Z"
   },
   {
    "duration": 1036,
    "start_time": "2024-10-21T07:50:53.308Z"
   },
   {
    "duration": 0,
    "start_time": "2024-10-21T07:50:54.347Z"
   },
   {
    "duration": 0,
    "start_time": "2024-10-21T07:50:54.348Z"
   },
   {
    "duration": 0,
    "start_time": "2024-10-21T07:50:54.349Z"
   },
   {
    "duration": 0,
    "start_time": "2024-10-21T07:50:54.350Z"
   },
   {
    "duration": 0,
    "start_time": "2024-10-21T07:50:54.351Z"
   },
   {
    "duration": 0,
    "start_time": "2024-10-21T07:50:54.352Z"
   },
   {
    "duration": 0,
    "start_time": "2024-10-21T07:50:54.353Z"
   },
   {
    "duration": 0,
    "start_time": "2024-10-21T07:50:54.354Z"
   },
   {
    "duration": 0,
    "start_time": "2024-10-21T07:50:54.355Z"
   },
   {
    "duration": 0,
    "start_time": "2024-10-21T07:50:54.356Z"
   },
   {
    "duration": 0,
    "start_time": "2024-10-21T07:50:54.356Z"
   },
   {
    "duration": 0,
    "start_time": "2024-10-21T07:50:54.357Z"
   },
   {
    "duration": 0,
    "start_time": "2024-10-21T07:50:54.358Z"
   },
   {
    "duration": 0,
    "start_time": "2024-10-21T07:50:54.359Z"
   },
   {
    "duration": 0,
    "start_time": "2024-10-21T07:50:54.360Z"
   },
   {
    "duration": 0,
    "start_time": "2024-10-21T07:50:54.398Z"
   },
   {
    "duration": 0,
    "start_time": "2024-10-21T07:50:54.399Z"
   },
   {
    "duration": 0,
    "start_time": "2024-10-21T07:50:54.400Z"
   },
   {
    "duration": 0,
    "start_time": "2024-10-21T07:50:54.401Z"
   },
   {
    "duration": 0,
    "start_time": "2024-10-21T07:50:54.402Z"
   },
   {
    "duration": 0,
    "start_time": "2024-10-21T07:50:54.402Z"
   },
   {
    "duration": 0,
    "start_time": "2024-10-21T07:50:54.403Z"
   },
   {
    "duration": 0,
    "start_time": "2024-10-21T07:50:54.404Z"
   },
   {
    "duration": 0,
    "start_time": "2024-10-21T07:50:54.405Z"
   },
   {
    "duration": 0,
    "start_time": "2024-10-21T07:50:54.406Z"
   },
   {
    "duration": 0,
    "start_time": "2024-10-21T07:50:54.407Z"
   },
   {
    "duration": 0,
    "start_time": "2024-10-21T07:50:54.407Z"
   },
   {
    "duration": 0,
    "start_time": "2024-10-21T07:50:54.409Z"
   },
   {
    "duration": 0,
    "start_time": "2024-10-21T07:50:54.409Z"
   },
   {
    "duration": 0,
    "start_time": "2024-10-21T07:50:54.410Z"
   },
   {
    "duration": 0,
    "start_time": "2024-10-21T07:50:54.411Z"
   },
   {
    "duration": 0,
    "start_time": "2024-10-21T07:50:54.412Z"
   },
   {
    "duration": 0,
    "start_time": "2024-10-21T07:50:54.413Z"
   },
   {
    "duration": 0,
    "start_time": "2024-10-21T07:50:54.414Z"
   },
   {
    "duration": 0,
    "start_time": "2024-10-21T07:50:54.415Z"
   },
   {
    "duration": 0,
    "start_time": "2024-10-21T07:50:54.416Z"
   },
   {
    "duration": 0,
    "start_time": "2024-10-21T07:50:54.417Z"
   },
   {
    "duration": 0,
    "start_time": "2024-10-21T07:50:54.418Z"
   },
   {
    "duration": 0,
    "start_time": "2024-10-21T07:50:54.419Z"
   },
   {
    "duration": 0,
    "start_time": "2024-10-21T07:50:54.419Z"
   },
   {
    "duration": 0,
    "start_time": "2024-10-21T07:50:54.420Z"
   },
   {
    "duration": 0,
    "start_time": "2024-10-21T07:50:54.421Z"
   },
   {
    "duration": 0,
    "start_time": "2024-10-21T07:50:54.422Z"
   },
   {
    "duration": 18,
    "start_time": "2024-10-21T07:52:29.878Z"
   },
   {
    "duration": 99,
    "start_time": "2024-10-21T07:54:31.469Z"
   },
   {
    "duration": 16,
    "start_time": "2024-10-21T07:54:35.658Z"
   },
   {
    "duration": 1176,
    "start_time": "2024-10-21T07:54:46.629Z"
   },
   {
    "duration": 43,
    "start_time": "2024-10-21T07:54:47.807Z"
   },
   {
    "duration": 14,
    "start_time": "2024-10-21T07:54:47.851Z"
   },
   {
    "duration": 61,
    "start_time": "2024-10-21T07:54:47.867Z"
   },
   {
    "duration": 25,
    "start_time": "2024-10-21T07:54:47.929Z"
   },
   {
    "duration": 11,
    "start_time": "2024-10-21T07:54:47.955Z"
   },
   {
    "duration": 22,
    "start_time": "2024-10-21T07:54:47.968Z"
   },
   {
    "duration": 887,
    "start_time": "2024-10-21T07:54:47.991Z"
   },
   {
    "duration": 0,
    "start_time": "2024-10-21T07:54:48.880Z"
   },
   {
    "duration": 0,
    "start_time": "2024-10-21T07:54:48.882Z"
   },
   {
    "duration": 0,
    "start_time": "2024-10-21T07:54:48.883Z"
   },
   {
    "duration": 0,
    "start_time": "2024-10-21T07:54:48.884Z"
   },
   {
    "duration": 0,
    "start_time": "2024-10-21T07:54:48.885Z"
   },
   {
    "duration": 0,
    "start_time": "2024-10-21T07:54:48.886Z"
   },
   {
    "duration": 0,
    "start_time": "2024-10-21T07:54:48.887Z"
   },
   {
    "duration": 0,
    "start_time": "2024-10-21T07:54:48.888Z"
   },
   {
    "duration": 0,
    "start_time": "2024-10-21T07:54:48.889Z"
   },
   {
    "duration": 0,
    "start_time": "2024-10-21T07:54:48.890Z"
   },
   {
    "duration": 0,
    "start_time": "2024-10-21T07:54:48.891Z"
   },
   {
    "duration": 0,
    "start_time": "2024-10-21T07:54:48.891Z"
   },
   {
    "duration": 0,
    "start_time": "2024-10-21T07:54:48.892Z"
   },
   {
    "duration": 0,
    "start_time": "2024-10-21T07:54:48.894Z"
   },
   {
    "duration": 0,
    "start_time": "2024-10-21T07:54:48.895Z"
   },
   {
    "duration": 0,
    "start_time": "2024-10-21T07:54:48.895Z"
   },
   {
    "duration": 0,
    "start_time": "2024-10-21T07:54:48.896Z"
   },
   {
    "duration": 0,
    "start_time": "2024-10-21T07:54:48.897Z"
   },
   {
    "duration": 0,
    "start_time": "2024-10-21T07:54:48.898Z"
   },
   {
    "duration": 0,
    "start_time": "2024-10-21T07:54:48.900Z"
   },
   {
    "duration": 0,
    "start_time": "2024-10-21T07:54:48.901Z"
   },
   {
    "duration": 0,
    "start_time": "2024-10-21T07:54:48.902Z"
   },
   {
    "duration": 0,
    "start_time": "2024-10-21T07:54:48.903Z"
   },
   {
    "duration": 0,
    "start_time": "2024-10-21T07:54:48.904Z"
   },
   {
    "duration": 0,
    "start_time": "2024-10-21T07:54:48.905Z"
   },
   {
    "duration": 0,
    "start_time": "2024-10-21T07:54:48.906Z"
   },
   {
    "duration": 0,
    "start_time": "2024-10-21T07:54:48.906Z"
   },
   {
    "duration": 0,
    "start_time": "2024-10-21T07:54:48.908Z"
   },
   {
    "duration": 0,
    "start_time": "2024-10-21T07:54:48.909Z"
   },
   {
    "duration": 0,
    "start_time": "2024-10-21T07:54:48.910Z"
   },
   {
    "duration": 0,
    "start_time": "2024-10-21T07:54:48.911Z"
   },
   {
    "duration": 0,
    "start_time": "2024-10-21T07:54:48.912Z"
   },
   {
    "duration": 0,
    "start_time": "2024-10-21T07:54:48.913Z"
   },
   {
    "duration": 0,
    "start_time": "2024-10-21T07:54:48.914Z"
   },
   {
    "duration": 0,
    "start_time": "2024-10-21T07:54:48.915Z"
   },
   {
    "duration": 0,
    "start_time": "2024-10-21T07:54:48.916Z"
   },
   {
    "duration": 0,
    "start_time": "2024-10-21T07:54:48.917Z"
   },
   {
    "duration": 0,
    "start_time": "2024-10-21T07:54:48.918Z"
   },
   {
    "duration": 0,
    "start_time": "2024-10-21T07:54:48.919Z"
   },
   {
    "duration": 0,
    "start_time": "2024-10-21T07:54:48.919Z"
   },
   {
    "duration": 0,
    "start_time": "2024-10-21T07:54:48.920Z"
   },
   {
    "duration": 0,
    "start_time": "2024-10-21T07:54:48.922Z"
   },
   {
    "duration": 0,
    "start_time": "2024-10-21T07:54:48.923Z"
   },
   {
    "duration": 15,
    "start_time": "2024-10-21T07:55:03.199Z"
   },
   {
    "duration": 1112,
    "start_time": "2024-10-21T07:55:11.767Z"
   },
   {
    "duration": 42,
    "start_time": "2024-10-21T07:55:12.881Z"
   },
   {
    "duration": 81,
    "start_time": "2024-10-21T07:55:12.925Z"
   },
   {
    "duration": 52,
    "start_time": "2024-10-21T07:55:13.007Z"
   },
   {
    "duration": 92,
    "start_time": "2024-10-21T07:55:13.060Z"
   },
   {
    "duration": 29,
    "start_time": "2024-10-21T07:55:13.153Z"
   },
   {
    "duration": 93,
    "start_time": "2024-10-21T07:55:13.184Z"
   },
   {
    "duration": 1016,
    "start_time": "2024-10-21T07:55:13.279Z"
   },
   {
    "duration": 0,
    "start_time": "2024-10-21T07:55:14.298Z"
   },
   {
    "duration": 0,
    "start_time": "2024-10-21T07:55:14.299Z"
   },
   {
    "duration": 0,
    "start_time": "2024-10-21T07:55:14.300Z"
   },
   {
    "duration": 0,
    "start_time": "2024-10-21T07:55:14.301Z"
   },
   {
    "duration": 0,
    "start_time": "2024-10-21T07:55:14.302Z"
   },
   {
    "duration": 0,
    "start_time": "2024-10-21T07:55:14.303Z"
   },
   {
    "duration": 0,
    "start_time": "2024-10-21T07:55:14.304Z"
   },
   {
    "duration": 0,
    "start_time": "2024-10-21T07:55:14.305Z"
   },
   {
    "duration": 0,
    "start_time": "2024-10-21T07:55:14.306Z"
   },
   {
    "duration": 0,
    "start_time": "2024-10-21T07:55:14.307Z"
   },
   {
    "duration": 0,
    "start_time": "2024-10-21T07:55:14.308Z"
   },
   {
    "duration": 0,
    "start_time": "2024-10-21T07:55:14.309Z"
   },
   {
    "duration": 0,
    "start_time": "2024-10-21T07:55:14.310Z"
   },
   {
    "duration": 0,
    "start_time": "2024-10-21T07:55:14.311Z"
   },
   {
    "duration": 0,
    "start_time": "2024-10-21T07:55:14.312Z"
   },
   {
    "duration": 0,
    "start_time": "2024-10-21T07:55:14.313Z"
   },
   {
    "duration": 0,
    "start_time": "2024-10-21T07:55:14.314Z"
   },
   {
    "duration": 0,
    "start_time": "2024-10-21T07:55:14.315Z"
   },
   {
    "duration": 0,
    "start_time": "2024-10-21T07:55:14.316Z"
   },
   {
    "duration": 0,
    "start_time": "2024-10-21T07:55:14.317Z"
   },
   {
    "duration": 0,
    "start_time": "2024-10-21T07:55:14.318Z"
   },
   {
    "duration": 0,
    "start_time": "2024-10-21T07:55:14.319Z"
   },
   {
    "duration": 0,
    "start_time": "2024-10-21T07:55:14.320Z"
   },
   {
    "duration": 0,
    "start_time": "2024-10-21T07:55:14.321Z"
   },
   {
    "duration": 0,
    "start_time": "2024-10-21T07:55:14.322Z"
   },
   {
    "duration": 0,
    "start_time": "2024-10-21T07:55:14.323Z"
   },
   {
    "duration": 0,
    "start_time": "2024-10-21T07:55:14.324Z"
   },
   {
    "duration": 0,
    "start_time": "2024-10-21T07:55:14.325Z"
   },
   {
    "duration": 0,
    "start_time": "2024-10-21T07:55:14.326Z"
   },
   {
    "duration": 0,
    "start_time": "2024-10-21T07:55:14.327Z"
   },
   {
    "duration": 0,
    "start_time": "2024-10-21T07:55:14.328Z"
   },
   {
    "duration": 0,
    "start_time": "2024-10-21T07:55:14.329Z"
   },
   {
    "duration": 0,
    "start_time": "2024-10-21T07:55:14.330Z"
   },
   {
    "duration": 0,
    "start_time": "2024-10-21T07:55:14.331Z"
   },
   {
    "duration": 0,
    "start_time": "2024-10-21T07:55:14.332Z"
   },
   {
    "duration": 0,
    "start_time": "2024-10-21T07:55:14.333Z"
   },
   {
    "duration": 0,
    "start_time": "2024-10-21T07:55:14.335Z"
   },
   {
    "duration": 0,
    "start_time": "2024-10-21T07:55:14.336Z"
   },
   {
    "duration": 0,
    "start_time": "2024-10-21T07:55:14.398Z"
   },
   {
    "duration": 0,
    "start_time": "2024-10-21T07:55:14.400Z"
   },
   {
    "duration": 0,
    "start_time": "2024-10-21T07:55:14.401Z"
   },
   {
    "duration": 0,
    "start_time": "2024-10-21T07:55:14.403Z"
   },
   {
    "duration": 0,
    "start_time": "2024-10-21T07:55:14.404Z"
   },
   {
    "duration": 14,
    "start_time": "2024-10-21T07:57:08.569Z"
   },
   {
    "duration": 11,
    "start_time": "2024-10-21T07:57:25.263Z"
   },
   {
    "duration": 7,
    "start_time": "2024-10-21T07:58:02.143Z"
   },
   {
    "duration": 13,
    "start_time": "2024-10-21T07:58:10.006Z"
   },
   {
    "duration": 10,
    "start_time": "2024-10-21T07:58:34.430Z"
   },
   {
    "duration": 1178,
    "start_time": "2024-10-21T07:58:41.872Z"
   },
   {
    "duration": 43,
    "start_time": "2024-10-21T07:58:43.052Z"
   },
   {
    "duration": 10,
    "start_time": "2024-10-21T07:58:43.097Z"
   },
   {
    "duration": 35,
    "start_time": "2024-10-21T07:58:43.109Z"
   },
   {
    "duration": 45,
    "start_time": "2024-10-21T07:58:43.146Z"
   },
   {
    "duration": 12,
    "start_time": "2024-10-21T07:58:43.192Z"
   },
   {
    "duration": 12,
    "start_time": "2024-10-21T07:58:43.205Z"
   },
   {
    "duration": 448,
    "start_time": "2024-10-21T07:58:43.218Z"
   },
   {
    "duration": 60,
    "start_time": "2024-10-21T07:58:43.668Z"
   },
   {
    "duration": 10,
    "start_time": "2024-10-21T07:58:43.731Z"
   },
   {
    "duration": 10,
    "start_time": "2024-10-21T07:58:43.743Z"
   },
   {
    "duration": 29,
    "start_time": "2024-10-21T07:58:43.755Z"
   },
   {
    "duration": 12,
    "start_time": "2024-10-21T07:58:43.786Z"
   },
   {
    "duration": 11,
    "start_time": "2024-10-21T07:58:43.799Z"
   },
   {
    "duration": 296,
    "start_time": "2024-10-21T07:58:43.812Z"
   },
   {
    "duration": 9,
    "start_time": "2024-10-21T07:58:44.109Z"
   },
   {
    "duration": 32,
    "start_time": "2024-10-21T07:58:44.120Z"
   },
   {
    "duration": 49,
    "start_time": "2024-10-21T07:58:44.154Z"
   },
   {
    "duration": 14,
    "start_time": "2024-10-21T07:58:44.205Z"
   },
   {
    "duration": 578,
    "start_time": "2024-10-21T07:58:44.220Z"
   },
   {
    "duration": 12,
    "start_time": "2024-10-21T07:58:44.800Z"
   },
   {
    "duration": 44,
    "start_time": "2024-10-21T07:58:44.814Z"
   },
   {
    "duration": 438,
    "start_time": "2024-10-21T07:58:44.898Z"
   },
   {
    "duration": 60,
    "start_time": "2024-10-21T07:58:45.338Z"
   },
   {
    "duration": 343,
    "start_time": "2024-10-21T07:58:45.399Z"
   },
   {
    "duration": 6,
    "start_time": "2024-10-21T07:58:45.744Z"
   },
   {
    "duration": 227,
    "start_time": "2024-10-21T07:58:45.752Z"
   },
   {
    "duration": 14,
    "start_time": "2024-10-21T07:58:45.984Z"
   },
   {
    "duration": 317,
    "start_time": "2024-10-21T07:58:46.000Z"
   },
   {
    "duration": 11,
    "start_time": "2024-10-21T07:58:46.319Z"
   },
   {
    "duration": 23,
    "start_time": "2024-10-21T07:58:46.332Z"
   },
   {
    "duration": 157,
    "start_time": "2024-10-21T07:58:46.356Z"
   },
   {
    "duration": 4,
    "start_time": "2024-10-21T07:58:46.515Z"
   },
   {
    "duration": 6,
    "start_time": "2024-10-21T07:58:46.521Z"
   },
   {
    "duration": 17,
    "start_time": "2024-10-21T07:58:46.528Z"
   },
   {
    "duration": 20,
    "start_time": "2024-10-21T07:58:46.546Z"
   },
   {
    "duration": 190,
    "start_time": "2024-10-21T07:58:46.568Z"
   },
   {
    "duration": 248,
    "start_time": "2024-10-21T07:58:46.760Z"
   },
   {
    "duration": 4,
    "start_time": "2024-10-21T07:58:47.009Z"
   },
   {
    "duration": 221,
    "start_time": "2024-10-21T07:58:47.015Z"
   },
   {
    "duration": 28,
    "start_time": "2024-10-21T07:58:47.238Z"
   },
   {
    "duration": 153,
    "start_time": "2024-10-21T07:58:47.267Z"
   },
   {
    "duration": 6,
    "start_time": "2024-10-21T07:58:47.422Z"
   },
   {
    "duration": 27,
    "start_time": "2024-10-21T07:58:47.430Z"
   },
   {
    "duration": 29,
    "start_time": "2024-10-21T07:58:47.458Z"
   },
   {
    "duration": 12,
    "start_time": "2024-10-21T07:58:47.489Z"
   },
   {
    "duration": 10,
    "start_time": "2024-10-21T07:58:47.502Z"
   },
   {
    "duration": 10,
    "start_time": "2024-10-21T07:58:47.514Z"
   },
   {
    "duration": 28,
    "start_time": "2024-10-21T07:58:47.526Z"
   },
   {
    "duration": 7,
    "start_time": "2024-10-21T07:58:47.555Z"
   },
   {
    "duration": 41,
    "start_time": "2024-10-21T07:58:47.563Z"
   },
   {
    "duration": 409,
    "start_time": "2024-10-21T08:02:15.511Z"
   },
   {
    "duration": 434,
    "start_time": "2024-10-21T08:02:58.333Z"
   },
   {
    "duration": 417,
    "start_time": "2024-10-21T08:03:29.992Z"
   },
   {
    "duration": 435,
    "start_time": "2024-10-21T08:03:44.946Z"
   },
   {
    "duration": 462,
    "start_time": "2024-10-21T08:03:49.682Z"
   },
   {
    "duration": 578,
    "start_time": "2024-10-21T08:04:01.648Z"
   },
   {
    "duration": 637,
    "start_time": "2024-10-21T08:04:21.518Z"
   },
   {
    "duration": 547,
    "start_time": "2024-10-21T08:04:50.315Z"
   },
   {
    "duration": 529,
    "start_time": "2024-10-21T08:07:44.017Z"
   },
   {
    "duration": 17,
    "start_time": "2024-10-21T08:08:18.802Z"
   },
   {
    "duration": 17,
    "start_time": "2024-10-21T08:08:46.197Z"
   },
   {
    "duration": 17,
    "start_time": "2024-10-21T08:08:54.249Z"
   },
   {
    "duration": 16,
    "start_time": "2024-10-21T08:09:58.930Z"
   },
   {
    "duration": 634,
    "start_time": "2024-10-21T08:17:10.373Z"
   },
   {
    "duration": 40,
    "start_time": "2024-10-21T08:26:31.418Z"
   },
   {
    "duration": 130,
    "start_time": "2024-10-21T08:26:39.493Z"
   },
   {
    "duration": 39,
    "start_time": "2024-10-21T08:26:42.072Z"
   },
   {
    "duration": 38,
    "start_time": "2024-10-21T08:27:16.618Z"
   },
   {
    "duration": 40,
    "start_time": "2024-10-21T08:27:20.471Z"
   },
   {
    "duration": 10,
    "start_time": "2024-10-21T08:28:49.438Z"
   },
   {
    "duration": 14,
    "start_time": "2024-10-21T08:29:05.371Z"
   },
   {
    "duration": 6,
    "start_time": "2024-10-21T08:29:24.818Z"
   },
   {
    "duration": 5,
    "start_time": "2024-10-21T08:30:01.218Z"
   },
   {
    "duration": 6,
    "start_time": "2024-10-21T08:32:59.782Z"
   },
   {
    "duration": 5,
    "start_time": "2024-10-21T08:33:11.678Z"
   },
   {
    "duration": 6,
    "start_time": "2024-10-21T08:34:21.967Z"
   },
   {
    "duration": 5,
    "start_time": "2024-10-21T08:34:47.753Z"
   },
   {
    "duration": 279,
    "start_time": "2024-10-21T08:37:55.520Z"
   },
   {
    "duration": 41,
    "start_time": "2024-10-21T08:38:09.174Z"
   },
   {
    "duration": 39,
    "start_time": "2024-10-21T08:38:11.978Z"
   },
   {
    "duration": 39,
    "start_time": "2024-10-21T08:38:15.350Z"
   },
   {
    "duration": 40,
    "start_time": "2024-10-21T08:38:17.908Z"
   },
   {
    "duration": 40,
    "start_time": "2024-10-21T08:38:23.800Z"
   },
   {
    "duration": 39,
    "start_time": "2024-10-21T08:38:31.581Z"
   },
   {
    "duration": 13,
    "start_time": "2024-10-21T08:38:48.795Z"
   },
   {
    "duration": 7,
    "start_time": "2024-10-21T08:40:30.379Z"
   },
   {
    "duration": 12,
    "start_time": "2024-10-21T08:42:28.173Z"
   },
   {
    "duration": 8,
    "start_time": "2024-10-21T08:42:34.449Z"
   },
   {
    "duration": 7,
    "start_time": "2024-10-21T08:42:46.957Z"
   },
   {
    "duration": 5,
    "start_time": "2024-10-21T08:42:50.941Z"
   },
   {
    "duration": 5,
    "start_time": "2024-10-21T08:43:16.847Z"
   },
   {
    "duration": 9,
    "start_time": "2024-10-21T08:43:58.753Z"
   },
   {
    "duration": 52,
    "start_time": "2024-10-21T08:44:13.724Z"
   },
   {
    "duration": 8,
    "start_time": "2024-10-21T08:44:26.196Z"
   },
   {
    "duration": 9,
    "start_time": "2024-10-21T08:44:56.987Z"
   },
   {
    "duration": 18,
    "start_time": "2024-10-21T08:45:51.775Z"
   },
   {
    "duration": 12,
    "start_time": "2024-10-21T08:46:21.691Z"
   },
   {
    "duration": 12,
    "start_time": "2024-10-21T08:46:30.039Z"
   },
   {
    "duration": 8,
    "start_time": "2024-10-21T08:46:39.558Z"
   },
   {
    "duration": 14,
    "start_time": "2024-10-21T08:47:18.964Z"
   },
   {
    "duration": 75,
    "start_time": "2024-10-21T08:47:54.986Z"
   },
   {
    "duration": 4,
    "start_time": "2024-10-21T08:49:45.624Z"
   },
   {
    "duration": 3,
    "start_time": "2024-10-21T08:50:12.999Z"
   },
   {
    "duration": 7,
    "start_time": "2024-10-21T08:50:59.995Z"
   },
   {
    "duration": 63,
    "start_time": "2024-10-21T08:51:17.066Z"
   },
   {
    "duration": 6,
    "start_time": "2024-10-21T08:51:21.701Z"
   },
   {
    "duration": 6,
    "start_time": "2024-10-21T08:51:31.589Z"
   },
   {
    "duration": 6,
    "start_time": "2024-10-21T08:53:00.074Z"
   },
   {
    "duration": 10,
    "start_time": "2024-10-21T09:06:36.496Z"
   },
   {
    "duration": 888,
    "start_time": "2024-10-21T09:06:48.268Z"
   },
   {
    "duration": 9,
    "start_time": "2024-10-21T09:07:08.210Z"
   },
   {
    "duration": 10,
    "start_time": "2024-10-21T09:08:21.091Z"
   },
   {
    "duration": 16,
    "start_time": "2024-10-21T09:11:34.116Z"
   },
   {
    "duration": 10,
    "start_time": "2024-10-21T09:13:01.849Z"
   },
   {
    "duration": 908,
    "start_time": "2024-10-21T09:13:08.683Z"
   },
   {
    "duration": 11,
    "start_time": "2024-10-21T09:13:43.430Z"
   },
   {
    "duration": 14,
    "start_time": "2024-10-21T09:13:47.187Z"
   },
   {
    "duration": 13,
    "start_time": "2024-10-21T09:14:11.384Z"
   },
   {
    "duration": 15,
    "start_time": "2024-10-21T09:14:46.232Z"
   },
   {
    "duration": 4,
    "start_time": "2024-10-21T09:15:28.074Z"
   },
   {
    "duration": 7,
    "start_time": "2024-10-21T09:16:16.368Z"
   },
   {
    "duration": 17,
    "start_time": "2024-10-21T09:16:18.237Z"
   },
   {
    "duration": 4,
    "start_time": "2024-10-21T09:16:20.553Z"
   },
   {
    "duration": 5,
    "start_time": "2024-10-21T09:16:21.360Z"
   },
   {
    "duration": 1211,
    "start_time": "2024-10-21T09:16:27.489Z"
   },
   {
    "duration": 43,
    "start_time": "2024-10-21T09:16:28.702Z"
   },
   {
    "duration": 11,
    "start_time": "2024-10-21T09:16:28.746Z"
   },
   {
    "duration": 42,
    "start_time": "2024-10-21T09:16:28.759Z"
   },
   {
    "duration": 35,
    "start_time": "2024-10-21T09:16:28.802Z"
   },
   {
    "duration": 14,
    "start_time": "2024-10-21T09:16:28.838Z"
   },
   {
    "duration": 68,
    "start_time": "2024-10-21T09:16:28.854Z"
   },
   {
    "duration": 730,
    "start_time": "2024-10-21T09:16:28.924Z"
   },
   {
    "duration": 64,
    "start_time": "2024-10-21T09:16:29.656Z"
   },
   {
    "duration": 11,
    "start_time": "2024-10-21T09:16:29.724Z"
   },
   {
    "duration": 7,
    "start_time": "2024-10-21T09:16:29.737Z"
   },
   {
    "duration": 8,
    "start_time": "2024-10-21T09:16:29.746Z"
   },
   {
    "duration": 42,
    "start_time": "2024-10-21T09:16:29.756Z"
   },
   {
    "duration": 5,
    "start_time": "2024-10-21T09:16:29.800Z"
   },
   {
    "duration": 6,
    "start_time": "2024-10-21T09:16:29.807Z"
   },
   {
    "duration": 40,
    "start_time": "2024-10-21T09:16:29.814Z"
   },
   {
    "duration": 10,
    "start_time": "2024-10-21T09:16:29.855Z"
   },
   {
    "duration": 7,
    "start_time": "2024-10-21T09:16:29.866Z"
   },
   {
    "duration": 554,
    "start_time": "2024-10-21T09:16:29.874Z"
   },
   {
    "duration": 9,
    "start_time": "2024-10-21T09:16:30.430Z"
   },
   {
    "duration": 71,
    "start_time": "2024-10-21T09:16:30.440Z"
   },
   {
    "duration": 11,
    "start_time": "2024-10-21T09:16:30.513Z"
   },
   {
    "duration": 8,
    "start_time": "2024-10-21T09:16:30.526Z"
   },
   {
    "duration": 567,
    "start_time": "2024-10-21T09:16:30.536Z"
   },
   {
    "duration": 12,
    "start_time": "2024-10-21T09:16:31.104Z"
   },
   {
    "duration": 27,
    "start_time": "2024-10-21T09:16:31.117Z"
   },
   {
    "duration": 371,
    "start_time": "2024-10-21T09:16:31.146Z"
   },
   {
    "duration": 6,
    "start_time": "2024-10-21T09:16:31.520Z"
   },
   {
    "duration": 289,
    "start_time": "2024-10-21T09:16:31.528Z"
   },
   {
    "duration": 6,
    "start_time": "2024-10-21T09:16:31.819Z"
   },
   {
    "duration": 288,
    "start_time": "2024-10-21T09:16:31.827Z"
   },
   {
    "duration": 8,
    "start_time": "2024-10-21T09:16:32.116Z"
   },
   {
    "duration": 302,
    "start_time": "2024-10-21T09:16:32.126Z"
   },
   {
    "duration": 11,
    "start_time": "2024-10-21T09:16:32.430Z"
   },
   {
    "duration": 8,
    "start_time": "2024-10-21T09:16:32.443Z"
   },
   {
    "duration": 170,
    "start_time": "2024-10-21T09:16:32.452Z"
   },
   {
    "duration": 5,
    "start_time": "2024-10-21T09:16:32.624Z"
   },
   {
    "duration": 9,
    "start_time": "2024-10-21T09:16:32.630Z"
   },
   {
    "duration": 43,
    "start_time": "2024-10-21T09:16:32.640Z"
   },
   {
    "duration": 41,
    "start_time": "2024-10-21T09:16:32.685Z"
   },
   {
    "duration": 283,
    "start_time": "2024-10-21T09:16:32.727Z"
   },
   {
    "duration": 324,
    "start_time": "2024-10-21T09:16:33.012Z"
   },
   {
    "duration": 4,
    "start_time": "2024-10-21T09:16:33.338Z"
   },
   {
    "duration": 467,
    "start_time": "2024-10-21T09:16:33.345Z"
   },
   {
    "duration": 28,
    "start_time": "2024-10-21T09:16:33.813Z"
   },
   {
    "duration": 316,
    "start_time": "2024-10-21T09:16:33.898Z"
   },
   {
    "duration": 6,
    "start_time": "2024-10-21T09:16:34.216Z"
   },
   {
    "duration": 40,
    "start_time": "2024-10-21T09:16:34.223Z"
   },
   {
    "duration": 45,
    "start_time": "2024-10-21T09:16:34.265Z"
   },
   {
    "duration": 25,
    "start_time": "2024-10-21T09:16:34.312Z"
   },
   {
    "duration": 10,
    "start_time": "2024-10-21T09:16:34.338Z"
   },
   {
    "duration": 18,
    "start_time": "2024-10-21T09:16:34.349Z"
   },
   {
    "duration": 66,
    "start_time": "2024-10-21T09:16:34.369Z"
   },
   {
    "duration": 6,
    "start_time": "2024-10-21T09:16:34.437Z"
   },
   {
    "duration": 26,
    "start_time": "2024-10-21T09:16:34.445Z"
   },
   {
    "duration": 7,
    "start_time": "2024-10-21T09:18:07.854Z"
   },
   {
    "duration": 7,
    "start_time": "2024-10-21T09:18:32.882Z"
   },
   {
    "duration": 6,
    "start_time": "2024-10-21T09:18:50.725Z"
   },
   {
    "duration": 7,
    "start_time": "2024-10-21T09:19:27.713Z"
   },
   {
    "duration": 6,
    "start_time": "2024-10-21T09:19:33.804Z"
   },
   {
    "duration": 4,
    "start_time": "2024-10-21T09:20:07.949Z"
   },
   {
    "duration": 17,
    "start_time": "2024-10-21T09:21:17.662Z"
   },
   {
    "duration": 20,
    "start_time": "2024-10-21T09:21:24.093Z"
   },
   {
    "duration": 4,
    "start_time": "2024-10-21T09:21:33.228Z"
   },
   {
    "duration": 17,
    "start_time": "2024-10-21T09:21:51.664Z"
   },
   {
    "duration": 13,
    "start_time": "2024-10-21T09:22:07.658Z"
   },
   {
    "duration": 16,
    "start_time": "2024-10-21T09:22:16.317Z"
   },
   {
    "duration": 14,
    "start_time": "2024-10-21T09:22:35.177Z"
   },
   {
    "duration": 15,
    "start_time": "2024-10-21T09:22:44.884Z"
   },
   {
    "duration": 15,
    "start_time": "2024-10-21T09:22:51.588Z"
   },
   {
    "duration": 104,
    "start_time": "2024-10-21T09:25:27.243Z"
   },
   {
    "duration": 6,
    "start_time": "2024-10-21T09:25:39.350Z"
   },
   {
    "duration": 10,
    "start_time": "2024-10-21T09:26:22.452Z"
   },
   {
    "duration": 4,
    "start_time": "2024-10-21T09:26:46.233Z"
   },
   {
    "duration": 8,
    "start_time": "2024-10-21T09:27:06.906Z"
   },
   {
    "duration": 16,
    "start_time": "2024-10-21T09:32:52.894Z"
   },
   {
    "duration": 14,
    "start_time": "2024-10-21T09:33:22.690Z"
   },
   {
    "duration": 886,
    "start_time": "2024-10-21T09:39:02.106Z"
   },
   {
    "duration": 5,
    "start_time": "2024-10-21T09:39:21.203Z"
   },
   {
    "duration": 4,
    "start_time": "2024-10-21T09:39:57.168Z"
   },
   {
    "duration": 4,
    "start_time": "2024-10-21T09:40:08.119Z"
   },
   {
    "duration": 15,
    "start_time": "2024-10-21T09:47:04.776Z"
   },
   {
    "duration": 25,
    "start_time": "2024-10-21T09:47:14.485Z"
   },
   {
    "duration": 20,
    "start_time": "2024-10-21T09:47:32.754Z"
   },
   {
    "duration": 24,
    "start_time": "2024-10-21T09:47:54.553Z"
   },
   {
    "duration": 34,
    "start_time": "2024-10-21T09:48:24.235Z"
   },
   {
    "duration": 937,
    "start_time": "2024-10-21T09:53:16.323Z"
   },
   {
    "duration": 34,
    "start_time": "2024-10-21T09:54:48.609Z"
   },
   {
    "duration": 444,
    "start_time": "2024-10-21T09:56:55.094Z"
   },
   {
    "duration": 1182,
    "start_time": "2024-10-21T09:59:45.889Z"
   },
   {
    "duration": 43,
    "start_time": "2024-10-21T09:59:47.073Z"
   },
   {
    "duration": 11,
    "start_time": "2024-10-21T09:59:47.117Z"
   },
   {
    "duration": 9,
    "start_time": "2024-10-21T09:59:47.130Z"
   },
   {
    "duration": 13,
    "start_time": "2024-10-21T09:59:47.141Z"
   },
   {
    "duration": 11,
    "start_time": "2024-10-21T09:59:47.156Z"
   },
   {
    "duration": 79,
    "start_time": "2024-10-21T09:59:47.168Z"
   },
   {
    "duration": 722,
    "start_time": "2024-10-21T09:59:47.248Z"
   },
   {
    "duration": 63,
    "start_time": "2024-10-21T09:59:47.972Z"
   },
   {
    "duration": 11,
    "start_time": "2024-10-21T09:59:48.039Z"
   },
   {
    "duration": 33,
    "start_time": "2024-10-21T09:59:48.052Z"
   },
   {
    "duration": 22,
    "start_time": "2024-10-21T09:59:48.087Z"
   },
   {
    "duration": 44,
    "start_time": "2024-10-21T09:59:48.111Z"
   },
   {
    "duration": 5,
    "start_time": "2024-10-21T09:59:48.157Z"
   },
   {
    "duration": 52,
    "start_time": "2024-10-21T09:59:48.163Z"
   },
   {
    "duration": 10,
    "start_time": "2024-10-21T09:59:48.217Z"
   },
   {
    "duration": 18,
    "start_time": "2024-10-21T09:59:48.229Z"
   },
   {
    "duration": 370,
    "start_time": "2024-10-21T09:59:48.248Z"
   },
   {
    "duration": 9,
    "start_time": "2024-10-21T09:59:48.620Z"
   },
   {
    "duration": 9,
    "start_time": "2024-10-21T09:59:48.631Z"
   },
   {
    "duration": 10,
    "start_time": "2024-10-21T09:59:48.642Z"
   },
   {
    "duration": 16,
    "start_time": "2024-10-21T09:59:48.654Z"
   },
   {
    "duration": 307,
    "start_time": "2024-10-21T09:59:48.672Z"
   },
   {
    "duration": 20,
    "start_time": "2024-10-21T09:59:48.981Z"
   },
   {
    "duration": 26,
    "start_time": "2024-10-21T09:59:49.003Z"
   },
   {
    "duration": 241,
    "start_time": "2024-10-21T09:59:49.030Z"
   },
   {
    "duration": 6,
    "start_time": "2024-10-21T09:59:49.273Z"
   },
   {
    "duration": 337,
    "start_time": "2024-10-21T09:59:49.283Z"
   },
   {
    "duration": 6,
    "start_time": "2024-10-21T09:59:49.621Z"
   },
   {
    "duration": 292,
    "start_time": "2024-10-21T09:59:49.629Z"
   },
   {
    "duration": 8,
    "start_time": "2024-10-21T09:59:49.923Z"
   },
   {
    "duration": 320,
    "start_time": "2024-10-21T09:59:49.932Z"
   },
   {
    "duration": 12,
    "start_time": "2024-10-21T09:59:50.254Z"
   },
   {
    "duration": 17,
    "start_time": "2024-10-21T09:59:50.267Z"
   },
   {
    "duration": 162,
    "start_time": "2024-10-21T09:59:50.286Z"
   },
   {
    "duration": 5,
    "start_time": "2024-10-21T09:59:50.449Z"
   },
   {
    "duration": 11,
    "start_time": "2024-10-21T09:59:50.455Z"
   },
   {
    "duration": 18,
    "start_time": "2024-10-21T09:59:50.468Z"
   },
   {
    "duration": 19,
    "start_time": "2024-10-21T09:59:50.487Z"
   },
   {
    "duration": 166,
    "start_time": "2024-10-21T09:59:50.508Z"
   },
   {
    "duration": 175,
    "start_time": "2024-10-21T09:59:50.676Z"
   },
   {
    "duration": 4,
    "start_time": "2024-10-21T09:59:50.852Z"
   },
   {
    "duration": 208,
    "start_time": "2024-10-21T09:59:50.858Z"
   },
   {
    "duration": 39,
    "start_time": "2024-10-21T09:59:51.068Z"
   },
   {
    "duration": 138,
    "start_time": "2024-10-21T09:59:51.109Z"
   },
   {
    "duration": 7,
    "start_time": "2024-10-21T09:59:51.249Z"
   },
   {
    "duration": 11,
    "start_time": "2024-10-21T09:59:51.258Z"
   },
   {
    "duration": 67,
    "start_time": "2024-10-21T09:59:51.271Z"
   },
   {
    "duration": 14,
    "start_time": "2024-10-21T09:59:51.340Z"
   },
   {
    "duration": 12,
    "start_time": "2024-10-21T09:59:51.356Z"
   },
   {
    "duration": 13,
    "start_time": "2024-10-21T09:59:51.370Z"
   },
   {
    "duration": 124,
    "start_time": "2024-10-21T09:59:51.385Z"
   },
   {
    "duration": 6,
    "start_time": "2024-10-21T09:59:51.511Z"
   },
   {
    "duration": 26,
    "start_time": "2024-10-21T09:59:51.519Z"
   },
   {
    "duration": 38,
    "start_time": "2024-10-21T10:00:29.396Z"
   },
   {
    "duration": 4,
    "start_time": "2024-10-21T10:03:07.963Z"
   },
   {
    "duration": 4,
    "start_time": "2024-10-21T10:07:28.047Z"
   },
   {
    "duration": 4,
    "start_time": "2024-10-21T10:08:02.310Z"
   },
   {
    "duration": 5,
    "start_time": "2024-10-21T10:09:24.553Z"
   },
   {
    "duration": 1157,
    "start_time": "2024-10-21T10:14:03.621Z"
   },
   {
    "duration": 43,
    "start_time": "2024-10-21T10:14:04.780Z"
   },
   {
    "duration": 25,
    "start_time": "2024-10-21T10:14:04.825Z"
   },
   {
    "duration": 34,
    "start_time": "2024-10-21T10:14:04.852Z"
   },
   {
    "duration": 54,
    "start_time": "2024-10-21T10:14:04.888Z"
   },
   {
    "duration": 28,
    "start_time": "2024-10-21T10:14:04.944Z"
   },
   {
    "duration": 55,
    "start_time": "2024-10-21T10:14:04.974Z"
   },
   {
    "duration": 712,
    "start_time": "2024-10-21T10:14:05.030Z"
   },
   {
    "duration": 65,
    "start_time": "2024-10-21T10:14:05.744Z"
   },
   {
    "duration": 10,
    "start_time": "2024-10-21T10:14:05.810Z"
   },
   {
    "duration": 123,
    "start_time": "2024-10-21T10:14:05.822Z"
   },
   {
    "duration": 11,
    "start_time": "2024-10-21T10:14:05.946Z"
   },
   {
    "duration": 12,
    "start_time": "2024-10-21T10:14:05.958Z"
   },
   {
    "duration": 6,
    "start_time": "2024-10-21T10:14:05.973Z"
   },
   {
    "duration": 23,
    "start_time": "2024-10-21T10:14:05.981Z"
   },
   {
    "duration": 52,
    "start_time": "2024-10-21T10:14:06.005Z"
   },
   {
    "duration": 4,
    "start_time": "2024-10-21T10:14:06.059Z"
   },
   {
    "duration": 13,
    "start_time": "2024-10-21T10:14:06.065Z"
   },
   {
    "duration": 307,
    "start_time": "2024-10-21T10:14:06.080Z"
   },
   {
    "duration": 18,
    "start_time": "2024-10-21T10:14:06.388Z"
   },
   {
    "duration": 26,
    "start_time": "2024-10-21T10:14:06.407Z"
   },
   {
    "duration": 34,
    "start_time": "2024-10-21T10:14:06.434Z"
   },
   {
    "duration": 8,
    "start_time": "2024-10-21T10:14:06.470Z"
   },
   {
    "duration": 302,
    "start_time": "2024-10-21T10:14:06.479Z"
   },
   {
    "duration": 17,
    "start_time": "2024-10-21T10:14:06.782Z"
   },
   {
    "duration": 36,
    "start_time": "2024-10-21T10:14:06.800Z"
   },
   {
    "duration": 234,
    "start_time": "2024-10-21T10:14:06.837Z"
   },
   {
    "duration": 7,
    "start_time": "2024-10-21T10:14:07.072Z"
   },
   {
    "duration": 322,
    "start_time": "2024-10-21T10:14:07.080Z"
   },
   {
    "duration": 6,
    "start_time": "2024-10-21T10:14:07.404Z"
   },
   {
    "duration": 371,
    "start_time": "2024-10-21T10:14:07.411Z"
   },
   {
    "duration": 14,
    "start_time": "2024-10-21T10:14:07.784Z"
   },
   {
    "duration": 310,
    "start_time": "2024-10-21T10:14:07.800Z"
   },
   {
    "duration": 12,
    "start_time": "2024-10-21T10:14:08.112Z"
   },
   {
    "duration": 10,
    "start_time": "2024-10-21T10:14:08.125Z"
   },
   {
    "duration": 199,
    "start_time": "2024-10-21T10:14:08.136Z"
   },
   {
    "duration": 5,
    "start_time": "2024-10-21T10:14:08.336Z"
   },
   {
    "duration": 8,
    "start_time": "2024-10-21T10:14:08.397Z"
   },
   {
    "duration": 27,
    "start_time": "2024-10-21T10:14:08.407Z"
   },
   {
    "duration": 63,
    "start_time": "2024-10-21T10:14:08.436Z"
   },
   {
    "duration": 320,
    "start_time": "2024-10-21T10:14:08.503Z"
   },
   {
    "duration": 384,
    "start_time": "2024-10-21T10:14:08.824Z"
   },
   {
    "duration": 4,
    "start_time": "2024-10-21T10:14:09.210Z"
   },
   {
    "duration": 413,
    "start_time": "2024-10-21T10:14:09.217Z"
   },
   {
    "duration": 81,
    "start_time": "2024-10-21T10:14:09.632Z"
   },
   {
    "duration": 188,
    "start_time": "2024-10-21T10:14:09.714Z"
   },
   {
    "duration": 8,
    "start_time": "2024-10-21T10:14:09.904Z"
   },
   {
    "duration": 36,
    "start_time": "2024-10-21T10:14:09.914Z"
   },
   {
    "duration": 36,
    "start_time": "2024-10-21T10:14:09.952Z"
   },
   {
    "duration": 10,
    "start_time": "2024-10-21T10:14:09.989Z"
   },
   {
    "duration": 9,
    "start_time": "2024-10-21T10:14:10.001Z"
   },
   {
    "duration": 41,
    "start_time": "2024-10-21T10:14:10.011Z"
   },
   {
    "duration": 47,
    "start_time": "2024-10-21T10:14:10.054Z"
   },
   {
    "duration": 6,
    "start_time": "2024-10-21T10:14:10.103Z"
   },
   {
    "duration": 22,
    "start_time": "2024-10-21T10:14:10.110Z"
   },
   {
    "duration": 1367,
    "start_time": "2024-10-21T10:18:32.218Z"
   },
   {
    "duration": 6,
    "start_time": "2024-10-21T10:18:52.754Z"
   },
   {
    "duration": 11,
    "start_time": "2024-10-21T10:19:33.915Z"
   },
   {
    "duration": 1203,
    "start_time": "2024-10-21T10:20:00.874Z"
   },
   {
    "duration": 45,
    "start_time": "2024-10-21T10:20:02.079Z"
   },
   {
    "duration": 12,
    "start_time": "2024-10-21T10:20:02.126Z"
   },
   {
    "duration": 9,
    "start_time": "2024-10-21T10:20:02.141Z"
   },
   {
    "duration": 18,
    "start_time": "2024-10-21T10:20:02.152Z"
   },
   {
    "duration": 11,
    "start_time": "2024-10-21T10:20:02.171Z"
   },
   {
    "duration": 99,
    "start_time": "2024-10-21T10:20:02.198Z"
   },
   {
    "duration": 715,
    "start_time": "2024-10-21T10:20:02.299Z"
   },
   {
    "duration": 63,
    "start_time": "2024-10-21T10:20:03.017Z"
   },
   {
    "duration": 12,
    "start_time": "2024-10-21T10:20:03.083Z"
   },
   {
    "duration": 64,
    "start_time": "2024-10-21T10:20:03.097Z"
   },
   {
    "duration": 11,
    "start_time": "2024-10-21T10:20:03.162Z"
   },
   {
    "duration": 31,
    "start_time": "2024-10-21T10:20:03.174Z"
   },
   {
    "duration": 26,
    "start_time": "2024-10-21T10:20:03.206Z"
   },
   {
    "duration": 26,
    "start_time": "2024-10-21T10:20:03.233Z"
   },
   {
    "duration": 38,
    "start_time": "2024-10-21T10:20:03.260Z"
   },
   {
    "duration": 6,
    "start_time": "2024-10-21T10:20:03.300Z"
   },
   {
    "duration": 35,
    "start_time": "2024-10-21T10:20:03.307Z"
   },
   {
    "duration": 25,
    "start_time": "2024-10-21T10:20:03.344Z"
   },
   {
    "duration": 301,
    "start_time": "2024-10-21T10:20:03.371Z"
   },
   {
    "duration": 8,
    "start_time": "2024-10-21T10:20:03.674Z"
   },
   {
    "duration": 69,
    "start_time": "2024-10-21T10:20:03.683Z"
   },
   {
    "duration": 32,
    "start_time": "2024-10-21T10:20:03.754Z"
   },
   {
    "duration": 39,
    "start_time": "2024-10-21T10:20:03.788Z"
   },
   {
    "duration": 285,
    "start_time": "2024-10-21T10:20:03.829Z"
   },
   {
    "duration": 12,
    "start_time": "2024-10-21T10:20:04.115Z"
   },
   {
    "duration": 41,
    "start_time": "2024-10-21T10:20:04.128Z"
   },
   {
    "duration": 219,
    "start_time": "2024-10-21T10:20:04.172Z"
   },
   {
    "duration": 7,
    "start_time": "2024-10-21T10:20:04.397Z"
   },
   {
    "duration": 357,
    "start_time": "2024-10-21T10:20:04.405Z"
   },
   {
    "duration": 6,
    "start_time": "2024-10-21T10:20:04.763Z"
   },
   {
    "duration": 287,
    "start_time": "2024-10-21T10:20:04.771Z"
   },
   {
    "duration": 8,
    "start_time": "2024-10-21T10:20:05.060Z"
   },
   {
    "duration": 318,
    "start_time": "2024-10-21T10:20:05.069Z"
   },
   {
    "duration": 12,
    "start_time": "2024-10-21T10:20:05.397Z"
   },
   {
    "duration": 17,
    "start_time": "2024-10-21T10:20:05.411Z"
   },
   {
    "duration": 248,
    "start_time": "2024-10-21T10:20:05.429Z"
   },
   {
    "duration": 3,
    "start_time": "2024-10-21T10:20:05.679Z"
   },
   {
    "duration": 45,
    "start_time": "2024-10-21T10:20:05.684Z"
   },
   {
    "duration": 37,
    "start_time": "2024-10-21T10:20:05.731Z"
   },
   {
    "duration": 8,
    "start_time": "2024-10-21T10:20:05.770Z"
   },
   {
    "duration": 222,
    "start_time": "2024-10-21T10:20:05.779Z"
   },
   {
    "duration": 324,
    "start_time": "2024-10-21T10:20:06.002Z"
   },
   {
    "duration": 4,
    "start_time": "2024-10-21T10:20:06.327Z"
   },
   {
    "duration": 407,
    "start_time": "2024-10-21T10:20:06.333Z"
   },
   {
    "duration": 80,
    "start_time": "2024-10-21T10:20:06.742Z"
   },
   {
    "duration": 285,
    "start_time": "2024-10-21T10:20:06.824Z"
   },
   {
    "duration": 7,
    "start_time": "2024-10-21T10:20:07.111Z"
   },
   {
    "duration": 18,
    "start_time": "2024-10-21T10:20:07.120Z"
   },
   {
    "duration": 78,
    "start_time": "2024-10-21T10:20:07.140Z"
   },
   {
    "duration": 11,
    "start_time": "2024-10-21T10:20:07.220Z"
   },
   {
    "duration": 73,
    "start_time": "2024-10-21T10:20:07.232Z"
   },
   {
    "duration": 33,
    "start_time": "2024-10-21T10:20:07.306Z"
   },
   {
    "duration": 72,
    "start_time": "2024-10-21T10:20:07.340Z"
   },
   {
    "duration": 7,
    "start_time": "2024-10-21T10:20:07.413Z"
   },
   {
    "duration": 106,
    "start_time": "2024-10-21T10:20:07.421Z"
   },
   {
    "duration": 8,
    "start_time": "2024-10-21T10:20:31.182Z"
   },
   {
    "duration": 7,
    "start_time": "2024-10-21T10:20:44.255Z"
   },
   {
    "duration": 1108,
    "start_time": "2024-10-21T10:20:51.473Z"
   },
   {
    "duration": 44,
    "start_time": "2024-10-21T10:20:52.583Z"
   },
   {
    "duration": 11,
    "start_time": "2024-10-21T10:20:52.628Z"
   },
   {
    "duration": 20,
    "start_time": "2024-10-21T10:20:52.641Z"
   },
   {
    "duration": 17,
    "start_time": "2024-10-21T10:20:52.663Z"
   },
   {
    "duration": 15,
    "start_time": "2024-10-21T10:20:52.682Z"
   },
   {
    "duration": 56,
    "start_time": "2024-10-21T10:20:52.699Z"
   },
   {
    "duration": 718,
    "start_time": "2024-10-21T10:20:52.756Z"
   },
   {
    "duration": 63,
    "start_time": "2024-10-21T10:20:53.476Z"
   },
   {
    "duration": 11,
    "start_time": "2024-10-21T10:20:53.543Z"
   },
   {
    "duration": 32,
    "start_time": "2024-10-21T10:20:53.555Z"
   },
   {
    "duration": 11,
    "start_time": "2024-10-21T10:20:53.589Z"
   },
   {
    "duration": 8,
    "start_time": "2024-10-21T10:20:53.601Z"
   },
   {
    "duration": 6,
    "start_time": "2024-10-21T10:20:53.611Z"
   },
   {
    "duration": 14,
    "start_time": "2024-10-21T10:20:53.619Z"
   },
   {
    "duration": 39,
    "start_time": "2024-10-21T10:20:53.634Z"
   },
   {
    "duration": 25,
    "start_time": "2024-10-21T10:20:53.675Z"
   },
   {
    "duration": 12,
    "start_time": "2024-10-21T10:20:53.701Z"
   },
   {
    "duration": 5,
    "start_time": "2024-10-21T10:20:53.715Z"
   },
   {
    "duration": 314,
    "start_time": "2024-10-21T10:20:53.722Z"
   },
   {
    "duration": 10,
    "start_time": "2024-10-21T10:20:54.037Z"
   },
   {
    "duration": 23,
    "start_time": "2024-10-21T10:20:54.048Z"
   },
   {
    "duration": 51,
    "start_time": "2024-10-21T10:20:54.073Z"
   },
   {
    "duration": 17,
    "start_time": "2024-10-21T10:20:54.126Z"
   },
   {
    "duration": 295,
    "start_time": "2024-10-21T10:20:54.145Z"
   },
   {
    "duration": 63,
    "start_time": "2024-10-21T10:20:54.442Z"
   },
   {
    "duration": 43,
    "start_time": "2024-10-21T10:20:54.507Z"
   },
   {
    "duration": 468,
    "start_time": "2024-10-21T10:20:54.554Z"
   },
   {
    "duration": 6,
    "start_time": "2024-10-21T10:20:55.024Z"
   },
   {
    "duration": 483,
    "start_time": "2024-10-21T10:20:55.032Z"
   },
   {
    "duration": 6,
    "start_time": "2024-10-21T10:20:55.517Z"
   },
   {
    "duration": 486,
    "start_time": "2024-10-21T10:20:55.525Z"
   },
   {
    "duration": 8,
    "start_time": "2024-10-21T10:20:56.013Z"
   },
   {
    "duration": 303,
    "start_time": "2024-10-21T10:20:56.023Z"
   },
   {
    "duration": 11,
    "start_time": "2024-10-21T10:20:56.328Z"
   },
   {
    "duration": 7,
    "start_time": "2024-10-21T10:20:56.340Z"
   },
   {
    "duration": 195,
    "start_time": "2024-10-21T10:20:56.349Z"
   },
   {
    "duration": 4,
    "start_time": "2024-10-21T10:20:56.545Z"
   },
   {
    "duration": 25,
    "start_time": "2024-10-21T10:20:56.551Z"
   },
   {
    "duration": 16,
    "start_time": "2024-10-21T10:20:56.578Z"
   },
   {
    "duration": 12,
    "start_time": "2024-10-21T10:20:56.596Z"
   },
   {
    "duration": 163,
    "start_time": "2024-10-21T10:20:56.610Z"
   },
   {
    "duration": 171,
    "start_time": "2024-10-21T10:20:56.775Z"
   },
   {
    "duration": 5,
    "start_time": "2024-10-21T10:20:56.948Z"
   },
   {
    "duration": 220,
    "start_time": "2024-10-21T10:20:56.955Z"
   },
   {
    "duration": 37,
    "start_time": "2024-10-21T10:20:57.176Z"
   },
   {
    "duration": 144,
    "start_time": "2024-10-21T10:20:57.215Z"
   },
   {
    "duration": 6,
    "start_time": "2024-10-21T10:20:57.361Z"
   },
   {
    "duration": 7,
    "start_time": "2024-10-21T10:20:57.368Z"
   },
   {
    "duration": 46,
    "start_time": "2024-10-21T10:20:57.376Z"
   },
   {
    "duration": 9,
    "start_time": "2024-10-21T10:20:57.424Z"
   },
   {
    "duration": 89,
    "start_time": "2024-10-21T10:20:57.435Z"
   },
   {
    "duration": 11,
    "start_time": "2024-10-21T10:20:57.526Z"
   },
   {
    "duration": 45,
    "start_time": "2024-10-21T10:20:57.538Z"
   },
   {
    "duration": 6,
    "start_time": "2024-10-21T10:20:57.585Z"
   },
   {
    "duration": 11,
    "start_time": "2024-10-21T10:20:57.593Z"
   },
   {
    "duration": 16,
    "start_time": "2024-10-21T10:26:45.172Z"
   },
   {
    "duration": 16,
    "start_time": "2024-10-21T10:27:10.085Z"
   },
   {
    "duration": 3,
    "start_time": "2024-10-21T10:30:21.247Z"
   },
   {
    "duration": 10,
    "start_time": "2024-10-21T10:30:38.424Z"
   },
   {
    "duration": 16,
    "start_time": "2024-10-21T10:33:09.532Z"
   },
   {
    "duration": 972,
    "start_time": "2024-10-21T10:33:15.047Z"
   },
   {
    "duration": 825,
    "start_time": "2024-10-21T10:33:35.517Z"
   },
   {
    "duration": 1172,
    "start_time": "2024-10-21T10:33:43.981Z"
   },
   {
    "duration": 43,
    "start_time": "2024-10-21T10:33:45.155Z"
   },
   {
    "duration": 11,
    "start_time": "2024-10-21T10:33:45.199Z"
   },
   {
    "duration": 21,
    "start_time": "2024-10-21T10:33:45.212Z"
   },
   {
    "duration": 21,
    "start_time": "2024-10-21T10:33:45.234Z"
   },
   {
    "duration": 13,
    "start_time": "2024-10-21T10:33:45.257Z"
   },
   {
    "duration": 74,
    "start_time": "2024-10-21T10:33:45.271Z"
   },
   {
    "duration": 696,
    "start_time": "2024-10-21T10:33:45.347Z"
   },
   {
    "duration": 62,
    "start_time": "2024-10-21T10:33:46.044Z"
   },
   {
    "duration": 11,
    "start_time": "2024-10-21T10:33:46.109Z"
   },
   {
    "duration": 27,
    "start_time": "2024-10-21T10:33:46.122Z"
   },
   {
    "duration": 16,
    "start_time": "2024-10-21T10:33:46.151Z"
   },
   {
    "duration": 8,
    "start_time": "2024-10-21T10:33:46.170Z"
   },
   {
    "duration": 22,
    "start_time": "2024-10-21T10:33:46.180Z"
   },
   {
    "duration": 5,
    "start_time": "2024-10-21T10:33:46.203Z"
   },
   {
    "duration": 45,
    "start_time": "2024-10-21T10:33:46.209Z"
   },
   {
    "duration": 9,
    "start_time": "2024-10-21T10:33:46.256Z"
   },
   {
    "duration": 34,
    "start_time": "2024-10-21T10:33:46.266Z"
   },
   {
    "duration": 16,
    "start_time": "2024-10-21T10:33:46.302Z"
   },
   {
    "duration": 10,
    "start_time": "2024-10-21T10:33:46.320Z"
   },
   {
    "duration": 13,
    "start_time": "2024-10-21T10:33:46.332Z"
   },
   {
    "duration": 8,
    "start_time": "2024-10-21T10:33:46.347Z"
   },
   {
    "duration": 324,
    "start_time": "2024-10-21T10:33:46.357Z"
   },
   {
    "duration": 23,
    "start_time": "2024-10-21T10:33:46.682Z"
   },
   {
    "duration": 8,
    "start_time": "2024-10-21T10:33:46.707Z"
   },
   {
    "duration": 31,
    "start_time": "2024-10-21T10:33:46.717Z"
   },
   {
    "duration": 26,
    "start_time": "2024-10-21T10:33:46.750Z"
   },
   {
    "duration": 293,
    "start_time": "2024-10-21T10:33:46.780Z"
   },
   {
    "duration": 12,
    "start_time": "2024-10-21T10:33:47.075Z"
   },
   {
    "duration": 31,
    "start_time": "2024-10-21T10:33:47.088Z"
   },
   {
    "duration": 252,
    "start_time": "2024-10-21T10:33:47.121Z"
   },
   {
    "duration": 7,
    "start_time": "2024-10-21T10:33:47.374Z"
   },
   {
    "duration": 305,
    "start_time": "2024-10-21T10:33:47.382Z"
   },
   {
    "duration": 12,
    "start_time": "2024-10-21T10:33:47.689Z"
   },
   {
    "duration": 297,
    "start_time": "2024-10-21T10:33:47.703Z"
   },
   {
    "duration": 8,
    "start_time": "2024-10-21T10:33:48.001Z"
   },
   {
    "duration": 335,
    "start_time": "2024-10-21T10:33:48.011Z"
   },
   {
    "duration": 13,
    "start_time": "2024-10-21T10:33:48.348Z"
   },
   {
    "duration": 9,
    "start_time": "2024-10-21T10:33:48.363Z"
   },
   {
    "duration": 228,
    "start_time": "2024-10-21T10:33:48.373Z"
   },
   {
    "duration": 5,
    "start_time": "2024-10-21T10:33:48.603Z"
   },
   {
    "duration": 5,
    "start_time": "2024-10-21T10:33:48.610Z"
   },
   {
    "duration": 13,
    "start_time": "2024-10-21T10:33:48.617Z"
   },
   {
    "duration": 17,
    "start_time": "2024-10-21T10:33:48.631Z"
   },
   {
    "duration": 185,
    "start_time": "2024-10-21T10:33:48.649Z"
   },
   {
    "duration": 175,
    "start_time": "2024-10-21T10:33:48.835Z"
   },
   {
    "duration": 5,
    "start_time": "2024-10-21T10:33:49.011Z"
   },
   {
    "duration": 225,
    "start_time": "2024-10-21T10:33:49.017Z"
   },
   {
    "duration": 35,
    "start_time": "2024-10-21T10:33:49.244Z"
   },
   {
    "duration": 157,
    "start_time": "2024-10-21T10:33:49.281Z"
   },
   {
    "duration": 7,
    "start_time": "2024-10-21T10:33:49.439Z"
   },
   {
    "duration": 5,
    "start_time": "2024-10-21T10:33:49.448Z"
   },
   {
    "duration": 46,
    "start_time": "2024-10-21T10:33:49.454Z"
   },
   {
    "duration": 10,
    "start_time": "2024-10-21T10:33:49.502Z"
   },
   {
    "duration": 73,
    "start_time": "2024-10-21T10:33:49.513Z"
   },
   {
    "duration": 16,
    "start_time": "2024-10-21T10:33:49.588Z"
   },
   {
    "duration": 27,
    "start_time": "2024-10-21T10:33:49.606Z"
   },
   {
    "duration": 6,
    "start_time": "2024-10-21T10:33:49.635Z"
   },
   {
    "duration": 16,
    "start_time": "2024-10-21T10:33:49.642Z"
   },
   {
    "duration": 15,
    "start_time": "2024-10-21T10:34:19.623Z"
   },
   {
    "duration": 12,
    "start_time": "2024-10-21T10:34:27.971Z"
   },
   {
    "duration": 10,
    "start_time": "2024-10-21T10:34:58.944Z"
   },
   {
    "duration": 10,
    "start_time": "2024-10-21T10:35:12.197Z"
   },
   {
    "duration": 16,
    "start_time": "2024-10-21T10:37:18.731Z"
   },
   {
    "duration": 15,
    "start_time": "2024-10-21T10:37:37.097Z"
   },
   {
    "duration": 18,
    "start_time": "2024-10-21T10:38:10.181Z"
   },
   {
    "duration": 17,
    "start_time": "2024-10-21T10:38:22.364Z"
   },
   {
    "duration": 20,
    "start_time": "2024-10-21T10:38:35.348Z"
   },
   {
    "duration": 17,
    "start_time": "2024-10-21T10:40:30.595Z"
   },
   {
    "duration": 973,
    "start_time": "2024-10-21T10:40:40.710Z"
   },
   {
    "duration": 17,
    "start_time": "2024-10-21T10:40:59.795Z"
   },
   {
    "duration": 13,
    "start_time": "2024-10-21T10:41:06.593Z"
   },
   {
    "duration": 1136,
    "start_time": "2024-10-21T10:41:40.245Z"
   },
   {
    "duration": 43,
    "start_time": "2024-10-21T10:41:41.383Z"
   },
   {
    "duration": 12,
    "start_time": "2024-10-21T10:41:41.428Z"
   },
   {
    "duration": 19,
    "start_time": "2024-10-21T10:41:41.443Z"
   },
   {
    "duration": 44,
    "start_time": "2024-10-21T10:41:41.464Z"
   },
   {
    "duration": 58,
    "start_time": "2024-10-21T10:41:41.510Z"
   },
   {
    "duration": 67,
    "start_time": "2024-10-21T10:41:41.570Z"
   },
   {
    "duration": 699,
    "start_time": "2024-10-21T10:41:41.639Z"
   },
   {
    "duration": 62,
    "start_time": "2024-10-21T10:41:42.340Z"
   },
   {
    "duration": 11,
    "start_time": "2024-10-21T10:41:42.404Z"
   },
   {
    "duration": 118,
    "start_time": "2024-10-21T10:41:42.416Z"
   },
   {
    "duration": 10,
    "start_time": "2024-10-21T10:41:42.536Z"
   },
   {
    "duration": 32,
    "start_time": "2024-10-21T10:41:42.547Z"
   },
   {
    "duration": 32,
    "start_time": "2024-10-21T10:41:42.581Z"
   },
   {
    "duration": 21,
    "start_time": "2024-10-21T10:41:42.615Z"
   },
   {
    "duration": 40,
    "start_time": "2024-10-21T10:41:42.638Z"
   },
   {
    "duration": 5,
    "start_time": "2024-10-21T10:41:42.680Z"
   },
   {
    "duration": 33,
    "start_time": "2024-10-21T10:41:42.686Z"
   },
   {
    "duration": 31,
    "start_time": "2024-10-21T10:41:42.720Z"
   },
   {
    "duration": 24,
    "start_time": "2024-10-21T10:41:42.752Z"
   },
   {
    "duration": 25,
    "start_time": "2024-10-21T10:41:42.778Z"
   },
   {
    "duration": 596,
    "start_time": "2024-10-21T10:41:42.805Z"
   },
   {
    "duration": 8,
    "start_time": "2024-10-21T10:41:43.403Z"
   },
   {
    "duration": 11,
    "start_time": "2024-10-21T10:41:43.412Z"
   },
   {
    "duration": 8,
    "start_time": "2024-10-21T10:41:43.425Z"
   },
   {
    "duration": 68,
    "start_time": "2024-10-21T10:41:43.434Z"
   },
   {
    "duration": 613,
    "start_time": "2024-10-21T10:41:43.504Z"
   },
   {
    "duration": 12,
    "start_time": "2024-10-21T10:41:44.121Z"
   },
   {
    "duration": 14,
    "start_time": "2024-10-21T10:41:44.135Z"
   },
   {
    "duration": 455,
    "start_time": "2024-10-21T10:41:44.150Z"
   },
   {
    "duration": 6,
    "start_time": "2024-10-21T10:41:44.607Z"
   },
   {
    "duration": 401,
    "start_time": "2024-10-21T10:41:44.614Z"
   },
   {
    "duration": 5,
    "start_time": "2024-10-21T10:41:45.017Z"
   },
   {
    "duration": 582,
    "start_time": "2024-10-21T10:41:45.024Z"
   },
   {
    "duration": 8,
    "start_time": "2024-10-21T10:41:45.607Z"
   },
   {
    "duration": 391,
    "start_time": "2024-10-21T10:41:45.617Z"
   },
   {
    "duration": 11,
    "start_time": "2024-10-21T10:41:46.010Z"
   },
   {
    "duration": 97,
    "start_time": "2024-10-21T10:41:46.022Z"
   },
   {
    "duration": 167,
    "start_time": "2024-10-21T10:41:46.121Z"
   },
   {
    "duration": 4,
    "start_time": "2024-10-21T10:41:46.290Z"
   },
   {
    "duration": 5,
    "start_time": "2024-10-21T10:41:46.297Z"
   },
   {
    "duration": 22,
    "start_time": "2024-10-21T10:41:46.303Z"
   },
   {
    "duration": 8,
    "start_time": "2024-10-21T10:41:46.327Z"
   },
   {
    "duration": 176,
    "start_time": "2024-10-21T10:41:46.336Z"
   },
   {
    "duration": 169,
    "start_time": "2024-10-21T10:41:46.514Z"
   },
   {
    "duration": 4,
    "start_time": "2024-10-21T10:41:46.684Z"
   },
   {
    "duration": 204,
    "start_time": "2024-10-21T10:41:46.690Z"
   },
   {
    "duration": 30,
    "start_time": "2024-10-21T10:41:46.895Z"
   },
   {
    "duration": 129,
    "start_time": "2024-10-21T10:41:46.927Z"
   },
   {
    "duration": 7,
    "start_time": "2024-10-21T10:41:47.057Z"
   },
   {
    "duration": 62,
    "start_time": "2024-10-21T10:41:47.065Z"
   },
   {
    "duration": 34,
    "start_time": "2024-10-21T10:41:47.129Z"
   },
   {
    "duration": 19,
    "start_time": "2024-10-21T10:41:47.165Z"
   },
   {
    "duration": 23,
    "start_time": "2024-10-21T10:41:47.186Z"
   },
   {
    "duration": 30,
    "start_time": "2024-10-21T10:41:47.211Z"
   },
   {
    "duration": 60,
    "start_time": "2024-10-21T10:41:47.242Z"
   },
   {
    "duration": 13,
    "start_time": "2024-10-21T10:41:47.303Z"
   },
   {
    "duration": 29,
    "start_time": "2024-10-21T10:41:47.317Z"
   },
   {
    "duration": 17,
    "start_time": "2024-10-21T10:43:08.827Z"
   },
   {
    "duration": 1129,
    "start_time": "2024-10-21T10:44:06.687Z"
   },
   {
    "duration": 5,
    "start_time": "2024-10-21T10:44:34.647Z"
   },
   {
    "duration": 1192,
    "start_time": "2024-10-21T10:44:40.987Z"
   },
   {
    "duration": 45,
    "start_time": "2024-10-21T10:44:42.182Z"
   },
   {
    "duration": 11,
    "start_time": "2024-10-21T10:44:42.228Z"
   },
   {
    "duration": 14,
    "start_time": "2024-10-21T10:44:42.241Z"
   },
   {
    "duration": 23,
    "start_time": "2024-10-21T10:44:42.257Z"
   },
   {
    "duration": 15,
    "start_time": "2024-10-21T10:44:42.281Z"
   },
   {
    "duration": 59,
    "start_time": "2024-10-21T10:44:42.297Z"
   },
   {
    "duration": 808,
    "start_time": "2024-10-21T10:44:42.358Z"
   },
   {
    "duration": 91,
    "start_time": "2024-10-21T10:44:43.167Z"
   },
   {
    "duration": 39,
    "start_time": "2024-10-21T10:44:43.261Z"
   },
   {
    "duration": 56,
    "start_time": "2024-10-21T10:44:43.302Z"
   },
   {
    "duration": 41,
    "start_time": "2024-10-21T10:44:43.360Z"
   },
   {
    "duration": 7,
    "start_time": "2024-10-21T10:44:43.403Z"
   },
   {
    "duration": 12,
    "start_time": "2024-10-21T10:44:43.412Z"
   },
   {
    "duration": 6,
    "start_time": "2024-10-21T10:44:43.425Z"
   },
   {
    "duration": 88,
    "start_time": "2024-10-21T10:44:43.433Z"
   },
   {
    "duration": 5,
    "start_time": "2024-10-21T10:44:43.523Z"
   },
   {
    "duration": 71,
    "start_time": "2024-10-21T10:44:43.530Z"
   },
   {
    "duration": 8,
    "start_time": "2024-10-21T10:44:43.603Z"
   },
   {
    "duration": 4,
    "start_time": "2024-10-21T10:44:43.612Z"
   },
   {
    "duration": 6,
    "start_time": "2024-10-21T10:44:43.617Z"
   },
   {
    "duration": 601,
    "start_time": "2024-10-21T10:44:43.624Z"
   },
   {
    "duration": 8,
    "start_time": "2024-10-21T10:44:44.227Z"
   },
   {
    "duration": 74,
    "start_time": "2024-10-21T10:44:44.237Z"
   },
   {
    "duration": 12,
    "start_time": "2024-10-21T10:44:44.313Z"
   },
   {
    "duration": 8,
    "start_time": "2024-10-21T10:44:44.326Z"
   },
   {
    "duration": 361,
    "start_time": "2024-10-21T10:44:44.336Z"
   },
   {
    "duration": 11,
    "start_time": "2024-10-21T10:44:44.701Z"
   },
   {
    "duration": 20,
    "start_time": "2024-10-21T10:44:44.714Z"
   },
   {
    "duration": 234,
    "start_time": "2024-10-21T10:44:44.735Z"
   },
   {
    "duration": 6,
    "start_time": "2024-10-21T10:44:44.970Z"
   },
   {
    "duration": 301,
    "start_time": "2024-10-21T10:44:44.978Z"
   },
   {
    "duration": 34,
    "start_time": "2024-10-21T10:44:45.281Z"
   },
   {
    "duration": 411,
    "start_time": "2024-10-21T10:44:45.317Z"
   },
   {
    "duration": 8,
    "start_time": "2024-10-21T10:44:45.730Z"
   },
   {
    "duration": 300,
    "start_time": "2024-10-21T10:44:45.740Z"
   },
   {
    "duration": 12,
    "start_time": "2024-10-21T10:44:46.042Z"
   },
   {
    "duration": 101,
    "start_time": "2024-10-21T10:44:46.055Z"
   },
   {
    "duration": 171,
    "start_time": "2024-10-21T10:44:46.158Z"
   },
   {
    "duration": 4,
    "start_time": "2024-10-21T10:44:46.331Z"
   },
   {
    "duration": 13,
    "start_time": "2024-10-21T10:44:46.336Z"
   },
   {
    "duration": 14,
    "start_time": "2024-10-21T10:44:46.351Z"
   },
   {
    "duration": 20,
    "start_time": "2024-10-21T10:44:46.367Z"
   },
   {
    "duration": 170,
    "start_time": "2024-10-21T10:44:46.389Z"
   },
   {
    "duration": 173,
    "start_time": "2024-10-21T10:44:46.560Z"
   },
   {
    "duration": 4,
    "start_time": "2024-10-21T10:44:46.735Z"
   },
   {
    "duration": 215,
    "start_time": "2024-10-21T10:44:46.741Z"
   },
   {
    "duration": 30,
    "start_time": "2024-10-21T10:44:46.958Z"
   },
   {
    "duration": 141,
    "start_time": "2024-10-21T10:44:46.998Z"
   },
   {
    "duration": 6,
    "start_time": "2024-10-21T10:44:47.141Z"
   },
   {
    "duration": 6,
    "start_time": "2024-10-21T10:44:47.149Z"
   },
   {
    "duration": 50,
    "start_time": "2024-10-21T10:44:47.157Z"
   },
   {
    "duration": 11,
    "start_time": "2024-10-21T10:44:47.209Z"
   },
   {
    "duration": 24,
    "start_time": "2024-10-21T10:44:47.221Z"
   },
   {
    "duration": 19,
    "start_time": "2024-10-21T10:44:47.247Z"
   },
   {
    "duration": 34,
    "start_time": "2024-10-21T10:44:47.267Z"
   },
   {
    "duration": 7,
    "start_time": "2024-10-21T10:44:47.302Z"
   },
   {
    "duration": 19,
    "start_time": "2024-10-21T10:44:47.311Z"
   },
   {
    "duration": 106,
    "start_time": "2024-10-21T10:45:08.628Z"
   },
   {
    "duration": 17,
    "start_time": "2024-10-21T10:45:18.139Z"
   },
   {
    "duration": 10,
    "start_time": "2024-10-21T10:45:45.803Z"
   },
   {
    "duration": 9,
    "start_time": "2024-10-21T10:46:49.089Z"
   },
   {
    "duration": 1180,
    "start_time": "2024-10-21T10:46:57.184Z"
   },
   {
    "duration": 48,
    "start_time": "2024-10-21T10:46:58.366Z"
   },
   {
    "duration": 16,
    "start_time": "2024-10-21T10:46:58.417Z"
   },
   {
    "duration": 52,
    "start_time": "2024-10-21T10:46:58.436Z"
   },
   {
    "duration": 14,
    "start_time": "2024-10-21T10:46:58.489Z"
   },
   {
    "duration": 16,
    "start_time": "2024-10-21T10:46:58.505Z"
   },
   {
    "duration": 53,
    "start_time": "2024-10-21T10:46:58.523Z"
   },
   {
    "duration": 761,
    "start_time": "2024-10-21T10:46:58.577Z"
   },
   {
    "duration": 76,
    "start_time": "2024-10-21T10:46:59.340Z"
   },
   {
    "duration": 11,
    "start_time": "2024-10-21T10:46:59.418Z"
   },
   {
    "duration": 76,
    "start_time": "2024-10-21T10:46:59.431Z"
   },
   {
    "duration": 11,
    "start_time": "2024-10-21T10:46:59.508Z"
   },
   {
    "duration": 85,
    "start_time": "2024-10-21T10:46:59.520Z"
   },
   {
    "duration": 11,
    "start_time": "2024-10-21T10:46:59.606Z"
   },
   {
    "duration": 3,
    "start_time": "2024-10-21T10:46:59.619Z"
   },
   {
    "duration": 82,
    "start_time": "2024-10-21T10:46:59.624Z"
   },
   {
    "duration": 5,
    "start_time": "2024-10-21T10:46:59.707Z"
   },
   {
    "duration": 7,
    "start_time": "2024-10-21T10:46:59.713Z"
   },
   {
    "duration": 16,
    "start_time": "2024-10-21T10:46:59.721Z"
   },
   {
    "duration": 62,
    "start_time": "2024-10-21T10:46:59.738Z"
   },
   {
    "duration": 11,
    "start_time": "2024-10-21T10:46:59.801Z"
   },
   {
    "duration": 603,
    "start_time": "2024-10-21T10:46:59.814Z"
   },
   {
    "duration": 8,
    "start_time": "2024-10-21T10:47:00.418Z"
   },
   {
    "duration": 108,
    "start_time": "2024-10-21T10:47:00.428Z"
   },
   {
    "duration": 27,
    "start_time": "2024-10-21T10:47:00.538Z"
   },
   {
    "duration": 21,
    "start_time": "2024-10-21T10:47:00.566Z"
   },
   {
    "duration": 285,
    "start_time": "2024-10-21T10:47:00.589Z"
   },
   {
    "duration": 22,
    "start_time": "2024-10-21T10:47:00.877Z"
   },
   {
    "duration": 86,
    "start_time": "2024-10-21T10:47:00.900Z"
   },
   {
    "duration": 298,
    "start_time": "2024-10-21T10:47:00.987Z"
   },
   {
    "duration": 12,
    "start_time": "2024-10-21T10:47:01.286Z"
   },
   {
    "duration": 282,
    "start_time": "2024-10-21T10:47:01.300Z"
   },
   {
    "duration": 15,
    "start_time": "2024-10-21T10:47:01.584Z"
   },
   {
    "duration": 286,
    "start_time": "2024-10-21T10:47:01.601Z"
   },
   {
    "duration": 14,
    "start_time": "2024-10-21T10:47:01.889Z"
   },
   {
    "duration": 296,
    "start_time": "2024-10-21T10:47:01.905Z"
   },
   {
    "duration": 12,
    "start_time": "2024-10-21T10:47:02.204Z"
   },
   {
    "duration": 14,
    "start_time": "2024-10-21T10:47:02.218Z"
   },
   {
    "duration": 197,
    "start_time": "2024-10-21T10:47:02.233Z"
   },
   {
    "duration": 5,
    "start_time": "2024-10-21T10:47:02.432Z"
   },
   {
    "duration": 94,
    "start_time": "2024-10-21T10:47:02.439Z"
   },
   {
    "duration": 36,
    "start_time": "2024-10-21T10:47:02.534Z"
   },
   {
    "duration": 38,
    "start_time": "2024-10-21T10:47:02.571Z"
   },
   {
    "duration": 183,
    "start_time": "2024-10-21T10:47:02.611Z"
   },
   {
    "duration": 173,
    "start_time": "2024-10-21T10:47:02.796Z"
   },
   {
    "duration": 5,
    "start_time": "2024-10-21T10:47:02.971Z"
   },
   {
    "duration": 235,
    "start_time": "2024-10-21T10:47:02.978Z"
   },
   {
    "duration": 28,
    "start_time": "2024-10-21T10:47:03.215Z"
   },
   {
    "duration": 153,
    "start_time": "2024-10-21T10:47:03.245Z"
   },
   {
    "duration": 6,
    "start_time": "2024-10-21T10:47:03.399Z"
   },
   {
    "duration": 13,
    "start_time": "2024-10-21T10:47:03.407Z"
   },
   {
    "duration": 29,
    "start_time": "2024-10-21T10:47:03.422Z"
   },
   {
    "duration": 10,
    "start_time": "2024-10-21T10:47:03.452Z"
   },
   {
    "duration": 20,
    "start_time": "2024-10-21T10:47:03.464Z"
   },
   {
    "duration": 11,
    "start_time": "2024-10-21T10:47:03.498Z"
   },
   {
    "duration": 139,
    "start_time": "2024-10-21T10:47:03.511Z"
   },
   {
    "duration": 6,
    "start_time": "2024-10-21T10:47:03.652Z"
   },
   {
    "duration": 18,
    "start_time": "2024-10-21T10:47:03.659Z"
   },
   {
    "duration": 112,
    "start_time": "2024-10-21T10:52:51.459Z"
   },
   {
    "duration": 1168,
    "start_time": "2024-10-21T10:53:07.717Z"
   },
   {
    "duration": 43,
    "start_time": "2024-10-21T10:53:08.887Z"
   },
   {
    "duration": 10,
    "start_time": "2024-10-21T10:53:08.932Z"
   },
   {
    "duration": 16,
    "start_time": "2024-10-21T10:53:08.944Z"
   },
   {
    "duration": 26,
    "start_time": "2024-10-21T10:53:08.961Z"
   },
   {
    "duration": 11,
    "start_time": "2024-10-21T10:53:08.989Z"
   },
   {
    "duration": 54,
    "start_time": "2024-10-21T10:53:09.002Z"
   },
   {
    "duration": 840,
    "start_time": "2024-10-21T10:53:09.058Z"
   },
   {
    "duration": 64,
    "start_time": "2024-10-21T10:53:09.900Z"
   },
   {
    "duration": 11,
    "start_time": "2024-10-21T10:53:09.997Z"
   },
   {
    "duration": 91,
    "start_time": "2024-10-21T10:53:10.010Z"
   },
   {
    "duration": 10,
    "start_time": "2024-10-21T10:53:10.103Z"
   },
   {
    "duration": 96,
    "start_time": "2024-10-21T10:53:10.115Z"
   },
   {
    "duration": 15,
    "start_time": "2024-10-21T10:53:10.213Z"
   },
   {
    "duration": 4,
    "start_time": "2024-10-21T10:53:10.229Z"
   },
   {
    "duration": 81,
    "start_time": "2024-10-21T10:53:10.234Z"
   },
   {
    "duration": 6,
    "start_time": "2024-10-21T10:53:10.316Z"
   },
   {
    "duration": 18,
    "start_time": "2024-10-21T10:53:10.323Z"
   },
   {
    "duration": 61,
    "start_time": "2024-10-21T10:53:10.342Z"
   },
   {
    "duration": 14,
    "start_time": "2024-10-21T10:53:10.404Z"
   },
   {
    "duration": 8,
    "start_time": "2024-10-21T10:53:10.419Z"
   },
   {
    "duration": 627,
    "start_time": "2024-10-21T10:53:10.428Z"
   },
   {
    "duration": 9,
    "start_time": "2024-10-21T10:53:11.057Z"
   },
   {
    "duration": 57,
    "start_time": "2024-10-21T10:53:11.099Z"
   },
   {
    "duration": 12,
    "start_time": "2024-10-21T10:53:11.157Z"
   },
   {
    "duration": 19,
    "start_time": "2024-10-21T10:53:11.171Z"
   },
   {
    "duration": 288,
    "start_time": "2024-10-21T10:53:11.191Z"
   },
   {
    "duration": 16,
    "start_time": "2024-10-21T10:53:11.483Z"
   },
   {
    "duration": 13,
    "start_time": "2024-10-21T10:53:11.501Z"
   },
   {
    "duration": 250,
    "start_time": "2024-10-21T10:53:11.516Z"
   },
   {
    "duration": 7,
    "start_time": "2024-10-21T10:53:11.768Z"
   },
   {
    "duration": 320,
    "start_time": "2024-10-21T10:53:11.777Z"
   },
   {
    "duration": 6,
    "start_time": "2024-10-21T10:53:12.099Z"
   },
   {
    "duration": 285,
    "start_time": "2024-10-21T10:53:12.107Z"
   },
   {
    "duration": 8,
    "start_time": "2024-10-21T10:53:12.397Z"
   },
   {
    "duration": 303,
    "start_time": "2024-10-21T10:53:12.406Z"
   },
   {
    "duration": 13,
    "start_time": "2024-10-21T10:53:12.710Z"
   },
   {
    "duration": 14,
    "start_time": "2024-10-21T10:53:12.724Z"
   },
   {
    "duration": 173,
    "start_time": "2024-10-21T10:53:12.740Z"
   },
   {
    "duration": 4,
    "start_time": "2024-10-21T10:53:12.915Z"
   },
   {
    "duration": 6,
    "start_time": "2024-10-21T10:53:12.920Z"
   },
   {
    "duration": 13,
    "start_time": "2024-10-21T10:53:12.927Z"
   },
   {
    "duration": 8,
    "start_time": "2024-10-21T10:53:12.941Z"
   },
   {
    "duration": 181,
    "start_time": "2024-10-21T10:53:12.950Z"
   },
   {
    "duration": 177,
    "start_time": "2024-10-21T10:53:13.132Z"
   },
   {
    "duration": 4,
    "start_time": "2024-10-21T10:53:13.311Z"
   },
   {
    "duration": 222,
    "start_time": "2024-10-21T10:53:13.317Z"
   },
   {
    "duration": 29,
    "start_time": "2024-10-21T10:53:13.541Z"
   },
   {
    "duration": 167,
    "start_time": "2024-10-21T10:53:13.572Z"
   },
   {
    "duration": 7,
    "start_time": "2024-10-21T10:53:13.741Z"
   },
   {
    "duration": 7,
    "start_time": "2024-10-21T10:53:13.749Z"
   },
   {
    "duration": 49,
    "start_time": "2024-10-21T10:53:13.758Z"
   },
   {
    "duration": 10,
    "start_time": "2024-10-21T10:53:13.809Z"
   },
   {
    "duration": 9,
    "start_time": "2024-10-21T10:53:13.821Z"
   },
   {
    "duration": 22,
    "start_time": "2024-10-21T10:53:13.832Z"
   },
   {
    "duration": 26,
    "start_time": "2024-10-21T10:53:13.855Z"
   },
   {
    "duration": 6,
    "start_time": "2024-10-21T10:53:13.898Z"
   },
   {
    "duration": 14,
    "start_time": "2024-10-21T10:53:13.905Z"
   },
   {
    "duration": 107,
    "start_time": "2024-10-21T10:53:25.475Z"
   },
   {
    "duration": 11,
    "start_time": "2024-10-21T10:53:55.147Z"
   },
   {
    "duration": 1192,
    "start_time": "2024-10-21T10:54:07.063Z"
   },
   {
    "duration": 44,
    "start_time": "2024-10-21T10:54:08.257Z"
   },
   {
    "duration": 12,
    "start_time": "2024-10-21T10:54:08.302Z"
   },
   {
    "duration": 17,
    "start_time": "2024-10-21T10:54:08.316Z"
   },
   {
    "duration": 18,
    "start_time": "2024-10-21T10:54:08.334Z"
   },
   {
    "duration": 39,
    "start_time": "2024-10-21T10:54:08.354Z"
   },
   {
    "duration": 77,
    "start_time": "2024-10-21T10:54:08.396Z"
   },
   {
    "duration": 967,
    "start_time": "2024-10-21T10:54:08.475Z"
   },
   {
    "duration": 77,
    "start_time": "2024-10-21T10:54:09.444Z"
   },
   {
    "duration": 11,
    "start_time": "2024-10-21T10:54:09.523Z"
   },
   {
    "duration": 92,
    "start_time": "2024-10-21T10:54:09.535Z"
   },
   {
    "duration": 9,
    "start_time": "2024-10-21T10:54:09.629Z"
   },
   {
    "duration": 8,
    "start_time": "2024-10-21T10:54:09.639Z"
   },
   {
    "duration": 6,
    "start_time": "2024-10-21T10:54:09.649Z"
   },
   {
    "duration": 45,
    "start_time": "2024-10-21T10:54:09.656Z"
   },
   {
    "duration": 37,
    "start_time": "2024-10-21T10:54:09.702Z"
   },
   {
    "duration": 5,
    "start_time": "2024-10-21T10:54:09.740Z"
   },
   {
    "duration": 9,
    "start_time": "2024-10-21T10:54:09.798Z"
   },
   {
    "duration": 43,
    "start_time": "2024-10-21T10:54:09.808Z"
   },
   {
    "duration": 51,
    "start_time": "2024-10-21T10:54:09.853Z"
   },
   {
    "duration": 6,
    "start_time": "2024-10-21T10:54:09.906Z"
   },
   {
    "duration": 547,
    "start_time": "2024-10-21T10:54:09.913Z"
   },
   {
    "duration": 9,
    "start_time": "2024-10-21T10:54:10.461Z"
   },
   {
    "duration": 54,
    "start_time": "2024-10-21T10:54:10.471Z"
   },
   {
    "duration": 9,
    "start_time": "2024-10-21T10:54:10.527Z"
   },
   {
    "duration": 22,
    "start_time": "2024-10-21T10:54:10.537Z"
   },
   {
    "duration": 291,
    "start_time": "2024-10-21T10:54:10.560Z"
   },
   {
    "duration": 12,
    "start_time": "2024-10-21T10:54:10.854Z"
   },
   {
    "duration": 12,
    "start_time": "2024-10-21T10:54:10.867Z"
   },
   {
    "duration": 249,
    "start_time": "2024-10-21T10:54:10.881Z"
   },
   {
    "duration": 6,
    "start_time": "2024-10-21T10:54:11.131Z"
   },
   {
    "duration": 275,
    "start_time": "2024-10-21T10:54:11.139Z"
   },
   {
    "duration": 6,
    "start_time": "2024-10-21T10:54:11.416Z"
   },
   {
    "duration": 277,
    "start_time": "2024-10-21T10:54:11.423Z"
   },
   {
    "duration": 8,
    "start_time": "2024-10-21T10:54:11.701Z"
   },
   {
    "duration": 296,
    "start_time": "2024-10-21T10:54:11.710Z"
   },
   {
    "duration": 12,
    "start_time": "2024-10-21T10:54:12.008Z"
   },
   {
    "duration": 7,
    "start_time": "2024-10-21T10:54:12.022Z"
   },
   {
    "duration": 193,
    "start_time": "2024-10-21T10:54:12.031Z"
   },
   {
    "duration": 4,
    "start_time": "2024-10-21T10:54:12.226Z"
   },
   {
    "duration": 28,
    "start_time": "2024-10-21T10:54:12.231Z"
   },
   {
    "duration": 20,
    "start_time": "2024-10-21T10:54:12.261Z"
   },
   {
    "duration": 7,
    "start_time": "2024-10-21T10:54:12.283Z"
   },
   {
    "duration": 175,
    "start_time": "2024-10-21T10:54:12.292Z"
   },
   {
    "duration": 182,
    "start_time": "2024-10-21T10:54:12.469Z"
   },
   {
    "duration": 4,
    "start_time": "2024-10-21T10:54:12.653Z"
   },
   {
    "duration": 218,
    "start_time": "2024-10-21T10:54:12.658Z"
   },
   {
    "duration": 36,
    "start_time": "2024-10-21T10:54:12.878Z"
   },
   {
    "duration": 141,
    "start_time": "2024-10-21T10:54:12.916Z"
   },
   {
    "duration": 6,
    "start_time": "2024-10-21T10:54:13.059Z"
   },
   {
    "duration": 16,
    "start_time": "2024-10-21T10:54:13.067Z"
   },
   {
    "duration": 41,
    "start_time": "2024-10-21T10:54:13.084Z"
   },
   {
    "duration": 20,
    "start_time": "2024-10-21T10:54:13.127Z"
   },
   {
    "duration": 12,
    "start_time": "2024-10-21T10:54:13.149Z"
   },
   {
    "duration": 16,
    "start_time": "2024-10-21T10:54:13.163Z"
   },
   {
    "duration": 36,
    "start_time": "2024-10-21T10:54:13.181Z"
   },
   {
    "duration": 7,
    "start_time": "2024-10-21T10:54:13.218Z"
   },
   {
    "duration": 14,
    "start_time": "2024-10-21T10:54:13.227Z"
   },
   {
    "duration": 1176,
    "start_time": "2024-10-21T10:55:59.290Z"
   },
   {
    "duration": 42,
    "start_time": "2024-10-21T10:56:00.468Z"
   },
   {
    "duration": 32,
    "start_time": "2024-10-21T10:56:00.512Z"
   },
   {
    "duration": 45,
    "start_time": "2024-10-21T10:56:00.546Z"
   },
   {
    "duration": 55,
    "start_time": "2024-10-21T10:56:00.592Z"
   },
   {
    "duration": 37,
    "start_time": "2024-10-21T10:56:00.648Z"
   },
   {
    "duration": 87,
    "start_time": "2024-10-21T10:56:00.686Z"
   },
   {
    "duration": 1183,
    "start_time": "2024-10-21T10:56:00.775Z"
   },
   {
    "duration": 139,
    "start_time": "2024-10-21T10:56:01.959Z"
   },
   {
    "duration": 10,
    "start_time": "2024-10-21T10:56:02.101Z"
   },
   {
    "duration": 88,
    "start_time": "2024-10-21T10:56:02.113Z"
   },
   {
    "duration": 95,
    "start_time": "2024-10-21T10:56:02.203Z"
   },
   {
    "duration": 17,
    "start_time": "2024-10-21T10:56:02.300Z"
   },
   {
    "duration": 60,
    "start_time": "2024-10-21T10:56:02.318Z"
   },
   {
    "duration": 36,
    "start_time": "2024-10-21T10:56:02.380Z"
   },
   {
    "duration": 35,
    "start_time": "2024-10-21T10:56:02.418Z"
   },
   {
    "duration": 113,
    "start_time": "2024-10-21T10:56:02.455Z"
   },
   {
    "duration": 12,
    "start_time": "2024-10-21T10:56:02.571Z"
   },
   {
    "duration": 36,
    "start_time": "2024-10-21T10:56:02.585Z"
   },
   {
    "duration": 54,
    "start_time": "2024-10-21T10:56:02.623Z"
   },
   {
    "duration": 15,
    "start_time": "2024-10-21T10:56:02.679Z"
   },
   {
    "duration": 29,
    "start_time": "2024-10-21T10:56:02.696Z"
   },
   {
    "duration": 287,
    "start_time": "2024-10-21T10:56:02.727Z"
   },
   {
    "duration": 9,
    "start_time": "2024-10-21T10:56:03.015Z"
   },
   {
    "duration": 27,
    "start_time": "2024-10-21T10:56:03.026Z"
   },
   {
    "duration": 24,
    "start_time": "2024-10-21T10:56:03.054Z"
   },
   {
    "duration": 31,
    "start_time": "2024-10-21T10:56:03.079Z"
   },
   {
    "duration": 283,
    "start_time": "2024-10-21T10:56:03.113Z"
   },
   {
    "duration": 11,
    "start_time": "2024-10-21T10:56:03.398Z"
   },
   {
    "duration": 47,
    "start_time": "2024-10-21T10:56:03.410Z"
   },
   {
    "duration": 223,
    "start_time": "2024-10-21T10:56:03.459Z"
   },
   {
    "duration": 7,
    "start_time": "2024-10-21T10:56:03.684Z"
   },
   {
    "duration": 306,
    "start_time": "2024-10-21T10:56:03.697Z"
   },
   {
    "duration": 6,
    "start_time": "2024-10-21T10:56:04.005Z"
   },
   {
    "duration": 286,
    "start_time": "2024-10-21T10:56:04.012Z"
   },
   {
    "duration": 8,
    "start_time": "2024-10-21T10:56:04.299Z"
   },
   {
    "duration": 291,
    "start_time": "2024-10-21T10:56:04.309Z"
   },
   {
    "duration": 12,
    "start_time": "2024-10-21T10:56:04.602Z"
   },
   {
    "duration": 22,
    "start_time": "2024-10-21T10:56:04.615Z"
   },
   {
    "duration": 206,
    "start_time": "2024-10-21T10:56:04.638Z"
   },
   {
    "duration": 5,
    "start_time": "2024-10-21T10:56:04.846Z"
   },
   {
    "duration": 21,
    "start_time": "2024-10-21T10:56:04.853Z"
   },
   {
    "duration": 19,
    "start_time": "2024-10-21T10:56:04.876Z"
   },
   {
    "duration": 40,
    "start_time": "2024-10-21T10:56:04.897Z"
   },
   {
    "duration": 173,
    "start_time": "2024-10-21T10:56:04.939Z"
   },
   {
    "duration": 169,
    "start_time": "2024-10-21T10:56:05.113Z"
   },
   {
    "duration": 4,
    "start_time": "2024-10-21T10:56:05.284Z"
   },
   {
    "duration": 251,
    "start_time": "2024-10-21T10:56:05.297Z"
   },
   {
    "duration": 32,
    "start_time": "2024-10-21T10:56:05.549Z"
   },
   {
    "duration": 208,
    "start_time": "2024-10-21T10:56:05.582Z"
   },
   {
    "duration": 6,
    "start_time": "2024-10-21T10:56:05.798Z"
   },
   {
    "duration": 32,
    "start_time": "2024-10-21T10:56:05.806Z"
   },
   {
    "duration": 35,
    "start_time": "2024-10-21T10:56:05.840Z"
   },
   {
    "duration": 11,
    "start_time": "2024-10-21T10:56:05.876Z"
   },
   {
    "duration": 52,
    "start_time": "2024-10-21T10:56:05.889Z"
   },
   {
    "duration": 21,
    "start_time": "2024-10-21T10:56:05.943Z"
   },
   {
    "duration": 42,
    "start_time": "2024-10-21T10:56:05.965Z"
   },
   {
    "duration": 10,
    "start_time": "2024-10-21T10:56:06.009Z"
   },
   {
    "duration": 15,
    "start_time": "2024-10-21T10:56:06.020Z"
   },
   {
    "duration": 181,
    "start_time": "2024-10-21T11:07:14.944Z"
   },
   {
    "duration": 201,
    "start_time": "2024-10-21T11:07:20.199Z"
   },
   {
    "duration": 252,
    "start_time": "2024-10-21T11:07:32.433Z"
   },
   {
    "duration": 262,
    "start_time": "2024-10-21T11:09:53.965Z"
   },
   {
    "duration": 332,
    "start_time": "2024-10-21T11:11:55.294Z"
   },
   {
    "duration": 257,
    "start_time": "2024-10-21T11:16:20.933Z"
   },
   {
    "duration": 239,
    "start_time": "2024-10-21T11:20:35.071Z"
   },
   {
    "duration": 172,
    "start_time": "2024-10-21T11:20:55.382Z"
   },
   {
    "duration": 157,
    "start_time": "2024-10-21T11:21:00.471Z"
   },
   {
    "duration": 4,
    "start_time": "2024-10-21T11:21:32.732Z"
   },
   {
    "duration": 5,
    "start_time": "2024-10-21T11:22:03.642Z"
   },
   {
    "duration": 3,
    "start_time": "2024-10-21T12:20:52.926Z"
   },
   {
    "duration": 11,
    "start_time": "2024-10-21T12:20:53.839Z"
   },
   {
    "duration": 1122,
    "start_time": "2024-10-21T12:21:00.861Z"
   },
   {
    "duration": 42,
    "start_time": "2024-10-21T12:21:01.985Z"
   },
   {
    "duration": 15,
    "start_time": "2024-10-21T12:21:02.029Z"
   },
   {
    "duration": 17,
    "start_time": "2024-10-21T12:21:02.046Z"
   },
   {
    "duration": 18,
    "start_time": "2024-10-21T12:21:02.065Z"
   },
   {
    "duration": 21,
    "start_time": "2024-10-21T12:21:02.085Z"
   },
   {
    "duration": 76,
    "start_time": "2024-10-21T12:21:02.107Z"
   },
   {
    "duration": 726,
    "start_time": "2024-10-21T12:21:02.184Z"
   },
   {
    "duration": 64,
    "start_time": "2024-10-21T12:21:02.912Z"
   },
   {
    "duration": 12,
    "start_time": "2024-10-21T12:21:02.978Z"
   },
   {
    "duration": 63,
    "start_time": "2024-10-21T12:21:02.992Z"
   },
   {
    "duration": 11,
    "start_time": "2024-10-21T12:21:03.056Z"
   },
   {
    "duration": 15,
    "start_time": "2024-10-21T12:21:03.068Z"
   },
   {
    "duration": 48,
    "start_time": "2024-10-21T12:21:03.085Z"
   },
   {
    "duration": 18,
    "start_time": "2024-10-21T12:21:03.135Z"
   },
   {
    "duration": 12,
    "start_time": "2024-10-21T12:21:03.154Z"
   },
   {
    "duration": 47,
    "start_time": "2024-10-21T12:21:03.167Z"
   },
   {
    "duration": 5,
    "start_time": "2024-10-21T12:21:03.216Z"
   },
   {
    "duration": 13,
    "start_time": "2024-10-21T12:21:03.222Z"
   },
   {
    "duration": 71,
    "start_time": "2024-10-21T12:21:03.236Z"
   },
   {
    "duration": 31,
    "start_time": "2024-10-21T12:21:03.309Z"
   },
   {
    "duration": 8,
    "start_time": "2024-10-21T12:21:03.342Z"
   },
   {
    "duration": 648,
    "start_time": "2024-10-21T12:21:03.351Z"
   },
   {
    "duration": 10,
    "start_time": "2024-10-21T12:21:04.001Z"
   },
   {
    "duration": 33,
    "start_time": "2024-10-21T12:21:04.013Z"
   },
   {
    "duration": 56,
    "start_time": "2024-10-21T12:21:04.047Z"
   },
   {
    "duration": 32,
    "start_time": "2024-10-21T12:21:04.105Z"
   },
   {
    "duration": 512,
    "start_time": "2024-10-21T12:21:04.141Z"
   },
   {
    "duration": 12,
    "start_time": "2024-10-21T12:21:04.654Z"
   },
   {
    "duration": 38,
    "start_time": "2024-10-21T12:21:04.667Z"
   },
   {
    "duration": 304,
    "start_time": "2024-10-21T12:21:04.706Z"
   },
   {
    "duration": 6,
    "start_time": "2024-10-21T12:21:05.011Z"
   },
   {
    "duration": 323,
    "start_time": "2024-10-21T12:21:05.019Z"
   },
   {
    "duration": 6,
    "start_time": "2024-10-21T12:21:05.344Z"
   },
   {
    "duration": 296,
    "start_time": "2024-10-21T12:21:05.351Z"
   },
   {
    "duration": 8,
    "start_time": "2024-10-21T12:21:05.648Z"
   },
   {
    "duration": 334,
    "start_time": "2024-10-21T12:21:05.658Z"
   },
   {
    "duration": 13,
    "start_time": "2024-10-21T12:21:05.998Z"
   },
   {
    "duration": 38,
    "start_time": "2024-10-21T12:21:06.013Z"
   },
   {
    "duration": 192,
    "start_time": "2024-10-21T12:21:06.052Z"
   },
   {
    "duration": 5,
    "start_time": "2024-10-21T12:21:06.245Z"
   },
   {
    "duration": 30,
    "start_time": "2024-10-21T12:21:06.251Z"
   },
   {
    "duration": 53,
    "start_time": "2024-10-21T12:21:06.282Z"
   },
   {
    "duration": 39,
    "start_time": "2024-10-21T12:21:06.336Z"
   },
   {
    "duration": 197,
    "start_time": "2024-10-21T12:21:06.377Z"
   },
   {
    "duration": 170,
    "start_time": "2024-10-21T12:21:06.575Z"
   },
   {
    "duration": 4,
    "start_time": "2024-10-21T12:21:06.747Z"
   },
   {
    "duration": 115,
    "start_time": "2024-10-21T12:21:06.753Z"
   },
   {
    "duration": 212,
    "start_time": "2024-10-21T12:21:06.870Z"
   },
   {
    "duration": 36,
    "start_time": "2024-10-21T12:21:07.084Z"
   },
   {
    "duration": 143,
    "start_time": "2024-10-21T12:21:07.122Z"
   },
   {
    "duration": 7,
    "start_time": "2024-10-21T12:21:07.266Z"
   },
   {
    "duration": 8,
    "start_time": "2024-10-21T12:21:07.275Z"
   },
   {
    "duration": 49,
    "start_time": "2024-10-21T12:21:07.284Z"
   },
   {
    "duration": 11,
    "start_time": "2024-10-21T12:21:07.335Z"
   },
   {
    "duration": 23,
    "start_time": "2024-10-21T12:21:07.347Z"
   },
   {
    "duration": 18,
    "start_time": "2024-10-21T12:21:07.372Z"
   },
   {
    "duration": 27,
    "start_time": "2024-10-21T12:21:07.392Z"
   },
   {
    "duration": 29,
    "start_time": "2024-10-21T12:21:07.420Z"
   },
   {
    "duration": 7,
    "start_time": "2024-10-21T12:21:07.451Z"
   },
   {
    "duration": 14,
    "start_time": "2024-10-21T12:21:07.460Z"
   },
   {
    "duration": 3,
    "start_time": "2024-10-21T12:21:32.399Z"
   },
   {
    "duration": 10,
    "start_time": "2024-10-21T12:21:32.777Z"
   },
   {
    "duration": 8,
    "start_time": "2024-10-21T12:30:36.648Z"
   },
   {
    "duration": 6,
    "start_time": "2024-10-21T12:32:21.505Z"
   },
   {
    "duration": 9,
    "start_time": "2024-10-21T12:32:34.226Z"
   },
   {
    "duration": 6,
    "start_time": "2024-10-21T12:32:38.523Z"
   },
   {
    "duration": 1183,
    "start_time": "2024-10-21T15:22:32.219Z"
   },
   {
    "duration": 97,
    "start_time": "2024-10-21T15:22:33.403Z"
   },
   {
    "duration": 11,
    "start_time": "2024-10-21T15:22:33.501Z"
   },
   {
    "duration": 44,
    "start_time": "2024-10-21T15:22:33.515Z"
   },
   {
    "duration": 12,
    "start_time": "2024-10-21T15:22:33.561Z"
   },
   {
    "duration": 12,
    "start_time": "2024-10-21T15:22:33.575Z"
   },
   {
    "duration": 111,
    "start_time": "2024-10-21T15:22:33.589Z"
   },
   {
    "duration": 954,
    "start_time": "2024-10-21T15:22:33.702Z"
   },
   {
    "duration": 113,
    "start_time": "2024-10-21T15:22:34.658Z"
   },
   {
    "duration": 8,
    "start_time": "2024-10-21T15:22:34.774Z"
   },
   {
    "duration": 88,
    "start_time": "2024-10-21T15:22:34.783Z"
   },
   {
    "duration": 9,
    "start_time": "2024-10-21T15:22:34.872Z"
   },
   {
    "duration": 39,
    "start_time": "2024-10-21T15:22:34.882Z"
   },
   {
    "duration": 28,
    "start_time": "2024-10-21T15:22:34.923Z"
   },
   {
    "duration": 12,
    "start_time": "2024-10-21T15:22:34.952Z"
   },
   {
    "duration": 3,
    "start_time": "2024-10-21T15:22:34.965Z"
   },
   {
    "duration": 58,
    "start_time": "2024-10-21T15:22:34.969Z"
   },
   {
    "duration": 4,
    "start_time": "2024-10-21T15:22:35.029Z"
   },
   {
    "duration": 11,
    "start_time": "2024-10-21T15:22:35.034Z"
   },
   {
    "duration": 22,
    "start_time": "2024-10-21T15:22:35.046Z"
   },
   {
    "duration": 8,
    "start_time": "2024-10-21T15:22:35.069Z"
   },
   {
    "duration": 7,
    "start_time": "2024-10-21T15:22:35.078Z"
   },
   {
    "duration": 258,
    "start_time": "2024-10-21T15:22:35.087Z"
   },
   {
    "duration": 12,
    "start_time": "2024-10-21T15:22:35.346Z"
   },
   {
    "duration": 6,
    "start_time": "2024-10-21T15:22:35.359Z"
   },
   {
    "duration": 7,
    "start_time": "2024-10-21T15:22:35.366Z"
   },
   {
    "duration": 37,
    "start_time": "2024-10-21T15:22:35.374Z"
   },
   {
    "duration": 262,
    "start_time": "2024-10-21T15:22:35.414Z"
   },
   {
    "duration": 10,
    "start_time": "2024-10-21T15:22:35.677Z"
   },
   {
    "duration": 26,
    "start_time": "2024-10-21T15:22:35.688Z"
   },
   {
    "duration": 229,
    "start_time": "2024-10-21T15:22:35.716Z"
   },
   {
    "duration": 10,
    "start_time": "2024-10-21T15:22:35.947Z"
   },
   {
    "duration": 289,
    "start_time": "2024-10-21T15:22:35.958Z"
   },
   {
    "duration": 10,
    "start_time": "2024-10-21T15:22:36.249Z"
   },
   {
    "duration": 279,
    "start_time": "2024-10-21T15:22:36.260Z"
   },
   {
    "duration": 7,
    "start_time": "2024-10-21T15:22:36.540Z"
   },
   {
    "duration": 279,
    "start_time": "2024-10-21T15:22:36.548Z"
   },
   {
    "duration": 9,
    "start_time": "2024-10-21T15:22:36.828Z"
   },
   {
    "duration": 20,
    "start_time": "2024-10-21T15:22:36.838Z"
   },
   {
    "duration": 138,
    "start_time": "2024-10-21T15:22:36.859Z"
   },
   {
    "duration": 3,
    "start_time": "2024-10-21T15:22:36.999Z"
   },
   {
    "duration": 10,
    "start_time": "2024-10-21T15:22:37.003Z"
   },
   {
    "duration": 11,
    "start_time": "2024-10-21T15:22:37.014Z"
   },
   {
    "duration": 8,
    "start_time": "2024-10-21T15:22:37.026Z"
   },
   {
    "duration": 145,
    "start_time": "2024-10-21T15:22:37.035Z"
   },
   {
    "duration": 143,
    "start_time": "2024-10-21T15:22:37.181Z"
   },
   {
    "duration": 4,
    "start_time": "2024-10-21T15:22:37.325Z"
   },
   {
    "duration": 8,
    "start_time": "2024-10-21T15:22:37.330Z"
   },
   {
    "duration": 181,
    "start_time": "2024-10-21T15:22:37.340Z"
   },
   {
    "duration": 23,
    "start_time": "2024-10-21T15:22:37.523Z"
   },
   {
    "duration": 119,
    "start_time": "2024-10-21T15:22:37.557Z"
   },
   {
    "duration": 6,
    "start_time": "2024-10-21T15:22:37.677Z"
   },
   {
    "duration": 15,
    "start_time": "2024-10-21T15:22:37.684Z"
   },
   {
    "duration": 4,
    "start_time": "2024-10-21T15:22:37.701Z"
   },
   {
    "duration": 20,
    "start_time": "2024-10-21T15:22:37.706Z"
   },
   {
    "duration": 8,
    "start_time": "2024-10-21T15:22:37.727Z"
   },
   {
    "duration": 21,
    "start_time": "2024-10-21T15:22:37.736Z"
   },
   {
    "duration": 16,
    "start_time": "2024-10-21T15:22:37.758Z"
   },
   {
    "duration": 30,
    "start_time": "2024-10-21T15:22:37.775Z"
   },
   {
    "duration": 20,
    "start_time": "2024-10-21T15:22:37.806Z"
   },
   {
    "duration": 5,
    "start_time": "2024-10-21T15:22:37.827Z"
   },
   {
    "duration": 10,
    "start_time": "2024-10-21T15:22:37.833Z"
   },
   {
    "duration": 1022,
    "start_time": "2024-10-21T15:23:59.467Z"
   },
   {
    "duration": 34,
    "start_time": "2024-10-21T15:24:00.491Z"
   },
   {
    "duration": 9,
    "start_time": "2024-10-21T15:24:00.526Z"
   },
   {
    "duration": 11,
    "start_time": "2024-10-21T15:24:00.536Z"
   },
   {
    "duration": 21,
    "start_time": "2024-10-21T15:24:00.549Z"
   },
   {
    "duration": 22,
    "start_time": "2024-10-21T15:24:00.571Z"
   },
   {
    "duration": 216,
    "start_time": "2024-10-21T15:24:00.595Z"
   },
   {
    "duration": 636,
    "start_time": "2024-10-21T15:24:00.812Z"
   },
   {
    "duration": 52,
    "start_time": "2024-10-21T15:24:01.449Z"
   },
   {
    "duration": 9,
    "start_time": "2024-10-21T15:24:01.502Z"
   },
   {
    "duration": 49,
    "start_time": "2024-10-21T15:24:01.512Z"
   },
   {
    "duration": 9,
    "start_time": "2024-10-21T15:24:01.562Z"
   },
   {
    "duration": 14,
    "start_time": "2024-10-21T15:24:01.572Z"
   },
   {
    "duration": 58,
    "start_time": "2024-10-21T15:24:01.589Z"
   },
   {
    "duration": 34,
    "start_time": "2024-10-21T15:24:01.648Z"
   },
   {
    "duration": 13,
    "start_time": "2024-10-21T15:24:01.683Z"
   },
   {
    "duration": 62,
    "start_time": "2024-10-21T15:24:01.698Z"
   },
   {
    "duration": 4,
    "start_time": "2024-10-21T15:24:01.762Z"
   },
   {
    "duration": 30,
    "start_time": "2024-10-21T15:24:01.768Z"
   },
   {
    "duration": 22,
    "start_time": "2024-10-21T15:24:01.800Z"
   },
   {
    "duration": 18,
    "start_time": "2024-10-21T15:24:01.823Z"
   },
   {
    "duration": 6,
    "start_time": "2024-10-21T15:24:01.842Z"
   },
   {
    "duration": 268,
    "start_time": "2024-10-21T15:24:01.849Z"
   },
   {
    "duration": 7,
    "start_time": "2024-10-21T15:24:02.118Z"
   },
   {
    "duration": 111,
    "start_time": "2024-10-21T15:24:02.127Z"
   },
   {
    "duration": 52,
    "start_time": "2024-10-21T15:24:02.239Z"
   },
   {
    "duration": 95,
    "start_time": "2024-10-21T15:24:02.292Z"
   },
   {
    "duration": 299,
    "start_time": "2024-10-21T15:24:02.388Z"
   },
   {
    "duration": 10,
    "start_time": "2024-10-21T15:24:02.689Z"
   },
   {
    "duration": 67,
    "start_time": "2024-10-21T15:24:02.700Z"
   },
   {
    "duration": 223,
    "start_time": "2024-10-21T15:24:02.768Z"
   },
   {
    "duration": 5,
    "start_time": "2024-10-21T15:24:02.993Z"
   },
   {
    "duration": 315,
    "start_time": "2024-10-21T15:24:02.999Z"
   },
   {
    "duration": 5,
    "start_time": "2024-10-21T15:24:03.316Z"
   },
   {
    "duration": 226,
    "start_time": "2024-10-21T15:24:03.322Z"
   },
   {
    "duration": 8,
    "start_time": "2024-10-21T15:24:03.549Z"
   },
   {
    "duration": 275,
    "start_time": "2024-10-21T15:24:03.559Z"
   },
   {
    "duration": 10,
    "start_time": "2024-10-21T15:24:03.835Z"
   },
   {
    "duration": 33,
    "start_time": "2024-10-21T15:24:03.857Z"
   },
   {
    "duration": 146,
    "start_time": "2024-10-21T15:24:03.891Z"
   },
   {
    "duration": 4,
    "start_time": "2024-10-21T15:24:04.040Z"
   },
   {
    "duration": 26,
    "start_time": "2024-10-21T15:24:04.045Z"
   },
   {
    "duration": 12,
    "start_time": "2024-10-21T15:24:04.073Z"
   },
   {
    "duration": 22,
    "start_time": "2024-10-21T15:24:04.087Z"
   },
   {
    "duration": 135,
    "start_time": "2024-10-21T15:24:04.110Z"
   },
   {
    "duration": 151,
    "start_time": "2024-10-21T15:24:04.247Z"
   },
   {
    "duration": 4,
    "start_time": "2024-10-21T15:24:04.400Z"
   },
   {
    "duration": 7,
    "start_time": "2024-10-21T15:24:04.405Z"
   },
   {
    "duration": 178,
    "start_time": "2024-10-21T15:24:04.414Z"
   },
   {
    "duration": 25,
    "start_time": "2024-10-21T15:24:04.593Z"
   },
   {
    "duration": 120,
    "start_time": "2024-10-21T15:24:04.620Z"
   },
   {
    "duration": 8,
    "start_time": "2024-10-21T15:24:04.741Z"
   },
   {
    "duration": 50,
    "start_time": "2024-10-21T15:24:04.758Z"
   },
   {
    "duration": 20,
    "start_time": "2024-10-21T15:24:04.810Z"
   },
   {
    "duration": 27,
    "start_time": "2024-10-21T15:24:04.832Z"
   },
   {
    "duration": 38,
    "start_time": "2024-10-21T15:24:04.860Z"
   },
   {
    "duration": 5,
    "start_time": "2024-10-21T15:24:04.900Z"
   },
   {
    "duration": 10,
    "start_time": "2024-10-21T15:24:04.906Z"
   },
   {
    "duration": 9,
    "start_time": "2024-10-21T15:24:04.917Z"
   },
   {
    "duration": 26,
    "start_time": "2024-10-21T15:24:04.928Z"
   },
   {
    "duration": 7,
    "start_time": "2024-10-21T15:24:04.955Z"
   },
   {
    "duration": 13,
    "start_time": "2024-10-21T15:24:04.963Z"
   }
  ],
  "hide_input": false,
  "kernelspec": {
   "display_name": "Python 3 (ipykernel)",
   "language": "python",
   "name": "python3"
  },
  "language_info": {
   "codemirror_mode": {
    "name": "ipython",
    "version": 3
   },
   "file_extension": ".py",
   "mimetype": "text/x-python",
   "name": "python",
   "nbconvert_exporter": "python",
   "pygments_lexer": "ipython3",
   "version": "3.11.8"
  },
  "toc": {
   "base_numbering": 1,
   "nav_menu": {},
   "number_sections": true,
   "sideBar": true,
   "skip_h1_title": false,
   "title_cell": "Проверка гипотез для интернет-магазина",
   "title_sidebar": "Содержание",
   "toc_cell": true,
   "toc_position": {
    "height": "calc(100% - 180px)",
    "left": "10px",
    "top": "150px",
    "width": "505.547px"
   },
   "toc_section_display": true,
   "toc_window_display": true
  },
  "varInspector": {
   "cols": {
    "lenName": 16,
    "lenType": 16,
    "lenVar": 40
   },
   "kernels_config": {
    "python": {
     "delete_cmd_postfix": "",
     "delete_cmd_prefix": "del ",
     "library": "var_list.py",
     "varRefreshCmd": "print(var_dic_list())"
    },
    "r": {
     "delete_cmd_postfix": ") ",
     "delete_cmd_prefix": "rm(",
     "library": "var_list.r",
     "varRefreshCmd": "cat(var_dic_list()) "
    }
   },
   "types_to_exclude": [
    "module",
    "function",
    "builtin_function_or_method",
    "instance",
    "_Feature"
   ],
   "window_display": false
  }
 },
 "nbformat": 4,
 "nbformat_minor": 5
}
