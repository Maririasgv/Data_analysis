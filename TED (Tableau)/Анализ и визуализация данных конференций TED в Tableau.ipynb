{
 "cells": [
  {
   "cell_type": "markdown",
   "id": "e3e3cbfa",
   "metadata": {
    "toc": true
   },
   "source": [
    "<h1>Анализ и визуализация данных конференций TED в Tableau<span class=\"tocSkip\"></span></h1>\n",
    "<div class=\"toc\"><ul class=\"toc-item\"><li><span><a href=\"#Описание-проекта\" data-toc-modified-id=\"Описание-проекта-1\"><span class=\"toc-item-num\">1&nbsp;&nbsp;</span>Описание проекта</a></span></li><li><span><a href=\"#Итоговый-результат\" data-toc-modified-id=\"Итоговый-результат-2\"><span class=\"toc-item-num\">2&nbsp;&nbsp;</span>Итоговый результат</a></span></li></ul></div>"
   ]
  },
  {
   "cell_type": "markdown",
   "id": "ba4b2e76",
   "metadata": {},
   "source": [
    "## Описание проекта"
   ]
  },
  {
   "cell_type": "markdown",
   "id": "56515135bc7bff9a",
   "metadata": {},
   "source": [
    "**Область исследования:**\n",
    "Набор дотасетов с выступлениями на конференции TED от начала проекта и до 2018 года. Так же есть два дополнительных справочника, призванных помочь в анализе основного масссива данных с выступлениями."
   ]
  },
  {
   "cell_type": "markdown",
   "id": "a1e14bba",
   "metadata": {},
   "source": [
    "**Задача:**\n",
    "Составить дашборды по основным срезам данных и провести анализ на их основе.\\\n",
    "Итогом должна стать презентация, содержащая в себе 4 дашборда с различными срезами и их анализом."
   ]
  },
  {
   "cell_type": "markdown",
   "id": "4b275846",
   "metadata": {},
   "source": [
    "**Структура данных:**"
   ]
  },
  {
   "cell_type": "markdown",
   "id": "b9465825",
   "metadata": {},
   "source": [
    "tableau_project_data_1.csv, tableau_project_data_2.csv, tableau_project_data_3.csv хранят данные выступлений. \n",
    "\n",
    "У них одинаковая структура:\n",
    "- talk_id — идентификатор выступления;\n",
    "- url — ссылка на запись выступления;\n",
    "- title — название выступления;\n",
    "- description — краткое описание;\n",
    "- film_date — дата записи выступления;\n",
    "- duration — длительность в секундах;\n",
    "- views — количество просмотров;\n",
    "- main_tag — основная категория, к которой относится выступление;\n",
    "- speaker_id — уникальный идентификатор автора выступления;\n",
    "- laughter_count — количество раз, когда аудитория смеялась в ходе выступления;\n",
    "- applause_count — количество раз, когда аудитория аплодировала в ходе выступления;\n",
    "- language — язык, на котором велось выступление;\n",
    "- event_id — уникальный идентификатор конференции."
   ]
  },
  {
   "cell_type": "markdown",
   "id": "aadb5108",
   "metadata": {},
   "source": [
    "tableau_project_event_dict.csv — справочник конференций:\n",
    "- conf_id — уникальный идентификатор конференции;\n",
    "- event — название конференции;\n",
    "- country — страна проведения конференции."
   ]
  },
  {
   "cell_type": "markdown",
   "id": "3ece561a",
   "metadata": {},
   "source": [
    "tableau_project_speakers_dict.csv — справочник авторов выступления:\n",
    "- author_id — уникальный идентификатор автора выступления;\n",
    "- speaker_name — имя автора;\n",
    "- speaker_occupation — профессиональная область автора;\n",
    "- speaker_description — описание профессиональной деятельности автора."
   ]
  },
  {
   "cell_type": "markdown",
   "id": "1e572642",
   "metadata": {},
   "source": [
    "## Итоговый результат"
   ]
  },
  {
   "cell_type": "markdown",
   "id": "21cd93fa",
   "metadata": {},
   "source": [
    "Была создана [презентация](https://public.tableau.com/app/profile/sergeeva.mariia/viz/TED_17328952257440/sheet4) на основе этих данных.\n",
    "\n",
    "Содержит в себе:\n",
    "- анализ истории выступлений\n",
    "- анализ тематик выступлений\n",
    "- анализ числа и глубины просмотров выступлений\n",
    "- более детальный анализ предыдущих срезов"
   ]
  }
 ],
 "metadata": {
  "ExecuteTimeLog": [
   {
    "duration": 80,
    "start_time": "2024-12-02T12:57:45.641Z"
   }
  ],
  "hide_input": false,
  "kernelspec": {
   "display_name": "Python 3 (ipykernel)",
   "language": "python",
   "name": "python3"
  },
  "language_info": {
   "codemirror_mode": {
    "name": "ipython",
    "version": 3
   },
   "file_extension": ".py",
   "mimetype": "text/x-python",
   "name": "python",
   "nbconvert_exporter": "python",
   "pygments_lexer": "ipython3",
   "version": "3.11.8"
  },
  "toc": {
   "base_numbering": 1,
   "nav_menu": {},
   "number_sections": true,
   "sideBar": true,
   "skip_h1_title": true,
   "title_cell": "Анализ и визуализация данных конференций TED в Tableau",
   "title_sidebar": "Содержание",
   "toc_cell": true,
   "toc_position": {},
   "toc_section_display": true,
   "toc_window_display": true
  },
  "varInspector": {
   "cols": {
    "lenName": 16,
    "lenType": 16,
    "lenVar": 40
   },
   "kernels_config": {
    "python": {
     "delete_cmd_postfix": "",
     "delete_cmd_prefix": "del ",
     "library": "var_list.py",
     "varRefreshCmd": "print(var_dic_list())"
    },
    "r": {
     "delete_cmd_postfix": ") ",
     "delete_cmd_prefix": "rm(",
     "library": "var_list.r",
     "varRefreshCmd": "cat(var_dic_list()) "
    }
   },
   "types_to_exclude": [
    "module",
    "function",
    "builtin_function_or_method",
    "instance",
    "_Feature"
   ],
   "window_display": false
  }
 },
 "nbformat": 4,
 "nbformat_minor": 5
}
